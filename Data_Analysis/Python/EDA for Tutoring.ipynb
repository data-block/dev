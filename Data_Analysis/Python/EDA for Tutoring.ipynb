{
 "cells": [
  {
   "cell_type": "markdown",
   "metadata": {
    "colab_type": "text",
    "id": "2PFnOh4T9rhK"
   },
   "source": [
    "# 1. sample 데이터 설명 및 분석목표"
   ]
  },
  {
   "cell_type": "markdown",
   "metadata": {
    "colab_type": "text",
    "id": "EJExPbj9BWo1"
   },
   "source": [
    "## 1) 분석목표\n"
   ]
  },
  {
   "cell_type": "markdown",
   "metadata": {
    "colab_type": "text",
    "id": "IIZkpejLBwGW"
   },
   "source": [
    "- **아래의 기간별, 조건별로 현재의 학습 패턴을 분석하여 무엇이 학습에 영향을 미치는지 알고싶다.**\n",
    " - 가장 많은 학습이 일어나는 요일 / 시간대 (수업시간(초)와 수업시작시간을 이용한 빈도데이터 사용)\n",
    " - 가장 적은 학습이 일어나는 요일 / 시간대 (수업시간(초)와 수업시작시간을 이용한 빈도데이터 사용)\n",
    " - 꾸준히 학습하는(1주일에 4일 이상) 집단의 평균 학습 횟수, 수업 시간\n",
    " - (옵션1) : 레벨별 영어 수업 중 Global과 Native 선호도\n",
    " - (옵션2) : 레벨별 수업 지속 시간"
   ]
  },
  {
   "cell_type": "markdown",
   "metadata": {
    "colab_type": "text",
    "id": "B_QWaX0x6o8k"
   },
   "source": [
    "## 2) 데이터 설명\n"
   ]
  },
  {
   "cell_type": "markdown",
   "metadata": {
    "colab_type": "text",
    "id": "CxWPOunp6zgn"
   },
   "source": [
    "- 데이터는 수업이 이루어지는 시점의 정보들에 대한 실제 로그 데이터\n",
    "-  2017/09/01 ~ 2017/12/31 일까지 3개월 동안의 데이터\n",
    "- 칼럼:\n",
    " - 선생님 타입 : 글로벌수업(영어사용) / 네이티브수업(영미권) / chinese(중국어수업) <br>\n",
    " - 과목 : 영어/중국어<br> \n",
    " - 수업시간(초단위) : 수업시작시간부터 끝나는 시간\n",
    " - 수업 시작시간\n",
    "- 데이터양 : 95564(rows) x 6(columns)"
   ]
  },
  {
   "cell_type": "markdown",
   "metadata": {
    "colab_type": "text",
    "id": "IR3OjcMOCfDN"
   },
   "source": [
    "## 3) 추가적으로 필요한 정보들"
   ]
  },
  {
   "cell_type": "markdown",
   "metadata": {
    "colab_type": "text",
    "id": "mGhD_dOqCix2"
   },
   "source": [
    "#### 분석시 예상되는 문제점에서 도출\n",
    "- 사용자별 학습한 영어 레벨\n",
    "- 사용자별 연령대 (대략적으로라도)\n",
    "- 공휴일이 없는 4주치 데이터가 필요할 것 같음(예로 4월)"
   ]
  },
  {
   "cell_type": "markdown",
   "metadata": {
    "colab_type": "text",
    "id": "YPr0h6GZm0o9"
   },
   "source": [
    "## 4) 데이터에 대해 추가 고려해볼 사항들"
   ]
  },
  {
   "cell_type": "markdown",
   "metadata": {
    "colab_type": "text",
    "id": "AGuExnvMm44z"
   },
   "source": [
    "- **튜터의 수익 결정 요인** \n",
    "  - 수업시간은 1200초(20분)가 기본이고 180초(3분)이상 수업했을 때 수업이 이루어졌다고 판단함\n",
    "  - 수업 빈도가 아닌 총 수업 시간에 따라서 분당 수업 원가 존재. 튜터는 한국 및 해외에 거주하는데 주로 해외 현지인임.\n",
    "  \n",
    "- **요일별 분석 시, 이상치 데이터가 섞여 있을 수 있음**\n",
    "  - 추석 연휴, 주중에 하루씩 껴 있는 공휴일의 경우\n",
    "  - 교육기관 측에서 프로모션 등을 진행하여 특정 시기에 수강생들이 몰림\n",
    "  \n",
    "- **시간대별 분석 시, 다른 주요변수와 패턴을 간과할 수 있음**\n",
    "  - 요일의 특성을 배제하고 시간대만 고려 시, 유의미한 차이를 놓칠 수 있음<br>\n",
    "    (ex. 접속빈도가 주중엔 저녁 6시 이후, 주말엔 낮에 몰릴 경우, 요일을 배제하고 시간대만 놓고 보면 전체적으로 고른 분포를 보이겠지만 \n",
    "    실제로는 요일에 따라 분포가 크게 달라짐)\n",
    "  - 편향 가능성: 학생들이 선호하는 튜터가 개인 스케쥴, 현지와 한국 간 시차 등으로 활동하는 시간대가 정해져 있다면? \n",
    "    어쩔수 없이 학생들도 그 시간대로 쏠리지 않을까?\n",
    "  - 시기적 특성에 따라 시간대별 분포가 다를 수 있음 (ex. 분석 기간에 월드컵 기간이 포함된 경우, 경기가 있는 시간대엔 접속 빈도가 급감)\n",
    "  - 데이터가 계절성을 가지고 있음 (ex. 여름/겨울 방학 기간에는 주간 시간대 접속이 급증)\n",
    "\n",
    "- **꾸준한 학습 집단(주당 4일 이상) 위주 분석 시, 변수 선정 기준이 모호할 수 있음.**\n",
    "  - 1주일에 4일이라는 기준의 모호성. 1시간씩 4일 학습자와 3시간씩 3일 학습자라면 후자가 더 상위그룹 아닐까? \n",
    "  - 꾸준한 학습자들은 학습 횟수나 시간대 보다 학습 참여도에 영향을 끼치는 더 중요한 변수가 있을 수 있음 \n",
    "    (ex. 튜터가 누구냐에 따라 학습빈도가 달라질 수도)\n",
    "    \n",
    "- **학생, 교사의 개인사정,  인터넷 오류 등의 문제로 한 학생이 한 선생님과 연이어 여러 번 연결되는 경우가 다수 발견됨**\n",
    "  - 빈도수에 따라 수업의 많고 적음을 판단하기 어려움\n",
    "  - 수업시간에 따라 수업의 많고 적음을 판단하고자 할 땐 같은 학생이 동일한 튜터를 연이어 선택하여 수업한 것을 병합하는 등 \n",
    "    전처리 작업이 필요하다고 판단됨<br><br>\n",
    "    ex)<br>\n",
    "    <동일 학생의 데이터><br>\n",
    "    학생 idx  튜터 idx   튜터타입   수업 시간(초)   수업 시작시간<br>\n",
    "    203736   381   Global   250   2017-11-16 11:25<br>\n",
    "    203736   381   Global   288   2017-11-16 12:00<br>\n",
    "    203736   381   Global   339   2017-11-16 13:22<br>\n",
    "    203736   381   Global   413   2017-11-16 13:28<br>\n",
    "    203736   381   Global   1201   2017-11-17 16:10<br>\n",
    "    203736   381   Global   296   2017-11-17 16:30<br>\n",
    "    203736   381   Global   564   2017-11-23 17:03<br>\n",
    "    203736   381   Global   365   2017-11-23 17:35<br>\n",
    "    203736   381   Global   314   2017-11-24 12:05"
   ]
  },
  {
   "cell_type": "markdown",
   "metadata": {
    "colab_type": "text",
    "id": "YXIyxo3IvUXN"
   },
   "source": [
    "# 2. 한글폰트설정\n",
    "\n"
   ]
  },
  {
   "cell_type": "markdown",
   "metadata": {
    "colab_type": "text",
    "id": "VjxdT9Oivb-R"
   },
   "source": [
    "colaboratory 는 linux ubuntu 서버에서 동작(한글폰트가 설치X)\n",
    "\n",
    "한글폰트를 다운받아서 강제로 지정해야 시각화할때 한글이 깨지지 않음.\n",
    "\n",
    "아래 코드를 실행하면 자동으로 한글을 설치하게 됨.\n",
    "\n",
    "보다 자세한 설명을 원하면 [여기](https://drive.google.com/open?id=1Z4wXJddBppoPF0Bs75r_iL9UqKQup3EE)를 참조."
   ]
  },
  {
   "cell_type": "code",
   "execution_count": 1,
   "metadata": {
    "cellView": "code",
    "colab": {
     "autoexec": {
      "startup": false,
      "wait_interval": 0
     },
     "base_uri": "https://localhost:8080/",
     "height": 323
    },
    "colab_type": "code",
    "executionInfo": {
     "elapsed": 17543,
     "status": "ok",
     "timestamp": 1528009478860,
     "user": {
      "displayName": "Andrew Jang",
      "photoUrl": "//lh6.googleusercontent.com/-lLBjo_ocxMY/AAAAAAAAAAI/AAAAAAAAAAg/1iY2KsL6_As/s50-c-k-no/photo.jpg",
      "userId": "102217605980011964142"
     },
     "user_tz": -540
    },
    "id": "qwbKRFlouCwW",
    "outputId": "4e8f1fc0-5ed1-41c2-9bcb-08b0b41c70ad"
   },
   "outputs": [
    {
     "name": "stdout",
     "output_type": "stream",
     "text": [
      "Reading package lists... Done\n",
      "Building dependency tree       \n",
      "Reading state information... Done\n",
      "The following NEW packages will be installed:\n",
      "  fonts-nanum\n",
      "0 upgraded, 1 newly installed, 0 to remove and 0 not upgraded.\n",
      "Need to get 9,129 kB of archives.\n",
      "After this operation, 27.5 MB of additional disk space will be used.\n",
      "Get:1 http://archive.ubuntu.com/ubuntu artful/main amd64 fonts-nanum all 20161025-1 [9,129 kB]\n",
      "Fetched 9,129 kB in 1s (5,254 kB/s)\n",
      "Selecting previously unselected package fonts-nanum.\n",
      "(Reading database ... 18298 files and directories currently installed.)\n",
      "Preparing to unpack .../fonts-nanum_20161025-1_all.deb ...\n",
      "Unpacking fonts-nanum (20161025-1) ...\n",
      "Setting up fonts-nanum (20161025-1) ...\n",
      "/bin/sh: 1: sudo: not found\n",
      "----------------------------------------\n",
      "한글폰트 설치완료: 런타임을 재실행하세요\n"
     ]
    }
   ],
   "source": [
    "! apt-get install fonts-nanum\n",
    "! sudo fc-cache -fv\n",
    "! cp -rf /usr/share/fonts/truetype/nanum/Nanum* /usr/local/lib/python3.6/dist-packages/matplotlib/mpl-data/fonts/ttf/\n",
    "! rm -rf /content/.cache/matplotlib/*\n",
    "print('-' * 40)\n",
    "print(\"한글폰트 설치완료: 런타임을 재실행하세요\")"
   ]
  },
  {
   "cell_type": "markdown",
   "metadata": {
    "colab_type": "text",
    "id": "_lHRWJzGvyzs"
   },
   "source": [
    "# 3. 구글 드라이브의 데이터 불러오기(goolge api)"
   ]
  },
  {
   "cell_type": "markdown",
   "metadata": {
    "colab_type": "text",
    "id": "193uy4a7v-A2"
   },
   "source": [
    "colaboratory는 local에 있는 파일(즉, 개인PC나 랩탑의 파일)을 그대로 불러올수 없으며,\n",
    "\n",
    "그 파일을 어딘가에 업로드 하여, 웹상에 올라와있는 파일의 url을 입력하던가,\n",
    "\n",
    "구글 드라이브에 데이터 파일을 직접 업로드 한 후, 가져와야함.\n",
    "\n",
    "구글드라이브를 이용하는 경우 구글의 파일공유 정책에 따라 로그인 및 권한 확인 절차가 필요하며,\n",
    "\n",
    "해당사항은 아래와 같이 진행하면 됨.\n",
    "\n",
    "파일을 업로드 하더라도, 무슨 파일을 불러올 지 모르기 때문에\n",
    "\n",
    "file id를 넣어 지정해야함. [여기](https://drive.google.com/open?id=1mdaxfa161UhvgNGKTtmC0gFS1EJpXDru) 를 참고."
   ]
  },
  {
   "cell_type": "code",
   "execution_count": 1,
   "metadata": {
    "colab": {
     "autoexec": {
      "startup": false,
      "wait_interval": 0
     },
     "base_uri": "https://localhost:8080/",
     "height": 34
    },
    "colab_type": "code",
    "executionInfo": {
     "elapsed": 2684,
     "status": "ok",
     "timestamp": 1528009680572,
     "user": {
      "displayName": "Andrew Jang",
      "photoUrl": "//lh6.googleusercontent.com/-lLBjo_ocxMY/AAAAAAAAAAI/AAAAAAAAAAg/1iY2KsL6_As/s50-c-k-no/photo.jpg",
      "userId": "102217605980011964142"
     },
     "user_tz": -540
    },
    "id": "eRf6WPK2wAN-",
    "outputId": "e66f933d-3ed7-4b08-bb56-b0da182f9f79"
   },
   "outputs": [
    {
     "name": "stdout",
     "output_type": "stream",
     "text": [
      "complete\n"
     ]
    }
   ],
   "source": [
    "# for google autorization\n",
    "from google.colab import auth\n",
    "auth.authenticate_user()\n",
    "from googleapiclient.discovery import build\n",
    "drive_service = build('drive', 'v3')\n",
    "\n",
    "\n",
    "# download data to python\n",
    "file_id = '1iFbS6y-etqb1aTB7iGX6kPPlQLA8kkns'           # 여기 이 줄의  ' ' 사이에 file id를 넣어야 합니다.\n",
    "import io\n",
    "from googleapiclient.http import MediaIoBaseDownload\n",
    "request = drive_service.files().get_media(fileId=file_id)\n",
    "downloaded = io.BytesIO()\n",
    "downloader = MediaIoBaseDownload(downloaded, request)\n",
    "done = False\n",
    "while done is False:\n",
    "  _, done = downloader.next_chunk()  \n",
    "downloaded.seek(0)\n",
    "\n",
    "print('complete')"
   ]
  },
  {
   "cell_type": "markdown",
   "metadata": {
    "colab_type": "text",
    "id": "1Z_RlCa8xQ3b"
   },
   "source": [
    "# 4. Import libraries"
   ]
  },
  {
   "cell_type": "markdown",
   "metadata": {
    "colab_type": "text",
    "id": "S_ugSf9JxnLV"
   },
   "source": [
    "제일 처음 해야할 건 분석에 사용할 다양한 라이브러리들을 불러오기"
   ]
  },
  {
   "cell_type": "code",
   "execution_count": 2,
   "metadata": {
    "colab": {
     "autoexec": {
      "startup": false,
      "wait_interval": 0
     },
     "base_uri": "https://localhost:8080/",
     "height": 139
    },
    "colab_type": "code",
    "executionInfo": {
     "elapsed": 3725,
     "status": "ok",
     "timestamp": 1528009813309,
     "user": {
      "displayName": "Andrew Jang",
      "photoUrl": "//lh6.googleusercontent.com/-lLBjo_ocxMY/AAAAAAAAAAI/AAAAAAAAAAg/1iY2KsL6_As/s50-c-k-no/photo.jpg",
      "userId": "102217605980011964142"
     },
     "user_tz": -540
    },
    "id": "Lrn7L11TxfPl",
    "outputId": "45b340a0-135b-4200-be80-bd6f349d65c7"
   },
   "outputs": [
    {
     "name": "stdout",
     "output_type": "stream",
     "text": [
      "Collecting xlrd\n",
      "\u001b[?25l  Downloading https://files.pythonhosted.org/packages/07/e6/e95c4eec6221bfd8528bcc4ea252a850bffcc4be88ebc367e23a1a84b0bb/xlrd-1.1.0-py2.py3-none-any.whl (108kB)\n",
      "\u001b[K    100% |████████████████████████████████| 112kB 4.4MB/s \n",
      "\u001b[?25hInstalling collected packages: xlrd\n",
      "Successfully installed xlrd-1.1.0\n",
      "All libraries are loaded\n"
     ]
    }
   ],
   "source": [
    "# import libraries\n",
    "import pandas as pd\n",
    "import numpy as np\n",
    "import matplotlib.pyplot as plt\n",
    "from matplotlib.pyplot import rc\n",
    "rc('font',family='NanumBarunGothic')\n",
    "import seaborn as sns\n",
    "%matplotlib inline\n",
    "! pip install xlrd          # 엑셀 파일 파싱용 라이브러리, 이 서버에 없으므로 pip를 이용해서 설치하고 import 합시다\n",
    "import xlrd\n",
    "\n",
    "print('All libraries are loaded')"
   ]
  },
  {
   "cell_type": "markdown",
   "metadata": {
    "colab_type": "text",
    "id": "a_vX-2Gwxhyf"
   },
   "source": [
    "# 5. pandas로 데이터 불러오기 및 전처리"
   ]
  },
  {
   "cell_type": "markdown",
   "metadata": {
    "colab_type": "text",
    "id": "p0TZBuAJ2gEt"
   },
   "source": [
    "## 1) 데이터 파싱, 데이터 확인"
   ]
  },
  {
   "cell_type": "markdown",
   "metadata": {
    "colab_type": "text",
    "id": "8i_TiGqb28Nn"
   },
   "source": [
    "분석 목표에 시간대별 분석이 있으므로, 데이터를 time series 데이터로 만들면 편해짐\n",
    "\n",
    "따라서 parsing 할때 아예 칼럼중에 수업시작시간을 index로 만들어 버리게 되면, 자동으로 time series 데이터가 됨\n",
    "\n",
    "자세한 진행은 아래를 확인"
   ]
  },
  {
   "cell_type": "code",
   "execution_count": 0,
   "metadata": {
    "colab": {
     "autoexec": {
      "startup": false,
      "wait_interval": 0
     }
    },
    "colab_type": "code",
    "id": "htb-EGyyUA4F"
   },
   "outputs": [],
   "source": [
    "data = pd.read_excel(downloaded, sheet_name = 0, encoding = 'utf-8', skiprows = 4, usecols = \"B:F\", index_col = '수업 시작시간', parse_date = True)\n",
    "data.head()"
   ]
  },
  {
   "cell_type": "code",
   "execution_count": 21,
   "metadata": {
    "colab": {
     "autoexec": {
      "startup": false,
      "wait_interval": 0
     },
     "base_uri": "https://localhost:8080/",
     "height": 235
    },
    "colab_type": "code",
    "executionInfo": {
     "elapsed": 929,
     "status": "ok",
     "timestamp": 1528012501125,
     "user": {
      "displayName": "Andrew Jang",
      "photoUrl": "//lh6.googleusercontent.com/-lLBjo_ocxMY/AAAAAAAAAAI/AAAAAAAAAAg/1iY2KsL6_As/s50-c-k-no/photo.jpg",
      "userId": "102217605980011964142"
     },
     "user_tz": -540
    },
    "id": "4sqiuaX9mWdm",
    "outputId": "2be7912f-2f88-4730-d03e-5c5b6beb31aa"
   },
   "outputs": [
    {
     "data": {
      "text/html": [
       "<div>\n",
       "<style scoped>\n",
       "    .dataframe tbody tr th:only-of-type {\n",
       "        vertical-align: middle;\n",
       "    }\n",
       "\n",
       "    .dataframe tbody tr th {\n",
       "        vertical-align: top;\n",
       "    }\n",
       "\n",
       "    .dataframe thead th {\n",
       "        text-align: right;\n",
       "    }\n",
       "</style>\n",
       "<table border=\"1\" class=\"dataframe\">\n",
       "  <thead>\n",
       "    <tr style=\"text-align: right;\">\n",
       "      <th></th>\n",
       "      <th>학생 idx</th>\n",
       "      <th>튜터 idx</th>\n",
       "      <th>튜터타입</th>\n",
       "      <th>수업 시간(초)</th>\n",
       "    </tr>\n",
       "    <tr>\n",
       "      <th>수업 시작시간</th>\n",
       "      <th></th>\n",
       "      <th></th>\n",
       "      <th></th>\n",
       "      <th></th>\n",
       "    </tr>\n",
       "  </thead>\n",
       "  <tbody>\n",
       "    <tr>\n",
       "      <th>2017-09-01 00:01:03</th>\n",
       "      <td>122633</td>\n",
       "      <td>530</td>\n",
       "      <td>Native</td>\n",
       "      <td>0.0</td>\n",
       "    </tr>\n",
       "    <tr>\n",
       "      <th>2017-09-01 00:02:42</th>\n",
       "      <td>23545</td>\n",
       "      <td>33082</td>\n",
       "      <td>Global</td>\n",
       "      <td>1201.0</td>\n",
       "    </tr>\n",
       "    <tr>\n",
       "      <th>2017-09-01 00:02:52</th>\n",
       "      <td>48258</td>\n",
       "      <td>31107</td>\n",
       "      <td>Global</td>\n",
       "      <td>1201.0</td>\n",
       "    </tr>\n",
       "    <tr>\n",
       "      <th>2017-09-01 00:06:30</th>\n",
       "      <td>122633</td>\n",
       "      <td>530</td>\n",
       "      <td>Native</td>\n",
       "      <td>1202.0</td>\n",
       "    </tr>\n",
       "    <tr>\n",
       "      <th>2017-09-01 00:06:30</th>\n",
       "      <td>112318</td>\n",
       "      <td>66655</td>\n",
       "      <td>Global</td>\n",
       "      <td>1198.0</td>\n",
       "    </tr>\n",
       "  </tbody>\n",
       "</table>\n",
       "</div>"
      ],
      "text/plain": [
       "                     학생 idx  튜터 idx    튜터타입  수업 시간(초)\n",
       "수업 시작시간                                              \n",
       "2017-09-01 00:01:03  122633     530  Native       0.0\n",
       "2017-09-01 00:02:42   23545   33082  Global    1201.0\n",
       "2017-09-01 00:02:52   48258   31107  Global    1201.0\n",
       "2017-09-01 00:06:30  122633     530  Native    1202.0\n",
       "2017-09-01 00:06:30  112318   66655  Global    1198.0"
      ]
     },
     "execution_count": 21,
     "metadata": {
      "tags": []
     },
     "output_type": "execute_result"
    }
   ],
   "source": [
    "data.head()"
   ]
  },
  {
   "cell_type": "markdown",
   "metadata": {
    "colab_type": "text",
    "id": "tsLVI-mt2nag"
   },
   "source": [
    "## 2) 데이터에 문제는 없는가? : 각 칼럼별 data type 확인하기"
   ]
  },
  {
   "cell_type": "code",
   "execution_count": 4,
   "metadata": {
    "colab": {
     "autoexec": {
      "startup": false,
      "wait_interval": 0
     },
     "base_uri": "https://localhost:8080/",
     "height": 102
    },
    "colab_type": "code",
    "executionInfo": {
     "elapsed": 10252,
     "status": "ok",
     "timestamp": 1528010169430,
     "user": {
      "displayName": "Andrew Jang",
      "photoUrl": "//lh6.googleusercontent.com/-lLBjo_ocxMY/AAAAAAAAAAI/AAAAAAAAAAg/1iY2KsL6_As/s50-c-k-no/photo.jpg",
      "userId": "102217605980011964142"
     },
     "user_tz": -540
    },
    "id": "xtIpWf0ID5yH",
    "outputId": "242beb5e-b587-41d0-df0a-c1c5ecd2f571"
   },
   "outputs": [
    {
     "data": {
      "text/plain": [
       "학생 idx        int64\n",
       "튜터 idx        int64\n",
       "튜터타입         object\n",
       "수업 시간(초)    float64\n",
       "dtype: object"
      ]
     },
     "execution_count": 4,
     "metadata": {
      "tags": []
     },
     "output_type": "execute_result"
    }
   ],
   "source": [
    "df = data.copy()\n",
    "df.dtypes"
   ]
  },
  {
   "cell_type": "markdown",
   "metadata": {
    "colab_type": "text",
    "id": "NkjzqXbl2wv4"
   },
   "source": [
    "## 3) missing value(NaN, Null)가 있는가?"
   ]
  },
  {
   "cell_type": "code",
   "execution_count": 5,
   "metadata": {
    "colab": {
     "autoexec": {
      "startup": false,
      "wait_interval": 0
     },
     "base_uri": "https://localhost:8080/",
     "height": 102
    },
    "colab_type": "code",
    "executionInfo": {
     "elapsed": 890,
     "status": "ok",
     "timestamp": 1528010246972,
     "user": {
      "displayName": "Andrew Jang",
      "photoUrl": "//lh6.googleusercontent.com/-lLBjo_ocxMY/AAAAAAAAAAI/AAAAAAAAAAg/1iY2KsL6_As/s50-c-k-no/photo.jpg",
      "userId": "102217605980011964142"
     },
     "user_tz": -540
    },
    "id": "0qgfpYEYIc4N",
    "outputId": "1601b901-935e-4676-fcac-07fe234da6f6"
   },
   "outputs": [
    {
     "data": {
      "text/plain": [
       "학생 idx         0\n",
       "튜터 idx         0\n",
       "튜터타입           0\n",
       "수업 시간(초)    1605\n",
       "dtype: int64"
      ]
     },
     "execution_count": 5,
     "metadata": {
      "tags": []
     },
     "output_type": "execute_result"
    }
   ],
   "source": [
    "df.isnull().sum()"
   ]
  },
  {
   "cell_type": "markdown",
   "metadata": {
    "colab_type": "text",
    "id": "fPK_0IDo3bp6"
   },
   "source": [
    "## 4) missing value, 날려버리기"
   ]
  },
  {
   "cell_type": "code",
   "execution_count": 6,
   "metadata": {
    "colab": {
     "autoexec": {
      "startup": false,
      "wait_interval": 0
     },
     "base_uri": "https://localhost:8080/",
     "height": 235
    },
    "colab_type": "code",
    "executionInfo": {
     "elapsed": 906,
     "status": "ok",
     "timestamp": 1528010272994,
     "user": {
      "displayName": "Andrew Jang",
      "photoUrl": "//lh6.googleusercontent.com/-lLBjo_ocxMY/AAAAAAAAAAI/AAAAAAAAAAg/1iY2KsL6_As/s50-c-k-no/photo.jpg",
      "userId": "102217605980011964142"
     },
     "user_tz": -540
    },
    "id": "VBYVw7pYIzJ-",
    "outputId": "c0c3571e-a319-4901-eb5a-2e0b9658f1cf"
   },
   "outputs": [
    {
     "data": {
      "text/html": [
       "<div>\n",
       "<style scoped>\n",
       "    .dataframe tbody tr th:only-of-type {\n",
       "        vertical-align: middle;\n",
       "    }\n",
       "\n",
       "    .dataframe tbody tr th {\n",
       "        vertical-align: top;\n",
       "    }\n",
       "\n",
       "    .dataframe thead th {\n",
       "        text-align: right;\n",
       "    }\n",
       "</style>\n",
       "<table border=\"1\" class=\"dataframe\">\n",
       "  <thead>\n",
       "    <tr style=\"text-align: right;\">\n",
       "      <th></th>\n",
       "      <th>학생 idx</th>\n",
       "      <th>튜터 idx</th>\n",
       "      <th>튜터타입</th>\n",
       "      <th>수업 시간(초)</th>\n",
       "    </tr>\n",
       "    <tr>\n",
       "      <th>수업 시작시간</th>\n",
       "      <th></th>\n",
       "      <th></th>\n",
       "      <th></th>\n",
       "      <th></th>\n",
       "    </tr>\n",
       "  </thead>\n",
       "  <tbody>\n",
       "    <tr>\n",
       "      <th>2017-09-01 00:01:03</th>\n",
       "      <td>122633</td>\n",
       "      <td>530</td>\n",
       "      <td>Native</td>\n",
       "      <td>0.0</td>\n",
       "    </tr>\n",
       "    <tr>\n",
       "      <th>2017-09-01 00:02:42</th>\n",
       "      <td>23545</td>\n",
       "      <td>33082</td>\n",
       "      <td>Global</td>\n",
       "      <td>1201.0</td>\n",
       "    </tr>\n",
       "    <tr>\n",
       "      <th>2017-09-01 00:02:52</th>\n",
       "      <td>48258</td>\n",
       "      <td>31107</td>\n",
       "      <td>Global</td>\n",
       "      <td>1201.0</td>\n",
       "    </tr>\n",
       "    <tr>\n",
       "      <th>2017-09-01 00:06:30</th>\n",
       "      <td>122633</td>\n",
       "      <td>530</td>\n",
       "      <td>Native</td>\n",
       "      <td>1202.0</td>\n",
       "    </tr>\n",
       "    <tr>\n",
       "      <th>2017-09-01 00:06:30</th>\n",
       "      <td>112318</td>\n",
       "      <td>66655</td>\n",
       "      <td>Global</td>\n",
       "      <td>1198.0</td>\n",
       "    </tr>\n",
       "  </tbody>\n",
       "</table>\n",
       "</div>"
      ],
      "text/plain": [
       "                     학생 idx  튜터 idx    튜터타입  수업 시간(초)\n",
       "수업 시작시간                                              \n",
       "2017-09-01 00:01:03  122633     530  Native       0.0\n",
       "2017-09-01 00:02:42   23545   33082  Global    1201.0\n",
       "2017-09-01 00:02:52   48258   31107  Global    1201.0\n",
       "2017-09-01 00:06:30  122633     530  Native    1202.0\n",
       "2017-09-01 00:06:30  112318   66655  Global    1198.0"
      ]
     },
     "execution_count": 6,
     "metadata": {
      "tags": []
     },
     "output_type": "execute_result"
    }
   ],
   "source": [
    "df2 = df.copy().dropna()\n",
    "df2.head()"
   ]
  },
  {
   "cell_type": "markdown",
   "metadata": {
    "colab_type": "text",
    "id": "nzbft_3F3iCI"
   },
   "source": [
    "## 5) 데이터 요약: 데이터는 어떠한 형태 파악\n",
    "- 분석 전에 반드시 이렇게 기초통계를 반드시 뽑아야 함."
   ]
  },
  {
   "cell_type": "code",
   "execution_count": 7,
   "metadata": {
    "colab": {
     "autoexec": {
      "startup": false,
      "wait_interval": 0
     },
     "base_uri": "https://localhost:8080/",
     "height": 297
    },
    "colab_type": "code",
    "executionInfo": {
     "elapsed": 2397,
     "status": "ok",
     "timestamp": 1528010298966,
     "user": {
      "displayName": "Andrew Jang",
      "photoUrl": "//lh6.googleusercontent.com/-lLBjo_ocxMY/AAAAAAAAAAI/AAAAAAAAAAg/1iY2KsL6_As/s50-c-k-no/photo.jpg",
      "userId": "102217605980011964142"
     },
     "user_tz": -540
    },
    "id": "tZzmldoBUh_D",
    "outputId": "b5926360-81db-475a-b0d8-ea1bcc3ecdd6"
   },
   "outputs": [
    {
     "data": {
      "text/html": [
       "<div>\n",
       "<style scoped>\n",
       "    .dataframe tbody tr th:only-of-type {\n",
       "        vertical-align: middle;\n",
       "    }\n",
       "\n",
       "    .dataframe tbody tr th {\n",
       "        vertical-align: top;\n",
       "    }\n",
       "\n",
       "    .dataframe thead th {\n",
       "        text-align: right;\n",
       "    }\n",
       "</style>\n",
       "<table border=\"1\" class=\"dataframe\">\n",
       "  <thead>\n",
       "    <tr style=\"text-align: right;\">\n",
       "      <th></th>\n",
       "      <th>학생 idx</th>\n",
       "      <th>튜터 idx</th>\n",
       "      <th>수업 시간(초)</th>\n",
       "    </tr>\n",
       "  </thead>\n",
       "  <tbody>\n",
       "    <tr>\n",
       "      <th>count</th>\n",
       "      <td>93959.000000</td>\n",
       "      <td>93959.000000</td>\n",
       "      <td>93959.000000</td>\n",
       "    </tr>\n",
       "    <tr>\n",
       "      <th>mean</th>\n",
       "      <td>143536.675646</td>\n",
       "      <td>81687.356028</td>\n",
       "      <td>748.914143</td>\n",
       "    </tr>\n",
       "    <tr>\n",
       "      <th>std</th>\n",
       "      <td>76973.835313</td>\n",
       "      <td>67337.012886</td>\n",
       "      <td>540.672849</td>\n",
       "    </tr>\n",
       "    <tr>\n",
       "      <th>min</th>\n",
       "      <td>555.000000</td>\n",
       "      <td>371.000000</td>\n",
       "      <td>0.000000</td>\n",
       "    </tr>\n",
       "    <tr>\n",
       "      <th>25%</th>\n",
       "      <td>71597.000000</td>\n",
       "      <td>24662.000000</td>\n",
       "      <td>94.000000</td>\n",
       "    </tr>\n",
       "    <tr>\n",
       "      <th>50%</th>\n",
       "      <td>155953.000000</td>\n",
       "      <td>62215.000000</td>\n",
       "      <td>902.000000</td>\n",
       "    </tr>\n",
       "    <tr>\n",
       "      <th>75%</th>\n",
       "      <td>196345.000000</td>\n",
       "      <td>159487.000000</td>\n",
       "      <td>1201.000000</td>\n",
       "    </tr>\n",
       "    <tr>\n",
       "      <th>max</th>\n",
       "      <td>324817.000000</td>\n",
       "      <td>306215.000000</td>\n",
       "      <td>2414.000000</td>\n",
       "    </tr>\n",
       "  </tbody>\n",
       "</table>\n",
       "</div>"
      ],
      "text/plain": [
       "              학생 idx         튜터 idx      수업 시간(초)\n",
       "count   93959.000000   93959.000000  93959.000000\n",
       "mean   143536.675646   81687.356028    748.914143\n",
       "std     76973.835313   67337.012886    540.672849\n",
       "min       555.000000     371.000000      0.000000\n",
       "25%     71597.000000   24662.000000     94.000000\n",
       "50%    155953.000000   62215.000000    902.000000\n",
       "75%    196345.000000  159487.000000   1201.000000\n",
       "max    324817.000000  306215.000000   2414.000000"
      ]
     },
     "execution_count": 7,
     "metadata": {
      "tags": []
     },
     "output_type": "execute_result"
    }
   ],
   "source": [
    "df2.describe()"
   ]
  },
  {
   "cell_type": "markdown",
   "metadata": {
    "colab_type": "text",
    "id": "XRyxjrF63vIQ"
   },
   "source": [
    "## 6) 문제점 발견: 수업시간이 0인것도 있다 - 어떻게 할것인가?"
   ]
  },
  {
   "cell_type": "markdown",
   "metadata": {
    "colab_type": "text",
    "id": "6i0jPYIZ4Gnl"
   },
   "source": [
    "수업시간이 180초 미만인 것은 버리기.\n",
    "\n",
    "이 기준은 어떠한 통계적인 기준이 아니라, 현업에서의 경험으로 얻어낸 것."
   ]
  },
  {
   "cell_type": "code",
   "execution_count": 8,
   "metadata": {
    "colab": {
     "autoexec": {
      "startup": false,
      "wait_interval": 0
     },
     "base_uri": "https://localhost:8080/",
     "height": 235
    },
    "colab_type": "code",
    "executionInfo": {
     "elapsed": 4793,
     "status": "ok",
     "timestamp": 1528010458477,
     "user": {
      "displayName": "Andrew Jang",
      "photoUrl": "//lh6.googleusercontent.com/-lLBjo_ocxMY/AAAAAAAAAAI/AAAAAAAAAAg/1iY2KsL6_As/s50-c-k-no/photo.jpg",
      "userId": "102217605980011964142"
     },
     "user_tz": -540
    },
    "id": "3z2l7UjJWyFS",
    "outputId": "337c7745-6586-4a9e-b68d-a8bd140df6b8"
   },
   "outputs": [
    {
     "data": {
      "text/html": [
       "<div>\n",
       "<style scoped>\n",
       "    .dataframe tbody tr th:only-of-type {\n",
       "        vertical-align: middle;\n",
       "    }\n",
       "\n",
       "    .dataframe tbody tr th {\n",
       "        vertical-align: top;\n",
       "    }\n",
       "\n",
       "    .dataframe thead th {\n",
       "        text-align: right;\n",
       "    }\n",
       "</style>\n",
       "<table border=\"1\" class=\"dataframe\">\n",
       "  <thead>\n",
       "    <tr style=\"text-align: right;\">\n",
       "      <th></th>\n",
       "      <th>학생 idx</th>\n",
       "      <th>튜터 idx</th>\n",
       "      <th>튜터타입</th>\n",
       "      <th>수업 시간(초)</th>\n",
       "    </tr>\n",
       "    <tr>\n",
       "      <th>수업 시작시간</th>\n",
       "      <th></th>\n",
       "      <th></th>\n",
       "      <th></th>\n",
       "      <th></th>\n",
       "    </tr>\n",
       "  </thead>\n",
       "  <tbody>\n",
       "    <tr>\n",
       "      <th>2017-09-01 00:02:42</th>\n",
       "      <td>23545</td>\n",
       "      <td>33082</td>\n",
       "      <td>Global</td>\n",
       "      <td>1201.0</td>\n",
       "    </tr>\n",
       "    <tr>\n",
       "      <th>2017-09-01 00:02:52</th>\n",
       "      <td>48258</td>\n",
       "      <td>31107</td>\n",
       "      <td>Global</td>\n",
       "      <td>1201.0</td>\n",
       "    </tr>\n",
       "    <tr>\n",
       "      <th>2017-09-01 00:06:30</th>\n",
       "      <td>122633</td>\n",
       "      <td>530</td>\n",
       "      <td>Native</td>\n",
       "      <td>1202.0</td>\n",
       "    </tr>\n",
       "    <tr>\n",
       "      <th>2017-09-01 00:06:30</th>\n",
       "      <td>112318</td>\n",
       "      <td>66655</td>\n",
       "      <td>Global</td>\n",
       "      <td>1198.0</td>\n",
       "    </tr>\n",
       "    <tr>\n",
       "      <th>2017-09-01 00:09:03</th>\n",
       "      <td>141632</td>\n",
       "      <td>39902</td>\n",
       "      <td>Global</td>\n",
       "      <td>902.0</td>\n",
       "    </tr>\n",
       "  </tbody>\n",
       "</table>\n",
       "</div>"
      ],
      "text/plain": [
       "                     학생 idx  튜터 idx    튜터타입  수업 시간(초)\n",
       "수업 시작시간                                              \n",
       "2017-09-01 00:02:42   23545   33082  Global    1201.0\n",
       "2017-09-01 00:02:52   48258   31107  Global    1201.0\n",
       "2017-09-01 00:06:30  122633     530  Native    1202.0\n",
       "2017-09-01 00:06:30  112318   66655  Global    1198.0\n",
       "2017-09-01 00:09:03  141632   39902  Global     902.0"
      ]
     },
     "execution_count": 8,
     "metadata": {
      "tags": []
     },
     "output_type": "execute_result"
    }
   ],
   "source": [
    "df3 = df2.copy()\n",
    "df3 = df3[df3['수업 시간(초)'] > 180]\n",
    "df3.head()"
   ]
  },
  {
   "cell_type": "code",
   "execution_count": 9,
   "metadata": {
    "colab": {
     "autoexec": {
      "startup": false,
      "wait_interval": 0
     },
     "base_uri": "https://localhost:8080/",
     "height": 297
    },
    "colab_type": "code",
    "executionInfo": {
     "elapsed": 1016,
     "status": "ok",
     "timestamp": 1528010467179,
     "user": {
      "displayName": "Andrew Jang",
      "photoUrl": "//lh6.googleusercontent.com/-lLBjo_ocxMY/AAAAAAAAAAI/AAAAAAAAAAg/1iY2KsL6_As/s50-c-k-no/photo.jpg",
      "userId": "102217605980011964142"
     },
     "user_tz": -540
    },
    "id": "RDyGfaPKXEiy",
    "outputId": "60f3af72-f0dc-4567-a9d0-8a76451b273a"
   },
   "outputs": [
    {
     "data": {
      "text/html": [
       "<div>\n",
       "<style scoped>\n",
       "    .dataframe tbody tr th:only-of-type {\n",
       "        vertical-align: middle;\n",
       "    }\n",
       "\n",
       "    .dataframe tbody tr th {\n",
       "        vertical-align: top;\n",
       "    }\n",
       "\n",
       "    .dataframe thead th {\n",
       "        text-align: right;\n",
       "    }\n",
       "</style>\n",
       "<table border=\"1\" class=\"dataframe\">\n",
       "  <thead>\n",
       "    <tr style=\"text-align: right;\">\n",
       "      <th></th>\n",
       "      <th>학생 idx</th>\n",
       "      <th>튜터 idx</th>\n",
       "      <th>수업 시간(초)</th>\n",
       "    </tr>\n",
       "  </thead>\n",
       "  <tbody>\n",
       "    <tr>\n",
       "      <th>count</th>\n",
       "      <td>67758.000000</td>\n",
       "      <td>67758.000000</td>\n",
       "      <td>67758.000000</td>\n",
       "    </tr>\n",
       "    <tr>\n",
       "      <th>mean</th>\n",
       "      <td>142990.583149</td>\n",
       "      <td>84175.517016</td>\n",
       "      <td>1028.719266</td>\n",
       "    </tr>\n",
       "    <tr>\n",
       "      <th>std</th>\n",
       "      <td>77297.822820</td>\n",
       "      <td>67911.438306</td>\n",
       "      <td>351.966332</td>\n",
       "    </tr>\n",
       "    <tr>\n",
       "      <th>min</th>\n",
       "      <td>555.000000</td>\n",
       "      <td>381.000000</td>\n",
       "      <td>181.000000</td>\n",
       "    </tr>\n",
       "    <tr>\n",
       "      <th>25%</th>\n",
       "      <td>70330.000000</td>\n",
       "      <td>27678.000000</td>\n",
       "      <td>901.000000</td>\n",
       "    </tr>\n",
       "    <tr>\n",
       "      <th>50%</th>\n",
       "      <td>154882.000000</td>\n",
       "      <td>64293.000000</td>\n",
       "      <td>1199.000000</td>\n",
       "    </tr>\n",
       "    <tr>\n",
       "      <th>75%</th>\n",
       "      <td>196089.000000</td>\n",
       "      <td>159994.000000</td>\n",
       "      <td>1202.000000</td>\n",
       "    </tr>\n",
       "    <tr>\n",
       "      <th>max</th>\n",
       "      <td>324817.000000</td>\n",
       "      <td>306215.000000</td>\n",
       "      <td>2414.000000</td>\n",
       "    </tr>\n",
       "  </tbody>\n",
       "</table>\n",
       "</div>"
      ],
      "text/plain": [
       "              학생 idx         튜터 idx      수업 시간(초)\n",
       "count   67758.000000   67758.000000  67758.000000\n",
       "mean   142990.583149   84175.517016   1028.719266\n",
       "std     77297.822820   67911.438306    351.966332\n",
       "min       555.000000     381.000000    181.000000\n",
       "25%     70330.000000   27678.000000    901.000000\n",
       "50%    154882.000000   64293.000000   1199.000000\n",
       "75%    196089.000000  159994.000000   1202.000000\n",
       "max    324817.000000  306215.000000   2414.000000"
      ]
     },
     "execution_count": 9,
     "metadata": {
      "tags": []
     },
     "output_type": "execute_result"
    }
   ],
   "source": [
    "df3.describe()"
   ]
  },
  {
   "cell_type": "markdown",
   "metadata": {
    "colab_type": "text",
    "id": "9UVKP26fziu4"
   },
   "source": [
    "## 7) 문제점 발견2 : 중복되는 데이터는 어떻게 할것인가?"
   ]
  },
  {
   "cell_type": "markdown",
   "metadata": {
    "colab_type": "text",
    "id": "VbX15dh1zrbh"
   },
   "source": [
    "위에 분석 목적 및 데이터 정리 단계에서 동일 ID가 회선이나 개인사정 등으로 여러 번 짧은 시간 들어오는 것으로 확인.\n",
    "\n",
    "count를 하면, 이러한 것들이 누적되어 count됨."
   ]
  },
  {
   "cell_type": "code",
   "execution_count": 10,
   "metadata": {
    "colab": {
     "autoexec": {
      "startup": false,
      "wait_interval": 0
     },
     "base_uri": "https://localhost:8080/",
     "height": 545
    },
    "colab_type": "code",
    "executionInfo": {
     "elapsed": 869,
     "status": "ok",
     "timestamp": 1528011563695,
     "user": {
      "displayName": "Andrew Jang",
      "photoUrl": "//lh6.googleusercontent.com/-lLBjo_ocxMY/AAAAAAAAAAI/AAAAAAAAAAg/1iY2KsL6_As/s50-c-k-no/photo.jpg",
      "userId": "102217605980011964142"
     },
     "user_tz": -540
    },
    "id": "62lCpgYxz6FV",
    "outputId": "8a20f412-0109-43cf-cd9d-e7722313092f"
   },
   "outputs": [
    {
     "data": {
      "text/html": [
       "<div>\n",
       "<style scoped>\n",
       "    .dataframe tbody tr th:only-of-type {\n",
       "        vertical-align: middle;\n",
       "    }\n",
       "\n",
       "    .dataframe tbody tr th {\n",
       "        vertical-align: top;\n",
       "    }\n",
       "\n",
       "    .dataframe thead th {\n",
       "        text-align: right;\n",
       "    }\n",
       "</style>\n",
       "<table border=\"1\" class=\"dataframe\">\n",
       "  <thead>\n",
       "    <tr style=\"text-align: right;\">\n",
       "      <th></th>\n",
       "      <th>학생 idx</th>\n",
       "      <th>튜터 idx</th>\n",
       "      <th>튜터타입</th>\n",
       "      <th>수업 시간(초)</th>\n",
       "    </tr>\n",
       "    <tr>\n",
       "      <th>수업 시작시간</th>\n",
       "      <th></th>\n",
       "      <th></th>\n",
       "      <th></th>\n",
       "      <th></th>\n",
       "    </tr>\n",
       "  </thead>\n",
       "  <tbody>\n",
       "    <tr>\n",
       "      <th>2017-11-06 16:38:57</th>\n",
       "      <td>203736</td>\n",
       "      <td>381</td>\n",
       "      <td>Global</td>\n",
       "      <td>1201.0</td>\n",
       "    </tr>\n",
       "    <tr>\n",
       "      <th>2017-11-09 18:00:56</th>\n",
       "      <td>203736</td>\n",
       "      <td>55471</td>\n",
       "      <td>Global</td>\n",
       "      <td>255.0</td>\n",
       "    </tr>\n",
       "    <tr>\n",
       "      <th>2017-11-14 14:56:50</th>\n",
       "      <td>203736</td>\n",
       "      <td>39902</td>\n",
       "      <td>Global</td>\n",
       "      <td>887.0</td>\n",
       "    </tr>\n",
       "    <tr>\n",
       "      <th>2017-11-16 11:16:40</th>\n",
       "      <td>203736</td>\n",
       "      <td>381</td>\n",
       "      <td>Global</td>\n",
       "      <td>324.0</td>\n",
       "    </tr>\n",
       "    <tr>\n",
       "      <th>2017-11-16 11:25:30</th>\n",
       "      <td>203736</td>\n",
       "      <td>381</td>\n",
       "      <td>Global</td>\n",
       "      <td>250.0</td>\n",
       "    </tr>\n",
       "    <tr>\n",
       "      <th>2017-11-16 12:00:16</th>\n",
       "      <td>203736</td>\n",
       "      <td>381</td>\n",
       "      <td>Global</td>\n",
       "      <td>288.0</td>\n",
       "    </tr>\n",
       "    <tr>\n",
       "      <th>2017-11-16 13:22:29</th>\n",
       "      <td>203736</td>\n",
       "      <td>381</td>\n",
       "      <td>Global</td>\n",
       "      <td>339.0</td>\n",
       "    </tr>\n",
       "    <tr>\n",
       "      <th>2017-11-16 13:28:09</th>\n",
       "      <td>203736</td>\n",
       "      <td>381</td>\n",
       "      <td>Global</td>\n",
       "      <td>413.0</td>\n",
       "    </tr>\n",
       "    <tr>\n",
       "      <th>2017-11-17 16:10:37</th>\n",
       "      <td>203736</td>\n",
       "      <td>381</td>\n",
       "      <td>Global</td>\n",
       "      <td>1201.0</td>\n",
       "    </tr>\n",
       "    <tr>\n",
       "      <th>2017-11-17 16:30:39</th>\n",
       "      <td>203736</td>\n",
       "      <td>381</td>\n",
       "      <td>Global</td>\n",
       "      <td>296.0</td>\n",
       "    </tr>\n",
       "    <tr>\n",
       "      <th>2017-11-23 17:03:53</th>\n",
       "      <td>203736</td>\n",
       "      <td>381</td>\n",
       "      <td>Global</td>\n",
       "      <td>564.0</td>\n",
       "    </tr>\n",
       "    <tr>\n",
       "      <th>2017-11-23 17:35:04</th>\n",
       "      <td>203736</td>\n",
       "      <td>381</td>\n",
       "      <td>Global</td>\n",
       "      <td>365.0</td>\n",
       "    </tr>\n",
       "    <tr>\n",
       "      <th>2017-11-24 12:05:04</th>\n",
       "      <td>203736</td>\n",
       "      <td>381</td>\n",
       "      <td>Global</td>\n",
       "      <td>314.0</td>\n",
       "    </tr>\n",
       "    <tr>\n",
       "      <th>2017-11-24 14:46:49</th>\n",
       "      <td>203736</td>\n",
       "      <td>213688</td>\n",
       "      <td>Global</td>\n",
       "      <td>226.0</td>\n",
       "    </tr>\n",
       "    <tr>\n",
       "      <th>2017-11-27 17:20:17</th>\n",
       "      <td>203736</td>\n",
       "      <td>218853</td>\n",
       "      <td>Native</td>\n",
       "      <td>785.0</td>\n",
       "    </tr>\n",
       "  </tbody>\n",
       "</table>\n",
       "</div>"
      ],
      "text/plain": [
       "                     학생 idx  튜터 idx    튜터타입  수업 시간(초)\n",
       "수업 시작시간                                              \n",
       "2017-11-06 16:38:57  203736     381  Global    1201.0\n",
       "2017-11-09 18:00:56  203736   55471  Global     255.0\n",
       "2017-11-14 14:56:50  203736   39902  Global     887.0\n",
       "2017-11-16 11:16:40  203736     381  Global     324.0\n",
       "2017-11-16 11:25:30  203736     381  Global     250.0\n",
       "2017-11-16 12:00:16  203736     381  Global     288.0\n",
       "2017-11-16 13:22:29  203736     381  Global     339.0\n",
       "2017-11-16 13:28:09  203736     381  Global     413.0\n",
       "2017-11-17 16:10:37  203736     381  Global    1201.0\n",
       "2017-11-17 16:30:39  203736     381  Global     296.0\n",
       "2017-11-23 17:03:53  203736     381  Global     564.0\n",
       "2017-11-23 17:35:04  203736     381  Global     365.0\n",
       "2017-11-24 12:05:04  203736     381  Global     314.0\n",
       "2017-11-24 14:46:49  203736  213688  Global     226.0\n",
       "2017-11-27 17:20:17  203736  218853  Native     785.0"
      ]
     },
     "execution_count": 10,
     "metadata": {
      "tags": []
     },
     "output_type": "execute_result"
    }
   ],
   "source": [
    "dupe_data = df3.copy()\n",
    "dupe_data = dupe_data['2017-11']                   # 특정 날짜만 선택. index를 datetimeindex로 처음에 만들었었죠? 이게 이럴떄 편합니다. 여기서는 11월만 선택해보겠습니다\n",
    "dupe_data[dupe_data['학생 idx'] == 203736]         # 특정 조건의 데이터만 선택. 위 날짜에서 학생 idx가 203736번인것만 선택해봅시다 "
   ]
  },
  {
   "cell_type": "markdown",
   "metadata": {
    "colab_type": "text",
    "id": "bqw81Bt-0atf"
   },
   "source": [
    "11월 한달동안 학생 id 203736 번은 아래와 같은 접속 기록을 남겼음.\n",
    "\n",
    "너무 다양하고 천차만별이라 어떠한 룰을 잡기는 어려워보임.\n",
    "\n",
    "차라리 애당초 수업시간을 180 이하 만을 버리지 말고 기준을 높이는 것(약 600초 전후)이 가장 적절한 해결책으로 판단.\n",
    "\n",
    "이것은 선택하기 나름이므로, 여기서는 이렇게 처리를 하지 않고 중복을 그냥 인정한 상태에서 진행.\n",
    "\n",
    "만약 기준을 바꾸고 싶으면 위에\n",
    "\n",
    "<6) 문제점 발견: 수업시간이 0인것도 있다 - 어떻게 할것인가?> 실행부분에서 180을 원하시는 기준으로 변경하면 됨."
   ]
  },
  {
   "cell_type": "markdown",
   "metadata": {
    "colab_type": "text",
    "id": "-dHnatIeaVhx"
   },
   "source": [
    "# 6. 분석 및 시각화"
   ]
  },
  {
   "cell_type": "markdown",
   "metadata": {
    "colab_type": "text",
    "id": "lcY1A1d-4mXc"
   },
   "source": [
    "다 해볼수는 없고, 일부만"
   ]
  },
  {
   "cell_type": "markdown",
   "metadata": {
    "colab_type": "text",
    "id": "_XS9yYCLah6Z"
   },
   "source": [
    "## 1) 가장 많은 / 적은 학습이 일어나는 시간대\n",
    "\n",
    "- '가장많은 / 적은 학습' 이라는것의 정의가 필요<br>\n",
    "  : 여기서는 단위 시간당 빈도로 학습의 양을 정의\n",
    "  \n",
    "- '시간대' 의 정의가 정확히 필요<br>\n",
    "  : 여기서는 1시간 단위로"
   ]
  },
  {
   "cell_type": "code",
   "execution_count": 11,
   "metadata": {
    "colab": {
     "autoexec": {
      "startup": false,
      "wait_interval": 0
     },
     "base_uri": "https://localhost:8080/",
     "height": 459
    },
    "colab_type": "code",
    "executionInfo": {
     "elapsed": 1050,
     "status": "ok",
     "timestamp": 1528011694706,
     "user": {
      "displayName": "Andrew Jang",
      "photoUrl": "//lh6.googleusercontent.com/-lLBjo_ocxMY/AAAAAAAAAAI/AAAAAAAAAAg/1iY2KsL6_As/s50-c-k-no/photo.jpg",
      "userId": "102217605980011964142"
     },
     "user_tz": -540
    },
    "id": "RyesZXo6barg",
    "outputId": "7daaf213-b6a6-4063-a0c3-0818c510dcb8"
   },
   "outputs": [
    {
     "data": {
      "text/plain": [
       "수업 시작시간\n",
       "0     3653\n",
       "1     1565\n",
       "2      661\n",
       "3      257\n",
       "4      126\n",
       "5      112\n",
       "6      307\n",
       "7      792\n",
       "8     1090\n",
       "9     1049\n",
       "10    1573\n",
       "11    2005\n",
       "12    2216\n",
       "13    2136\n",
       "14    2254\n",
       "15    2560\n",
       "16    2743\n",
       "17    2981\n",
       "18    3196\n",
       "19    4693\n",
       "20    6314\n",
       "21    8445\n",
       "22    9208\n",
       "23    7822\n",
       "Name: 각 시간별 수업빈도, dtype: int64"
      ]
     },
     "execution_count": 11,
     "metadata": {
      "tags": []
     },
     "output_type": "execute_result"
    }
   ],
   "source": [
    "# 1시간 단위로 데이터 재정렬\n",
    "df4 = df3.copy()\n",
    "by_hour = df4['수업 시간(초)'].groupby(df4.index.hour).count()\n",
    "by_hour.name = '각 시간별 수업빈도'\n",
    "by_hour"
   ]
  },
  {
   "cell_type": "code",
   "execution_count": 12,
   "metadata": {
    "colab": {
     "autoexec": {
      "startup": false,
      "wait_interval": 0
     },
     "base_uri": "https://localhost:8080/",
     "height": 331
    },
    "colab_type": "code",
    "executionInfo": {
     "elapsed": 1207,
     "status": "ok",
     "timestamp": 1528011716098,
     "user": {
      "displayName": "Andrew Jang",
      "photoUrl": "//lh6.googleusercontent.com/-lLBjo_ocxMY/AAAAAAAAAAI/AAAAAAAAAAg/1iY2KsL6_As/s50-c-k-no/photo.jpg",
      "userId": "102217605980011964142"
     },
     "user_tz": -540
    },
    "id": "OD6N-vytB6kQ",
    "outputId": "f648428d-7299-4747-a170-a244ab693533"
   },
   "outputs": [
    {
     "name": "stdout",
     "output_type": "stream",
     "text": [
      "가장많은 학습이 일어나는 시간대는 22 ~ 23 시 이며 총  9208 회 발생하였습니다\n",
      "가장적은 학습이 일어나는 시간대는 5 ~ 6 시 이며 총  112 회 발생하였습니다\n"
     ]
    },
    {
     "data": {
      "image/png": "[encoded data removed]",
      "text/plain": [
       "<matplotlib.figure.Figure at 0x7f073483b9b0>"
      ]
     },
     "metadata": {
      "tags": []
     },
     "output_type": "display_data"
    }
   ],
   "source": [
    "# 시각화\n",
    "\n",
    "xlabel, ylabel = '시간(0~23시)', '수업빈도(횟수)'\n",
    "ax = by_hour.plot(figsize = [18,4], fontsize = 11, kind = 'bar', rot = 0)\n",
    "ax.set(title = '각 시간별 수업빈도', xlabel= xlabel, ylabel= ylabel)\n",
    "plt.tight_layout()\n",
    "\n",
    "print('가장많은 학습이 일어나는 시간대는', by_hour.idxmax(),'~', by_hour.idxmax()+1, '시 이며 총 ', by_hour.max(), '회 발생하였습니다')\n",
    "print('가장적은 학습이 일어나는 시간대는', by_hour.idxmin(),'~', by_hour.idxmin()+1, '시 이며 총 ', by_hour.min(), '회 발생하였습니다')"
   ]
  },
  {
   "cell_type": "code",
   "execution_count": 13,
   "metadata": {
    "colab": {
     "autoexec": {
      "startup": false,
      "wait_interval": 0
     },
     "base_uri": "https://localhost:8080/",
     "height": 170
    },
    "colab_type": "code",
    "executionInfo": {
     "elapsed": 694,
     "status": "ok",
     "timestamp": 1528011722631,
     "user": {
      "displayName": "Andrew Jang",
      "photoUrl": "//lh6.googleusercontent.com/-lLBjo_ocxMY/AAAAAAAAAAI/AAAAAAAAAAg/1iY2KsL6_As/s50-c-k-no/photo.jpg",
      "userId": "102217605980011964142"
     },
     "user_tz": -540
    },
    "id": "UtY4QX9lCvMp",
    "outputId": "ce276614-2b79-44fe-fadf-a0d8c7d14e8c"
   },
   "outputs": [
    {
     "data": {
      "text/plain": [
       "count      24.000000\n",
       "mean     2823.250000\n",
       "std      2649.393126\n",
       "min       112.000000\n",
       "25%       984.750000\n",
       "50%      2176.000000\n",
       "75%      3310.250000\n",
       "max      9208.000000\n",
       "Name: 각 시간별 수업빈도, dtype: float64"
      ]
     },
     "execution_count": 13,
     "metadata": {
      "tags": []
     },
     "output_type": "execute_result"
    }
   ],
   "source": [
    "by_hour.describe()"
   ]
  },
  {
   "cell_type": "markdown",
   "metadata": {
    "colab_type": "text",
    "id": "r8vBOv9aRFct"
   },
   "source": [
    "## 2) 가장 많은 / 적은 학습이 일어나는 요일\n",
    "\n",
    "- '가장많은 / 적은 학습' 이라는 것의 정의가 필요<br>\n",
    "  : 여기서는 요일당 학습 빈도로 학습의 양을 정의"
   ]
  },
  {
   "cell_type": "code",
   "execution_count": 14,
   "metadata": {
    "colab": {
     "autoexec": {
      "startup": false,
      "wait_interval": 0
     },
     "base_uri": "https://localhost:8080/",
     "height": 153
    },
    "colab_type": "code",
    "executionInfo": {
     "elapsed": 748,
     "status": "ok",
     "timestamp": 1528011900365,
     "user": {
      "displayName": "Andrew Jang",
      "photoUrl": "//lh6.googleusercontent.com/-lLBjo_ocxMY/AAAAAAAAAAI/AAAAAAAAAAg/1iY2KsL6_As/s50-c-k-no/photo.jpg",
      "userId": "102217605980011964142"
     },
     "user_tz": -540
    },
    "id": "LsyPckFWRScN",
    "outputId": "532433d8-b8c1-4653-8650-00c612a565a7"
   },
   "outputs": [
    {
     "data": {
      "text/plain": [
       "월요일    10578\n",
       "화요일    11038\n",
       "수요일    10685\n",
       "목요일    10519\n",
       "금요일     9659\n",
       "토요일     7560\n",
       "일요일     7719\n",
       "Name: 요일별 수업빈도, dtype: int64"
      ]
     },
     "execution_count": 14,
     "metadata": {
      "tags": []
     },
     "output_type": "execute_result"
    }
   ],
   "source": [
    "df5 = df3.copy()\n",
    "by_weekday = df5['수업 시간(초)'].groupby(df4.index.dayofweek).count()\n",
    "by_weekday.name = '요일별 수업빈도'\n",
    "by_weekday.index = ['월요일', '화요일', '수요일', '목요일', '금요일', '토요일', '일요일']\n",
    "by_weekday"
   ]
  },
  {
   "cell_type": "code",
   "execution_count": 15,
   "metadata": {
    "colab": {
     "autoexec": {
      "startup": false,
      "wait_interval": 0
     },
     "base_uri": "https://localhost:8080/",
     "height": 331
    },
    "colab_type": "code",
    "executionInfo": {
     "elapsed": 1731,
     "status": "ok",
     "timestamp": 1528011905468,
     "user": {
      "displayName": "Andrew Jang",
      "photoUrl": "//lh6.googleusercontent.com/-lLBjo_ocxMY/AAAAAAAAAAI/AAAAAAAAAAg/1iY2KsL6_As/s50-c-k-no/photo.jpg",
      "userId": "102217605980011964142"
     },
     "user_tz": -540
    },
    "id": "FuXFTbQFcedd",
    "outputId": "b8851c32-52af-4242-e0cd-58d3904adc70"
   },
   "outputs": [
    {
     "name": "stdout",
     "output_type": "stream",
     "text": [
      "가장많은 학습이 일어나는 요일은 화요일 이며 총 11038 회 발생하였습니다\n",
      "가장적은 학습이 일어나는 요일은 토요일 이며 총 7560 회 발생하였습니다\n"
     ]
    },
    {
     "data": {
      "image/png": "[encoded data removed]",
      "text/plain": [
       "<matplotlib.figure.Figure at 0x7f07330f86a0>"
      ]
     },
     "metadata": {
      "tags": []
     },
     "output_type": "display_data"
    }
   ],
   "source": [
    "# 시각화\n",
    "\n",
    "xlabel, ylabel = '요일', '수업빈도(횟수)'\n",
    "ax = by_weekday.plot(figsize = [18,4], fontsize = 11, kind = 'bar', rot = 0)\n",
    "ax.set(title = '각 요일별 수업빈도', xlabel= xlabel, ylabel= ylabel)\n",
    "plt.tight_layout()\n",
    "\n",
    "print('가장많은 학습이 일어나는 요일은', by_weekday.idxmax(),'이며 총', by_weekday.max(), '회 발생하였습니다')\n",
    "print('가장적은 학습이 일어나는 요일은', by_weekday.idxmin(),'이며 총', by_weekday.min(), '회 발생하였습니다')"
   ]
  },
  {
   "cell_type": "markdown",
   "metadata": {
    "colab_type": "text",
    "id": "-Y5DG3Lr2g5M"
   },
   "source": [
    "## 3) 꾸준히 학습하는(1주일에 4일 이상) 집단의 평균 학습 횟수, 수업 시간"
   ]
  },
  {
   "cell_type": "code",
   "execution_count": 16,
   "metadata": {
    "colab": {
     "autoexec": {
      "startup": false,
      "wait_interval": 0
     },
     "base_uri": "https://localhost:8080/",
     "height": 235
    },
    "colab_type": "code",
    "executionInfo": {
     "elapsed": 1320,
     "status": "ok",
     "timestamp": 1528012015994,
     "user": {
      "displayName": "Andrew Jang",
      "photoUrl": "//lh6.googleusercontent.com/-lLBjo_ocxMY/AAAAAAAAAAI/AAAAAAAAAAg/1iY2KsL6_As/s50-c-k-no/photo.jpg",
      "userId": "102217605980011964142"
     },
     "user_tz": -540
    },
    "id": "gycRhzZb2sMQ",
    "outputId": "0f534350-f5a5-4edb-fe42-857728684b02"
   },
   "outputs": [
    {
     "data": {
      "text/html": [
       "<div>\n",
       "<style scoped>\n",
       "    .dataframe tbody tr th:only-of-type {\n",
       "        vertical-align: middle;\n",
       "    }\n",
       "\n",
       "    .dataframe tbody tr th {\n",
       "        vertical-align: top;\n",
       "    }\n",
       "\n",
       "    .dataframe thead th {\n",
       "        text-align: right;\n",
       "    }\n",
       "</style>\n",
       "<table border=\"1\" class=\"dataframe\">\n",
       "  <thead>\n",
       "    <tr style=\"text-align: right;\">\n",
       "      <th></th>\n",
       "      <th>학생 idx</th>\n",
       "      <th>튜터 idx</th>\n",
       "      <th>튜터타입</th>\n",
       "      <th>수업 시간(초)</th>\n",
       "      <th>count</th>\n",
       "    </tr>\n",
       "    <tr>\n",
       "      <th>수업 시작시간</th>\n",
       "      <th></th>\n",
       "      <th></th>\n",
       "      <th></th>\n",
       "      <th></th>\n",
       "      <th></th>\n",
       "    </tr>\n",
       "  </thead>\n",
       "  <tbody>\n",
       "    <tr>\n",
       "      <th>2017-09-01 00:02:42</th>\n",
       "      <td>23545</td>\n",
       "      <td>33082</td>\n",
       "      <td>Global</td>\n",
       "      <td>1201.0</td>\n",
       "      <td>1</td>\n",
       "    </tr>\n",
       "    <tr>\n",
       "      <th>2017-09-01 00:02:52</th>\n",
       "      <td>48258</td>\n",
       "      <td>31107</td>\n",
       "      <td>Global</td>\n",
       "      <td>1201.0</td>\n",
       "      <td>1</td>\n",
       "    </tr>\n",
       "    <tr>\n",
       "      <th>2017-09-01 00:06:30</th>\n",
       "      <td>122633</td>\n",
       "      <td>530</td>\n",
       "      <td>Native</td>\n",
       "      <td>1202.0</td>\n",
       "      <td>1</td>\n",
       "    </tr>\n",
       "    <tr>\n",
       "      <th>2017-09-01 00:06:30</th>\n",
       "      <td>112318</td>\n",
       "      <td>66655</td>\n",
       "      <td>Global</td>\n",
       "      <td>1198.0</td>\n",
       "      <td>1</td>\n",
       "    </tr>\n",
       "    <tr>\n",
       "      <th>2017-09-01 00:09:03</th>\n",
       "      <td>141632</td>\n",
       "      <td>39902</td>\n",
       "      <td>Global</td>\n",
       "      <td>902.0</td>\n",
       "      <td>1</td>\n",
       "    </tr>\n",
       "  </tbody>\n",
       "</table>\n",
       "</div>"
      ],
      "text/plain": [
       "                     학생 idx  튜터 idx    튜터타입  수업 시간(초)  count\n",
       "수업 시작시간                                                     \n",
       "2017-09-01 00:02:42   23545   33082  Global    1201.0      1\n",
       "2017-09-01 00:02:52   48258   31107  Global    1201.0      1\n",
       "2017-09-01 00:06:30  122633     530  Native    1202.0      1\n",
       "2017-09-01 00:06:30  112318   66655  Global    1198.0      1\n",
       "2017-09-01 00:09:03  141632   39902  Global     902.0      1"
      ]
     },
     "execution_count": 16,
     "metadata": {
      "tags": []
     },
     "output_type": "execute_result"
    }
   ],
   "source": [
    "df6 = df3.copy()\n",
    "df6['count'] = 1\n",
    "df6.head()"
   ]
  },
  {
   "cell_type": "code",
   "execution_count": 17,
   "metadata": {
    "colab": {
     "autoexec": {
      "startup": false,
      "wait_interval": 0
     },
     "base_uri": "https://localhost:8080/",
     "height": 235
    },
    "colab_type": "code",
    "executionInfo": {
     "elapsed": 20279,
     "status": "ok",
     "timestamp": 1528012047843,
     "user": {
      "displayName": "Andrew Jang",
      "photoUrl": "//lh6.googleusercontent.com/-lLBjo_ocxMY/AAAAAAAAAAI/AAAAAAAAAAg/1iY2KsL6_As/s50-c-k-no/photo.jpg",
      "userId": "102217605980011964142"
     },
     "user_tz": -540
    },
    "id": "JZi12HboGWFz",
    "outputId": "3ac681e1-8592-4493-f6fc-128d5e2f6939"
   },
   "outputs": [
    {
     "data": {
      "text/html": [
       "<div>\n",
       "<style scoped>\n",
       "    .dataframe tbody tr th:only-of-type {\n",
       "        vertical-align: middle;\n",
       "    }\n",
       "\n",
       "    .dataframe tbody tr th {\n",
       "        vertical-align: top;\n",
       "    }\n",
       "\n",
       "    .dataframe thead th {\n",
       "        text-align: right;\n",
       "    }\n",
       "</style>\n",
       "<table border=\"1\" class=\"dataframe\">\n",
       "  <thead>\n",
       "    <tr style=\"text-align: right;\">\n",
       "      <th></th>\n",
       "      <th></th>\n",
       "      <th>수업 시간(초)</th>\n",
       "      <th>count</th>\n",
       "    </tr>\n",
       "    <tr>\n",
       "      <th>학생 idx</th>\n",
       "      <th>수업 시작시간</th>\n",
       "      <th></th>\n",
       "      <th></th>\n",
       "    </tr>\n",
       "  </thead>\n",
       "  <tbody>\n",
       "    <tr>\n",
       "      <th>555</th>\n",
       "      <th>2017-12-10</th>\n",
       "      <td>289.0</td>\n",
       "      <td>1</td>\n",
       "    </tr>\n",
       "    <tr>\n",
       "      <th>646</th>\n",
       "      <th>2017-12-03</th>\n",
       "      <td>1202.0</td>\n",
       "      <td>1</td>\n",
       "    </tr>\n",
       "    <tr>\n",
       "      <th>674</th>\n",
       "      <th>2017-12-31</th>\n",
       "      <td>1202.0</td>\n",
       "      <td>1</td>\n",
       "    </tr>\n",
       "    <tr>\n",
       "      <th rowspan=\"2\" valign=\"top\">713</th>\n",
       "      <th>2017-11-05</th>\n",
       "      <td>1162.0</td>\n",
       "      <td>2</td>\n",
       "    </tr>\n",
       "    <tr>\n",
       "      <th>2017-11-12</th>\n",
       "      <td>NaN</td>\n",
       "      <td>0</td>\n",
       "    </tr>\n",
       "  </tbody>\n",
       "</table>\n",
       "</div>"
      ],
      "text/plain": [
       "                   수업 시간(초)  count\n",
       "학생 idx 수업 시작시간                    \n",
       "555    2017-12-10     289.0      1\n",
       "646    2017-12-03    1202.0      1\n",
       "674    2017-12-31    1202.0      1\n",
       "713    2017-11-05    1162.0      2\n",
       "       2017-11-12       NaN      0"
      ]
     },
     "execution_count": 17,
     "metadata": {
      "tags": []
     },
     "output_type": "execute_result"
    }
   ],
   "source": [
    "df6 = df6[['학생 idx', '수업 시간(초)', 'count']]\n",
    "df7 = df6.copy()\n",
    "df7 = df7.groupby('학생 idx').resample('W').agg({'수업 시간(초)' : 'mean' , 'count' : 'sum'})\n",
    "df7.head()"
   ]
  },
  {
   "cell_type": "code",
   "execution_count": 18,
   "metadata": {
    "colab": {
     "autoexec": {
      "startup": false,
      "wait_interval": 0
     },
     "base_uri": "https://localhost:8080/",
     "height": 2000
    },
    "colab_type": "code",
    "executionInfo": {
     "elapsed": 669,
     "status": "ok",
     "timestamp": 1528012048534,
     "user": {
      "displayName": "Andrew Jang",
      "photoUrl": "//lh6.googleusercontent.com/-lLBjo_ocxMY/AAAAAAAAAAI/AAAAAAAAAAg/1iY2KsL6_As/s50-c-k-no/photo.jpg",
      "userId": "102217605980011964142"
     },
     "user_tz": -540
    },
    "id": "RIES0NAGLdGB",
    "outputId": "c53392a7-8d64-4743-ff84-a74dd0fb73a0"
   },
   "outputs": [
    {
     "data": {
      "text/html": [
       "<div>\n",
       "<style scoped>\n",
       "    .dataframe tbody tr th:only-of-type {\n",
       "        vertical-align: middle;\n",
       "    }\n",
       "\n",
       "    .dataframe tbody tr th {\n",
       "        vertical-align: top;\n",
       "    }\n",
       "\n",
       "    .dataframe thead th {\n",
       "        text-align: right;\n",
       "    }\n",
       "</style>\n",
       "<table border=\"1\" class=\"dataframe\">\n",
       "  <thead>\n",
       "    <tr style=\"text-align: right;\">\n",
       "      <th></th>\n",
       "      <th></th>\n",
       "      <th>수업 시간(초)</th>\n",
       "      <th>count</th>\n",
       "    </tr>\n",
       "    <tr>\n",
       "      <th>학생 idx</th>\n",
       "      <th>수업 시작시간</th>\n",
       "      <th></th>\n",
       "      <th></th>\n",
       "    </tr>\n",
       "  </thead>\n",
       "  <tbody>\n",
       "    <tr>\n",
       "      <th>713</th>\n",
       "      <th>2017-11-19</th>\n",
       "      <td>1200.250000</td>\n",
       "      <td>4</td>\n",
       "    </tr>\n",
       "    <tr>\n",
       "      <th rowspan=\"2\" valign=\"top\">773</th>\n",
       "      <th>2017-10-15</th>\n",
       "      <td>1149.428571</td>\n",
       "      <td>7</td>\n",
       "    </tr>\n",
       "    <tr>\n",
       "      <th>2017-10-22</th>\n",
       "      <td>1200.500000</td>\n",
       "      <td>4</td>\n",
       "    </tr>\n",
       "    <tr>\n",
       "      <th rowspan=\"6\" valign=\"top\">965</th>\n",
       "      <th>2017-11-26</th>\n",
       "      <td>896.000000</td>\n",
       "      <td>4</td>\n",
       "    </tr>\n",
       "    <tr>\n",
       "      <th>2017-12-03</th>\n",
       "      <td>902.000000</td>\n",
       "      <td>9</td>\n",
       "    </tr>\n",
       "    <tr>\n",
       "      <th>2017-12-10</th>\n",
       "      <td>1201.500000</td>\n",
       "      <td>6</td>\n",
       "    </tr>\n",
       "    <tr>\n",
       "      <th>2017-12-17</th>\n",
       "      <td>1014.125000</td>\n",
       "      <td>8</td>\n",
       "    </tr>\n",
       "    <tr>\n",
       "      <th>2017-12-24</th>\n",
       "      <td>862.833333</td>\n",
       "      <td>6</td>\n",
       "    </tr>\n",
       "    <tr>\n",
       "      <th>2017-12-31</th>\n",
       "      <td>721.000000</td>\n",
       "      <td>5</td>\n",
       "    </tr>\n",
       "    <tr>\n",
       "      <th rowspan=\"2\" valign=\"top\">1004</th>\n",
       "      <th>2017-10-01</th>\n",
       "      <td>1105.000000</td>\n",
       "      <td>4</td>\n",
       "    </tr>\n",
       "    <tr>\n",
       "      <th>2017-12-17</th>\n",
       "      <td>1201.500000</td>\n",
       "      <td>4</td>\n",
       "    </tr>\n",
       "    <tr>\n",
       "      <th>1366</th>\n",
       "      <th>2017-09-17</th>\n",
       "      <td>1170.700000</td>\n",
       "      <td>10</td>\n",
       "    </tr>\n",
       "    <tr>\n",
       "      <th rowspan=\"7\" valign=\"top\">1548</th>\n",
       "      <th>2017-10-01</th>\n",
       "      <td>1540.714286</td>\n",
       "      <td>7</td>\n",
       "    </tr>\n",
       "    <tr>\n",
       "      <th>2017-10-22</th>\n",
       "      <td>1463.545455</td>\n",
       "      <td>11</td>\n",
       "    </tr>\n",
       "    <tr>\n",
       "      <th>2017-10-29</th>\n",
       "      <td>1556.400000</td>\n",
       "      <td>10</td>\n",
       "    </tr>\n",
       "    <tr>\n",
       "      <th>2017-11-05</th>\n",
       "      <td>886.250000</td>\n",
       "      <td>4</td>\n",
       "    </tr>\n",
       "    <tr>\n",
       "      <th>2017-11-19</th>\n",
       "      <td>1441.000000</td>\n",
       "      <td>5</td>\n",
       "    </tr>\n",
       "    <tr>\n",
       "      <th>2017-12-17</th>\n",
       "      <td>952.600000</td>\n",
       "      <td>5</td>\n",
       "    </tr>\n",
       "    <tr>\n",
       "      <th>2017-12-24</th>\n",
       "      <td>900.000000</td>\n",
       "      <td>4</td>\n",
       "    </tr>\n",
       "    <tr>\n",
       "      <th>1849</th>\n",
       "      <th>2017-10-01</th>\n",
       "      <td>1198.600000</td>\n",
       "      <td>5</td>\n",
       "    </tr>\n",
       "    <tr>\n",
       "      <th rowspan=\"3\" valign=\"top\">1862</th>\n",
       "      <th>2017-09-10</th>\n",
       "      <td>981.272727</td>\n",
       "      <td>11</td>\n",
       "    </tr>\n",
       "    <tr>\n",
       "      <th>2017-10-08</th>\n",
       "      <td>885.250000</td>\n",
       "      <td>12</td>\n",
       "    </tr>\n",
       "    <tr>\n",
       "      <th>2017-10-15</th>\n",
       "      <td>1071.500000</td>\n",
       "      <td>10</td>\n",
       "    </tr>\n",
       "    <tr>\n",
       "      <th rowspan=\"2\" valign=\"top\">2538</th>\n",
       "      <th>2017-11-12</th>\n",
       "      <td>1018.600000</td>\n",
       "      <td>5</td>\n",
       "    </tr>\n",
       "    <tr>\n",
       "      <th>2017-11-19</th>\n",
       "      <td>1201.142857</td>\n",
       "      <td>7</td>\n",
       "    </tr>\n",
       "    <tr>\n",
       "      <th>2626</th>\n",
       "      <th>2017-10-22</th>\n",
       "      <td>477.200000</td>\n",
       "      <td>5</td>\n",
       "    </tr>\n",
       "    <tr>\n",
       "      <th>2891</th>\n",
       "      <th>2017-10-08</th>\n",
       "      <td>1200.000000</td>\n",
       "      <td>4</td>\n",
       "    </tr>\n",
       "    <tr>\n",
       "      <th rowspan=\"2\" valign=\"top\">3029</th>\n",
       "      <th>2017-09-03</th>\n",
       "      <td>1200.000000</td>\n",
       "      <td>4</td>\n",
       "    </tr>\n",
       "    <tr>\n",
       "      <th>2017-09-10</th>\n",
       "      <td>822.000000</td>\n",
       "      <td>7</td>\n",
       "    </tr>\n",
       "    <tr>\n",
       "      <th>3042</th>\n",
       "      <th>2017-11-26</th>\n",
       "      <td>629.833333</td>\n",
       "      <td>6</td>\n",
       "    </tr>\n",
       "    <tr>\n",
       "      <th>...</th>\n",
       "      <th>...</th>\n",
       "      <td>...</td>\n",
       "      <td>...</td>\n",
       "    </tr>\n",
       "    <tr>\n",
       "      <th rowspan=\"2\" valign=\"top\">308282</th>\n",
       "      <th>2017-12-24</th>\n",
       "      <td>951.333333</td>\n",
       "      <td>6</td>\n",
       "    </tr>\n",
       "    <tr>\n",
       "      <th>2017-12-31</th>\n",
       "      <td>1132.750000</td>\n",
       "      <td>4</td>\n",
       "    </tr>\n",
       "    <tr>\n",
       "      <th>308747</th>\n",
       "      <th>2017-12-31</th>\n",
       "      <td>976.500000</td>\n",
       "      <td>4</td>\n",
       "    </tr>\n",
       "    <tr>\n",
       "      <th>309293</th>\n",
       "      <th>2017-12-31</th>\n",
       "      <td>860.888889</td>\n",
       "      <td>9</td>\n",
       "    </tr>\n",
       "    <tr>\n",
       "      <th>309447</th>\n",
       "      <th>2017-12-31</th>\n",
       "      <td>993.833333</td>\n",
       "      <td>6</td>\n",
       "    </tr>\n",
       "    <tr>\n",
       "      <th>309565</th>\n",
       "      <th>2017-12-31</th>\n",
       "      <td>1029.571429</td>\n",
       "      <td>7</td>\n",
       "    </tr>\n",
       "    <tr>\n",
       "      <th>309871</th>\n",
       "      <th>2017-12-31</th>\n",
       "      <td>1150.500000</td>\n",
       "      <td>6</td>\n",
       "    </tr>\n",
       "    <tr>\n",
       "      <th>311142</th>\n",
       "      <th>2017-12-31</th>\n",
       "      <td>1149.333333</td>\n",
       "      <td>6</td>\n",
       "    </tr>\n",
       "    <tr>\n",
       "      <th>312605</th>\n",
       "      <th>2017-12-31</th>\n",
       "      <td>959.200000</td>\n",
       "      <td>5</td>\n",
       "    </tr>\n",
       "    <tr>\n",
       "      <th>312910</th>\n",
       "      <th>2017-12-31</th>\n",
       "      <td>901.200000</td>\n",
       "      <td>5</td>\n",
       "    </tr>\n",
       "    <tr>\n",
       "      <th>313023</th>\n",
       "      <th>2017-12-31</th>\n",
       "      <td>1137.200000</td>\n",
       "      <td>5</td>\n",
       "    </tr>\n",
       "    <tr>\n",
       "      <th>313130</th>\n",
       "      <th>2017-12-31</th>\n",
       "      <td>750.833333</td>\n",
       "      <td>6</td>\n",
       "    </tr>\n",
       "    <tr>\n",
       "      <th>314322</th>\n",
       "      <th>2017-12-31</th>\n",
       "      <td>791.500000</td>\n",
       "      <td>4</td>\n",
       "    </tr>\n",
       "    <tr>\n",
       "      <th>314426</th>\n",
       "      <th>2017-12-31</th>\n",
       "      <td>847.666667</td>\n",
       "      <td>9</td>\n",
       "    </tr>\n",
       "    <tr>\n",
       "      <th>315541</th>\n",
       "      <th>2017-12-31</th>\n",
       "      <td>899.250000</td>\n",
       "      <td>4</td>\n",
       "    </tr>\n",
       "    <tr>\n",
       "      <th>316012</th>\n",
       "      <th>2017-12-31</th>\n",
       "      <td>1095.500000</td>\n",
       "      <td>4</td>\n",
       "    </tr>\n",
       "    <tr>\n",
       "      <th>316217</th>\n",
       "      <th>2017-12-31</th>\n",
       "      <td>1054.200000</td>\n",
       "      <td>5</td>\n",
       "    </tr>\n",
       "    <tr>\n",
       "      <th>316808</th>\n",
       "      <th>2017-12-31</th>\n",
       "      <td>1092.857143</td>\n",
       "      <td>14</td>\n",
       "    </tr>\n",
       "    <tr>\n",
       "      <th>316946</th>\n",
       "      <th>2017-12-31</th>\n",
       "      <td>1169.700000</td>\n",
       "      <td>10</td>\n",
       "    </tr>\n",
       "    <tr>\n",
       "      <th>317164</th>\n",
       "      <th>2017-12-31</th>\n",
       "      <td>928.800000</td>\n",
       "      <td>20</td>\n",
       "    </tr>\n",
       "    <tr>\n",
       "      <th>318842</th>\n",
       "      <th>2017-12-31</th>\n",
       "      <td>661.400000</td>\n",
       "      <td>5</td>\n",
       "    </tr>\n",
       "    <tr>\n",
       "      <th>319395</th>\n",
       "      <th>2017-12-31</th>\n",
       "      <td>1140.800000</td>\n",
       "      <td>5</td>\n",
       "    </tr>\n",
       "    <tr>\n",
       "      <th>319653</th>\n",
       "      <th>2017-12-31</th>\n",
       "      <td>902.500000</td>\n",
       "      <td>8</td>\n",
       "    </tr>\n",
       "    <tr>\n",
       "      <th>319661</th>\n",
       "      <th>2017-12-31</th>\n",
       "      <td>445.800000</td>\n",
       "      <td>5</td>\n",
       "    </tr>\n",
       "    <tr>\n",
       "      <th>320545</th>\n",
       "      <th>2017-12-31</th>\n",
       "      <td>898.750000</td>\n",
       "      <td>4</td>\n",
       "    </tr>\n",
       "    <tr>\n",
       "      <th>320627</th>\n",
       "      <th>2017-12-31</th>\n",
       "      <td>816.000000</td>\n",
       "      <td>5</td>\n",
       "    </tr>\n",
       "    <tr>\n",
       "      <th>320914</th>\n",
       "      <th>2017-12-31</th>\n",
       "      <td>799.750000</td>\n",
       "      <td>4</td>\n",
       "    </tr>\n",
       "    <tr>\n",
       "      <th>321910</th>\n",
       "      <th>2017-12-31</th>\n",
       "      <td>600.750000</td>\n",
       "      <td>8</td>\n",
       "    </tr>\n",
       "    <tr>\n",
       "      <th>323259</th>\n",
       "      <th>2017-12-31</th>\n",
       "      <td>825.750000</td>\n",
       "      <td>4</td>\n",
       "    </tr>\n",
       "    <tr>\n",
       "      <th>323867</th>\n",
       "      <th>2017-12-31</th>\n",
       "      <td>1126.250000</td>\n",
       "      <td>4</td>\n",
       "    </tr>\n",
       "  </tbody>\n",
       "</table>\n",
       "<p>6269 rows × 2 columns</p>\n",
       "</div>"
      ],
      "text/plain": [
       "                      수업 시간(초)  count\n",
       "학생 idx 수업 시작시간                       \n",
       "713    2017-11-19  1200.250000      4\n",
       "773    2017-10-15  1149.428571      7\n",
       "       2017-10-22  1200.500000      4\n",
       "965    2017-11-26   896.000000      4\n",
       "       2017-12-03   902.000000      9\n",
       "       2017-12-10  1201.500000      6\n",
       "       2017-12-17  1014.125000      8\n",
       "       2017-12-24   862.833333      6\n",
       "       2017-12-31   721.000000      5\n",
       "1004   2017-10-01  1105.000000      4\n",
       "       2017-12-17  1201.500000      4\n",
       "1366   2017-09-17  1170.700000     10\n",
       "1548   2017-10-01  1540.714286      7\n",
       "       2017-10-22  1463.545455     11\n",
       "       2017-10-29  1556.400000     10\n",
       "       2017-11-05   886.250000      4\n",
       "       2017-11-19  1441.000000      5\n",
       "       2017-12-17   952.600000      5\n",
       "       2017-12-24   900.000000      4\n",
       "1849   2017-10-01  1198.600000      5\n",
       "1862   2017-09-10   981.272727     11\n",
       "       2017-10-08   885.250000     12\n",
       "       2017-10-15  1071.500000     10\n",
       "2538   2017-11-12  1018.600000      5\n",
       "       2017-11-19  1201.142857      7\n",
       "2626   2017-10-22   477.200000      5\n",
       "2891   2017-10-08  1200.000000      4\n",
       "3029   2017-09-03  1200.000000      4\n",
       "       2017-09-10   822.000000      7\n",
       "3042   2017-11-26   629.833333      6\n",
       "...                        ...    ...\n",
       "308282 2017-12-24   951.333333      6\n",
       "       2017-12-31  1132.750000      4\n",
       "308747 2017-12-31   976.500000      4\n",
       "309293 2017-12-31   860.888889      9\n",
       "309447 2017-12-31   993.833333      6\n",
       "309565 2017-12-31  1029.571429      7\n",
       "309871 2017-12-31  1150.500000      6\n",
       "311142 2017-12-31  1149.333333      6\n",
       "312605 2017-12-31   959.200000      5\n",
       "312910 2017-12-31   901.200000      5\n",
       "313023 2017-12-31  1137.200000      5\n",
       "313130 2017-12-31   750.833333      6\n",
       "314322 2017-12-31   791.500000      4\n",
       "314426 2017-12-31   847.666667      9\n",
       "315541 2017-12-31   899.250000      4\n",
       "316012 2017-12-31  1095.500000      4\n",
       "316217 2017-12-31  1054.200000      5\n",
       "316808 2017-12-31  1092.857143     14\n",
       "316946 2017-12-31  1169.700000     10\n",
       "317164 2017-12-31   928.800000     20\n",
       "318842 2017-12-31   661.400000      5\n",
       "319395 2017-12-31  1140.800000      5\n",
       "319653 2017-12-31   902.500000      8\n",
       "319661 2017-12-31   445.800000      5\n",
       "320545 2017-12-31   898.750000      4\n",
       "320627 2017-12-31   816.000000      5\n",
       "320914 2017-12-31   799.750000      4\n",
       "321910 2017-12-31   600.750000      8\n",
       "323259 2017-12-31   825.750000      4\n",
       "323867 2017-12-31  1126.250000      4\n",
       "\n",
       "[6269 rows x 2 columns]"
      ]
     },
     "execution_count": 18,
     "metadata": {
      "tags": []
     },
     "output_type": "execute_result"
    }
   ],
   "source": [
    "df7 = df7[df7['count'] > 3]\n",
    "df7"
   ]
  },
  {
   "cell_type": "code",
   "execution_count": 19,
   "metadata": {
    "colab": {
     "autoexec": {
      "startup": false,
      "wait_interval": 0
     },
     "base_uri": "https://localhost:8080/",
     "height": 297
    },
    "colab_type": "code",
    "executionInfo": {
     "elapsed": 1641,
     "status": "ok",
     "timestamp": 1528012251612,
     "user": {
      "displayName": "Andrew Jang",
      "photoUrl": "//lh6.googleusercontent.com/-lLBjo_ocxMY/AAAAAAAAAAI/AAAAAAAAAAg/1iY2KsL6_As/s50-c-k-no/photo.jpg",
      "userId": "102217605980011964142"
     },
     "user_tz": -540
    },
    "id": "kX3Wj_AxL41-",
    "outputId": "bad3d7b3-4c67-4f79-bbb0-d49d121d105e"
   },
   "outputs": [
    {
     "data": {
      "text/html": [
       "<div>\n",
       "<style scoped>\n",
       "    .dataframe tbody tr th:only-of-type {\n",
       "        vertical-align: middle;\n",
       "    }\n",
       "\n",
       "    .dataframe tbody tr th {\n",
       "        vertical-align: top;\n",
       "    }\n",
       "\n",
       "    .dataframe thead th {\n",
       "        text-align: right;\n",
       "    }\n",
       "</style>\n",
       "<table border=\"1\" class=\"dataframe\">\n",
       "  <thead>\n",
       "    <tr style=\"text-align: right;\">\n",
       "      <th></th>\n",
       "      <th>수업 시간(초)</th>\n",
       "      <th>count</th>\n",
       "    </tr>\n",
       "  </thead>\n",
       "  <tbody>\n",
       "    <tr>\n",
       "      <th>count</th>\n",
       "      <td>6269.000000</td>\n",
       "      <td>6269.000000</td>\n",
       "    </tr>\n",
       "    <tr>\n",
       "      <th>mean</th>\n",
       "      <td>1022.825729</td>\n",
       "      <td>6.350933</td>\n",
       "    </tr>\n",
       "    <tr>\n",
       "      <th>std</th>\n",
       "      <td>252.460308</td>\n",
       "      <td>3.953461</td>\n",
       "    </tr>\n",
       "    <tr>\n",
       "      <th>min</th>\n",
       "      <td>270.500000</td>\n",
       "      <td>4.000000</td>\n",
       "    </tr>\n",
       "    <tr>\n",
       "      <th>25%</th>\n",
       "      <td>894.250000</td>\n",
       "      <td>4.000000</td>\n",
       "    </tr>\n",
       "    <tr>\n",
       "      <th>50%</th>\n",
       "      <td>1028.250000</td>\n",
       "      <td>5.000000</td>\n",
       "    </tr>\n",
       "    <tr>\n",
       "      <th>75%</th>\n",
       "      <td>1199.500000</td>\n",
       "      <td>7.000000</td>\n",
       "    </tr>\n",
       "    <tr>\n",
       "      <th>max</th>\n",
       "      <td>2402.250000</td>\n",
       "      <td>120.000000</td>\n",
       "    </tr>\n",
       "  </tbody>\n",
       "</table>\n",
       "</div>"
      ],
      "text/plain": [
       "          수업 시간(초)        count\n",
       "count  6269.000000  6269.000000\n",
       "mean   1022.825729     6.350933\n",
       "std     252.460308     3.953461\n",
       "min     270.500000     4.000000\n",
       "25%     894.250000     4.000000\n",
       "50%    1028.250000     5.000000\n",
       "75%    1199.500000     7.000000\n",
       "max    2402.250000   120.000000"
      ]
     },
     "execution_count": 19,
     "metadata": {
      "tags": []
     },
     "output_type": "execute_result"
    }
   ],
   "source": [
    "df7.describe()"
   ]
  },
  {
   "cell_type": "code",
   "execution_count": 0,
   "metadata": {
    "colab": {
     "autoexec": {
      "startup": false,
      "wait_interval": 0
     }
    },
    "colab_type": "code",
    "id": "0nDo-QtkoJk2"
   },
   "outputs": [],
   "source": []
  }
 ],
 "metadata": {
  "colab": {
   "collapsed_sections": [
    "2PFnOh4T9rhK",
    "EJExPbj9BWo1",
    "B_QWaX0x6o8k",
    "IR3OjcMOCfDN",
    "YPr0h6GZm0o9",
    "YXIyxo3IvUXN",
    "_lHRWJzGvyzs",
    "1Z_RlCa8xQ3b",
    "a_vX-2Gwxhyf",
    "p0TZBuAJ2gEt",
    "tsLVI-mt2nag",
    "NkjzqXbl2wv4",
    "fPK_0IDo3bp6",
    "nzbft_3F3iCI",
    "XRyxjrF63vIQ",
    "9UVKP26fziu4",
    "-dHnatIeaVhx",
    "_XS9yYCLah6Z",
    "r8vBOv9aRFct"
   ],
   "default_view": {},
   "name": "기초5기_HS조과제_1주차.ipynb의 사본",
   "provenance": [
    {
     "file_id": "1rvNxhGQc9-Pp8jttzyM9u1DZUe6G6MqG",
     "timestamp": 1528009323493
    }
   ],
   "version": "0.3.2",
   "views": {}
  },
  "kernelspec": {
   "display_name": "Python 3",
   "language": "python",
   "name": "python3"
  },
  "language_info": {
   "codemirror_mode": {
    "name": "ipython",
    "version": 3
   },
   "file_extension": ".py",
   "mimetype": "text/x-python",
   "name": "python",
   "nbconvert_exporter": "python",
   "pygments_lexer": "ipython3",
   "version": "3.6.5"
  }
 },
 "nbformat": 4,
 "nbformat_minor": 1
}
