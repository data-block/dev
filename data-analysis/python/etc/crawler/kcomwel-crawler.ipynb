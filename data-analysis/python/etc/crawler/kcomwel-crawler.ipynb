{
 "cells": [
  {
   "cell_type": "markdown",
   "metadata": {},
   "source": [
    "## 1. Import Libraries"
   ]
  },
  {
   "cell_type": "code",
   "execution_count": null,
   "metadata": {},
   "outputs": [],
   "source": [
    "import pandas as pd\n",
    "import numpy as np\n",
    "import requests\n",
    "from bs4 import BeautifulSoup\n",
    "\n",
    "import time\n",
    "from time import strftime"
   ]
  },
  {
   "cell_type": "markdown",
   "metadata": {},
   "source": [
    "## 2. Requests Server & Check Response"
   ]
  },
  {
   "cell_type": "code",
   "execution_count": null,
   "metadata": {},
   "outputs": [],
   "source": [
    "%%time\n",
    "flag = \"2\"\n",
    "# searchValue = \"1370383911\"\n",
    "# branch = \"2130\"\n",
    "searchValue = \"2098149915\"\n",
    "branch = \"2070\"\n",
    "url = \"https://www.kcomwel.or.kr/kcomwel/paym/insu/srch.jsp?confirmyn=Y&flag\" + flag + \"&type=saeopja_drno&searchValue=\" + searchValue + \"&branch=\" + branch\n",
    "resp = requests.get(url)\n",
    "print(resp)"
   ]
  },
  {
   "cell_type": "markdown",
   "metadata": {},
   "source": [
    "## 3. Check Response Values"
   ]
  },
  {
   "cell_type": "code",
   "execution_count": null,
   "metadata": {},
   "outputs": [],
   "source": [
    "resp = requests.get(\"https://www.kcomwel.or.kr/kcomwel/paym/insu/srch.jsp?flag=2&type=saeopja_drno&searchValue=1370383911&branch=2130\")\n",
    "resp"
   ]
  },
  {
   "cell_type": "code",
   "execution_count": null,
   "metadata": {},
   "outputs": [],
   "source": [
    "dom = BeautifulSoup(resp.text, 'html.parser')"
   ]
  },
  {
   "cell_type": "markdown",
   "metadata": {},
   "source": [
    "### 3-1. Crawl Data 1\n",
    "- Business Number와 0번째 값\n",
    "- 0 : 관리번호"
   ]
  },
  {
   "cell_type": "code",
   "execution_count": null,
   "metadata": {},
   "outputs": [],
   "source": [
    "dom.select('th')[0].text.strip()"
   ]
  },
  {
   "cell_type": "markdown",
   "metadata": {},
   "source": [
    "### 3-2. Crawl Data 2\n",
    "- 0 : 사업장명\n",
    "- 1 : 업종\n",
    "- 2 : 고용 상시 인원수\n",
    "- 3 : 산재 상시 인원수\n",
    "- 4 : 우편번호\n",
    "- 5: 사업장 주소"
   ]
  },
  {
   "cell_type": "markdown",
   "metadata": {},
   "source": [
    "### Q1. list comprehension에서 추가 조건(대입문)을 주고 싶다면? "
   ]
  },
  {
   "cell_type": "code",
   "execution_count": 4,
   "metadata": {},
   "outputs": [
    {
     "data": {
      "text/plain": [
       "[1, 2, 3, 4, 5]"
      ]
     },
     "execution_count": 4,
     "metadata": {},
     "output_type": "execute_result"
    }
   ],
   "source": [
    "count = 0\n",
    "\n",
    "[i for i in range(1, 10) if i <= 5]"
   ]
  },
  {
   "cell_type": "code",
   "execution_count": null,
   "metadata": {},
   "outputs": [],
   "source": [
    "count = 0\n",
    "\n",
    "[i for i in range(1, 10) if count <= 5] # count += 1 을 주고 싶다면?"
   ]
  },
  {
   "cell_type": "code",
   "execution_count": null,
   "metadata": {},
   "outputs": [],
   "source": [
    "count = 0\n",
    "\n",
    "for i in dom.select('td'):\n",
    "    print('-'*30)\n",
    "    print('number: ' + count + i.text.strip)\n",
    "    count += 1"
   ]
  },
  {
   "cell_type": "markdown",
   "metadata": {},
   "source": [
    "## 4. Setting Values\n",
    "### 4-1. Setting 'branch_table'\n",
    "- branch_table : 지사 테이블\n",
    "- keys : 지사번호\n",
    "- values : 지사명\n",
    "- jisa_dict : {지사번호, 지사명}"
   ]
  },
  {
   "cell_type": "code",
   "execution_count": null,
   "metadata": {},
   "outputs": [],
   "source": [
    "branch_table = dom.find('select', attrs={'id':'insu2004'})\n",
    "options = branch_table.find_all('option')\n",
    "values = [op.text for op in options]\n",
    "keys = [op.get('value') for op in options]\n",
    "\n",
    "## 의미 없는 key, value 제거\n",
    "del keys[0]\n",
    "del values[0]"
   ]
  },
  {
   "cell_type": "code",
   "execution_count": null,
   "metadata": {},
   "outputs": [],
   "source": [
    "print(len(keys), len(values))\n",
    "print(keys)\n",
    "print(values)"
   ]
  },
  {
   "cell_type": "code",
   "execution_count": null,
   "metadata": {},
   "outputs": [],
   "source": [
    "jisa_dict = dict(zip(keys, values))\n",
    "print(len(jisa_dict))\n",
    "jisa_dict"
   ]
  },
  {
   "cell_type": "markdown",
   "metadata": {},
   "source": [
    "### 4-2. Load & Reshape Business Number 1"
   ]
  },
  {
   "cell_type": "code",
   "execution_count": null,
   "metadata": {},
   "outputs": [],
   "source": [
    "import csv\n",
    "\n",
    "wrk_list = []\n",
    "f = open('../data/.csv', 'r', encoding='utf-8')\n",
    "rdr = csv.reader(f)\n",
    "\n",
    "for line in rdr:\n",
    "    wrk_list.append(line)\n",
    "f.close()"
   ]
  },
  {
   "cell_type": "code",
   "execution_count": null,
   "metadata": {},
   "outputs": [],
   "source": [
    "wrk_list[:5]"
   ]
  },
  {
   "cell_type": "code",
   "execution_count": null,
   "metadata": {},
   "outputs": [],
   "source": [
    "# Convert list of lists in list\n",
    "str_wrk_list = [''.join(x) for x in wrk_list]\n",
    "print(len(str_wrk_list))\n",
    "str_wrk_list[:5]"
   ]
  },
  {
   "cell_type": "code",
   "execution_count": null,
   "metadata": {},
   "outputs": [],
   "source": [
    "# List comprehension - Convert list of lists in list\n",
    "wrk_no_list = [i.replace('-', '') for i in str_wrk_list if i != '']"
   ]
  },
  {
   "cell_type": "code",
   "execution_count": null,
   "metadata": {},
   "outputs": [],
   "source": [
    "print(len(wrk_no_list))\n",
    "print(wrk_no_list[:5])"
   ]
  },
  {
   "cell_type": "code",
   "execution_count": null,
   "metadata": {},
   "outputs": [],
   "source": [
    "f = lambda wrk_no_list_split, n=3500: [wrk_no_list[i:i+n] for i in range(0, len(wrk_no_list), n)]\n",
    "# f(wrk_no_list)"
   ]
  },
  {
   "cell_type": "code",
   "execution_count": null,
   "metadata": {},
   "outputs": [],
   "source": [
    "print(len(f(wrk_no_list)))\n",
    "print(len(f(wrk_no_list)[0]))\n",
    "print(len(wrk_no_list) / 3500)"
   ]
  },
  {
   "cell_type": "markdown",
   "metadata": {},
   "source": [
    "### 4-3. Test\n",
    "- 피보나치 수열로 증가하게끔 list 생성 후\n",
    "- dataframe 전치하기"
   ]
  },
  {
   "cell_type": "code",
   "execution_count": null,
   "metadata": {},
   "outputs": [],
   "source": [
    "a = [i for i in range(1, 100, 5)]\n",
    "a"
   ]
  },
  {
   "cell_type": "code",
   "execution_count": null,
   "metadata": {},
   "outputs": [],
   "source": [
    "pd.DataFrame(a).T"
   ]
  },
  {
   "cell_type": "markdown",
   "metadata": {},
   "source": [
    "### 4-4. Load & Reshape Business Number 2"
   ]
  },
  {
   "cell_type": "code",
   "execution_count": null,
   "metadata": {},
   "outputs": [],
   "source": [
    "f = open('../data/.txt', 'r')\n",
    "lst = f.readlines()\n",
    "f.close()"
   ]
  },
  {
   "cell_type": "code",
   "execution_count": null,
   "metadata": {},
   "outputs": [],
   "source": [
    "print(len(lst))\n",
    "lst[:10]"
   ]
  },
  {
   "cell_type": "markdown",
   "metadata": {},
   "source": [
    "#### Method 1"
   ]
  },
  {
   "cell_type": "code",
   "execution_count": null,
   "metadata": {},
   "outputs": [],
   "source": [
    "my_lst = []\n",
    "\n",
    "for i in lst:\n",
    "    my_list.append(i.strip())\n",
    "    \n",
    "print(len(my_lst))\n",
    "my_lst[:10]"
   ]
  },
  {
   "cell_type": "markdown",
   "metadata": {},
   "source": [
    "#### Method 2"
   ]
  },
  {
   "cell_type": "code",
   "execution_count": null,
   "metadata": {},
   "outputs": [],
   "source": [
    "my_lst = [i.strip() for i in lst]\n",
    "print(len(my_lst))\n",
    "my_lst[:10]"
   ]
  },
  {
   "cell_type": "code",
   "execution_count": null,
   "metadata": {},
   "outputs": [],
   "source": [
    "f = lambda my_lst, n=500: [my_lst[i:i+n] for i in range(0, len(my_lst), n)]"
   ]
  },
  {
   "cell_type": "markdown",
   "metadata": {},
   "source": [
    "## 5. Definition Crawler"
   ]
  },
  {
   "cell_type": "code",
   "execution_count": null,
   "metadata": {},
   "outputs": [],
   "source": [
    "def get_kcomwel_data(number):\n",
    "    count = 1\n",
    "    result = []\n",
    "    \n",
    "    %%time\n",
    "    start_time = time.time()\n",
    "    now_1 = strftime(\"%y/%m/%d %H:%M:%S\")\n",
    "    print(now_1)\n",
    "    print(\"start_time: \", start_time)\n",
    "    \n",
    "    number = int(number)\n",
    "    my_lst_2 = f(my_lst)[number]\n",
    "    \n",
    "    for wrk_no in my_lst_2:\n",
    "        flag = \"2\"\n",
    "        searchValue = wrk_no\n",
    "        \n",
    "        for branch_no in keys:\n",
    "            url = \"https://www.kcomwel.or.kr/kcomwel/paym/insu/srch.jsp?confirmyn=Y&flag\" + flag + \"&type=saeopja_drno&searchValue=\" + searchValue + \"&branch=\" + branch\n",
    "            resp = requests.get(url)\n",
    "            print('- count: ', count, '/', len(my_lst_2)*67, '...%.2f'%((count/(len(my_lst_2)*67))*100), '%')\n",
    "            count += 1\n",
    "            \n",
    "            dom = BeautifulSoup(resp.text, 'html.parser')\n",
    "            # 관리번호\n",
    "            th_elem_count = len(dom.find_all('th', attrs={'class': 'r-none'}))\n",
    "            th_elem = dom.find_all('th', attrs={'class': 'r-none'})\n",
    "            \n",
    "            td_list = []\n",
    "            # 사업자 번호가 1개 이상일 경우에만 스크래핑 실시\n",
    "            if th_elem_count >= 1:\n",
    "                for el in dom.find_all('td'):\n",
    "                    td_list.append(el.text.split())\n",
    "                    \n",
    "                td_list_modified = td_list\n",
    "                # 업종 전처리\n",
    "                td_list_modified[1] = [','.join(td_list_modified[1]).replace(',', '')]\n",
    "                # 사업장 주소 전처리\n",
    "                td_list_modified[5] = [','.join(td_list_modified[5]).replace(',', '')]\n",
    "                # 지사 전처리\n",
    "                jisa = jisa_dict[branch_no]\n",
    "                td_list_modified.append(jisa)\n",
    "                # 사업자 번호 전처리\n",
    "                td_list_modified.append(searchValue)\n",
    "                # 관리 번호 전처리\n",
    "                for th in th_elem:\n",
    "                    th_text = th.text.split()[2]\n",
    "                    td_list_modified.append(th_text)\n",
    "                result.append(td_list_modified)\n",
    "                \n",
    "            else:\n",
    "                pass\n",
    "            \n",
    "    print()\n",
    "    print(\"-\"*30, \"The End\", \"-\"*30)\n",
    "    print(\"-\"*30, \"%.2f seconds\" %(time.time() - start_time), \"-\"*30)\n",
    "    now_2 = strftime(\"%y/%m/%d %H:%M:%S\")\n",
    "    print(\"-\"*30, now_2,\"-\"*30)\n",
    "    print()\n",
    "    \n",
    "    df = pd.DataFrame(result)\n",
    "#     df.rename(columns=[df.columns[0] :\"사업장명\",\n",
    "#                        df.columns[1]: \"업종\",\n",
    "#                        df.columns[2]: \"고용 상시 인원수\",\n",
    "#                        df.columns[3]: \"산재 상시 인원수\",\n",
    "#                        df.columns[4]: \"우편번호\",\n",
    "#                        df.columns[5]: \"사업장 주소\",\n",
    "#                        df.columns[6]: \"-\",\n",
    "#                        df.columns[7]: \"-\",\n",
    "#                        df.columns[8]: \"지사\",\n",
    "#                        df.columns[9]: \"사업자등록번호\",\n",
    "# #                        df.columns[10]: \"\",\n",
    "# #                        df.columns[11]: \"\",\n",
    "# #                        df.columns[12]: \"\",\n",
    "#                       ], inplace=True)\n",
    "    \n",
    "    print(len(result))\n",
    "    print(df.shape)\n",
    "    return(df)"
   ]
  },
  {
   "cell_type": "code",
   "execution_count": null,
   "metadata": {},
   "outputs": [],
   "source": [
    "from urllib.error import HTTPError\n",
    "\n",
    "def download(i, num_retries=10):\n",
    "    df = pd.DataFrame()\n",
    "    try:\n",
    "        number = i\n",
    "        print(\"Downloading: \", number)\n",
    "        get_data = get_kco_data(number)\n",
    "        df = df.append(get_data, ignore_index=True)\n",
    "        \n",
    "    except HTTPError as e:\n",
    "        print(\"Download Error: \", e.reason)\n",
    "#         df2 = df.append(get_data)\n",
    "#         return df\n",
    "        if num_retries > 0:\n",
    "            if hasattr(e, 'code') and 500 <= e.code < 600:\n",
    "                # 5xx HTTP 오류시 재시도\n",
    "                return download(i, num_retries - 1)   \n",
    "        else:\n",
    "            if hasattr(e, 'code'):\n",
    "                return download(i, num_retries - 1)\n",
    "    return df"
   ]
  },
  {
   "cell_type": "code",
   "execution_count": null,
   "metadata": {},
   "outputs": [],
   "source": [
    "result = download(0)\n",
    "result"
   ]
  },
  {
   "cell_type": "code",
   "execution_count": null,
   "metadata": {},
   "outputs": [],
   "source": [
    "result.to_excel('./kcomwel_business_info({0}_{1}).xlsx'.format(strftime('%y%m%d'), '0'), encoding='utf-8')"
   ]
  },
  {
   "cell_type": "code",
   "execution_count": null,
   "metadata": {},
   "outputs": [],
   "source": []
  }
 ],
 "metadata": {
  "kernelspec": {
   "display_name": "Python 3",
   "language": "python",
   "name": "python3"
  }
 },
 "nbformat": 4,
 "nbformat_minor": 2
}
