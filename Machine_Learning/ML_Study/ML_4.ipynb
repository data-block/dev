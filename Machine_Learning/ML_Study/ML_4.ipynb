{
 "cells": [
  {
   "cell_type": "markdown",
   "metadata": {},
   "source": [
    "# 0. Gradient Descent\n",
    "    - 너무 간단한 알고리즘\n",
    "        - 너무 간단해서 좋은 것들을 합친 기법을 사용한다.\n",
    "        - 대안: Momentum, RMSprop, Ada Gradient ... \n",
    "        - Momentum :  그 전에 몇 개 지점을 가지고 업데이트를 함 ... 효율적으로 local을 빠져 나감\n",
    "        - RMSprop : ?\n",
    "    - 요즘의 대안 : __Adam Optimization__\n",
    "\n",
    "# 1. Logistic Regression\n",
    "### 1-1-1. (review) 1st class : 머신러닝의 원리\n",
    "    - y = wx+b ... __어떻게 업데이트를 시킬 것인가?__\n",
    "        - loss\n",
    "            - (y - y_hat)^2\n",
    "            - y : 실제 output, y_hat : 예측 output\n",
    "        - cost\n",
    "            - 모든 data의 loss를 계산하고 난 다음의 평균(혹은 평균/2)\n",
    "    - __cost가 줄어드는 방향으로 parameter를 미세하게 update함__ (미분방식)\n",
    "    - (cost가 줄어드는 방향으로 parameter를 미세하게 update하다보면)w와 b가 종국에는 실제 output이 비슷해지는 방향으로 update가 될 것\n",
    "    - __ML Training__\n",
    "    \n",
    "### 1-1-2. ML 기본 요약\n",
    "    - y = wx + b\n",
    "    - loss : (y - y_hat)^2\n",
    "    - cost : (mean(all_loss)) / 2\n",
    "    - Cost가 줄어드는 방향으로 Parameter를 미세하게 Update(미분방식)\n",
    "    - 종국에는 w와 b가 실제 output과 비슷해지는 방향으로 Update 됨\n",
    "\n",
    "\n",
    "### 1-2. (review) 2nd & 3rd class : 수치를 예측하는 문제(회귀 문제)\n",
    "#### 1-2-1. 수치를 예측하는 Regression\n",
    "    - 회귀모형의 유례\n",
    "        - 200~300년 전, \"아빠와 아들의 키를 Regress 한다.\"고 주장을 한 사람을 기려서 이름을 붙였다. 실제로는 다르다?\n",
    "\n",
    "#### 1-2-2. 분류 문제를 다루는 Classification\n",
    "    - 신용정보를 넣었는데 대출을 갚을지 안 갚을지 예측하는 모형\n",
    "\n",
    "#### 1-2-3. label에 따른 문제 유형\n",
    "    - input data가 들어 왔는데 label(output)이 붙어있다.\n",
    "    - 그 label에 숫자가 적혀 있으면 회귀 문제, categorical 변수가 있으면 분류 문제\n",
    "        - 정성(정량)적인 걸 예측하고 싶으면 분류 문제\n",
    "\n",
    "#### 1-2-4. 분류 모델을 알면 좋은 것\n",
    "    - ex) Trivago \n",
    "        - 호텔 예약해주는 사이트에서 log data를 모은다.\n",
    "        - '이런 행태를 보이는 사용자는 호텔을 실제로 예약을 한다' 와 '이런 행태를 보이는 사용자는 호텔을 예약하지 않는다'\n",
    "        - 모델에 때려 넣어서 뭐가 완성이 되는 거냐.\n",
    "            - 사용자의 행태가 들어가면 예측 여부가 들어가는 모델이 만들어짐.\n",
    "        - 실제로 호텔을 예약 할지 안 할지를 예측하는 건 별로 쓸모가 없다.\n",
    "        - 그런 것보다 이 사람의 행태를 결정하는 몇 개의 변수가 있는데 어떤 변수가 호텔을 예약하고, 예약하지 않는지 가장 영향을 많이 미치는가를 조사한다.\n",
    "        - Facebook에서 들어온 사람도 있고, Twitter에서 들어온 사람도 있다면...\n",
    "        - Facebook에서 들어온 사람이 예약을 훨씬 더 많이 한다면, 트위터에 들어간 광고비를 빼서 페이스북에 넣는다.\n",
    "        - (마케팅 기법에 적용하는데)그걸 그로스 해킹이라고 부른다.\n",
    "    - 분류 모델은 쓸 수 있는 가능성이 무궁무진하다.\n",
    "\n",
    "#### 1-2-5-1. 회귀와 분류의 차이점\n",
    "    - (회귀문제) 사고의 흐름 : 모델을 만들고, loss를 계산하고, cost를 구해서 parameter를 업데이트 한다.\n",
    "        - 분류 모형의 경우에도 마찬가지다. 똑같이 작동한다. 근데 쓰이는 machine이나 loss의 종류가 달라진다.\n",
    "    - (분류문제) 사고의 흐름 : (사고의 흐름은 비슷하나) 쓰이는 Machine과 loss의 종류가 조금씩 달라진다.\n",
    "\n",
    "    - ex) 집 값이 10억 이상일지, 이하일지 예측하는 모델\n",
    "        - x : area(평수), y: high/low\n",
    "        - input(평수)가 들어갔는데 집값이 높을 것인지에 대한 확률을 뱉어준다.\n",
    "            - input이 들어갔는데 Output이 얼마일지에 대한 확률 ... 이건 회귀/분류 모델 둘 다?\n",
    "        - (classification) 모델 만드는 박스에 필터 하나가 추가된다.\n",
    "        - 모델은 확률을 예측한다.\n",
    "        - P(Y = 고(x)) ?\n",
    "\n",
    "    - 분류문제(Classification)의 확률\n",
    "        - 0 <= Y <= 1\n",
    "            - 예측한 확률의 값이 0~1 사이에 나오게끔 필터를 걸어줘야 한다.\n",
    "    - 회귀문제(Regression)의 확률\n",
    "        - -∞ <= x - w + b <= +∞\n",
    "            - 어떠한 값도 가질 수 있다.\n",
    "\n",
    "#### 1-2-5-2. 회귀와 분류 요약\n",
    "    - 회귀와 분류문제는 사고의 흐름은 비슷하나, 쓰이는 Machine과 loss의 종류가 조금씩 다르다.\n",
    "    - 확률을 예측해주는 모델 (회귀, 분류 둘 다?)\n",
    "        - 회귀문제의 w와 e : -∞ ~ +∞\n",
    "            - 모든 실수를 취함(어떤 수치도 가질 수  있음)\n",
    "        - 분류문제의 w와 e : 0 ~ 1\n",
    "            - filter를 걸어서 나타내줘야 함.\n",
    "\n",
    "#### 1-2-6-1. 회귀/분류 모델의 loss\n",
    "    - (어떻게 확률을 가질 것인지에 대한 논의는 나중에하고) 확률을 예측하는 모델을 만들었다면 loss는 어떻게 계산할 것인가?\n",
    "    - 모델에 평수를 넣어줬는데 집값이 높은 카테고리에 속할 확률이 0.8이라고 모델이 알려줬다.\n",
    "        - 실제로는 집값이 낮은 카테고리에 속했다면 ... 잘못하고 있다는 것.\n",
    "    - loss는 모델이 얼마나 잘못 예측하고 있는지를 정량화해서 나타내주는 지표\n",
    "    - 회귀문제였다면...\n",
    "        - (예측값이 120, 실제값이 100인 경우)\n",
    "        - (y - y_hat)^2\n",
    "            - loss = (100 - 120)^2\n",
    "    - 모델이 얼마나 잘못하고 있는지를 정량적으로 어떻게 나타낼 것인가?\n",
    "        - (loss를 정량적으로 계산하는 법을 알았다면...)\n",
    "        - 모든 데이터에 대해서 다 loss를 구해서, cost를 만들어서 parameter를 update하면 된다.\n",
    "\n",
    "#### 1-2-6-2. 분류 문제를 할 때 알아야 할 두 가지\n",
    "    - 1) 분류 문제를 할 때, 모델 자체가 어떻게 바뀌는가?\n",
    "    - 2) 그 모델이 확률 값을 내뱉어줬는데, 그 확률 값에 대한 loss를 어떤 식으로 정의할 것인가?\n",
    "    \n",
    "#### 1-2-6-3. Train / Validation / Test (2번째 시간을 떠올리면서)\n",
    "    - 회귀(Regression)모델\n",
    "        - Training Set으로 Model을 Training시키고, Validation Set으로 Model을 선택하고, 마지막으로 Test Set으로 모델을 평가하는 과정\n",
    "        - Validation Set에 대한 성능\n",
    "            - Validation Error : Training Error 계산하듯이\n",
    "                - (y - y_hat) ^2\n",
    "                \n",
    "    - 분류(Classification) 모델\n",
    "        - 모델이 얼마나 잘 하고 있는지 알려주는 지표 : 정밀도(정확도, 재현율, 스코어)\n",
    "            - 모델이 예측했는데, Validation Set에 있는 집 값으로 미루어 봤을 때, 이 집이 높은 카테고리에 속할 확률이 0.8이라고 함\n",
    "                - 근데 실제로 높았으면, 얼마나 잘하고 있는지 측정하는 지표가 필요하다.\n",
    "                - 근데 Regression에서 loss를 정의하는 방식과는 다르다.\n",
    "            - (모델이 예측했다면, 높은 카테고리 확률이 0.8이라고 했는데 맞췄다면) 어떤 지표를 가지고 CV를 할 것이냐?\n",
    "            \n",
    "#### 1-2-6-4. off-the-shelf Model  (3번째 시간을 떠올리면서)\n",
    "    - Descision Tree / Random Forest / Descision Tree Model\n",
    "        - Tree Based Model은 회귀 문제와 분류모델을 푸는데 간단하게 쓸 수 있다.\n",
    "            - 장점 1 : 성능이 좋다.\n",
    "            - 장점 2 : 어떤 문제에도 쉽게 적용이 가능하다.\n",
    "            - loss를 정했으면, 그 loss를 최소화하는 방향으로 Descision Tree를 내릴 수 있다.\n",
    "                - (회귀문제) cost값을 최소화하는데 Grdient Descent가 아니라 다른 알고리즘을 썼다.\n",
    "\n",
    "        - Hotel log data analysis할 때, Random Forest와 Boosting Model을 섞어서 쓴다.\n",
    "            - Neural Network는 성능이 좋지 않다.\n",
    "            \n",
    "### 1-3. Affine Transformation & Activation Function\n",
    "    - 확률을 예측해주는 (Training Set으로 훈련시킨)모형이 있다고 상정하고, 그 모델의 Validation Error를 어떻게 측정할 것인가?(23:10)\n",
    "        - 1) Affine Transformation\n",
    "            - x(input)에다가 숫자를 곱해서(w) 상수를 더하는(b) 과정을 변환시키는 것을 칭하는 말.\n",
    "            - wx + b\n",
    "            \n",
    "        - 2) Activaion Function\n",
    "            - w를 곱하고 b를 더하는 것까지 하는 건, 모든 실수(-∞ ~ +∞)다.\n",
    "            - 그러니까 우리는 확률 값을 예측하는 모형을 만들고 싶으니까\n",
    "            - 범위를 0~1까지로 좁혀주는 filter가 필요하다.\n",
    "            - Affine Transformation을 하고, 거기에 Activation Function을 적용하는 과정을 반복적으로 하는 Model이 Deep Learning\n",
    "            - y = wx + b + filter를 적용하는 걸 Activation Function\n",
    "            - 이렇게 훈련시킨 모델은 확률 값을 뱉어야 한다.\n",
    "\n",
    "### 1-4. 분류모델의 Validation(성능측정) : F-score\n",
    "<img src = \"https://photos-5.dropbox.com/t/2/AAD__vGT4WB0PMk6pMVjz2bpYHM7xtwP1Bw-oU-gZhuVjg/12/848258672/jpeg/32x32/3/1528473600/0/2/IMG_1079.JPG/EPDS_JsJGG0gAigC/MIUYoIty4aZU3h_GtNI8mN0ILf_69iDy7zhmTOaNRig?dl=0&size=2048x1536&size_mode=3\">\n",
    "- [table](https://docs.google.com/spreadsheets/d/1-CrDhoAi7v2nsrFc4L4vwrl-ePEjamE5dcYdFObnv00/edit#gid=0)\n",
    "\n",
    "    - ex) 파산여부를 예측하는 모델\n",
    "        - y : 그 사람이 파산할 확률\n",
    "        - 예측 기준\n",
    "            - y_hat > 0.5 = 파산 o\n",
    "            - y_hat < 0.5 = 파산 X\n",
    "        - 가정 : \"개인정보를 넣었는데 파산한 확률이 0.8이라면, 파산한다고 친다.\"\n",
    "\n",
    "        - 모델 성능 측정 기준\n",
    "            - 모델의 성능을 판단하려면, Validation Error같은 것이 필요하다.\n",
    "            - Training Set으로 훈련시킨 모델이 Validation Set에 의해서 얼마나 잘하고 있는지 지표를 알아야 한다.\n",
    "            - 그 지표를 표에서 끄집어 내야 하는데, 얼마나 잘하고 있는지 숫자 하나가 필요하다.\n",
    "            - 어떻게 하나로 취합할 수 있을까?\n",
    "\n",
    "<img src = \"https://photos-1.dropbox.com/t/2/AACMX2QDbQWSg8fc5hej8yMfacf43B178EDpLlAzs0KA4g/12/848258672/png/32x32/3/1528484400/0/2/Screenshot%202018-06-08%2023.57.24.png/EPDS_JsJGHEgAigC/K7a9HlG4FhUj3qXlFyXbg9hhgnQ5WwxHrWsIpWqxjT4?dl=0&preserve_transparency=1&size=2048x1536&size_mode=3\">\n",
    "\n",
    "#### 1-4-1. Accuracy\n",
    "    - 예측값과 실제값으로 표를 만든다.\n",
    "    - 4가지 경우의 수가 생김\n",
    "        - TP : Positive - True Positive\n",
    "        - FP : Positive - False Positive (Type1 Error)\n",
    "        - TN : Negative - True Negative \n",
    "        - FN : Negative - False Negative (Type2 Error)\n",
    "\n",
    "    - Accuracy란, 4개를 다 더해서 잘한 것을 나눠서 비율로 보겠다는 것이다.\n",
    "        - (1000+120) / (1000+120+200+500)\n",
    "        \n",
    "    - 허나, 일반적으로 Accuracy는 좋은 방법이 아니다.\n",
    "        - ex) 암 환자 예측\n",
    "        - 암 검사를 받으러 들어왔는데, 들어오는 사람들을 다 암이 아니라고 예측했다.\n",
    "        - 의사가 양성이라고 예측한 사람은 0명이다. 실제로 1000명이 들어왔는데 2명이 암이었다면...\n",
    "        \n",
    "<img src=\"https://photos-2.dropbox.com/t/2/AADUjWOVYgMwPoExVqimVR4r3G_JXbOMU1fTWDwyUrCMJg/12/848258672/png/32x32/3/1528488000/0/2/Screenshot%202018-06-09%2000.06.01.png/EPDS_JsJGHIgAigC/a5lLay_dRCrwYgf3PKdYcIGghunsTzs3v4jSPHbscFo?dl=0&preserve_transparency=1&size=2048x1536&size_mode=3\">\n",
    "\n",
    "    - 정확도를 성능 평가의 지표로 삼기에는 문제가 있다.\n",
    "        - Accracy 공식에 따르면 정확도가 99.8%(998 / 1000)가 된다.\n",
    "        - 정확도가 99.8%라서 훌륭한 의사라고 얘기할 수는 없다.\n",
    "        \n",
    "    - Positive와 Negative의 비율이 1:1 정도로 균일하다면 Accuracy를 쓸 수 있다.\n",
    "        - 허나 균등하지 않은 경우가 대부분이다.\n",
    "        - 파산하는 사람보다 파산하지 않는 사람이 더 많으니까 Accuracy를 그대로 쓰기에는 무리가 있다.\n",
    "        \n",
    "    - 다른 지표가 필요하다.\n",
    "    \n",
    "#### 1-4-2. Precision & Recall\n",
    "    - 1) Precision (정밀도)\n",
    "        - TP / TP + FP\n",
    "            - 120 / 320\t\t\n",
    "    - 2) Recall (재현율)\n",
    "        - TP / TP + FN\n",
    "            - 120 / (120+500)\n",
    "\n",
    "    - Precision과 Recall 중 어떤 게 중요한지는 다루는 데이터에 따라 다르다.\n",
    "    \n",
    "        - ex 1) 파산 예측 모형\t\t\t\t\n",
    "            - 파산할 지, 파산하지 않을지에 대한 모형을 만든다면 Precision이 높은 게 좋을까? Recall이 높은 게 좋을까?\t\t\t\t\n",
    "            - Type1 Error를 줄이는 게 중요할지, Type2 Error를 줄이는 게 중요할까?\t\t\t\t\n",
    "\n",
    "            - 이 모형에서는 Precision은 중요하지 않다.\n",
    "                - 돈을 빌려줘야하는데 파산할 거라고 예측해서 돈을 빌려주지 않았는데,\n",
    "                - 파산하든지 안 하든지 돈을 빌려준 게 없으니까 손해를 보는 게 아니다.\n",
    "                \n",
    "            - 이 모형에서는 Recall이 중요하다.\n",
    "                - 근데 파산하지 않을 거라고 예측해서 돈을 빌려줬는데 500명이 파산을 해버린 것은 최악이다(False Negative가 높은 경우).\n",
    "            - 그러니까 이 모델은 좋은 모델이 아니다.\n",
    "\n",
    "        - ex 2) 법관의 죄 판결\n",
    "            - 무죄 추정의 원칙\n",
    "                - 무죄라고 예측했는데 실제로 유죄였던 사람은 상관 없지만, 유죄라고 예측했는데 실제로 무죄인 사람이 있어서는 안 된다.\n",
    "            - 이 경우에는 Precision을 높이는 게 중요하다.\n",
    "\n",
    "#### 1-4-3. F-Beta-Score & F-Score\n",
    "    - Table을 계산했으면, Validation Set을 예측 결과를 정량화 하기 위한 하나의 숫자가 필요하다.\n",
    "        - 정밀도와 재현율이라는 두 개의 숫자를 어떻게 취합할 것인가?\n",
    "        - 그걸 나타내주는 지표가 F-Beta Score(조화평균)다.\n",
    "    - Precision과 Recall을 조화평균낸 것\n",
    "        - P와 R에 얼마만큼의 가중치를 둬서 조화평균을 취할지를 나타내는 숫자가 Beta\n",
    "        - 가중치를 0~1에서 정해야 한다.\n",
    "\n",
    "    - 보통 F-Beta가 아니라 F-1 Score를 많이 쓴다.\n",
    "        - (2 * P * R) / P * R\n",
    "        - Precision과 Recall 의 가중치를 1:1로 둬서 조화평균을 취하자는 것\n",
    "        - 역술평균한 게 조화평균인데, 조화평균분의 1은...\n",
    "    - Precision과 Recall이라는 걸 계산해서 F-Score를 만들자.\n",
    "    - 그리고 이렇게 만든 F-Score를 이 모형이 얼마나 잘하고 있는지의 지표로 사용하자!\n",
    "    \n",
    "\n",
    "#### 1-4-4. 정리\n",
    "<img src=\"https://photos-6.dropbox.com/t/2/AAD1JhWKjdRKdF8Dieal4vSnPOupgtY21ik9a4jFDJ--cQ/12/848258672/jpeg/32x32/3/1528488000/0/2/IMG_9535.JPG/EPDS_JsJGHMgAigC/vsKihWb69ih__iyJxCz684fG-aoU8wQZ-hIrc-_7aHo?dl=0&size=2048x1536&size_mode=3\">\n",
    "    - 첫 번째 모델은 Random Forest Model, 두 번째 모델은 Logistic Regression Model을 사용했다.(42:30)\n",
    "    - Model이 예측한 결과로 Table을 만들었다.\n",
    "    - Model F-Score\t\t\n",
    "        - Model 1 : 0.9\t\t\n",
    "        - Model 2 : 0.8\t\t\n",
    "    - F-Score가 높은 Model 1을 선택함.\t\t\n",
    "    - 이게 Validation을 통해서 분류모델을 선택하는 방법이다.\t\t\n",
    "\t- 그전에는 모델에다 넣어서 표를 만드는 게 아니라 그냥 (all(y - y_hat)^2)/n\n",
    "    - 지금은 그렇게 하는 게 아니라 표로 만들어서 F-Score라는 지표를 뽑아냈다.\n",
    "    - 그렇게 뽑아낸 F-Score라는 지표를 그 모델이 얼마나 잘하고 있는지를 나타내는 지표로 사용하자!\n",
    "\n",
    "- - -\n",
    "> - k-fold cross validation\n",
    ">> - 회귀 모델과 분류모델은 크게 다르지 않다. (45:20)\n",
    ">> - 사진 찍음\n",
    "\n",
    "- 확률을 예측하는 모형을 만들었는데... Cut-off value를 논의해야한다. (48:40)\n",
    "- Sigmoid\n",
    "> - , DL에서도 알아야 하는 개념\n",
    ">> - 맨 마지막 layer에 들어감.\n",
    ">> - simoid는 함수다.\n",
    ">>> - sigmoid(x) =  e의 x승 / (1+ e의 X승)\n",
    ">> - 지수 함수에 0이 들어가면 1이다.\n",
    ">>> - y = 2x (2에 x승)\n",
    ">> - sigmoid(0) = 1/2 ... 1 / (1+1)\n",
    ">> - sigmoid(1억) = 1\n",
    ">> - sigmoid(-1억) = 0\n",
    "\n",
    "- sigmoid를 filter로 쓸 것이다.\n",
    "> - filitering을 씌우는 근간이 deeplearning\n",
    "\n",
    "- logistic regression 모형\n",
    "> - y_hat = sigmoid(wx+b)\n",
    "> - y_hat = 소문자 sigma(wx+b)\n",
    "\n",
    "- 예측한 값이랑 실제 label이 얼마나 잘못 예측하는지 정량적으로 측정 (54:30)\n",
    "> - training 이랑 validation이랑 다르다.\n",
    "> - 얼마나 정량적으로 다른지\n",
    "- 우리는 이진 분류(Binary Classification)에 대해서 하고 있다.\n",
    "> - '예 / 아니오' 두 가지로 나눔\n",
    "> - 그게 아니라면 다중 분류(Multiclass Classfication)가 있다.\n",
    ">> - 개, 고양이, 새 ... 등등\n",
    "> - 그렇기 때문에 확률 값이 하나만 필요하다.\n",
    ">> - 파산을 할지 안 할지 확률 ... 이진분류로 구하는 것(뺴면 되니까)\n",
    "\n",
    "- 미분방정식 풀기(57:30)\n",
    "> - y' = y(1-y)\n",
    "\n",
    "- 질문 (57:30 ~ 59:00)\n",
    "> - roc curve\n",
    "\n",
    "#### 머신러닝을 잘하기 위해 필요한 수학 : 미분 / 행렬\n",
    "- [의사 통계맹](https://www.slideshare.net/cyberdoc73/20130320-lems-colloquium)\n",
    "\n",
    "\n",
    "# 2. one-hot-encoding\n",
    "- 하나만 핫하게 만드는 인코딩\n",
    "> - y(label) = {고양이, 강아지, 햄스터}\n",
    "> - output은 하나고, 종류는 세 개\n",
    "> - 다중공선성 문제\n",
    ">> - 마지막 가변수를 빼준다.\n",
    "\n",
    "- y = {O, X} \n",
    "- logloss(1시간 8분)\n",
    "- 최대우도추정법"
   ]
  },
  {
   "cell_type": "markdown",
   "metadata": {},
   "source": [
    "# 3. 실습\n",
    "- (1시간 24분)\n",
    "- 회귀모형\n",
    "- 분류모형"
   ]
  },
  {
   "cell_type": "code",
   "execution_count": 1,
   "metadata": {},
   "outputs": [],
   "source": [
    "Machine <- function(x, w, b){\n",
    "    \n",
    "    y_pred <- x * w + b\n",
    "    \n",
    "    return(y_pred)\n",
    "    \n",
    "}"
   ]
  },
  {
   "cell_type": "code",
   "execution_count": 2,
   "metadata": {},
   "outputs": [
    {
     "data": {
      "text/html": [
       "5"
      ],
      "text/latex": [
       "5"
      ],
      "text/markdown": [
       "5"
      ],
      "text/plain": [
       "[1] 5"
      ]
     },
     "metadata": {},
     "output_type": "display_data"
    }
   ],
   "source": [
    "Machine(2, 1, 3)"
   ]
  },
  {
   "cell_type": "code",
   "execution_count": null,
   "metadata": {},
   "outputs": [],
   "source": []
  },
  {
   "cell_type": "markdown",
   "metadata": {},
   "source": [
    "- x가 하나의 숫자가 아니어도 3개의 숫자여도 잘 작동한다\n",
    "- x가 1, 2, 3으로 구성된 것이라면...\n",
    "> - c(1,2,3), 2, 1) ... (2, 4, 6) + 1 ... (3, 5, 7)"
   ]
  },
  {
   "cell_type": "code",
   "execution_count": 3,
   "metadata": {
    "collapsed": true
   },
   "outputs": [
    {
     "data": {
      "text/html": [
       "<ol class=list-inline>\n",
       "\t<li>3</li>\n",
       "\t<li>5</li>\n",
       "\t<li>7</li>\n",
       "</ol>\n"
      ],
      "text/latex": [
       "\\begin{enumerate*}\n",
       "\\item 3\n",
       "\\item 5\n",
       "\\item 7\n",
       "\\end{enumerate*}\n"
      ],
      "text/markdown": [
       "1. 3\n",
       "2. 5\n",
       "3. 7\n",
       "\n",
       "\n"
      ],
      "text/plain": [
       "[1] 3 5 7"
      ]
     },
     "metadata": {},
     "output_type": "display_data"
    }
   ],
   "source": [
    "Machine(c(1,2,3), 2, 1)"
   ]
  },
  {
   "cell_type": "code",
   "execution_count": 4,
   "metadata": {},
   "outputs": [],
   "source": [
    "Cost <- function(x, y, w, b){\n",
    "    y_pred <- Machine(x, w, b)\n",
    "\n",
    "    loss <- (y - y_pred)^2\n",
    "    \n",
    "    cost <- mean(loss)\n",
    "    \n",
    "    return(cost)\n",
    "}"
   ]
  },
  {
   "cell_type": "markdown",
   "metadata": {},
   "source": [
    "###  1시간 31분\n",
    "- y = x^2 함수 (x제곱)\n",
    "- x가 얼마나 많이 바뀌느냐\n",
    "\n",
    "- 미분은 접선의 기울기를 구한다는 것이다..."
   ]
  },
  {
   "cell_type": "code",
   "execution_count": 5,
   "metadata": {},
   "outputs": [
    {
     "data": {
      "text/html": [
       "1.0201"
      ],
      "text/latex": [
       "1.0201"
      ],
      "text/markdown": [
       "1.0201"
      ],
      "text/plain": [
       "[1] 1.0201"
      ]
     },
     "metadata": {},
     "output_type": "display_data"
    }
   ],
   "source": [
    "1.01^2"
   ]
  },
  {
   "cell_type": "code",
   "execution_count": 6,
   "metadata": {},
   "outputs": [
    {
     "data": {
      "text/html": [
       "2.01"
      ],
      "text/latex": [
       "2.01"
      ],
      "text/markdown": [
       "2.01"
      ],
      "text/plain": [
       "[1] 2.01"
      ]
     },
     "metadata": {},
     "output_type": "display_data"
    }
   ],
   "source": [
    "(1.01^2 - 1^2)/(0.01)"
   ]
  },
  {
   "cell_type": "code",
   "execution_count": 11,
   "metadata": {},
   "outputs": [],
   "source": [
    "Class <- function(x){\n",
    "    y <- x^2 + 2^x + sin(x)\n",
    "    \n",
    "    return(y)\n",
    "}"
   ]
  },
  {
   "cell_type": "code",
   "execution_count": 12,
   "metadata": {},
   "outputs": [
    {
     "data": {
      "text/html": [
       "3.8414709848079"
      ],
      "text/latex": [
       "3.8414709848079"
      ],
      "text/markdown": [
       "3.8414709848079"
      ],
      "text/plain": [
       "[1] 3.841471"
      ]
     },
     "metadata": {},
     "output_type": "display_data"
    }
   ],
   "source": [
    "Class(1)"
   ]
  },
  {
   "cell_type": "code",
   "execution_count": 13,
   "metadata": {},
   "outputs": [
    {
     "data": {
      "text/html": [
       "3.93719599235567"
      ],
      "text/latex": [
       "3.93719599235567"
      ],
      "text/markdown": [
       "3.93719599235567"
      ],
      "text/plain": [
       "[1] 3.937196"
      ]
     },
     "metadata": {},
     "output_type": "display_data"
    }
   ],
   "source": [
    "(Class(1 + 0.01) - Class(1)) / (0.01)"
   ]
  },
  {
   "cell_type": "code",
   "execution_count": null,
   "metadata": {},
   "outputs": [],
   "source": []
  },
  {
   "cell_type": "markdown",
   "metadata": {},
   "source": [
    "- 1시간 40분\n",
    "- 우리가 가지고 있는 w를 0.001만큼 증가시키겠다는 것\n",
    "- w를 그대로 뒀을 때의 cost 값을 빼야지\n",
    "- 도함수 / (0.001)\n",
    "> - 비율을 측정시키기 위해서\n",
    "- w를 조금만 키울 경우, 0.001늘어났을 때 양수라는 소리는 \n",
    "\n",
    "- 비율 = (바꾼 값 - 원래 값) / (늘린 값)\n",
    "- 그렇게 업데이트 시킨 w, b를 뱉자"
   ]
  },
  {
   "cell_type": "code",
   "execution_count": 14,
   "metadata": {},
   "outputs": [],
   "source": [
    "Trainer <- function(x, y, w, b, step){\n",
    "    dw <- (Cost(x, y, w + 0.001, b) - Cost(x, y, w, b)) / (0.001)\n",
    "    db <- (Cost(x, y, w, b + 0.001) - Cost(x, y, w, b)) / (0.001)\n",
    "    \n",
    "    w <- w - step * dw\n",
    "    b <- b - step * db\n",
    "    \n",
    "    return(c(w, b))\n",
    "    \n",
    "}"
   ]
  },
  {
   "cell_type": "code",
   "execution_count": 15,
   "metadata": {},
   "outputs": [],
   "source": [
    "x <- rnorm(20)\n",
    "y <- 2 * x + 1 + rnorm(20) * 0.01"
   ]
  },
  {
   "cell_type": "code",
   "execution_count": 16,
   "metadata": {},
   "outputs": [
    {
     "data": {
      "text/html": [
       "<ol class=list-inline>\n",
       "\t<li>2.59287698863895</li>\n",
       "\t<li>0.0461659759032805</li>\n",
       "\t<li>0.565286785030083</li>\n",
       "\t<li>-0.239317391307926</li>\n",
       "\t<li>1.30930082688915</li>\n",
       "\t<li>-0.101994359538178</li>\n",
       "\t<li>-1.36095308239872</li>\n",
       "\t<li>-1.50834732092967</li>\n",
       "\t<li>-0.114755860190741</li>\n",
       "\t<li>-2.04169543250788</li>\n",
       "\t<li>-0.243936213994032</li>\n",
       "\t<li>0.0646386173869091</li>\n",
       "\t<li>0.23803496053663</li>\n",
       "\t<li>0.546442363731555</li>\n",
       "\t<li>0.818682582957949</li>\n",
       "\t<li>2.29222876850017</li>\n",
       "\t<li>-0.500466676143774</li>\n",
       "\t<li>-2.31348124635547</li>\n",
       "\t<li>-0.635406266500596</li>\n",
       "\t<li>0.379740540281711</li>\n",
       "</ol>\n"
      ],
      "text/latex": [
       "\\begin{enumerate*}\n",
       "\\item 2.59287698863895\n",
       "\\item 0.0461659759032805\n",
       "\\item 0.565286785030083\n",
       "\\item -0.239317391307926\n",
       "\\item 1.30930082688915\n",
       "\\item -0.101994359538178\n",
       "\\item -1.36095308239872\n",
       "\\item -1.50834732092967\n",
       "\\item -0.114755860190741\n",
       "\\item -2.04169543250788\n",
       "\\item -0.243936213994032\n",
       "\\item 0.0646386173869091\n",
       "\\item 0.23803496053663\n",
       "\\item 0.546442363731555\n",
       "\\item 0.818682582957949\n",
       "\\item 2.29222876850017\n",
       "\\item -0.500466676143774\n",
       "\\item -2.31348124635547\n",
       "\\item -0.635406266500596\n",
       "\\item 0.379740540281711\n",
       "\\end{enumerate*}\n"
      ],
      "text/markdown": [
       "1. 2.59287698863895\n",
       "2. 0.0461659759032805\n",
       "3. 0.565286785030083\n",
       "4. -0.239317391307926\n",
       "5. 1.30930082688915\n",
       "6. -0.101994359538178\n",
       "7. -1.36095308239872\n",
       "8. -1.50834732092967\n",
       "9. -0.114755860190741\n",
       "10. -2.04169543250788\n",
       "11. -0.243936213994032\n",
       "12. 0.0646386173869091\n",
       "13. 0.23803496053663\n",
       "14. 0.546442363731555\n",
       "15. 0.818682582957949\n",
       "16. 2.29222876850017\n",
       "17. -0.500466676143774\n",
       "18. -2.31348124635547\n",
       "19. -0.635406266500596\n",
       "20. 0.379740540281711\n",
       "\n",
       "\n"
      ],
      "text/plain": [
       " [1]  2.59287699  0.04616598  0.56528679 -0.23931739  1.30930083 -0.10199436\n",
       " [7] -1.36095308 -1.50834732 -0.11475586 -2.04169543 -0.24393621  0.06463862\n",
       "[13]  0.23803496  0.54644236  0.81868258  2.29222877 -0.50046668 -2.31348125\n",
       "[19] -0.63540627  0.37974054"
      ]
     },
     "metadata": {},
     "output_type": "display_data"
    },
    {
     "data": {
      "text/html": [
       "<ol class=list-inline>\n",
       "\t<li>6.17804160377159</li>\n",
       "\t<li>1.09758394335895</li>\n",
       "\t<li>2.13529501322537</li>\n",
       "\t<li>0.52882245356058</li>\n",
       "\t<li>3.62703992582061</li>\n",
       "\t<li>0.796577127767862</li>\n",
       "\t<li>-1.71389329685663</li>\n",
       "\t<li>-2.02149910761474</li>\n",
       "\t<li>0.7625074969896</li>\n",
       "\t<li>-3.08180070266842</li>\n",
       "\t<li>0.514941674914088</li>\n",
       "\t<li>1.12048583807803</li>\n",
       "\t<li>1.47731070820239</li>\n",
       "\t<li>2.08735238985062</li>\n",
       "\t<li>2.64051610688336</li>\n",
       "\t<li>5.57013271644864</li>\n",
       "\t<li>-0.000937759439475</li>\n",
       "\t<li>-3.63606090636224</li>\n",
       "\t<li>-0.281267759313526</li>\n",
       "\t<li>1.75070937991967</li>\n",
       "</ol>\n"
      ],
      "text/latex": [
       "\\begin{enumerate*}\n",
       "\\item 6.17804160377159\n",
       "\\item 1.09758394335895\n",
       "\\item 2.13529501322537\n",
       "\\item 0.52882245356058\n",
       "\\item 3.62703992582061\n",
       "\\item 0.796577127767862\n",
       "\\item -1.71389329685663\n",
       "\\item -2.02149910761474\n",
       "\\item 0.7625074969896\n",
       "\\item -3.08180070266842\n",
       "\\item 0.514941674914088\n",
       "\\item 1.12048583807803\n",
       "\\item 1.47731070820239\n",
       "\\item 2.08735238985062\n",
       "\\item 2.64051610688336\n",
       "\\item 5.57013271644864\n",
       "\\item -0.000937759439475\n",
       "\\item -3.63606090636224\n",
       "\\item -0.281267759313526\n",
       "\\item 1.75070937991967\n",
       "\\end{enumerate*}\n"
      ],
      "text/markdown": [
       "1. 6.17804160377159\n",
       "2. 1.09758394335895\n",
       "3. 2.13529501322537\n",
       "4. 0.52882245356058\n",
       "5. 3.62703992582061\n",
       "6. 0.796577127767862\n",
       "7. -1.71389329685663\n",
       "8. -2.02149910761474\n",
       "9. 0.7625074969896\n",
       "10. -3.08180070266842\n",
       "11. 0.514941674914088\n",
       "12. 1.12048583807803\n",
       "13. 1.47731070820239\n",
       "14. 2.08735238985062\n",
       "15. 2.64051610688336\n",
       "16. 5.57013271644864\n",
       "17. -0.000937759439475\n",
       "18. -3.63606090636224\n",
       "19. -0.281267759313526\n",
       "20. 1.75070937991967\n",
       "\n",
       "\n"
      ],
      "text/plain": [
       " [1]  6.1780416038  1.0975839434  2.1352950132  0.5288224536  3.6270399258\n",
       " [6]  0.7965771278 -1.7138932969 -2.0214991076  0.7625074970 -3.0818007027\n",
       "[11]  0.5149416749  1.1204858381  1.4773107082  2.0873523899  2.6405161069\n",
       "[16]  5.5701327164 -0.0009377594 -3.6360609064 -0.2812677593  1.7507093799"
      ]
     },
     "metadata": {},
     "output_type": "display_data"
    }
   ],
   "source": [
    "x\n",
    "y"
   ]
  },
  {
   "cell_type": "code",
   "execution_count": 18,
   "metadata": {},
   "outputs": [
    {
     "data": {
      "image/png": "[encoded data removed]",
      "text/plain": [
       "plot without title"
      ]
     },
     "metadata": {},
     "output_type": "display_data"
    }
   ],
   "source": [
    "plot(x, y, cex=19)"
   ]
  },
  {
   "cell_type": "code",
   "execution_count": 20,
   "metadata": {},
   "outputs": [
    {
     "data": {
      "text/html": [
       "<ol class=list-inline>\n",
       "\t<li>1.02938421870597</li>\n",
       "\t<li>0.0197488122865463</li>\n",
       "</ol>\n"
      ],
      "text/latex": [
       "\\begin{enumerate*}\n",
       "\\item 1.02938421870597\n",
       "\\item 0.0197488122865463\n",
       "\\end{enumerate*}\n"
      ],
      "text/markdown": [
       "1. 1.02938421870597\n",
       "2. 0.0197488122865463\n",
       "\n",
       "\n"
      ],
      "text/plain": [
       "[1] 1.02938422 0.01974881"
      ]
     },
     "metadata": {},
     "output_type": "display_data"
    }
   ],
   "source": [
    "# 1시간 44분\n",
    "w <- 1\n",
    "b <- 0\n",
    "\n",
    "Trainer(x, y, w, b, 0.01)"
   ]
  },
  {
   "cell_type": "code",
   "execution_count": 21,
   "metadata": {},
   "outputs": [
    {
     "data": {
      "text/html": [
       "<ol class=list-inline>\n",
       "\t<li>1.05790187797785</li>\n",
       "\t<li>0.0391087295512715</li>\n",
       "</ol>\n"
      ],
      "text/latex": [
       "\\begin{enumerate*}\n",
       "\\item 1.05790187797785\n",
       "\\item 0.0391087295512715\n",
       "\\end{enumerate*}\n"
      ],
      "text/markdown": [
       "1. 1.05790187797785\n",
       "2. 0.0391087295512715\n",
       "\n",
       "\n"
      ],
      "text/plain": [
       "[1] 1.05790188 0.03910873"
      ]
     },
     "metadata": {},
     "output_type": "display_data"
    }
   ],
   "source": [
    "Trainer(x, y, 1.02938421870597, 0.0197488122865463, 0.01)"
   ]
  },
  {
   "cell_type": "code",
   "execution_count": 36,
   "metadata": {},
   "outputs": [
    {
     "name": "stdout",
     "output_type": "stream",
     "text": [
      "[1] 2.001475\n",
      "[1] 0.9991729\n"
     ]
    }
   ],
   "source": [
    "# 1시간 47분\n",
    "\n",
    "x <- rnorm(20)\n",
    "y <- 2 * x + 1 + rnorm(20) * 0.01\n",
    "\n",
    "w <- 1\n",
    "b <- 0\n",
    "\n",
    "passes <- 0\n",
    "\n",
    "repeat{\n",
    "    passes <- passes + 1\n",
    "    \n",
    "    temp <- Trainer(x, y, w, b, 0.01)\n",
    "    w <- temp[1]\n",
    "    b <- temp[2]\n",
    "    \n",
    "    if(passes == 1000){break;}\n",
    "}\n",
    "\n",
    "print(w)\n",
    "print(b)"
   ]
  },
  {
   "cell_type": "markdown",
   "metadata": {},
   "source": [
    "#### 2시간 50초"
   ]
  },
  {
   "cell_type": "markdown",
   "metadata": {},
   "source": [
    "for 문 (1시간 57분)"
   ]
  },
  {
   "cell_type": "code",
   "execution_count": 37,
   "metadata": {},
   "outputs": [
    {
     "name": "stdout",
     "output_type": "stream",
     "text": [
      "[1] 1\n",
      "[1] 2\n",
      "[1] 3\n",
      "[1] 4\n"
     ]
    }
   ],
   "source": [
    "for(i in c(1, 2, 3, 4)){\n",
    "    \n",
    "    print(i)\n",
    "\n",
    "}"
   ]
  },
  {
   "cell_type": "code",
   "execution_count": 40,
   "metadata": {
    "scrolled": true
   },
   "outputs": [
    {
     "name": "stdout",
     "output_type": "stream",
     "text": [
      "[1] 5050\n"
     ]
    }
   ],
   "source": [
    "sum <- 0\n",
    "\n",
    "for(i in 1:100){\n",
    "    \n",
    "    sum <- sum + i\n",
    "\n",
    "}\n",
    "print(sum)"
   ]
  },
  {
   "cell_type": "code",
   "execution_count": 42,
   "metadata": {},
   "outputs": [
    {
     "name": "stdout",
     "output_type": "stream",
     "text": [
      "[1] 1.234581\n",
      "[1] 0.2631951\n"
     ]
    }
   ],
   "source": [
    "w <- 1\n",
    "b <- 0\n",
    "\n",
    "for ( i in 1: 10){\n",
    "    temp <- Trainer(x, y, w, b, 0.01)\n",
    "    w <- temp[1]\n",
    "    b <- temp[2]\n",
    "}\n",
    "print(w)\n",
    "print(b)"
   ]
  },
  {
   "cell_type": "code",
   "execution_count": 43,
   "metadata": {},
   "outputs": [
    {
     "name": "stdout",
     "output_type": "stream",
     "text": [
      "[1] 1.411763\n",
      "[1] 0.4595182\n"
     ]
    }
   ],
   "source": [
    "for ( i in 1: 10){\n",
    "    temp <- Trainer(x, y, w, b, 0.01)\n",
    "    w <- temp[1]\n",
    "    b <- temp[2]\n",
    "}\n",
    "print(w)\n",
    "print(b)"
   ]
  },
  {
   "cell_type": "code",
   "execution_count": 44,
   "metadata": {},
   "outputs": [
    {
     "name": "stdout",
     "output_type": "stream",
     "text": [
      "[1] 1.545799\n",
      "[1] 0.6057746\n"
     ]
    }
   ],
   "source": [
    "for ( i in 1: 10){\n",
    "    temp <- Trainer(x, y, w, b, 0.01)\n",
    "    w <- temp[1]\n",
    "    b <- temp[2]\n",
    "}\n",
    "print(w)\n",
    "print(b)"
   ]
  },
  {
   "cell_type": "markdown",
   "metadata": {},
   "source": [
    "## 1시간 49분\n",
    "- 분류모델\n",
    "> - Machine에 filter를 씌운다"
   ]
  },
  {
   "cell_type": "code",
   "execution_count": 24,
   "metadata": {},
   "outputs": [],
   "source": [
    "# 1시간 50분\n",
    "sigmoid <- function(x){\n",
    "    \n",
    "    y <- exp(x) / (1 + exp(x))\n",
    "    \n",
    "    return(y)\n",
    "}"
   ]
  },
  {
   "cell_type": "code",
   "execution_count": 26,
   "metadata": {},
   "outputs": [
    {
     "data": {
      "text/html": [
       "0.5"
      ],
      "text/latex": [
       "0.5"
      ],
      "text/markdown": [
       "0.5"
      ],
      "text/plain": [
       "[1] 0.5"
      ]
     },
     "metadata": {},
     "output_type": "display_data"
    }
   ],
   "source": [
    "sigmoid(0)"
   ]
  },
  {
   "cell_type": "code",
   "execution_count": 27,
   "metadata": {},
   "outputs": [
    {
     "data": {
      "text/html": [
       "0.999954602131298"
      ],
      "text/latex": [
       "0.999954602131298"
      ],
      "text/markdown": [
       "0.999954602131298"
      ],
      "text/plain": [
       "[1] 0.9999546"
      ]
     },
     "metadata": {},
     "output_type": "display_data"
    }
   ],
   "source": [
    "sigmoid(10)"
   ]
  },
  {
   "cell_type": "code",
   "execution_count": 28,
   "metadata": {},
   "outputs": [
    {
     "data": {
      "text/html": [
       "4.53978687024344e-05"
      ],
      "text/latex": [
       "4.53978687024344e-05"
      ],
      "text/markdown": [
       "4.53978687024344e-05"
      ],
      "text/plain": [
       "[1] 4.539787e-05"
      ]
     },
     "metadata": {},
     "output_type": "display_data"
    }
   ],
   "source": [
    "sigmoid(-10)"
   ]
  },
  {
   "cell_type": "code",
   "execution_count": 29,
   "metadata": {},
   "outputs": [
    {
     "data": {
      "text/html": [
       "<ol class=list-inline>\n",
       "\t<li>0.268941421369995</li>\n",
       "\t<li>0.731058578630005</li>\n",
       "</ol>\n"
      ],
      "text/latex": [
       "\\begin{enumerate*}\n",
       "\\item 0.268941421369995\n",
       "\\item 0.731058578630005\n",
       "\\end{enumerate*}\n"
      ],
      "text/markdown": [
       "1. 0.268941421369995\n",
       "2. 0.731058578630005\n",
       "\n",
       "\n"
      ],
      "text/plain": [
       "[1] 0.2689414 0.7310586"
      ]
     },
     "metadata": {},
     "output_type": "display_data"
    }
   ],
   "source": [
    "sigmoid(c(-1, 1))"
   ]
  },
  {
   "cell_type": "code",
   "execution_count": null,
   "metadata": {},
   "outputs": [],
   "source": [
    "# 1시간 50분\n",
    "sigmoid <- function(x){\n",
    "    \n",
    "    y <- exp(x) / (1 + exp(x))\n",
    "    \n",
    "    return(y)\n",
    "}\n",
    "\n",
    "Machine <- function(x, w, b){\n",
    "    \n",
    "    y_pred <- sigmoid(x * w + b) ###\n",
    "    \n",
    "    return(y_pred)\n",
    "    \n",
    "}\n",
    "\n",
    "## 1시간 54분!\n",
    "# y는 0과 1로 구성이 되어 있어야 한다.\n",
    "Cost <- function(x, y, w, b){\n",
    "    y_pred <- Machine(x, w, b)\n",
    "\n",
    "    loss <- -( y * log(y_pred) + (1 - y) * log(1 - y_pred) ) ###\n",
    "    \n",
    "    cost <- mean(loss)\n",
    "    \n",
    "    return(cost)\n",
    "}\n",
    "\n",
    "\n",
    "Trainer <- function(x, y, w, b, step){\n",
    "    dw <- (Cost(x, y, w + 0.001, b) - Cost(x, y, w, b)) / (0.001)\n",
    "    db <- (Cost(x, y, w, b + 0.001) - Cost(x, y, w, b)) / (0.001)\n",
    "    \n",
    "    w <- w - step * dw\n",
    "    b <- b - step * db\n",
    "    \n",
    "    return(c(w, b))\n",
    "    \n",
    "}"
   ]
  },
  {
   "cell_type": "markdown",
   "metadata": {},
   "source": [
    "### 2시간 2분 50초"
   ]
  },
  {
   "cell_type": "code",
   "execution_count": 30,
   "metadata": {
    "scrolled": true
   },
   "outputs": [
    {
     "name": "stdout",
     "output_type": "stream",
     "text": [
      "\n",
      "The downloaded binary packages are in\n",
      "\t/var/folders/9h/vzls18sn1pvgfwfymvybqkvw0000gn/T//Rtmp1jZYxR/downloaded_packages\n"
     ]
    }
   ],
   "source": [
    "install.packages(\"ISLR\")"
   ]
  },
  {
   "cell_type": "code",
   "execution_count": 31,
   "metadata": {},
   "outputs": [],
   "source": [
    "library(ISLR)"
   ]
  },
  {
   "cell_type": "code",
   "execution_count": 32,
   "metadata": {},
   "outputs": [
    {
     "name": "stdout",
     "output_type": "stream",
     "text": [
      "'data.frame':\t10000 obs. of  4 variables:\n",
      " $ default: Factor w/ 2 levels \"No\",\"Yes\": 1 1 1 1 1 1 1 1 1 1 ...\n",
      " $ student: Factor w/ 2 levels \"No\",\"Yes\": 1 2 1 1 1 2 1 2 1 1 ...\n",
      " $ balance: num  730 817 1074 529 786 ...\n",
      " $ income : num  44362 12106 31767 35704 38463 ...\n"
     ]
    }
   ],
   "source": [
    "str(Default)"
   ]
  },
  {
   "cell_type": "code",
   "execution_count": 45,
   "metadata": {},
   "outputs": [
    {
     "data": {
      "text/plain": [
       "\n",
       "  No  Yes \n",
       "9667  333 "
      ]
     },
     "metadata": {},
     "output_type": "display_data"
    }
   ],
   "source": [
    "table(Default$default)"
   ]
  },
  {
   "cell_type": "markdown",
   "metadata": {},
   "source": [
    "- 333명이 Yes, 9667명이 \n",
    "- 분석에 들어가기 전에 데이터의 구조부터 확인!"
   ]
  },
  {
   "cell_type": "markdown",
   "metadata": {},
   "source": [
    "- balance = 신용카드 빠져나가고 남은 평균 잔고(한도) ... 계좌에 유지해야할 최소한의 잔고\n",
    "- 계좌에 유지해야할 최소한의 잔고가 적을수록 파산의\n",
    "- 아래의 그림을 보고\n",
    "- balance가 높아지면 파산하는 사람이 많고, 낮아지면 파산하는 사람이 적어진다는 걸 볼 수 있다.\n",
    "\n",
    "- default : 채무 불이행"
   ]
  },
  {
   "cell_type": "code",
   "execution_count": 51,
   "metadata": {},
   "outputs": [
    {
     "data": {
      "image/png": "[encoded data removed]",
      "text/plain": [
       "plot without title"
      ]
     },
     "metadata": {},
     "output_type": "display_data"
    }
   ],
   "source": [
    "plot(Default$balance, Default$default, cex=1)"
   ]
  },
  {
   "cell_type": "code",
   "execution_count": 63,
   "metadata": {},
   "outputs": [
    {
     "data": {
      "text/html": [
       "<ol class=list-inline>\n",
       "\t<li>No</li>\n",
       "\t<li>No</li>\n",
       "\t<li>No</li>\n",
       "\t<li>No</li>\n",
       "\t<li>No</li>\n",
       "\t<li>No</li>\n",
       "\t<li>No</li>\n",
       "\t<li>No</li>\n",
       "\t<li>No</li>\n",
       "\t<li>No</li>\n",
       "\t<li>No</li>\n",
       "\t<li>No</li>\n",
       "\t<li>No</li>\n",
       "\t<li>No</li>\n",
       "\t<li>No</li>\n",
       "\t<li>No</li>\n",
       "\t<li>No</li>\n",
       "\t<li>No</li>\n",
       "\t<li>No</li>\n",
       "\t<li>No</li>\n",
       "\t<li>No</li>\n",
       "\t<li>No</li>\n",
       "\t<li>No</li>\n",
       "\t<li>No</li>\n",
       "\t<li>No</li>\n",
       "\t<li>No</li>\n",
       "\t<li>No</li>\n",
       "\t<li>No</li>\n",
       "\t<li>No</li>\n",
       "\t<li>No</li>\n",
       "\t<li>No</li>\n",
       "\t<li>No</li>\n",
       "\t<li>No</li>\n",
       "\t<li>No</li>\n",
       "\t<li>No</li>\n",
       "\t<li>No</li>\n",
       "\t<li>No</li>\n",
       "\t<li>No</li>\n",
       "\t<li>No</li>\n",
       "\t<li>No</li>\n",
       "\t<li>No</li>\n",
       "\t<li>No</li>\n",
       "\t<li>No</li>\n",
       "\t<li>No</li>\n",
       "\t<li>No</li>\n",
       "\t<li>No</li>\n",
       "\t<li>No</li>\n",
       "\t<li>No</li>\n",
       "\t<li>No</li>\n",
       "\t<li>No</li>\n",
       "\t<li>No</li>\n",
       "\t<li>No</li>\n",
       "\t<li>No</li>\n",
       "\t<li>No</li>\n",
       "\t<li>No</li>\n",
       "\t<li>No</li>\n",
       "\t<li>No</li>\n",
       "\t<li>No</li>\n",
       "\t<li>No</li>\n",
       "\t<li>No</li>\n",
       "\t<li>No</li>\n",
       "\t<li>No</li>\n",
       "\t<li>No</li>\n",
       "\t<li>No</li>\n",
       "\t<li>No</li>\n",
       "\t<li>No</li>\n",
       "\t<li>No</li>\n",
       "\t<li>No</li>\n",
       "\t<li>No</li>\n",
       "\t<li>No</li>\n",
       "\t<li>No</li>\n",
       "\t<li>No</li>\n",
       "\t<li>No</li>\n",
       "\t<li>No</li>\n",
       "\t<li>No</li>\n",
       "\t<li>No</li>\n",
       "\t<li>No</li>\n",
       "\t<li>No</li>\n",
       "\t<li>No</li>\n",
       "\t<li>No</li>\n",
       "\t<li>No</li>\n",
       "\t<li>No</li>\n",
       "\t<li>No</li>\n",
       "\t<li>No</li>\n",
       "\t<li>No</li>\n",
       "\t<li>No</li>\n",
       "\t<li>No</li>\n",
       "\t<li>No</li>\n",
       "\t<li>No</li>\n",
       "\t<li>No</li>\n",
       "\t<li>No</li>\n",
       "\t<li>No</li>\n",
       "\t<li>No</li>\n",
       "\t<li>No</li>\n",
       "\t<li>No</li>\n",
       "\t<li>No</li>\n",
       "\t<li>No</li>\n",
       "\t<li>No</li>\n",
       "\t<li>No</li>\n",
       "\t<li>No</li>\n",
       "\t<li>No</li>\n",
       "\t<li>No</li>\n",
       "\t<li>No</li>\n",
       "\t<li>No</li>\n",
       "\t<li>No</li>\n",
       "\t<li>No</li>\n",
       "\t<li>No</li>\n",
       "\t<li>No</li>\n",
       "\t<li>No</li>\n",
       "\t<li>No</li>\n",
       "\t<li>No</li>\n",
       "\t<li>No</li>\n",
       "\t<li>No</li>\n",
       "\t<li>No</li>\n",
       "\t<li>No</li>\n",
       "\t<li>No</li>\n",
       "\t<li>No</li>\n",
       "\t<li>No</li>\n",
       "\t<li>No</li>\n",
       "\t<li>No</li>\n",
       "\t<li>No</li>\n",
       "\t<li>No</li>\n",
       "\t<li>No</li>\n",
       "\t<li>No</li>\n",
       "\t<li>No</li>\n",
       "\t<li>No</li>\n",
       "\t<li>No</li>\n",
       "\t<li>No</li>\n",
       "\t<li>No</li>\n",
       "\t<li>No</li>\n",
       "\t<li>No</li>\n",
       "\t<li>No</li>\n",
       "\t<li>No</li>\n",
       "\t<li>No</li>\n",
       "\t<li>No</li>\n",
       "\t<li>No</li>\n",
       "\t<li>Yes</li>\n",
       "\t<li>No</li>\n",
       "\t<li>No</li>\n",
       "\t<li>No</li>\n",
       "\t<li>No</li>\n",
       "\t<li>No</li>\n",
       "\t<li>No</li>\n",
       "\t<li>No</li>\n",
       "\t<li>No</li>\n",
       "\t<li>No</li>\n",
       "\t<li>No</li>\n",
       "\t<li>No</li>\n",
       "\t<li>No</li>\n",
       "\t<li>No</li>\n",
       "\t<li>No</li>\n",
       "\t<li>No</li>\n",
       "\t<li>No</li>\n",
       "\t<li>No</li>\n",
       "\t<li>No</li>\n",
       "\t<li>No</li>\n",
       "\t<li>No</li>\n",
       "\t<li>No</li>\n",
       "\t<li>No</li>\n",
       "\t<li>No</li>\n",
       "\t<li>No</li>\n",
       "\t<li>No</li>\n",
       "\t<li>No</li>\n",
       "\t<li>No</li>\n",
       "\t<li>No</li>\n",
       "\t<li>No</li>\n",
       "\t<li>No</li>\n",
       "\t<li>No</li>\n",
       "\t<li>No</li>\n",
       "\t<li>No</li>\n",
       "\t<li>No</li>\n",
       "\t<li>No</li>\n",
       "\t<li>No</li>\n",
       "\t<li>Yes</li>\n",
       "\t<li>No</li>\n",
       "\t<li>No</li>\n",
       "\t<li>No</li>\n",
       "\t<li>No</li>\n",
       "\t<li>No</li>\n",
       "\t<li>No</li>\n",
       "\t<li>No</li>\n",
       "\t<li>No</li>\n",
       "\t<li>No</li>\n",
       "\t<li>No</li>\n",
       "\t<li>No</li>\n",
       "\t<li>No</li>\n",
       "\t<li>No</li>\n",
       "\t<li>No</li>\n",
       "\t<li>No</li>\n",
       "\t<li>No</li>\n",
       "\t<li>No</li>\n",
       "\t<li>No</li>\n",
       "\t<li>No</li>\n",
       "\t<li>No</li>\n",
       "\t<li>No</li>\n",
       "\t<li>No</li>\n",
       "\t<li>No</li>\n",
       "\t<li>No</li>\n",
       "\t<li>No</li>\n",
       "\t<li>No</li>\n",
       "\t<li>No</li>\n",
       "\t<li>Yes</li>\n",
       "\t<li>No</li>\n",
       "\t<li>No</li>\n",
       "\t<li>No</li>\n",
       "\t<li>No</li>\n",
       "\t<li>Yes</li>\n",
       "\t<li>No</li>\n",
       "\t<li>No</li>\n",
       "\t<li>Yes</li>\n",
       "\t<li>No</li>\n",
       "\t<li>No</li>\n",
       "\t<li>No</li>\n",
       "\t<li>No</li>\n",
       "\t<li>No</li>\n",
       "\t<li>No</li>\n",
       "\t<li>No</li>\n",
       "\t<li>No</li>\n",
       "\t<li>No</li>\n",
       "\t<li>No</li>\n",
       "\t<li>No</li>\n",
       "\t<li>No</li>\n",
       "\t<li>No</li>\n",
       "\t<li>No</li>\n",
       "\t<li>No</li>\n",
       "\t<li>No</li>\n",
       "\t<li>No</li>\n",
       "\t<li>No</li>\n",
       "\t<li>No</li>\n",
       "\t<li>No</li>\n",
       "\t<li>No</li>\n",
       "\t<li>No</li>\n",
       "\t<li>No</li>\n",
       "\t<li>No</li>\n",
       "\t<li>No</li>\n",
       "\t<li>No</li>\n",
       "\t<li>No</li>\n",
       "\t<li>No</li>\n",
       "\t<li>No</li>\n",
       "\t<li>No</li>\n",
       "\t<li>No</li>\n",
       "\t<li>Yes</li>\n",
       "\t<li>No</li>\n",
       "\t<li>Yes</li>\n",
       "\t<li>No</li>\n",
       "\t<li>No</li>\n",
       "\t<li>No</li>\n",
       "\t<li>No</li>\n",
       "\t<li>No</li>\n",
       "\t<li>No</li>\n",
       "\t<li>No</li>\n",
       "\t<li>No</li>\n",
       "\t<li>No</li>\n",
       "\t<li>No</li>\n",
       "\t<li>No</li>\n",
       "\t<li>No</li>\n",
       "\t<li>No</li>\n",
       "\t<li>No</li>\n",
       "\t<li>No</li>\n",
       "\t<li>No</li>\n",
       "\t<li>No</li>\n",
       "\t<li>No</li>\n",
       "\t<li>No</li>\n",
       "\t<li>Yes</li>\n",
       "\t<li>No</li>\n",
       "\t<li>No</li>\n",
       "\t<li>No</li>\n",
       "\t<li>No</li>\n",
       "\t<li>No</li>\n",
       "\t<li>No</li>\n",
       "\t<li>No</li>\n",
       "\t<li>No</li>\n",
       "\t<li>No</li>\n",
       "\t<li>No</li>\n",
       "\t<li>No</li>\n",
       "\t<li>No</li>\n",
       "\t<li>No</li>\n",
       "\t<li>No</li>\n",
       "\t<li>No</li>\n",
       "\t<li>No</li>\n",
       "\t<li>No</li>\n",
       "\t<li>No</li>\n",
       "\t<li>No</li>\n",
       "\t<li>No</li>\n",
       "\t<li>No</li>\n",
       "\t<li>No</li>\n",
       "\t<li>No</li>\n",
       "\t<li>No</li>\n",
       "\t<li>No</li>\n",
       "\t<li>No</li>\n",
       "\t<li>No</li>\n",
       "\t<li>No</li>\n",
       "\t<li>No</li>\n",
       "\t<li>No</li>\n",
       "\t<li>No</li>\n",
       "\t<li>No</li>\n",
       "\t<li>No</li>\n",
       "\t<li>No</li>\n",
       "\t<li>No</li>\n",
       "\t<li>No</li>\n",
       "</ol>\n",
       "\n",
       "<details>\n",
       "\t<summary style=display:list-item;cursor:pointer>\n",
       "\t\t<strong>Levels</strong>:\n",
       "\t</summary>\n",
       "\t<ol class=list-inline>\n",
       "\t\t<li>'No'</li>\n",
       "\t\t<li>'Yes'</li>\n",
       "\t</ol>\n",
       "</details>"
      ],
      "text/latex": [
       "\\begin{enumerate*}\n",
       "\\item No\n",
       "\\item No\n",
       "\\item No\n",
       "\\item No\n",
       "\\item No\n",
       "\\item No\n",
       "\\item No\n",
       "\\item No\n",
       "\\item No\n",
       "\\item No\n",
       "\\item No\n",
       "\\item No\n",
       "\\item No\n",
       "\\item No\n",
       "\\item No\n",
       "\\item No\n",
       "\\item No\n",
       "\\item No\n",
       "\\item No\n",
       "\\item No\n",
       "\\item No\n",
       "\\item No\n",
       "\\item No\n",
       "\\item No\n",
       "\\item No\n",
       "\\item No\n",
       "\\item No\n",
       "\\item No\n",
       "\\item No\n",
       "\\item No\n",
       "\\item No\n",
       "\\item No\n",
       "\\item No\n",
       "\\item No\n",
       "\\item No\n",
       "\\item No\n",
       "\\item No\n",
       "\\item No\n",
       "\\item No\n",
       "\\item No\n",
       "\\item No\n",
       "\\item No\n",
       "\\item No\n",
       "\\item No\n",
       "\\item No\n",
       "\\item No\n",
       "\\item No\n",
       "\\item No\n",
       "\\item No\n",
       "\\item No\n",
       "\\item No\n",
       "\\item No\n",
       "\\item No\n",
       "\\item No\n",
       "\\item No\n",
       "\\item No\n",
       "\\item No\n",
       "\\item No\n",
       "\\item No\n",
       "\\item No\n",
       "\\item No\n",
       "\\item No\n",
       "\\item No\n",
       "\\item No\n",
       "\\item No\n",
       "\\item No\n",
       "\\item No\n",
       "\\item No\n",
       "\\item No\n",
       "\\item No\n",
       "\\item No\n",
       "\\item No\n",
       "\\item No\n",
       "\\item No\n",
       "\\item No\n",
       "\\item No\n",
       "\\item No\n",
       "\\item No\n",
       "\\item No\n",
       "\\item No\n",
       "\\item No\n",
       "\\item No\n",
       "\\item No\n",
       "\\item No\n",
       "\\item No\n",
       "\\item No\n",
       "\\item No\n",
       "\\item No\n",
       "\\item No\n",
       "\\item No\n",
       "\\item No\n",
       "\\item No\n",
       "\\item No\n",
       "\\item No\n",
       "\\item No\n",
       "\\item No\n",
       "\\item No\n",
       "\\item No\n",
       "\\item No\n",
       "\\item No\n",
       "\\item No\n",
       "\\item No\n",
       "\\item No\n",
       "\\item No\n",
       "\\item No\n",
       "\\item No\n",
       "\\item No\n",
       "\\item No\n",
       "\\item No\n",
       "\\item No\n",
       "\\item No\n",
       "\\item No\n",
       "\\item No\n",
       "\\item No\n",
       "\\item No\n",
       "\\item No\n",
       "\\item No\n",
       "\\item No\n",
       "\\item No\n",
       "\\item No\n",
       "\\item No\n",
       "\\item No\n",
       "\\item No\n",
       "\\item No\n",
       "\\item No\n",
       "\\item No\n",
       "\\item No\n",
       "\\item No\n",
       "\\item No\n",
       "\\item No\n",
       "\\item No\n",
       "\\item No\n",
       "\\item No\n",
       "\\item No\n",
       "\\item No\n",
       "\\item No\n",
       "\\item Yes\n",
       "\\item No\n",
       "\\item No\n",
       "\\item No\n",
       "\\item No\n",
       "\\item No\n",
       "\\item No\n",
       "\\item No\n",
       "\\item No\n",
       "\\item No\n",
       "\\item No\n",
       "\\item No\n",
       "\\item No\n",
       "\\item No\n",
       "\\item No\n",
       "\\item No\n",
       "\\item No\n",
       "\\item No\n",
       "\\item No\n",
       "\\item No\n",
       "\\item No\n",
       "\\item No\n",
       "\\item No\n",
       "\\item No\n",
       "\\item No\n",
       "\\item No\n",
       "\\item No\n",
       "\\item No\n",
       "\\item No\n",
       "\\item No\n",
       "\\item No\n",
       "\\item No\n",
       "\\item No\n",
       "\\item No\n",
       "\\item No\n",
       "\\item No\n",
       "\\item No\n",
       "\\item Yes\n",
       "\\item No\n",
       "\\item No\n",
       "\\item No\n",
       "\\item No\n",
       "\\item No\n",
       "\\item No\n",
       "\\item No\n",
       "\\item No\n",
       "\\item No\n",
       "\\item No\n",
       "\\item No\n",
       "\\item No\n",
       "\\item No\n",
       "\\item No\n",
       "\\item No\n",
       "\\item No\n",
       "\\item No\n",
       "\\item No\n",
       "\\item No\n",
       "\\item No\n",
       "\\item No\n",
       "\\item No\n",
       "\\item No\n",
       "\\item No\n",
       "\\item No\n",
       "\\item No\n",
       "\\item No\n",
       "\\item Yes\n",
       "\\item No\n",
       "\\item No\n",
       "\\item No\n",
       "\\item No\n",
       "\\item Yes\n",
       "\\item No\n",
       "\\item No\n",
       "\\item Yes\n",
       "\\item No\n",
       "\\item No\n",
       "\\item No\n",
       "\\item No\n",
       "\\item No\n",
       "\\item No\n",
       "\\item No\n",
       "\\item No\n",
       "\\item No\n",
       "\\item No\n",
       "\\item No\n",
       "\\item No\n",
       "\\item No\n",
       "\\item No\n",
       "\\item No\n",
       "\\item No\n",
       "\\item No\n",
       "\\item No\n",
       "\\item No\n",
       "\\item No\n",
       "\\item No\n",
       "\\item No\n",
       "\\item No\n",
       "\\item No\n",
       "\\item No\n",
       "\\item No\n",
       "\\item No\n",
       "\\item No\n",
       "\\item No\n",
       "\\item No\n",
       "\\item No\n",
       "\\item Yes\n",
       "\\item No\n",
       "\\item Yes\n",
       "\\item No\n",
       "\\item No\n",
       "\\item No\n",
       "\\item No\n",
       "\\item No\n",
       "\\item No\n",
       "\\item No\n",
       "\\item No\n",
       "\\item No\n",
       "\\item No\n",
       "\\item No\n",
       "\\item No\n",
       "\\item No\n",
       "\\item No\n",
       "\\item No\n",
       "\\item No\n",
       "\\item No\n",
       "\\item No\n",
       "\\item No\n",
       "\\item Yes\n",
       "\\item No\n",
       "\\item No\n",
       "\\item No\n",
       "\\item No\n",
       "\\item No\n",
       "\\item No\n",
       "\\item No\n",
       "\\item No\n",
       "\\item No\n",
       "\\item No\n",
       "\\item No\n",
       "\\item No\n",
       "\\item No\n",
       "\\item No\n",
       "\\item No\n",
       "\\item No\n",
       "\\item No\n",
       "\\item No\n",
       "\\item No\n",
       "\\item No\n",
       "\\item No\n",
       "\\item No\n",
       "\\item No\n",
       "\\item No\n",
       "\\item No\n",
       "\\item No\n",
       "\\item No\n",
       "\\item No\n",
       "\\item No\n",
       "\\item No\n",
       "\\item No\n",
       "\\item No\n",
       "\\item No\n",
       "\\item No\n",
       "\\item No\n",
       "\\item No\n",
       "\\end{enumerate*}\n",
       "\n",
       "\\emph{Levels}: \\begin{enumerate*}\n",
       "\\item 'No'\n",
       "\\item 'Yes'\n",
       "\\end{enumerate*}\n"
      ],
      "text/markdown": [
       "1. No\n",
       "2. No\n",
       "3. No\n",
       "4. No\n",
       "5. No\n",
       "6. No\n",
       "7. No\n",
       "8. No\n",
       "9. No\n",
       "10. No\n",
       "11. No\n",
       "12. No\n",
       "13. No\n",
       "14. No\n",
       "15. No\n",
       "16. No\n",
       "17. No\n",
       "18. No\n",
       "19. No\n",
       "20. No\n",
       "21. No\n",
       "22. No\n",
       "23. No\n",
       "24. No\n",
       "25. No\n",
       "26. No\n",
       "27. No\n",
       "28. No\n",
       "29. No\n",
       "30. No\n",
       "31. No\n",
       "32. No\n",
       "33. No\n",
       "34. No\n",
       "35. No\n",
       "36. No\n",
       "37. No\n",
       "38. No\n",
       "39. No\n",
       "40. No\n",
       "41. No\n",
       "42. No\n",
       "43. No\n",
       "44. No\n",
       "45. No\n",
       "46. No\n",
       "47. No\n",
       "48. No\n",
       "49. No\n",
       "50. No\n",
       "51. No\n",
       "52. No\n",
       "53. No\n",
       "54. No\n",
       "55. No\n",
       "56. No\n",
       "57. No\n",
       "58. No\n",
       "59. No\n",
       "60. No\n",
       "61. No\n",
       "62. No\n",
       "63. No\n",
       "64. No\n",
       "65. No\n",
       "66. No\n",
       "67. No\n",
       "68. No\n",
       "69. No\n",
       "70. No\n",
       "71. No\n",
       "72. No\n",
       "73. No\n",
       "74. No\n",
       "75. No\n",
       "76. No\n",
       "77. No\n",
       "78. No\n",
       "79. No\n",
       "80. No\n",
       "81. No\n",
       "82. No\n",
       "83. No\n",
       "84. No\n",
       "85. No\n",
       "86. No\n",
       "87. No\n",
       "88. No\n",
       "89. No\n",
       "90. No\n",
       "91. No\n",
       "92. No\n",
       "93. No\n",
       "94. No\n",
       "95. No\n",
       "96. No\n",
       "97. No\n",
       "98. No\n",
       "99. No\n",
       "100. No\n",
       "101. No\n",
       "102. No\n",
       "103. No\n",
       "104. No\n",
       "105. No\n",
       "106. No\n",
       "107. No\n",
       "108. No\n",
       "109. No\n",
       "110. No\n",
       "111. No\n",
       "112. No\n",
       "113. No\n",
       "114. No\n",
       "115. No\n",
       "116. No\n",
       "117. No\n",
       "118. No\n",
       "119. No\n",
       "120. No\n",
       "121. No\n",
       "122. No\n",
       "123. No\n",
       "124. No\n",
       "125. No\n",
       "126. No\n",
       "127. No\n",
       "128. No\n",
       "129. No\n",
       "130. No\n",
       "131. No\n",
       "132. No\n",
       "133. No\n",
       "134. No\n",
       "135. No\n",
       "136. No\n",
       "137. Yes\n",
       "138. No\n",
       "139. No\n",
       "140. No\n",
       "141. No\n",
       "142. No\n",
       "143. No\n",
       "144. No\n",
       "145. No\n",
       "146. No\n",
       "147. No\n",
       "148. No\n",
       "149. No\n",
       "150. No\n",
       "151. No\n",
       "152. No\n",
       "153. No\n",
       "154. No\n",
       "155. No\n",
       "156. No\n",
       "157. No\n",
       "158. No\n",
       "159. No\n",
       "160. No\n",
       "161. No\n",
       "162. No\n",
       "163. No\n",
       "164. No\n",
       "165. No\n",
       "166. No\n",
       "167. No\n",
       "168. No\n",
       "169. No\n",
       "170. No\n",
       "171. No\n",
       "172. No\n",
       "173. No\n",
       "174. Yes\n",
       "175. No\n",
       "176. No\n",
       "177. No\n",
       "178. No\n",
       "179. No\n",
       "180. No\n",
       "181. No\n",
       "182. No\n",
       "183. No\n",
       "184. No\n",
       "185. No\n",
       "186. No\n",
       "187. No\n",
       "188. No\n",
       "189. No\n",
       "190. No\n",
       "191. No\n",
       "192. No\n",
       "193. No\n",
       "194. No\n",
       "195. No\n",
       "196. No\n",
       "197. No\n",
       "198. No\n",
       "199. No\n",
       "200. No\n",
       "201. No\n",
       "202. Yes\n",
       "203. No\n",
       "204. No\n",
       "205. No\n",
       "206. No\n",
       "207. Yes\n",
       "208. No\n",
       "209. No\n",
       "210. Yes\n",
       "211. No\n",
       "212. No\n",
       "213. No\n",
       "214. No\n",
       "215. No\n",
       "216. No\n",
       "217. No\n",
       "218. No\n",
       "219. No\n",
       "220. No\n",
       "221. No\n",
       "222. No\n",
       "223. No\n",
       "224. No\n",
       "225. No\n",
       "226. No\n",
       "227. No\n",
       "228. No\n",
       "229. No\n",
       "230. No\n",
       "231. No\n",
       "232. No\n",
       "233. No\n",
       "234. No\n",
       "235. No\n",
       "236. No\n",
       "237. No\n",
       "238. No\n",
       "239. No\n",
       "240. No\n",
       "241. No\n",
       "242. Yes\n",
       "243. No\n",
       "244. Yes\n",
       "245. No\n",
       "246. No\n",
       "247. No\n",
       "248. No\n",
       "249. No\n",
       "250. No\n",
       "251. No\n",
       "252. No\n",
       "253. No\n",
       "254. No\n",
       "255. No\n",
       "256. No\n",
       "257. No\n",
       "258. No\n",
       "259. No\n",
       "260. No\n",
       "261. No\n",
       "262. No\n",
       "263. No\n",
       "264. Yes\n",
       "265. No\n",
       "266. No\n",
       "267. No\n",
       "268. No\n",
       "269. No\n",
       "270. No\n",
       "271. No\n",
       "272. No\n",
       "273. No\n",
       "274. No\n",
       "275. No\n",
       "276. No\n",
       "277. No\n",
       "278. No\n",
       "279. No\n",
       "280. No\n",
       "281. No\n",
       "282. No\n",
       "283. No\n",
       "284. No\n",
       "285. No\n",
       "286. No\n",
       "287. No\n",
       "288. No\n",
       "289. No\n",
       "290. No\n",
       "291. No\n",
       "292. No\n",
       "293. No\n",
       "294. No\n",
       "295. No\n",
       "296. No\n",
       "297. No\n",
       "298. No\n",
       "299. No\n",
       "300. No\n",
       "\n",
       "\n",
       "\n",
       "**Levels**: 1. 'No'\n",
       "2. 'Yes'\n",
       "\n",
       "\n"
      ],
      "text/plain": [
       "  [1] No  No  No  No  No  No  No  No  No  No  No  No  No  No  No  No  No  No \n",
       " [19] No  No  No  No  No  No  No  No  No  No  No  No  No  No  No  No  No  No \n",
       " [37] No  No  No  No  No  No  No  No  No  No  No  No  No  No  No  No  No  No \n",
       " [55] No  No  No  No  No  No  No  No  No  No  No  No  No  No  No  No  No  No \n",
       " [73] No  No  No  No  No  No  No  No  No  No  No  No  No  No  No  No  No  No \n",
       " [91] No  No  No  No  No  No  No  No  No  No  No  No  No  No  No  No  No  No \n",
       "[109] No  No  No  No  No  No  No  No  No  No  No  No  No  No  No  No  No  No \n",
       "[127] No  No  No  No  No  No  No  No  No  No  Yes No  No  No  No  No  No  No \n",
       "[145] No  No  No  No  No  No  No  No  No  No  No  No  No  No  No  No  No  No \n",
       "[163] No  No  No  No  No  No  No  No  No  No  No  Yes No  No  No  No  No  No \n",
       "[181] No  No  No  No  No  No  No  No  No  No  No  No  No  No  No  No  No  No \n",
       "[199] No  No  No  Yes No  No  No  No  Yes No  No  Yes No  No  No  No  No  No \n",
       "[217] No  No  No  No  No  No  No  No  No  No  No  No  No  No  No  No  No  No \n",
       "[235] No  No  No  No  No  No  No  Yes No  Yes No  No  No  No  No  No  No  No \n",
       "[253] No  No  No  No  No  No  No  No  No  No  No  Yes No  No  No  No  No  No \n",
       "[271] No  No  No  No  No  No  No  No  No  No  No  No  No  No  No  No  No  No \n",
       "[289] No  No  No  No  No  No  No  No  No  No  No  No \n",
       "Levels: No Yes"
      ]
     },
     "metadata": {},
     "output_type": "display_data"
    }
   ],
   "source": [
    "head(Default$default, 300)"
   ]
  },
  {
   "cell_type": "code",
   "execution_count": 66,
   "metadata": {},
   "outputs": [
    {
     "data": {
      "text/plain": [
       "\n",
       "  No  Yes \n",
       "9667  333 "
      ]
     },
     "metadata": {},
     "output_type": "display_data"
    }
   ],
   "source": [
    "table(Default$default)"
   ]
  },
  {
   "cell_type": "code",
   "execution_count": 64,
   "metadata": {},
   "outputs": [
    {
     "data": {
      "text/html": [
       "1"
      ],
      "text/latex": [
       "1"
      ],
      "text/markdown": [
       "1"
      ],
      "text/plain": [
       "[1] 1"
      ]
     },
     "metadata": {},
     "output_type": "display_data"
    },
    {
     "data": {
      "text/html": [
       "0"
      ],
      "text/latex": [
       "0"
      ],
      "text/markdown": [
       "0"
      ],
      "text/plain": [
       "[1] 0"
      ]
     },
     "metadata": {},
     "output_type": "display_data"
    },
    {
     "data": {
      "text/html": [
       "<ol class=list-inline>\n",
       "\t<li>1</li>\n",
       "\t<li>0</li>\n",
       "\t<li>1</li>\n",
       "</ol>\n"
      ],
      "text/latex": [
       "\\begin{enumerate*}\n",
       "\\item 1\n",
       "\\item 0\n",
       "\\item 1\n",
       "\\end{enumerate*}\n"
      ],
      "text/markdown": [
       "1. 1\n",
       "2. 0\n",
       "3. 1\n",
       "\n",
       "\n"
      ],
      "text/plain": [
       "[1] 1 0 1"
      ]
     },
     "metadata": {},
     "output_type": "display_data"
    }
   ],
   "source": [
    "ifelse(TRUE, 1, 0)\n",
    "ifelse(FALSE, 1, 0)\n",
    "ifelse(c(TRUE, FALSE, TRUE), 1, 0)"
   ]
  },
  {
   "cell_type": "code",
   "execution_count": 52,
   "metadata": {},
   "outputs": [],
   "source": [
    "y <- ifelse(Default$default == \"Yes\", 1, 0)"
   ]
  },
  {
   "cell_type": "code",
   "execution_count": 65,
   "metadata": {},
   "outputs": [
    {
     "data": {
      "text/plain": [
       "y\n",
       "   0    1 \n",
       "9667  333 "
      ]
     },
     "metadata": {},
     "output_type": "display_data"
    }
   ],
   "source": [
    "table(y)"
   ]
  },
  {
   "cell_type": "code",
   "execution_count": null,
   "metadata": {},
   "outputs": [],
   "source": []
  },
  {
   "cell_type": "code",
   "execution_count": null,
   "metadata": {},
   "outputs": [],
   "source": []
  },
  {
   "cell_type": "code",
   "execution_count": 67,
   "metadata": {},
   "outputs": [],
   "source": [
    "# 1시간 50분\n",
    "sigmoid <- function(x){\n",
    "    \n",
    "    y <- exp(x) / (1 + exp(x))\n",
    "    \n",
    "    return(y)\n",
    "}\n",
    "\n",
    "Machine <- function(x, w, b){\n",
    "    \n",
    "    y_pred <- sigmoid(x * w + b) ###\n",
    "    \n",
    "    return(y_pred)\n",
    "    \n",
    "}\n",
    "\n",
    "## 1시간 54분!\n",
    "# y는 0과 1로 구성이 되어 있어야 한다.\n",
    "Cost <- function(x, y, w, b){\n",
    "    y_pred <- Machine(x, w, b)\n",
    "\n",
    "    loss <- -( y * log(y_pred) + (1 - y) * log(1 - y_pred) ) ###\n",
    "    \n",
    "    cost <- mean(loss)\n",
    "    \n",
    "    return(cost)\n",
    "}\n",
    "\n",
    "\n",
    "Trainer <- function(x, y, w, b, step){\n",
    "    dw <- (Cost(x, y, w + 0.001, b) - Cost(x, y, w, b)) / (0.001)\n",
    "    db <- (Cost(x, y, w, b + 0.001) - Cost(x, y, w, b)) / (0.001)\n",
    "    \n",
    "    w <- w - step * dw\n",
    "    b <- b - step * db\n",
    "    \n",
    "    return(c(w, b))\n",
    "    \n",
    "}\n",
    "\n",
    "x <- Default$balance\n",
    "y <- ifelse(Default$default == \"Yes\", 1, 0)\n",
    "\n",
    "w <- 0\n",
    "b <- 0\n",
    "\n",
    "for (i in 1:1000){\n",
    "    \n",
    "    temp <- Trainer(x, y, w, b, 0.01)\n",
    "\n",
    "    w <- temp[1]\n",
    "    b <- temp[2]\n",
    "    \n",
    "}"
   ]
  },
  {
   "cell_type": "code",
   "execution_count": 69,
   "metadata": {},
   "outputs": [
    {
     "name": "stdout",
     "output_type": "stream",
     "text": [
      "[1] NaN\n",
      "[1] NaN\n"
     ]
    }
   ],
   "source": [
    "print(w)\n",
    "print(b)"
   ]
  },
  {
   "cell_type": "markdown",
   "metadata": {},
   "source": [
    "### 발산해버림\n",
    "### stepsize를 줄여서 다시 train 시켜야함"
   ]
  },
  {
   "cell_type": "code",
   "execution_count": 75,
   "metadata": {},
   "outputs": [
    {
     "name": "stdout",
     "output_type": "stream",
     "text": [
      "[1] NaN\n",
      "[1] NaN\n"
     ]
    }
   ],
   "source": [
    "w <- 0\n",
    "b <- 0\n",
    "for (i in 1:1000){\n",
    "    \n",
    "    temp <- Trainer(x, y, w, b, 0.001)\n",
    "\n",
    "    w <- temp[1]\n",
    "    b <- temp[2]\n",
    "    \n",
    "}\n",
    "print(w)\n",
    "print(b)"
   ]
  },
  {
   "cell_type": "markdown",
   "metadata": {},
   "source": [
    "#### 또 발산함 다시 줄여야함"
   ]
  },
  {
   "cell_type": "code",
   "execution_count": 74,
   "metadata": {},
   "outputs": [
    {
     "name": "stdout",
     "output_type": "stream",
     "text": [
      "[1] -0.01292365\n",
      "[1] -0.007023464\n"
     ]
    }
   ],
   "source": [
    "w <- 0\n",
    "b <- 0\n",
    "for (i in 1:1000){\n",
    "    \n",
    "    temp <- Trainer(x, y, w, b, 0.0001)\n",
    "\n",
    "    w <- temp[1]\n",
    "    b <- temp[2]\n",
    "    \n",
    "}\n",
    "print(w)\n",
    "print(b)"
   ]
  },
  {
   "cell_type": "markdown",
   "metadata": {},
   "source": [
    "#### TIP(2시간 17분)\n"
   ]
  },
  {
   "cell_type": "code",
   "execution_count": 76,
   "metadata": {},
   "outputs": [
    {
     "data": {
      "text/html": [
       "<ol class=list-inline>\n",
       "\t<li>0</li>\n",
       "\t<li>2654.32257628018</li>\n",
       "</ol>\n"
      ],
      "text/latex": [
       "\\begin{enumerate*}\n",
       "\\item 0\n",
       "\\item 2654.32257628018\n",
       "\\end{enumerate*}\n"
      ],
      "text/markdown": [
       "1. 0\n",
       "2. 2654.32257628018\n",
       "\n",
       "\n"
      ],
      "text/plain": [
       "[1]    0.000 2654.323"
      ]
     },
     "metadata": {},
     "output_type": "display_data"
    }
   ],
   "source": [
    "range(x)"
   ]
  },
  {
   "cell_type": "code",
   "execution_count": 79,
   "metadata": {},
   "outputs": [
    {
     "data": {
      "text/html": [
       "<ol class=list-inline>\n",
       "\t<li>0</li>\n",
       "\t<li>1.00000021711013</li>\n",
       "</ol>\n"
      ],
      "text/latex": [
       "\\begin{enumerate*}\n",
       "\\item 0\n",
       "\\item 1.00000021711013\n",
       "\\end{enumerate*}\n"
      ],
      "text/markdown": [
       "1. 0\n",
       "2. 1.00000021711013\n",
       "\n",
       "\n"
      ],
      "text/plain": [
       "[1] 0 1"
      ]
     },
     "metadata": {},
     "output_type": "display_data"
    }
   ],
   "source": [
    "range(x / 2654.322)"
   ]
  },
  {
   "cell_type": "code",
   "execution_count": 103,
   "metadata": {},
   "outputs": [
    {
     "data": {
      "text/html": [
       "<ol class=list-inline>\n",
       "\t<li>0</li>\n",
       "\t<li>5.4873689206711</li>\n",
       "</ol>\n"
      ],
      "text/latex": [
       "\\begin{enumerate*}\n",
       "\\item 0\n",
       "\\item 5.4873689206711\n",
       "\\end{enumerate*}\n"
      ],
      "text/markdown": [
       "1. 0\n",
       "2. 5.4873689206711\n",
       "\n",
       "\n"
      ],
      "text/plain": [
       "[1] 0.000000 5.487369"
      ]
     },
     "metadata": {},
     "output_type": "display_data"
    }
   ],
   "source": [
    "range(x / sd (x))"
   ]
  },
  {
   "cell_type": "markdown",
   "metadata": {},
   "source": [
    "x의 scale이 커지면 parameter가 작아진다.\n",
    "- parameter의 범위가 들쑥날쑥해진다.\n",
    "- 애초에 input 변수의 scale을 맞춰주자는 것\n",
    "- 엄청 작게 노는 애들은 큰 수로 바뀐다."
   ]
  },
  {
   "cell_type": "code",
   "execution_count": 92,
   "metadata": {},
   "outputs": [
    {
     "name": "stdout",
     "output_type": "stream",
     "text": [
      "[1] 2.060383\n",
      "[1] -8.621335\n"
     ]
    }
   ],
   "source": [
    "x <- Default$balance / sd(Default$balance)\n",
    "y <- ifelse(Default$default == \"Yes\", 1, 0)\n",
    "\n",
    "w <- 0\n",
    "b <- 0\n",
    "\n",
    "for (i in 1:10000){\n",
    "    \n",
    "    temp <- Trainer(x, y, w, b, 0.1)\n",
    "\n",
    "    w <- temp[1]\n",
    "    b <- temp[2]\n",
    "    \n",
    "}\n",
    "\n",
    "print(w)\n",
    "print(b)"
   ]
  },
  {
   "cell_type": "markdown",
   "metadata": {},
   "source": [
    "2시간 23분"
   ]
  },
  {
   "cell_type": "code",
   "execution_count": 93,
   "metadata": {},
   "outputs": [],
   "source": [
    "y_prob = Machine(x, w, b)"
   ]
  },
  {
   "cell_type": "markdown",
   "metadata": {},
   "source": [
    "0.5 를 기준으로 짤라서, 0.5보다 낮으면 default가 안 난 것으로 높으면 default가 난 것으로!"
   ]
  },
  {
   "cell_type": "code",
   "execution_count": 94,
   "metadata": {},
   "outputs": [],
   "source": [
    "y_label <- ifelse(y_prob > 0.5, 1, 0)"
   ]
  },
  {
   "cell_type": "code",
   "execution_count": 95,
   "metadata": {},
   "outputs": [
    {
     "data": {
      "text/plain": [
       "y_label\n",
       "   0    1 \n",
       "9905   95 "
      ]
     },
     "metadata": {},
     "output_type": "display_data"
    }
   ],
   "source": [
    "table(y_label)"
   ]
  },
  {
   "cell_type": "markdown",
   "metadata": {},
   "source": [
    "training이 제대로 안 되었다는 뜻"
   ]
  },
  {
   "cell_type": "code",
   "execution_count": 96,
   "metadata": {},
   "outputs": [
    {
     "name": "stdout",
     "output_type": "stream",
     "text": [
      "[1] 2.649146\n",
      "[1] -10.61594\n"
     ]
    }
   ],
   "source": [
    "x <- Default$balance / sd(Default$balance)\n",
    "y <- ifelse(Default$default == \"Yes\", 1, 0)\n",
    "\n",
    "w <- 0\n",
    "b <- 0\n",
    "\n",
    "for (i in 1:20000){\n",
    "    \n",
    "    temp <- Trainer(x, y, w, b, 0.5)\n",
    "\n",
    "    w <- temp[1]\n",
    "    b <- temp[2]\n",
    "    \n",
    "}\n",
    "\n",
    "print(w)\n",
    "print(b)"
   ]
  },
  {
   "cell_type": "code",
   "execution_count": 98,
   "metadata": {},
   "outputs": [
    {
     "data": {
      "text/plain": [
       "y_label\n",
       "   0    1 \n",
       "9858  142 "
      ]
     },
     "metadata": {},
     "output_type": "display_data"
    }
   ],
   "source": [
    "y_prob = Machine(x, w, b)\n",
    "y_label <- ifelse(y_prob > 0.5, 1, 0)\n",
    "table(y_label)"
   ]
  },
  {
   "cell_type": "markdown",
   "metadata": {},
   "source": [
    "- 수렴했는데 잘 된건지 아닌 건지 어떻게 아느냐?\n",
    "- 2시간 31분 ..."
   ]
  },
  {
   "cell_type": "markdown",
   "metadata": {},
   "source": [
    "2시간 33분"
   ]
  },
  {
   "cell_type": "code",
   "execution_count": 99,
   "metadata": {
    "scrolled": true
   },
   "outputs": [
    {
     "data": {
      "text/plain": [
       "     y_label\n",
       "         0    1\n",
       "  No  9625   42\n",
       "  Yes  233  100"
      ]
     },
     "metadata": {},
     "output_type": "display_data"
    }
   ],
   "source": [
    "table(Default$default, y_label)"
   ]
  },
  {
   "cell_type": "markdown",
   "metadata": {},
   "source": [
    "- 기계가 0(파산하지 않는다)를 예측했는데, 실제로 233명이 파산함!\n",
    "- 좋은 건 아니다."
   ]
  },
  {
   "cell_type": "code",
   "execution_count": 100,
   "metadata": {},
   "outputs": [
    {
     "data": {
      "text/html": [
       "0.416842105263158"
      ],
      "text/latex": [
       "0.416842105263158"
      ],
      "text/markdown": [
       "0.416842105263158"
      ],
      "text/plain": [
       "[1] 0.4168421"
      ]
     },
     "metadata": {},
     "output_type": "display_data"
    }
   ],
   "source": [
    "precision <- 99 / (42 + 100)\n",
    "recall <- 99 / (233 + 100)\n",
    "fscore <- 2 * precision * recall / (precision + recall)\n",
    "fscore"
   ]
  },
  {
   "cell_type": "markdown",
   "metadata": {},
   "source": [
    "http://contest.kbig.kr/sub/sub_awards.php\n",
    "\n",
    "- F-measure(f-score)가 높은 사람에게 상을 줌\n",
    "\n",
    "- F-measure 값(Precision 과 Recall의 조화평균)\n",
    "- Precision : 참가자가 대출 연체발생자로 판별한 사람 중 실제 연체 발생자의 비율\n",
    "- Recall : 실제 연체 발생자 중 참가자가 연체 발생자로 편별한 사람의 비율"
   ]
  },
  {
   "cell_type": "markdown",
   "metadata": {},
   "source": [
    "- (2시간 37분)\n",
    "- Train_set으로 모델 트레이닝하고, 그 다음에는 validation set으로 해야한다.\n",
    "\n",
    "- (2시간 38분)\n",
    "- cut-off 중요한 기준\n",
    "- 0.5 가 아니라 0.8로 높였다면?"
   ]
  },
  {
   "cell_type": "code",
   "execution_count": 101,
   "metadata": {},
   "outputs": [
    {
     "data": {
      "text/plain": [
       "     y_label\n",
       "         0    1\n",
       "  No  9662    5\n",
       "  Yes  307   26"
      ]
     },
     "metadata": {},
     "output_type": "display_data"
    }
   ],
   "source": [
    "y_label <- ifelse(y_prob > 0.8, 1, 0)\n",
    "table(Default$default, y_label)"
   ]
  },
  {
   "cell_type": "code",
   "execution_count": 102,
   "metadata": {},
   "outputs": [
    {
     "data": {
      "text/plain": [
       "     y_label\n",
       "         0    1\n",
       "  No  9117  550\n",
       "  Yes   89  244"
      ]
     },
     "metadata": {},
     "output_type": "display_data"
    }
   ],
   "source": [
    "y_label <- ifelse(y_prob > 0.1, 1, 0)\n",
    "table(Default$default, y_label)"
   ]
  },
  {
   "cell_type": "markdown",
   "metadata": {},
   "source": [
    "- precision - recall의 트레이드 오프\n",
    "> - 일종의 hyperparameter\n",
    "- - -\n",
    "#### prauc\n",
    "- 2시간 40분\n",
    "> - cutoff 0.1 \n",
    ">> - cutoff를 낮추면(기준을 느슨하게 하면) ... recall이 늘어난다.\n",
    ">>> - p= 0.1, r= 0.9\n",
    "> - "
   ]
  },
  {
   "cell_type": "code",
   "execution_count": null,
   "metadata": {},
   "outputs": [],
   "source": []
  },
  {
   "cell_type": "markdown",
   "metadata": {},
   "source": [
    "### 퍼셉트론, SVM"
   ]
  },
  {
   "cell_type": "markdown",
   "metadata": {},
   "source": [
    "### 퍼셉트론\n",
    "- "
   ]
  },
  {
   "cell_type": "code",
   "execution_count": 104,
   "metadata": {},
   "outputs": [],
   "source": [
    "Model <- glm(formula = y ~ x, family = \"binomial\")"
   ]
  },
  {
   "cell_type": "code",
   "execution_count": 105,
   "metadata": {},
   "outputs": [
    {
     "data": {
      "text/plain": [
       "\n",
       "Call:  glm(formula = y ~ x, family = \"binomial\")\n",
       "\n",
       "Coefficients:\n",
       "(Intercept)            x  \n",
       "     -10.65         2.66  \n",
       "\n",
       "Degrees of Freedom: 9999 Total (i.e. Null);  9998 Residual\n",
       "Null Deviance:\t    2921 \n",
       "Residual Deviance: 1596 \tAIC: 1600"
      ]
     },
     "metadata": {},
     "output_type": "display_data"
    }
   ],
   "source": [
    "Model"
   ]
  },
  {
   "cell_type": "code",
   "execution_count": 106,
   "metadata": {},
   "outputs": [],
   "source": [
    "y_prob <- predict(Model)"
   ]
  },
  {
   "cell_type": "code",
   "execution_count": 107,
   "metadata": {},
   "outputs": [],
   "source": [
    "y_label <- ifelse(y_prob > 0.5, 1, 0)"
   ]
  },
  {
   "cell_type": "code",
   "execution_count": 108,
   "metadata": {},
   "outputs": [
    {
     "data": {
      "text/plain": [
       "   y_label\n",
       "y      0    1\n",
       "  0 9647   20\n",
       "  1  262   71"
      ]
     },
     "metadata": {},
     "output_type": "display_data"
    }
   ],
   "source": [
    "table(y, y_label)"
   ]
  },
  {
   "cell_type": "code",
   "execution_count": 116,
   "metadata": {},
   "outputs": [],
   "source": [
    "library(ranger)\n",
    "\n",
    "Model_ranger <- ranger(default ~ balance, data = Default)"
   ]
  },
  {
   "cell_type": "code",
   "execution_count": 117,
   "metadata": {},
   "outputs": [],
   "source": [
    "y_label <- predict(Model_ranger, Default)$predictions"
   ]
  },
  {
   "cell_type": "code",
   "execution_count": 118,
   "metadata": {},
   "outputs": [
    {
     "data": {
      "text/plain": [
       "     y_label\n",
       "        No  Yes\n",
       "  No  9667    0\n",
       "  Yes    0  333"
      ]
     },
     "metadata": {},
     "output_type": "display_data"
    }
   ],
   "source": [
    "table(Default$default, y_label)"
   ]
  },
  {
   "cell_type": "code",
   "execution_count": null,
   "metadata": {},
   "outputs": [],
   "source": []
  }
 ],
 "metadata": {
  "kernelspec": {
   "display_name": "R",
   "language": "R",
   "name": "ir"
  },
  "language_info": {
   "codemirror_mode": "r",
   "file_extension": ".r",
   "mimetype": "text/x-r-source",
   "name": "R",
   "pygments_lexer": "r",
   "version": "3.5.0"
  }
 },
 "nbformat": 4,
 "nbformat_minor": 2
}
