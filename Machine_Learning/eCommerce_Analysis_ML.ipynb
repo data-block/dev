{
 "cells": [
  {
   "cell_type": "markdown",
   "metadata": {},
   "source": [
    "# e-Commerce Cart Data Analysis\n",
    "\n",
    "- Obj\n",
    "    - 수천만 건의 커머스 데이터를 이용하여 재구매 예측 모형 개발\n",
    "<br><br>\n",
    "- ML-Model \n",
    "    - XGboost\n",
    "<br><br>\n",
    "- Process\n",
    "    - Data Load -> EDA -> Data Wrangling -> Data Modeling (ML)\n",
    "<br><br>\n",
    "- Data Description\n",
    "<br><br>\n",
    "    - aisles : 상품 카테고리 (소분류, 1~6)\n",
    "        - aisle_id : 소분류 번호\n",
    "        - aisle : 소분류명\n",
    "<br><br>        \n",
    "    - departments : 상품 카테고리 (대분류, 1~6)\n",
    "        - department_id : 대분류 번호\n",
    "        - department : 대분류명\n",
    "<br><br>        \n",
    "    - orderp : __?__\n",
    "        - order_id : 주문번호\n",
    "        - product_id : 상품번호\n",
    "        - add_to_cart_order : 카트에 담은 순서\n",
    "        - reordered : 재주문 여부 (False : 0, True: 1)\n",
    "<br><br>\n",
    "    - ordert : __훈련 데이터?__\n",
    "        - order_id : 주문번호\n",
    "        - product_id : 상품번호\n",
    "        - add_to_cart_order : 카트에 담은 순서\n",
    "        - reordered : 재주문 여부 (False : 0, True: 1)\n",
    "<br><br>\n",
    "    - orders : 주문정보가 담겨 있는 테이블 ?\n",
    "        - user_id 기준으로 days_since_prior_order 를 갱신하는 것인지?\n",
    "        - order_id : 주문번호\n",
    "        - user_id : 유저번호\n",
    "        - eval_set : __?__ (prior / train / test)\n",
    "        - order_number : __주문순서 ?__ (1~100)\n",
    "        - order_dow : __?__\n",
    "        - order_hour_of_day : __?__\n",
    "        - days_since_prior_order : 재주문한 날짜\n",
    "<br><br>\n",
    "    - products : 제품 정보가 담겨 있는 테이블\n",
    "        - product_id : 상품번호\n",
    "        - product_name : 상품명\n",
    "        - aisle_id : 소분류 번호\n",
    "        - department_id : 대분류 번호\n",
    "<br><br>    \n",
    "- library\n",
    "    - data.table\n",
    "        - \n",
    "        - fread\n",
    "    - dplyr\n",
    "        - 데이터 전처리 라이브러리\n",
    "    - tidyr\n",
    "        - \n",
    "    - CKmeans.1d.dp\n",
    "        - \n",
    "    - DBI\n",
    "        - \n",
    "    - RMYSQL\n",
    "        - Database와 연동하는 라이브러리\n",
    "    - XGboost\n",
    "        - Machine Learning Library\n",
    "        - \n",
    "    - Decision Tree\n",
    "        - Machine Learning Library\n",
    "        - 의사결정나무\n",
    "        \n",
    "- https://docs.google.com/spreadsheets/d/1Di_diD4tTtSwFH-7bvopdLzsc602HrLrLnCty_xOQ1A/edit#gid=0\n",
    "- [instacart](http://bongholee.com/2017/07/%EC%9D%B8%EC%8A%A4%ED%83%80%EC%B9%B4%ED%8A%B8instacart-%EB%8D%B0%EC%9D%B4%ED%84%B0-%EB%B6%84%EC%84%9D%ED%95%B4%EB%B3%B4%EA%B8%B01/)\n",
    "- [insta-cart](https://www.kaggle.com/philippsp/exploratory-analysis-instacart/notebook)\n",
    "- [통계가 탐정이라면 데이터는 단서다](http://bongholee.com/2017/08/%EC%B1%85-%ED%86%B5%EA%B3%84%EA%B0%80-%ED%83%90%EC%A0%95%EC%9D%B4%EB%9D%BC%EB%A9%B4-%EB%8D%B0%EC%9D%B4%ED%84%B0%EB%8A%94-%EB%8B%A8%EC%84%9C%EC%9D%B4%EB%8B%A4-%EB%B2%8C%EA%B1%B0%EB%B2%97%EC%9D%80/)\n",
    "- [불확실한 시대에 확률적 사고가 필요한 이유](http://bongholee.com/2017/09/%EB%B6%88%ED%99%95%EC%8B%A4%ED%95%9C-%EC%8B%9C%EB%8C%80%EC%97%90-%ED%99%95%EB%A5%A0%EC%A0%81-%EC%82%AC%EA%B3%A0%EA%B0%80-%ED%95%84%EC%9A%94%ED%95%9C-%EC%9D%B4%EC%9C%A0-%ED%96%89%EC%9A%B4%EC%97%90/)\n",
    "- [예측은 애시당초 정답을 찾으려는 게 아니다](http://bongholee.com/2017/06/%EC%98%88%EC%B8%A1%EC%9D%80-%EC%95%A0%EC%8B%9C%EB%8B%B9%EC%B4%88-%EC%A0%95%EB%8B%B5%EC%9D%84-%EC%B0%BE%EC%9C%BC%EB%A0%A4%EB%8A%94%EA%B2%8C-%EC%95%84%EB%8B%88%EB%8B%A4%EC%8B%A0%ED%98%B8%EC%99%80/)\n",
    "- [Data Science For Good: DonorsChoose.org](https://www.kaggle.com/donorschoose/io)\n",
    "\n",
    "### 큰 그림을 그릴 수 있는 설명이 필요한 듯 싶어요\n",
    "- 이전 시간에 엑셀 파일로 시각화해서 보여주셨듯이요!\n",
    "- 어떤 목적을 갖고, 어떤 어떤 데이터가(테이블이) 있고, 거기에서 어떤 테이블의 어떤 요소들을 조합해서 어떤 feature들을 만들 것이고, 어떤 새로운 테이블을 만들어서, 전처리한 다음에, 어떤 식으로 모델링을 해서, 어떤 결과를 도출할 것이다! 이런 요약이 필요한 것 같아요 수영님!"
   ]
  },
  {
   "cell_type": "markdown",
   "metadata": {},
   "source": [
    "## 1. Import Libraries"
   ]
  },
  {
   "cell_type": "code",
   "execution_count": 3,
   "metadata": {},
   "outputs": [],
   "source": [
    "## Import Library ---------------------------------------------------------------\n",
    "library('data.table')\n",
    "library('dplyr')\n",
    "library('tidyr')\n",
    "library('Ckmeans.1d.dp')\n",
    "library('DBI')\n",
    "library('RMySQL')"
   ]
  },
  {
   "cell_type": "markdown",
   "metadata": {},
   "source": [
    "## 2. Connect R to Mysql"
   ]
  },
  {
   "cell_type": "code",
   "execution_count": 6,
   "metadata": {},
   "outputs": [],
   "source": [
    "## Connect R to Mysql ---------------------------------------------------------------\n",
    "mydb = dbConnect(MySQL(),\t user='id',\t password='pwd',\t\n",
    "                 dbname='mkt', host='127.0.0.1')"
   ]
  },
  {
   "cell_type": "code",
   "execution_count": 4,
   "metadata": {},
   "outputs": [
    {
     "ename": "ERROR",
     "evalue": "Error in .local(drv, ...): Failed to connect to database: Error: Access denied for user 'root'@'localhost' (using password: YES)\n\n",
     "output_type": "error",
     "traceback": [
      "Error in .local(drv, ...): Failed to connect to database: Error: Access denied for user 'root'@'localhost' (using password: YES)\n\nTraceback:\n",
      "1. dbConnect(MySQL(), user = \"root\", password = \"qawsedrf098!\", \n .     dbname = \"mkt\", host = \"127.0.0.1\")",
      "2. dbConnect(MySQL(), user = \"root\", password = \"qawsedrf098!\", \n .     dbname = \"mkt\", host = \"127.0.0.1\")",
      "3. .local(drv, ...)"
     ]
    }
   ],
   "source": [
    "## Connect R to Mysql ---------------------------------------------------------------\n",
    "mydb = dbConnect(MySQL(),\t user='root',\t password='qawsedrf098!',\t\n",
    "                 dbname='mkt', host='127.0.0.1')"
   ]
  },
  {
   "cell_type": "markdown",
   "metadata": {},
   "source": [
    "## 3. Load Data"
   ]
  },
  {
   "cell_type": "code",
   "execution_count": 5,
   "metadata": {},
   "outputs": [],
   "source": [
    "## Load Data ---------------------------------------------------------------\n",
    "aisles = fread(\"/Users/mac/Downloads/dev/study/SQL&R/rawdata/aisles.csv\")\n",
    "departments = fread(\"/Users/mac/Downloads/dev/study/SQL&R/rawdata/departments.csv\")\n",
    "orderp = fread(\"/Users/mac/Downloads/dev/study/SQL&R/rawdata/order_products__prior.csv\")\n",
    "ordert = fread(\"/Users/mac/Downloads/dev/study/SQL&R/rawdata/order_products__train.csv\")\n",
    "orders = fread(\"/Users/mac/Downloads/dev/study/SQL&R/rawdata/orders.csv\")\n",
    "products = fread(\"/Users/mac/Downloads/dev/study/SQL&R/rawdata/products.csv\")"
   ]
  },
  {
   "cell_type": "code",
   "execution_count": 6,
   "metadata": {
    "scrolled": true
   },
   "outputs": [
    {
     "data": {
      "text/html": [
       "<table>\n",
       "<thead><tr><th scope=col>aisle_id</th><th scope=col>aisle</th></tr></thead>\n",
       "<tbody>\n",
       "\t<tr><td>1                         </td><td>prepared soups salads     </td></tr>\n",
       "\t<tr><td>2                         </td><td>specialty cheeses         </td></tr>\n",
       "\t<tr><td>3                         </td><td>energy granola bars       </td></tr>\n",
       "\t<tr><td>4                         </td><td>instant foods             </td></tr>\n",
       "\t<tr><td>5                         </td><td>marinades meat preparation</td></tr>\n",
       "\t<tr><td>6                         </td><td>other                     </td></tr>\n",
       "</tbody>\n",
       "</table>\n"
      ],
      "text/latex": [
       "\\begin{tabular}{r|ll}\n",
       " aisle\\_id & aisle\\\\\n",
       "\\hline\n",
       "\t 1                          & prepared soups salads     \\\\\n",
       "\t 2                          & specialty cheeses         \\\\\n",
       "\t 3                          & energy granola bars       \\\\\n",
       "\t 4                          & instant foods             \\\\\n",
       "\t 5                          & marinades meat preparation\\\\\n",
       "\t 6                          & other                     \\\\\n",
       "\\end{tabular}\n"
      ],
      "text/markdown": [
       "\n",
       "aisle_id | aisle | \n",
       "|---|---|---|---|---|---|\n",
       "| 1                          | prepared soups salads      | \n",
       "| 2                          | specialty cheeses          | \n",
       "| 3                          | energy granola bars        | \n",
       "| 4                          | instant foods              | \n",
       "| 5                          | marinades meat preparation | \n",
       "| 6                          | other                      | \n",
       "\n",
       "\n"
      ],
      "text/plain": [
       "  aisle_id aisle                     \n",
       "1 1        prepared soups salads     \n",
       "2 2        specialty cheeses         \n",
       "3 3        energy granola bars       \n",
       "4 4        instant foods             \n",
       "5 5        marinades meat preparation\n",
       "6 6        other                     "
      ]
     },
     "metadata": {},
     "output_type": "display_data"
    },
    {
     "data": {
      "text/html": [
       "<table>\n",
       "<thead><tr><th scope=col>department_id</th><th scope=col>department</th></tr></thead>\n",
       "<tbody>\n",
       "\t<tr><td>1            </td><td>frozen       </td></tr>\n",
       "\t<tr><td>2            </td><td>other        </td></tr>\n",
       "\t<tr><td>3            </td><td>bakery       </td></tr>\n",
       "\t<tr><td>4            </td><td>produce      </td></tr>\n",
       "\t<tr><td>5            </td><td>alcohol      </td></tr>\n",
       "\t<tr><td>6            </td><td>international</td></tr>\n",
       "</tbody>\n",
       "</table>\n"
      ],
      "text/latex": [
       "\\begin{tabular}{r|ll}\n",
       " department\\_id & department\\\\\n",
       "\\hline\n",
       "\t 1             & frozen       \\\\\n",
       "\t 2             & other        \\\\\n",
       "\t 3             & bakery       \\\\\n",
       "\t 4             & produce      \\\\\n",
       "\t 5             & alcohol      \\\\\n",
       "\t 6             & international\\\\\n",
       "\\end{tabular}\n"
      ],
      "text/markdown": [
       "\n",
       "department_id | department | \n",
       "|---|---|---|---|---|---|\n",
       "| 1             | frozen        | \n",
       "| 2             | other         | \n",
       "| 3             | bakery        | \n",
       "| 4             | produce       | \n",
       "| 5             | alcohol       | \n",
       "| 6             | international | \n",
       "\n",
       "\n"
      ],
      "text/plain": [
       "  department_id department   \n",
       "1 1             frozen       \n",
       "2 2             other        \n",
       "3 3             bakery       \n",
       "4 4             produce      \n",
       "5 5             alcohol      \n",
       "6 6             international"
      ]
     },
     "metadata": {},
     "output_type": "display_data"
    },
    {
     "data": {
      "text/html": [
       "<table>\n",
       "<thead><tr><th scope=col>order_id</th><th scope=col>product_id</th><th scope=col>add_to_cart_order</th><th scope=col>reordered</th></tr></thead>\n",
       "<tbody>\n",
       "\t<tr><td>2    </td><td>33120</td><td>1    </td><td>1    </td></tr>\n",
       "\t<tr><td>2    </td><td>28985</td><td>2    </td><td>1    </td></tr>\n",
       "\t<tr><td>2    </td><td> 9327</td><td>3    </td><td>0    </td></tr>\n",
       "\t<tr><td>2    </td><td>45918</td><td>4    </td><td>1    </td></tr>\n",
       "\t<tr><td>2    </td><td>30035</td><td>5    </td><td>0    </td></tr>\n",
       "\t<tr><td>2    </td><td>17794</td><td>6    </td><td>1    </td></tr>\n",
       "</tbody>\n",
       "</table>\n"
      ],
      "text/latex": [
       "\\begin{tabular}{r|llll}\n",
       " order\\_id & product\\_id & add\\_to\\_cart\\_order & reordered\\\\\n",
       "\\hline\n",
       "\t 2     & 33120 & 1     & 1    \\\\\n",
       "\t 2     & 28985 & 2     & 1    \\\\\n",
       "\t 2     &  9327 & 3     & 0    \\\\\n",
       "\t 2     & 45918 & 4     & 1    \\\\\n",
       "\t 2     & 30035 & 5     & 0    \\\\\n",
       "\t 2     & 17794 & 6     & 1    \\\\\n",
       "\\end{tabular}\n"
      ],
      "text/markdown": [
       "\n",
       "order_id | product_id | add_to_cart_order | reordered | \n",
       "|---|---|---|---|---|---|\n",
       "| 2     | 33120 | 1     | 1     | \n",
       "| 2     | 28985 | 2     | 1     | \n",
       "| 2     |  9327 | 3     | 0     | \n",
       "| 2     | 45918 | 4     | 1     | \n",
       "| 2     | 30035 | 5     | 0     | \n",
       "| 2     | 17794 | 6     | 1     | \n",
       "\n",
       "\n"
      ],
      "text/plain": [
       "  order_id product_id add_to_cart_order reordered\n",
       "1 2        33120      1                 1        \n",
       "2 2        28985      2                 1        \n",
       "3 2         9327      3                 0        \n",
       "4 2        45918      4                 1        \n",
       "5 2        30035      5                 0        \n",
       "6 2        17794      6                 1        "
      ]
     },
     "metadata": {},
     "output_type": "display_data"
    },
    {
     "data": {
      "text/html": [
       "<table>\n",
       "<thead><tr><th scope=col>order_id</th><th scope=col>product_id</th><th scope=col>add_to_cart_order</th><th scope=col>reordered</th></tr></thead>\n",
       "<tbody>\n",
       "\t<tr><td>1    </td><td>49302</td><td>1    </td><td>1    </td></tr>\n",
       "\t<tr><td>1    </td><td>11109</td><td>2    </td><td>1    </td></tr>\n",
       "\t<tr><td>1    </td><td>10246</td><td>3    </td><td>0    </td></tr>\n",
       "\t<tr><td>1    </td><td>49683</td><td>4    </td><td>0    </td></tr>\n",
       "\t<tr><td>1    </td><td>43633</td><td>5    </td><td>1    </td></tr>\n",
       "\t<tr><td>1    </td><td>13176</td><td>6    </td><td>0    </td></tr>\n",
       "</tbody>\n",
       "</table>\n"
      ],
      "text/latex": [
       "\\begin{tabular}{r|llll}\n",
       " order\\_id & product\\_id & add\\_to\\_cart\\_order & reordered\\\\\n",
       "\\hline\n",
       "\t 1     & 49302 & 1     & 1    \\\\\n",
       "\t 1     & 11109 & 2     & 1    \\\\\n",
       "\t 1     & 10246 & 3     & 0    \\\\\n",
       "\t 1     & 49683 & 4     & 0    \\\\\n",
       "\t 1     & 43633 & 5     & 1    \\\\\n",
       "\t 1     & 13176 & 6     & 0    \\\\\n",
       "\\end{tabular}\n"
      ],
      "text/markdown": [
       "\n",
       "order_id | product_id | add_to_cart_order | reordered | \n",
       "|---|---|---|---|---|---|\n",
       "| 1     | 49302 | 1     | 1     | \n",
       "| 1     | 11109 | 2     | 1     | \n",
       "| 1     | 10246 | 3     | 0     | \n",
       "| 1     | 49683 | 4     | 0     | \n",
       "| 1     | 43633 | 5     | 1     | \n",
       "| 1     | 13176 | 6     | 0     | \n",
       "\n",
       "\n"
      ],
      "text/plain": [
       "  order_id product_id add_to_cart_order reordered\n",
       "1 1        49302      1                 1        \n",
       "2 1        11109      2                 1        \n",
       "3 1        10246      3                 0        \n",
       "4 1        49683      4                 0        \n",
       "5 1        43633      5                 1        \n",
       "6 1        13176      6                 0        "
      ]
     },
     "metadata": {},
     "output_type": "display_data"
    },
    {
     "data": {
      "text/html": [
       "<table>\n",
       "<thead><tr><th scope=col>order_id</th><th scope=col>user_id</th><th scope=col>eval_set</th><th scope=col>order_number</th><th scope=col>order_dow</th><th scope=col>order_hour_of_day</th><th scope=col>days_since_prior_order</th></tr></thead>\n",
       "<tbody>\n",
       "\t<tr><td>2539329</td><td>1      </td><td>prior  </td><td>1      </td><td>2      </td><td> 8     </td><td>NA     </td></tr>\n",
       "\t<tr><td>2398795</td><td>1      </td><td>prior  </td><td>2      </td><td>3      </td><td> 7     </td><td>15     </td></tr>\n",
       "\t<tr><td> 473747</td><td>1      </td><td>prior  </td><td>3      </td><td>3      </td><td>12     </td><td>21     </td></tr>\n",
       "\t<tr><td>2254736</td><td>1      </td><td>prior  </td><td>4      </td><td>4      </td><td> 7     </td><td>29     </td></tr>\n",
       "\t<tr><td> 431534</td><td>1      </td><td>prior  </td><td>5      </td><td>4      </td><td>15     </td><td>28     </td></tr>\n",
       "\t<tr><td>3367565</td><td>1      </td><td>prior  </td><td>6      </td><td>2      </td><td> 7     </td><td>19     </td></tr>\n",
       "</tbody>\n",
       "</table>\n"
      ],
      "text/latex": [
       "\\begin{tabular}{r|lllllll}\n",
       " order\\_id & user\\_id & eval\\_set & order\\_number & order\\_dow & order\\_hour\\_of\\_day & days\\_since\\_prior\\_order\\\\\n",
       "\\hline\n",
       "\t 2539329 & 1       & prior   & 1       & 2       &  8      & NA     \\\\\n",
       "\t 2398795 & 1       & prior   & 2       & 3       &  7      & 15     \\\\\n",
       "\t  473747 & 1       & prior   & 3       & 3       & 12      & 21     \\\\\n",
       "\t 2254736 & 1       & prior   & 4       & 4       &  7      & 29     \\\\\n",
       "\t  431534 & 1       & prior   & 5       & 4       & 15      & 28     \\\\\n",
       "\t 3367565 & 1       & prior   & 6       & 2       &  7      & 19     \\\\\n",
       "\\end{tabular}\n"
      ],
      "text/markdown": [
       "\n",
       "order_id | user_id | eval_set | order_number | order_dow | order_hour_of_day | days_since_prior_order | \n",
       "|---|---|---|---|---|---|\n",
       "| 2539329 | 1       | prior   | 1       | 2       |  8      | NA      | \n",
       "| 2398795 | 1       | prior   | 2       | 3       |  7      | 15      | \n",
       "|  473747 | 1       | prior   | 3       | 3       | 12      | 21      | \n",
       "| 2254736 | 1       | prior   | 4       | 4       |  7      | 29      | \n",
       "|  431534 | 1       | prior   | 5       | 4       | 15      | 28      | \n",
       "| 3367565 | 1       | prior   | 6       | 2       |  7      | 19      | \n",
       "\n",
       "\n"
      ],
      "text/plain": [
       "  order_id user_id eval_set order_number order_dow order_hour_of_day\n",
       "1 2539329  1       prior    1            2          8               \n",
       "2 2398795  1       prior    2            3          7               \n",
       "3  473747  1       prior    3            3         12               \n",
       "4 2254736  1       prior    4            4          7               \n",
       "5  431534  1       prior    5            4         15               \n",
       "6 3367565  1       prior    6            2          7               \n",
       "  days_since_prior_order\n",
       "1 NA                    \n",
       "2 15                    \n",
       "3 21                    \n",
       "4 29                    \n",
       "5 28                    \n",
       "6 19                    "
      ]
     },
     "metadata": {},
     "output_type": "display_data"
    },
    {
     "data": {
      "text/html": [
       "<table>\n",
       "<thead><tr><th scope=col>product_id</th><th scope=col>product_name</th><th scope=col>aisle_id</th><th scope=col>department_id</th></tr></thead>\n",
       "<tbody>\n",
       "\t<tr><td>1                                                                </td><td>Chocolate Sandwich Cookies                                       </td><td> 61                                                              </td><td>19                                                               </td></tr>\n",
       "\t<tr><td>2                                                                </td><td>All-Seasons Salt                                                 </td><td>104                                                              </td><td>13                                                               </td></tr>\n",
       "\t<tr><td>3                                                                </td><td>Robust Golden Unsweetened Oolong Tea                             </td><td> 94                                                              </td><td> 7                                                               </td></tr>\n",
       "\t<tr><td>4                                                                </td><td>Smart Ones Classic Favorites Mini Rigatoni With Vodka Cream Sauce</td><td> 38                                                              </td><td> 1                                                               </td></tr>\n",
       "\t<tr><td>5                                                                </td><td>Green Chile Anytime Sauce                                        </td><td>  5                                                              </td><td>13                                                               </td></tr>\n",
       "\t<tr><td>6                                                                </td><td>Dry Nose Oil                                                     </td><td> 11                                                              </td><td>11                                                               </td></tr>\n",
       "</tbody>\n",
       "</table>\n"
      ],
      "text/latex": [
       "\\begin{tabular}{r|llll}\n",
       " product\\_id & product\\_name & aisle\\_id & department\\_id\\\\\n",
       "\\hline\n",
       "\t 1                                                                 & Chocolate Sandwich Cookies                                        &  61                                                               & 19                                                               \\\\\n",
       "\t 2                                                                 & All-Seasons Salt                                                  & 104                                                               & 13                                                               \\\\\n",
       "\t 3                                                                 & Robust Golden Unsweetened Oolong Tea                              &  94                                                               &  7                                                               \\\\\n",
       "\t 4                                                                 & Smart Ones Classic Favorites Mini Rigatoni With Vodka Cream Sauce &  38                                                               &  1                                                               \\\\\n",
       "\t 5                                                                 & Green Chile Anytime Sauce                                         &   5                                                               & 13                                                               \\\\\n",
       "\t 6                                                                 & Dry Nose Oil                                                      &  11                                                               & 11                                                               \\\\\n",
       "\\end{tabular}\n"
      ],
      "text/markdown": [
       "\n",
       "product_id | product_name | aisle_id | department_id | \n",
       "|---|---|---|---|---|---|\n",
       "| 1                                                                 | Chocolate Sandwich Cookies                                        |  61                                                               | 19                                                                | \n",
       "| 2                                                                 | All-Seasons Salt                                                  | 104                                                               | 13                                                                | \n",
       "| 3                                                                 | Robust Golden Unsweetened Oolong Tea                              |  94                                                               |  7                                                                | \n",
       "| 4                                                                 | Smart Ones Classic Favorites Mini Rigatoni With Vodka Cream Sauce |  38                                                               |  1                                                                | \n",
       "| 5                                                                 | Green Chile Anytime Sauce                                         |   5                                                               | 13                                                                | \n",
       "| 6                                                                 | Dry Nose Oil                                                      |  11                                                               | 11                                                                | \n",
       "\n",
       "\n"
      ],
      "text/plain": [
       "  product_id product_name                                                     \n",
       "1 1          Chocolate Sandwich Cookies                                       \n",
       "2 2          All-Seasons Salt                                                 \n",
       "3 3          Robust Golden Unsweetened Oolong Tea                             \n",
       "4 4          Smart Ones Classic Favorites Mini Rigatoni With Vodka Cream Sauce\n",
       "5 5          Green Chile Anytime Sauce                                        \n",
       "6 6          Dry Nose Oil                                                     \n",
       "  aisle_id department_id\n",
       "1  61      19           \n",
       "2 104      13           \n",
       "3  94       7           \n",
       "4  38       1           \n",
       "5   5      13           \n",
       "6  11      11           "
      ]
     },
     "metadata": {},
     "output_type": "display_data"
    }
   ],
   "source": [
    "# products -----------\n",
    "head(aisles)       # 소분류(상품 종류)\n",
    "head(departments)  # 대분류(상품 종류)\n",
    "head(orderp)       # 주문번호, 상품번호, 카트에 넣은 순서, 재구매 여부(0: False, 1: True)\n",
    "head(ordert)       # 학습데이터\n",
    "head(orders)       # order_id는 unique 값\n",
    "head(products)     # aisle_id, department_id 와 join"
   ]
  },
  {
   "cell_type": "markdown",
   "metadata": {},
   "source": [
    "## 4. Reshape Data\n",
    "- 1) inner_join, match, mutate, group_by, summarise, arrange\n",
    "- 2) as.factor\n",
    "- inner_join : dataframe 간 join\n",
    "- match : 벡터간 위치 비교\n",
    "\n",
    "### Q. 2주차에 했던 방식과 다른데 그 이유는?\n",
    "- as.factor는 한 컬럼을 factor로 만들어준다는 명령어일텐데, factor가 무엇인지? 이렇게 하는 이유는?\n",
    "> - factor는 모델링 돌릴 때, 회귀분석을 돌린다면... 모델의 종속/독립 변수라는 걸 설정해주면 R이 조금 더 정확하게 이해를 한다.\n",
    "> - 굳이 하지 않아도 돌아가기는 하는데, 변경을 해서 돌린다.\n",
    "> - 변수 설정"
   ]
  },
  {
   "cell_type": "code",
   "execution_count": 7,
   "metadata": {},
   "outputs": [],
   "source": [
    "## Reshape data ------------------------------------------------------------\n",
    "## ---------------------------------------------------------------\n",
    "aisles$aisle <- as.factor(aisles$aisle)\n",
    "departments$department <- as.factor(departments$department)\n",
    "orders$eval_set <- as.factor(orders$eval_set)\n",
    "products$product_name <- as.factor(products$product_name)"
   ]
  },
  {
   "cell_type": "markdown",
   "metadata": {},
   "source": [
    "### Q.\n",
    "- 이전에 작성했던 쿼리는 aisle_id, department_id를 기준으로 inner_join 하는 건데, 지금 쿼리는 제외(-aisle_id, -department_id)하고 지우기?\n",
    "- rm을 하는 이유는?\n",
    "- 예전 쿼리처럼 주석이 달려있으면 더 좋을 것 같아요!\n",
    "\n",
    "- 주석처리된 과거 코드\n",
    "```SQL\n",
    "select  *\n",
    "from products a\n",
    "inner join  aisles b\n",
    "        on  a.aisle_id = b.aisle_id\n",
    "inner join departments c\n",
    "        on a.department_id = c.department_id\n",
    "```\n",
    "\n",
    "- __현재 코드는?__"
   ]
  },
  {
   "cell_type": "code",
   "execution_count": 8,
   "metadata": {},
   "outputs": [
    {
     "name": "stderr",
     "output_type": "stream",
     "text": [
      "Joining, by = \"aisle_id\"\n",
      "Joining, by = \"department_id\"\n"
     ]
    },
    {
     "data": {
      "text/html": [
       "<table>\n",
       "<thead><tr><th></th><th scope=col>used</th><th scope=col>(Mb)</th><th scope=col>gc trigger</th><th scope=col>(Mb)</th><th scope=col>limit (Mb)</th><th scope=col>max used</th><th scope=col>(Mb)</th></tr></thead>\n",
       "<tbody>\n",
       "\t<tr><th scope=row>Ncells</th><td>   791690</td><td>  42.3   </td><td>  1505515</td><td>  80.5   </td><td>   NA    </td><td>  1139421</td><td>  60.9   </td></tr>\n",
       "\t<tr><th scope=row>Vcells</th><td>207376199</td><td>1582.2   </td><td>329637784</td><td>2515.0   </td><td>16384    </td><td>272976821</td><td>2082.7   </td></tr>\n",
       "</tbody>\n",
       "</table>\n"
      ],
      "text/latex": [
       "\\begin{tabular}{r|lllllll}\n",
       "  & used & (Mb) & gc trigger & (Mb) & limit (Mb) & max used & (Mb)\\\\\n",
       "\\hline\n",
       "\tNcells &    791690 &   42.3    &   1505515 &   80.5    &    NA     &   1139421 &   60.9   \\\\\n",
       "\tVcells & 207376199 & 1582.2    & 329637784 & 2515.0    & 16384     & 272976821 & 2082.7   \\\\\n",
       "\\end{tabular}\n"
      ],
      "text/markdown": [
       "\n",
       "| <!--/--> | used | (Mb) | gc trigger | (Mb) | limit (Mb) | max used | (Mb) | \n",
       "|---|---|\n",
       "| Ncells |    791690 |   42.3    |   1505515 |   80.5    |    NA     |   1139421 |   60.9    | \n",
       "| Vcells | 207376199 | 1582.2    | 329637784 | 2515.0    | 16384     | 272976821 | 2082.7    | \n",
       "\n",
       "\n"
      ],
      "text/plain": [
       "       used      (Mb)   gc trigger (Mb)   limit (Mb) max used  (Mb)  \n",
       "Ncells    791690   42.3   1505515    80.5    NA        1139421   60.9\n",
       "Vcells 207376199 1582.2 329637784  2515.0 16384      272976821 2082.7"
      ]
     },
     "metadata": {},
     "output_type": "display_data"
    }
   ],
   "source": [
    "# products에 aisle, department 정보 붙이기 (inner_join)\n",
    "# products <- products %>%\n",
    "#     inner_join(aisles, by='aisle_id') %>%\n",
    "#     inner_join(departments, by='department_id')\n",
    "\n",
    "## products 테이블에 aisle, department 정보 붙이고, 기존 테이블(aisles, departments) 제거---------------------------------------------------------------\n",
    "products <- products %>%\n",
    "    inner_join(aisles) %>%\n",
    "    inner_join(departments) %>%\n",
    "    select(-aisle_id, -department_id)\n",
    "rm(aisles, departments)\n",
    "\n",
    "## match == inner_join ---------------------------------------------------------------\n",
    "# ordert와 orders의 교집합 중에 orders의 위치를 찾아 ordert에 넣는다\n",
    "ordert$user_id <- orders$user_id[match(ordert$order_id, orders$order_id)]\n",
    "\n",
    "## 새로운 테이블(orders_products) 생성 후 기존 테이블(orderp) 제거 ---------------------------------------------------------------\n",
    "# orders 테이블에 orderp inner_join(on order_id)\n",
    "orders_products <- orders %>% inner_join(orderp, by = \"order_id\")\n",
    "rm(orderp)\n",
    "\n",
    "## 메모리 초기화(정리) ---------------------------------------------------------------\n",
    "gc()"
   ]
  },
  {
   "cell_type": "markdown",
   "metadata": {},
   "source": [
    "## 5. prd (products)\n",
    "- __train data ?__\n",
    "> - __orders_x ? == prd ?__\n",
    "\n",
    "\n",
    "```r\n",
    "## 1. product_time column 생성\n",
    "# reodered는 0과 1로 이루어져 있음 (0: False, 1: True)\n",
    "# product_time은 재구매 횟수\n",
    "orders_products %>%\n",
    "  arrange(user_id, order_number, product_id) %>%\n",
    "  group_by(user_id, product_id) %>%\n",
    "  mutate(product_time = row_number())\n",
    "\n",
    "## 2. ungroup\n",
    "# ungroup을 해주는 이유는 group_by를 하기 위함일텐데\n",
    "# group한 것에 다시 group을 할 수 없어서 이런 것을 하는 것인가?\n",
    "# sql의 having 같은 기능구 현을 위한 것인가?\n",
    "# group_by에 다시 조건을 주기 위해\n",
    "orders_products %>%\n",
    "  arrange(user_id, order_number, product_id) %>%\n",
    "  group_by(user_id, product_id) %>%\n",
    "  mutate(product_time = row_number()) %>%\n",
    "  ungroup() %>%\n",
    "\n",
    "## 3. group & summarise\n",
    "# product_id로 다시 묶은 이유는?\n",
    "orders_products %>%\n",
    "  arrange(user_id, order_number, product_id) %>%\n",
    "  group_by(user_id, product_id) %>%\n",
    "  mutate(product_time = row_number()) %>%\n",
    "  ungroup() %>%\n",
    "  group_by(product_id) %>%\n",
    "  summarise(\n",
    "    prod_orders = n(),\n",
    "    prod_reorders = sum(reordered),\n",
    "    prod_first_orders = sum(product_time == 1),\n",
    "    prod_second_orders = sum(product_time == 2)\n",
    "  )\n",
    "\n",
    "```\n",
    "\n",
    "- orders_x 테이블 생성\n",
    "> - keyword: group_by, mutate, rnk, ungroup\n",
    "> - 1) user_id와 product_id를 group_by 한 다음에, mutate 함수로 rnk를 생성\n",
    ">> - rnk의 약자, row_number는 넘버링을 위한 것인데, cnt를 하기 위한 것?\n",
    ">> - 유저별, 상품별 구매한 순서를 매기기 위한 것\n",
    ">> - 한 유저가 상품을 몇 번 구매했는지 알기 위해 넘버링"
   ]
  },
  {
   "cell_type": "code",
   "execution_count": 9,
   "metadata": {},
   "outputs": [
    {
     "data": {
      "text/html": [
       "<ol class=list-inline>\n",
       "\t<li>'order_id'</li>\n",
       "\t<li>'user_id'</li>\n",
       "\t<li>'eval_set'</li>\n",
       "\t<li>'order_number'</li>\n",
       "\t<li>'order_dow'</li>\n",
       "\t<li>'order_hour_of_day'</li>\n",
       "\t<li>'days_since_prior_order'</li>\n",
       "\t<li>'product_id'</li>\n",
       "\t<li>'add_to_cart_order'</li>\n",
       "\t<li>'reordered'</li>\n",
       "</ol>\n"
      ],
      "text/latex": [
       "\\begin{enumerate*}\n",
       "\\item 'order\\_id'\n",
       "\\item 'user\\_id'\n",
       "\\item 'eval\\_set'\n",
       "\\item 'order\\_number'\n",
       "\\item 'order\\_dow'\n",
       "\\item 'order\\_hour\\_of\\_day'\n",
       "\\item 'days\\_since\\_prior\\_order'\n",
       "\\item 'product\\_id'\n",
       "\\item 'add\\_to\\_cart\\_order'\n",
       "\\item 'reordered'\n",
       "\\end{enumerate*}\n"
      ],
      "text/markdown": [
       "1. 'order_id'\n",
       "2. 'user_id'\n",
       "3. 'eval_set'\n",
       "4. 'order_number'\n",
       "5. 'order_dow'\n",
       "6. 'order_hour_of_day'\n",
       "7. 'days_since_prior_order'\n",
       "8. 'product_id'\n",
       "9. 'add_to_cart_order'\n",
       "10. 'reordered'\n",
       "\n",
       "\n"
      ],
      "text/plain": [
       " [1] \"order_id\"               \"user_id\"                \"eval_set\"              \n",
       " [4] \"order_number\"           \"order_dow\"              \"order_hour_of_day\"     \n",
       " [7] \"days_since_prior_order\" \"product_id\"             \"add_to_cart_order\"     \n",
       "[10] \"reordered\"             "
      ]
     },
     "metadata": {},
     "output_type": "display_data"
    },
    {
     "name": "stdout",
     "output_type": "stream",
     "text": [
      "'data.frame':\t32434489 obs. of  10 variables:\n",
      " $ order_id              : int  2539329 2539329 2539329 2539329 2539329 2398795 2398795 2398795 2398795 2398795 ...\n",
      " $ user_id               : int  1 1 1 1 1 1 1 1 1 1 ...\n",
      " $ eval_set              : Factor w/ 3 levels \"prior\",\"test\",..: 1 1 1 1 1 1 1 1 1 1 ...\n",
      " $ order_number          : int  1 1 1 1 1 2 2 2 2 2 ...\n",
      " $ order_dow             : int  2 2 2 2 2 3 3 3 3 3 ...\n",
      " $ order_hour_of_day     : int  8 8 8 8 8 7 7 7 7 7 ...\n",
      " $ days_since_prior_order: num  NA NA NA NA NA 15 15 15 15 15 ...\n",
      " $ product_id            : int  196 14084 12427 26088 26405 196 10258 12427 13176 26088 ...\n",
      " $ add_to_cart_order     : int  1 2 3 4 5 1 2 3 4 5 ...\n",
      " $ reordered             : int  0 0 0 0 0 1 0 1 0 1 ...\n"
     ]
    }
   ],
   "source": [
    "names(orders_products)\n",
    "str(orders_products)"
   ]
  },
  {
   "cell_type": "code",
   "execution_count": 10,
   "metadata": {},
   "outputs": [
    {
     "data": {
      "text/html": [
       "<table>\n",
       "<thead><tr><th scope=col>order_id</th><th scope=col>user_id</th><th scope=col>eval_set</th><th scope=col>order_number</th><th scope=col>order_dow</th><th scope=col>order_hour_of_day</th><th scope=col>days_since_prior_order</th><th scope=col>product_id</th><th scope=col>add_to_cart_order</th><th scope=col>reordered</th></tr></thead>\n",
       "<tbody>\n",
       "\t<tr><td>2539329</td><td>1      </td><td>prior  </td><td>1      </td><td>2      </td><td>8      </td><td>NA     </td><td>  196  </td><td>1      </td><td>0      </td></tr>\n",
       "\t<tr><td>2539329</td><td>1      </td><td>prior  </td><td>1      </td><td>2      </td><td>8      </td><td>NA     </td><td>14084  </td><td>2      </td><td>0      </td></tr>\n",
       "\t<tr><td>2539329</td><td>1      </td><td>prior  </td><td>1      </td><td>2      </td><td>8      </td><td>NA     </td><td>12427  </td><td>3      </td><td>0      </td></tr>\n",
       "\t<tr><td>2539329</td><td>1      </td><td>prior  </td><td>1      </td><td>2      </td><td>8      </td><td>NA     </td><td>26088  </td><td>4      </td><td>0      </td></tr>\n",
       "\t<tr><td>2539329</td><td>1      </td><td>prior  </td><td>1      </td><td>2      </td><td>8      </td><td>NA     </td><td>26405  </td><td>5      </td><td>0      </td></tr>\n",
       "\t<tr><td>2398795</td><td>1      </td><td>prior  </td><td>2      </td><td>3      </td><td>7      </td><td>15     </td><td>  196  </td><td>1      </td><td>1      </td></tr>\n",
       "\t<tr><td>2398795</td><td>1      </td><td>prior  </td><td>2      </td><td>3      </td><td>7      </td><td>15     </td><td>10258  </td><td>2      </td><td>0      </td></tr>\n",
       "\t<tr><td>2398795</td><td>1      </td><td>prior  </td><td>2      </td><td>3      </td><td>7      </td><td>15     </td><td>12427  </td><td>3      </td><td>1      </td></tr>\n",
       "\t<tr><td>2398795</td><td>1      </td><td>prior  </td><td>2      </td><td>3      </td><td>7      </td><td>15     </td><td>13176  </td><td>4      </td><td>0      </td></tr>\n",
       "\t<tr><td>2398795</td><td>1      </td><td>prior  </td><td>2      </td><td>3      </td><td>7      </td><td>15     </td><td>26088  </td><td>5      </td><td>1      </td></tr>\n",
       "</tbody>\n",
       "</table>\n"
      ],
      "text/latex": [
       "\\begin{tabular}{r|llllllllll}\n",
       " order\\_id & user\\_id & eval\\_set & order\\_number & order\\_dow & order\\_hour\\_of\\_day & days\\_since\\_prior\\_order & product\\_id & add\\_to\\_cart\\_order & reordered\\\\\n",
       "\\hline\n",
       "\t 2539329 & 1       & prior   & 1       & 2       & 8       & NA      &   196   & 1       & 0      \\\\\n",
       "\t 2539329 & 1       & prior   & 1       & 2       & 8       & NA      & 14084   & 2       & 0      \\\\\n",
       "\t 2539329 & 1       & prior   & 1       & 2       & 8       & NA      & 12427   & 3       & 0      \\\\\n",
       "\t 2539329 & 1       & prior   & 1       & 2       & 8       & NA      & 26088   & 4       & 0      \\\\\n",
       "\t 2539329 & 1       & prior   & 1       & 2       & 8       & NA      & 26405   & 5       & 0      \\\\\n",
       "\t 2398795 & 1       & prior   & 2       & 3       & 7       & 15      &   196   & 1       & 1      \\\\\n",
       "\t 2398795 & 1       & prior   & 2       & 3       & 7       & 15      & 10258   & 2       & 0      \\\\\n",
       "\t 2398795 & 1       & prior   & 2       & 3       & 7       & 15      & 12427   & 3       & 1      \\\\\n",
       "\t 2398795 & 1       & prior   & 2       & 3       & 7       & 15      & 13176   & 4       & 0      \\\\\n",
       "\t 2398795 & 1       & prior   & 2       & 3       & 7       & 15      & 26088   & 5       & 1      \\\\\n",
       "\\end{tabular}\n"
      ],
      "text/markdown": [
       "\n",
       "order_id | user_id | eval_set | order_number | order_dow | order_hour_of_day | days_since_prior_order | product_id | add_to_cart_order | reordered | \n",
       "|---|---|---|---|---|---|---|---|---|---|\n",
       "| 2539329 | 1       | prior   | 1       | 2       | 8       | NA      |   196   | 1       | 0       | \n",
       "| 2539329 | 1       | prior   | 1       | 2       | 8       | NA      | 14084   | 2       | 0       | \n",
       "| 2539329 | 1       | prior   | 1       | 2       | 8       | NA      | 12427   | 3       | 0       | \n",
       "| 2539329 | 1       | prior   | 1       | 2       | 8       | NA      | 26088   | 4       | 0       | \n",
       "| 2539329 | 1       | prior   | 1       | 2       | 8       | NA      | 26405   | 5       | 0       | \n",
       "| 2398795 | 1       | prior   | 2       | 3       | 7       | 15      |   196   | 1       | 1       | \n",
       "| 2398795 | 1       | prior   | 2       | 3       | 7       | 15      | 10258   | 2       | 0       | \n",
       "| 2398795 | 1       | prior   | 2       | 3       | 7       | 15      | 12427   | 3       | 1       | \n",
       "| 2398795 | 1       | prior   | 2       | 3       | 7       | 15      | 13176   | 4       | 0       | \n",
       "| 2398795 | 1       | prior   | 2       | 3       | 7       | 15      | 26088   | 5       | 1       | \n",
       "\n",
       "\n"
      ],
      "text/plain": [
       "   order_id user_id eval_set order_number order_dow order_hour_of_day\n",
       "1  2539329  1       prior    1            2         8                \n",
       "2  2539329  1       prior    1            2         8                \n",
       "3  2539329  1       prior    1            2         8                \n",
       "4  2539329  1       prior    1            2         8                \n",
       "5  2539329  1       prior    1            2         8                \n",
       "6  2398795  1       prior    2            3         7                \n",
       "7  2398795  1       prior    2            3         7                \n",
       "8  2398795  1       prior    2            3         7                \n",
       "9  2398795  1       prior    2            3         7                \n",
       "10 2398795  1       prior    2            3         7                \n",
       "   days_since_prior_order product_id add_to_cart_order reordered\n",
       "1  NA                       196      1                 0        \n",
       "2  NA                     14084      2                 0        \n",
       "3  NA                     12427      3                 0        \n",
       "4  NA                     26088      4                 0        \n",
       "5  NA                     26405      5                 0        \n",
       "6  15                       196      1                 1        \n",
       "7  15                     10258      2                 0        \n",
       "8  15                     12427      3                 1        \n",
       "9  15                     13176      4                 0        \n",
       "10 15                     26088      5                 1        "
      ]
     },
     "metadata": {},
     "output_type": "display_data"
    }
   ],
   "source": [
    "orders_products %>% head(10)"
   ]
  },
  {
   "cell_type": "code",
   "execution_count": 11,
   "metadata": {},
   "outputs": [
    {
     "data": {
      "text/html": [
       "<table>\n",
       "<thead><tr><th scope=col>order_id</th><th scope=col>user_id</th><th scope=col>eval_set</th><th scope=col>order_number</th><th scope=col>order_dow</th><th scope=col>order_hour_of_day</th><th scope=col>days_since_prior_order</th><th scope=col>product_id</th><th scope=col>add_to_cart_order</th><th scope=col>reordered</th><th scope=col>product_time</th></tr></thead>\n",
       "<tbody>\n",
       "\t<tr><td>2539329</td><td>1      </td><td>prior  </td><td>1      </td><td>2      </td><td>8      </td><td>NA     </td><td>  196  </td><td>1      </td><td>0      </td><td>1      </td></tr>\n",
       "\t<tr><td>2539329</td><td>1      </td><td>prior  </td><td>1      </td><td>2      </td><td>8      </td><td>NA     </td><td>12427  </td><td>3      </td><td>0      </td><td>1      </td></tr>\n",
       "\t<tr><td>2539329</td><td>1      </td><td>prior  </td><td>1      </td><td>2      </td><td>8      </td><td>NA     </td><td>14084  </td><td>2      </td><td>0      </td><td>1      </td></tr>\n",
       "\t<tr><td>2539329</td><td>1      </td><td>prior  </td><td>1      </td><td>2      </td><td>8      </td><td>NA     </td><td>26088  </td><td>4      </td><td>0      </td><td>1      </td></tr>\n",
       "\t<tr><td>2539329</td><td>1      </td><td>prior  </td><td>1      </td><td>2      </td><td>8      </td><td>NA     </td><td>26405  </td><td>5      </td><td>0      </td><td>1      </td></tr>\n",
       "\t<tr><td>2398795</td><td>1      </td><td>prior  </td><td>2      </td><td>3      </td><td>7      </td><td>15     </td><td>  196  </td><td>1      </td><td>1      </td><td>2      </td></tr>\n",
       "\t<tr><td>2398795</td><td>1      </td><td>prior  </td><td>2      </td><td>3      </td><td>7      </td><td>15     </td><td>10258  </td><td>2      </td><td>0      </td><td>1      </td></tr>\n",
       "\t<tr><td>2398795</td><td>1      </td><td>prior  </td><td>2      </td><td>3      </td><td>7      </td><td>15     </td><td>12427  </td><td>3      </td><td>1      </td><td>2      </td></tr>\n",
       "\t<tr><td>2398795</td><td>1      </td><td>prior  </td><td>2      </td><td>3      </td><td>7      </td><td>15     </td><td>13032  </td><td>6      </td><td>0      </td><td>1      </td></tr>\n",
       "\t<tr><td>2398795</td><td>1      </td><td>prior  </td><td>2      </td><td>3      </td><td>7      </td><td>15     </td><td>13176  </td><td>4      </td><td>0      </td><td>1      </td></tr>\n",
       "</tbody>\n",
       "</table>\n"
      ],
      "text/latex": [
       "\\begin{tabular}{r|lllllllllll}\n",
       " order\\_id & user\\_id & eval\\_set & order\\_number & order\\_dow & order\\_hour\\_of\\_day & days\\_since\\_prior\\_order & product\\_id & add\\_to\\_cart\\_order & reordered & product\\_time\\\\\n",
       "\\hline\n",
       "\t 2539329 & 1       & prior   & 1       & 2       & 8       & NA      &   196   & 1       & 0       & 1      \\\\\n",
       "\t 2539329 & 1       & prior   & 1       & 2       & 8       & NA      & 12427   & 3       & 0       & 1      \\\\\n",
       "\t 2539329 & 1       & prior   & 1       & 2       & 8       & NA      & 14084   & 2       & 0       & 1      \\\\\n",
       "\t 2539329 & 1       & prior   & 1       & 2       & 8       & NA      & 26088   & 4       & 0       & 1      \\\\\n",
       "\t 2539329 & 1       & prior   & 1       & 2       & 8       & NA      & 26405   & 5       & 0       & 1      \\\\\n",
       "\t 2398795 & 1       & prior   & 2       & 3       & 7       & 15      &   196   & 1       & 1       & 2      \\\\\n",
       "\t 2398795 & 1       & prior   & 2       & 3       & 7       & 15      & 10258   & 2       & 0       & 1      \\\\\n",
       "\t 2398795 & 1       & prior   & 2       & 3       & 7       & 15      & 12427   & 3       & 1       & 2      \\\\\n",
       "\t 2398795 & 1       & prior   & 2       & 3       & 7       & 15      & 13032   & 6       & 0       & 1      \\\\\n",
       "\t 2398795 & 1       & prior   & 2       & 3       & 7       & 15      & 13176   & 4       & 0       & 1      \\\\\n",
       "\\end{tabular}\n"
      ],
      "text/markdown": [
       "\n",
       "order_id | user_id | eval_set | order_number | order_dow | order_hour_of_day | days_since_prior_order | product_id | add_to_cart_order | reordered | product_time | \n",
       "|---|---|---|---|---|---|---|---|---|---|\n",
       "| 2539329 | 1       | prior   | 1       | 2       | 8       | NA      |   196   | 1       | 0       | 1       | \n",
       "| 2539329 | 1       | prior   | 1       | 2       | 8       | NA      | 12427   | 3       | 0       | 1       | \n",
       "| 2539329 | 1       | prior   | 1       | 2       | 8       | NA      | 14084   | 2       | 0       | 1       | \n",
       "| 2539329 | 1       | prior   | 1       | 2       | 8       | NA      | 26088   | 4       | 0       | 1       | \n",
       "| 2539329 | 1       | prior   | 1       | 2       | 8       | NA      | 26405   | 5       | 0       | 1       | \n",
       "| 2398795 | 1       | prior   | 2       | 3       | 7       | 15      |   196   | 1       | 1       | 2       | \n",
       "| 2398795 | 1       | prior   | 2       | 3       | 7       | 15      | 10258   | 2       | 0       | 1       | \n",
       "| 2398795 | 1       | prior   | 2       | 3       | 7       | 15      | 12427   | 3       | 1       | 2       | \n",
       "| 2398795 | 1       | prior   | 2       | 3       | 7       | 15      | 13032   | 6       | 0       | 1       | \n",
       "| 2398795 | 1       | prior   | 2       | 3       | 7       | 15      | 13176   | 4       | 0       | 1       | \n",
       "\n",
       "\n"
      ],
      "text/plain": [
       "   order_id user_id eval_set order_number order_dow order_hour_of_day\n",
       "1  2539329  1       prior    1            2         8                \n",
       "2  2539329  1       prior    1            2         8                \n",
       "3  2539329  1       prior    1            2         8                \n",
       "4  2539329  1       prior    1            2         8                \n",
       "5  2539329  1       prior    1            2         8                \n",
       "6  2398795  1       prior    2            3         7                \n",
       "7  2398795  1       prior    2            3         7                \n",
       "8  2398795  1       prior    2            3         7                \n",
       "9  2398795  1       prior    2            3         7                \n",
       "10 2398795  1       prior    2            3         7                \n",
       "   days_since_prior_order product_id add_to_cart_order reordered product_time\n",
       "1  NA                       196      1                 0         1           \n",
       "2  NA                     12427      3                 0         1           \n",
       "3  NA                     14084      2                 0         1           \n",
       "4  NA                     26088      4                 0         1           \n",
       "5  NA                     26405      5                 0         1           \n",
       "6  15                       196      1                 1         2           \n",
       "7  15                     10258      2                 0         1           \n",
       "8  15                     12427      3                 1         2           \n",
       "9  15                     13032      6                 0         1           \n",
       "10 15                     13176      4                 0         1           "
      ]
     },
     "metadata": {},
     "output_type": "display_data"
    }
   ],
   "source": [
    "orders_products %>%\n",
    "  arrange(user_id, order_number, product_id) %>%\n",
    "  group_by(user_id, product_id) %>%\n",
    "  mutate(product_time = row_number()) %>% head(10)"
   ]
  },
  {
   "cell_type": "markdown",
   "metadata": {},
   "source": [
    "### 5-1."
   ]
  },
  {
   "cell_type": "code",
   "execution_count": 12,
   "metadata": {},
   "outputs": [
    {
     "data": {
      "text/html": [
       "<table>\n",
       "<thead><tr><th scope=col>product_id</th><th scope=col>prod_orders</th><th scope=col>prod_reorders</th><th scope=col>prod_first_orders</th><th scope=col>prod_second_orders</th></tr></thead>\n",
       "<tbody>\n",
       "\t<tr><td> 1  </td><td>1852</td><td>1136</td><td> 716</td><td>276 </td></tr>\n",
       "\t<tr><td> 2  </td><td>  90</td><td>  12</td><td>  78</td><td>  8 </td></tr>\n",
       "\t<tr><td> 3  </td><td> 277</td><td> 203</td><td>  74</td><td> 36 </td></tr>\n",
       "\t<tr><td> 4  </td><td> 329</td><td> 147</td><td> 182</td><td> 64 </td></tr>\n",
       "\t<tr><td> 5  </td><td>  15</td><td>   9</td><td>   6</td><td>  4 </td></tr>\n",
       "\t<tr><td> 6  </td><td>   8</td><td>   3</td><td>   5</td><td>  2 </td></tr>\n",
       "\t<tr><td> 7  </td><td>  30</td><td>  12</td><td>  18</td><td>  6 </td></tr>\n",
       "\t<tr><td> 8  </td><td> 165</td><td>  83</td><td>  82</td><td> 30 </td></tr>\n",
       "\t<tr><td> 9  </td><td> 156</td><td>  82</td><td>  74</td><td> 31 </td></tr>\n",
       "\t<tr><td>10  </td><td>2572</td><td>1304</td><td>1268</td><td>399 </td></tr>\n",
       "</tbody>\n",
       "</table>\n"
      ],
      "text/latex": [
       "\\begin{tabular}{r|lllll}\n",
       " product\\_id & prod\\_orders & prod\\_reorders & prod\\_first\\_orders & prod\\_second\\_orders\\\\\n",
       "\\hline\n",
       "\t  1   & 1852 & 1136 &  716 & 276 \\\\\n",
       "\t  2   &   90 &   12 &   78 &   8 \\\\\n",
       "\t  3   &  277 &  203 &   74 &  36 \\\\\n",
       "\t  4   &  329 &  147 &  182 &  64 \\\\\n",
       "\t  5   &   15 &    9 &    6 &   4 \\\\\n",
       "\t  6   &    8 &    3 &    5 &   2 \\\\\n",
       "\t  7   &   30 &   12 &   18 &   6 \\\\\n",
       "\t  8   &  165 &   83 &   82 &  30 \\\\\n",
       "\t  9   &  156 &   82 &   74 &  31 \\\\\n",
       "\t 10   & 2572 & 1304 & 1268 & 399 \\\\\n",
       "\\end{tabular}\n"
      ],
      "text/markdown": [
       "\n",
       "product_id | prod_orders | prod_reorders | prod_first_orders | prod_second_orders | \n",
       "|---|---|---|---|---|---|---|---|---|---|\n",
       "|  1   | 1852 | 1136 |  716 | 276  | \n",
       "|  2   |   90 |   12 |   78 |   8  | \n",
       "|  3   |  277 |  203 |   74 |  36  | \n",
       "|  4   |  329 |  147 |  182 |  64  | \n",
       "|  5   |   15 |    9 |    6 |   4  | \n",
       "|  6   |    8 |    3 |    5 |   2  | \n",
       "|  7   |   30 |   12 |   18 |   6  | \n",
       "|  8   |  165 |   83 |   82 |  30  | \n",
       "|  9   |  156 |   82 |   74 |  31  | \n",
       "| 10   | 2572 | 1304 | 1268 | 399  | \n",
       "\n",
       "\n"
      ],
      "text/plain": [
       "   product_id prod_orders prod_reorders prod_first_orders prod_second_orders\n",
       "1   1         1852        1136           716              276               \n",
       "2   2           90          12            78                8               \n",
       "3   3          277         203            74               36               \n",
       "4   4          329         147           182               64               \n",
       "5   5           15           9             6                4               \n",
       "6   6            8           3             5                2               \n",
       "7   7           30          12            18                6               \n",
       "8   8          165          83            82               30               \n",
       "9   9          156          82            74               31               \n",
       "10 10         2572        1304          1268              399               "
      ]
     },
     "metadata": {},
     "output_type": "display_data"
    }
   ],
   "source": [
    "## Products ----------------------------------------------------------------\n",
    "## 새로운 테이블(prd) 생성 후, 기존 테이블(products) 제거\n",
    "## 쿼리 처리 순서 : ?\n",
    "## 1) orders_products 테이블에서 user_id, product_id를 grouping해서 user_id, order_number, product_id를 오름차순으로 araange 한 다음\n",
    "## 2) ungroup 하여, product_time 변수(컬럼)을 새로 생성해서\n",
    "## 3) 다시 ungroup하고, 다시 product_id를 기준으로 grouping해서\n",
    "## 4) 새로운 집계 함수를 만든다\n",
    "## product_time == row_number?\n",
    "## group_by(user_id, product_id)를 기준으로 묶었기에 count가 됨?\n",
    "\n",
    "prd <- orders_products %>%\n",
    "  arrange(user_id, order_number, product_id) %>%\n",
    "  group_by(user_id, product_id) %>%\n",
    "  mutate(product_time = row_number()) %>%\n",
    "  ungroup() %>%\n",
    "  group_by(product_id) %>%\n",
    "\n",
    "  summarise(\n",
    "    prod_orders = n(),\n",
    "    prod_reorders = sum(reordered),\n",
    "    prod_first_orders = sum(product_time == 1),\n",
    "    prod_second_orders = sum(product_time == 2)\n",
    "  )\n",
    "\n",
    "prd %>% head(10)"
   ]
  },
  {
   "cell_type": "markdown",
   "metadata": {},
   "source": [
    "### 5-2."
   ]
  },
  {
   "cell_type": "code",
   "execution_count": 13,
   "metadata": {},
   "outputs": [
    {
     "data": {
      "text/html": [
       "<table>\n",
       "<thead><tr><th></th><th scope=col>used</th><th scope=col>(Mb)</th><th scope=col>gc trigger</th><th scope=col>(Mb)</th><th scope=col>limit (Mb)</th><th scope=col>max used</th><th scope=col>(Mb)</th></tr></thead>\n",
       "<tbody>\n",
       "\t<tr><th scope=row>Ncells</th><td>   754798</td><td>  40.4   </td><td> 24313531</td><td>1298.5   </td><td>   NA    </td><td> 30391914</td><td>1623.2   </td></tr>\n",
       "\t<tr><th scope=row>Vcells</th><td>207170269</td><td>1580.6   </td><td>589292569</td><td>4496.0   </td><td>16384    </td><td>726677397</td><td>5544.2   </td></tr>\n",
       "</tbody>\n",
       "</table>\n"
      ],
      "text/latex": [
       "\\begin{tabular}{r|lllllll}\n",
       "  & used & (Mb) & gc trigger & (Mb) & limit (Mb) & max used & (Mb)\\\\\n",
       "\\hline\n",
       "\tNcells &    754798 &   40.4    &  24313531 & 1298.5    &    NA     &  30391914 & 1623.2   \\\\\n",
       "\tVcells & 207170269 & 1580.6    & 589292569 & 4496.0    & 16384     & 726677397 & 5544.2   \\\\\n",
       "\\end{tabular}\n"
      ],
      "text/markdown": [
       "\n",
       "| <!--/--> | used | (Mb) | gc trigger | (Mb) | limit (Mb) | max used | (Mb) | \n",
       "|---|---|\n",
       "| Ncells |    754798 |   40.4    |  24313531 | 1298.5    |    NA     |  30391914 | 1623.2    | \n",
       "| Vcells | 207170269 | 1580.6    | 589292569 | 4496.0    | 16384     | 726677397 | 5544.2    | \n",
       "\n",
       "\n"
      ],
      "text/plain": [
       "       used      (Mb)   gc trigger (Mb)   limit (Mb) max used  (Mb)  \n",
       "Ncells    754798   40.4  24313531  1298.5    NA       30391914 1623.2\n",
       "Vcells 207170269 1580.6 589292569  4496.0 16384      726677397 5544.2"
      ]
     },
     "metadata": {},
     "output_type": "display_data"
    }
   ],
   "source": [
    "## 재구매율\n",
    "prd$prod_reorder_probability <- prd$prod_second_orders / prd$prod_first_orders\n",
    "## 재구매건수\n",
    "prd$prod_reorder_times <- 1 + prd$prod_reorders / prd$prod_first_orders\n",
    "## 상품 전체 주문 건수 중에서 재구매 건수의 비중을 본 것\n",
    "prd$prod_reorder_ratio <- prd$prod_reorders / prd$prod_orders\n",
    "## 특정 컬럼 제외하기\n",
    "prd <- prd %>% select(-prod_reorders, -prod_first_orders, -prod_second_orders)\n",
    "\n",
    "## products 테이블 제거\n",
    "rm(products)\n",
    "## 메모리 초기화\n",
    "gc()"
   ]
  },
  {
   "cell_type": "code",
   "execution_count": 14,
   "metadata": {
    "scrolled": true
   },
   "outputs": [
    {
     "data": {
      "text/html": [
       "<table>\n",
       "<thead><tr><th scope=col>product_id</th><th scope=col>prod_orders</th><th scope=col>prod_reorder_probability</th><th scope=col>prod_reorder_times</th><th scope=col>prod_reorder_ratio</th></tr></thead>\n",
       "<tbody>\n",
       "\t<tr><td> 6433    </td><td> 68      </td><td>0.5000000</td><td>17.00000 </td><td>0.9411765</td></tr>\n",
       "\t<tr><td> 2075    </td><td> 87      </td><td>0.8333333</td><td>14.50000 </td><td>0.9310345</td></tr>\n",
       "\t<tr><td>43553    </td><td> 13      </td><td>1.0000000</td><td>13.00000 </td><td>0.9230769</td></tr>\n",
       "\t<tr><td>27740    </td><td>101      </td><td>0.7500000</td><td>12.62500 </td><td>0.9207921</td></tr>\n",
       "\t<tr><td>14609    </td><td> 35      </td><td>0.3333333</td><td>11.66667 </td><td>0.9142857</td></tr>\n",
       "\t<tr><td>13875    </td><td> 45      </td><td>0.5000000</td><td>11.25000 </td><td>0.9111111</td></tr>\n",
       "</tbody>\n",
       "</table>\n"
      ],
      "text/latex": [
       "\\begin{tabular}{r|lllll}\n",
       " product\\_id & prod\\_orders & prod\\_reorder\\_probability & prod\\_reorder\\_times & prod\\_reorder\\_ratio\\\\\n",
       "\\hline\n",
       "\t  6433     &  68       & 0.5000000 & 17.00000  & 0.9411765\\\\\n",
       "\t  2075     &  87       & 0.8333333 & 14.50000  & 0.9310345\\\\\n",
       "\t 43553     &  13       & 1.0000000 & 13.00000  & 0.9230769\\\\\n",
       "\t 27740     & 101       & 0.7500000 & 12.62500  & 0.9207921\\\\\n",
       "\t 14609     &  35       & 0.3333333 & 11.66667  & 0.9142857\\\\\n",
       "\t 13875     &  45       & 0.5000000 & 11.25000  & 0.9111111\\\\\n",
       "\\end{tabular}\n"
      ],
      "text/markdown": [
       "\n",
       "product_id | prod_orders | prod_reorder_probability | prod_reorder_times | prod_reorder_ratio | \n",
       "|---|---|---|---|---|---|\n",
       "|  6433     |  68       | 0.5000000 | 17.00000  | 0.9411765 | \n",
       "|  2075     |  87       | 0.8333333 | 14.50000  | 0.9310345 | \n",
       "| 43553     |  13       | 1.0000000 | 13.00000  | 0.9230769 | \n",
       "| 27740     | 101       | 0.7500000 | 12.62500  | 0.9207921 | \n",
       "| 14609     |  35       | 0.3333333 | 11.66667  | 0.9142857 | \n",
       "| 13875     |  45       | 0.5000000 | 11.25000  | 0.9111111 | \n",
       "\n",
       "\n"
      ],
      "text/plain": [
       "  product_id prod_orders prod_reorder_probability prod_reorder_times\n",
       "1  6433       68         0.5000000                17.00000          \n",
       "2  2075       87         0.8333333                14.50000          \n",
       "3 43553       13         1.0000000                13.00000          \n",
       "4 27740      101         0.7500000                12.62500          \n",
       "5 14609       35         0.3333333                11.66667          \n",
       "6 13875       45         0.5000000                11.25000          \n",
       "  prod_reorder_ratio\n",
       "1 0.9411765         \n",
       "2 0.9310345         \n",
       "3 0.9230769         \n",
       "4 0.9207921         \n",
       "5 0.9142857         \n",
       "6 0.9111111         "
      ]
     },
     "metadata": {},
     "output_type": "display_data"
    }
   ],
   "source": [
    "prd %>%\n",
    "    arrange(desc(prd$prod_reorder_times)) %>%\n",
    "    head()"
   ]
  },
  {
   "cell_type": "code",
   "execution_count": 15,
   "metadata": {},
   "outputs": [
    {
     "data": {
      "text/html": [
       "<table>\n",
       "<thead><tr><th scope=col>order_id</th><th scope=col>product_id</th><th scope=col>add_to_cart_order</th><th scope=col>reordered</th><th scope=col>user_id</th></tr></thead>\n",
       "<tbody>\n",
       "\t<tr><td>1     </td><td>49302 </td><td>1     </td><td>1     </td><td>112108</td></tr>\n",
       "\t<tr><td>1     </td><td>11109 </td><td>2     </td><td>1     </td><td>112108</td></tr>\n",
       "\t<tr><td>1     </td><td>10246 </td><td>3     </td><td>0     </td><td>112108</td></tr>\n",
       "\t<tr><td>1     </td><td>49683 </td><td>4     </td><td>0     </td><td>112108</td></tr>\n",
       "\t<tr><td>1     </td><td>43633 </td><td>5     </td><td>1     </td><td>112108</td></tr>\n",
       "\t<tr><td>1     </td><td>13176 </td><td>6     </td><td>0     </td><td>112108</td></tr>\n",
       "</tbody>\n",
       "</table>\n"
      ],
      "text/latex": [
       "\\begin{tabular}{r|lllll}\n",
       " order\\_id & product\\_id & add\\_to\\_cart\\_order & reordered & user\\_id\\\\\n",
       "\\hline\n",
       "\t 1      & 49302  & 1      & 1      & 112108\\\\\n",
       "\t 1      & 11109  & 2      & 1      & 112108\\\\\n",
       "\t 1      & 10246  & 3      & 0      & 112108\\\\\n",
       "\t 1      & 49683  & 4      & 0      & 112108\\\\\n",
       "\t 1      & 43633  & 5      & 1      & 112108\\\\\n",
       "\t 1      & 13176  & 6      & 0      & 112108\\\\\n",
       "\\end{tabular}\n"
      ],
      "text/markdown": [
       "\n",
       "order_id | product_id | add_to_cart_order | reordered | user_id | \n",
       "|---|---|---|---|---|---|\n",
       "| 1      | 49302  | 1      | 1      | 112108 | \n",
       "| 1      | 11109  | 2      | 1      | 112108 | \n",
       "| 1      | 10246  | 3      | 0      | 112108 | \n",
       "| 1      | 49683  | 4      | 0      | 112108 | \n",
       "| 1      | 43633  | 5      | 1      | 112108 | \n",
       "| 1      | 13176  | 6      | 0      | 112108 | \n",
       "\n",
       "\n"
      ],
      "text/plain": [
       "  order_id product_id add_to_cart_order reordered user_id\n",
       "1 1        49302      1                 1         112108 \n",
       "2 1        11109      2                 1         112108 \n",
       "3 1        10246      3                 0         112108 \n",
       "4 1        49683      4                 0         112108 \n",
       "5 1        43633      5                 1         112108 \n",
       "6 1        13176      6                 0         112108 "
      ]
     },
     "metadata": {},
     "output_type": "display_data"
    }
   ],
   "source": [
    "ordert %>% head"
   ]
  },
  {
   "cell_type": "markdown",
   "metadata": {},
   "source": [
    "[최종 결과물]\n",
    "- 최종: user_id, order_id, product_id, 상품 특성, user 특성, 재구매여부\n",
    "> - 1차 : user_id, order_id, product_id, 상품 특성 ... prd\n",
    "> - 2차 : user 특성 테이블\n",
    "> - 3차 : inner_join으로 1+2차 합치기\n",
    "> - 4차 : 모델링(알고리즘 생성)\n",
    "> - 5차 : 평가"
   ]
  },
  {
   "cell_type": "code",
   "execution_count": null,
   "metadata": {},
   "outputs": [],
   "source": []
  },
  {
   "cell_type": "markdown",
   "metadata": {},
   "source": [
    "## 6. Users & Us\n",
    "- Obj : Create __??__ table\n",
    "\n",
    "### 6-1. users table\n",
    "- obj : __??__\n",
    "<br><br>\n",
    "- use table & group\n",
    "    - table : orders_products\n",
    "    - group_by : user_id\n",
    "<br><br>\n",
    "- feature : __??_\n",
    "    - order_id : 사용 X ?\n",
    "    - eval_set : filtering 조건에서 사용(train)\n",
    "    - order_number : 사용 X ?\n",
    "    <br><br>\n",
    "    - user_id : 유저번호(pk)\n",
    "    - user_orders : user_id별 총 구매수\n",
    "    - user_period : 총 구매기간 간격 합\n",
    "    - user_mean_days_since_prior : 구매기간 간격 평균\n",
    "<br><br>\n",
    "\n",
    "- Process\n",
    "    - 1) orders 테이블에서 user_id로 grouping하여,\n",
    "    - 2) 집계함수 (user_orders(user_id별 총 구매수) / user_period(총 구매기간 간격 합) / user_mean_days_since_prior(구매기간 간격 평균))\n",
    "    - 3) 최종적으로 prior로 필터링\n",
    "<br><br>\n",
    "- etc decription\n",
    "    - orders 테이블 중 order_number는 user_id의 몇번째 구매 건수인지를 알려줌\n",
    "<br><br>\n",
    "    - 필터 조건의 대상(eval_set == \"prior\")으로 함수를 적용하겠다는 뜻 ... eval_set이란?\n",
    "<br><br>\n",
    "    - prior를 이용해서 만든 테이블을 test와 train에 붙일 것 ... 최종으로 남을 건 test, train"
   ]
  },
  {
   "cell_type": "code",
   "execution_count": 16,
   "metadata": {
    "scrolled": true
   },
   "outputs": [
    {
     "data": {
      "text/html": [
       "<ol class=list-inline>\n",
       "\t<li>prior</li>\n",
       "\t<li>train</li>\n",
       "\t<li>test</li>\n",
       "</ol>\n",
       "\n",
       "<details>\n",
       "\t<summary style=display:list-item;cursor:pointer>\n",
       "\t\t<strong>Levels</strong>:\n",
       "\t</summary>\n",
       "\t<ol class=list-inline>\n",
       "\t\t<li>'prior'</li>\n",
       "\t\t<li>'test'</li>\n",
       "\t\t<li>'train'</li>\n",
       "\t</ol>\n",
       "</details>"
      ],
      "text/latex": [
       "\\begin{enumerate*}\n",
       "\\item prior\n",
       "\\item train\n",
       "\\item test\n",
       "\\end{enumerate*}\n",
       "\n",
       "\\emph{Levels}: \\begin{enumerate*}\n",
       "\\item 'prior'\n",
       "\\item 'test'\n",
       "\\item 'train'\n",
       "\\end{enumerate*}\n"
      ],
      "text/markdown": [
       "1. prior\n",
       "2. train\n",
       "3. test\n",
       "\n",
       "\n",
       "\n",
       "**Levels**: 1. 'prior'\n",
       "2. 'test'\n",
       "3. 'train'\n",
       "\n",
       "\n"
      ],
      "text/plain": [
       "[1] prior train test \n",
       "Levels: prior test train"
      ]
     },
     "metadata": {},
     "output_type": "display_data"
    },
    {
     "data": {
      "text/html": [
       "<table>\n",
       "<thead><tr><th scope=col>order_id</th><th scope=col>user_id</th><th scope=col>eval_set</th><th scope=col>order_number</th><th scope=col>order_dow</th><th scope=col>order_hour_of_day</th><th scope=col>days_since_prior_order</th></tr></thead>\n",
       "<tbody>\n",
       "\t<tr><td>2539329</td><td>1      </td><td>prior  </td><td>1      </td><td>2      </td><td> 8     </td><td>NA     </td></tr>\n",
       "\t<tr><td>2398795</td><td>1      </td><td>prior  </td><td>2      </td><td>3      </td><td> 7     </td><td>15     </td></tr>\n",
       "\t<tr><td> 473747</td><td>1      </td><td>prior  </td><td>3      </td><td>3      </td><td>12     </td><td>21     </td></tr>\n",
       "\t<tr><td>2254736</td><td>1      </td><td>prior  </td><td>4      </td><td>4      </td><td> 7     </td><td>29     </td></tr>\n",
       "\t<tr><td> 431534</td><td>1      </td><td>prior  </td><td>5      </td><td>4      </td><td>15     </td><td>28     </td></tr>\n",
       "\t<tr><td>3367565</td><td>1      </td><td>prior  </td><td>6      </td><td>2      </td><td> 7     </td><td>19     </td></tr>\n",
       "</tbody>\n",
       "</table>\n"
      ],
      "text/latex": [
       "\\begin{tabular}{r|lllllll}\n",
       " order\\_id & user\\_id & eval\\_set & order\\_number & order\\_dow & order\\_hour\\_of\\_day & days\\_since\\_prior\\_order\\\\\n",
       "\\hline\n",
       "\t 2539329 & 1       & prior   & 1       & 2       &  8      & NA     \\\\\n",
       "\t 2398795 & 1       & prior   & 2       & 3       &  7      & 15     \\\\\n",
       "\t  473747 & 1       & prior   & 3       & 3       & 12      & 21     \\\\\n",
       "\t 2254736 & 1       & prior   & 4       & 4       &  7      & 29     \\\\\n",
       "\t  431534 & 1       & prior   & 5       & 4       & 15      & 28     \\\\\n",
       "\t 3367565 & 1       & prior   & 6       & 2       &  7      & 19     \\\\\n",
       "\\end{tabular}\n"
      ],
      "text/markdown": [
       "\n",
       "order_id | user_id | eval_set | order_number | order_dow | order_hour_of_day | days_since_prior_order | \n",
       "|---|---|---|---|---|---|\n",
       "| 2539329 | 1       | prior   | 1       | 2       |  8      | NA      | \n",
       "| 2398795 | 1       | prior   | 2       | 3       |  7      | 15      | \n",
       "|  473747 | 1       | prior   | 3       | 3       | 12      | 21      | \n",
       "| 2254736 | 1       | prior   | 4       | 4       |  7      | 29      | \n",
       "|  431534 | 1       | prior   | 5       | 4       | 15      | 28      | \n",
       "| 3367565 | 1       | prior   | 6       | 2       |  7      | 19      | \n",
       "\n",
       "\n"
      ],
      "text/plain": [
       "  order_id user_id eval_set order_number order_dow order_hour_of_day\n",
       "1 2539329  1       prior    1            2          8               \n",
       "2 2398795  1       prior    2            3          7               \n",
       "3  473747  1       prior    3            3         12               \n",
       "4 2254736  1       prior    4            4          7               \n",
       "5  431534  1       prior    5            4         15               \n",
       "6 3367565  1       prior    6            2          7               \n",
       "  days_since_prior_order\n",
       "1 NA                    \n",
       "2 15                    \n",
       "3 21                    \n",
       "4 29                    \n",
       "5 28                    \n",
       "6 19                    "
      ]
     },
     "metadata": {},
     "output_type": "display_data"
    }
   ],
   "source": [
    "## users table ----------------------------------------------------------------\n",
    "# feature : order_id, user_id, eval_set, order_number, user_orders (user_id별 총 구매수), user_period (총 구매기간 간격 합), user_mean_days_since_prior(구매기간 간격 평균)\n",
    "# obj : ?\n",
    "# order_number는 user_id의 몇번째 구매 건수를 알려줌\n",
    "# 필터 조건의 대상(eval_set == \"prior\")으로 함수를 적용하겠다는 뜻! // eval_set이란?\n",
    "# prior를 이용해서 만든 테이블을 test와 train에 붙일 것 ... 최종으로 남을 건 test, train\n",
    "\n",
    "unique(orders$eval_set)\n",
    "head(orders)"
   ]
  },
  {
   "cell_type": "markdown",
   "metadata": {},
   "source": [
    "### Q.\n",
    "- 결측치 제외하고 계산하는 것이 가장 간단한 방법이지만 다른 방법이 있는지?\n",
    "    - null 값은 첫구매일테니 제외?\n",
    "    - na.rm=T 대신에 F나 생략하는 경우에는?\n",
    "    - 연산할 때, na.rm=T를 지정하지 않아도 알아서 되지 않으려나?\n",
    "    - 업무에서 결측치를 만난다면 어떻게 처리하는지?\n",
    "    \n",
    "    \n",
    "    - median이나 제외를 하고 본다.\n",
    "    - 결측치가 많으면 아예 그 값을 안 본다.\n",
    "    - 결측치가 적으면 결측치를 제외하고 보던지 같이 뽑아버리던지"
   ]
  },
  {
   "cell_type": "code",
   "execution_count": 17,
   "metadata": {},
   "outputs": [
    {
     "data": {
      "text/html": [
       "<table>\n",
       "<thead><tr><th scope=col>user_id</th><th scope=col>user_orders</th><th scope=col>user_period</th><th scope=col>user_mean_days_since_prior</th></tr></thead>\n",
       "<tbody>\n",
       "\t<tr><td>1       </td><td>10      </td><td>176     </td><td>19.55556</td></tr>\n",
       "\t<tr><td>2       </td><td>14      </td><td>198     </td><td>15.23077</td></tr>\n",
       "\t<tr><td>3       </td><td>12      </td><td>133     </td><td>12.09091</td></tr>\n",
       "\t<tr><td>4       </td><td> 5      </td><td> 55     </td><td>13.75000</td></tr>\n",
       "\t<tr><td>5       </td><td> 4      </td><td> 40     </td><td>13.33333</td></tr>\n",
       "\t<tr><td>6       </td><td> 3      </td><td> 18     </td><td> 9.00000</td></tr>\n",
       "</tbody>\n",
       "</table>\n"
      ],
      "text/latex": [
       "\\begin{tabular}{r|llll}\n",
       " user\\_id & user\\_orders & user\\_period & user\\_mean\\_days\\_since\\_prior\\\\\n",
       "\\hline\n",
       "\t 1        & 10       & 176      & 19.55556\\\\\n",
       "\t 2        & 14       & 198      & 15.23077\\\\\n",
       "\t 3        & 12       & 133      & 12.09091\\\\\n",
       "\t 4        &  5       &  55      & 13.75000\\\\\n",
       "\t 5        &  4       &  40      & 13.33333\\\\\n",
       "\t 6        &  3       &  18      &  9.00000\\\\\n",
       "\\end{tabular}\n"
      ],
      "text/markdown": [
       "\n",
       "user_id | user_orders | user_period | user_mean_days_since_prior | \n",
       "|---|---|---|---|---|---|\n",
       "| 1        | 10       | 176      | 19.55556 | \n",
       "| 2        | 14       | 198      | 15.23077 | \n",
       "| 3        | 12       | 133      | 12.09091 | \n",
       "| 4        |  5       |  55      | 13.75000 | \n",
       "| 5        |  4       |  40      | 13.33333 | \n",
       "| 6        |  3       |  18      |  9.00000 | \n",
       "\n",
       "\n"
      ],
      "text/plain": [
       "  user_id user_orders user_period user_mean_days_since_prior\n",
       "1 1       10          176         19.55556                  \n",
       "2 2       14          198         15.23077                  \n",
       "3 3       12          133         12.09091                  \n",
       "4 4        5           55         13.75000                  \n",
       "5 5        4           40         13.33333                  \n",
       "6 6        3           18          9.00000                  "
      ]
     },
     "metadata": {},
     "output_type": "display_data"
    }
   ],
   "source": [
    "#### users table 생성\n",
    "## 1) orders 테이블에서 user_id로 grouping하여,\n",
    "## 2) 집계함수 (user_orders(user_id별 총 구매수) / user_period(총 구매기간 간격 합) / user_mean_days_since_prior(구매기간 간격 평균))\n",
    "## 3) 최종적으로 prior로 필터링\n",
    "\n",
    "users = orders %>% filter(eval_set == \"prior\") %>% group_by(user_id) %>%\n",
    "    summarise(user_orders = max(order_number),\n",
    "              user_period = sum(days_since_prior_order, na.rm=T), ## na.rm=T == 결측치 처리 (결측치 제외하고 계산 ?)\n",
    "              user_mean_days_since_prior = mean(days_since_prior_order, na.rm=T))\n",
    "\n",
    "users %>% head()"
   ]
  },
  {
   "cell_type": "markdown",
   "metadata": {},
   "source": [
    "### 6-2. Us table\n",
    "- obj\n",
    "    - 유저별 총 구매건수, 그 사람이 재구매를 얼마나 했는지, 그리고 얼마나 다양한 상품을 샀는지 파악\n",
    "<br><br>\n",
    "- use table & group\n",
    "    - table : orders_products\n",
    "    - group_by : user_id\n",
    "<br><br>\n",
    "- feature\n",
    "    - user_id별 user_total_products (총 구매상품수)\n",
    "    - user_reorder_ratio (재구매율)\n",
    "    - user_distinct_products (구매 상품 수 unique)\n",
    "<br><br>\n",
    "- etc description\n",
    "    - ?"
   ]
  },
  {
   "cell_type": "code",
   "execution_count": 18,
   "metadata": {
    "scrolled": true
   },
   "outputs": [
    {
     "data": {
      "text/html": [
       "<table>\n",
       "<thead><tr><th scope=col>order_id</th><th scope=col>user_id</th><th scope=col>eval_set</th><th scope=col>order_number</th><th scope=col>order_dow</th><th scope=col>order_hour_of_day</th><th scope=col>days_since_prior_order</th><th scope=col>product_id</th><th scope=col>add_to_cart_order</th><th scope=col>reordered</th></tr></thead>\n",
       "<tbody>\n",
       "\t<tr><td>2539329</td><td>1      </td><td>prior  </td><td>1      </td><td>2      </td><td>8      </td><td>NA     </td><td>  196  </td><td>1      </td><td>0      </td></tr>\n",
       "\t<tr><td>2539329</td><td>1      </td><td>prior  </td><td>1      </td><td>2      </td><td>8      </td><td>NA     </td><td>14084  </td><td>2      </td><td>0      </td></tr>\n",
       "\t<tr><td>2539329</td><td>1      </td><td>prior  </td><td>1      </td><td>2      </td><td>8      </td><td>NA     </td><td>12427  </td><td>3      </td><td>0      </td></tr>\n",
       "\t<tr><td>2539329</td><td>1      </td><td>prior  </td><td>1      </td><td>2      </td><td>8      </td><td>NA     </td><td>26088  </td><td>4      </td><td>0      </td></tr>\n",
       "\t<tr><td>2539329</td><td>1      </td><td>prior  </td><td>1      </td><td>2      </td><td>8      </td><td>NA     </td><td>26405  </td><td>5      </td><td>0      </td></tr>\n",
       "\t<tr><td>2398795</td><td>1      </td><td>prior  </td><td>2      </td><td>3      </td><td>7      </td><td>15     </td><td>  196  </td><td>1      </td><td>1      </td></tr>\n",
       "</tbody>\n",
       "</table>\n"
      ],
      "text/latex": [
       "\\begin{tabular}{r|llllllllll}\n",
       " order\\_id & user\\_id & eval\\_set & order\\_number & order\\_dow & order\\_hour\\_of\\_day & days\\_since\\_prior\\_order & product\\_id & add\\_to\\_cart\\_order & reordered\\\\\n",
       "\\hline\n",
       "\t 2539329 & 1       & prior   & 1       & 2       & 8       & NA      &   196   & 1       & 0      \\\\\n",
       "\t 2539329 & 1       & prior   & 1       & 2       & 8       & NA      & 14084   & 2       & 0      \\\\\n",
       "\t 2539329 & 1       & prior   & 1       & 2       & 8       & NA      & 12427   & 3       & 0      \\\\\n",
       "\t 2539329 & 1       & prior   & 1       & 2       & 8       & NA      & 26088   & 4       & 0      \\\\\n",
       "\t 2539329 & 1       & prior   & 1       & 2       & 8       & NA      & 26405   & 5       & 0      \\\\\n",
       "\t 2398795 & 1       & prior   & 2       & 3       & 7       & 15      &   196   & 1       & 1      \\\\\n",
       "\\end{tabular}\n"
      ],
      "text/markdown": [
       "\n",
       "order_id | user_id | eval_set | order_number | order_dow | order_hour_of_day | days_since_prior_order | product_id | add_to_cart_order | reordered | \n",
       "|---|---|---|---|---|---|\n",
       "| 2539329 | 1       | prior   | 1       | 2       | 8       | NA      |   196   | 1       | 0       | \n",
       "| 2539329 | 1       | prior   | 1       | 2       | 8       | NA      | 14084   | 2       | 0       | \n",
       "| 2539329 | 1       | prior   | 1       | 2       | 8       | NA      | 12427   | 3       | 0       | \n",
       "| 2539329 | 1       | prior   | 1       | 2       | 8       | NA      | 26088   | 4       | 0       | \n",
       "| 2539329 | 1       | prior   | 1       | 2       | 8       | NA      | 26405   | 5       | 0       | \n",
       "| 2398795 | 1       | prior   | 2       | 3       | 7       | 15      |   196   | 1       | 1       | \n",
       "\n",
       "\n"
      ],
      "text/plain": [
       "  order_id user_id eval_set order_number order_dow order_hour_of_day\n",
       "1 2539329  1       prior    1            2         8                \n",
       "2 2539329  1       prior    1            2         8                \n",
       "3 2539329  1       prior    1            2         8                \n",
       "4 2539329  1       prior    1            2         8                \n",
       "5 2539329  1       prior    1            2         8                \n",
       "6 2398795  1       prior    2            3         7                \n",
       "  days_since_prior_order product_id add_to_cart_order reordered\n",
       "1 NA                       196      1                 0        \n",
       "2 NA                     14084      2                 0        \n",
       "3 NA                     12427      3                 0        \n",
       "4 NA                     26088      4                 0        \n",
       "5 NA                     26405      5                 0        \n",
       "6 15                       196      1                 1        "
      ]
     },
     "metadata": {},
     "output_type": "display_data"
    }
   ],
   "source": [
    "orders_products %>% head()"
   ]
  },
  {
   "cell_type": "code",
   "execution_count": 19,
   "metadata": {},
   "outputs": [
    {
     "name": "stdout",
     "output_type": "stream",
     "text": [
      "Classes ‘tbl_df’, ‘tbl’ and 'data.frame':\t206209 obs. of  4 variables:\n",
      " $ user_id               : int  1 2 3 4 5 6 7 8 9 10 ...\n",
      " $ user_total_product    : int  59 195 88 18 37 14 206 49 76 143 ...\n",
      " $ user_reorder_ratio    : num  0.7593 0.511 0.7051 0.0714 0.5385 ...\n",
      " $ user_distinct_products: int  18 102 33 17 23 12 68 36 58 94 ...\n",
      "Classes ‘tbl_df’, ‘tbl’ and 'data.frame':\t206209 obs. of  4 variables:\n",
      " $ user_id                   : int  1 2 3 4 5 6 7 8 9 10 ...\n",
      " $ user_orders               : num  10 14 12 5 4 3 20 3 3 5 ...\n",
      " $ user_period               : num  176 198 133 55 40 18 203 60 36 79 ...\n",
      " $ user_mean_days_since_prior: num  19.6 15.2 12.1 13.8 13.3 ...\n",
      " - attr(*, \".internal.selfref\")=<externalptr> \n"
     ]
    },
    {
     "data": {
      "text/html": [
       "<table>\n",
       "<thead><tr><th scope=col>user_id</th><th scope=col>user_total_product</th><th scope=col>user_reorder_ratio</th><th scope=col>user_distinct_products</th></tr></thead>\n",
       "<tbody>\n",
       "\t<tr><td>1         </td><td> 59       </td><td>0.75925926</td><td> 18       </td></tr>\n",
       "\t<tr><td>2         </td><td>195       </td><td>0.51098901</td><td>102       </td></tr>\n",
       "\t<tr><td>3         </td><td> 88       </td><td>0.70512821</td><td> 33       </td></tr>\n",
       "\t<tr><td>4         </td><td> 18       </td><td>0.07142857</td><td> 17       </td></tr>\n",
       "\t<tr><td>5         </td><td> 37       </td><td>0.53846154</td><td> 23       </td></tr>\n",
       "\t<tr><td>6         </td><td> 14       </td><td>0.20000000</td><td> 12       </td></tr>\n",
       "</tbody>\n",
       "</table>\n"
      ],
      "text/latex": [
       "\\begin{tabular}{r|llll}\n",
       " user\\_id & user\\_total\\_product & user\\_reorder\\_ratio & user\\_distinct\\_products\\\\\n",
       "\\hline\n",
       "\t 1          &  59        & 0.75925926 &  18       \\\\\n",
       "\t 2          & 195        & 0.51098901 & 102       \\\\\n",
       "\t 3          &  88        & 0.70512821 &  33       \\\\\n",
       "\t 4          &  18        & 0.07142857 &  17       \\\\\n",
       "\t 5          &  37        & 0.53846154 &  23       \\\\\n",
       "\t 6          &  14        & 0.20000000 &  12       \\\\\n",
       "\\end{tabular}\n"
      ],
      "text/markdown": [
       "\n",
       "user_id | user_total_product | user_reorder_ratio | user_distinct_products | \n",
       "|---|---|---|---|---|---|\n",
       "| 1          |  59        | 0.75925926 |  18        | \n",
       "| 2          | 195        | 0.51098901 | 102        | \n",
       "| 3          |  88        | 0.70512821 |  33        | \n",
       "| 4          |  18        | 0.07142857 |  17        | \n",
       "| 5          |  37        | 0.53846154 |  23        | \n",
       "| 6          |  14        | 0.20000000 |  12        | \n",
       "\n",
       "\n"
      ],
      "text/plain": [
       "  user_id user_total_product user_reorder_ratio user_distinct_products\n",
       "1 1        59                0.75925926          18                   \n",
       "2 2       195                0.51098901         102                   \n",
       "3 3        88                0.70512821          33                   \n",
       "4 4        18                0.07142857          17                   \n",
       "5 5        37                0.53846154          23                   \n",
       "6 6        14                0.20000000          12                   "
      ]
     },
     "metadata": {},
     "output_type": "display_data"
    },
    {
     "data": {
      "text/html": [
       "<table>\n",
       "<thead><tr><th scope=col>user_id</th><th scope=col>user_orders</th><th scope=col>user_period</th><th scope=col>user_mean_days_since_prior</th></tr></thead>\n",
       "<tbody>\n",
       "\t<tr><td>1       </td><td>10      </td><td>176     </td><td>19.55556</td></tr>\n",
       "\t<tr><td>2       </td><td>14      </td><td>198     </td><td>15.23077</td></tr>\n",
       "\t<tr><td>3       </td><td>12      </td><td>133     </td><td>12.09091</td></tr>\n",
       "\t<tr><td>4       </td><td> 5      </td><td> 55     </td><td>13.75000</td></tr>\n",
       "\t<tr><td>5       </td><td> 4      </td><td> 40     </td><td>13.33333</td></tr>\n",
       "\t<tr><td>6       </td><td> 3      </td><td> 18     </td><td> 9.00000</td></tr>\n",
       "</tbody>\n",
       "</table>\n"
      ],
      "text/latex": [
       "\\begin{tabular}{r|llll}\n",
       " user\\_id & user\\_orders & user\\_period & user\\_mean\\_days\\_since\\_prior\\\\\n",
       "\\hline\n",
       "\t 1        & 10       & 176      & 19.55556\\\\\n",
       "\t 2        & 14       & 198      & 15.23077\\\\\n",
       "\t 3        & 12       & 133      & 12.09091\\\\\n",
       "\t 4        &  5       &  55      & 13.75000\\\\\n",
       "\t 5        &  4       &  40      & 13.33333\\\\\n",
       "\t 6        &  3       &  18      &  9.00000\\\\\n",
       "\\end{tabular}\n"
      ],
      "text/markdown": [
       "\n",
       "user_id | user_orders | user_period | user_mean_days_since_prior | \n",
       "|---|---|---|---|---|---|\n",
       "| 1        | 10       | 176      | 19.55556 | \n",
       "| 2        | 14       | 198      | 15.23077 | \n",
       "| 3        | 12       | 133      | 12.09091 | \n",
       "| 4        |  5       |  55      | 13.75000 | \n",
       "| 5        |  4       |  40      | 13.33333 | \n",
       "| 6        |  3       |  18      |  9.00000 | \n",
       "\n",
       "\n"
      ],
      "text/plain": [
       "  user_id user_orders user_period user_mean_days_since_prior\n",
       "1 1       10          176         19.55556                  \n",
       "2 2       14          198         15.23077                  \n",
       "3 3       12          133         12.09091                  \n",
       "4 4        5           55         13.75000                  \n",
       "5 5        4           40         13.33333                  \n",
       "6 6        3           18          9.00000                  "
      ]
     },
     "metadata": {},
     "output_type": "display_data"
    }
   ],
   "source": [
    "## us table ----------------------------------------------------------------\n",
    "# feature : user_id별 user_total_products (총 구매상품수), user_reorder_ratio (재구매율), user_distinct_products (구매 상품 수 unique)\n",
    "# obj : 유저별 총 구매건수, 그 사람이 재구매를 얼마나 했는지, 그리고 얼마나 다양한 상품을 샀는지 파악\n",
    "\n",
    "us = orders_products %>%\n",
    "    group_by(user_id) %>%\n",
    "    summarise(user_total_product = n() # user_id별 총 구매 상품수\n",
    "              , user_reorder_ratio = sum(reordered == 1) / sum(order_number > 1) # 재구매율 ## order_number가 1보다 크면(조건을 만족하면), 1이 나옴. 그 다음행으로 가서 그 조건을 만족하면 1 아니면 0 그래서 각각 더해줌... 결론적으로 count와 같음!\n",
    "              , user_distinct_products = n_distinct(product_id)\n",
    "             )\n",
    "\n",
    "str(us)\n",
    "str(users)\n",
    "us %>% head()\n",
    "users %>% head()"
   ]
  },
  {
   "cell_type": "code",
   "execution_count": 20,
   "metadata": {},
   "outputs": [
    {
     "name": "stderr",
     "output_type": "stream",
     "text": [
      "Joining, by = \"user_id\"\n"
     ]
    },
    {
     "name": "stdout",
     "output_type": "stream",
     "text": [
      "Classes ‘tbl_df’, ‘tbl’ and 'data.frame':\t206209 obs. of  7 variables:\n",
      " $ user_id                   : int  1 2 3 4 5 6 7 8 9 10 ...\n",
      " $ user_orders               : num  10 14 12 5 4 3 20 3 3 5 ...\n",
      " $ user_period               : num  176 198 133 55 40 18 203 60 36 79 ...\n",
      " $ user_mean_days_since_prior: num  19.6 15.2 12.1 13.8 13.3 ...\n",
      " $ user_total_product        : int  59 195 88 18 37 14 206 49 76 143 ...\n",
      " $ user_reorder_ratio        : num  0.7593 0.511 0.7051 0.0714 0.5385 ...\n",
      " $ user_distinct_products    : int  18 102 33 17 23 12 68 36 58 94 ...\n"
     ]
    },
    {
     "data": {
      "text/html": [
       "<table>\n",
       "<thead><tr><th scope=col>user_id</th><th scope=col>user_orders</th><th scope=col>user_period</th><th scope=col>user_mean_days_since_prior</th><th scope=col>user_total_product</th><th scope=col>user_reorder_ratio</th><th scope=col>user_distinct_products</th></tr></thead>\n",
       "<tbody>\n",
       "\t<tr><td>1         </td><td>10        </td><td>176       </td><td>19.55556  </td><td> 59       </td><td>0.75925926</td><td> 18       </td></tr>\n",
       "\t<tr><td>2         </td><td>14        </td><td>198       </td><td>15.23077  </td><td>195       </td><td>0.51098901</td><td>102       </td></tr>\n",
       "\t<tr><td>3         </td><td>12        </td><td>133       </td><td>12.09091  </td><td> 88       </td><td>0.70512821</td><td> 33       </td></tr>\n",
       "\t<tr><td>4         </td><td> 5        </td><td> 55       </td><td>13.75000  </td><td> 18       </td><td>0.07142857</td><td> 17       </td></tr>\n",
       "\t<tr><td>5         </td><td> 4        </td><td> 40       </td><td>13.33333  </td><td> 37       </td><td>0.53846154</td><td> 23       </td></tr>\n",
       "\t<tr><td>6         </td><td> 3        </td><td> 18       </td><td> 9.00000  </td><td> 14       </td><td>0.20000000</td><td> 12       </td></tr>\n",
       "</tbody>\n",
       "</table>\n"
      ],
      "text/latex": [
       "\\begin{tabular}{r|lllllll}\n",
       " user\\_id & user\\_orders & user\\_period & user\\_mean\\_days\\_since\\_prior & user\\_total\\_product & user\\_reorder\\_ratio & user\\_distinct\\_products\\\\\n",
       "\\hline\n",
       "\t 1          & 10         & 176        & 19.55556   &  59        & 0.75925926 &  18       \\\\\n",
       "\t 2          & 14         & 198        & 15.23077   & 195        & 0.51098901 & 102       \\\\\n",
       "\t 3          & 12         & 133        & 12.09091   &  88        & 0.70512821 &  33       \\\\\n",
       "\t 4          &  5         &  55        & 13.75000   &  18        & 0.07142857 &  17       \\\\\n",
       "\t 5          &  4         &  40        & 13.33333   &  37        & 0.53846154 &  23       \\\\\n",
       "\t 6          &  3         &  18        &  9.00000   &  14        & 0.20000000 &  12       \\\\\n",
       "\\end{tabular}\n"
      ],
      "text/markdown": [
       "\n",
       "user_id | user_orders | user_period | user_mean_days_since_prior | user_total_product | user_reorder_ratio | user_distinct_products | \n",
       "|---|---|---|---|---|---|\n",
       "| 1          | 10         | 176        | 19.55556   |  59        | 0.75925926 |  18        | \n",
       "| 2          | 14         | 198        | 15.23077   | 195        | 0.51098901 | 102        | \n",
       "| 3          | 12         | 133        | 12.09091   |  88        | 0.70512821 |  33        | \n",
       "| 4          |  5         |  55        | 13.75000   |  18        | 0.07142857 |  17        | \n",
       "| 5          |  4         |  40        | 13.33333   |  37        | 0.53846154 |  23        | \n",
       "| 6          |  3         |  18        |  9.00000   |  14        | 0.20000000 |  12        | \n",
       "\n",
       "\n"
      ],
      "text/plain": [
       "  user_id user_orders user_period user_mean_days_since_prior user_total_product\n",
       "1 1       10          176         19.55556                    59               \n",
       "2 2       14          198         15.23077                   195               \n",
       "3 3       12          133         12.09091                    88               \n",
       "4 4        5           55         13.75000                    18               \n",
       "5 5        4           40         13.33333                    37               \n",
       "6 6        3           18          9.00000                    14               \n",
       "  user_reorder_ratio user_distinct_products\n",
       "1 0.75925926          18                   \n",
       "2 0.51098901         102                   \n",
       "3 0.70512821          33                   \n",
       "4 0.07142857          17                   \n",
       "5 0.53846154          23                   \n",
       "6 0.20000000          12                   "
      ]
     },
     "metadata": {},
     "output_type": "display_data"
    }
   ],
   "source": [
    "## 전처리한 users와 us 테이블을 inner_join\n",
    "\n",
    "users = users %>% inner_join(us)\n",
    "\n",
    "str(users)\n",
    "users %>% head()"
   ]
  },
  {
   "cell_type": "code",
   "execution_count": 21,
   "metadata": {
    "scrolled": false
   },
   "outputs": [
    {
     "name": "stdout",
     "output_type": "stream",
     "text": [
      "Classes ‘tbl_df’, ‘tbl’ and 'data.frame':\t206209 obs. of  8 variables:\n",
      " $ user_id                   : int  1 2 3 4 5 6 7 8 9 10 ...\n",
      " $ user_orders               : num  10 14 12 5 4 3 20 3 3 5 ...\n",
      " $ user_period               : num  176 198 133 55 40 18 203 60 36 79 ...\n",
      " $ user_mean_days_since_prior: num  19.6 15.2 12.1 13.8 13.3 ...\n",
      " $ user_total_product        : int  59 195 88 18 37 14 206 49 76 143 ...\n",
      " $ user_reorder_ratio        : num  0.7593 0.511 0.7051 0.0714 0.5385 ...\n",
      " $ user_distinct_products    : int  18 102 33 17 23 12 68 36 58 94 ...\n",
      " $ user_average_basket       : num  5.9 13.93 7.33 3.6 9.25 ...\n"
     ]
    },
    {
     "data": {
      "text/html": [
       "<table>\n",
       "<thead><tr><th scope=col>user_id</th><th scope=col>user_orders</th><th scope=col>user_period</th><th scope=col>user_mean_days_since_prior</th><th scope=col>user_total_product</th><th scope=col>user_reorder_ratio</th><th scope=col>user_distinct_products</th><th scope=col>user_average_basket</th></tr></thead>\n",
       "<tbody>\n",
       "\t<tr><td>1         </td><td>10        </td><td>176       </td><td>19.55556  </td><td> 59       </td><td>0.75925926</td><td> 18       </td><td> 5.900000 </td></tr>\n",
       "\t<tr><td>2         </td><td>14        </td><td>198       </td><td>15.23077  </td><td>195       </td><td>0.51098901</td><td>102       </td><td>13.928571 </td></tr>\n",
       "\t<tr><td>3         </td><td>12        </td><td>133       </td><td>12.09091  </td><td> 88       </td><td>0.70512821</td><td> 33       </td><td> 7.333333 </td></tr>\n",
       "\t<tr><td>4         </td><td> 5        </td><td> 55       </td><td>13.75000  </td><td> 18       </td><td>0.07142857</td><td> 17       </td><td> 3.600000 </td></tr>\n",
       "\t<tr><td>5         </td><td> 4        </td><td> 40       </td><td>13.33333  </td><td> 37       </td><td>0.53846154</td><td> 23       </td><td> 9.250000 </td></tr>\n",
       "\t<tr><td>6         </td><td> 3        </td><td> 18       </td><td> 9.00000  </td><td> 14       </td><td>0.20000000</td><td> 12       </td><td> 4.666667 </td></tr>\n",
       "</tbody>\n",
       "</table>\n"
      ],
      "text/latex": [
       "\\begin{tabular}{r|llllllll}\n",
       " user\\_id & user\\_orders & user\\_period & user\\_mean\\_days\\_since\\_prior & user\\_total\\_product & user\\_reorder\\_ratio & user\\_distinct\\_products & user\\_average\\_basket\\\\\n",
       "\\hline\n",
       "\t 1          & 10         & 176        & 19.55556   &  59        & 0.75925926 &  18        &  5.900000 \\\\\n",
       "\t 2          & 14         & 198        & 15.23077   & 195        & 0.51098901 & 102        & 13.928571 \\\\\n",
       "\t 3          & 12         & 133        & 12.09091   &  88        & 0.70512821 &  33        &  7.333333 \\\\\n",
       "\t 4          &  5         &  55        & 13.75000   &  18        & 0.07142857 &  17        &  3.600000 \\\\\n",
       "\t 5          &  4         &  40        & 13.33333   &  37        & 0.53846154 &  23        &  9.250000 \\\\\n",
       "\t 6          &  3         &  18        &  9.00000   &  14        & 0.20000000 &  12        &  4.666667 \\\\\n",
       "\\end{tabular}\n"
      ],
      "text/markdown": [
       "\n",
       "user_id | user_orders | user_period | user_mean_days_since_prior | user_total_product | user_reorder_ratio | user_distinct_products | user_average_basket | \n",
       "|---|---|---|---|---|---|\n",
       "| 1          | 10         | 176        | 19.55556   |  59        | 0.75925926 |  18        |  5.900000  | \n",
       "| 2          | 14         | 198        | 15.23077   | 195        | 0.51098901 | 102        | 13.928571  | \n",
       "| 3          | 12         | 133        | 12.09091   |  88        | 0.70512821 |  33        |  7.333333  | \n",
       "| 4          |  5         |  55        | 13.75000   |  18        | 0.07142857 |  17        |  3.600000  | \n",
       "| 5          |  4         |  40        | 13.33333   |  37        | 0.53846154 |  23        |  9.250000  | \n",
       "| 6          |  3         |  18        |  9.00000   |  14        | 0.20000000 |  12        |  4.666667  | \n",
       "\n",
       "\n"
      ],
      "text/plain": [
       "  user_id user_orders user_period user_mean_days_since_prior user_total_product\n",
       "1 1       10          176         19.55556                    59               \n",
       "2 2       14          198         15.23077                   195               \n",
       "3 3       12          133         12.09091                    88               \n",
       "4 4        5           55         13.75000                    18               \n",
       "5 5        4           40         13.33333                    37               \n",
       "6 6        3           18          9.00000                    14               \n",
       "  user_reorder_ratio user_distinct_products user_average_basket\n",
       "1 0.75925926          18                     5.900000          \n",
       "2 0.51098901         102                    13.928571          \n",
       "3 0.70512821          33                     7.333333          \n",
       "4 0.07142857          17                     3.600000          \n",
       "5 0.53846154          23                     9.250000          \n",
       "6 0.20000000          12                     4.666667          "
      ]
     },
     "metadata": {},
     "output_type": "display_data"
    }
   ],
   "source": [
    "## 평균 바스켓 사이즈 (구매상품수...user_orders / 주문건수...user_total_product)\n",
    "# 새로운 열에 추가, \n",
    "\n",
    "users = users %>% mutate(user_average_basket = user_total_product / user_orders)\n",
    "\n",
    "##### 우리가 최종으로 만들었던 정보들은 users에 있음\n",
    "str(users)\n",
    "users %>% head()"
   ]
  },
  {
   "cell_type": "markdown",
   "metadata": {},
   "source": [
    "### 6-3. Train & Test Data\n",
    "\n",
    "## Q. 위에 만든 users, us table(기준=prior)과 train & test의 users, us table 이름이 동일하면 위에 껀 다 지워지는 게 아닌지? test_user, test_us, train_user, test_us 이런 식으로 만들어야 하는 건 아닌지?"
   ]
  },
  {
   "cell_type": "code",
   "execution_count": 22,
   "metadata": {},
   "outputs": [
    {
     "name": "stdout",
     "output_type": "stream",
     "text": [
      "Classes ‘tbl_df’, ‘tbl’ and 'data.frame':\t206209 obs. of  4 variables:\n",
      " $ user_id               : int  1 2 3 4 5 6 7 8 9 10 ...\n",
      " $ user_total_product    : int  59 195 88 18 37 14 206 49 76 143 ...\n",
      " $ user_reorder_ratio    : num  0.7593 0.511 0.7051 0.0714 0.5385 ...\n",
      " $ user_distinct_products: int  18 102 33 17 23 12 68 36 58 94 ...\n",
      "Classes ‘data.table’ and 'data.frame':\t3421083 obs. of  7 variables:\n",
      " $ order_id              : int  2539329 2398795 473747 2254736 431534 3367565 550135 3108588 2295261 2550362 ...\n",
      " $ user_id               : int  1 1 1 1 1 1 1 1 1 1 ...\n",
      " $ eval_set              : Factor w/ 3 levels \"prior\",\"test\",..: 1 1 1 1 1 1 1 1 1 1 ...\n",
      " $ order_number          : int  1 2 3 4 5 6 7 8 9 10 ...\n",
      " $ order_dow             : int  2 3 3 4 4 2 1 1 1 4 ...\n",
      " $ order_hour_of_day     : int  8 7 12 7 15 7 9 14 16 8 ...\n",
      " $ days_since_prior_order: num  NA 15 21 29 28 19 20 14 0 30 ...\n",
      " - attr(*, \".internal.selfref\")=<externalptr> \n"
     ]
    },
    {
     "data": {
      "text/html": [
       "<table>\n",
       "<thead><tr><th scope=col>user_id</th><th scope=col>user_total_product</th><th scope=col>user_reorder_ratio</th><th scope=col>user_distinct_products</th></tr></thead>\n",
       "<tbody>\n",
       "\t<tr><td>1         </td><td> 59       </td><td>0.75925926</td><td> 18       </td></tr>\n",
       "\t<tr><td>2         </td><td>195       </td><td>0.51098901</td><td>102       </td></tr>\n",
       "\t<tr><td>3         </td><td> 88       </td><td>0.70512821</td><td> 33       </td></tr>\n",
       "\t<tr><td>4         </td><td> 18       </td><td>0.07142857</td><td> 17       </td></tr>\n",
       "\t<tr><td>5         </td><td> 37       </td><td>0.53846154</td><td> 23       </td></tr>\n",
       "</tbody>\n",
       "</table>\n"
      ],
      "text/latex": [
       "\\begin{tabular}{r|llll}\n",
       " user\\_id & user\\_total\\_product & user\\_reorder\\_ratio & user\\_distinct\\_products\\\\\n",
       "\\hline\n",
       "\t 1          &  59        & 0.75925926 &  18       \\\\\n",
       "\t 2          & 195        & 0.51098901 & 102       \\\\\n",
       "\t 3          &  88        & 0.70512821 &  33       \\\\\n",
       "\t 4          &  18        & 0.07142857 &  17       \\\\\n",
       "\t 5          &  37        & 0.53846154 &  23       \\\\\n",
       "\\end{tabular}\n"
      ],
      "text/markdown": [
       "\n",
       "user_id | user_total_product | user_reorder_ratio | user_distinct_products | \n",
       "|---|---|---|---|---|\n",
       "| 1          |  59        | 0.75925926 |  18        | \n",
       "| 2          | 195        | 0.51098901 | 102        | \n",
       "| 3          |  88        | 0.70512821 |  33        | \n",
       "| 4          |  18        | 0.07142857 |  17        | \n",
       "| 5          |  37        | 0.53846154 |  23        | \n",
       "\n",
       "\n"
      ],
      "text/plain": [
       "  user_id user_total_product user_reorder_ratio user_distinct_products\n",
       "1 1        59                0.75925926          18                   \n",
       "2 2       195                0.51098901         102                   \n",
       "3 3        88                0.70512821          33                   \n",
       "4 4        18                0.07142857          17                   \n",
       "5 5        37                0.53846154          23                   "
      ]
     },
     "metadata": {},
     "output_type": "display_data"
    },
    {
     "data": {
      "text/html": [
       "<table>\n",
       "<thead><tr><th scope=col>order_id</th><th scope=col>user_id</th><th scope=col>eval_set</th><th scope=col>order_number</th><th scope=col>order_dow</th><th scope=col>order_hour_of_day</th><th scope=col>days_since_prior_order</th></tr></thead>\n",
       "<tbody>\n",
       "\t<tr><td>2539329</td><td>1      </td><td>prior  </td><td>1      </td><td>2      </td><td> 8     </td><td>NA     </td></tr>\n",
       "\t<tr><td>2398795</td><td>1      </td><td>prior  </td><td>2      </td><td>3      </td><td> 7     </td><td>15     </td></tr>\n",
       "\t<tr><td> 473747</td><td>1      </td><td>prior  </td><td>3      </td><td>3      </td><td>12     </td><td>21     </td></tr>\n",
       "\t<tr><td>2254736</td><td>1      </td><td>prior  </td><td>4      </td><td>4      </td><td> 7     </td><td>29     </td></tr>\n",
       "\t<tr><td> 431534</td><td>1      </td><td>prior  </td><td>5      </td><td>4      </td><td>15     </td><td>28     </td></tr>\n",
       "</tbody>\n",
       "</table>\n"
      ],
      "text/latex": [
       "\\begin{tabular}{r|lllllll}\n",
       " order\\_id & user\\_id & eval\\_set & order\\_number & order\\_dow & order\\_hour\\_of\\_day & days\\_since\\_prior\\_order\\\\\n",
       "\\hline\n",
       "\t 2539329 & 1       & prior   & 1       & 2       &  8      & NA     \\\\\n",
       "\t 2398795 & 1       & prior   & 2       & 3       &  7      & 15     \\\\\n",
       "\t  473747 & 1       & prior   & 3       & 3       & 12      & 21     \\\\\n",
       "\t 2254736 & 1       & prior   & 4       & 4       &  7      & 29     \\\\\n",
       "\t  431534 & 1       & prior   & 5       & 4       & 15      & 28     \\\\\n",
       "\\end{tabular}\n"
      ],
      "text/markdown": [
       "\n",
       "order_id | user_id | eval_set | order_number | order_dow | order_hour_of_day | days_since_prior_order | \n",
       "|---|---|---|---|---|\n",
       "| 2539329 | 1       | prior   | 1       | 2       |  8      | NA      | \n",
       "| 2398795 | 1       | prior   | 2       | 3       |  7      | 15      | \n",
       "|  473747 | 1       | prior   | 3       | 3       | 12      | 21      | \n",
       "| 2254736 | 1       | prior   | 4       | 4       |  7      | 29      | \n",
       "|  431534 | 1       | prior   | 5       | 4       | 15      | 28      | \n",
       "\n",
       "\n"
      ],
      "text/plain": [
       "  order_id user_id eval_set order_number order_dow order_hour_of_day\n",
       "1 2539329  1       prior    1            2          8               \n",
       "2 2398795  1       prior    2            3          7               \n",
       "3  473747  1       prior    3            3         12               \n",
       "4 2254736  1       prior    4            4          7               \n",
       "5  431534  1       prior    5            4         15               \n",
       "  days_since_prior_order\n",
       "1 NA                    \n",
       "2 15                    \n",
       "3 21                    \n",
       "4 29                    \n",
       "5 28                    "
      ]
     },
     "metadata": {},
     "output_type": "display_data"
    }
   ],
   "source": [
    "str(us)\n",
    "str(orders)\n",
    "\n",
    "us %>% head(5)\n",
    "orders %>% head(5)"
   ]
  },
  {
   "cell_type": "code",
   "execution_count": 23,
   "metadata": {},
   "outputs": [
    {
     "name": "stdout",
     "output_type": "stream",
     "text": [
      "'data.frame':\t206209 obs. of  4 variables:\n",
      " $ user_id              : int  1 2 3 4 5 6 7 8 9 10 ...\n",
      " $ order_id             : int  1187899 1492625 2774568 329954 2196797 1528013 525192 880375 1094988 1822501 ...\n",
      " $ eval_set             : Factor w/ 3 levels \"prior\",\"test\",..: 3 3 2 2 3 2 3 3 3 3 ...\n",
      " $ time_since_last_order: num  14 30 11 30 6 22 6 10 30 30 ...\n",
      " - attr(*, \".internal.selfref\")=<externalptr> \n"
     ]
    },
    {
     "data": {
      "text/html": [
       "<table>\n",
       "<thead><tr><th scope=col>user_id</th><th scope=col>order_id</th><th scope=col>eval_set</th><th scope=col>time_since_last_order</th></tr></thead>\n",
       "<tbody>\n",
       "\t<tr><td>1      </td><td>1187899</td><td>train  </td><td>14     </td></tr>\n",
       "\t<tr><td>2      </td><td>1492625</td><td>train  </td><td>30     </td></tr>\n",
       "\t<tr><td>3      </td><td>2774568</td><td>test   </td><td>11     </td></tr>\n",
       "\t<tr><td>4      </td><td> 329954</td><td>test   </td><td>30     </td></tr>\n",
       "\t<tr><td>5      </td><td>2196797</td><td>train  </td><td> 6     </td></tr>\n",
       "\t<tr><td>6      </td><td>1528013</td><td>test   </td><td>22     </td></tr>\n",
       "</tbody>\n",
       "</table>\n"
      ],
      "text/latex": [
       "\\begin{tabular}{r|llll}\n",
       " user\\_id & order\\_id & eval\\_set & time\\_since\\_last\\_order\\\\\n",
       "\\hline\n",
       "\t 1       & 1187899 & train   & 14     \\\\\n",
       "\t 2       & 1492625 & train   & 30     \\\\\n",
       "\t 3       & 2774568 & test    & 11     \\\\\n",
       "\t 4       &  329954 & test    & 30     \\\\\n",
       "\t 5       & 2196797 & train   &  6     \\\\\n",
       "\t 6       & 1528013 & test    & 22     \\\\\n",
       "\\end{tabular}\n"
      ],
      "text/markdown": [
       "\n",
       "user_id | order_id | eval_set | time_since_last_order | \n",
       "|---|---|---|---|---|---|\n",
       "| 1       | 1187899 | train   | 14      | \n",
       "| 2       | 1492625 | train   | 30      | \n",
       "| 3       | 2774568 | test    | 11      | \n",
       "| 4       |  329954 | test    | 30      | \n",
       "| 5       | 2196797 | train   |  6      | \n",
       "| 6       | 1528013 | test    | 22      | \n",
       "\n",
       "\n"
      ],
      "text/plain": [
       "  user_id order_id eval_set time_since_last_order\n",
       "1 1       1187899  train    14                   \n",
       "2 2       1492625  train    30                   \n",
       "3 3       2774568  test     11                   \n",
       "4 4        329954  test     30                   \n",
       "5 5       2196797  train     6                   \n",
       "6 6       1528013  test     22                   "
      ]
     },
     "metadata": {},
     "output_type": "display_data"
    }
   ],
   "source": [
    "## train & test\n",
    "# process : eval_set을 기준으로 select\n",
    "us = orders %>%\n",
    "    filter(eval_set != \"prior\") %>%\n",
    "    select(user_id, order_id, eval_set, time_since_last_order = days_since_prior_order)\n",
    "\n",
    "str(us)\n",
    "head(us)"
   ]
  },
  {
   "cell_type": "code",
   "execution_count": 24,
   "metadata": {},
   "outputs": [
    {
     "name": "stderr",
     "output_type": "stream",
     "text": [
      "Joining, by = \"user_id\"\n"
     ]
    },
    {
     "name": "stdout",
     "output_type": "stream",
     "text": [
      "Classes ‘tbl_df’, ‘tbl’ and 'data.frame':\t206209 obs. of  11 variables:\n",
      " $ user_id                   : int  1 2 3 4 5 6 7 8 9 10 ...\n",
      " $ user_orders               : num  10 14 12 5 4 3 20 3 3 5 ...\n",
      " $ user_period               : num  176 198 133 55 40 18 203 60 36 79 ...\n",
      " $ user_mean_days_since_prior: num  19.6 15.2 12.1 13.8 13.3 ...\n",
      " $ user_total_product        : int  59 195 88 18 37 14 206 49 76 143 ...\n",
      " $ user_reorder_ratio        : num  0.7593 0.511 0.7051 0.0714 0.5385 ...\n",
      " $ user_distinct_products    : int  18 102 33 17 23 12 68 36 58 94 ...\n",
      " $ user_average_basket       : num  5.9 13.93 7.33 3.6 9.25 ...\n",
      " $ order_id                  : int  1187899 1492625 2774568 329954 2196797 1528013 525192 880375 1094988 1822501 ...\n",
      " $ eval_set                  : Factor w/ 3 levels \"prior\",\"test\",..: 3 3 2 2 3 2 3 3 3 3 ...\n",
      " $ time_since_last_order     : num  14 30 11 30 6 22 6 10 30 30 ...\n"
     ]
    },
    {
     "data": {
      "text/html": [
       "<table>\n",
       "<thead><tr><th scope=col>user_id</th><th scope=col>user_orders</th><th scope=col>user_period</th><th scope=col>user_mean_days_since_prior</th><th scope=col>user_total_product</th><th scope=col>user_reorder_ratio</th><th scope=col>user_distinct_products</th><th scope=col>user_average_basket</th><th scope=col>order_id</th><th scope=col>eval_set</th><th scope=col>time_since_last_order</th></tr></thead>\n",
       "<tbody>\n",
       "\t<tr><td>1         </td><td>10        </td><td>176       </td><td>19.55556  </td><td> 59       </td><td>0.75925926</td><td> 18       </td><td> 5.900000 </td><td>1187899   </td><td>train     </td><td>14        </td></tr>\n",
       "\t<tr><td>2         </td><td>14        </td><td>198       </td><td>15.23077  </td><td>195       </td><td>0.51098901</td><td>102       </td><td>13.928571 </td><td>1492625   </td><td>train     </td><td>30        </td></tr>\n",
       "\t<tr><td>3         </td><td>12        </td><td>133       </td><td>12.09091  </td><td> 88       </td><td>0.70512821</td><td> 33       </td><td> 7.333333 </td><td>2774568   </td><td>test      </td><td>11        </td></tr>\n",
       "\t<tr><td>4         </td><td> 5        </td><td> 55       </td><td>13.75000  </td><td> 18       </td><td>0.07142857</td><td> 17       </td><td> 3.600000 </td><td> 329954   </td><td>test      </td><td>30        </td></tr>\n",
       "\t<tr><td>5         </td><td> 4        </td><td> 40       </td><td>13.33333  </td><td> 37       </td><td>0.53846154</td><td> 23       </td><td> 9.250000 </td><td>2196797   </td><td>train     </td><td> 6        </td></tr>\n",
       "\t<tr><td>6         </td><td> 3        </td><td> 18       </td><td> 9.00000  </td><td> 14       </td><td>0.20000000</td><td> 12       </td><td> 4.666667 </td><td>1528013   </td><td>test      </td><td>22        </td></tr>\n",
       "</tbody>\n",
       "</table>\n"
      ],
      "text/latex": [
       "\\begin{tabular}{r|lllllllllll}\n",
       " user\\_id & user\\_orders & user\\_period & user\\_mean\\_days\\_since\\_prior & user\\_total\\_product & user\\_reorder\\_ratio & user\\_distinct\\_products & user\\_average\\_basket & order\\_id & eval\\_set & time\\_since\\_last\\_order\\\\\n",
       "\\hline\n",
       "\t 1          & 10         & 176        & 19.55556   &  59        & 0.75925926 &  18        &  5.900000  & 1187899    & train      & 14        \\\\\n",
       "\t 2          & 14         & 198        & 15.23077   & 195        & 0.51098901 & 102        & 13.928571  & 1492625    & train      & 30        \\\\\n",
       "\t 3          & 12         & 133        & 12.09091   &  88        & 0.70512821 &  33        &  7.333333  & 2774568    & test       & 11        \\\\\n",
       "\t 4          &  5         &  55        & 13.75000   &  18        & 0.07142857 &  17        &  3.600000  &  329954    & test       & 30        \\\\\n",
       "\t 5          &  4         &  40        & 13.33333   &  37        & 0.53846154 &  23        &  9.250000  & 2196797    & train      &  6        \\\\\n",
       "\t 6          &  3         &  18        &  9.00000   &  14        & 0.20000000 &  12        &  4.666667  & 1528013    & test       & 22        \\\\\n",
       "\\end{tabular}\n"
      ],
      "text/markdown": [
       "\n",
       "user_id | user_orders | user_period | user_mean_days_since_prior | user_total_product | user_reorder_ratio | user_distinct_products | user_average_basket | order_id | eval_set | time_since_last_order | \n",
       "|---|---|---|---|---|---|\n",
       "| 1          | 10         | 176        | 19.55556   |  59        | 0.75925926 |  18        |  5.900000  | 1187899    | train      | 14         | \n",
       "| 2          | 14         | 198        | 15.23077   | 195        | 0.51098901 | 102        | 13.928571  | 1492625    | train      | 30         | \n",
       "| 3          | 12         | 133        | 12.09091   |  88        | 0.70512821 |  33        |  7.333333  | 2774568    | test       | 11         | \n",
       "| 4          |  5         |  55        | 13.75000   |  18        | 0.07142857 |  17        |  3.600000  |  329954    | test       | 30         | \n",
       "| 5          |  4         |  40        | 13.33333   |  37        | 0.53846154 |  23        |  9.250000  | 2196797    | train      |  6         | \n",
       "| 6          |  3         |  18        |  9.00000   |  14        | 0.20000000 |  12        |  4.666667  | 1528013    | test       | 22         | \n",
       "\n",
       "\n"
      ],
      "text/plain": [
       "  user_id user_orders user_period user_mean_days_since_prior user_total_product\n",
       "1 1       10          176         19.55556                    59               \n",
       "2 2       14          198         15.23077                   195               \n",
       "3 3       12          133         12.09091                    88               \n",
       "4 4        5           55         13.75000                    18               \n",
       "5 5        4           40         13.33333                    37               \n",
       "6 6        3           18          9.00000                    14               \n",
       "  user_reorder_ratio user_distinct_products user_average_basket order_id\n",
       "1 0.75925926          18                     5.900000           1187899 \n",
       "2 0.51098901         102                    13.928571           1492625 \n",
       "3 0.70512821          33                     7.333333           2774568 \n",
       "4 0.07142857          17                     3.600000            329954 \n",
       "5 0.53846154          23                     9.250000           2196797 \n",
       "6 0.20000000          12                     4.666667           1528013 \n",
       "  eval_set time_since_last_order\n",
       "1 train    14                   \n",
       "2 train    30                   \n",
       "3 test     11                   \n",
       "4 test     30                   \n",
       "5 train     6                   \n",
       "6 test     22                   "
      ]
     },
     "metadata": {},
     "output_type": "display_data"
    }
   ],
   "source": [
    "# train과 test데이터만 들어감\n",
    "users = users %>% inner_join(us)\n",
    "\n",
    "str(users)\n",
    "head(users)"
   ]
  },
  {
   "cell_type": "markdown",
   "metadata": {},
   "source": [
    "#### 여기까지 user 특성은 완성!"
   ]
  },
  {
   "cell_type": "markdown",
   "metadata": {},
   "source": [
    "## 7. extra feature ...\n",
    "- obj\n",
    "    - create data table\n",
    "    - __?__\n",
    "    <br><br>\n",
    "- process\n",
    "    -\n",
    "    <br><br>\n",
    "- description\n",
    "    - 상품 특성에 feature를 추가할 것임 ?\n",
    "        - 상품 구매건수, 해당 아이템 첫 구매 구매 순서, 해당 아이템 마지막 구매 순서, 카트 평균 순위\n",
    "        <br><br>\n",
    "    - group_by\n",
    "        - 구매자별\n",
    "        - 상품별 정보\n",
    "        <br><br>\n",
    "    - up_orders\n",
    "        - 사람의 상품별 구매건수, ?\n",
    "        - 해당 아이템의 첫 구매 순서\n",
    "        - 사람이 상품을 총 구매한 순서 중에서 특정 아이템\n",
    "        - 최근에 구매한 것이 재구매할 확률이 높다고 판단하기에 넣은 것?\n",
    "        <br><br>\n",
    "    - up_average_cart_position\n",
    "        - user_id가 product_id를 몇 번째에 담았느냐!"
   ]
  },
  {
   "cell_type": "code",
   "execution_count": 25,
   "metadata": {
    "scrolled": true
   },
   "outputs": [
    {
     "data": {
      "text/html": [
       "<table>\n",
       "<thead><tr><th scope=col>order_id</th><th scope=col>user_id</th><th scope=col>eval_set</th><th scope=col>order_number</th><th scope=col>order_dow</th><th scope=col>order_hour_of_day</th><th scope=col>days_since_prior_order</th><th scope=col>product_id</th><th scope=col>add_to_cart_order</th><th scope=col>reordered</th></tr></thead>\n",
       "<tbody>\n",
       "\t<tr><td>2539329</td><td>1      </td><td>prior  </td><td>1      </td><td>2      </td><td> 8     </td><td>NA     </td><td>  196  </td><td>1      </td><td>0      </td></tr>\n",
       "\t<tr><td>2539329</td><td>1      </td><td>prior  </td><td>1      </td><td>2      </td><td> 8     </td><td>NA     </td><td>14084  </td><td>2      </td><td>0      </td></tr>\n",
       "\t<tr><td>2539329</td><td>1      </td><td>prior  </td><td>1      </td><td>2      </td><td> 8     </td><td>NA     </td><td>12427  </td><td>3      </td><td>0      </td></tr>\n",
       "\t<tr><td>2539329</td><td>1      </td><td>prior  </td><td>1      </td><td>2      </td><td> 8     </td><td>NA     </td><td>26088  </td><td>4      </td><td>0      </td></tr>\n",
       "\t<tr><td>2539329</td><td>1      </td><td>prior  </td><td>1      </td><td>2      </td><td> 8     </td><td>NA     </td><td>26405  </td><td>5      </td><td>0      </td></tr>\n",
       "\t<tr><td>2398795</td><td>1      </td><td>prior  </td><td>2      </td><td>3      </td><td> 7     </td><td>15     </td><td>  196  </td><td>1      </td><td>1      </td></tr>\n",
       "\t<tr><td>2398795</td><td>1      </td><td>prior  </td><td>2      </td><td>3      </td><td> 7     </td><td>15     </td><td>10258  </td><td>2      </td><td>0      </td></tr>\n",
       "\t<tr><td>2398795</td><td>1      </td><td>prior  </td><td>2      </td><td>3      </td><td> 7     </td><td>15     </td><td>12427  </td><td>3      </td><td>1      </td></tr>\n",
       "\t<tr><td>2398795</td><td>1      </td><td>prior  </td><td>2      </td><td>3      </td><td> 7     </td><td>15     </td><td>13176  </td><td>4      </td><td>0      </td></tr>\n",
       "\t<tr><td>2398795</td><td>1      </td><td>prior  </td><td>2      </td><td>3      </td><td> 7     </td><td>15     </td><td>26088  </td><td>5      </td><td>1      </td></tr>\n",
       "\t<tr><td>2398795</td><td>1      </td><td>prior  </td><td>2      </td><td>3      </td><td> 7     </td><td>15     </td><td>13032  </td><td>6      </td><td>0      </td></tr>\n",
       "\t<tr><td> 473747</td><td>1      </td><td>prior  </td><td>3      </td><td>3      </td><td>12     </td><td>21     </td><td>  196  </td><td>1      </td><td>1      </td></tr>\n",
       "\t<tr><td> 473747</td><td>1      </td><td>prior  </td><td>3      </td><td>3      </td><td>12     </td><td>21     </td><td>12427  </td><td>2      </td><td>1      </td></tr>\n",
       "\t<tr><td> 473747</td><td>1      </td><td>prior  </td><td>3      </td><td>3      </td><td>12     </td><td>21     </td><td>10258  </td><td>3      </td><td>1      </td></tr>\n",
       "\t<tr><td> 473747</td><td>1      </td><td>prior  </td><td>3      </td><td>3      </td><td>12     </td><td>21     </td><td>25133  </td><td>4      </td><td>0      </td></tr>\n",
       "\t<tr><td> 473747</td><td>1      </td><td>prior  </td><td>3      </td><td>3      </td><td>12     </td><td>21     </td><td>30450  </td><td>5      </td><td>0      </td></tr>\n",
       "\t<tr><td>2254736</td><td>1      </td><td>prior  </td><td>4      </td><td>4      </td><td> 7     </td><td>29     </td><td>  196  </td><td>1      </td><td>1      </td></tr>\n",
       "\t<tr><td>2254736</td><td>1      </td><td>prior  </td><td>4      </td><td>4      </td><td> 7     </td><td>29     </td><td>12427  </td><td>2      </td><td>1      </td></tr>\n",
       "\t<tr><td>2254736</td><td>1      </td><td>prior  </td><td>4      </td><td>4      </td><td> 7     </td><td>29     </td><td>10258  </td><td>3      </td><td>1      </td></tr>\n",
       "\t<tr><td>2254736</td><td>1      </td><td>prior  </td><td>4      </td><td>4      </td><td> 7     </td><td>29     </td><td>25133  </td><td>4      </td><td>1      </td></tr>\n",
       "\t<tr><td>2254736</td><td>1      </td><td>prior  </td><td>4      </td><td>4      </td><td> 7     </td><td>29     </td><td>26405  </td><td>5      </td><td>1      </td></tr>\n",
       "\t<tr><td> 431534</td><td>1      </td><td>prior  </td><td>5      </td><td>4      </td><td>15     </td><td>28     </td><td>  196  </td><td>1      </td><td>1      </td></tr>\n",
       "\t<tr><td> 431534</td><td>1      </td><td>prior  </td><td>5      </td><td>4      </td><td>15     </td><td>28     </td><td>12427  </td><td>2      </td><td>1      </td></tr>\n",
       "\t<tr><td> 431534</td><td>1      </td><td>prior  </td><td>5      </td><td>4      </td><td>15     </td><td>28     </td><td>10258  </td><td>3      </td><td>1      </td></tr>\n",
       "\t<tr><td> 431534</td><td>1      </td><td>prior  </td><td>5      </td><td>4      </td><td>15     </td><td>28     </td><td>25133  </td><td>4      </td><td>1      </td></tr>\n",
       "\t<tr><td> 431534</td><td>1      </td><td>prior  </td><td>5      </td><td>4      </td><td>15     </td><td>28     </td><td>10326  </td><td>5      </td><td>0      </td></tr>\n",
       "\t<tr><td> 431534</td><td>1      </td><td>prior  </td><td>5      </td><td>4      </td><td>15     </td><td>28     </td><td>17122  </td><td>6      </td><td>0      </td></tr>\n",
       "\t<tr><td> 431534</td><td>1      </td><td>prior  </td><td>5      </td><td>4      </td><td>15     </td><td>28     </td><td>41787  </td><td>7      </td><td>0      </td></tr>\n",
       "\t<tr><td> 431534</td><td>1      </td><td>prior  </td><td>5      </td><td>4      </td><td>15     </td><td>28     </td><td>13176  </td><td>8      </td><td>1      </td></tr>\n",
       "\t<tr><td>3367565</td><td>1      </td><td>prior  </td><td>6      </td><td>2      </td><td> 7     </td><td>19     </td><td>  196  </td><td>1      </td><td>1      </td></tr>\n",
       "\t<tr><td>⋮</td><td>⋮</td><td>⋮</td><td>⋮</td><td>⋮</td><td>⋮</td><td>⋮</td><td>⋮</td><td>⋮</td><td>⋮</td></tr>\n",
       "\t<tr><td>2168274</td><td>2      </td><td>prior  </td><td>1      </td><td>2      </td><td>11     </td><td>NA     </td><td>13176  </td><td>12     </td><td>0      </td></tr>\n",
       "\t<tr><td>2168274</td><td>2      </td><td>prior  </td><td>1      </td><td>2      </td><td>11     </td><td>NA     </td><td>45066  </td><td>13     </td><td>0      </td></tr>\n",
       "\t<tr><td>1501582</td><td>2      </td><td>prior  </td><td>2      </td><td>5      </td><td>10     </td><td>10     </td><td>16797  </td><td> 1     </td><td>0      </td></tr>\n",
       "\t<tr><td>1501582</td><td>2      </td><td>prior  </td><td>2      </td><td>5      </td><td>10     </td><td>10     </td><td>47526  </td><td> 2     </td><td>0      </td></tr>\n",
       "\t<tr><td>1501582</td><td>2      </td><td>prior  </td><td>2      </td><td>5      </td><td>10     </td><td>10     </td><td> 8479  </td><td> 3     </td><td>0      </td></tr>\n",
       "\t<tr><td>1501582</td><td>2      </td><td>prior  </td><td>2      </td><td>5      </td><td>10     </td><td>10     </td><td>47766  </td><td> 4     </td><td>1      </td></tr>\n",
       "\t<tr><td>1501582</td><td>2      </td><td>prior  </td><td>2      </td><td>5      </td><td>10     </td><td>10     </td><td>19051  </td><td> 5     </td><td>0      </td></tr>\n",
       "\t<tr><td>1501582</td><td>2      </td><td>prior  </td><td>2      </td><td>5      </td><td>10     </td><td>10     </td><td> 8138  </td><td> 6     </td><td>0      </td></tr>\n",
       "\t<tr><td>1901567</td><td>2      </td><td>prior  </td><td>3      </td><td>1      </td><td>10     </td><td> 3     </td><td>47766  </td><td> 1     </td><td>1      </td></tr>\n",
       "\t<tr><td>1901567</td><td>2      </td><td>prior  </td><td>3      </td><td>1      </td><td>10     </td><td> 3     </td><td>32792  </td><td> 2     </td><td>1      </td></tr>\n",
       "\t<tr><td>1901567</td><td>2      </td><td>prior  </td><td>3      </td><td>1      </td><td>10     </td><td> 3     </td><td>20574  </td><td> 3     </td><td>1      </td></tr>\n",
       "\t<tr><td>1901567</td><td>2      </td><td>prior  </td><td>3      </td><td>1      </td><td>10     </td><td> 3     </td><td> 7781  </td><td> 4     </td><td>0      </td></tr>\n",
       "\t<tr><td>1901567</td><td>2      </td><td>prior  </td><td>3      </td><td>1      </td><td>10     </td><td> 3     </td><td>28874  </td><td> 5     </td><td>0      </td></tr>\n",
       "\t<tr><td> 738281</td><td>2      </td><td>prior  </td><td>4      </td><td>2      </td><td>10     </td><td> 8     </td><td>49451  </td><td> 1     </td><td>0      </td></tr>\n",
       "\t<tr><td> 738281</td><td>2      </td><td>prior  </td><td>4      </td><td>2      </td><td>10     </td><td> 8     </td><td>32792  </td><td> 2     </td><td>1      </td></tr>\n",
       "\t<tr><td> 738281</td><td>2      </td><td>prior  </td><td>4      </td><td>2      </td><td>10     </td><td> 8     </td><td>32139  </td><td> 3     </td><td>0      </td></tr>\n",
       "\t<tr><td> 738281</td><td>2      </td><td>prior  </td><td>4      </td><td>2      </td><td>10     </td><td> 8     </td><td>34688  </td><td> 4     </td><td>0      </td></tr>\n",
       "\t<tr><td> 738281</td><td>2      </td><td>prior  </td><td>4      </td><td>2      </td><td>10     </td><td> 8     </td><td>36735  </td><td> 5     </td><td>0      </td></tr>\n",
       "\t<tr><td> 738281</td><td>2      </td><td>prior  </td><td>4      </td><td>2      </td><td>10     </td><td> 8     </td><td>37646  </td><td> 6     </td><td>0      </td></tr>\n",
       "\t<tr><td> 738281</td><td>2      </td><td>prior  </td><td>4      </td><td>2      </td><td>10     </td><td> 8     </td><td>22829  </td><td> 7     </td><td>0      </td></tr>\n",
       "\t<tr><td> 738281</td><td>2      </td><td>prior  </td><td>4      </td><td>2      </td><td>10     </td><td> 8     </td><td>24852  </td><td> 8     </td><td>0      </td></tr>\n",
       "\t<tr><td> 738281</td><td>2      </td><td>prior  </td><td>4      </td><td>2      </td><td>10     </td><td> 8     </td><td>47209  </td><td> 9     </td><td>0      </td></tr>\n",
       "\t<tr><td> 738281</td><td>2      </td><td>prior  </td><td>4      </td><td>2      </td><td>10     </td><td> 8     </td><td>33276  </td><td>10     </td><td>0      </td></tr>\n",
       "\t<tr><td> 738281</td><td>2      </td><td>prior  </td><td>4      </td><td>2      </td><td>10     </td><td> 8     </td><td>45613  </td><td>11     </td><td>0      </td></tr>\n",
       "\t<tr><td> 738281</td><td>2      </td><td>prior  </td><td>4      </td><td>2      </td><td>10     </td><td> 8     </td><td> 9681  </td><td>12     </td><td>0      </td></tr>\n",
       "\t<tr><td> 738281</td><td>2      </td><td>prior  </td><td>4      </td><td>2      </td><td>10     </td><td> 8     </td><td>21150  </td><td>13     </td><td>0      </td></tr>\n",
       "\t<tr><td>1673511</td><td>2      </td><td>prior  </td><td>5      </td><td>3      </td><td>11     </td><td> 8     </td><td>47144  </td><td> 1     </td><td>0      </td></tr>\n",
       "\t<tr><td>1673511</td><td>2      </td><td>prior  </td><td>5      </td><td>3      </td><td>11     </td><td> 8     </td><td> 5322  </td><td> 2     </td><td>0      </td></tr>\n",
       "\t<tr><td>1673511</td><td>2      </td><td>prior  </td><td>5      </td><td>3      </td><td>11     </td><td> 8     </td><td>17224  </td><td> 3     </td><td>0      </td></tr>\n",
       "\t<tr><td>1673511</td><td>2      </td><td>prior  </td><td>5      </td><td>3      </td><td>11     </td><td> 8     </td><td>38656  </td><td> 4     </td><td>0      </td></tr>\n",
       "</tbody>\n",
       "</table>\n"
      ],
      "text/latex": [
       "\\begin{tabular}{r|llllllllll}\n",
       " order\\_id & user\\_id & eval\\_set & order\\_number & order\\_dow & order\\_hour\\_of\\_day & days\\_since\\_prior\\_order & product\\_id & add\\_to\\_cart\\_order & reordered\\\\\n",
       "\\hline\n",
       "\t 2539329 & 1       & prior   & 1       & 2       &  8      & NA      &   196   & 1       & 0      \\\\\n",
       "\t 2539329 & 1       & prior   & 1       & 2       &  8      & NA      & 14084   & 2       & 0      \\\\\n",
       "\t 2539329 & 1       & prior   & 1       & 2       &  8      & NA      & 12427   & 3       & 0      \\\\\n",
       "\t 2539329 & 1       & prior   & 1       & 2       &  8      & NA      & 26088   & 4       & 0      \\\\\n",
       "\t 2539329 & 1       & prior   & 1       & 2       &  8      & NA      & 26405   & 5       & 0      \\\\\n",
       "\t 2398795 & 1       & prior   & 2       & 3       &  7      & 15      &   196   & 1       & 1      \\\\\n",
       "\t 2398795 & 1       & prior   & 2       & 3       &  7      & 15      & 10258   & 2       & 0      \\\\\n",
       "\t 2398795 & 1       & prior   & 2       & 3       &  7      & 15      & 12427   & 3       & 1      \\\\\n",
       "\t 2398795 & 1       & prior   & 2       & 3       &  7      & 15      & 13176   & 4       & 0      \\\\\n",
       "\t 2398795 & 1       & prior   & 2       & 3       &  7      & 15      & 26088   & 5       & 1      \\\\\n",
       "\t 2398795 & 1       & prior   & 2       & 3       &  7      & 15      & 13032   & 6       & 0      \\\\\n",
       "\t  473747 & 1       & prior   & 3       & 3       & 12      & 21      &   196   & 1       & 1      \\\\\n",
       "\t  473747 & 1       & prior   & 3       & 3       & 12      & 21      & 12427   & 2       & 1      \\\\\n",
       "\t  473747 & 1       & prior   & 3       & 3       & 12      & 21      & 10258   & 3       & 1      \\\\\n",
       "\t  473747 & 1       & prior   & 3       & 3       & 12      & 21      & 25133   & 4       & 0      \\\\\n",
       "\t  473747 & 1       & prior   & 3       & 3       & 12      & 21      & 30450   & 5       & 0      \\\\\n",
       "\t 2254736 & 1       & prior   & 4       & 4       &  7      & 29      &   196   & 1       & 1      \\\\\n",
       "\t 2254736 & 1       & prior   & 4       & 4       &  7      & 29      & 12427   & 2       & 1      \\\\\n",
       "\t 2254736 & 1       & prior   & 4       & 4       &  7      & 29      & 10258   & 3       & 1      \\\\\n",
       "\t 2254736 & 1       & prior   & 4       & 4       &  7      & 29      & 25133   & 4       & 1      \\\\\n",
       "\t 2254736 & 1       & prior   & 4       & 4       &  7      & 29      & 26405   & 5       & 1      \\\\\n",
       "\t  431534 & 1       & prior   & 5       & 4       & 15      & 28      &   196   & 1       & 1      \\\\\n",
       "\t  431534 & 1       & prior   & 5       & 4       & 15      & 28      & 12427   & 2       & 1      \\\\\n",
       "\t  431534 & 1       & prior   & 5       & 4       & 15      & 28      & 10258   & 3       & 1      \\\\\n",
       "\t  431534 & 1       & prior   & 5       & 4       & 15      & 28      & 25133   & 4       & 1      \\\\\n",
       "\t  431534 & 1       & prior   & 5       & 4       & 15      & 28      & 10326   & 5       & 0      \\\\\n",
       "\t  431534 & 1       & prior   & 5       & 4       & 15      & 28      & 17122   & 6       & 0      \\\\\n",
       "\t  431534 & 1       & prior   & 5       & 4       & 15      & 28      & 41787   & 7       & 0      \\\\\n",
       "\t  431534 & 1       & prior   & 5       & 4       & 15      & 28      & 13176   & 8       & 1      \\\\\n",
       "\t 3367565 & 1       & prior   & 6       & 2       &  7      & 19      &   196   & 1       & 1      \\\\\n",
       "\t ⋮ & ⋮ & ⋮ & ⋮ & ⋮ & ⋮ & ⋮ & ⋮ & ⋮ & ⋮\\\\\n",
       "\t 2168274 & 2       & prior   & 1       & 2       & 11      & NA      & 13176   & 12      & 0      \\\\\n",
       "\t 2168274 & 2       & prior   & 1       & 2       & 11      & NA      & 45066   & 13      & 0      \\\\\n",
       "\t 1501582 & 2       & prior   & 2       & 5       & 10      & 10      & 16797   &  1      & 0      \\\\\n",
       "\t 1501582 & 2       & prior   & 2       & 5       & 10      & 10      & 47526   &  2      & 0      \\\\\n",
       "\t 1501582 & 2       & prior   & 2       & 5       & 10      & 10      &  8479   &  3      & 0      \\\\\n",
       "\t 1501582 & 2       & prior   & 2       & 5       & 10      & 10      & 47766   &  4      & 1      \\\\\n",
       "\t 1501582 & 2       & prior   & 2       & 5       & 10      & 10      & 19051   &  5      & 0      \\\\\n",
       "\t 1501582 & 2       & prior   & 2       & 5       & 10      & 10      &  8138   &  6      & 0      \\\\\n",
       "\t 1901567 & 2       & prior   & 3       & 1       & 10      &  3      & 47766   &  1      & 1      \\\\\n",
       "\t 1901567 & 2       & prior   & 3       & 1       & 10      &  3      & 32792   &  2      & 1      \\\\\n",
       "\t 1901567 & 2       & prior   & 3       & 1       & 10      &  3      & 20574   &  3      & 1      \\\\\n",
       "\t 1901567 & 2       & prior   & 3       & 1       & 10      &  3      &  7781   &  4      & 0      \\\\\n",
       "\t 1901567 & 2       & prior   & 3       & 1       & 10      &  3      & 28874   &  5      & 0      \\\\\n",
       "\t  738281 & 2       & prior   & 4       & 2       & 10      &  8      & 49451   &  1      & 0      \\\\\n",
       "\t  738281 & 2       & prior   & 4       & 2       & 10      &  8      & 32792   &  2      & 1      \\\\\n",
       "\t  738281 & 2       & prior   & 4       & 2       & 10      &  8      & 32139   &  3      & 0      \\\\\n",
       "\t  738281 & 2       & prior   & 4       & 2       & 10      &  8      & 34688   &  4      & 0      \\\\\n",
       "\t  738281 & 2       & prior   & 4       & 2       & 10      &  8      & 36735   &  5      & 0      \\\\\n",
       "\t  738281 & 2       & prior   & 4       & 2       & 10      &  8      & 37646   &  6      & 0      \\\\\n",
       "\t  738281 & 2       & prior   & 4       & 2       & 10      &  8      & 22829   &  7      & 0      \\\\\n",
       "\t  738281 & 2       & prior   & 4       & 2       & 10      &  8      & 24852   &  8      & 0      \\\\\n",
       "\t  738281 & 2       & prior   & 4       & 2       & 10      &  8      & 47209   &  9      & 0      \\\\\n",
       "\t  738281 & 2       & prior   & 4       & 2       & 10      &  8      & 33276   & 10      & 0      \\\\\n",
       "\t  738281 & 2       & prior   & 4       & 2       & 10      &  8      & 45613   & 11      & 0      \\\\\n",
       "\t  738281 & 2       & prior   & 4       & 2       & 10      &  8      &  9681   & 12      & 0      \\\\\n",
       "\t  738281 & 2       & prior   & 4       & 2       & 10      &  8      & 21150   & 13      & 0      \\\\\n",
       "\t 1673511 & 2       & prior   & 5       & 3       & 11      &  8      & 47144   &  1      & 0      \\\\\n",
       "\t 1673511 & 2       & prior   & 5       & 3       & 11      &  8      &  5322   &  2      & 0      \\\\\n",
       "\t 1673511 & 2       & prior   & 5       & 3       & 11      &  8      & 17224   &  3      & 0      \\\\\n",
       "\t 1673511 & 2       & prior   & 5       & 3       & 11      &  8      & 38656   &  4      & 0      \\\\\n",
       "\\end{tabular}\n"
      ],
      "text/markdown": [
       "\n",
       "order_id | user_id | eval_set | order_number | order_dow | order_hour_of_day | days_since_prior_order | product_id | add_to_cart_order | reordered | \n",
       "|---|---|---|---|---|---|---|---|---|---|---|---|---|---|---|---|---|---|---|---|---|---|---|---|---|---|---|---|---|---|---|---|---|---|---|---|---|---|---|---|---|---|---|---|---|---|---|---|---|---|---|---|---|---|---|---|---|---|---|---|---|\n",
       "| 2539329 | 1       | prior   | 1       | 2       |  8      | NA      |   196   | 1       | 0       | \n",
       "| 2539329 | 1       | prior   | 1       | 2       |  8      | NA      | 14084   | 2       | 0       | \n",
       "| 2539329 | 1       | prior   | 1       | 2       |  8      | NA      | 12427   | 3       | 0       | \n",
       "| 2539329 | 1       | prior   | 1       | 2       |  8      | NA      | 26088   | 4       | 0       | \n",
       "| 2539329 | 1       | prior   | 1       | 2       |  8      | NA      | 26405   | 5       | 0       | \n",
       "| 2398795 | 1       | prior   | 2       | 3       |  7      | 15      |   196   | 1       | 1       | \n",
       "| 2398795 | 1       | prior   | 2       | 3       |  7      | 15      | 10258   | 2       | 0       | \n",
       "| 2398795 | 1       | prior   | 2       | 3       |  7      | 15      | 12427   | 3       | 1       | \n",
       "| 2398795 | 1       | prior   | 2       | 3       |  7      | 15      | 13176   | 4       | 0       | \n",
       "| 2398795 | 1       | prior   | 2       | 3       |  7      | 15      | 26088   | 5       | 1       | \n",
       "| 2398795 | 1       | prior   | 2       | 3       |  7      | 15      | 13032   | 6       | 0       | \n",
       "|  473747 | 1       | prior   | 3       | 3       | 12      | 21      |   196   | 1       | 1       | \n",
       "|  473747 | 1       | prior   | 3       | 3       | 12      | 21      | 12427   | 2       | 1       | \n",
       "|  473747 | 1       | prior   | 3       | 3       | 12      | 21      | 10258   | 3       | 1       | \n",
       "|  473747 | 1       | prior   | 3       | 3       | 12      | 21      | 25133   | 4       | 0       | \n",
       "|  473747 | 1       | prior   | 3       | 3       | 12      | 21      | 30450   | 5       | 0       | \n",
       "| 2254736 | 1       | prior   | 4       | 4       |  7      | 29      |   196   | 1       | 1       | \n",
       "| 2254736 | 1       | prior   | 4       | 4       |  7      | 29      | 12427   | 2       | 1       | \n",
       "| 2254736 | 1       | prior   | 4       | 4       |  7      | 29      | 10258   | 3       | 1       | \n",
       "| 2254736 | 1       | prior   | 4       | 4       |  7      | 29      | 25133   | 4       | 1       | \n",
       "| 2254736 | 1       | prior   | 4       | 4       |  7      | 29      | 26405   | 5       | 1       | \n",
       "|  431534 | 1       | prior   | 5       | 4       | 15      | 28      |   196   | 1       | 1       | \n",
       "|  431534 | 1       | prior   | 5       | 4       | 15      | 28      | 12427   | 2       | 1       | \n",
       "|  431534 | 1       | prior   | 5       | 4       | 15      | 28      | 10258   | 3       | 1       | \n",
       "|  431534 | 1       | prior   | 5       | 4       | 15      | 28      | 25133   | 4       | 1       | \n",
       "|  431534 | 1       | prior   | 5       | 4       | 15      | 28      | 10326   | 5       | 0       | \n",
       "|  431534 | 1       | prior   | 5       | 4       | 15      | 28      | 17122   | 6       | 0       | \n",
       "|  431534 | 1       | prior   | 5       | 4       | 15      | 28      | 41787   | 7       | 0       | \n",
       "|  431534 | 1       | prior   | 5       | 4       | 15      | 28      | 13176   | 8       | 1       | \n",
       "| 3367565 | 1       | prior   | 6       | 2       |  7      | 19      |   196   | 1       | 1       | \n",
       "| ⋮ | ⋮ | ⋮ | ⋮ | ⋮ | ⋮ | ⋮ | ⋮ | ⋮ | ⋮ | \n",
       "| 2168274 | 2       | prior   | 1       | 2       | 11      | NA      | 13176   | 12      | 0       | \n",
       "| 2168274 | 2       | prior   | 1       | 2       | 11      | NA      | 45066   | 13      | 0       | \n",
       "| 1501582 | 2       | prior   | 2       | 5       | 10      | 10      | 16797   |  1      | 0       | \n",
       "| 1501582 | 2       | prior   | 2       | 5       | 10      | 10      | 47526   |  2      | 0       | \n",
       "| 1501582 | 2       | prior   | 2       | 5       | 10      | 10      |  8479   |  3      | 0       | \n",
       "| 1501582 | 2       | prior   | 2       | 5       | 10      | 10      | 47766   |  4      | 1       | \n",
       "| 1501582 | 2       | prior   | 2       | 5       | 10      | 10      | 19051   |  5      | 0       | \n",
       "| 1501582 | 2       | prior   | 2       | 5       | 10      | 10      |  8138   |  6      | 0       | \n",
       "| 1901567 | 2       | prior   | 3       | 1       | 10      |  3      | 47766   |  1      | 1       | \n",
       "| 1901567 | 2       | prior   | 3       | 1       | 10      |  3      | 32792   |  2      | 1       | \n",
       "| 1901567 | 2       | prior   | 3       | 1       | 10      |  3      | 20574   |  3      | 1       | \n",
       "| 1901567 | 2       | prior   | 3       | 1       | 10      |  3      |  7781   |  4      | 0       | \n",
       "| 1901567 | 2       | prior   | 3       | 1       | 10      |  3      | 28874   |  5      | 0       | \n",
       "|  738281 | 2       | prior   | 4       | 2       | 10      |  8      | 49451   |  1      | 0       | \n",
       "|  738281 | 2       | prior   | 4       | 2       | 10      |  8      | 32792   |  2      | 1       | \n",
       "|  738281 | 2       | prior   | 4       | 2       | 10      |  8      | 32139   |  3      | 0       | \n",
       "|  738281 | 2       | prior   | 4       | 2       | 10      |  8      | 34688   |  4      | 0       | \n",
       "|  738281 | 2       | prior   | 4       | 2       | 10      |  8      | 36735   |  5      | 0       | \n",
       "|  738281 | 2       | prior   | 4       | 2       | 10      |  8      | 37646   |  6      | 0       | \n",
       "|  738281 | 2       | prior   | 4       | 2       | 10      |  8      | 22829   |  7      | 0       | \n",
       "|  738281 | 2       | prior   | 4       | 2       | 10      |  8      | 24852   |  8      | 0       | \n",
       "|  738281 | 2       | prior   | 4       | 2       | 10      |  8      | 47209   |  9      | 0       | \n",
       "|  738281 | 2       | prior   | 4       | 2       | 10      |  8      | 33276   | 10      | 0       | \n",
       "|  738281 | 2       | prior   | 4       | 2       | 10      |  8      | 45613   | 11      | 0       | \n",
       "|  738281 | 2       | prior   | 4       | 2       | 10      |  8      |  9681   | 12      | 0       | \n",
       "|  738281 | 2       | prior   | 4       | 2       | 10      |  8      | 21150   | 13      | 0       | \n",
       "| 1673511 | 2       | prior   | 5       | 3       | 11      |  8      | 47144   |  1      | 0       | \n",
       "| 1673511 | 2       | prior   | 5       | 3       | 11      |  8      |  5322   |  2      | 0       | \n",
       "| 1673511 | 2       | prior   | 5       | 3       | 11      |  8      | 17224   |  3      | 0       | \n",
       "| 1673511 | 2       | prior   | 5       | 3       | 11      |  8      | 38656   |  4      | 0       | \n",
       "\n",
       "\n"
      ],
      "text/plain": [
       "    order_id user_id eval_set order_number order_dow order_hour_of_day\n",
       "1   2539329  1       prior    1            2          8               \n",
       "2   2539329  1       prior    1            2          8               \n",
       "3   2539329  1       prior    1            2          8               \n",
       "4   2539329  1       prior    1            2          8               \n",
       "5   2539329  1       prior    1            2          8               \n",
       "6   2398795  1       prior    2            3          7               \n",
       "7   2398795  1       prior    2            3          7               \n",
       "8   2398795  1       prior    2            3          7               \n",
       "9   2398795  1       prior    2            3          7               \n",
       "10  2398795  1       prior    2            3          7               \n",
       "11  2398795  1       prior    2            3          7               \n",
       "12   473747  1       prior    3            3         12               \n",
       "13   473747  1       prior    3            3         12               \n",
       "14   473747  1       prior    3            3         12               \n",
       "15   473747  1       prior    3            3         12               \n",
       "16   473747  1       prior    3            3         12               \n",
       "17  2254736  1       prior    4            4          7               \n",
       "18  2254736  1       prior    4            4          7               \n",
       "19  2254736  1       prior    4            4          7               \n",
       "20  2254736  1       prior    4            4          7               \n",
       "21  2254736  1       prior    4            4          7               \n",
       "22   431534  1       prior    5            4         15               \n",
       "23   431534  1       prior    5            4         15               \n",
       "24   431534  1       prior    5            4         15               \n",
       "25   431534  1       prior    5            4         15               \n",
       "26   431534  1       prior    5            4         15               \n",
       "27   431534  1       prior    5            4         15               \n",
       "28   431534  1       prior    5            4         15               \n",
       "29   431534  1       prior    5            4         15               \n",
       "30  3367565  1       prior    6            2          7               \n",
       "⋮   ⋮        ⋮       ⋮        ⋮            ⋮         ⋮                \n",
       "71  2168274  2       prior    1            2         11               \n",
       "72  2168274  2       prior    1            2         11               \n",
       "73  1501582  2       prior    2            5         10               \n",
       "74  1501582  2       prior    2            5         10               \n",
       "75  1501582  2       prior    2            5         10               \n",
       "76  1501582  2       prior    2            5         10               \n",
       "77  1501582  2       prior    2            5         10               \n",
       "78  1501582  2       prior    2            5         10               \n",
       "79  1901567  2       prior    3            1         10               \n",
       "80  1901567  2       prior    3            1         10               \n",
       "81  1901567  2       prior    3            1         10               \n",
       "82  1901567  2       prior    3            1         10               \n",
       "83  1901567  2       prior    3            1         10               \n",
       "84   738281  2       prior    4            2         10               \n",
       "85   738281  2       prior    4            2         10               \n",
       "86   738281  2       prior    4            2         10               \n",
       "87   738281  2       prior    4            2         10               \n",
       "88   738281  2       prior    4            2         10               \n",
       "89   738281  2       prior    4            2         10               \n",
       "90   738281  2       prior    4            2         10               \n",
       "91   738281  2       prior    4            2         10               \n",
       "92   738281  2       prior    4            2         10               \n",
       "93   738281  2       prior    4            2         10               \n",
       "94   738281  2       prior    4            2         10               \n",
       "95   738281  2       prior    4            2         10               \n",
       "96   738281  2       prior    4            2         10               \n",
       "97  1673511  2       prior    5            3         11               \n",
       "98  1673511  2       prior    5            3         11               \n",
       "99  1673511  2       prior    5            3         11               \n",
       "100 1673511  2       prior    5            3         11               \n",
       "    days_since_prior_order product_id add_to_cart_order reordered\n",
       "1   NA                       196      1                 0        \n",
       "2   NA                     14084      2                 0        \n",
       "3   NA                     12427      3                 0        \n",
       "4   NA                     26088      4                 0        \n",
       "5   NA                     26405      5                 0        \n",
       "6   15                       196      1                 1        \n",
       "7   15                     10258      2                 0        \n",
       "8   15                     12427      3                 1        \n",
       "9   15                     13176      4                 0        \n",
       "10  15                     26088      5                 1        \n",
       "11  15                     13032      6                 0        \n",
       "12  21                       196      1                 1        \n",
       "13  21                     12427      2                 1        \n",
       "14  21                     10258      3                 1        \n",
       "15  21                     25133      4                 0        \n",
       "16  21                     30450      5                 0        \n",
       "17  29                       196      1                 1        \n",
       "18  29                     12427      2                 1        \n",
       "19  29                     10258      3                 1        \n",
       "20  29                     25133      4                 1        \n",
       "21  29                     26405      5                 1        \n",
       "22  28                       196      1                 1        \n",
       "23  28                     12427      2                 1        \n",
       "24  28                     10258      3                 1        \n",
       "25  28                     25133      4                 1        \n",
       "26  28                     10326      5                 0        \n",
       "27  28                     17122      6                 0        \n",
       "28  28                     41787      7                 0        \n",
       "29  28                     13176      8                 1        \n",
       "30  19                       196      1                 1        \n",
       "⋮   ⋮                      ⋮          ⋮                 ⋮        \n",
       "71  NA                     13176      12                0        \n",
       "72  NA                     45066      13                0        \n",
       "73  10                     16797       1                0        \n",
       "74  10                     47526       2                0        \n",
       "75  10                      8479       3                0        \n",
       "76  10                     47766       4                1        \n",
       "77  10                     19051       5                0        \n",
       "78  10                      8138       6                0        \n",
       "79   3                     47766       1                1        \n",
       "80   3                     32792       2                1        \n",
       "81   3                     20574       3                1        \n",
       "82   3                      7781       4                0        \n",
       "83   3                     28874       5                0        \n",
       "84   8                     49451       1                0        \n",
       "85   8                     32792       2                1        \n",
       "86   8                     32139       3                0        \n",
       "87   8                     34688       4                0        \n",
       "88   8                     36735       5                0        \n",
       "89   8                     37646       6                0        \n",
       "90   8                     22829       7                0        \n",
       "91   8                     24852       8                0        \n",
       "92   8                     47209       9                0        \n",
       "93   8                     33276      10                0        \n",
       "94   8                     45613      11                0        \n",
       "95   8                      9681      12                0        \n",
       "96   8                     21150      13                0        \n",
       "97   8                     47144       1                0        \n",
       "98   8                      5322       2                0        \n",
       "99   8                     17224       3                0        \n",
       "100  8                     38656       4                0        "
      ]
     },
     "metadata": {},
     "output_type": "display_data"
    }
   ],
   "source": [
    "orders_products %>% head(100)"
   ]
  },
  {
   "cell_type": "code",
   "execution_count": 26,
   "metadata": {},
   "outputs": [
    {
     "data": {
      "text/html": [
       "<table>\n",
       "<thead><tr><th scope=col>user_id</th><th scope=col>product_id</th><th scope=col>up_orders</th><th scope=col>up_first_order</th><th scope=col>up_last_order</th><th scope=col>up_average_cart_position</th></tr></thead>\n",
       "<tbody>\n",
       "\t<tr><td>1       </td><td>  196   </td><td>10      </td><td>1       </td><td>10      </td><td>1.400000</td></tr>\n",
       "\t<tr><td>1       </td><td>10258   </td><td> 9      </td><td>2       </td><td>10      </td><td>3.333333</td></tr>\n",
       "\t<tr><td>1       </td><td>10326   </td><td> 1      </td><td>5       </td><td> 5      </td><td>5.000000</td></tr>\n",
       "\t<tr><td>1       </td><td>12427   </td><td>10      </td><td>1       </td><td>10      </td><td>3.300000</td></tr>\n",
       "\t<tr><td>1       </td><td>13032   </td><td> 3      </td><td>2       </td><td>10      </td><td>6.333333</td></tr>\n",
       "\t<tr><td>1       </td><td>13176   </td><td> 2      </td><td>2       </td><td> 5      </td><td>6.000000</td></tr>\n",
       "</tbody>\n",
       "</table>\n"
      ],
      "text/latex": [
       "\\begin{tabular}{r|llllll}\n",
       " user\\_id & product\\_id & up\\_orders & up\\_first\\_order & up\\_last\\_order & up\\_average\\_cart\\_position\\\\\n",
       "\\hline\n",
       "\t 1        &   196    & 10       & 1        & 10       & 1.400000\\\\\n",
       "\t 1        & 10258    &  9       & 2        & 10       & 3.333333\\\\\n",
       "\t 1        & 10326    &  1       & 5        &  5       & 5.000000\\\\\n",
       "\t 1        & 12427    & 10       & 1        & 10       & 3.300000\\\\\n",
       "\t 1        & 13032    &  3       & 2        & 10       & 6.333333\\\\\n",
       "\t 1        & 13176    &  2       & 2        &  5       & 6.000000\\\\\n",
       "\\end{tabular}\n"
      ],
      "text/markdown": [
       "\n",
       "user_id | product_id | up_orders | up_first_order | up_last_order | up_average_cart_position | \n",
       "|---|---|---|---|---|---|\n",
       "| 1        |   196    | 10       | 1        | 10       | 1.400000 | \n",
       "| 1        | 10258    |  9       | 2        | 10       | 3.333333 | \n",
       "| 1        | 10326    |  1       | 5        |  5       | 5.000000 | \n",
       "| 1        | 12427    | 10       | 1        | 10       | 3.300000 | \n",
       "| 1        | 13032    |  3       | 2        | 10       | 6.333333 | \n",
       "| 1        | 13176    |  2       | 2        |  5       | 6.000000 | \n",
       "\n",
       "\n"
      ],
      "text/plain": [
       "  user_id product_id up_orders up_first_order up_last_order\n",
       "1 1         196      10        1              10           \n",
       "2 1       10258       9        2              10           \n",
       "3 1       10326       1        5               5           \n",
       "4 1       12427      10        1              10           \n",
       "5 1       13032       3        2              10           \n",
       "6 1       13176       2        2               5           \n",
       "  up_average_cart_position\n",
       "1 1.400000                \n",
       "2 3.333333                \n",
       "3 5.000000                \n",
       "4 3.300000                \n",
       "5 6.333333                \n",
       "6 6.000000                "
      ]
     },
     "metadata": {},
     "output_type": "display_data"
    }
   ],
   "source": [
    "### extra feautures\n",
    "# 상품특성에서 추가로 더 넣어줄 것임\n",
    "# 상품 구매건수, 해당 아이템 첫구매 구매순서, 해당 아이템 마지막 구매순서, 카트 평균 순위 \n",
    "## group_by 구매자별, 상품별 정보를 넣을 것임\n",
    "# up_orders = 사람의 상품별 구매건수, \n",
    "# 해당 아이템의 첫 구매 순서\n",
    "# 사람이 상품을 총 구매한 순서 중에서 특정 아이템\n",
    "# 최근에 구매한 것이 재구매할 확률이 높다고 판단\n",
    "# up_average_cart_position : user_id가 product_id를 몇 번째에 담았느냐!\n",
    "\n",
    "data = orders_products %>%\n",
    "    group_by(user_id, product_id) %>%\n",
    "    summarise(up_orders = n(),\n",
    "              up_first_order = min(order_number),\n",
    "              up_last_order = max(order_number),\n",
    "              up_average_cart_position = mean(add_to_cart_order))\n",
    "\n",
    "data %>% head()"
   ]
  },
  {
   "cell_type": "code",
   "execution_count": 27,
   "metadata": {},
   "outputs": [],
   "source": [
    "## 필요 없는 테이블 제거\n",
    "rm(orders_products, orders)"
   ]
  },
  {
   "cell_type": "markdown",
   "metadata": {},
   "source": [
    "## 8. Merge Table\n",
    "- obj\n",
    "    - 상품 특성 테이블과 유저특성 테이블 합치기\n",
    "    - prd\n",
    "        - 상품 특성 테이블\n",
    "    - users\n",
    "        - 유저 특성 테이블\n",
    "<br><br>    \n",
    "- join table & column\n",
    "    - prd\n",
    "        - product_id \n",
    "    - users\n",
    "        - user_id        "
   ]
  },
  {
   "cell_type": "code",
   "execution_count": 28,
   "metadata": {},
   "outputs": [],
   "source": [
    "## 상품특성 테이블과 유저특성 테이블 합치기\n",
    "# prd = 상품특성, users = 유저특성\n",
    "## 회원별로 구매했던 상품들을 쭉 만든 다음에\n",
    "## 우리가 만들었던 상품정보 테이블과 구매정보 테이블을 붙이는 것\n",
    "\n",
    "data = data %>%\n",
    "    inner_join(prd, by=\"product_id\") %>%\n",
    "    inner_join(users, by=\"user_id\")"
   ]
  },
  {
   "cell_type": "code",
   "execution_count": 29,
   "metadata": {},
   "outputs": [
    {
     "name": "stdout",
     "output_type": "stream",
     "text": [
      "Classes ‘grouped_df’, ‘tbl_df’, ‘tbl’ and 'data.frame':\t13307953 obs. of  20 variables:\n",
      " $ user_id                   : int  1 1 1 1 1 1 1 1 1 1 ...\n",
      " $ product_id                : int  196 10258 10326 12427 13032 13176 14084 17122 25133 26088 ...\n",
      " $ up_orders                 : int  10 9 1 10 3 2 1 1 8 2 ...\n",
      " $ up_first_order            : num  1 2 5 1 2 2 1 5 3 1 ...\n",
      " $ up_last_order             : num  10 10 5 10 10 5 1 5 10 2 ...\n",
      " $ up_average_cart_position  : num  1.4 3.33 5 3.3 6.33 ...\n",
      " $ prod_orders               : int  35791 1946 5526 6476 3751 379450 15935 13880 6196 2523 ...\n",
      " $ prod_reorder_probability  : num  0.583 0.553 0.522 0.529 0.48 ...\n",
      " $ prod_reorder_times        : num  4.47 3.49 2.87 3.86 2.92 ...\n",
      " $ prod_reorder_ratio        : num  0.776 0.714 0.652 0.741 0.657 ...\n",
      " $ user_orders               : num  10 10 10 10 10 10 10 10 10 10 ...\n",
      " $ user_period               : num  176 176 176 176 176 176 176 176 176 176 ...\n",
      " $ user_mean_days_since_prior: num  19.6 19.6 19.6 19.6 19.6 ...\n",
      " $ user_total_product        : int  59 59 59 59 59 59 59 59 59 59 ...\n",
      " $ user_reorder_ratio        : num  0.759 0.759 0.759 0.759 0.759 ...\n",
      " $ user_distinct_products    : int  18 18 18 18 18 18 18 18 18 18 ...\n",
      " $ user_average_basket       : num  5.9 5.9 5.9 5.9 5.9 5.9 5.9 5.9 5.9 5.9 ...\n",
      " $ order_id                  : int  1187899 1187899 1187899 1187899 1187899 1187899 1187899 1187899 1187899 1187899 ...\n",
      " $ eval_set                  : Factor w/ 3 levels \"prior\",\"test\",..: 3 3 3 3 3 3 3 3 3 3 ...\n",
      " $ time_since_last_order     : num  14 14 14 14 14 14 14 14 14 14 ...\n",
      " - attr(*, \"vars\")= chr \"user_id\"\n"
     ]
    },
    {
     "data": {
      "text/html": [
       "<table>\n",
       "<thead><tr><th scope=col>user_id</th><th scope=col>product_id</th><th scope=col>up_orders</th><th scope=col>up_first_order</th><th scope=col>up_last_order</th><th scope=col>up_average_cart_position</th><th scope=col>prod_orders</th><th scope=col>prod_reorder_probability</th><th scope=col>prod_reorder_times</th><th scope=col>prod_reorder_ratio</th><th scope=col>user_orders</th><th scope=col>user_period</th><th scope=col>user_mean_days_since_prior</th><th scope=col>user_total_product</th><th scope=col>user_reorder_ratio</th><th scope=col>user_distinct_products</th><th scope=col>user_average_basket</th><th scope=col>order_id</th><th scope=col>eval_set</th><th scope=col>time_since_last_order</th></tr></thead>\n",
       "<tbody>\n",
       "\t<tr><td>1        </td><td>  196    </td><td>10       </td><td>1        </td><td>10       </td><td>1.400000 </td><td> 35791   </td><td>0.5825000</td><td>4.473875 </td><td>0.7764801</td><td>10       </td><td>176      </td><td>19.55556 </td><td>59       </td><td>0.7592593</td><td>18       </td><td>5.9      </td><td>1187899  </td><td>train    </td><td>14       </td></tr>\n",
       "\t<tr><td>1        </td><td>10258    </td><td> 9       </td><td>2        </td><td>10       </td><td>3.333333 </td><td>  1946   </td><td>0.5529623</td><td>3.493716 </td><td>0.7137718</td><td>10       </td><td>176      </td><td>19.55556 </td><td>59       </td><td>0.7592593</td><td>18       </td><td>5.9      </td><td>1187899  </td><td>train    </td><td>14       </td></tr>\n",
       "\t<tr><td>1        </td><td>10326    </td><td> 1       </td><td>5        </td><td> 5       </td><td>5.000000 </td><td>  5526   </td><td>0.5215809</td><td>2.873635 </td><td>0.6520087</td><td>10       </td><td>176      </td><td>19.55556 </td><td>59       </td><td>0.7592593</td><td>18       </td><td>5.9      </td><td>1187899  </td><td>train    </td><td>14       </td></tr>\n",
       "\t<tr><td>1        </td><td>12427    </td><td>10       </td><td>1        </td><td>10       </td><td>3.300000 </td><td>  6476   </td><td>0.5294818</td><td>3.857058 </td><td>0.7407350</td><td>10       </td><td>176      </td><td>19.55556 </td><td>59       </td><td>0.7592593</td><td>18       </td><td>5.9      </td><td>1187899  </td><td>train    </td><td>14       </td></tr>\n",
       "\t<tr><td>1        </td><td>13032    </td><td> 3       </td><td>2        </td><td>10       </td><td>6.333333 </td><td>  3751   </td><td>0.4797823</td><td>2.916796 </td><td>0.6571581</td><td>10       </td><td>176      </td><td>19.55556 </td><td>59       </td><td>0.7592593</td><td>18       </td><td>5.9      </td><td>1187899  </td><td>train    </td><td>14       </td></tr>\n",
       "\t<tr><td>1        </td><td>13176    </td><td> 2       </td><td>2        </td><td> 5       </td><td>6.000000 </td><td>379450   </td><td>0.7118844</td><td>5.972111 </td><td>0.8325550</td><td>10       </td><td>176      </td><td>19.55556 </td><td>59       </td><td>0.7592593</td><td>18       </td><td>5.9      </td><td>1187899  </td><td>train    </td><td>14       </td></tr>\n",
       "</tbody>\n",
       "</table>\n"
      ],
      "text/latex": [
       "\\begin{tabular}{r|llllllllllllllllllll}\n",
       " user\\_id & product\\_id & up\\_orders & up\\_first\\_order & up\\_last\\_order & up\\_average\\_cart\\_position & prod\\_orders & prod\\_reorder\\_probability & prod\\_reorder\\_times & prod\\_reorder\\_ratio & user\\_orders & user\\_period & user\\_mean\\_days\\_since\\_prior & user\\_total\\_product & user\\_reorder\\_ratio & user\\_distinct\\_products & user\\_average\\_basket & order\\_id & eval\\_set & time\\_since\\_last\\_order\\\\\n",
       "\\hline\n",
       "\t 1         &   196     & 10        & 1         & 10        & 1.400000  &  35791    & 0.5825000 & 4.473875  & 0.7764801 & 10        & 176       & 19.55556  & 59        & 0.7592593 & 18        & 5.9       & 1187899   & train     & 14       \\\\\n",
       "\t 1         & 10258     &  9        & 2         & 10        & 3.333333  &   1946    & 0.5529623 & 3.493716  & 0.7137718 & 10        & 176       & 19.55556  & 59        & 0.7592593 & 18        & 5.9       & 1187899   & train     & 14       \\\\\n",
       "\t 1         & 10326     &  1        & 5         &  5        & 5.000000  &   5526    & 0.5215809 & 2.873635  & 0.6520087 & 10        & 176       & 19.55556  & 59        & 0.7592593 & 18        & 5.9       & 1187899   & train     & 14       \\\\\n",
       "\t 1         & 12427     & 10        & 1         & 10        & 3.300000  &   6476    & 0.5294818 & 3.857058  & 0.7407350 & 10        & 176       & 19.55556  & 59        & 0.7592593 & 18        & 5.9       & 1187899   & train     & 14       \\\\\n",
       "\t 1         & 13032     &  3        & 2         & 10        & 6.333333  &   3751    & 0.4797823 & 2.916796  & 0.6571581 & 10        & 176       & 19.55556  & 59        & 0.7592593 & 18        & 5.9       & 1187899   & train     & 14       \\\\\n",
       "\t 1         & 13176     &  2        & 2         &  5        & 6.000000  & 379450    & 0.7118844 & 5.972111  & 0.8325550 & 10        & 176       & 19.55556  & 59        & 0.7592593 & 18        & 5.9       & 1187899   & train     & 14       \\\\\n",
       "\\end{tabular}\n"
      ],
      "text/markdown": [
       "\n",
       "user_id | product_id | up_orders | up_first_order | up_last_order | up_average_cart_position | prod_orders | prod_reorder_probability | prod_reorder_times | prod_reorder_ratio | user_orders | user_period | user_mean_days_since_prior | user_total_product | user_reorder_ratio | user_distinct_products | user_average_basket | order_id | eval_set | time_since_last_order | \n",
       "|---|---|---|---|---|---|\n",
       "| 1         |   196     | 10        | 1         | 10        | 1.400000  |  35791    | 0.5825000 | 4.473875  | 0.7764801 | 10        | 176       | 19.55556  | 59        | 0.7592593 | 18        | 5.9       | 1187899   | train     | 14        | \n",
       "| 1         | 10258     |  9        | 2         | 10        | 3.333333  |   1946    | 0.5529623 | 3.493716  | 0.7137718 | 10        | 176       | 19.55556  | 59        | 0.7592593 | 18        | 5.9       | 1187899   | train     | 14        | \n",
       "| 1         | 10326     |  1        | 5         |  5        | 5.000000  |   5526    | 0.5215809 | 2.873635  | 0.6520087 | 10        | 176       | 19.55556  | 59        | 0.7592593 | 18        | 5.9       | 1187899   | train     | 14        | \n",
       "| 1         | 12427     | 10        | 1         | 10        | 3.300000  |   6476    | 0.5294818 | 3.857058  | 0.7407350 | 10        | 176       | 19.55556  | 59        | 0.7592593 | 18        | 5.9       | 1187899   | train     | 14        | \n",
       "| 1         | 13032     |  3        | 2         | 10        | 6.333333  |   3751    | 0.4797823 | 2.916796  | 0.6571581 | 10        | 176       | 19.55556  | 59        | 0.7592593 | 18        | 5.9       | 1187899   | train     | 14        | \n",
       "| 1         | 13176     |  2        | 2         |  5        | 6.000000  | 379450    | 0.7118844 | 5.972111  | 0.8325550 | 10        | 176       | 19.55556  | 59        | 0.7592593 | 18        | 5.9       | 1187899   | train     | 14        | \n",
       "\n",
       "\n"
      ],
      "text/plain": [
       "  user_id product_id up_orders up_first_order up_last_order\n",
       "1 1         196      10        1              10           \n",
       "2 1       10258       9        2              10           \n",
       "3 1       10326       1        5               5           \n",
       "4 1       12427      10        1              10           \n",
       "5 1       13032       3        2              10           \n",
       "6 1       13176       2        2               5           \n",
       "  up_average_cart_position prod_orders prod_reorder_probability\n",
       "1 1.400000                  35791      0.5825000               \n",
       "2 3.333333                   1946      0.5529623               \n",
       "3 5.000000                   5526      0.5215809               \n",
       "4 3.300000                   6476      0.5294818               \n",
       "5 6.333333                   3751      0.4797823               \n",
       "6 6.000000                 379450      0.7118844               \n",
       "  prod_reorder_times prod_reorder_ratio user_orders user_period\n",
       "1 4.473875           0.7764801          10          176        \n",
       "2 3.493716           0.7137718          10          176        \n",
       "3 2.873635           0.6520087          10          176        \n",
       "4 3.857058           0.7407350          10          176        \n",
       "5 2.916796           0.6571581          10          176        \n",
       "6 5.972111           0.8325550          10          176        \n",
       "  user_mean_days_since_prior user_total_product user_reorder_ratio\n",
       "1 19.55556                   59                 0.7592593         \n",
       "2 19.55556                   59                 0.7592593         \n",
       "3 19.55556                   59                 0.7592593         \n",
       "4 19.55556                   59                 0.7592593         \n",
       "5 19.55556                   59                 0.7592593         \n",
       "6 19.55556                   59                 0.7592593         \n",
       "  user_distinct_products user_average_basket order_id eval_set\n",
       "1 18                     5.9                 1187899  train   \n",
       "2 18                     5.9                 1187899  train   \n",
       "3 18                     5.9                 1187899  train   \n",
       "4 18                     5.9                 1187899  train   \n",
       "5 18                     5.9                 1187899  train   \n",
       "6 18                     5.9                 1187899  train   \n",
       "  time_since_last_order\n",
       "1 14                   \n",
       "2 14                   \n",
       "3 14                   \n",
       "4 14                   \n",
       "5 14                   \n",
       "6 14                   "
      ]
     },
     "metadata": {},
     "output_type": "display_data"
    }
   ],
   "source": [
    "str(data)\n",
    "head(data)"
   ]
  },
  {
   "cell_type": "markdown",
   "metadata": {},
   "source": [
    "## 9. exrta feture\n",
    "- 변수 추가\n",
    "    - feature\n",
    "        - 해당 상품 거래비중(전체대비), 거래경과일, 추가변수\n",
    "        <br><br>\n",
    "    - description\n",
    "        - 전체 거래 건수 중에 아이템의 비중이 얼마나 되는지\n",
    "        - 추가변수라고 임의로 만듬 ?\n",
    "        - user_orders\n",
    "            - 전체거래건수\n",
    "        - up_orders\n",
    "            - 그 사람의 거래건수"
   ]
  },
  {
   "cell_type": "code",
   "execution_count": 30,
   "metadata": {},
   "outputs": [],
   "source": [
    "# 변수 추가\n",
    "## 해당 상품 거래비중(전체대비), 거래경과일, 추가변수\n",
    "# 전체 거래 건수 중에 아이템의 비중이 얼마나 되는지\n",
    "# 추가변수라고 임의로 만듬\n",
    "# user_orders : 그 사람의 전체 거래건수\n",
    "# up_orders : 그 사람의 그 상품의 전체 거래건수\n",
    "\n",
    "## 전체 거래 건 중에 그 상품이 차지하는 거래 비중이 어떠할지\n",
    "data$up_order_rate = data$up_orders / data$user_orders\n",
    "\n",
    "## 그 사람의 특정 상품 마지막 거래가 그 사람의 전체 거래에서 몇 번째 인가?\n",
    "## 전체 거래 건 중에 뺀 거니까 , 해당 상품을 구매하고 다른 상품을 몇 건 더 거래 했는지\n",
    "data$up_orders_since_last_order = data$user_orders - data$up_last_order\n",
    "\n",
    "## 비율, 분자는 상품의 전체 거래 건수, 분모는 그 사람의 특정 상품 첫 번째 거래가 전체 거래에서 몇 번째 인지의 비율을 보는 것\n",
    "data$up_orders_since_first_order = data$up_orders / (data$user_orders - data$up_first_order + 1)"
   ]
  },
  {
   "cell_type": "code",
   "execution_count": 31,
   "metadata": {
    "scrolled": false
   },
   "outputs": [
    {
     "name": "stdout",
     "output_type": "stream",
     "text": [
      "Classes ‘grouped_df’, ‘tbl_df’, ‘tbl’ and 'data.frame':\t13307953 obs. of  23 variables:\n",
      " $ user_id                    : int  1 1 1 1 1 1 1 1 1 1 ...\n",
      " $ product_id                 : int  196 10258 10326 12427 13032 13176 14084 17122 25133 26088 ...\n",
      " $ up_orders                  : int  10 9 1 10 3 2 1 1 8 2 ...\n",
      " $ up_first_order             : num  1 2 5 1 2 2 1 5 3 1 ...\n",
      " $ up_last_order              : num  10 10 5 10 10 5 1 5 10 2 ...\n",
      " $ up_average_cart_position   : num  1.4 3.33 5 3.3 6.33 ...\n",
      " $ prod_orders                : int  35791 1946 5526 6476 3751 379450 15935 13880 6196 2523 ...\n",
      " $ prod_reorder_probability   : num  0.583 0.553 0.522 0.529 0.48 ...\n",
      " $ prod_reorder_times         : num  4.47 3.49 2.87 3.86 2.92 ...\n",
      " $ prod_reorder_ratio         : num  0.776 0.714 0.652 0.741 0.657 ...\n",
      " $ user_orders                : num  10 10 10 10 10 10 10 10 10 10 ...\n",
      " $ user_period                : num  176 176 176 176 176 176 176 176 176 176 ...\n",
      " $ user_mean_days_since_prior : num  19.6 19.6 19.6 19.6 19.6 ...\n",
      " $ user_total_product         : int  59 59 59 59 59 59 59 59 59 59 ...\n",
      " $ user_reorder_ratio         : num  0.759 0.759 0.759 0.759 0.759 ...\n",
      " $ user_distinct_products     : int  18 18 18 18 18 18 18 18 18 18 ...\n",
      " $ user_average_basket        : num  5.9 5.9 5.9 5.9 5.9 5.9 5.9 5.9 5.9 5.9 ...\n",
      " $ order_id                   : int  1187899 1187899 1187899 1187899 1187899 1187899 1187899 1187899 1187899 1187899 ...\n",
      " $ eval_set                   : Factor w/ 3 levels \"prior\",\"test\",..: 3 3 3 3 3 3 3 3 3 3 ...\n",
      " $ time_since_last_order      : num  14 14 14 14 14 14 14 14 14 14 ...\n",
      " $ up_order_rate              : num  1 0.9 0.1 1 0.3 0.2 0.1 0.1 0.8 0.2 ...\n",
      " $ up_orders_since_last_order : num  0 0 5 0 0 5 9 5 0 8 ...\n",
      " $ up_orders_since_first_order: num  1 1 0.167 1 0.333 ...\n",
      " - attr(*, \"vars\")= chr \"user_id\"\n"
     ]
    },
    {
     "data": {
      "text/html": [
       "<table>\n",
       "<thead><tr><th scope=col>user_id</th><th scope=col>product_id</th><th scope=col>up_orders</th><th scope=col>up_first_order</th><th scope=col>up_last_order</th><th scope=col>up_average_cart_position</th><th scope=col>prod_orders</th><th scope=col>prod_reorder_probability</th><th scope=col>prod_reorder_times</th><th scope=col>prod_reorder_ratio</th><th scope=col>⋯</th><th scope=col>user_total_product</th><th scope=col>user_reorder_ratio</th><th scope=col>user_distinct_products</th><th scope=col>user_average_basket</th><th scope=col>order_id</th><th scope=col>eval_set</th><th scope=col>time_since_last_order</th><th scope=col>up_order_rate</th><th scope=col>up_orders_since_last_order</th><th scope=col>up_orders_since_first_order</th></tr></thead>\n",
       "<tbody>\n",
       "\t<tr><td>1        </td><td>  196    </td><td>10       </td><td>1        </td><td>10       </td><td>1.400000 </td><td> 35791   </td><td>0.5825000</td><td>4.473875 </td><td>0.7764801</td><td>⋯        </td><td>59       </td><td>0.7592593</td><td>18       </td><td>5.9      </td><td>1187899  </td><td>train    </td><td>14       </td><td>1.0      </td><td>0        </td><td>1.0000000</td></tr>\n",
       "\t<tr><td>1        </td><td>10258    </td><td> 9       </td><td>2        </td><td>10       </td><td>3.333333 </td><td>  1946   </td><td>0.5529623</td><td>3.493716 </td><td>0.7137718</td><td>⋯        </td><td>59       </td><td>0.7592593</td><td>18       </td><td>5.9      </td><td>1187899  </td><td>train    </td><td>14       </td><td>0.9      </td><td>0        </td><td>1.0000000</td></tr>\n",
       "\t<tr><td>1        </td><td>10326    </td><td> 1       </td><td>5        </td><td> 5       </td><td>5.000000 </td><td>  5526   </td><td>0.5215809</td><td>2.873635 </td><td>0.6520087</td><td>⋯        </td><td>59       </td><td>0.7592593</td><td>18       </td><td>5.9      </td><td>1187899  </td><td>train    </td><td>14       </td><td>0.1      </td><td>5        </td><td>0.1666667</td></tr>\n",
       "\t<tr><td>1        </td><td>12427    </td><td>10       </td><td>1        </td><td>10       </td><td>3.300000 </td><td>  6476   </td><td>0.5294818</td><td>3.857058 </td><td>0.7407350</td><td>⋯        </td><td>59       </td><td>0.7592593</td><td>18       </td><td>5.9      </td><td>1187899  </td><td>train    </td><td>14       </td><td>1.0      </td><td>0        </td><td>1.0000000</td></tr>\n",
       "\t<tr><td>1        </td><td>13032    </td><td> 3       </td><td>2        </td><td>10       </td><td>6.333333 </td><td>  3751   </td><td>0.4797823</td><td>2.916796 </td><td>0.6571581</td><td>⋯        </td><td>59       </td><td>0.7592593</td><td>18       </td><td>5.9      </td><td>1187899  </td><td>train    </td><td>14       </td><td>0.3      </td><td>0        </td><td>0.3333333</td></tr>\n",
       "\t<tr><td>1        </td><td>13176    </td><td> 2       </td><td>2        </td><td> 5       </td><td>6.000000 </td><td>379450   </td><td>0.7118844</td><td>5.972111 </td><td>0.8325550</td><td>⋯        </td><td>59       </td><td>0.7592593</td><td>18       </td><td>5.9      </td><td>1187899  </td><td>train    </td><td>14       </td><td>0.2      </td><td>5        </td><td>0.2222222</td></tr>\n",
       "</tbody>\n",
       "</table>\n"
      ],
      "text/latex": [
       "\\begin{tabular}{r|lllllllllllllllllllllll}\n",
       " user\\_id & product\\_id & up\\_orders & up\\_first\\_order & up\\_last\\_order & up\\_average\\_cart\\_position & prod\\_orders & prod\\_reorder\\_probability & prod\\_reorder\\_times & prod\\_reorder\\_ratio & ⋯ & user\\_total\\_product & user\\_reorder\\_ratio & user\\_distinct\\_products & user\\_average\\_basket & order\\_id & eval\\_set & time\\_since\\_last\\_order & up\\_order\\_rate & up\\_orders\\_since\\_last\\_order & up\\_orders\\_since\\_first\\_order\\\\\n",
       "\\hline\n",
       "\t 1         &   196     & 10        & 1         & 10        & 1.400000  &  35791    & 0.5825000 & 4.473875  & 0.7764801 & ⋯         & 59        & 0.7592593 & 18        & 5.9       & 1187899   & train     & 14        & 1.0       & 0         & 1.0000000\\\\\n",
       "\t 1         & 10258     &  9        & 2         & 10        & 3.333333  &   1946    & 0.5529623 & 3.493716  & 0.7137718 & ⋯         & 59        & 0.7592593 & 18        & 5.9       & 1187899   & train     & 14        & 0.9       & 0         & 1.0000000\\\\\n",
       "\t 1         & 10326     &  1        & 5         &  5        & 5.000000  &   5526    & 0.5215809 & 2.873635  & 0.6520087 & ⋯         & 59        & 0.7592593 & 18        & 5.9       & 1187899   & train     & 14        & 0.1       & 5         & 0.1666667\\\\\n",
       "\t 1         & 12427     & 10        & 1         & 10        & 3.300000  &   6476    & 0.5294818 & 3.857058  & 0.7407350 & ⋯         & 59        & 0.7592593 & 18        & 5.9       & 1187899   & train     & 14        & 1.0       & 0         & 1.0000000\\\\\n",
       "\t 1         & 13032     &  3        & 2         & 10        & 6.333333  &   3751    & 0.4797823 & 2.916796  & 0.6571581 & ⋯         & 59        & 0.7592593 & 18        & 5.9       & 1187899   & train     & 14        & 0.3       & 0         & 0.3333333\\\\\n",
       "\t 1         & 13176     &  2        & 2         &  5        & 6.000000  & 379450    & 0.7118844 & 5.972111  & 0.8325550 & ⋯         & 59        & 0.7592593 & 18        & 5.9       & 1187899   & train     & 14        & 0.2       & 5         & 0.2222222\\\\\n",
       "\\end{tabular}\n"
      ],
      "text/markdown": [
       "\n",
       "user_id | product_id | up_orders | up_first_order | up_last_order | up_average_cart_position | prod_orders | prod_reorder_probability | prod_reorder_times | prod_reorder_ratio | ⋯ | user_total_product | user_reorder_ratio | user_distinct_products | user_average_basket | order_id | eval_set | time_since_last_order | up_order_rate | up_orders_since_last_order | up_orders_since_first_order | \n",
       "|---|---|---|---|---|---|\n",
       "| 1         |   196     | 10        | 1         | 10        | 1.400000  |  35791    | 0.5825000 | 4.473875  | 0.7764801 | ⋯         | 59        | 0.7592593 | 18        | 5.9       | 1187899   | train     | 14        | 1.0       | 0         | 1.0000000 | \n",
       "| 1         | 10258     |  9        | 2         | 10        | 3.333333  |   1946    | 0.5529623 | 3.493716  | 0.7137718 | ⋯         | 59        | 0.7592593 | 18        | 5.9       | 1187899   | train     | 14        | 0.9       | 0         | 1.0000000 | \n",
       "| 1         | 10326     |  1        | 5         |  5        | 5.000000  |   5526    | 0.5215809 | 2.873635  | 0.6520087 | ⋯         | 59        | 0.7592593 | 18        | 5.9       | 1187899   | train     | 14        | 0.1       | 5         | 0.1666667 | \n",
       "| 1         | 12427     | 10        | 1         | 10        | 3.300000  |   6476    | 0.5294818 | 3.857058  | 0.7407350 | ⋯         | 59        | 0.7592593 | 18        | 5.9       | 1187899   | train     | 14        | 1.0       | 0         | 1.0000000 | \n",
       "| 1         | 13032     |  3        | 2         | 10        | 6.333333  |   3751    | 0.4797823 | 2.916796  | 0.6571581 | ⋯         | 59        | 0.7592593 | 18        | 5.9       | 1187899   | train     | 14        | 0.3       | 0         | 0.3333333 | \n",
       "| 1         | 13176     |  2        | 2         |  5        | 6.000000  | 379450    | 0.7118844 | 5.972111  | 0.8325550 | ⋯         | 59        | 0.7592593 | 18        | 5.9       | 1187899   | train     | 14        | 0.2       | 5         | 0.2222222 | \n",
       "\n",
       "\n"
      ],
      "text/plain": [
       "  user_id product_id up_orders up_first_order up_last_order\n",
       "1 1         196      10        1              10           \n",
       "2 1       10258       9        2              10           \n",
       "3 1       10326       1        5               5           \n",
       "4 1       12427      10        1              10           \n",
       "5 1       13032       3        2              10           \n",
       "6 1       13176       2        2               5           \n",
       "  up_average_cart_position prod_orders prod_reorder_probability\n",
       "1 1.400000                  35791      0.5825000               \n",
       "2 3.333333                   1946      0.5529623               \n",
       "3 5.000000                   5526      0.5215809               \n",
       "4 3.300000                   6476      0.5294818               \n",
       "5 6.333333                   3751      0.4797823               \n",
       "6 6.000000                 379450      0.7118844               \n",
       "  prod_reorder_times prod_reorder_ratio ⋯ user_total_product user_reorder_ratio\n",
       "1 4.473875           0.7764801          ⋯ 59                 0.7592593         \n",
       "2 3.493716           0.7137718          ⋯ 59                 0.7592593         \n",
       "3 2.873635           0.6520087          ⋯ 59                 0.7592593         \n",
       "4 3.857058           0.7407350          ⋯ 59                 0.7592593         \n",
       "5 2.916796           0.6571581          ⋯ 59                 0.7592593         \n",
       "6 5.972111           0.8325550          ⋯ 59                 0.7592593         \n",
       "  user_distinct_products user_average_basket order_id eval_set\n",
       "1 18                     5.9                 1187899  train   \n",
       "2 18                     5.9                 1187899  train   \n",
       "3 18                     5.9                 1187899  train   \n",
       "4 18                     5.9                 1187899  train   \n",
       "5 18                     5.9                 1187899  train   \n",
       "6 18                     5.9                 1187899  train   \n",
       "  time_since_last_order up_order_rate up_orders_since_last_order\n",
       "1 14                    1.0           0                         \n",
       "2 14                    0.9           0                         \n",
       "3 14                    0.1           5                         \n",
       "4 14                    1.0           0                         \n",
       "5 14                    0.3           0                         \n",
       "6 14                    0.2           5                         \n",
       "  up_orders_since_first_order\n",
       "1 1.0000000                  \n",
       "2 1.0000000                  \n",
       "3 0.1666667                  \n",
       "4 1.0000000                  \n",
       "5 0.3333333                  \n",
       "6 0.2222222                  "
      ]
     },
     "metadata": {},
     "output_type": "display_data"
    }
   ],
   "source": [
    "str(data)\n",
    "data %>% head()"
   ]
  },
  {
   "cell_type": "markdown",
   "metadata": {},
   "source": [
    "## 예측할 변수 재구매 여부"
   ]
  },
  {
   "cell_type": "code",
   "execution_count": 32,
   "metadata": {},
   "outputs": [
    {
     "data": {
      "text/html": [
       "<table>\n",
       "<thead><tr><th></th><th scope=col>used</th><th scope=col>(Mb)</th><th scope=col>gc trigger</th><th scope=col>(Mb)</th><th scope=col>limit (Mb)</th><th scope=col>max used</th><th scope=col>(Mb)</th></tr></thead>\n",
       "<tbody>\n",
       "\t<tr><th scope=row>Ncells</th><td>   757719</td><td>  40.5   </td><td> 15560659</td><td> 831.1   </td><td>   NA    </td><td> 30391914</td><td>1623.2   </td></tr>\n",
       "\t<tr><th scope=row>Vcells</th><td>271463006</td><td>2071.1   </td><td>589292569</td><td>4496.0   </td><td>16384    </td><td>726677397</td><td>5544.2   </td></tr>\n",
       "</tbody>\n",
       "</table>\n"
      ],
      "text/latex": [
       "\\begin{tabular}{r|lllllll}\n",
       "  & used & (Mb) & gc trigger & (Mb) & limit (Mb) & max used & (Mb)\\\\\n",
       "\\hline\n",
       "\tNcells &    757719 &   40.5    &  15560659 &  831.1    &    NA     &  30391914 & 1623.2   \\\\\n",
       "\tVcells & 271463006 & 2071.1    & 589292569 & 4496.0    & 16384     & 726677397 & 5544.2   \\\\\n",
       "\\end{tabular}\n"
      ],
      "text/markdown": [
       "\n",
       "| <!--/--> | used | (Mb) | gc trigger | (Mb) | limit (Mb) | max used | (Mb) | \n",
       "|---|---|\n",
       "| Ncells |    757719 |   40.5    |  15560659 |  831.1    |    NA     |  30391914 | 1623.2    | \n",
       "| Vcells | 271463006 | 2071.1    | 589292569 | 4496.0    | 16384     | 726677397 | 5544.2    | \n",
       "\n",
       "\n"
      ],
      "text/plain": [
       "       used      (Mb)   gc trigger (Mb)   limit (Mb) max used  (Mb)  \n",
       "Ncells    757719   40.5  15560659   831.1    NA       30391914 1623.2\n",
       "Vcells 271463006 2071.1 589292569  4496.0 16384      726677397 5544.2"
      ]
     },
     "metadata": {},
     "output_type": "display_data"
    }
   ],
   "source": [
    "data = data %>% \n",
    "  left_join(ordert %>% select(user_id, product_id, reordered), \n",
    "            by = c(\"user_id\", \"product_id\"))\n",
    "\n",
    "rm(ordert, prd, users)\n",
    "gc()"
   ]
  },
  {
   "cell_type": "code",
   "execution_count": null,
   "metadata": {},
   "outputs": [],
   "source": []
  },
  {
   "cell_type": "code",
   "execution_count": 33,
   "metadata": {},
   "outputs": [
    {
     "data": {
      "text/html": [
       "<table>\n",
       "<thead><tr><th></th><th scope=col>used</th><th scope=col>(Mb)</th><th scope=col>gc trigger</th><th scope=col>(Mb)</th><th scope=col>limit (Mb)</th><th scope=col>max used</th><th scope=col>(Mb)</th></tr></thead>\n",
       "<tbody>\n",
       "\t<tr><th scope=row>Ncells</th><td>   757981</td><td>  40.5   </td><td> 12448527</td><td> 664.9   </td><td>   NA    </td><td> 30391914</td><td>1623.2   </td></tr>\n",
       "\t<tr><th scope=row>Vcells</th><td>251499853</td><td>1918.8   </td><td>589292569</td><td>4496.0   </td><td>16384    </td><td>726677397</td><td>5544.2   </td></tr>\n",
       "</tbody>\n",
       "</table>\n"
      ],
      "text/latex": [
       "\\begin{tabular}{r|lllllll}\n",
       "  & used & (Mb) & gc trigger & (Mb) & limit (Mb) & max used & (Mb)\\\\\n",
       "\\hline\n",
       "\tNcells &    757981 &   40.5    &  12448527 &  664.9    &    NA     &  30391914 & 1623.2   \\\\\n",
       "\tVcells & 251499853 & 1918.8    & 589292569 & 4496.0    & 16384     & 726677397 & 5544.2   \\\\\n",
       "\\end{tabular}\n"
      ],
      "text/markdown": [
       "\n",
       "| <!--/--> | used | (Mb) | gc trigger | (Mb) | limit (Mb) | max used | (Mb) | \n",
       "|---|---|\n",
       "| Ncells |    757981 |   40.5    |  12448527 |  664.9    |    NA     |  30391914 | 1623.2    | \n",
       "| Vcells | 251499853 | 1918.8    | 589292569 | 4496.0    | 16384     | 726677397 | 5544.2    | \n",
       "\n",
       "\n"
      ],
      "text/plain": [
       "       used      (Mb)   gc trigger (Mb)   limit (Mb) max used  (Mb)  \n",
       "Ncells    757981   40.5  12448527   664.9    NA       30391914 1623.2\n",
       "Vcells 251499853 1918.8 589292569  4496.0 16384      726677397 5544.2"
      ]
     },
     "metadata": {},
     "output_type": "display_data"
    }
   ],
   "source": [
    "# Train / Test datasets ---------------------------------------------------\n",
    "## 아래에 재구매 영향 주요 지표를 봤을 때 빼고 싶은 변수가 있다면...\n",
    "## train = train %>% select(-var1, -var2, -var3)\n",
    "\n",
    "train = as.data.frame(data[data$eval_set == \"train\",])\n",
    "\n",
    "train$eval_set = NULL\n",
    "train$user_id = NULL\n",
    "train$product_id = NULL\n",
    "train$order_id = NULL\n",
    "train$reordered[is.na(train$reordered)] = 0\n",
    "\n",
    "# train$reordered가 NA이면 0 으로 대체하라\n",
    "# is.na(train$reordered)\n",
    "\n",
    "test = as.data.frame(data[data$eval_set == \"test\",])\n",
    "test$eval_set = NULL\n",
    "test$user_id = NULL\n",
    "test$reordered = NULL\n",
    "\n",
    "rm(data)\n",
    "gc()"
   ]
  },
  {
   "cell_type": "code",
   "execution_count": null,
   "metadata": {},
   "outputs": [],
   "source": []
  },
  {
   "cell_type": "markdown",
   "metadata": {},
   "source": [
    "## Grid Search\n",
    "- GBM을 돌릴 때, parameter으로 튜닝하면서 최적값을 찾아야하는데\n",
    "- 파라미터들의 범위를 정해준 다음에\n",
    "- 이제 걔들로 만들 수 있는 조합 가지고\n",
    "- 한개씩 CV를 돌려보는 것이다.\n",
    "- https://brunch.co.kr/@snobberys/137"
   ]
  },
  {
   "cell_type": "code",
   "execution_count": 39,
   "metadata": {},
   "outputs": [
    {
     "name": "stdout",
     "output_type": "stream",
     "text": [
      "\n",
      "The downloaded binary packages are in\n",
      "\t/var/folders/9h/vzls18sn1pvgfwfymvybqkvw0000gn/T//Rtmpj0V9h3/downloaded_packages\n"
     ]
    }
   ],
   "source": [
    "install.packages('xgboost')"
   ]
  },
  {
   "cell_type": "code",
   "execution_count": 41,
   "metadata": {},
   "outputs": [],
   "source": [
    "library(xgboost)"
   ]
  },
  {
   "cell_type": "code",
   "execution_count": 47,
   "metadata": {},
   "outputs": [],
   "source": [
    "# Grid Search ------------------------------------------------------------------\n",
    "subtrain = train %>% sample_frac(0.2) ### 너무 많으면 무거우니까 20%만 떼서 \n",
    "X = xgb.DMatrix(as.matrix(subtrain %>% select(-reordered)), label = subtrain$reordered) # 예측할 변수를 label로 넣고, 넣을 데이터는 라벨을 빼주고, 그렇게 해서 x라는 곳에 xgb.DMatrix를 만들 것이다.\n",
    "\n",
    "# 변수 범위를 정해줌, 보통은 이 값을 튜닝한다.\n",
    "searchGridSubCol <- expand.grid(subsample = c(1.0),\n",
    "                                colsample_bytree = c(1.0), # 모델을 만들 때, 모든 feature를 가지고 만드는 경우도 있고, 몇 %만 가지고 만드는 경우도 있지만, 1.0은 100% 가지고 만드는 것!\n",
    "                                max_depth = c(8, 10), # 얼마나 깊게 학습을 시킬 것이냐 값이 8, 10. 8로 한 번 10으로 한 번 해서 총 두 번 돌리는 것이다.\n",
    "                                min_child = seq(1),\n",
    "                                eta = c(0.2)\n",
    ")\n",
    "\n",
    "## 총 두번의 그리드 서치를 진행\n",
    "## grid search에서는 7~8~9~부터 시작\n",
    "## 그런 수치가 가늠이 안 되면 kaggle을 보면 좋다. 사람들이 대충 지정하는 범위가 있다.\n",
    "## 이 두개 중에서 어떤 게 성능이 좋은지 알아보려는 것\n",
    "## 1, 1, 8, 1, 0.2 / 1, 1, 10, 1, 0.2"
   ]
  },
  {
   "cell_type": "markdown",
   "metadata": {},
   "source": [
    "- 오차를 줄이는 게 우리의 목적인데\n",
    "- 오차를 뭘로 설명할 거싱냐 그게 바로 eval_metric = \"logloss\"\n",
    "- kaggle에는 보통 어떤 지표로 평가할 것인지 쓰여져 있다.\n",
    "- 그렇지 않은 경우에는 보통은 logloss나 auc로 본다.\n",
    "- roc curve\n",
    "    - auc는 roc에서 커브 아래에 있는 면적을 auc라고 한다.\n",
    "    - auc가 클수록 분류 성능이 좋은 함수라고 한다.\n",
    "    - logloss는 반대로 작아야 좋다.\n",
    "    - 보통은 auc를 판단할 때, 이런 식으로 평가한다고 하지만 good auc in google\n",
    "    - kaggle에서는 auc가 높을 수록 좋다지만\n",
    "    \n",
    "<img src = \"data:image/png;base64,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\">"
   ]
  },
  {
   "cell_type": "code",
   "execution_count": 43,
   "metadata": {},
   "outputs": [
    {
     "data": {
      "text/html": [
       "<table>\n",
       "<thead><tr><th scope=col>subsample</th><th scope=col>colsample_bytree</th><th scope=col>max_depth</th><th scope=col>min_child</th><th scope=col>eta</th></tr></thead>\n",
       "<tbody>\n",
       "\t<tr><td>1  </td><td>1  </td><td> 8 </td><td>1  </td><td>0.2</td></tr>\n",
       "\t<tr><td>1  </td><td>1  </td><td>10 </td><td>1  </td><td>0.2</td></tr>\n",
       "</tbody>\n",
       "</table>\n"
      ],
      "text/latex": [
       "\\begin{tabular}{r|lllll}\n",
       " subsample & colsample\\_bytree & max\\_depth & min\\_child & eta\\\\\n",
       "\\hline\n",
       "\t 1   & 1   &  8  & 1   & 0.2\\\\\n",
       "\t 1   & 1   & 10  & 1   & 0.2\\\\\n",
       "\\end{tabular}\n"
      ],
      "text/markdown": [
       "\n",
       "subsample | colsample_bytree | max_depth | min_child | eta | \n",
       "|---|---|\n",
       "| 1   | 1   |  8  | 1   | 0.2 | \n",
       "| 1   | 1   | 10  | 1   | 0.2 | \n",
       "\n",
       "\n"
      ],
      "text/plain": [
       "  subsample colsample_bytree max_depth min_child eta\n",
       "1 1         1                 8        1         0.2\n",
       "2 1         1                10        1         0.2"
      ]
     },
     "metadata": {},
     "output_type": "display_data"
    }
   ],
   "source": [
    "searchGridSubCol"
   ]
  },
  {
   "cell_type": "code",
   "execution_count": 44,
   "metadata": {},
   "outputs": [],
   "source": [
    "ntrees <- 5 ## 학습을 몇 번 돌릴 것이냐. 5번을 돌릴 것인가?"
   ]
  },
  {
   "cell_type": "markdown",
   "metadata": {},
   "source": [
    "searchGridSubCol는 dataframe이고\n",
    "1이면 행에다가 뒤에 있는 함수를 적용하라는 뜻\n",
    "```R\n",
    "loglossErrorsHyperparameters <- apply(searchGridSubCol, 1, function(parameterList){\n",
    "```\n",
    "xgb.cv에 있는 metrics을 변경해주면 된다."
   ]
  },
  {
   "cell_type": "code",
   "execution_count": 45,
   "metadata": {},
   "outputs": [
    {
     "name": "stdout",
     "output_type": "stream",
     "text": [
      "[1]\ttrain-logloss:0.564380+0.000003\ttest-logloss:0.564687+0.000047 \n",
      "Multiple eval metrics are present. Will use test_logloss for early stopping.\n",
      "Will train until test_logloss hasn't improved in 10 rounds.\n",
      "\n",
      "[5]\ttrain-logloss:0.341672+0.000033\ttest-logloss:0.343036+0.000104 \n",
      "[1]\ttrain-logloss:0.563658+0.000230\ttest-logloss:0.564542+0.000070 \n",
      "Multiple eval metrics are present. Will use test_logloss for early stopping.\n",
      "Will train until test_logloss hasn't improved in 10 rounds.\n",
      "\n",
      "[5]\ttrain-logloss:0.338476+0.000629\ttest-logloss:0.342683+0.000346 \n"
     ]
    },
    {
     "data": {
      "text/plain": [
       "   user  system elapsed \n",
       " 71.204   3.732  80.032 "
      ]
     },
     "metadata": {},
     "output_type": "display_data"
    }
   ],
   "source": [
    "system.time(\n",
    "  loglossErrorsHyperparameters <- apply(searchGridSubCol, 1, function(parameterList){\n",
    "    \n",
    "    #Extract Parameters to test\n",
    "    currentSubsampleRate <- parameterList[[\"subsample\"]]\n",
    "    currentColsampleRate <- parameterList[[\"colsample_bytree\"]]\n",
    "    currentDepth <- parameterList[[\"max_depth\"]]\n",
    "    currentEta <- parameterList[[\"eta\"]]\n",
    "    currentMinChild <- parameterList[[\"min_child\"]]\n",
    "      \n",
    "    xgboostModelCV <- xgb.cv(data =  X, nrounds = ntrees, nfold = 2, showsd = TRUE, \n",
    "                             metrics = \"logloss\", verbose = TRUE, \"eval_metric\" = \"logloss\",\n",
    "                             \"objective\" = \"reg:logistic\", \"max.depth\" = currentDepth, \"eta\" = currentEta,                               \n",
    "                             \"subsample\" = currentSubsampleRate, \"colsample_bytree\" = currentColsampleRate\n",
    "                             , print_every_n = 10, \"min_child_weight\" = currentMinChild, booster = \"gbtree\",\n",
    "                             early_stopping_rounds = 10)\n",
    "                              ## nrounds = 학습 횟수, nfold = Train data를 몇 개로 쪼갤 것이냐, metrics = logloss... 측정 오차를 logloss로 본다는 뜻\n",
    "                              ## GB를 한 번 돌리고, 오차를 줄이는 방향으로 한 번 더 돌리고, *5\n",
    "                              ## 사용자가 적어야 할 부분은 metrics 와 objective\n",
    "                              ## reg:logistic == binary:logistic\n",
    "    \n",
    "    xvalidationScores <- as.data.frame(xgboostModelCV$evaluation_log)\n",
    "    logloss <- tail(xvalidationScores$test_logloss_mean, 1)\n",
    "    tlogloss <- tail(xvalidationScores$train_logloss_mean,1)\n",
    "    output <- return(c(logloss, tlogloss, currentSubsampleRate, currentColsampleRate, currentDepth, currentEta, currentMinChild))\n",
    "    \n",
    "  }))"
   ]
  },
  {
   "cell_type": "code",
   "execution_count": 46,
   "metadata": {},
   "outputs": [
    {
     "data": {
      "text/html": [
       "<table>\n",
       "<thead><tr><th scope=col>V1</th><th scope=col>V2</th><th scope=col>V3</th><th scope=col>V4</th><th scope=col>V5</th><th scope=col>V6</th><th scope=col>V7</th></tr></thead>\n",
       "<tbody>\n",
       "\t<tr><td>0.3430360</td><td>0.3416715</td><td>1        </td><td>1        </td><td> 8       </td><td>0.2      </td><td>1        </td></tr>\n",
       "\t<tr><td>0.3426835</td><td>0.3384765</td><td>1        </td><td>1        </td><td>10       </td><td>0.2      </td><td>1        </td></tr>\n",
       "</tbody>\n",
       "</table>\n"
      ],
      "text/latex": [
       "\\begin{tabular}{r|lllllll}\n",
       " V1 & V2 & V3 & V4 & V5 & V6 & V7\\\\\n",
       "\\hline\n",
       "\t 0.3430360 & 0.3416715 & 1         & 1         &  8        & 0.2       & 1        \\\\\n",
       "\t 0.3426835 & 0.3384765 & 1         & 1         & 10        & 0.2       & 1        \\\\\n",
       "\\end{tabular}\n"
      ],
      "text/markdown": [
       "\n",
       "V1 | V2 | V3 | V4 | V5 | V6 | V7 | \n",
       "|---|---|\n",
       "| 0.3430360 | 0.3416715 | 1         | 1         |  8        | 0.2       | 1         | \n",
       "| 0.3426835 | 0.3384765 | 1         | 1         | 10        | 0.2       | 1         | \n",
       "\n",
       "\n"
      ],
      "text/plain": [
       "  V1        V2        V3 V4 V5 V6  V7\n",
       "1 0.3430360 0.3416715 1  1   8 0.2 1 \n",
       "2 0.3426835 0.3384765 1  1  10 0.2 1 "
      ]
     },
     "metadata": {},
     "output_type": "display_data"
    },
    {
     "data": {
      "text/html": [
       "<table>\n",
       "<thead><tr><th scope=col>Testlogloss</th><th scope=col>Trainlogloss</th><th scope=col>SubSampRate</th><th scope=col>ColSampRate</th><th scope=col>Depth</th><th scope=col>eta</th><th scope=col>currentMinChild</th></tr></thead>\n",
       "<tbody>\n",
       "\t<tr><td>0.3430360</td><td>0.3416715</td><td>1        </td><td>1        </td><td> 8       </td><td>0.2      </td><td>1        </td></tr>\n",
       "\t<tr><td>0.3426835</td><td>0.3384765</td><td>1        </td><td>1        </td><td>10       </td><td>0.2      </td><td>1        </td></tr>\n",
       "</tbody>\n",
       "</table>\n"
      ],
      "text/latex": [
       "\\begin{tabular}{r|lllllll}\n",
       " Testlogloss & Trainlogloss & SubSampRate & ColSampRate & Depth & eta & currentMinChild\\\\\n",
       "\\hline\n",
       "\t 0.3430360 & 0.3416715 & 1         & 1         &  8        & 0.2       & 1        \\\\\n",
       "\t 0.3426835 & 0.3384765 & 1         & 1         & 10        & 0.2       & 1        \\\\\n",
       "\\end{tabular}\n"
      ],
      "text/markdown": [
       "\n",
       "Testlogloss | Trainlogloss | SubSampRate | ColSampRate | Depth | eta | currentMinChild | \n",
       "|---|---|\n",
       "| 0.3430360 | 0.3416715 | 1         | 1         |  8        | 0.2       | 1         | \n",
       "| 0.3426835 | 0.3384765 | 1         | 1         | 10        | 0.2       | 1         | \n",
       "\n",
       "\n"
      ],
      "text/plain": [
       "  Testlogloss Trainlogloss SubSampRate ColSampRate Depth eta currentMinChild\n",
       "1 0.3430360   0.3416715    1           1            8    0.2 1              \n",
       "2 0.3426835   0.3384765    1           1           10    0.2 1              "
      ]
     },
     "metadata": {},
     "output_type": "display_data"
    }
   ],
   "source": [
    "output <- as.data.frame(t(loglossErrorsHyperparameters)) ## t는 transpose, 행렬을 서로 바꿈\n",
    "head(output)\n",
    "varnames <- c(\"Testlogloss\", \"Trainlogloss\", \"SubSampRate\", \"ColSampRate\", \"Depth\", \"eta\", \"currentMinChild\")\n",
    "names(output) <- varnames\n",
    "head(output)"
   ]
  },
  {
   "cell_type": "markdown",
   "metadata": {},
   "source": [
    "어떤 parameter가 제일 성능이 좋을지 판단하는 지표\n",
    "- 낮을수록 좋은 건데 실제로 test data에 적용했을 때 안 맞을 수 있다는 것\n",
    "- train 내에서 보기에는 score가 낮을수록 좋은 분류기다."
   ]
  },
  {
   "cell_type": "markdown",
   "metadata": {},
   "source": [
    "위에 나온 지표들을 토대로 아래 params를 수정"
   ]
  },
  {
   "cell_type": "code",
   "execution_count": 49,
   "metadata": {},
   "outputs": [],
   "source": [
    "# model --------------------------------------------------------------------\n",
    "params = list(\n",
    "  \"objective\"           = \"reg:logistic\",\n",
    "  \"eval_metric\"         = \"logloss\",\n",
    "  \"eta\"                 = 0.01,\n",
    "  \"max_depth\"           = 10,\n",
    "  \"min_child_weight\"    = 10,\n",
    "  \"gamma\"               = 0.70,\n",
    "  \"subsample\"           = 1.0,\n",
    "  \"colsample_bytree\"    = 1.0,\n",
    "  \"alpha\"               = 2e-05,\n",
    "  \"lambda\"              = 10\n",
    ")"
   ]
  },
  {
   "cell_type": "code",
   "execution_count": 50,
   "metadata": {},
   "outputs": [],
   "source": [
    "subtrain = train %>% sample_frac(0.2) ## 20%만"
   ]
  },
  {
   "cell_type": "code",
   "execution_count": 51,
   "metadata": {},
   "outputs": [],
   "source": [
    "X = xgb.DMatrix(as.matrix(subtrain %>% select(-reordered)), label = subtrain$reordered) ## xgboost 패키지에서 알고리즘을 돌리려면 xgb.dmatrix를 x로 바꿔주어야 한다."
   ]
  },
  {
   "cell_type": "code",
   "execution_count": 53,
   "metadata": {},
   "outputs": [
    {
     "name": "stdout",
     "output_type": "stream",
     "text": [
      "[1]\ttrain-logloss:0.686027 \n",
      "[2]\ttrain-logloss:0.679048 \n",
      "[3]\ttrain-logloss:0.672206 \n",
      "[4]\ttrain-logloss:0.665496 \n",
      "[5]\ttrain-logloss:0.658917 \n",
      "[6]\ttrain-logloss:0.652462 \n",
      "[7]\ttrain-logloss:0.646131 \n",
      "[8]\ttrain-logloss:0.639919 \n",
      "[9]\ttrain-logloss:0.633822 \n",
      "[10]\ttrain-logloss:0.627839 \n",
      "[11]\ttrain-logloss:0.621967 \n",
      "[12]\ttrain-logloss:0.616201 \n",
      "[13]\ttrain-logloss:0.610542 \n",
      "[14]\ttrain-logloss:0.604985 \n",
      "[15]\ttrain-logloss:0.599527 \n",
      "[16]\ttrain-logloss:0.594167 \n",
      "[17]\ttrain-logloss:0.588904 \n",
      "[18]\ttrain-logloss:0.583729 \n",
      "[19]\ttrain-logloss:0.578649 \n",
      "[20]\ttrain-logloss:0.573656 \n",
      "[21]\ttrain-logloss:0.568752 \n",
      "[22]\ttrain-logloss:0.563930 \n",
      "[23]\ttrain-logloss:0.559190 \n",
      "[24]\ttrain-logloss:0.554533 \n",
      "[25]\ttrain-logloss:0.549954 \n",
      "[26]\ttrain-logloss:0.545455 \n",
      "[27]\ttrain-logloss:0.541029 \n",
      "[28]\ttrain-logloss:0.536680 \n",
      "[29]\ttrain-logloss:0.532403 \n",
      "[30]\ttrain-logloss:0.528195 \n"
     ]
    }
   ],
   "source": [
    "# xgboost로 모델링을 하는데 30번 한다.\n",
    "model = xgboost(data = X, params = params, nrounds = 30)"
   ]
  },
  {
   "cell_type": "code",
   "execution_count": 54,
   "metadata": {},
   "outputs": [],
   "source": [
    "# 변수들의 중요성을 보기 위해\n",
    "importance = xgb.importance(colnames(X), model = model)"
   ]
  },
  {
   "cell_type": "markdown",
   "metadata": {},
   "source": [
    "## 재구매에 영향을 미치는 중요 지표 시각화\n",
    "- up_order_rate : 전체 주문 건수 중에서 그 상품의 주문 건수 비중\n",
    "> - 해당상품을 많이 사면 재구매를 많이 한다\n",
    "> - 파생변수를 생성할 수도 있다.\n",
    ">> - 예를 들면, departments, aisle 카테고리 전체 판ao 건수 중에서 해당 상품의 거래 건수\n",
    "- \n",
    "\n",
    "- feature가 많은 것 같으면... 위로 다시 올라가서 제거"
   ]
  },
  {
   "cell_type": "code",
   "execution_count": 56,
   "metadata": {},
   "outputs": [
    {
     "data": {},
     "metadata": {},
     "output_type": "display_data"
    },
    {
     "data": {
      "image/png": "[encoded data removed]",
      "text/plain": [
       "plot without title"
      ]
     },
     "metadata": {},
     "output_type": "display_data"
    }
   ],
   "source": [
    "xgb.ggplot.importance(importance)"
   ]
  },
  {
   "cell_type": "code",
   "execution_count": 57,
   "metadata": {},
   "outputs": [
    {
     "data": {
      "text/html": [
       "<table>\n",
       "<thead><tr><th></th><th scope=col>used</th><th scope=col>(Mb)</th><th scope=col>gc trigger</th><th scope=col>(Mb)</th><th scope=col>limit (Mb)</th><th scope=col>max used</th><th scope=col>(Mb)</th></tr></thead>\n",
       "<tbody>\n",
       "\t<tr><th scope=row>Ncells</th><td>  1966326</td><td> 105.1   </td><td>  7967056</td><td> 425.5   </td><td>   NA    </td><td> 30391914</td><td>1623.2   </td></tr>\n",
       "\t<tr><th scope=row>Vcells</th><td>253892633</td><td>1937.1   </td><td>589292569</td><td>4496.0   </td><td>16384    </td><td>726677397</td><td>5544.2   </td></tr>\n",
       "</tbody>\n",
       "</table>\n"
      ],
      "text/latex": [
       "\\begin{tabular}{r|lllllll}\n",
       "  & used & (Mb) & gc trigger & (Mb) & limit (Mb) & max used & (Mb)\\\\\n",
       "\\hline\n",
       "\tNcells &   1966326 &  105.1    &   7967056 &  425.5    &    NA     &  30391914 & 1623.2   \\\\\n",
       "\tVcells & 253892633 & 1937.1    & 589292569 & 4496.0    & 16384     & 726677397 & 5544.2   \\\\\n",
       "\\end{tabular}\n"
      ],
      "text/markdown": [
       "\n",
       "| <!--/--> | used | (Mb) | gc trigger | (Mb) | limit (Mb) | max used | (Mb) | \n",
       "|---|---|\n",
       "| Ncells |   1966326 |  105.1    |   7967056 |  425.5    |    NA     |  30391914 | 1623.2    | \n",
       "| Vcells | 253892633 | 1937.1    | 589292569 | 4496.0    | 16384     | 726677397 | 5544.2    | \n",
       "\n",
       "\n"
      ],
      "text/plain": [
       "       used      (Mb)   gc trigger (Mb)   limit (Mb) max used  (Mb)  \n",
       "Ncells   1966326  105.1   7967056   425.5    NA       30391914 1623.2\n",
       "Vcells 253892633 1937.1 589292569  4496.0 16384      726677397 5544.2"
      ]
     },
     "metadata": {},
     "output_type": "display_data"
    }
   ],
   "source": [
    "rm(X, importance, subtrain)\n",
    "gc()"
   ]
  },
  {
   "cell_type": "code",
   "execution_count": 58,
   "metadata": {},
   "outputs": [],
   "source": [
    "# Apply model -------------------------------------------------------------\n",
    "X = xgb.DMatrix(as.matrix(test %>% select(-order_id, -product_id)))\n",
    "test$reordered = predict(model, X) ## test table의 reordered에 predict한 확률이 들어감"
   ]
  },
  {
   "cell_type": "code",
   "execution_count": 60,
   "metadata": {},
   "outputs": [
    {
     "data": {
      "text/html": [
       "<table>\n",
       "<thead><tr><th scope=col>product_id</th><th scope=col>up_orders</th><th scope=col>up_first_order</th><th scope=col>up_last_order</th><th scope=col>up_average_cart_position</th><th scope=col>prod_orders</th><th scope=col>prod_reorder_probability</th><th scope=col>prod_reorder_times</th><th scope=col>prod_reorder_ratio</th><th scope=col>user_orders</th><th scope=col>⋯</th><th scope=col>user_total_product</th><th scope=col>user_reorder_ratio</th><th scope=col>user_distinct_products</th><th scope=col>user_average_basket</th><th scope=col>order_id</th><th scope=col>time_since_last_order</th><th scope=col>up_order_rate</th><th scope=col>up_orders_since_last_order</th><th scope=col>up_orders_since_first_order</th><th scope=col>reordered</th></tr></thead>\n",
       "<tbody>\n",
       "\t<tr><td> 248      </td><td>1         </td><td> 2        </td><td> 2        </td><td>3.000000  </td><td> 6371     </td><td>0.2795080 </td><td>1.667365  </td><td>0.4002511 </td><td>12        </td><td>⋯         </td><td>88        </td><td>0.7051282 </td><td>33        </td><td>7.333333  </td><td>2774568   </td><td>11        </td><td>0.08333333</td><td>10        </td><td>0.09090909</td><td>0.3750122 </td></tr>\n",
       "\t<tr><td>1005      </td><td>1         </td><td>10        </td><td>10        </td><td>5.000000  </td><td>  463     </td><td>0.3127413 </td><td>1.787645  </td><td>0.4406048 </td><td>12        </td><td>⋯         </td><td>88        </td><td>0.7051282 </td><td>33        </td><td>7.333333  </td><td>2774568   </td><td>11        </td><td>0.08333333</td><td> 2        </td><td>0.33333333</td><td>0.3839403 </td></tr>\n",
       "\t<tr><td>1819      </td><td>3         </td><td> 4        </td><td> 7        </td><td>2.666667  </td><td> 2424     </td><td>0.3468725 </td><td>1.969131  </td><td>0.4921617 </td><td>12        </td><td>⋯         </td><td>88        </td><td>0.7051282 </td><td>33        </td><td>7.333333  </td><td>2774568   </td><td>11        </td><td>0.25000000</td><td> 5        </td><td>0.33333333</td><td>0.3923607 </td></tr>\n",
       "\t<tr><td>7503      </td><td>1         </td><td> 3        </td><td> 3        </td><td>6.000000  </td><td>12474     </td><td>0.3837314 </td><td>2.239899  </td><td>0.5535514 </td><td>12        </td><td>⋯         </td><td>88        </td><td>0.7051282 </td><td>33        </td><td>7.333333  </td><td>2774568   </td><td>11        </td><td>0.08333333</td><td> 9        </td><td>0.10000000</td><td>0.3763811 </td></tr>\n",
       "\t<tr><td>8021      </td><td>1         </td><td> 2        </td><td> 2        </td><td>5.000000  </td><td>27864     </td><td>0.4408357 </td><td>2.445927  </td><td>0.5911570 </td><td>12        </td><td>⋯         </td><td>88        </td><td>0.7051282 </td><td>33        </td><td>7.333333  </td><td>2774568   </td><td>11        </td><td>0.08333333</td><td>10        </td><td>0.09090909</td><td>0.3780925 </td></tr>\n",
       "\t<tr><td>9387      </td><td>5         </td><td> 1        </td><td> 7        </td><td>3.600000  </td><td>36187     </td><td>0.4691700 </td><td>2.860632  </td><td>0.6504269 </td><td>12        </td><td>⋯         </td><td>88        </td><td>0.7051282 </td><td>33        </td><td>7.333333  </td><td>2774568   </td><td>11        </td><td>0.41666667</td><td> 5        </td><td>0.41666667</td><td>0.4118592 </td></tr>\n",
       "</tbody>\n",
       "</table>\n"
      ],
      "text/latex": [
       "\\begin{tabular}{r|llllllllllllllllllllll}\n",
       " product\\_id & up\\_orders & up\\_first\\_order & up\\_last\\_order & up\\_average\\_cart\\_position & prod\\_orders & prod\\_reorder\\_probability & prod\\_reorder\\_times & prod\\_reorder\\_ratio & user\\_orders & ⋯ & user\\_total\\_product & user\\_reorder\\_ratio & user\\_distinct\\_products & user\\_average\\_basket & order\\_id & time\\_since\\_last\\_order & up\\_order\\_rate & up\\_orders\\_since\\_last\\_order & up\\_orders\\_since\\_first\\_order & reordered\\\\\n",
       "\\hline\n",
       "\t  248       & 1          &  2         &  2         & 3.000000   &  6371      & 0.2795080  & 1.667365   & 0.4002511  & 12         & ⋯          & 88         & 0.7051282  & 33         & 7.333333   & 2774568    & 11         & 0.08333333 & 10         & 0.09090909 & 0.3750122 \\\\\n",
       "\t 1005       & 1          & 10         & 10         & 5.000000   &   463      & 0.3127413  & 1.787645   & 0.4406048  & 12         & ⋯          & 88         & 0.7051282  & 33         & 7.333333   & 2774568    & 11         & 0.08333333 &  2         & 0.33333333 & 0.3839403 \\\\\n",
       "\t 1819       & 3          &  4         &  7         & 2.666667   &  2424      & 0.3468725  & 1.969131   & 0.4921617  & 12         & ⋯          & 88         & 0.7051282  & 33         & 7.333333   & 2774568    & 11         & 0.25000000 &  5         & 0.33333333 & 0.3923607 \\\\\n",
       "\t 7503       & 1          &  3         &  3         & 6.000000   & 12474      & 0.3837314  & 2.239899   & 0.5535514  & 12         & ⋯          & 88         & 0.7051282  & 33         & 7.333333   & 2774568    & 11         & 0.08333333 &  9         & 0.10000000 & 0.3763811 \\\\\n",
       "\t 8021       & 1          &  2         &  2         & 5.000000   & 27864      & 0.4408357  & 2.445927   & 0.5911570  & 12         & ⋯          & 88         & 0.7051282  & 33         & 7.333333   & 2774568    & 11         & 0.08333333 & 10         & 0.09090909 & 0.3780925 \\\\\n",
       "\t 9387       & 5          &  1         &  7         & 3.600000   & 36187      & 0.4691700  & 2.860632   & 0.6504269  & 12         & ⋯          & 88         & 0.7051282  & 33         & 7.333333   & 2774568    & 11         & 0.41666667 &  5         & 0.41666667 & 0.4118592 \\\\\n",
       "\\end{tabular}\n"
      ],
      "text/markdown": [
       "\n",
       "product_id | up_orders | up_first_order | up_last_order | up_average_cart_position | prod_orders | prod_reorder_probability | prod_reorder_times | prod_reorder_ratio | user_orders | ⋯ | user_total_product | user_reorder_ratio | user_distinct_products | user_average_basket | order_id | time_since_last_order | up_order_rate | up_orders_since_last_order | up_orders_since_first_order | reordered | \n",
       "|---|---|---|---|---|---|\n",
       "|  248       | 1          |  2         |  2         | 3.000000   |  6371      | 0.2795080  | 1.667365   | 0.4002511  | 12         | ⋯          | 88         | 0.7051282  | 33         | 7.333333   | 2774568    | 11         | 0.08333333 | 10         | 0.09090909 | 0.3750122  | \n",
       "| 1005       | 1          | 10         | 10         | 5.000000   |   463      | 0.3127413  | 1.787645   | 0.4406048  | 12         | ⋯          | 88         | 0.7051282  | 33         | 7.333333   | 2774568    | 11         | 0.08333333 |  2         | 0.33333333 | 0.3839403  | \n",
       "| 1819       | 3          |  4         |  7         | 2.666667   |  2424      | 0.3468725  | 1.969131   | 0.4921617  | 12         | ⋯          | 88         | 0.7051282  | 33         | 7.333333   | 2774568    | 11         | 0.25000000 |  5         | 0.33333333 | 0.3923607  | \n",
       "| 7503       | 1          |  3         |  3         | 6.000000   | 12474      | 0.3837314  | 2.239899   | 0.5535514  | 12         | ⋯          | 88         | 0.7051282  | 33         | 7.333333   | 2774568    | 11         | 0.08333333 |  9         | 0.10000000 | 0.3763811  | \n",
       "| 8021       | 1          |  2         |  2         | 5.000000   | 27864      | 0.4408357  | 2.445927   | 0.5911570  | 12         | ⋯          | 88         | 0.7051282  | 33         | 7.333333   | 2774568    | 11         | 0.08333333 | 10         | 0.09090909 | 0.3780925  | \n",
       "| 9387       | 5          |  1         |  7         | 3.600000   | 36187      | 0.4691700  | 2.860632   | 0.6504269  | 12         | ⋯          | 88         | 0.7051282  | 33         | 7.333333   | 2774568    | 11         | 0.41666667 |  5         | 0.41666667 | 0.4118592  | \n",
       "\n",
       "\n"
      ],
      "text/plain": [
       "  product_id up_orders up_first_order up_last_order up_average_cart_position\n",
       "1  248       1          2              2            3.000000                \n",
       "2 1005       1         10             10            5.000000                \n",
       "3 1819       3          4              7            2.666667                \n",
       "4 7503       1          3              3            6.000000                \n",
       "5 8021       1          2              2            5.000000                \n",
       "6 9387       5          1              7            3.600000                \n",
       "  prod_orders prod_reorder_probability prod_reorder_times prod_reorder_ratio\n",
       "1  6371       0.2795080                1.667365           0.4002511         \n",
       "2   463       0.3127413                1.787645           0.4406048         \n",
       "3  2424       0.3468725                1.969131           0.4921617         \n",
       "4 12474       0.3837314                2.239899           0.5535514         \n",
       "5 27864       0.4408357                2.445927           0.5911570         \n",
       "6 36187       0.4691700                2.860632           0.6504269         \n",
       "  user_orders ⋯ user_total_product user_reorder_ratio user_distinct_products\n",
       "1 12          ⋯ 88                 0.7051282          33                    \n",
       "2 12          ⋯ 88                 0.7051282          33                    \n",
       "3 12          ⋯ 88                 0.7051282          33                    \n",
       "4 12          ⋯ 88                 0.7051282          33                    \n",
       "5 12          ⋯ 88                 0.7051282          33                    \n",
       "6 12          ⋯ 88                 0.7051282          33                    \n",
       "  user_average_basket order_id time_since_last_order up_order_rate\n",
       "1 7.333333            2774568  11                    0.08333333   \n",
       "2 7.333333            2774568  11                    0.08333333   \n",
       "3 7.333333            2774568  11                    0.25000000   \n",
       "4 7.333333            2774568  11                    0.08333333   \n",
       "5 7.333333            2774568  11                    0.08333333   \n",
       "6 7.333333            2774568  11                    0.41666667   \n",
       "  up_orders_since_last_order up_orders_since_first_order reordered\n",
       "1 10                         0.09090909                  0.3750122\n",
       "2  2                         0.33333333                  0.3839403\n",
       "3  5                         0.33333333                  0.3923607\n",
       "4  9                         0.10000000                  0.3763811\n",
       "5 10                         0.09090909                  0.3780925\n",
       "6  5                         0.41666667                  0.4118592"
      ]
     },
     "metadata": {},
     "output_type": "display_data"
    }
   ],
   "source": [
    "head(test)"
   ]
  },
  {
   "cell_type": "code",
   "execution_count": 61,
   "metadata": {},
   "outputs": [],
   "source": [
    "# test$reordered = (test$reordered > 0.5) * 1 ## 50% 이상이면 재구매한다고 보고, 50% 이상이면 1이 되고, 이하면 0이 된다."
   ]
  },
  {
   "cell_type": "code",
   "execution_count": 70,
   "metadata": {},
   "outputs": [],
   "source": [
    "test$reordered = (test$reordered > 0.21) * 1 ## 50% 이상이면 재구매한다고 보고, 50% 이상이면 1이 되고, 이하면 0이 된다."
   ]
  },
  {
   "cell_type": "markdown",
   "metadata": {},
   "source": [
    "- 실제로 하려면 train, test로 나눠야 한다.\n",
    "- test 데이터에 대한 재구매 여부가 없다.\n",
    "- test data에는 실제로 이 사람이 구매했는지 안 했는지에 대한 여부가 없다.\n",
    "- 우리가 예측한 게 맞는지 안 맞는지 확인할 길이 없다.\n",
    "- 이럴 때 train 데이터를 train/test로 쪼개서 예측을 한다.\n",
    "- 그게 맞는지 안 맞는지 예측을 한다."
   ]
  },
  {
   "cell_type": "code",
   "execution_count": 62,
   "metadata": {},
   "outputs": [
    {
     "data": {
      "text/html": [
       "<table>\n",
       "<thead><tr><th scope=col>product_id</th><th scope=col>up_orders</th><th scope=col>up_first_order</th><th scope=col>up_last_order</th><th scope=col>up_average_cart_position</th><th scope=col>prod_orders</th><th scope=col>prod_reorder_probability</th><th scope=col>prod_reorder_times</th><th scope=col>prod_reorder_ratio</th><th scope=col>user_orders</th><th scope=col>⋯</th><th scope=col>user_total_product</th><th scope=col>user_reorder_ratio</th><th scope=col>user_distinct_products</th><th scope=col>user_average_basket</th><th scope=col>order_id</th><th scope=col>time_since_last_order</th><th scope=col>up_order_rate</th><th scope=col>up_orders_since_last_order</th><th scope=col>up_orders_since_first_order</th><th scope=col>reordered</th></tr></thead>\n",
       "<tbody>\n",
       "\t<tr><td> 248      </td><td>1         </td><td> 2        </td><td> 2        </td><td>3.000000  </td><td> 6371     </td><td>0.2795080 </td><td>1.667365  </td><td>0.4002511 </td><td>12        </td><td>⋯         </td><td>88        </td><td>0.7051282 </td><td>33        </td><td>7.333333  </td><td>2774568   </td><td>11        </td><td>0.08333333</td><td>10        </td><td>0.09090909</td><td>0         </td></tr>\n",
       "\t<tr><td>1005      </td><td>1         </td><td>10        </td><td>10        </td><td>5.000000  </td><td>  463     </td><td>0.3127413 </td><td>1.787645  </td><td>0.4406048 </td><td>12        </td><td>⋯         </td><td>88        </td><td>0.7051282 </td><td>33        </td><td>7.333333  </td><td>2774568   </td><td>11        </td><td>0.08333333</td><td> 2        </td><td>0.33333333</td><td>0         </td></tr>\n",
       "\t<tr><td>1819      </td><td>3         </td><td> 4        </td><td> 7        </td><td>2.666667  </td><td> 2424     </td><td>0.3468725 </td><td>1.969131  </td><td>0.4921617 </td><td>12        </td><td>⋯         </td><td>88        </td><td>0.7051282 </td><td>33        </td><td>7.333333  </td><td>2774568   </td><td>11        </td><td>0.25000000</td><td> 5        </td><td>0.33333333</td><td>0         </td></tr>\n",
       "\t<tr><td>7503      </td><td>1         </td><td> 3        </td><td> 3        </td><td>6.000000  </td><td>12474     </td><td>0.3837314 </td><td>2.239899  </td><td>0.5535514 </td><td>12        </td><td>⋯         </td><td>88        </td><td>0.7051282 </td><td>33        </td><td>7.333333  </td><td>2774568   </td><td>11        </td><td>0.08333333</td><td> 9        </td><td>0.10000000</td><td>0         </td></tr>\n",
       "\t<tr><td>8021      </td><td>1         </td><td> 2        </td><td> 2        </td><td>5.000000  </td><td>27864     </td><td>0.4408357 </td><td>2.445927  </td><td>0.5911570 </td><td>12        </td><td>⋯         </td><td>88        </td><td>0.7051282 </td><td>33        </td><td>7.333333  </td><td>2774568   </td><td>11        </td><td>0.08333333</td><td>10        </td><td>0.09090909</td><td>0         </td></tr>\n",
       "\t<tr><td>9387      </td><td>5         </td><td> 1        </td><td> 7        </td><td>3.600000  </td><td>36187     </td><td>0.4691700 </td><td>2.860632  </td><td>0.6504269 </td><td>12        </td><td>⋯         </td><td>88        </td><td>0.7051282 </td><td>33        </td><td>7.333333  </td><td>2774568   </td><td>11        </td><td>0.41666667</td><td> 5        </td><td>0.41666667</td><td>0         </td></tr>\n",
       "</tbody>\n",
       "</table>\n"
      ],
      "text/latex": [
       "\\begin{tabular}{r|llllllllllllllllllllll}\n",
       " product\\_id & up\\_orders & up\\_first\\_order & up\\_last\\_order & up\\_average\\_cart\\_position & prod\\_orders & prod\\_reorder\\_probability & prod\\_reorder\\_times & prod\\_reorder\\_ratio & user\\_orders & ⋯ & user\\_total\\_product & user\\_reorder\\_ratio & user\\_distinct\\_products & user\\_average\\_basket & order\\_id & time\\_since\\_last\\_order & up\\_order\\_rate & up\\_orders\\_since\\_last\\_order & up\\_orders\\_since\\_first\\_order & reordered\\\\\n",
       "\\hline\n",
       "\t  248       & 1          &  2         &  2         & 3.000000   &  6371      & 0.2795080  & 1.667365   & 0.4002511  & 12         & ⋯          & 88         & 0.7051282  & 33         & 7.333333   & 2774568    & 11         & 0.08333333 & 10         & 0.09090909 & 0         \\\\\n",
       "\t 1005       & 1          & 10         & 10         & 5.000000   &   463      & 0.3127413  & 1.787645   & 0.4406048  & 12         & ⋯          & 88         & 0.7051282  & 33         & 7.333333   & 2774568    & 11         & 0.08333333 &  2         & 0.33333333 & 0         \\\\\n",
       "\t 1819       & 3          &  4         &  7         & 2.666667   &  2424      & 0.3468725  & 1.969131   & 0.4921617  & 12         & ⋯          & 88         & 0.7051282  & 33         & 7.333333   & 2774568    & 11         & 0.25000000 &  5         & 0.33333333 & 0         \\\\\n",
       "\t 7503       & 1          &  3         &  3         & 6.000000   & 12474      & 0.3837314  & 2.239899   & 0.5535514  & 12         & ⋯          & 88         & 0.7051282  & 33         & 7.333333   & 2774568    & 11         & 0.08333333 &  9         & 0.10000000 & 0         \\\\\n",
       "\t 8021       & 1          &  2         &  2         & 5.000000   & 27864      & 0.4408357  & 2.445927   & 0.5911570  & 12         & ⋯          & 88         & 0.7051282  & 33         & 7.333333   & 2774568    & 11         & 0.08333333 & 10         & 0.09090909 & 0         \\\\\n",
       "\t 9387       & 5          &  1         &  7         & 3.600000   & 36187      & 0.4691700  & 2.860632   & 0.6504269  & 12         & ⋯          & 88         & 0.7051282  & 33         & 7.333333   & 2774568    & 11         & 0.41666667 &  5         & 0.41666667 & 0         \\\\\n",
       "\\end{tabular}\n"
      ],
      "text/markdown": [
       "\n",
       "product_id | up_orders | up_first_order | up_last_order | up_average_cart_position | prod_orders | prod_reorder_probability | prod_reorder_times | prod_reorder_ratio | user_orders | ⋯ | user_total_product | user_reorder_ratio | user_distinct_products | user_average_basket | order_id | time_since_last_order | up_order_rate | up_orders_since_last_order | up_orders_since_first_order | reordered | \n",
       "|---|---|---|---|---|---|\n",
       "|  248       | 1          |  2         |  2         | 3.000000   |  6371      | 0.2795080  | 1.667365   | 0.4002511  | 12         | ⋯          | 88         | 0.7051282  | 33         | 7.333333   | 2774568    | 11         | 0.08333333 | 10         | 0.09090909 | 0          | \n",
       "| 1005       | 1          | 10         | 10         | 5.000000   |   463      | 0.3127413  | 1.787645   | 0.4406048  | 12         | ⋯          | 88         | 0.7051282  | 33         | 7.333333   | 2774568    | 11         | 0.08333333 |  2         | 0.33333333 | 0          | \n",
       "| 1819       | 3          |  4         |  7         | 2.666667   |  2424      | 0.3468725  | 1.969131   | 0.4921617  | 12         | ⋯          | 88         | 0.7051282  | 33         | 7.333333   | 2774568    | 11         | 0.25000000 |  5         | 0.33333333 | 0          | \n",
       "| 7503       | 1          |  3         |  3         | 6.000000   | 12474      | 0.3837314  | 2.239899   | 0.5535514  | 12         | ⋯          | 88         | 0.7051282  | 33         | 7.333333   | 2774568    | 11         | 0.08333333 |  9         | 0.10000000 | 0          | \n",
       "| 8021       | 1          |  2         |  2         | 5.000000   | 27864      | 0.4408357  | 2.445927   | 0.5911570  | 12         | ⋯          | 88         | 0.7051282  | 33         | 7.333333   | 2774568    | 11         | 0.08333333 | 10         | 0.09090909 | 0          | \n",
       "| 9387       | 5          |  1         |  7         | 3.600000   | 36187      | 0.4691700  | 2.860632   | 0.6504269  | 12         | ⋯          | 88         | 0.7051282  | 33         | 7.333333   | 2774568    | 11         | 0.41666667 |  5         | 0.41666667 | 0          | \n",
       "\n",
       "\n"
      ],
      "text/plain": [
       "  product_id up_orders up_first_order up_last_order up_average_cart_position\n",
       "1  248       1          2              2            3.000000                \n",
       "2 1005       1         10             10            5.000000                \n",
       "3 1819       3          4              7            2.666667                \n",
       "4 7503       1          3              3            6.000000                \n",
       "5 8021       1          2              2            5.000000                \n",
       "6 9387       5          1              7            3.600000                \n",
       "  prod_orders prod_reorder_probability prod_reorder_times prod_reorder_ratio\n",
       "1  6371       0.2795080                1.667365           0.4002511         \n",
       "2   463       0.3127413                1.787645           0.4406048         \n",
       "3  2424       0.3468725                1.969131           0.4921617         \n",
       "4 12474       0.3837314                2.239899           0.5535514         \n",
       "5 27864       0.4408357                2.445927           0.5911570         \n",
       "6 36187       0.4691700                2.860632           0.6504269         \n",
       "  user_orders ⋯ user_total_product user_reorder_ratio user_distinct_products\n",
       "1 12          ⋯ 88                 0.7051282          33                    \n",
       "2 12          ⋯ 88                 0.7051282          33                    \n",
       "3 12          ⋯ 88                 0.7051282          33                    \n",
       "4 12          ⋯ 88                 0.7051282          33                    \n",
       "5 12          ⋯ 88                 0.7051282          33                    \n",
       "6 12          ⋯ 88                 0.7051282          33                    \n",
       "  user_average_basket order_id time_since_last_order up_order_rate\n",
       "1 7.333333            2774568  11                    0.08333333   \n",
       "2 7.333333            2774568  11                    0.08333333   \n",
       "3 7.333333            2774568  11                    0.25000000   \n",
       "4 7.333333            2774568  11                    0.08333333   \n",
       "5 7.333333            2774568  11                    0.08333333   \n",
       "6 7.333333            2774568  11                    0.41666667   \n",
       "  up_orders_since_last_order up_orders_since_first_order reordered\n",
       "1 10                         0.09090909                  0        \n",
       "2  2                         0.33333333                  0        \n",
       "3  5                         0.33333333                  0        \n",
       "4  9                         0.10000000                  0        \n",
       "5 10                         0.09090909                  0        \n",
       "6  5                         0.41666667                  0        "
      ]
     },
     "metadata": {},
     "output_type": "display_data"
    }
   ],
   "source": [
    "head(test) # 그런식으로 하면 구매를 할 지 안 할지 1, 0 으로 나눠질 것이다."
   ]
  },
  {
   "cell_type": "code",
   "execution_count": 63,
   "metadata": {},
   "outputs": [],
   "source": [
    "# order_id 별로 재구매할(1) 상품들을 보여주는 것\n",
    "# kaggle에 제출할 때 그런 식으로 제출하라고 요구한 것\n",
    "# 옆에는 실제로 user_id도 있을 것.\n",
    "\n",
    "submission = test %>%\n",
    "  filter(reordered == 1) %>%\n",
    "  group_by(order_id) %>%\n",
    "  summarise(\n",
    "    products = paste(product_id, collapse = \" \") ## paste는 문자와 문자를 붙이라는 뜻\n",
    "  )"
   ]
  },
  {
   "cell_type": "code",
   "execution_count": 64,
   "metadata": {},
   "outputs": [
    {
     "data": {
      "text/html": [
       "<table>\n",
       "<thead><tr><th scope=col>order_id</th><th scope=col>products</th></tr></thead>\n",
       "<tbody>\n",
       "\t<tr><td>137                                                                   </td><td>24852                                                                 </td></tr>\n",
       "\t<tr><td>182                                                                   </td><td>5479 9337 39275                                                       </td></tr>\n",
       "\t<tr><td>257                                                                   </td><td>24852 27966 29837 49235                                               </td></tr>\n",
       "\t<tr><td>313                                                                   </td><td>12779 13198 21903 45007 46906                                         </td></tr>\n",
       "\t<tr><td>386                                                                   </td><td>4920 15872 21479 22124 24852 30450 38281 39180 40759 42265 45066 47766</td></tr>\n",
       "\t<tr><td>414                                                                   </td><td>20564                                                                 </td></tr>\n",
       "</tbody>\n",
       "</table>\n"
      ],
      "text/latex": [
       "\\begin{tabular}{r|ll}\n",
       " order\\_id & products\\\\\n",
       "\\hline\n",
       "\t 137                                                                    & 24852                                                                 \\\\\n",
       "\t 182                                                                    & 5479 9337 39275                                                       \\\\\n",
       "\t 257                                                                    & 24852 27966 29837 49235                                               \\\\\n",
       "\t 313                                                                    & 12779 13198 21903 45007 46906                                         \\\\\n",
       "\t 386                                                                    & 4920 15872 21479 22124 24852 30450 38281 39180 40759 42265 45066 47766\\\\\n",
       "\t 414                                                                    & 20564                                                                 \\\\\n",
       "\\end{tabular}\n"
      ],
      "text/markdown": [
       "\n",
       "order_id | products | \n",
       "|---|---|---|---|---|---|\n",
       "| 137                                                                    | 24852                                                                  | \n",
       "| 182                                                                    | 5479 9337 39275                                                        | \n",
       "| 257                                                                    | 24852 27966 29837 49235                                                | \n",
       "| 313                                                                    | 12779 13198 21903 45007 46906                                          | \n",
       "| 386                                                                    | 4920 15872 21479 22124 24852 30450 38281 39180 40759 42265 45066 47766 | \n",
       "| 414                                                                    | 20564                                                                  | \n",
       "\n",
       "\n"
      ],
      "text/plain": [
       "  order_id\n",
       "1 137     \n",
       "2 182     \n",
       "3 257     \n",
       "4 313     \n",
       "5 386     \n",
       "6 414     \n",
       "  products                                                              \n",
       "1 24852                                                                 \n",
       "2 5479 9337 39275                                                       \n",
       "3 24852 27966 29837 49235                                               \n",
       "4 12779 13198 21903 45007 46906                                         \n",
       "5 4920 15872 21479 22124 24852 30450 38281 39180 40759 42265 45066 47766\n",
       "6 20564                                                                 "
      ]
     },
     "metadata": {},
     "output_type": "display_data"
    }
   ],
   "source": [
    "head(submission)"
   ]
  },
  {
   "cell_type": "markdown",
   "metadata": {},
   "source": [
    "없는 값"
   ]
  },
  {
   "cell_type": "code",
   "execution_count": 65,
   "metadata": {},
   "outputs": [],
   "source": [
    "missing = data.frame(\n",
    "  order_id = unique(test$order_id[!test$order_id %in% submission$order_id]),   # %in% test$order_id에 submission$order_id가 있느냐를 True&False로 반환해서 !는 반대니깐 ... 실제적으로 없는 게 나온다. ## test orderid중에서 submission에 없는 것 중의 unique를 뽑는 것\n",
    "  products = \"None\"\n",
    ")"
   ]
  },
  {
   "cell_type": "markdown",
   "metadata": {},
   "source": [
    "있는 값 + 없는 값"
   ]
  },
  {
   "cell_type": "code",
   "execution_count": 66,
   "metadata": {},
   "outputs": [
    {
     "name": "stderr",
     "output_type": "stream",
     "text": [
      "Warning message in bind_rows_(x, .id):\n",
      "“binding character and factor vector, coercing into character vector”"
     ]
    }
   ],
   "source": [
    "submission = submission %>% bind_rows(missing) %>% arrange(order_id)"
   ]
  },
  {
   "cell_type": "code",
   "execution_count": 67,
   "metadata": {},
   "outputs": [
    {
     "data": {
      "text/html": [
       "<table>\n",
       "<thead><tr><th scope=col>order_id</th><th scope=col>products</th></tr></thead>\n",
       "<tbody>\n",
       "\t<tr><td> 17                          </td><td>None                         </td></tr>\n",
       "\t<tr><td> 34                          </td><td>None                         </td></tr>\n",
       "\t<tr><td>137                          </td><td>24852                        </td></tr>\n",
       "\t<tr><td>182                          </td><td>5479 9337 39275              </td></tr>\n",
       "\t<tr><td>257                          </td><td>24852 27966 29837 49235      </td></tr>\n",
       "\t<tr><td>313                          </td><td>12779 13198 21903 45007 46906</td></tr>\n",
       "</tbody>\n",
       "</table>\n"
      ],
      "text/latex": [
       "\\begin{tabular}{r|ll}\n",
       " order\\_id & products\\\\\n",
       "\\hline\n",
       "\t  17                           & None                         \\\\\n",
       "\t  34                           & None                         \\\\\n",
       "\t 137                           & 24852                        \\\\\n",
       "\t 182                           & 5479 9337 39275              \\\\\n",
       "\t 257                           & 24852 27966 29837 49235      \\\\\n",
       "\t 313                           & 12779 13198 21903 45007 46906\\\\\n",
       "\\end{tabular}\n"
      ],
      "text/markdown": [
       "\n",
       "order_id | products | \n",
       "|---|---|---|---|---|---|\n",
       "|  17                           | None                          | \n",
       "|  34                           | None                          | \n",
       "| 137                           | 24852                         | \n",
       "| 182                           | 5479 9337 39275               | \n",
       "| 257                           | 24852 27966 29837 49235       | \n",
       "| 313                           | 12779 13198 21903 45007 46906 | \n",
       "\n",
       "\n"
      ],
      "text/plain": [
       "  order_id products                     \n",
       "1  17      None                         \n",
       "2  34      None                         \n",
       "3 137      24852                        \n",
       "4 182      5479 9337 39275              \n",
       "5 257      24852 27966 29837 49235      \n",
       "6 313      12779 13198 21903 45007 46906"
      ]
     },
     "metadata": {},
     "output_type": "display_data"
    }
   ],
   "source": [
    "submission %>% head()"
   ]
  },
  {
   "cell_type": "code",
   "execution_count": 71,
   "metadata": {},
   "outputs": [
    {
     "ename": "ERROR",
     "evalue": "Error in paste0(path, \"./submit3.csv\"): 객체 'path'를 찾을 수 없습니다\n",
     "output_type": "error",
     "traceback": [
      "Error in paste0(path, \"./submit3.csv\"): 객체 'path'를 찾을 수 없습니다\nTraceback:\n",
      "1. write.csv(submission, file = paste0(path, \"./submit3.csv\"), row.names = F)",
      "2. eval.parent(Call)",
      "3. eval(expr, p)",
      "4. eval(expr, p)",
      "5. write.table(submission, file = paste0(path, \"./submit3.csv\"), \n .     row.names = F, col.names = TRUE, sep = \",\", dec = \".\", qmethod = \"double\")",
      "6. paste0(path, \"./submit3.csv\")"
     ]
    }
   ],
   "source": [
    "# write.csv(submission, file = paste0(path,\"/submit3.csv\"), row.names = F)"
   ]
  },
  {
   "cell_type": "code",
   "execution_count": 72,
   "metadata": {},
   "outputs": [],
   "source": [
    "write.csv(submission, file = (\"./submit3.csv\"), row.names = F)"
   ]
  },
  {
   "cell_type": "code",
   "execution_count": null,
   "metadata": {},
   "outputs": [],
   "source": []
  }
 ],
 "metadata": {
  "kernelspec": {
   "display_name": "R",
   "language": "R",
   "name": "ir"
  },
  "language_info": {
   "codemirror_mode": "r",
   "file_extension": ".r",
   "mimetype": "text/x-r-source",
   "name": "R",
   "pygments_lexer": "r",
   "version": "3.5.0"
  }
 },
 "nbformat": 4,
 "nbformat_minor": 2
}
