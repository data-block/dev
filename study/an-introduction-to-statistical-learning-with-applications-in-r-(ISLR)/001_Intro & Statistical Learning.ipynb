{
 "cells": [
  {
   "cell_type": "markdown",
   "metadata": {},
   "source": [
    "# 1. Introduction\n",
    "\n",
    "## 1.1 Wage Data\n",
    "- 미국 대서양 지역에 거주하는 한 그룹의 남성들의 그룹에 대한 employee's __age__, __education__, __year__ 사이의 관련성\n",
    "\n",
    "## 1.2 Stock Market Data"
   ]
  },
  {
   "cell_type": "markdown",
   "metadata": {},
   "source": [
    "# 2. Statistical Learning\n",
    "## 2.1 What is Statistical Learning?\n",
    "### 2.1.1 Why Estimate f?\n",
    "### 2.1.2 How Do We Estimate f?\n",
    "### 2.1.3 The Trade-Off Between Prediction Accuracy and Model Interpretability\n",
    "### 2.1.4 Supervised Versus Unsupervised Learning\n",
    "### 2.1.5 Regression Versus Classification Problems\n",
    "\n",
    "## 2.2.Assessing Model Accuracy\n",
    "### 2.2.1 Measuring the Quality of Fit\n",
    "### 2.2.2 The Bias-Variance Trade-Off\n",
    "### 2.2.3 The Classification Setting\n",
    "\n",
    "## 2.3 Lab: Introduction to R\n",
    "### 2.3.1 Basic Commands\n",
    "### 2.3.2 Graphics\n",
    "### 2.3.3 Indexing Data\n",
    "### 2.3.4 Loading Data\n",
    "### 2.3.5 Additional Graphical and Numerival Summaries\n",
    "\n",
    "## 2.4 Exercises"
   ]
  },
  {
   "cell_type": "code",
   "execution_count": null,
   "metadata": {},
   "outputs": [],
   "source": []
  }
 ],
 "metadata": {
  "kernelspec": {
   "display_name": "R",
   "language": "R",
   "name": "ir"
  },
  "language_info": {
   "codemirror_mode": "r",
   "file_extension": ".r",
   "mimetype": "text/x-r-source",
   "name": "R",
   "pygments_lexer": "r",
   "version": "3.5.0"
  }
 },
 "nbformat": 4,
 "nbformat_minor": 2
}
