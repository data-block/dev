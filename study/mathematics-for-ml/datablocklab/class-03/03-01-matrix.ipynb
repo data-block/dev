{
 "cells": [
  {
   "cell_type": "markdown",
   "metadata": {
    "slideshow": {
     "slide_type": "slide"
    }
   },
   "source": [
    "# 2-1. 행렬과 벡터의 연산"
   ]
  },
  {
   "cell_type": "code",
   "execution_count": 2,
   "metadata": {
    "slideshow": {
     "slide_type": "skip"
    }
   },
   "outputs": [],
   "source": [
    "import numpy as np\n",
    "import matplotlib.pyplot as plt\n",
    "import matplotlib as mpl\n",
    "\n",
    "style_name = 'bmh' #bmh\n",
    "mpl.style.use(style_name)\n",
    "np.set_printoptions(precision=2, linewidth =150)\n",
    "\n",
    "style = plt.style.library[style_name]\n",
    "style_colors = [ c['color'] for c in style['axes.prop_cycle'] ]"
   ]
  },
  {
   "cell_type": "markdown",
   "metadata": {
    "slideshow": {
     "slide_type": "slide"
    }
   },
   "source": [
    "### 행렬과 벡터 사용의 목적 \n",
    "    \n",
    "- 데이터를 벡터 또는 행렬 형태로 간단히 표현\n",
    "\n",
    "- 데이터 간의 연산을 빠르고 간결하게 처리\n",
    "\n",
    "### 학습 개요 \n",
    "\n",
    "- 행렬과 벡터의 기본 정의와 연산\n",
    "    \n",
    "- 선형연립방정식과 행렬의 관계\n",
    "  \n",
    "- 벡터화 연산 코딩 실습\n",
    "    \n",
    "- 주요 참고 문헌 및 예제 : 공업수학Advanced Engineering Mathematics 10판<sup>[kreyszig]</sup>\n",
    "\n"
   ]
  },
  {
   "cell_type": "markdown",
   "metadata": {
    "slideshow": {
     "slide_type": "subslide"
    }
   },
   "source": [
    "## 행렬\n",
    "\n",
    "- 사각 괄호로 둘러 쌓인 숫자들의 배열(Rectangular array of numbers written between square brackets)<sup>[andrew]</sup>\n",
    "\n",
    "$$\n",
    "\\begin{bmatrix}\n",
    "0.3 & 1 & -5 \\\\\n",
    "0 & -0.2 & 16\n",
    "\\end{bmatrix}, \\qquad\n",
    "\\begin{bmatrix}\n",
    "a_{11} & a_{12} & a_{13} \\\\\n",
    "a_{21} & a_{22} & a_{23} \\\\\n",
    "a_{31} & a_{32} & a_{33} \n",
    "\\end{bmatrix}\n",
    "$$\n",
    "\n",
    "- 각 숫자: 요소<sup>entries, elements</sup>, 가로줄: 행<sup>rows</sup>, 세로줄: 열<sup>columns</sup>\n",
    "\n",
    "- 보기의 두번째 행렬, 행과 열수가 같은 행렬을 정사각행렬 또는 정방행렬<sup>square matrix</sup>이라 한다.\n",
    "\n",
    "\n",
    "\n"
   ]
  },
  {
   "cell_type": "markdown",
   "metadata": {
    "slideshow": {
     "slide_type": "subslide"
    }
   },
   "source": [
    "### 일반적 표현법\n",
    "\n",
    "$$\n",
    "\\mathbf{A} = [a_{jk}] = \\begin{bmatrix}\n",
    "a_{11} & a_{12} & \\cdots & a_{1n} \\\\\n",
    "a_{21} & a_{22} & \\cdots & a_{2n} \\\\\n",
    "\\vdots & \\vdots & \\ddots & \\vdots \\\\\n",
    "a_{m1} & a_{m2} & \\cdots & a_{mn}\n",
    "\\end{bmatrix}\n",
    "$$\n",
    "\n",
    "- 볼드 대분자로 표시\n",
    "\n",
    "- 행렬의 크기는 [행크기]x[열크기] 로 표시\n",
    "\n",
    "- 위 경우는 $m \\times n$행렬\n",
    "\n",
    "- 요소의 첫 번째 인덱스가 행 번호, 두 번째 인덱스가 열 번호\n",
    "\n",
    "$$\n",
    "\\mathbf{A} =  \\begin{bmatrix}\n",
    "0.3 & 1 & -5 \\\\\n",
    "0 & -0.2 & 16\n",
    "\\end{bmatrix}\n",
    "$$\n",
    "\n",
    "- 위 행렬에서 $a_{12}=1$"
   ]
  },
  {
   "cell_type": "markdown",
   "metadata": {
    "slideshow": {
     "slide_type": "subslide"
    }
   },
   "source": [
    "### 선형연립방정식의 표현\n",
    "\n",
    "- 위에서 정의한 행렬을 이용하면 선형연립방정식을 행렬로만 표시 가능\n",
    "\n",
    "$$\n",
    "\\begin{matrix}\n",
    "7x_1 & + & 6x_2 & + & 9x_3 & = & 6  \\\\\n",
    "6x_1 &   &      & - & 3x_3 & = & 25 \\\\\n",
    "5x_1 & - & 8x_2 & + & x_3   & = & 10\n",
    "\\end{matrix}\n",
    "$$\n",
    "\n",
    "- 보기의 연립방정식은 미지수가 3개인 선형 연립방정식\n",
    "\n",
    "- 계수만 따서 행렬로\n",
    "\n",
    "$$\n",
    "\\mathbf{A} = \\begin{bmatrix}\n",
    "7 & 6 & 9   \\\\\n",
    "6 & 0 & -3 \\\\\n",
    "5 & -8 & 1\n",
    "\\end{bmatrix}\n",
    "$$\n",
    " \n",
    "- 우측 숫자를 하나의 열로 첨가하면 첨가행렬<sup>augmented matrix</sup>이 만들어 지는데 이는 선형 연립방정식의 모든 정보를 포함\n",
    "\n",
    "$$\n",
    "\\tilde{\\mathbf{A}} = \\begin{bmatrix}\n",
    "7 & 6 & 9 & 6  \\\\\n",
    "6 & 0 & -3 & 25 \\\\\n",
    "5 & -8 & 1 & 10\n",
    "\\end{bmatrix}\n",
    "$$\n",
    "\n"
   ]
  },
  {
   "cell_type": "markdown",
   "metadata": {
    "slideshow": {
     "slide_type": "slide"
    }
   },
   "source": [
    "## 벡터\n",
    "\n",
    "- 행렬 관점에서 행이나 열을 하나만 가진 행렬을 벡터라 할 수 있음.\n",
    "\n",
    "- 다시 말해 $n \\times 1$ 행렬\n",
    "\n",
    "- 행벡터 또는 열벡터라 하며 대부분 별도의 언급이 없으면 **벡터는 열벡터**\n",
    "\n",
    "- 표시는 볼드 소문자\n",
    "\n",
    "- 행렬과 벡터는 모두 의미 있는 숫자를 모아서 표현하기에 적합한 구조\n",
    "\n",
    "\n",
    "$$\n",
    "\\mathbf{v} = \\begin{bmatrix}  v_1 \\\\ v_2 \\\\ \\vdots \\\\ v_n \\end{bmatrix}\n",
    "$$\n",
    "\n"
   ]
  },
  {
   "cell_type": "code",
   "execution_count": 2,
   "metadata": {
    "scrolled": false,
    "slideshow": {
     "slide_type": "subslide"
    }
   },
   "outputs": [
    {
     "data": {
      "image/png": "[encoded data removed]",
      "text/plain": [
       "<matplotlib.figure.Figure at 0x7f924ed6e320>"
      ]
     },
     "metadata": {},
     "output_type": "display_data"
    }
   ],
   "source": [
    "from mpl_toolkits.mplot3d import Axes3D\n",
    "from matplotlib import cm\n",
    "\n",
    "plt.rcParams[\"figure.figsize\"] = (17,7)\n",
    "\n",
    "fig = plt.figure()\n",
    "ax1 = fig.add_subplot(1, 2, 1, projection='3d')\n",
    "ax2 = fig.add_subplot(1, 2, 2, projection='3d')\n",
    "\n",
    "x, y, z = 0, 1, 2\n",
    "P = (1.5, 1.8, 1)\n",
    "\n",
    "Q = (2.1, 3.2, 3)\n",
    "O = (0, 0, 0)\n",
    "\n",
    "def draw_vector(ax, P, Q, elev, azim, title=''):\n",
    "    ax.plot3D([P[x], Q[x]], [P[y], Q[y]], [P[z], Q[z]], lw=3, color=style_colors[0])\n",
    "\n",
    "    ax.plot3D([Q[x], Q[x]], [0, Q[y]], [0,0], '--', color=\"gray\")\n",
    "    ax.plot3D([P[x], P[x]], [0, P[y]], [0,0], '--', color=\"gray\")\n",
    "\n",
    "    ax.plot3D([0, Q[x]], [Q[y], Q[y]], [0,0], '--', color=\"gray\")\n",
    "    ax.plot3D([0, P[x]], [P[y], P[y]], [0,0], '--', color=\"gray\")\n",
    "\n",
    "    ax.plot3D([P[x], P[x]], [P[y], P[y]], [0, P[z]], '--', color=\"gray\") #p로의 세로선\n",
    "    ax.plot3D([Q[x], Q[x]], [Q[y], Q[y]], [0, Q[z]], '--', color=\"gray\") #p로의 세로선\n",
    "\n",
    "    ax.plot3D([0, P[x]], [0, P[y]], [0,0], '--', color=\"gray\")\n",
    "    ax.plot3D([0, Q[x]], [0, Q[y]], [0,0], '--', color=\"gray\")\n",
    "\n",
    "    ax.plot3D([0, P[x]], [0, P[y]], [P[z], P[z]], '--', color=\"gray\")\n",
    "    ax.plot3D([0, Q[x]], [0, Q[y]], [Q[z], Q[z]], '--', color=\"gray\")\n",
    "\n",
    "    ax.plot3D([P[x], Q[x]], [0, 0], [0,0], lw=3, color=style_colors[0])\n",
    "    ax.plot3D([0,0], [P[y], Q[y]], [0,0], lw=3, color=style_colors[0])\n",
    "    ax.plot3D([0,0], [0, 0], [P[z], Q[z]], lw=3, color=style_colors[0])\n",
    "\n",
    "    ax.plot3D([O[x], 0], [O[y], 0], [O[z], Q[z]+1], color=style_colors[1], alpha=0.4)\n",
    "    ax.plot3D([O[x], Q[x]+1], [0, 0], [0, 0], color=style_colors[1], alpha=0.4)\n",
    "    ax.plot3D([0,0], [O[y], Q[y]+1], [0, 0], color=style_colors[1], alpha=0.4)\n",
    "\n",
    "    ax.plot([O[x]], [O[y]], [O[z]], 'o', color=style_colors[1])\n",
    "\n",
    "    ax.text(*Q, '$Q$', fontsize=15)\n",
    "    ax.text(P[x], P[y], P[z]-0.2, '$P$', fontsize=15)\n",
    "    ax.text(P[x]+(Q[x]-P[x])-0.3, -0.4, 0, '$\\mathbf{a}_1$', fontsize=15)\n",
    "    ax.text(-0.4, P[y]+(Q[y]-P[y])-0.8, 0, '$\\mathbf{a}_2$', fontsize=15)\n",
    "    ax.text(0, 0.1,  P[z]+(Q[y]-P[z])/2, '$\\mathbf{a}_3$', fontsize=15)\n",
    "\n",
    "    ax.set_title(title)\n",
    "    ax.set_xlabel('x')\n",
    "    ax.set_ylabel('y')\n",
    "    ax.set_zlabel('z')\n",
    "\n",
    "    ax.view_init(elev, azim)\n",
    "    \n",
    "draw_vector(ax1, P, Q, 20, 30, 'Vector and its components')  \n",
    "draw_vector(ax2, O, Q, 20, 30, 'Position vector') \n",
    "\n",
    "plt.show()"
   ]
  },
  {
   "cell_type": "markdown",
   "metadata": {
    "slideshow": {
     "slide_type": "fragment"
    }
   },
   "source": [
    "\n",
    "- 3차원 공간의 두 점 $P(x_1, y_1, z_1)$, $Q(x_2, y_2, z_2)$가 있을 때\n",
    "\n",
    "- 두 점 $P$, $Q$로 정의되는 벡터 $\\mathbf{a} = \\vec{PQ} = (a_1, a_2, a_3)^{\\text{T}}$\n",
    "\n",
    "- $\\mathbf{a}$의 성분 : 시작점 $P$와 끝점 $Q$의 좌표차이 $a_1 = x_2 - x_1$, $a_2 = y_2 - y_1$, $a_3 = z_2 - z_1$ \n",
    "\n",
    "- 원점과 점 $Q$로 정의되는 벡터 : 위치벡터<sup>position vector</sup>\n",
    "\n",
    "- 따라서 공간상의 점은 위치벡터\n",
    "\n",
    "- 벡터의 길이 $\\lvert \\mathbf{a} \\rvert = \\sqrt{a_1^2 + a_2^2 + a_3^2}  $\n",
    "\n",
    "- 벡터의 합 : 두 벡터의 요소간의 합 $\\mathbf{a} + \\mathbf{b} = [a_1+b_1, a_2+b_2, a_3+b_3]$\n",
    "\n"
   ]
  },
  {
   "cell_type": "markdown",
   "metadata": {},
   "source": [
    "### 행렬과 벡터 요소의 인덱스\n",
    "\n",
    "- 인덱스 : 행렬, 벡터의 요소를 지정하기 위해 아래첨자로 사용하는 숫자\n",
    "\n",
    "- 0부터 시작하는 방식과 1부터 시작하는 방식이 있음\n",
    "\n",
    "- 수학 : 1부터 시작\n",
    "\n",
    "- 컴퓨터 공학 : 0부터 시작\n",
    "\n",
    "$$\n",
    "\\mathbf{v}= \\begin{bmatrix} 23 \\\\ 13 \\\\8 \\\\100 \\end{bmatrix} = \\begin{bmatrix} v_1 \\\\ v_2 \\\\ v_3 \\\\ v_4 \\end{bmatrix} = \\begin{bmatrix} v_0 \\\\ v_1 \\\\ v_2 \\\\ v_3 \\end{bmatrix}\n",
    "$$\n",
    "\n",
    "- 프로그램 언어는 수학 계산용 언어는 주로 1부터 시작, 범용 언어는 0부터 시작\n",
    "\n",
    "| 구분 | 언어 |\n",
    "|------------|------------|\n",
    "| 1부터 시작   | FORTRAN, Julia, MATLAB, Octave, ...  |\n",
    "| 0부터 시작 | Python, C/C++, Java, Javascript, ... |\n",
    "\n",
    "#### octave\n",
    "```Octave\n",
    ">> v = [10;11;12];\n",
    ">> v(0)\n",
    "error: v(0): subscripts must be either integers 1 to (2^31)-1 or logicals\n",
    ">> v(1)\n",
    "ans =  10\n",
    "```\n",
    "\n",
    "#### python\n",
    "```python\n",
    "In [1]: import numpy as np\n",
    "\n",
    "In [2]: v = np.array([10, 11, 12])\n",
    "\n",
    "In [3]: v[0]\n",
    "Out[3]: 10\n",
    "\n",
    "In [4]: v[1]\n",
    "Out[4]: 11\n",
    "\n",
    "In [5]:\n",
    "```\n"
   ]
  },
  {
   "cell_type": "markdown",
   "metadata": {},
   "source": [
    "### 벡터의 덧셈, 뺄셈\n",
    "\n",
    "- 벡터의 덧셈, 뺄셈은 요소끼리 덧셈, 뺄셈\n",
    "\n",
    "- 덧셈 : 두 벡터가 이루는 평행 사변형으로 계산\n",
    "\n",
    "- 뺄셈 : $a-b = a+(-b)$로 두고 덧셈과 동일하게 계산\n",
    "\n",
    "<img src=\"imgs/vec_plus_minus.png\" width=\"700\"/>"
   ]
  },
  {
   "cell_type": "markdown",
   "metadata": {
    "slideshow": {
     "slide_type": "subslide"
    }
   },
   "source": [
    "### 놈(노름)<sup>norm</sup>\n",
    "\n",
    "- 벡터의 길이 $\\lvert \\mathbf{a} \\rvert = \\sqrt{a_1^2 + a_2^2 + a_3^2}  $에 대한 일반적인 정의\n",
    "\n",
    "- 벡터 공간의 원소들에 일종의 '길이' 또는 '크기'를 부여하는 함수\n",
    "\n",
    "$$\n",
    "\\lVert \\mathbf{x} \\rVert_{p} = \\left( \\sum_{i=1}^{n} \\lvert x_i \\rvert^{p} \\right)^{1/p}\n",
    "$$\n",
    "\n",
    "- 두점 (0,0), (6,6)대한 \n",
    "\n",
    "- $p=1$, L1 놈,맨해튼 거리  : 요소의 절대값을 더함, |6|+|6|=12\n",
    "\n",
    "- $p=2$, L2 놈, 유클리드 놈 : 요소의 제곱을 더해서 루트 씌움, 두점 사이의 거리 $\\sqrt{6^2 + 6^2}=8.48...$\n",
    "\n",
    "\n",
    "<img  align=\"center\" src=\"imgs/Manhattan_distance.svg\">\n",
    "<h5 align=\"center\">https://en.wiktionary.org/wiki/Manhattan_distance : Public domain</h5>\n",
    "\n",
    "\n"
   ]
  },
  {
   "cell_type": "markdown",
   "metadata": {
    "slideshow": {
     "slide_type": "slide"
    }
   },
   "source": [
    "## 행렬, 벡터의 연산\n",
    "\n",
    "### 행렬과 벡터의 덧셈과 스칼라 곱셈\n",
    "\n",
    "#### 행렬의 동치\n",
    "\n",
    "- 두 행렬 $\\mathbf{A}$, $\\mathbf{B}$의 크기가 같고 같은 위치의 요소가 모두 같으면 두 행렬은 서로 같음.\n",
    "\n",
    "$$\n",
    "\\mathbf{A} = \\begin{bmatrix} a_{11} & a_{12} \\\\ a_{21} & a_{22}\\end{bmatrix} \\quad \n",
    "\\mathbf{B} = \\begin{bmatrix} 5 & 1 \\\\ 3 & -2 \\end{bmatrix}\n",
    "$$\n",
    "\n",
    "- 위 두 행렬에서 $a_{11}=5$, $a_{12}=1$, $a_{21}=3$, $a_{22}=-2$면 두 행렬은 같음."
   ]
  },
  {
   "cell_type": "markdown",
   "metadata": {
    "slideshow": {
     "slide_type": "subslide"
    }
   },
   "source": [
    "#### 행렬의 덧셈과 스칼라곱\n",
    "\n",
    "- 두 행렬의 크기가 같을 때 $\\mathbf{A} + \\mathbf{B}$는 같은 위치 요소의 덧셈을 의미\n",
    "\n",
    "$$\n",
    "\\mathbf{A} = \\begin{bmatrix} 3 & 1 \\\\ 10 &  12\\end{bmatrix} \\quad \n",
    "\\mathbf{B} = \\begin{bmatrix} 5 & 1 \\\\ 3 & -2 \\end{bmatrix}\n",
    "$$\n",
    "\n",
    "$$\n",
    "\\mathbf{A} +  \\mathbf{B} = \\begin{bmatrix} 8 & 2 \\\\ 13 &  10\\end{bmatrix}\n",
    "$$\n",
    "\n",
    "\n",
    "- 따라서 크기가 다른 행렬은 덧셈 불가능\n",
    "\n",
    "- 행렬에 대한 스칼라 곱은 각 요소에 스칼라를 곱하는 것\n",
    "\n",
    "- 예\n",
    "\n",
    "$$\n",
    "\\begin{bmatrix} 8 & 2 \\\\ 16 &  10\\end{bmatrix} \\times \\frac{1}{2} + 3 \\times \\begin{bmatrix} 1 & 1 \\\\ 3 &  4\\end{bmatrix} = \\begin{bmatrix} 4 & 1 \\\\ 8 &  5\\end{bmatrix} + \\begin{bmatrix} 3 & 3 \\\\ 9 &  12\\end{bmatrix} = \\begin{bmatrix} 7 & 4 \\\\ 17 &  17\\end{bmatrix}\n",
    "$$"
   ]
  },
  {
   "cell_type": "code",
   "execution_count": 3,
   "metadata": {},
   "outputs": [
    {
     "name": "stdout",
     "output_type": "stream",
     "text": [
      "[[ 7.  4.]\n",
      " [17. 17.]]\n"
     ]
    }
   ],
   "source": [
    "A = np.asarray([8,2,16,10]).reshape(2,2)\n",
    "B = np.asarray([1,1,3,4]).reshape(2,2)\n",
    "\n",
    "print(A*(1/2) + 3*B)"
   ]
  },
  {
   "cell_type": "markdown",
   "metadata": {
    "slideshow": {
     "slide_type": "subslide"
    }
   },
   "source": [
    "- 일반적인 성질\n",
    "\n",
    "$$\n",
    "\\begin{align}\n",
    "\\mathbf{A} + \\mathbf{B} &= \\mathbf{B} + \\mathbf{A} \\\\[5pt]\n",
    "(\\mathbf{A} + \\mathbf{B})+ \\mathbf{C} &= \\mathbf{A} + (\\mathbf{B}+ \\mathbf{C}) \\\\[5pt]\n",
    "\\mathbf{A} + \\mathbf{0} &= \\mathbf{A} \\\\[5pt]\n",
    "\\mathbf{A} + (-\\mathbf{A}) & = \\mathbf{0} \\\\[5pt]\n",
    "c(\\mathbf{A} + \\mathbf{B}) &= c\\mathbf{A} + c\\mathbf{B} \\\\[5pt]\n",
    "(c+k)\\mathbf{A} &= c\\mathbf{A} + k\\mathbf{A} \\\\[5pt]\n",
    "c(k\\mathbf{A}) &= (ck)\\mathbf{A} \\\\[5pt]\n",
    "1\\mathbf{A} &= \\mathbf{A}\n",
    "\\end{align}\n",
    "$$"
   ]
  },
  {
   "cell_type": "markdown",
   "metadata": {
    "slideshow": {
     "slide_type": "subslide"
    }
   },
   "source": [
    "#### 단위벡터\n",
    "\n",
    "- 크기가 1인 벡터\n",
    "\n",
    "- Normailize : 벡터를 벡터의 크기로 나눔\n",
    "\n",
    "$$\n",
    "\\hat{\\mathbf{u}} = \\frac{\\mathbf{u}}{\\lvert \\mathbf{u} \\rvert}\n",
    "$$\n",
    "\n",
    "\n",
    "<table border=\"0\">\n",
    "<tr>\n",
    "<td>\n",
    "<img src=\"imgs/unit_vector1.png\"/>\n",
    "</td>\n",
    "<td>\n",
    "<img src=\"imgs/unit_vector2.png\"/>\n",
    "</td>\n",
    "</tr>\n",
    "<tr>\n",
    "<td colspan=\"2\">https://en.wikipedia.org/wiki/Unit_vector : CC BY-SA 4.0</td>\n",
    "</tr>\n",
    "</table>\n",
    "\n"
   ]
  },
  {
   "cell_type": "markdown",
   "metadata": {
    "slideshow": {
     "slide_type": "slide"
    }
   },
   "source": [
    "### 행렬의 곱셈\n",
    "- $m \\times n$행렬 $\\mathbf{A}$와 $r \\times p$행렬 $\\mathbf{B}$의 곱 $\\mathbf{C} = \\mathbf{AB}$는 $r=n$일 때 다음과 같이\n",
    "$m \\times p$행렬에 의해 정의\n",
    "\n",
    "<img src=\"imgs/matrix-product2.png\" width=\"550\" />\n",
    "\n",
    "$$\n",
    "c_{jk} = \\sum_{l=1}^{n} a_{jl}b_{lk} = a_{j1}b_{1k} + a_{j2}b_{2k} + \\cdots + a_{jn}b_{nk} \\\\\n",
    "j = 1, \\cdots, m \\\\\n",
    "k = 1, \\cdots, p \n",
    "$$\n",
    "\n",
    "$$\n",
    "\\begin{matrix}\n",
    "\\mathbf{A} & \\mathbf{B} & = & \\mathbf{C} \\\\\n",
    "[m \\times n] & [n \\times p] && [m \\times p]\n",
    "\\end{matrix}\n",
    "$$\n",
    "\n",
    "- 위처럼 서로 인접한 인덱스가 항상 같아야 곱셈이 성립\n",
    "\n",
    "<img src=\"imgs/matrix-product.png\" width=\"450\" />\n",
    "\n",
    "- 따라서 $\\mathbf{BA}$는 정의되지 않고 일반적으로 $\\mathbf{AB} \\neq \\mathbf{BA}$\n",
    "\n",
    "$$\n",
    "\\begin{bmatrix} 1 & 2 \\\\ 23 & 43 \\\\ 56 & 32 \\\\ 41 & 55 \\end{bmatrix} \\begin{bmatrix} 11 & 12 & 13 \\\\21 & 22 & 23 \\end{bmatrix} = \\begin{bmatrix} 1\\cdot11 + 2\\cdot21 & 1\\cdot12+2\\cdot22 &  1\\cdot13+2\\cdot23 \\\\ \n",
    "23\\cdot11 + 43\\cdot21 & 23\\cdot12+43\\cdot22 &  23\\cdot13+43\\cdot23 \\\\\n",
    "56\\cdot11 + 32\\cdot21 & 56\\cdot12+32\\cdot22 &  56\\cdot13+32\\cdot23 \\\\\n",
    "41\\cdot11 + 55\\cdot21 & 41\\cdot12+55\\cdot22 &  41\\cdot13+55\\cdot23\n",
    "\\end{bmatrix}\n",
    "$$\n",
    "\n",
    "- 다음은 정의되지 않음\n",
    "\n",
    "$$\n",
    "\\begin{bmatrix} 11 & 12 & 13 \\\\21 & 22 & 23 \\end{bmatrix} \\begin{bmatrix} 1 & 2 \\\\ 23 & 43 \\\\ 56 & 32 \\\\ 41 & 55 \\end{bmatrix} \n",
    "$$"
   ]
  },
  {
   "cell_type": "markdown",
   "metadata": {},
   "source": [
    "#### Numpy array multiplication is not matrix multiplication<sup>[scipy-lecture]</sup>\n",
    "\n",
    "- numpy ndarray간의 곱은 요소간의 직접적인 곱이며 행렬곱이 아님\n",
    "\n",
    "- 행렬곱을 하려면 `numpy.dot() ` 또는 ` numpy.matrix ` 객체를 이용해야함\n",
    "\n",
    "- 주로 ` numpy.dot()` 이용"
   ]
  },
  {
   "cell_type": "code",
   "execution_count": 4,
   "metadata": {},
   "outputs": [
    {
     "name": "stdout",
     "output_type": "stream",
     "text": [
      "numpy array multiplication\n",
      "[[1. 1. 1.]\n",
      " [1. 1. 1.]\n",
      " [1. 1. 1.]]\n",
      "\n",
      "\n",
      "numpy dot function\n",
      "[[3. 3. 3.]\n",
      " [3. 3. 3.]\n",
      " [3. 3. 3.]]\n",
      "\n",
      "\n",
      "numpy matrix multiplication\n",
      "[[3. 3. 3.]\n",
      " [3. 3. 3.]\n",
      " [3. 3. 3.]]\n"
     ]
    }
   ],
   "source": [
    "c = np.ones((3, 3))\n",
    "C = np.matrix(c)\n",
    "\n",
    "print(\"numpy array multiplication\")\n",
    "print(c*c)\n",
    "print(\"\\n\")\n",
    "\n",
    "print(\"numpy dot function\")\n",
    "print(c.dot(c))\n",
    "print(\"\\n\")\n",
    "\n",
    "print(\"numpy matrix multiplication\")\n",
    "print(C*C)"
   ]
  },
  {
   "cell_type": "markdown",
   "metadata": {},
   "source": [
    "```python\n",
    "A = np.asarray([1, 2, 23, 43, 56, 32, 41, 55]).reshape(4,2)\n",
    "B = np.asarray([11, 12, 13, 21, 22, 23]).reshape(2,3)\n",
    "C = np.dot(A,B)\n",
    "print(C)\n",
    "\n",
    "# 정의되지 않는다.\n",
    "C = np.dot(B,A)\n",
    "\n",
    "[[  53   56   59]\n",
    " [1156 1222 1288]\n",
    " [1288 1376 1464]\n",
    " [1606 1702 1798]]\n",
    "\n",
    "---------------------------------------------------------------------------\n",
    "ValueError                                Traceback (most recent call last)\n",
    "<ipython-input-5-143337631864> in <module>()\n",
    "      5 \n",
    "      6 # 정의되지 않는다.\n",
    "----> 7 C = np.dot(B,A)\n",
    "\n",
    "ValueError: shapes (2,3) and (4,2) not aligned: 3 (dim 1) != 4 (dim 0)\n",
    "\n",
    "\n",
    "```"
   ]
  },
  {
   "cell_type": "markdown",
   "metadata": {
    "slideshow": {
     "slide_type": "slide"
    }
   },
   "source": [
    "#### 행렬과 벡터의 곱\n",
    "\n",
    "$$\n",
    "\\begin{bmatrix} 2 & 2 \\\\ 3 & 8 \\\\ 1 & 1 \\\\ 0 & 1 \\end{bmatrix} \\begin{bmatrix} 3 \\\\ 5 \\end{bmatrix} = \n",
    "\\begin{bmatrix} 2 \\cdot 3 + 2 \\cdot 5 \\\\ 3 \\cdot 3 + 8 \\cdot 5 \\\\ 1\\cdot3 + 1\\cdot5 \\\\ 0\\cdot3 + 1\\cdot5\\end{bmatrix} = \\begin{bmatrix} 16 \\\\ 49 \\\\8 \\\\ 5\\end{bmatrix}\n",
    "$$\n",
    "\n",
    "- 위 행렬과 벡터의 곱은 왼쪽 행렬의 첫번째 열 $[2 \\, 3 \\, 1 \\, 0]^{\\text{T}}$을 3배, 두번째 열 $[2 \\, 8 \\, 1 \\, 1]^{\\text{T}}$을 5배하여 서로 더한 결과\n",
    "\n",
    "- 따라서 행렬곱의 결과를 왼쪽 행렬의 열을 오른쪽 행렬의 열에 있는 숫자 만큼 배수를 취하여 서로 섞은(더한) 벡터라고 볼 수 있음.\n",
    "\n",
    "- 다음은 정의되지 않음\n",
    "\n",
    "$$\n",
    "\\begin{bmatrix} 3 \\\\ 15 \\end{bmatrix} \\begin{bmatrix}4 & 2 \\\\ 1 & 8 \\end{bmatrix} \n",
    "$$\n",
    "\n",
    "- 행렬과 벡터의 곱을 위와 같이 앞 행렬의 열에 혼합으로 생각한다면 행렬과 행렬의 곱을 다음처럼 생각해 볼 수 도 있다.\n",
    "\n",
    "$$\n",
    "\\begin{align}\n",
    "\\mathbf{A}\\mathbf{B} &= \\mathbf{A} \\begin{bmatrix} \\color{RoyalBlue}{\\mathbf{b}_1} & \\color{OrangeRed}{\\mathbf{b}_2} & \\color{Goldenrod}{\\mathbf{b}_3} \\end{bmatrix} \\\\[5pt]\n",
    "&= \\begin{bmatrix} 1 & 2 \\\\ 23 & 43 \\\\ 56 & 32 \\\\ 41 & 55 \\end{bmatrix} \\begin{bmatrix} \\color{RoyalBlue}{11} & \\color{OrangeRed}{12} & \\color{Goldenrod}{13} \\\\ \\color{RoyalBlue}{21} & \\color{OrangeRed}{22} & \\color{Goldenrod}{23} \\end{bmatrix} = \\begin{bmatrix} 1 \\cdot \\color{RoyalBlue}{11} + 2 \\cdot \\color{RoyalBlue}{21} & 1 \\cdot \\color{OrangeRed}{12}+2 \\cdot \\color{OrangeRed}{22} &  1\\cdot \\color{Goldenrod}{13} + 2\\cdot \\color{Goldenrod}{23}  \\\\ \n",
    "23 \\cdot \\color{RoyalBlue}{11} + 43\\cdot\\color{RoyalBlue}{21} & 23\\cdot\\color{OrangeRed}{12}+43 \\cdot \\color{OrangeRed}{22} &  23\\cdot \\color{Goldenrod}{13} + 43\\cdot \\color{Goldenrod}{23}  \\\\\n",
    "56 \\cdot \\color{RoyalBlue}{11} + 32\\cdot\\color{RoyalBlue}{21} & 56\\cdot \\color{OrangeRed}{12} +32 \\cdot \\color{OrangeRed}{22} &  56\\cdot \\color{Goldenrod}{13} + 32\\cdot \\color{Goldenrod}{23}  \\\\\n",
    "41 \\cdot \\color{RoyalBlue}{11} + 55\\cdot\\color{RoyalBlue}{21} & 41\\cdot \\color{OrangeRed}{12} +55 \\cdot \\color{OrangeRed}{22} &  41\\cdot \\color{Goldenrod}{13} + 55\\cdot \\color{Goldenrod}{23} \n",
    "\\end{bmatrix} \\\\[5pt]\n",
    "&= \\begin{bmatrix} \\mathbf{A}\\color{RoyalBlue}{\\mathbf{b}_1} & \\mathbf{A}\\color{OrangeRed}{\\mathbf{b}_2} & \\mathbf{A}\\color{Goldenrod}{\\mathbf{b}_3} \\end{bmatrix}\n",
    "\\end{align}\n",
    "$$\n"
   ]
  },
  {
   "cell_type": "code",
   "execution_count": 12,
   "metadata": {},
   "outputs": [
    {
     "name": "stdout",
     "output_type": "stream",
     "text": [
      "[[16]\n",
      " [49]\n",
      " [ 8]\n",
      " [ 5]]\n",
      "[16 49  8  5]\n",
      "[16 49  8  5]\n"
     ]
    }
   ],
   "source": [
    "A = np.asarray([2, 2, 3, 8, 1, 1, 0, 1]).reshape(4,2)\n",
    "b = np.asarray([3,5]).reshape(2,1)\n",
    "C = np.dot(A,b)\n",
    "\n",
    "print(C)\n",
    "\n",
    "# 각 열에 뒤에서 곱하는 벡터의 요소배 하여 더한 것과도 결과가 같다.\n",
    "print(A[:,0]*b[0] + A[:,1]*b[1])\n",
    "print( (A*b.reshape(-1)).sum(axis=1) )"
   ]
  },
  {
   "cell_type": "markdown",
   "metadata": {
    "slideshow": {
     "slide_type": "slide"
    }
   },
   "source": [
    "#### 행벡터와 열벡터의 곱\n",
    "\n",
    "- 행벡터와 열벡터의 곱\n",
    "\n",
    "- 이런 연산을 벡터의 내적 이라고 도 함\n",
    "\n",
    "\n",
    "$$\n",
    "\\begin{bmatrix} 3 & 6 & 1 \\end{bmatrix} \\begin{bmatrix} 1 \\\\ 2 \\\\ 4 \\end{bmatrix} = [19]\n",
    "$$\n",
    "\n",
    "#### 내적<sup>inner product, dot product</sup> \n",
    "\n",
    "- 두 벡터의 내적 또는 점적은 두 벡터의 사이각의 코사인값과 두 벡터의 크기의 곱으로 정의\n",
    "\n",
    "$$\n",
    "\\begin{align}\n",
    "\\mathbf{a} \\cdot \\mathbf{b} &= \\lvert \\mathbf{a} \\rvert \\lvert \\mathbf{b} \\rvert \\cos \\gamma\n",
    "\\end{align}\n",
    "$$\n",
    "\n",
    "<img src=\"imgs/innerprod.png\" width=\"600\"/>\n",
    "\n",
    "\n",
    "\n",
    "#### 내적의 성질\n",
    "\n",
    "$$\n",
    "\\begin{align}\n",
    "(q_1 \\mathbf{a} + q_2 \\mathbf{b}) \\cdot \\mathbf{c} = q_1 \\mathbf{a} \\cdot \\mathbf{c} + q_2 \\mathbf{b} \\cdot \\mathbf{c} \\quad &\\text{Linearity} \\\\[5pt]\n",
    "\\mathbf{a} \\cdot \\mathbf{b} =  \\mathbf{b} \\cdot \\mathbf{a} \\quad &\\text{Symmetry}\\\\[5pt]\n",
    "(\\mathbf{a}+\\mathbf{b}) \\cdot \\mathbf{c}= \\mathbf{a}\\cdot\\mathbf{c} + \\mathbf{b}\\cdot\\mathbf{c}  \\quad  &\\text{Distributivity} \n",
    "\\end{align}\n",
    "$$"
   ]
  },
  {
   "cell_type": "markdown",
   "metadata": {},
   "source": [
    "#### 벡터의 단위 기저벡터 형식 표현<sup>$\\dagger$</sup>\n",
    "\n",
    "- $\\mathbf{i}$, $\\mathbf{j}$, $\\mathbf{k}$ : 카르테시안 좌표계<sup>Cartesian coordinate system</sup>에서 각 축의 양의 방향으로 향하는 단위벡터\n",
    "\n",
    "<img src=\"imgs/certesian-unit.png\" width=\"350\"/>\n",
    "\n",
    "$$\n",
    "\\mathbf{a}  = a_1 \\mathbf{i} + a_2 \\mathbf{j} + a_3 \\mathbf{k} \\\\[5pt]\n",
    "\\mathbf{b}  = b_1 \\mathbf{i} + b_2 \\mathbf{j} + b_3 \\mathbf{k} \n",
    "$$\n",
    "\n",
    "- 기저벡터 형식으로 쓰고 내적의 분배법칙을 적용하면\n",
    "\n",
    "$$\n",
    "\\begin{align}\n",
    "\\mathbf{a} \\cdot \\mathbf{b} \n",
    "&= (a_1 \\mathbf{i} + a_2 \\mathbf{j} + a_3 \\mathbf{k}) \\cdot ( b_1 \\mathbf{i} + b_2 \\mathbf{j} + b_3 \\mathbf{k}) \\\\[5pt]\n",
    "&= \\quad a_1 b_1 \\mathbf{i} \\cdot \\mathbf{i} + a_2 b_1 \\mathbf{j} \\cdot \\mathbf{i} + a_3 b_1 \\mathbf{k} \\cdot \\mathbf{i} \\\\[5pt]\n",
    "&+ \\quad a_1 b_2 \\mathbf{i} \\cdot \\mathbf{j} + a_2 b_2 \\mathbf{j} \\cdot \\mathbf{j} + a_3 b_2 \\mathbf{k} \\cdot \\mathbf{j} \\\\[5pt]\n",
    "&+ \\quad a_1 b_3 \\mathbf{i} \\cdot \\mathbf{k} + a_2 b_3 \\mathbf{j} \\cdot \\mathbf{k} + a_3 b_3 \\mathbf{k} \\cdot \\mathbf{k} \n",
    "\\end{align}\n",
    "$$\n",
    "\n",
    "- 여기서 $\\mathbf{i} \\cdot \\mathbf{i} = \\lvert \\mathbf{i} \\rvert^2 = 1$이고 $\\mathbf{j}$, $\\mathbf{k}$에 대해서도 마찬가지\n",
    "\n",
    "- 또한 $\\mathbf{i} \\cdot \\mathbf{j}$등 서로 다른 단위벡터의 내적은 0\n",
    "\n",
    "- 따라서 \n",
    "\n",
    "$$\n",
    "\\mathbf{a} \\cdot \\mathbf{b} = a_1 b_1 + a_2 b_2 + a_3 b_3 \\qquad \\mathbf{a} = (a_1, a_2, a_3), \\mathbf{b} = (b_1, b_2, b_3)\n",
    "$$\n",
    "\n"
   ]
  },
  {
   "cell_type": "markdown",
   "metadata": {
    "slideshow": {
     "slide_type": "slide"
    }
   },
   "source": [
    "#### 행렬곱의 일반적인 성질\n",
    "\n",
    "$$\n",
    "\\begin{align}\n",
    "(k\\mathbf{A})\\mathbf{B} &= k(\\mathbf{AB}) \\\\[5pt]\n",
    "\\mathbf{A}(\\mathbf{B}\\mathbf{C}) &= (\\mathbf{A}\\mathbf{B})\\mathbf{C} \\\\[5pt]\n",
    "(\\mathbf{A} + \\mathbf{B})\\mathbf{C} &= \\mathbf{A}\\mathbf{C}+\\mathbf{B}\\mathbf{C} \\\\[5pt]\n",
    "\\mathbf{C}(\\mathbf{A} + \\mathbf{B}) &= \\mathbf{C}\\mathbf{A}+\\mathbf{C}\\mathbf{B} \n",
    "\\end{align}\n",
    "$$\n",
    "\n",
    "- **교환법칙은 성립하지 않음**\n",
    "\n",
    "#### 행렬곱 연산의 인덱스 표현, 아인슈타인 표기법<sup>Einstein summation convention</sup>\n",
    "\n",
    "- $\\mathbf{c} =  \\mathbf{Ab}$, $\\mathbf{C} =  \\mathbf{AB}$ 일때 \n",
    "\n",
    "$$\n",
    "\\mathbf{c}_{i} = \\sum_j \\mathbf{A}_{ij}\\mathbf{b}_{j}, \\qquad \\mathbf{c}_{i} = \\mathbf{A}_{ij}\\mathbf{b}_{j} \\quad \\text{i : free index} \\quad \\text{j : dummy index}\n",
    "$$\n",
    "\n",
    "$$\n",
    "\\mathbf{C}_{ij} = \\sum_k \\mathbf{A}_{ik}\\mathbf{B}_{kj}, \\qquad \\mathbf{C}_{ij} = \\mathbf{A}_{ik}\\mathbf{B}_{kj} \\quad \\text{i,j : free index} \\quad \\text{k : dummy index}\n",
    "$$\n",
    "\n",
    "- 더미인덱스는 어떤 인덱스로 바꿔도 상관없음. 중요한것은 프리인덱스"
   ]
  },
  {
   "cell_type": "markdown",
   "metadata": {
    "slideshow": {
     "slide_type": "subslide"
    }
   },
   "source": [
    "#### 선형변환 관점에서 본 행렬 곱셈의 유래<sup>$\\dagger$</sup>\n",
    "\n",
    "$$\n",
    "y_1 = a_{11} x_1 + a_{12}x_2 \\\\\n",
    "y_2 = a_{21} x_1 + a_{22}x_2\n",
    "$$\n",
    "\n",
    "- 위 식은 어떤 $(x_1, x_2)$ 벡터를 적당히 곱하고 더하고 해서 $(y_1, y_2)$로 변환 시키는 과정\n",
    "\n",
    "- 또는 $(y_1, y_2)$가 정해져 있다면 2원 1차 연립방정식이라고 볼 수 있다.\n",
    "\n",
    "- 위 연립방정식을 숫자만으로 나타낼 수 없을까?\n",
    "\n",
    "- 앞서 \"선형연립방정식의 표현\" 이미 이야기한것과 같이 다음처럼 계수 행렬을 만들면\n",
    "\n",
    "$$ \n",
    "\\begin{bmatrix} a_{11} & a_{12} \\\\ a_{21} & a_{22} \\end{bmatrix}\n",
    "$$\n",
    "\n",
    "- 이 계수행렬로 부터 다시 연립방정식의 우변항을 만들어 낼려면 변수벡터를 행렬곱 형식으로 곱하면 된다.\n",
    "\n",
    "- 일단 행렬곱 형식을 인정하고 이를 행렬-벡터형태로 써보면\n",
    "\n",
    "$$\n",
    "\\mathbf{y} = \\begin{bmatrix} y_1 \\\\ y_2 \\end{bmatrix} = \\mathbf{Ax} = \n",
    "\\begin{bmatrix} a_{11} & a_{12} \\\\ a_{21} & a_{22} \\end{bmatrix}\n",
    "\\begin{bmatrix} x_1 \\\\ x_2 \\end{bmatrix} = \n",
    "\\begin{bmatrix} a_{11}x_1+a_{12}x_2 \\\\ a_{21}x_1+a_{22}x_2 \\end{bmatrix} \\tag{1}\n",
    "$$\n",
    "\n",
    "- $\\mathbf{x}$가 $\\mathbf{w}$로 부터 다시 변환된다고 하면\n",
    "\n",
    "$$\n",
    "\\mathbf{x} = \\begin{bmatrix} x_1 \\\\ x_2 \\end{bmatrix} = \\mathbf{Bw} = \n",
    "\\begin{bmatrix} b_{11} & b_{12} \\\\ b_{21} & b_{22} \\end{bmatrix}\n",
    "\\begin{bmatrix} w_1 \\\\ w_2 \\end{bmatrix} = \n",
    "\\begin{bmatrix} b_{11}w_1+b_{12}w_2 \\\\ b_{21}w_1+b_{22}w_2 \\end{bmatrix} \\tag{2}\n",
    "$$\n",
    "\n",
    "- 즉 다음처럼 순차적으로 선형변환이 일어난다.\n",
    "\n",
    "$$\n",
    "\\mathbf{w} \\to \\mathbf{x} \\to \\mathbf{y}\n",
    "$$\n",
    "\n",
    "- $\\mathbf{w}$에서 $\\mathbf{y}$로의 변환을 생각해보면\n",
    "\n",
    "$$\n",
    "\\mathbf{y} = \\mathbf{Cw} = \\begin{bmatrix} c_{11} & c_{12} \\\\ c_{21} & c_{22} \\end{bmatrix}\n",
    "\\begin{bmatrix} w_1 \\\\ w_2 \\end{bmatrix}=\n",
    "\\begin{bmatrix} c_{11}w_1+c_{12}w_2 \\\\ c_{21}w_1+c_{22}w_2 \\end{bmatrix}\n",
    "$$\n",
    "\n",
    "- 로 어떤 계수행렬 $\\mathbf{C}$가 있을 수 있다.\n",
    "\n",
    "$$\n",
    "\\begin{align}\n",
    "\\mathbf{y} &= \\begin{bmatrix} y_1 \\\\ y_2 \\end{bmatrix} = \\mathbf{Ax} \\\\[5pt]\n",
    "&=\\begin{bmatrix} a_{11} & a_{12} \\\\ a_{21} & a_{22} \\end{bmatrix}\n",
    "\\begin{bmatrix} b_{11}w_1+b_{12}w_2 \\\\ b_{21}w_1+b_{22}w_2 \\end{bmatrix} \\qquad \\because (2) \\\\[5pt]\n",
    "&= \\begin{bmatrix} a_{11}(b_{11}w_1 + b_{12}w_2) + a_{12}(b_{21}w_1 + b_{22}w_2) \\\\ \n",
    "a_{21}(b_{11}w_1 + b_{12}w_2) + a_{22}(b_{21}w_1 + b_{22}w_2) \\end{bmatrix} \\\\[5pt]\n",
    "&= \\begin{bmatrix} (a_{11}b_{11} + a_{12}b_{21})w_1 + (a_{11}b_{12}+a_{12}b_{22})w_2 \\\\\n",
    "(a_{21}b_{11} + a_{22}b_{21})w_1 + (a_{21}b_{12} + a_{22}b_{22})w_2\n",
    "\\end{bmatrix} \\\\[5pt]\n",
    "&= \\begin{bmatrix} (a_{11}b_{11} + a_{12}b_{21}) & (a_{11}b_{12}+a_{12}b_{22}) \\\\\n",
    "(a_{21}b_{11} + a_{22}b_{21}) & (a_{21}b_{12} + a_{22}b_{22})\n",
    "\\end{bmatrix}\n",
    "\\begin{bmatrix} w_1 \\\\ w_2 \\end{bmatrix} \\\\[5pt]\n",
    "&= \\begin{bmatrix} a_{11} & a_{12} \\\\ a_{21} & a_{22} \\end{bmatrix} \\begin{bmatrix} b_{11} & b_{12} \\\\ b_{21} & b_{22} \\end{bmatrix}\\begin{bmatrix} w_1 \\\\ w_2 \\end{bmatrix} \\\\[5pt]\n",
    "&= \\mathbf{AB} \\mathbf{w} = \\mathbf{C}\\mathbf{w}\n",
    "\\end{align}\n",
    "$$\n",
    "\n",
    "- 두 변환을 한꺼번에 수행하는 변환은 각 변환의 행렬곱으로 표현된다.\n",
    "\n"
   ]
  },
  {
   "cell_type": "markdown",
   "metadata": {
    "slideshow": {
     "slide_type": "slide"
    }
   },
   "source": [
    "### 행렬의 전치<sup>transpose</sup>\n",
    "\n",
    "- 주어진 행렬의 행을 열로, 열을 행으로 이동\n",
    "\n",
    "- $\\mathbf{A}^{\\text{T}}$로 표시\n",
    "\n",
    "$$\n",
    "\\mathbf{A} = \\begin{bmatrix} 5 & -8 & 1 \\\\ 4 & 0 & 3 \\end{bmatrix}\n",
    "$$\n",
    "\n",
    "$$\n",
    "\\mathbf{A}^{\\text{T}} =  \\begin{bmatrix} 5 & 4 \\\\ -8 & 0 \\\\ 1 & 3 \\end{bmatrix}\n",
    "$$\n",
    "\n",
    "$$\n",
    "\\begin{align}\n",
    "\\left(\\mathbf{A}^{\\text{T}}\\right)^{\\text{T}} &= \\mathbf{A} \\\\[5pt]\n",
    "\\left(\\mathbf{A}+\\mathbf{B}\\right)^{\\text{T}} &= \\mathbf{A}^{\\text{T}} + \\mathbf{B}^{\\text{T}} \\\\[5pt]\n",
    "\\left(c\\mathbf{A}\\right)^{\\text{T}} &= c \\mathbf{A}^{\\text{T}} \\\\[5pt]\n",
    "\\left( \\mathbf{A} \\mathbf{B} \\right)^{\\text{T}} &= \\mathbf{B}^{\\text{T}} \\mathbf{A}^{\\text{T}}\n",
    "\\end{align}\n",
    "$$"
   ]
  },
  {
   "cell_type": "code",
   "execution_count": 6,
   "metadata": {},
   "outputs": [
    {
     "name": "stdout",
     "output_type": "stream",
     "text": [
      "[[ 5  4]\n",
      " [-8  0]\n",
      " [ 1  3]]\n",
      "[[17 18]\n",
      " [ 5 28]]\n",
      "[[17 18]\n",
      " [ 5 28]]\n"
     ]
    }
   ],
   "source": [
    "A = np.asarray([5, -8, 1, 4, 0, 3]).reshape(2,3)\n",
    "print(A.T)\n",
    "\n",
    "B = np.asarray([3, 1, 0, 1, 2, 8]).reshape(3,2)\n",
    "print(np.dot(A,B).T)\n",
    "\n",
    "print(np.dot(B.T, A.T))"
   ]
  },
  {
   "cell_type": "markdown",
   "metadata": {},
   "source": [
    "### 행렬의 대각합<sup>trace</sup>\n",
    "\n",
    "$$\n",
    "\\text{tr}(\\mathbf{A}) = \\sum_{i=1}^{n} a_{ii} = a_{11} + a_{22} + \\cdots + a_{nn}\n",
    "$$\n",
    "\n",
    "- 성질\n",
    "\n",
    "$$\n",
    "\\text{tr}(\\mathbf{A} + \\mathbf{B}) = \\text{tr}(\\mathbf{A}) + \\text{tr}(\\mathbf{b})\n",
    "$$\n",
    "\n",
    "$$\n",
    "\\text{tr}(c\\mathbf{A})  = c\\,\\text{tr}(\\mathbf{A})\n",
    "$$\n",
    "\n",
    "$$\n",
    "\\text{tr}(\\mathbf{A}) = \\text{tr}\\left(\\mathbf{A}^{\\text{T}} \\right)\n",
    "$$\n",
    "\n",
    "$$\n",
    "\\text{tr}(\\mathbf{AB}) = \\text{tr}(\\mathbf{BA})\n",
    "$$"
   ]
  },
  {
   "cell_type": "markdown",
   "metadata": {
    "slideshow": {
     "slide_type": "slide"
    }
   },
   "source": [
    "### 특별한 행렬들\n",
    "\n",
    "#### 단위행렬<sup>unit, identity matrix</sup>\n",
    "\n",
    "- 대각 성분이 모두 1인 $n \\times n$ 정사각 행렬, $\\mathbf{I}_{n}$, $\\mathbf{I}$\n",
    "\n",
    "- $\\mathbf{AI} = \\mathbf{IA} = \\mathbf{A}$ \n",
    "\n",
    "\n",
    "$$\n",
    "\\mathbf{I} = \\begin{bmatrix} 1 & 0 & 0 \\\\ 0 & 1 & 0 \\\\ 0 & 0 & 1\\end{bmatrix}\n",
    "$$\n",
    "\n",
    "#### 대각행렬<sup>diagonal matrix</sup>\n",
    "\n",
    "- 대각선상에서만 0이 아닌 성분을 가진 $n \\times n$  정사각 행렬\n",
    "\n",
    "$$\n",
    "\\mathbf{D} = \\begin{bmatrix} 2 & 0 & 0 \\\\ 0 & -3 & 0 \\\\ 0 & 0 & 0 \\end{bmatrix}\n",
    "$$\n",
    "\n",
    "\n",
    "\n",
    "#### 대칭행렬<sup>symmetric matrix</sup>\n",
    "\n",
    "- 정사각행렬에 대해서 $ \\mathbf{S}^{\\text{T}} = \\mathbf{S} $, 따라서 $s_{kj} = s_{jk}$인 행렬\n",
    "\n",
    "$$\n",
    "\\mathbf{S} = \\begin{bmatrix}\n",
    "10 & 20 & 100 \\\\ 20 & 10 & 120 \\\\ 100 & 120 & 20\n",
    "\\end{bmatrix}\n",
    "$$\n",
    "\n"
   ]
  },
  {
   "cell_type": "markdown",
   "metadata": {
    "slideshow": {
     "slide_type": "slide"
    }
   },
   "source": [
    "### 역행렬\n",
    "\n",
    "- $n \\times n$행렬 $\\mathbf{A}$의 역행렬은 $\\mathbf{A}^{-1}$로 표시하며 다음을 만족시킨다.\n",
    "$$\n",
    "\\mathbf{AA}^{-1} = \\mathbf{A}^{-1}\\mathbf{A} = \\mathbf{I}\n",
    "$$\n",
    "\n",
    "- 역행렬을 가지면 $\\mathbf{A}$는 정칙행렬<sup>nonsingular matrix</sup>, 역행렬이 없으면 특이행렬<sup>singular matrix</sup>\n",
    "\n",
    "- 대부분의 언어에는 역행렬을 구하는 선형대수 라이브러리가 준비되어 있다. ```python numpy.linalg.inv() ```\n"
   ]
  },
  {
   "cell_type": "markdown",
   "metadata": {
    "slideshow": {
     "slide_type": "subslide"
    }
   },
   "source": [
    "#### 역행렬을 이용한 선형 연립방정식의 해\n",
    "\n",
    "$$\n",
    "\\begin{align}\n",
    "\\mathbf{A}\\mathbf{x} &= \\mathbf{b} \\\\[5pt]\n",
    "\\mathbf{A}^{-1} \\mathbf{A} \\mathbf{x} &= \\mathbf{A}^{-1} \\mathbf{b} \\\\[5pt]\n",
    " \\mathbf{x} &= \\mathbf{A}^{-1} \\mathbf{b}\n",
    "\\end{align}\n",
    "$$\n",
    "\n",
    "$$\n",
    "\\begin{matrix}\n",
    "2x_1  & + & 1x_2 & = & 3 \\\\\n",
    "-6x_1 & + & 3x_2 & = & -27\n",
    "\\end{matrix}  \\Rightarrow\n",
    "\\begin{bmatrix}\n",
    "2 & 1  \\\\\n",
    "-6 & 3\n",
    "\\end{bmatrix}\n",
    "\\begin{bmatrix}\n",
    "x_1 \\\\ x_2\n",
    "\\end{bmatrix}=\n",
    "\\begin{bmatrix}\n",
    "3\\\\ -27\n",
    "\\end{bmatrix}\n",
    "$$\n",
    "\n",
    "$$\n",
    "\\begin{bmatrix}\n",
    "x_1 \\\\ x_2\n",
    "\\end{bmatrix}=\n",
    "\\begin{bmatrix}\n",
    "2 & 1  \\\\\n",
    "-6 & 3\n",
    "\\end{bmatrix}^{-1}\n",
    "\\begin{bmatrix}\n",
    "3\\\\ -27\n",
    "\\end{bmatrix}\n",
    "$$"
   ]
  },
  {
   "cell_type": "code",
   "execution_count": 7,
   "metadata": {
    "slideshow": {
     "slide_type": "fragment"
    }
   },
   "outputs": [
    {
     "data": {
      "text/plain": [
       "array([ 3., -3.])"
      ]
     },
     "execution_count": 7,
     "metadata": {},
     "output_type": "execute_result"
    }
   ],
   "source": [
    "A = np.array([[2,1],[-6, 3]])\n",
    "b = np.array([3, -27])\n",
    "\n",
    "np.dot(np.linalg.inv(A), b)"
   ]
  },
  {
   "cell_type": "markdown",
   "metadata": {},
   "source": [
    "### 행렬 왜 배우지?\n",
    "\n",
    "- 기온에 따른 아이스크림 판매량\n",
    "\n",
    "|온도|20|21|22|23|24|25|26|\n",
    "|----|--|--|--|--|--|--|--|\n",
    "|판매량|15|16|21|33|42|60|64|\n",
    "\n",
    "- 현재 6월 30일, 오늘까지 주문하면 아이스크림 원가가 반값\n",
    "\n",
    "- 7월, 8월 판매할 아이스크림을 오늘 12시 전에 주문해야 한다.\n"
   ]
  },
  {
   "cell_type": "code",
   "execution_count": 8,
   "metadata": {},
   "outputs": [
    {
     "name": "stdout",
     "output_type": "stream",
     "text": [
      "[   9.14 -174.43]\n"
     ]
    },
    {
     "data": {
      "image/png": "[encoded data removed]",
      "text/plain": [
       "<matplotlib.figure.Figure at 0x7f924c8d27f0>"
      ]
     },
     "metadata": {},
     "output_type": "display_data"
    }
   ],
   "source": [
    "plt.rcParams[\"figure.figsize\"] = (10,5)\n",
    "\n",
    "t = np.array([20, 21, 22, 23, 24, 25, 26]) \n",
    "c = np.array([15, 16, 21, 33, 42, 60, 64])\n",
    "p = np.polyfit(t, c, 1)\n",
    "\n",
    "ts = np.linspace(20, 35, 100)\n",
    "print(p)\n",
    "plt.plot(t, c, 'o-')\n",
    "plt.plot(ts, p[0]*ts+p[1], alpha=0.5)\n",
    "plt.xlabel('temp.')\n",
    "plt.ylabel('sales')\n",
    "plt.show()"
   ]
  },
  {
   "cell_type": "markdown",
   "metadata": {},
   "source": [
    "- 회귀식과 7월, 8월 일별 온도를 이용해서 모든 날짜의 구매 수량을 예측한다.\n",
    "\n",
    "- 7월, 8월 일별 온도는 기상청 웹사이트에서 긁어온다.\n",
    "\n",
    "- for 루프 방식과 행렬-벡터 곱셈을 이용하여 결과 비교\n",
    "\n",
    "- 결과는 동일하고 데이터의 양이 훨씬 많다면 행렬곱 형태의 효율이 압도적으로 좋다."
   ]
  },
  {
   "cell_type": "code",
   "execution_count": 9,
   "metadata": {},
   "outputs": [
    {
     "name": "stdout",
     "output_type": "stream",
     "text": [
      "7382.457142857143\n",
      "7382.457142857143\n"
     ]
    }
   ],
   "source": [
    "t_78 = np.array([30.5,31.1,34.3,32.1,33.1,32.8,29.2,29.7,35.4,32.6,34,35.9,37.2,35.9,30.9,34.5,\n",
    "33,32,35.2,35.6,36.6,38.4,31.9,35.9,27.9,30.1,33.9,35.4,26.2,30.9,26.1,32.8,\n",
    "31.3,32.1,35.6,36.5,37,35.5,34.5,29.7,26.2,32.3,30.2,26.7,24.2,25.2,30.4,30.3,\n",
    "31.1,30.2,29.3,32,33.5,35.9,35.5,33.7,31.4,31,32.3,30.9,25.6,29.1]).reshape(-1,1)\n",
    "\n",
    "\n",
    "# for loop\n",
    "pred = []\n",
    "for tt in t_78 :\n",
    "    pred.append(p[0]*tt + p[1])\n",
    "    \n",
    "print(np.asarray(pred).sum())\n",
    "\n",
    "# matrix, vector product\n",
    "T = np.c_[np.ones(t_78.shape[0]), t_78]\n",
    "print(np.dot(T,p[::-1].reshape(-1,1)).sum())\n"
   ]
  },
  {
   "cell_type": "markdown",
   "metadata": {},
   "source": [
    "### 행렬과 벡터의 연산 구현\n",
    "\n",
    "- 실제 행렬과 벡터의 연산을 코딩하는 방법은 아래 두가지 형태가 있다.\n",
    "\n",
    "    - #### for loop 연산 : 직관적이면서 구현이 쉬움 \n",
    "    - #### 벡터화<sup>vectorization</sup> 연산 : 덜 직관적이지만 효율적\n",
    "\n",
    "\n",
    "- 가능하면 벡터화 연산을 사용하는 것이 좋지만 익숙해지는데 시간이 걸리고 그때그때 햇갈리기도 함\n",
    "\n",
    "- 행렬-벡터 과정 마지막 내용으로 몇가지 예제에 대해 코드를 만들어 봄"
   ]
  },
  {
   "cell_type": "markdown",
   "metadata": {},
   "source": [
    "### 예제 1. $$\n",
    "y_i = \\sum_{j} A_{ij} x_j \\quad y_i = \\sum_{j} A_{ji} x_j\n",
    "$$\n"
   ]
  },
  {
   "cell_type": "code",
   "execution_count": 10,
   "metadata": {},
   "outputs": [
    {
     "name": "stdout",
     "output_type": "stream",
     "text": [
      "A\n",
      "[[9 9 5 1 9]\n",
      " [6 8 2 9 6]\n",
      " [8 5 4 5 2]\n",
      " [4 7 2 1 2]\n",
      " [6 3 1 5 2]]\n",
      "x\n",
      "[[7]\n",
      " [5]\n",
      " [9]\n",
      " [6]\n",
      " [5]]\n",
      "\n",
      "\n",
      "######################\n",
      "y_i = sum_j A_ij * x_j \n",
      "######################\n",
      "for loop 방식\n",
      "[[204]\n",
      " [184]\n",
      " [157]\n",
      " [ 97]\n",
      " [106]]\n",
      "\n",
      "\n",
      "벡터화 방식\n",
      "[[204]\n",
      " [184]\n",
      " [157]\n",
      " [ 97]\n",
      " [106]]\n",
      "\n",
      "\n",
      "######################\n",
      "y_i = sum_j A_ji * x_j \n",
      "######################\n",
      "for loop 방식\n",
      "[[219]\n",
      " [205]\n",
      " [ 98]\n",
      " [128]\n",
      " [133]]\n",
      "\n",
      "\n",
      "벡터화 방식\n",
      "[[219]\n",
      " [205]\n",
      " [ 98]\n",
      " [128]\n",
      " [133]]\n"
     ]
    }
   ],
   "source": [
    "A = np.random.randint(1, 10, 25).reshape(5,5)\n",
    "x = np.random.randint(1, 10, 5).reshape(-1,1)\n",
    "\n",
    "print('A')\n",
    "print(A)\n",
    "print('x')\n",
    "print(x)\n",
    "print(\"\\n\")\n",
    "\n",
    "print(\"######################\")\n",
    "print(\"y_i = sum_j A_ij * x_j \")\n",
    "print(\"######################\")\n",
    "########################################\n",
    "# for loop 방식\n",
    "y = []\n",
    "temp = 0; m = A.shape[0];\n",
    "for i in range(m) :\n",
    "    for j in range(A.shape[1]) :\n",
    "        temp += A[i,j]*x[j]\n",
    "    y.append(temp)\n",
    "    temp = 0\n",
    "\n",
    "print(\"for loop 방식\")\n",
    "y = np.array(y)\n",
    "print(y)\n",
    "print(\"\\n\")\n",
    "\n",
    "print(\"벡터화 방식\")\n",
    "y = A.dot(x)\n",
    "print(y)\n",
    "\n",
    "print(\"\\n\")\n",
    "\n",
    "print(\"######################\")\n",
    "print(\"y_i = sum_j A_ji * x_j \")\n",
    "print(\"######################\")\n",
    "########################################\n",
    "# for loop 방식\n",
    "y = []\n",
    "temp = 0; m = A.shape[0];\n",
    "for i in range(m) :\n",
    "    for j in range(A.shape[1]) :\n",
    "        temp += A[j,i]*x[j]\n",
    "    y.append(temp)\n",
    "    temp = 0\n",
    "\n",
    "print(\"for loop 방식\")\n",
    "y = np.array(y)\n",
    "print(y)\n",
    "print(\"\\n\")\n",
    "\n",
    "print(\"벡터화 방식\")\n",
    "y = A.T.dot(x)\n",
    "print(y)\n"
   ]
  },
  {
   "cell_type": "markdown",
   "metadata": {},
   "source": [
    "### 예제 2. $$\n",
    "\\mathbf{S} = \\sum_{i=1}^{m} \\mathbf{x}^{(i)} \\left(\\mathbf{x}^{(i)} \\right)^{\\text{T}}\n",
    "$$\n",
    "\n",
    "- 벡터에 쓰는 윗첨자는 주로 여러개의 벡터가 있을 때 $i$번째 벡터를 나타내는 경우가 많음\n",
    "\n",
    "- 지수와 구별하기 위해 $(i)$로 표시\n",
    "\n",
    "- #### for 루프 방식\n",
    "\n",
    "```python\n",
    "X = [x1, x2, x3, x4, x5]\n",
    "\n",
    "S = np.zeros((x1.shape[0], x1.shape[0]), dtype=int)\n",
    "for i in range(len(X)):\n",
    "    x_i = X[i]\n",
    "    S += np.dot(x_i, x_i.T)\n",
    "print(S)   \n",
    "[[335 370 405]\n",
    " [370 410 450]\n",
    " [405 450 495]]\n",
    "```\n",
    "\n",
    "- #### 행렬-벡터 방식\n",
    "\n",
    "```python\n",
    "X = np.array([x1, x2, x3, x4, x5]).reshape(5,3)    # row major\n",
    "S = np.dot(X.T, X)\n",
    "print(S)\n",
    "[[335 370 405]\n",
    " [370 410 450]\n",
    " [405 450 495]]\n",
    "```\n"
   ]
  },
  {
   "cell_type": "code",
   "execution_count": 11,
   "metadata": {},
   "outputs": [
    {
     "name": "stdout",
     "output_type": "stream",
     "text": [
      "for loop 방식\n",
      "[[335 370 405]\n",
      " [370 410 450]\n",
      " [405 450 495]]\n",
      "\n",
      "\n",
      "벡터화 방식 : Numpy와 벡터 내적 이용\n",
      "[[335 370 405]\n",
      " [370 410 450]\n",
      " [405 450 495]]\n"
     ]
    }
   ],
   "source": [
    "# 열벡터 5개 정의\n",
    "x1 = np.array([1,2,3])[:,np.newaxis]\n",
    "x2 = np.array([4,5,6])[:,np.newaxis]\n",
    "x3 = np.array([7,8,9])[:,np.newaxis]\n",
    "x4 = np.array([10,11,12])[:,np.newaxis]\n",
    "x5 = np.array([13,14,15])[:,np.newaxis]\n",
    "\n",
    "########################################\n",
    "# for loop 방식\n",
    "print(\"for loop 방식\")\n",
    "X = [x1, x2, x3, x4, x5]\n",
    "m = len(X)\n",
    "S = np.zeros((x1.shape[0], x1.shape[0]), dtype=int)\n",
    "\n",
    "for i in range(m):\n",
    "    x_i = X[i]\n",
    "    S += np.dot(x_i, x_i.T)\n",
    "print(S)\n",
    "print('\\n')\n",
    "\n",
    "########################################\n",
    "# 벡터화 방식\n",
    "print(\"벡터화 방식 : Numpy와 벡터 내적 이용\")\n",
    "X = np.array([x1, x2, x3, x4, x5]).reshape(5,3)    # row major\n",
    "S = np.dot(X.T, X)\n",
    "print(S)"
   ]
  },
  {
   "cell_type": "markdown",
   "metadata": {},
   "source": [
    "### 예제 3. $$\n",
    "w^{(t+1)}_j = \\sum_{i=1}^{m} \\left\\{ \\left(\\mathbf{X}_{(i,:)}\\cdot\\mathbf{w}^{(t)}-y_i\\right) X_{ij}\\right\\}\n",
    "$$\n",
    "\n",
    "- 위 식은 선형회귀에서 회귀 계수를 업데이트하는 식\n",
    "\n",
    "- $\\mathbf{X}_{(i,:)}$ : 행렬 $\\mathbf{X}$의 $i$번째 행을 나타냄\n",
    "\n",
    "- 윗첨자 $(t)$, $(t+1)$ : 반복적인 업데이트 과정에서  $(t)$번째와 $(t+1)$번째를 나타냄\n",
    "\n",
    "- 즉 위 식은 $(t)$번째 $\\mathbf{w}$를 $(t+1)$번째 $\\mathbf{w}$로 업데이트하는 식\n",
    "\n",
    "- 아래와 같은 데이터 상태에서 위 식으로 업데이트를 하면......\n",
    "\n",
    "\n",
    "$$\n",
    "\\mathbf{X} = \\begin{bmatrix}\n",
    "2.74 & 3.58 \\\\\n",
    "3.01 & 2.72 \\\\\n",
    "2.12 & 3.23 \\\\\n",
    "2.19 & 4.46 \\\\\n",
    "4.82 & 1.92 \\\\\n",
    "3.96 & 2.64 \\\\\n",
    "2.84 & 4.63 \\\\\n",
    "0.36 & 0.44 \\\\\n",
    "0.1  & 4.16 \\\\\n",
    "3.89 & 4.35\n",
    "\\end{bmatrix} \\qquad \\mathbf{w} = \\begin{bmatrix} 1.2 \\\\ 3.4 \\end{bmatrix} \\qquad\n",
    "\\mathbf{y} = \\begin{bmatrix}\n",
    "0.98\\\\\n",
    "0.8\\\\\n",
    "0.46\\\\\n",
    "0.78\\\\\n",
    "0.12\\\\\n",
    "0.64\\\\\n",
    "0.14\\\\\n",
    "0.94\\\\\n",
    "0.52\\\\\n",
    "0.41\n",
    "\\end{bmatrix}\n",
    "$$\n",
    "\n",
    "\n",
    "\n",
    "- #### for 루프 방식\n",
    "\n",
    "```python\n",
    "w2 = np.zeros_like(w)\n",
    "m = X.shape[0]\n",
    "\n",
    "for j in range(w.shape[0]):\n",
    "    for i in range(m):\n",
    "        w2[j] += (np.dot(X[i,:],w) - y[i])*X[i,j]\n",
    "        \n",
    "print(w2)   \n",
    "[[381.35]\n",
    " [489.13]]\n",
    "```\n",
    "\n",
    "- #### 행렬-벡터 방식\n",
    "\n",
    "```python\n",
    "print(np.dot(X.T, (np.dot(X,w)-y)))\n",
    "[[381.35]\n",
    " [489.13]]\n",
    "```"
   ]
  },
  {
   "cell_type": "code",
   "execution_count": 12,
   "metadata": {
    "scrolled": false
   },
   "outputs": [
    {
     "name": "stdout",
     "output_type": "stream",
     "text": [
      "for loop 연산\n",
      "119 µs ± 38.5 µs per loop (mean ± std. dev. of 10 runs, 100 loops each)\n",
      "[[381.35]\n",
      " [489.13]]\n",
      "\n",
      "\n",
      "벡터화 연산 : Numpy 브로드캐스팅 이용\n",
      "5.31 µs ± 79.9 ns per loop (mean ± std. dev. of 10 runs, 100 loops each)\n",
      "[381.35 489.13]\n",
      "\n",
      "\n",
      "벡터화 연산 : Numpy와 벡터 내적 이용\n",
      "1.43 µs ± 138 ns per loop (mean ± std. dev. of 10 runs, 100 loops each)\n",
      "[[381.35]\n",
      " [489.13]]\n"
     ]
    }
   ],
   "source": [
    "np.random.seed(0)\n",
    "\n",
    "X = (np.random.rand(20)*5).reshape(-1,2)\n",
    "# print(X)\n",
    "\n",
    "w = np.array([1.2, 3.4]).reshape(-1,1)\n",
    "# print(w)\n",
    "\n",
    "y = np.random.rand(10).reshape(-1,1)\n",
    "# print(y)\n",
    "\n",
    "########################################\n",
    "# for loop 방식\n",
    "print(\"for loop 연산\")\n",
    "def for_loop():\n",
    "    w2 = np.zeros_like(w)\n",
    "    m = X.shape[0]\n",
    "    for j in range(w.shape[0]):\n",
    "        for i in range(m):\n",
    "            w2[j] += (np.dot(X[i,:],w) - y[i])*X[i,j]\n",
    "    \n",
    "    return w2\n",
    "\n",
    "########################################\n",
    "# For loop 브로드캐스팅 이용\n",
    "%timeit -n100 -r10  for_loop()\n",
    "\n",
    "w2 = for_loop()\n",
    "print(w2)\n",
    "print(\"\\n\")\n",
    "\n",
    "########################################\n",
    "# Numpy 브로드캐스팅 이용\n",
    "print(\"벡터화 연산 : Numpy 브로드캐스팅 이용\")\n",
    "%timeit -n100 -r10 ((np.dot(X,w)-y) * X).sum(axis=0)\n",
    "print(((np.dot(X,w)-y) * X).sum(axis=0))\n",
    "print(\"\\n\")\n",
    "\n",
    "########################################\n",
    "# Numpy와 벡터 내적 이용\n",
    "print(\"벡터화 연산 : Numpy와 벡터 내적 이용\")\n",
    "%timeit -n100 -r10 np.dot(X.T, (np.dot(X,w)-y))\n",
    "print(np.dot(X.T, (np.dot(X,w)-y)))\n",
    "\n",
    "\n"
   ]
  },
  {
   "cell_type": "markdown",
   "metadata": {
    "slideshow": {
     "slide_type": "slide"
    }
   },
   "source": [
    "## 참고문헌\n",
    "\n",
    "1. [Kreysgiz] 공업수학Advanced Engineering Mathematics 10판, Erwin Kreysgiz, JOHN WILEY & SONS\n",
    "\n",
    "2. [Andrew] Machine Learning, Coursera, Andrew Ng, https://www.coursera.org/learn/machine-learning\n",
    "\n",
    "3. [scipy-lecture] Array multiplication is not matrix multiplication, http://www.scipy-lectures.org/intro/numpy/operations.html\n"
   ]
  },
  {
   "cell_type": "code",
   "execution_count": 1,
   "metadata": {
    "slideshow": {
     "slide_type": "skip"
    }
   },
   "outputs": [
    {
     "data": {
      "text/html": [
       "<link href='https://fonts.googleapis.com/earlyaccess/notosanskr.css' rel='stylesheet' type='text/css'>\n",
       "<!--https://github.com/kattergil/NotoSerifKR-Web/stargazers-->\n",
       "<link href='https://cdn.rawgit.com/kattergil/NotoSerifKR-Web/5e08423b/stylesheet/NotoSerif-Web.css' rel='stylesheet' type='text/css'>\n",
       "<!--https://github.com/Joungkyun/font-d2coding-->\n",
       "<link href=\"http://cdn.jsdelivr.net/gh/joungkyun/font-d2coding/d2coding.css\" rel=\"stylesheet\" type=\"text/css\">\n",
       "<style>\n",
       "    h1     { font-family: 'Noto Sans KR' !important; color:#348ABD !important;   }\n",
       "    h2     { font-family: 'Noto Sans KR' !important; color:#467821 !important;   }\n",
       "    h3, h4 { font-family: 'Noto Sans KR' !important; color:#A60628 !important;   }\n",
       "    p:not(.navbar-text) { font-family: 'Noto Serif KR', 'Nanum Myeongjo'; font-size: 12pt; line-height: 200%;  text-indent: 10px; }\n",
       "    li:not(.dropdown):not(.p-TabBar-tab):not(.p-MenuBar-item):not(.jp-DirListing-item):not(.p-CommandPalette-header):not(.p-CommandPalette-item):not(.jp-RunningSessions-item)\n",
       "            { font-family: 'Noto Serif KR', 'Nanum Myeongjo'; font-size: 12pt; line-height: 200%; }\n",
       "    table  { font-family: 'Noto Sans KR' !important;  font-size: 11pt !important; }           \n",
       "    li > p  { text-indent: 0px; }\n",
       "    li > ul { margin-top: 0px !important; }       \n",
       "    sup { font-family: 'Noto Sans KR'; font-size: 9pt; } \n",
       "    code, pre  { font-family: D2Coding, 'D2 coding' !important; font-size: 12pt !important; line-height: 130% !important;}\n",
       "    .code-body { font-family: D2Coding, 'D2 coding' !important; font-size: 12pt !important;}\n",
       "    .ns        { font-family: 'Noto Sans KR'; font-size: 15pt;}\n",
       "    .summary   {\n",
       "                   font-family: 'Georgia'; font-size: 12pt; line-height: 200%; \n",
       "                   border-left:3px solid #FF0000; \n",
       "                   padding-left:20px; \n",
       "                   margin-top:10px;\n",
       "                   margin-left:15px;\n",
       "               }\n",
       "    .green { color:#467821 !important; }\n",
       "    .comment { font-family: 'Noto Sans KR'; font-size: 10pt; }\n",
       "</style>"
      ],
      "text/plain": [
       "<IPython.core.display.HTML object>"
      ]
     },
     "metadata": {},
     "output_type": "display_data"
    }
   ],
   "source": [
    "%%html\n",
    "<link href='https://fonts.googleapis.com/earlyaccess/notosanskr.css' rel='stylesheet' type='text/css'>\n",
    "<!--https://github.com/kattergil/NotoSerifKR-Web/stargazers-->\n",
    "<link href='https://cdn.rawgit.com/kattergil/NotoSerifKR-Web/5e08423b/stylesheet/NotoSerif-Web.css' rel='stylesheet' type='text/css'>\n",
    "<!--https://github.com/Joungkyun/font-d2coding-->\n",
    "<link href=\"http://cdn.jsdelivr.net/gh/joungkyun/font-d2coding/d2coding.css\" rel=\"stylesheet\" type=\"text/css\">\n",
    "<style>\n",
    "    h1     { font-family: 'Noto Sans KR' !important; color:#348ABD !important;   }\n",
    "    h2     { font-family: 'Noto Sans KR' !important; color:#467821 !important;   }\n",
    "    h3, h4 { font-family: 'Noto Sans KR' !important; color:#A60628 !important;   }\n",
    "    p:not(.navbar-text) { font-family: 'Noto Serif KR', 'Nanum Myeongjo'; font-size: 12pt; line-height: 200%;  text-indent: 10px; }\n",
    "    li:not(.dropdown):not(.p-TabBar-tab):not(.p-MenuBar-item):not(.jp-DirListing-item):not(.p-CommandPalette-header):not(.p-CommandPalette-item):not(.jp-RunningSessions-item)\n",
    "            { font-family: 'Noto Serif KR', 'Nanum Myeongjo'; font-size: 12pt; line-height: 200%; }\n",
    "    table  { font-family: 'Noto Sans KR' !important;  font-size: 11pt !important; }           \n",
    "    li > p  { text-indent: 0px; }\n",
    "    li > ul { margin-top: 0px !important; }       \n",
    "    sup { font-family: 'Noto Sans KR'; font-size: 9pt; } \n",
    "    code, pre  { font-family: D2Coding, 'D2 coding' !important; font-size: 12pt !important; line-height: 130% !important;}\n",
    "    .code-body { font-family: D2Coding, 'D2 coding' !important; font-size: 12pt !important;}\n",
    "    .ns        { font-family: 'Noto Sans KR'; font-size: 15pt;}\n",
    "    .summary   {\n",
    "                   font-family: 'Georgia'; font-size: 12pt; line-height: 200%; \n",
    "                   border-left:3px solid #FF0000; \n",
    "                   padding-left:20px; \n",
    "                   margin-top:10px;\n",
    "                   margin-left:15px;\n",
    "               }\n",
    "    .green { color:#467821 !important; }\n",
    "    .comment { font-family: 'Noto Sans KR'; font-size: 10pt; }\n",
    "</style>"
   ]
  }
 ],
 "metadata": {
  "celltoolbar": "Slideshow",
  "kernelspec": {
   "display_name": "Python 3",
   "language": "python",
   "name": "python3"
  },
  "language_info": {
   "codemirror_mode": {
    "name": "ipython",
    "version": 3
   },
   "file_extension": ".py",
   "mimetype": "text/x-python",
   "name": "python",
   "nbconvert_exporter": "python",
   "pygments_lexer": "ipython3",
   "version": "3.6.5"
  },
  "livereveal": {
   "scroll": true,
   "start_slideshow_at": "selected"
  }
 },
 "nbformat": 4,
 "nbformat_minor": 2
}
