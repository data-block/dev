{
 "cells": [
  {
   "cell_type": "markdown",
   "metadata": {
    "slideshow": {
     "slide_type": "slide"
    }
   },
   "source": [
    "# 파이썬 기초문법 & numpy"
   ]
  },
  {
   "cell_type": "code",
   "execution_count": 3,
   "metadata": {
    "slideshow": {
     "slide_type": "skip"
    }
   },
   "outputs": [],
   "source": [
    "import numpy as np\n",
    "import matplotlib.pyplot as plt\n",
    "import matplotlib as mpl\n",
    "\n",
    "style_name = 'bmh' #bmh\n",
    "mpl.style.use(style_name)\n",
    "np.set_printoptions(precision=4, linewidth =150)\n",
    "\n",
    "style = plt.style.library[style_name]\n",
    "style_colors = [ c['color'] for c in style['axes.prop_cycle'] ]\n"
   ]
  },
  {
   "cell_type": "markdown",
   "metadata": {
    "slideshow": {
     "slide_type": "slide"
    }
   },
   "source": [
    " ## 목적 \n",
    " \n",
    "- 머신러닝 알고리즘을 구현하기 위한 최소 기초 문법 소개\n",
    "\n",
    "- 데이터 시각화를 위한 `matplotlib` 소개 \n",
    "\n",
    "- 행렬-벡터 계산을 위한 `numpy` 소개\n",
    "- 주요 참고 문헌 \n",
    "    - A Byte of Python<sup>[swaroop]</sup>\n",
    "        \n",
    "        - python 2.7 기준으로 작성\n",
    "    \n",
    "    - 처음 시작하는 파이썬Introducing Python, 한빛미디어<sup>[intro. python]</sup>"
   ]
  },
  {
   "cell_type": "markdown",
   "metadata": {
    "slideshow": {
     "slide_type": "slide"
    }
   },
   "source": [
    "## 왜 파이썬인가?\n",
    "\n",
    "- 공짜\n",
    "\n",
    "- 많이 쓴다.\n",
    "\n",
    "- 쉬운 문법?\n",
    "\n",
    "- R과 비교하면?\n",
    "\n",
    "> R을 배우지 않아도 아무런 문제가 되지 않지만, 많은 데이터 과학자와 데이터과학 프로젝트가 R을 사용하기 때문에 익숙해지는 것도 좋다. 그래야 R에 기반한 블로그 포스트, 예시, 또는 코드를 이해할 수 있기 때문이기도 하고, <span style=\"color:#348ABD\">**다른 한편으로는 그래야 파이썬의 (상대적으로) 깨끗하고 우아한 면을 더욱 사랑하게 될 것이기 때문이다.**</span> <br/> - 조엘 그루스, 밑바닥부터 시작하는 데이터 과학, 한빛미디어"
   ]
  },
  {
   "cell_type": "markdown",
   "metadata": {
    "slideshow": {
     "slide_type": "slide"
    }
   },
   "source": [
    "## 배경 \n",
    "\n",
    "### 역사<sup>[wiki:python]</sup>\n",
    "\n",
    "- 1991년 프로그래머인 귀도 반 로섬<sup>Guido van Rossum</sup>이 발표한 고급 프로그래밍 언어로, 플랫폼 독립적이며 인터프리터식, 객체지향적 언어\n",
    "\n",
    "- python 2\n",
    "    - 2000년 10월 16일 배포\n",
    "    - python 3.x 가 발표되면서 구분을 위해 python 2.x 버전을 의미\n",
    "    \n",
    "- python 3 \n",
    "    - 2008년 12월 3일 배포\n",
    "    - 2.x대 버전의 파이썬과 하위호환성이 없음\n",
    "    - 처음 시작한다면  무조건 python 3으로 시작\n",
    "\n"
   ]
  },
  {
   "cell_type": "markdown",
   "metadata": {
    "slideshow": {
     "slide_type": "slide"
    }
   },
   "source": [
    "#### 들여쓰기\n",
    "\n",
    "- 들여쓰기가 잘된 C 언어\n",
    "\n",
    "```c\n",
    "int factorial(int x) {\n",
    "    if(x == 0)     {\n",
    "        return 1;\n",
    "    }     \n",
    "    else     {\n",
    "        return x * factorial(x - 1);\n",
    "    }\n",
    "}\n",
    "```\n",
    "\n",
    "- 같은 내용이 C 언어 \n",
    "\n",
    "```c\n",
    "int factorial(int x) {\n",
    "if(x == 0) {return 1;} else\n",
    "{return x * factorial(x - 1); } }\n",
    "```\n",
    "\n",
    "- C언어는 둘 다 허용, 하지만  파이썬은...\n",
    "\n",
    "```python\n",
    "def factorial(x):\n",
    "    if x == 0:\n",
    "        return 1\n",
    "    else:\n",
    "        return x * factorial(x - 1)\n",
    "```\n",
    "\n",
    "- 위 처럼 들여쓰지 않으면 에러!!\n",
    "\n"
   ]
  },
  {
   "cell_type": "markdown",
   "metadata": {
    "slideshow": {
     "slide_type": "slide"
    }
   },
   "source": [
    "## 설치\n",
    "\n",
    "### python 기본설치\n",
    "\n",
    "- python.org에서 언어 패키지만 설치\n",
    "- 모든 라이브러리를 `pip install`로 직접 다 설치\n",
    "- 버츄얼 환경 직접 구성\n",
    "<img src=\"imgs/python-logo.png\" width=\"400\">\n",
    "\n",
    "<img src=\"imgs/pip-vs-ana.png\" width=\"400\">\n",
    "\n",
    "### 서드파티 설치\n",
    "- anaconda.org 에서 언어+각종 라이브러리를 패키지 제공\n",
    "- 대부분 패키지가 기본 제공, `numpy`, `matplotlib`, `scipy`\n",
    "- 버츄얼 환경 기본 제공\n",
    "<img src=\"imgs/anaconda-logo.png\" width=\"300\">\n",
    "\n",
    "### 클라우드 환경\n",
    "\n",
    "- 무설치, Jupyter notebook으로 바로 사용가능\n",
    "\n",
    "- Google Colaboratory, https://colab.research.google.com/notebook\n",
    "\n",
    "- Microsoft Azure notebook, https://notebooks.azure.com/\n",
    "\n"
   ]
  },
  {
   "cell_type": "markdown",
   "metadata": {},
   "source": [
    "### 아나콘다 설치\n",
    "\n",
    "- https://www.anaconda.com/download/ 에서 윈도우용 설치 파일 다운로드\n",
    "\n",
    "- 아나콘다 네비게이터 실행\n",
    "\n",
    "<img src=\"imgs/anaconda-navi.png\" width=\"800\"/>"
   ]
  },
  {
   "cell_type": "markdown",
   "metadata": {},
   "source": [
    "#### 가상환경 설정\n",
    "\n",
    "- 가상환경virtualenvs\n",
    "    - 파이썬에서 필요한 여러 라이브러리를 격리된 환경에 각각 여러개 만들어서 사용하는 환경\n",
    "    - 여러 라이브러리들이 서로 버전 의존성이 있으므로 각 용도에 맞게 환경을 여러개 설정\n",
    "    - env1 : `numpy` + `scipy` + `tensorflow`\n",
    "    - env2 : `numpy` + `scipy` + `pytorch`\n",
    "    \n",
    "- 아나콘다 네비게이터에서 Environments 클릭\n",
    "\n",
    "- 왼쪽에 가상환경, 오른쪽에 해당 가상환경에 설치된 패키지들이 리스트\n",
    "\n",
    "\n",
    "<img src=\"imgs/anaconda-envs.png\" width=\"800\"/>\n",
    "\n",
    "- 하단 Create를 클릭하고 파이썬 버젼과 환경의 이름을 지정하고 새로운 환경 생성\n",
    "\n",
    "- 가상환경 파일이 복사되는 디폴트 폴더\n",
    "    - 기본은 아나콘다가 설치된 폴더의 envs 폴더\n",
    "    - CONDA_ENVS_PATH 환경변수에 default envs디렉토리 지정\n",
    "\n",
    "- 가상환경 이름 옆에 play(세모) 버튼을 누르고 \"Open Terminal\"클릭 하면 커맨드 라인으로 가상환경 시작\n",
    "\n",
    "- conda info 로 환경 설정을 확인\n",
    "\n",
    "<pre>    \n",
    "(nn) d:\\Users\\avman\\lang\\python\\envs\\nn>conda info\n",
    "\n",
    "     active environment : nn\n",
    "    active env location : D:\\Users\\avman\\lang\\python\\envs\\nn\n",
    "            shell level : 1\n",
    "       user config file : C:\\Users\\avman\\.condarc\n",
    " populated config files : C:\\Users\\avman\\.condarc\n",
    "          conda version : 4.4.10\n",
    "    conda-build version : 3.4.1\n",
    "         python version : 3.6.4.final.0\n",
    "       base environment : C:\\Users\\avman\\Anaconda3  (writable)\n",
    "           channel URLs : https://repo.continuum.io/pkgs/main/win-64\n",
    "                          https://repo.continuum.io/pkgs/main/noarch\n",
    "                          https://repo.continuum.io/pkgs/free/win-64\n",
    "                          https://repo.continuum.io/pkgs/free/noarch\n",
    "                          https://repo.continuum.io/pkgs/r/win-64\n",
    "                          https://repo.continuum.io/pkgs/r/noarch\n",
    "                          https://repo.continuum.io/pkgs/pro/win-64\n",
    "                          https://repo.continuum.io/pkgs/pro/noarch\n",
    "                          https://repo.continuum.io/pkgs/msys2/win-64\n",
    "                          https://repo.continuum.io/pkgs/msys2/noarch\n",
    "          package cache : C:\\Users\\avman\\Anaconda3\\pkgs\n",
    "                          C:\\Users\\avman\\AppData\\Local\\conda\\conda\\pkgs\n",
    "       envs directories : D:\\Users\\avman\\lang\\python\\envs\n",
    "                          C:\\Users\\avman\\Anaconda3\\envs\n",
    "                          C:\\Users\\avman\\AppData\\Local\\conda\\conda\\envs\n",
    "                          C:\\Users\\avman\\.conda\\envs\n",
    "               platform : win-64\n",
    "             user-agent : conda/4.4.10 requests/2.18.4 CPython/3.6.4 Windows/10 Windows/10.0.16299\n",
    "          administrator : False\n",
    "             netrc file : None\n",
    "           offline mode : False\n",
    "\n",
    "\n",
    "(nn) d:\\Users\\avman\\lang\\python\\envs\\nn>    \n",
    "</pre>"
   ]
  },
  {
   "cell_type": "markdown",
   "metadata": {},
   "source": [
    "#### 교재 노트북 실행을 위한 필요 패키지\n",
    "\n",
    "- anaconda 네비게이터에서 설치\n",
    "    - `numpy`, `scipy`, `matplotlib`, `pandas`, `plotly`, `sklearn-learn`, `sympy`, `graphviz`, `python-graphviz`, `jupyter`\n",
    "\n"
   ]
  },
  {
   "cell_type": "markdown",
   "metadata": {
    "slideshow": {
     "slide_type": "slide"
    }
   },
   "source": [
    "## 프로그램 방식\n",
    "\n",
    "### 대화식 인터프리터\n",
    "```python\n",
    "Python 3.6.0 (default, Jan 13 2017, 00:00:00) \n",
    "[GCC 4.8.4] on linux\n",
    "Type \"help\", \"copyright\", \"credits\" or \"license\" for more information.\n",
    ">>> 3+1\n",
    "4\n",
    ">>> print(\"Hello World!\")\n",
    "Hello World!\n",
    ">>> \n",
    "```\n",
    "\n",
    "### 통합개발환경<sup>Itegrated Development Environment, IDE</sup> 사용\n",
    "\n",
    "- 대형 앱을 개발 할 때 적합\n",
    "\n",
    "- 코드 자동완성, 디버깅, 파일관리, 버전관리 등 개발에 필요한 편의 기능 제공\n",
    "\n",
    "- Visual studio, https://docs.microsoft.com/en-us/visualstudio/python/installing-python-support-in-visual-studio\n",
    "\n",
    "- PyCharm, https://www.jetbrains.com/pycharm-edu/\n",
    "\n",
    "\n",
    "\n",
    "### Jupyter notebook\n",
    "\n",
    "- 아나콘다 가상환경 쉘 프롬프트에서 \"jupyter notebook\" 으로 실행\n",
    "\n",
    "- 또는 가상환경 이름 옆에 play(세모) 버튼을 누르고 \"Open with Jupyter Notebook\"클릭\n",
    "\n",
    "- 서버에 웹브라우저로 접속하여 코드를 입력하고 결과를 HTML로 돌려 받음\n",
    "\n",
    "- 셀<sup>cell</sup>이라 부르는 코드 블락에 코드를 입력하고 <span class=\"code-body\">ctrl-enter</span>로 실행\n",
    "\n"
   ]
  },
  {
   "cell_type": "markdown",
   "metadata": {
    "slideshow": {
     "slide_type": "slide"
    }
   },
   "source": [
    "## 시작에 앞서\n",
    "\n",
    "### 주석\n",
    "- '#' 문자 뒤에 따라오는 짧은 문장\n",
    "\n",
    "```python \n",
    "print('hello world') # Note that print is a statement \n",
    "```\n",
    "\n",
    "### print(x)\n",
    "\n",
    "- 변수값을 출력하는 함수\n",
    "\n",
    "- 아래코드는 \"a is {}\"라는 문장을 출력하는데 {}부분을 format()함수에 지정된 내용으로 교체 \n",
    "\n",
    "```python\n",
    "a = 10\n",
    "print(\"a is {}\".format(a))\n",
    "# 결과: a is 10\n",
    "\n",
    "a = 'Jo'\n",
    "b = 27\n",
    "print(\"My name is {}, and I'm {} years old.\".format(a, b))\n",
    "# 결과: My name is Jo, and I'm 27 years old\n",
    "```\n",
    "\n"
   ]
  },
  {
   "cell_type": "code",
   "execution_count": 2,
   "metadata": {},
   "outputs": [
    {
     "name": "stdout",
     "output_type": "stream",
     "text": [
      "aaa\n"
     ]
    }
   ],
   "source": [
    "print('aaa')"
   ]
  },
  {
   "cell_type": "markdown",
   "metadata": {},
   "source": [
    "## 프로그래밍의 구조\n",
    "\n",
    "<img src=\"imgs/programming.png\" width=\"600\"/>\n",
    "\n",
    "- 자료를 담는 그릇 : 변수, 자료구조\n",
    "\n",
    "- 논리의 흐름 : 조건(==, !=, <, >), 코드구조(if, for, while)\n",
    "\n",
    "- 효율성을 위한 도구 : 함수, 클래스"
   ]
  },
  {
   "cell_type": "markdown",
   "metadata": {
    "slideshow": {
     "slide_type": "slide"
    }
   },
   "source": [
    "##  변수, 문자열, 숫자\n",
    "\n",
    "### 변수\n",
    "\n",
    "- 자료가 담긴 그릇에 붙인 이름표"
   ]
  },
  {
   "cell_type": "markdown",
   "metadata": {
    "slideshow": {
     "slide_type": "slide"
    }
   },
   "source": [
    "#### 불변<sup>immutable</sup>\n",
    "\n",
    "- 자료에 변화가 생기면 자료를 다시 만듬\n",
    "\n",
    "- 숫자, 문자열, 튜플\n",
    "\n",
    "```python\n",
    "a = 7\n",
    "b = a\n",
    "print(\"a is {}\".format(a))\n",
    "print(\"b is {}\".format(b))\n",
    "# 결과 a is 7\n",
    "# 결과 b is 7\n",
    "\n",
    "a = 8\n",
    "print(\"a is {}\".format(a))\n",
    "print(\"b is {}\".format(b))\n",
    "# 결과 a is 8\n",
    "# 결과 b is 7\n",
    "```\n",
    "\n",
    "<img src=\"imgs/immutable.png\" width=\"500\">\n",
    "\n",
    "#### 가변<sup>mutable</sup>\n",
    "\n",
    "- 자료에 변화가 생기면 그 자료 자체를 변경\n",
    "\n",
    "- 리스트, 딕셔너리"
   ]
  },
  {
   "cell_type": "markdown",
   "metadata": {
    "slideshow": {
     "slide_type": "slide"
    }
   },
   "source": [
    "### 부울\n",
    "\n",
    "- `True` 또는 `False`를 나타내는 자료형\n",
    "\n",
    "```python\n",
    "print(1 == True)\n",
    "# 결과\n",
    "True\n",
    "\n",
    "print(True is 1)\n",
    "# 결과\n",
    "False\n",
    "```\n",
    "\n"
   ]
  },
  {
   "cell_type": "markdown",
   "metadata": {
    "slideshow": {
     "slide_type": "slide"
    }
   },
   "source": [
    "### 문자열\n",
    "\n",
    "- ' ' 또는 \" \"로 둘러쌓인 문자\n",
    "\n",
    "- \" \"인 문자열 안에 '가 들어갈 수 있고, '  '인 문자열 안에 \"가 들어갈 수 있음\n",
    "\n",
    "```python\n",
    "print(\" She said, \"What is this?\" \")\n",
    "\n",
    "  File \"<ipython-input-16-21032d3be853>\", line 1\n",
    "    print(\" She said, \"What is this?\" \")\n",
    "                          ^\n",
    "SyntaxError: invalid syntax\n",
    "\n",
    "print(\" She said, \\\"What is this?\\\" \")\n",
    "print(' She said, \"What is this?\" ')\n",
    "# 결과  She said, \"What is this?\" \n",
    "```"
   ]
  },
  {
   "cell_type": "markdown",
   "metadata": {
    "slideshow": {
     "slide_type": "slide"
    }
   },
   "source": [
    "#### 문자열 결합, 인덱싱, 길이\n",
    "\n",
    "```python\n",
    "a = 'My word!'\n",
    "b = 'A gentleman caller!'\n",
    "c = a + b\n",
    "print(c)\n",
    "print(c[3])\n",
    "print(len(c))\n",
    "\n",
    "# 결과\n",
    "My word!A gentleman caller!\n",
    "w\n",
    "27\n",
    "```\n"
   ]
  },
  {
   "cell_type": "markdown",
   "metadata": {
    "slideshow": {
     "slide_type": "slide"
    }
   },
   "source": [
    "#### 여러줄 문자열\n",
    "\n",
    "- 세 개의 따옴표로 표현\n",
    "\n",
    "- 작은 따옴표든 큰 따옴표든 마음대로 사용\n",
    "\n",
    "```python\n",
    "a = '''This is a multi-line string. This is the first line.\n",
    "This is the second line.\n",
    "\"What's your name?,\" I asked.\n",
    "He said \"Bond, James Bond.\"\n",
    "'''\n",
    "print(a)\n",
    "```"
   ]
  },
  {
   "cell_type": "markdown",
   "metadata": {
    "slideshow": {
     "slide_type": "slide"
    }
   },
   "source": [
    "#### 문자열 포맷팅<sup>[docs:string]</sup>\n",
    "\n",
    "```python\n",
    "# 소수점 이하 셋째 자리까지 부동 소숫점 숫자 표기 (0.333)\n",
    "print ('{0:.3f}'.format(1.0/3))\n",
    "# 결과 \n",
    "0.333\n",
    "\n",
    "# 밑줄(_)로 11칸을 채우고 가운데 정렬(^)하기 (___hello___)\n",
    "print ('{0:_^11}'.format('hello'))\n",
    "# 결과\n",
    "___hello___\n",
    "\n",
    "# 사용자 지정 키워드를 이용해 (Swaroop wrote A Byte of Python) 표기\n",
    "print('{name} wrote {book}'.format(name='Swaroop', book='A Byte of Python'))\n",
    "# 결과 \n",
    "Swaroop wrote A Byte of Python\n",
    "```\n",
    "\n"
   ]
  },
  {
   "cell_type": "markdown",
   "metadata": {
    "slideshow": {
     "slide_type": "slide"
    }
   },
   "source": [
    "### 숫자\n",
    "\n",
    "- 정수(5, 1000), 소수(3.14, 14.99), 부울형\n",
    "\n",
    "- 다음 연산자 적용가능\n",
    "\n",
    "| 연산자 | 설명   | 예 | 결과 |\n",
    "|------|-------|------|------|\n",
    "|   +    | 더하기 | 5+8 | 13 |\n",
    "|   -    | 빼기 | 90-10 | 80 |\n",
    "|   *    | 곱하기| 4\\*7 | 28 |\n",
    "|   /    | 부동소수점 나누기 | 7 / 2 | 3.5 |\n",
    "|   //    |  정수나누기 | 7 // 2 | 3 |\n",
    "|   %    | 너머지 | 7 % 3 | 1 |\n",
    "|   \\**    | 지수 | 3\\**4 | 81 |"
   ]
  },
  {
   "cell_type": "markdown",
   "metadata": {
    "slideshow": {
     "slide_type": "slide"
    }
   },
   "source": [
    "### 형변환\n",
    "\n",
    "- 정수로 형변환 : <span class=\"code-body\">int()</span>\n",
    "\n",
    "- 소수로 형변환 : <span class=\"code-body\">float()</span>\n",
    "\n",
    "- 자동 형변환 : float > int > bool\n",
    "\n",
    "```python\n",
    "int(98.3)\n",
    "# 결과 \n",
    "98\n",
    "\n",
    "float(13)\n",
    "# 결과 \n",
    "13.0\n",
    "\n",
    "print(1+3.0)\n",
    "# 결과 \n",
    "4.0\n",
    "\n",
    "print(1+True)\n",
    "# 결과\n",
    "2\n",
    "```\n",
    "\n"
   ]
  },
  {
   "cell_type": "markdown",
   "metadata": {
    "slideshow": {
     "slide_type": "slide"
    }
   },
   "source": [
    "## 자료구조\n",
    "\n",
    "- 앞서 배운 기본 자료형을 모아서 관리하는 도구\n",
    "\n",
    "- 즉 여러개의 값들이 열거되어 저장됨\n",
    "\n",
    "- 튜플<sup>tuple</sup>, 리스트<sup>list</sup>, 사전<sup>dictionary</sup>"
   ]
  },
  {
   "cell_type": "markdown",
   "metadata": {
    "slideshow": {
     "slide_type": "slide"
    }
   },
   "source": [
    "### 튜플\n",
    "\n",
    "- 여러 개의 객체를 모아 담는 데 사용\n",
    "\n",
    "- 정의 <span class=\"code-body\">(,)</span>\n",
    "\n",
    "- 불변, 수정이 불가능\n",
    "\n",
    "- 단순 값들의 목록을 다루는 구문이나 사용자 정의 함수에서 주로 사용\n",
    "\n",
    "```python\n",
    "zoo = ('python', 'elephant', 'penguin')\n",
    "print('Number of animals in the zoo is', len(zoo))\n",
    "print(zoo[1])\n",
    "\n",
    "# 결과\n",
    "Number of animals in the zoo is 3\n",
    "elephant\n",
    "\n",
    "zoo[0] = 'tiger'\n",
    "----------------------------------------------------------------\n",
    "TypeError                                 Traceback (most recent call last)\n",
    "<ipython-input-74-7e069550aff3> in <module>()\n",
    "      1 zoo = ('python', 'elephant', 'penguin')\n",
    "      2 \n",
    "----> 3 zoo[0] = 'tiger'\n",
    "\n",
    "TypeError: 'tuple' object does not support item assignment\n",
    "```\n",
    "\n",
    "- **항목 한개 짜리 튜플** \n",
    "\n",
    "```python\n",
    "singleton = (2) # 그냥 2\n",
    "singleton = (2 , )\n",
    "```\n"
   ]
  },
  {
   "cell_type": "markdown",
   "metadata": {
    "slideshow": {
     "slide_type": "slide"
    }
   },
   "source": [
    "### 리스트\n",
    "\n",
    "- 순서대로 정리된 항목들을 담고 있는 자료 구조\n",
    "\n",
    "- 정의 :  <span class=\"code-body\">[ ]</span>\n",
    "\n",
    "- 가변, 수정이 가능\n",
    "\n",
    "```python\n",
    "# This is my shopping list\n",
    "shoplist = ['apple', 'mango', 'carrot', 'banana']\n",
    "print(shoplist)\n",
    "# 결과\n",
    "['apple', 'mango', 'carrot', 'banana']\n",
    "\n",
    "shoplist.append('rice')\n",
    "print(shoplist)\n",
    "# 결과\n",
    "['apple', 'mango', 'carrot', 'banana', 'rice']\n",
    "\n",
    "shoplist[0] = 'lego'\n",
    "print(shoplist)\n",
    "# 결과\n",
    "['lego', 'mango', 'carrot', 'banana', 'rice']\n",
    "\n",
    "del shoplist[1]\n",
    "print(shoplist)\n",
    "# 결과\n",
    "['lego', 'carrot', 'banana', 'rice']\n",
    "\n",
    "```"
   ]
  },
  {
   "cell_type": "markdown",
   "metadata": {},
   "source": [
    "#### 리스트의 리스트\n",
    "\n",
    "- 튜플, 리스트는 숫자, 문자 뿐 아니라 리스트, 사전 등 모든 자료 구조를 담을 수 있음\n",
    "\n",
    "- 중첩된 시퀀스형은 연속된 [][] 로 인덱싱\n",
    "\n",
    "```python\n",
    "a = (1,2,3)\n",
    "b = [a, 1,2,]\n",
    "\n",
    "\n",
    "print(b)\n",
    "# 결과 [(1, 2, 3), 1, 2]\n",
    "\n",
    "\n",
    "print(b[0][1])\n",
    "#결과 2 \n",
    "```"
   ]
  },
  {
   "cell_type": "markdown",
   "metadata": {
    "slideshow": {
     "slide_type": "slide"
    }
   },
   "source": [
    "#### 리스트를 문자열로 \n",
    "\n",
    "\n",
    "```python\n",
    "mylist = ['Brazil', 'Russia', 'India', 'China']\n",
    "print(''.join(mylist))\n",
    "\n",
    "#결과\n",
    "BrazilRussiaIndiaChina\n",
    "```\n",
    "\n"
   ]
  },
  {
   "cell_type": "code",
   "execution_count": 3,
   "metadata": {},
   "outputs": [
    {
     "name": "stdout",
     "output_type": "stream",
     "text": [
      "Brazil,Russia,India,China\n"
     ]
    }
   ],
   "source": [
    "mylist = ['Brazil', 'Russia', 'India', 'China']\n",
    "print(','.join(mylist))"
   ]
  },
  {
   "cell_type": "markdown",
   "metadata": {
    "slideshow": {
     "slide_type": "slide"
    }
   },
   "source": [
    "### 사전\n",
    "\n",
    "- 문자 그대로 사전\n",
    "\n",
    "- 키에 해당하는 값을 저장\n",
    "\n",
    "- 정의 : <span class=\"code-body\">{'key':'value' }</span>\n",
    "\n",
    "- 항목 순서 유지 안됨\n",
    "\n",
    "```python\n",
    "ab = {  'Swaroop'    : 'swaroop@swaroopch.com',\n",
    "        'Larry'      : 'larry@wall.org',\n",
    "        'Matsumoto'  : 'matz@ruby-lang.org',\n",
    "        'Spammer'    : 'spammer@hotmail.com'\n",
    "    }\n",
    "print(ab)\n",
    "# 결과\n",
    "{'Swaroop': 'swaroop@swaroopch.com', 'Matsumoto': 'matz@ruby-lang.org', 'Larry': 'larry@wall.org', 'Spammer': 'spammer@hotmail.com'}\n",
    "\n",
    "print(\"Swaroop's address is\", ab['Swaroop'])\n",
    "# 결과\n",
    "Swaroop's address is swaroop@swaroopch.com\n",
    "\n",
    "del ab['Spammer'] \n",
    "print(ab)\n",
    "# 결과\n",
    "{'Swaroop': 'swaroop@swaroopch.com', 'Matsumoto': 'matz@ruby-lang.org', 'Larry': 'larry@wall.org'}\n",
    "```\n",
    "\n"
   ]
  },
  {
   "cell_type": "markdown",
   "metadata": {
    "slideshow": {
     "slide_type": "slide"
    }
   },
   "source": [
    "### 슬라이스<sup>slice</sup>\n",
    "\n",
    "- [i]형식으로 요소에 접근하는 방식의 확장\n",
    "\n",
    "- 인덱스는 음수도 가능\n",
    "\n",
    "```python\n",
    "shoplist = ['apple', 'mango', 'carrot', 'banana']\n",
    "\n",
    "print(shoplist[3])\n",
    "print(shoplist[-1])\n",
    "# 결과\n",
    "banana\n",
    "banana\n",
    "\n",
    "print(shoplist[2])\n",
    "print(shoplist[-2])\n",
    "# 결과\n",
    "carrot\n",
    "carrot\n",
    "\n",
    "print(shoplist[1])\n",
    "print(shoplist[-3])\n",
    "# 결과\n",
    "mango\n",
    "mango\n",
    "\n",
    "print(shoplist[0])\n",
    "print(shoplist[-4])\n",
    "# 결과\n",
    "apple\n",
    "apple\n",
    "```\n",
    "\n",
    "- <span class=\"code-body\">A[start:end:offset]</span>\n",
    "\n",
    "```python\n",
    "A = [1,2,3,4,5,6,7,8,9,10]\n",
    "print(A[3:9])\n",
    "# 결과\n",
    "[4, 5, 6, 7, 8, 9]\n",
    "\n",
    "print(A[3:9:2])\n",
    "# 결과\n",
    "[4, 6, 8]\n",
    "\n",
    "print(A[::1])\n",
    "# 결과\n",
    "[1, 2, 3, 4, 5, 6, 7, 8, 9, 10]\n",
    "\n",
    "print(A[::-1])\n",
    "# 결과\n",
    "[10, 9, 8, 7, 6, 5, 4, 3, 2, 1]\n",
    "\n",
    "```\n",
    "\n"
   ]
  },
  {
   "cell_type": "markdown",
   "metadata": {
    "slideshow": {
     "slide_type": "slide"
    }
   },
   "source": [
    "#### 슬라이스와 객체 복사\n",
    "\n",
    "- 슬라이스로 얻은 리스트는 원래 리스트의 복사본\n",
    "\n",
    "- 열거형의 복사본을 만들려면 반드시 슬라이스 연산자를 사용\n",
    "\n",
    "```python\n",
    "A = [1,2,3,4,5,6,7,8,9,10]\n",
    "B = A\n",
    "C = A[:]\n",
    "\n",
    "A[0]=100\n",
    "print(\"A is {}\".format(A))\n",
    "print(\"B is {}\".format(B))\n",
    "print(\"C is {}\".format(C))\n",
    "\n",
    "# 결과 \n",
    "A is [100, 2, 3, 4, 5, 6, 7, 8, 9, 10]\n",
    "B is [100, 2, 3, 4, 5, 6, 7, 8, 9, 10]\n",
    "C is [1, 2, 3, 4, 5, 6, 7, 8, 9, 10]\n",
    "\n",
    "```\n",
    "\n"
   ]
  },
  {
   "cell_type": "markdown",
   "metadata": {
    "slideshow": {
     "slide_type": "slide"
    }
   },
   "source": [
    "## 코드구조"
   ]
  },
  {
   "cell_type": "markdown",
   "metadata": {
    "slideshow": {
     "slide_type": "slide"
    }
   },
   "source": [
    "### if-else\n",
    "\n",
    "- 조건을 판별할 때 사용\n",
    "\n",
    "```python\n",
    "a = -3\n",
    "\n",
    "if a > 0 :\n",
    "    print(\"positive\")\n",
    "else :\n",
    "    print(\"0 or negative\")\n",
    "```"
   ]
  },
  {
   "cell_type": "markdown",
   "metadata": {
    "slideshow": {
     "slide_type": "slide"
    }
   },
   "source": [
    "#### 조건 판단을 위한 연산자\n",
    "\n",
    "| 연산자 | 설명   | \n",
    "|------|-------|\n",
    "|   ==    | 같다 |\n",
    "|   !=    | 다르다 | \n",
    "|   <   | ~보다 작다 | \n",
    "|   <=    | ~보다 작거나 같다 | \n",
    "|   >    |  ~보다 크다 | \n",
    "|   >=    | ~보다 크거나 같다 |\n",
    "|   in    | ~안에 있다 |\n",
    "\n",
    "- 조건 판단에 = 쓰면 에러\n",
    "\n",
    "```python\n",
    "python = \"쉽다\"\n",
    "\n",
    "if python = \"쉽다\":\n",
    "    print(\"대단한데?\")\n",
    "else :\n",
    "    print(\"금방 익숙해져~\")\n",
    "\n",
    " File \"<ipython-input-227-e1db640460af>\", line 3\n",
    "    if python = \"쉽다\":\n",
    "              ^\n",
    "SyntaxError: invalid syntax\n",
    "```\n",
    "\n"
   ]
  },
  {
   "cell_type": "markdown",
   "metadata": {
    "slideshow": {
     "slide_type": "slide"
    }
   },
   "source": [
    "### while-else\n",
    "\n",
    "- 특정 조건이 참일 경우 계속해서 블록의 명령문들을 반복하여 실행\n",
    "\n",
    "- 다른 언어에는 없는 while 조건이 참이 아닐 때 대응하는 else가 있음\n",
    "\n",
    "#### break\n",
    "\n",
    "- 반복 실행을 강제로 탈출하기 위해 사용\n",
    "\n",
    "```python\n",
    "i = 0\n",
    "while i < 10 :\n",
    "    print(i)\n",
    "    i += 1\n",
    "    \n",
    "    # 루프를 정상적으로 돌고 i >= 10이 되어 \n",
    "    # 즉, while 조건이 거짓이 되어 while문을 빠져나오면\n",
    "    # else 블록이 실행되나\n",
    "    # 이렇게 break를 걸어서 while 조건이 거짓이 아닌데도\n",
    "    # while 블록을 탈출하면 else는 실행되지 않음\n",
    "    if i == 5 :\n",
    "        print('break')\n",
    "        break\n",
    "        \n",
    "else :\n",
    "    print('while-else')\n",
    "    \n",
    "# 결과\n",
    "0\n",
    "1\n",
    "2\n",
    "3\n",
    "4\n",
    "break\n",
    "```    \n"
   ]
  },
  {
   "cell_type": "markdown",
   "metadata": {
    "slideshow": {
     "slide_type": "slide"
    }
   },
   "source": [
    "### for-else\n",
    "\n",
    "- 열거형 자료의 각 요소마다 코드 블록을 반복\n",
    "\n",
    "```python\n",
    "for i in range(1, 5):\n",
    "    print(i)\n",
    "else:\n",
    "    print('The for loop is over')\n",
    "\n",
    "# 결과\n",
    "1\n",
    "2\n",
    "3\n",
    "4\n",
    "The for loop is over\n",
    "\n",
    "```"
   ]
  },
  {
   "cell_type": "markdown",
   "metadata": {
    "slideshow": {
     "slide_type": "slide"
    }
   },
   "source": [
    "#### 리스트에 대해서\n",
    "\n",
    "```python\n",
    "rabbits = ['flopsy', 'Mopsy', 'Cottontail', 'Peter']\n",
    "\n",
    "for rabbit in rabbits :\n",
    "    print(rabbit)\n",
    "    \n",
    "# 결과\n",
    "flopsy\n",
    "Mopsy\n",
    "Cottontail\n",
    "Peter\n",
    "```\n",
    "\n",
    "```python\n",
    "for i, v in enumerate(rabbits):\n",
    "    print(i,v)\n",
    "    \n",
    "# 결과\n",
    "0 flopsy\n",
    "1 Mopsy\n",
    "2 Cottontail\n",
    "3 Peter\n",
    "```\n",
    "\n",
    "#### 사전에 대해서\n",
    "\n",
    "```python\n",
    "scientists = {'newton':'f=ma', 'einstein':'e=mc^2',\n",
    "                    'euler':'e^{i*pi}+1=0'}\n",
    "\n",
    "for scientist in scientists :\n",
    "    print(scientist)\n",
    "# 결과\n",
    "newton\n",
    "einstein\n",
    "euler\n",
    "\n",
    "for formula in scientists.values() :\n",
    "    print(formula)\n",
    "# 결과\n",
    "f=ma\n",
    "e=mc^2\n",
    "e^{i*pi}+1=0\n",
    "\n",
    "for item in scientists.items() :\n",
    "    print(item)\n",
    "# 결과\n",
    "('newton', 'f=ma')\n",
    "('einstein', 'e=mc^2')\n",
    "('euler', 'e^{i*pi}+1=0')\n",
    "```\n",
    "\n"
   ]
  },
  {
   "cell_type": "markdown",
   "metadata": {
    "slideshow": {
     "slide_type": "slide"
    }
   },
   "source": [
    "### 축약 또는 함축<sup>comprehension</sup>\n",
    "\n",
    "- 자료구조를 만드는 빠르고 콤팩트한 방법\n",
    "\n",
    "- 리스트, 사전 등에 적용"
   ]
  },
  {
   "cell_type": "markdown",
   "metadata": {
    "slideshow": {
     "slide_type": "slide"
    }
   },
   "source": [
    "#### 리스트 컴프리헨션\n",
    "\n",
    "- <span class=\"code-body\">[1,2,3,4,5]</span>를 만드는 방법\n",
    "\n",
    "```python\n",
    "L = []\n",
    "L.append(1)\n",
    "L.append(2)\n",
    "L.append(3)\n",
    "L.append(4)\n",
    "L.append(5)\n",
    "\n",
    "L2 = []\n",
    "for l in range(1, 6) :\n",
    "    L2.append(l)\n",
    "    \n",
    "L3 = list(range(1,6))\n",
    "```\n",
    "\n",
    "- 축약 문법 : <span class=\"code-body\">[표현식 for 항목 in 순회가능객체]</span>\n",
    "\n",
    "```python\n",
    "L = [n for n in range(1,6)]\n",
    "```\n",
    "\n",
    "- 빠르고, 다양한 조건을 걸어서 생성 가능\n",
    "\n",
    "```python\n",
    "# 아래 코드는 느리고 너저분하다.\n",
    "L = []\n",
    "for n in range(1,6):\n",
    "    if n % 2 == 1 :\n",
    "        L.append(n)\n",
    "print(L)\n",
    "\n",
    "# 깔끔하고 빠름 가독성은 좀 떨어짐\n",
    "L = [n for n in range(1,6) if n % 2 == 1]\n",
    "print(L)\n",
    "```\n",
    "\n",
    "- for 복수개 사용 가능\n",
    "\n",
    "```python\n",
    "# 3행 2열의 행렬 인덱스\n",
    "matrix_index = [(row, col) for row in range(1,4) for col in range(1,3)]\n",
    "print(matrix_index)\n",
    "# 결과\n",
    "[(1, 1), (1, 2), (2, 1), (2, 2), (3, 1), (3, 2)]\n",
    "\n",
    "matrix_index2 = [ [(row, col) for row in range(1,4)] for col in range(1,3)]\n",
    "print(matrix_index2)\n",
    "# 결과\n",
    "[[(1, 1), (2, 1), (3, 1)], [(1, 2), (2, 2), (3, 2)]]\n",
    "```\n",
    "\n"
   ]
  },
  {
   "cell_type": "markdown",
   "metadata": {},
   "source": [
    "### 코드 구조까지 알고 만들 수 있는 코드 조각\n",
    "\n",
    "#### 1. 두 리스트에서 같은 위치의 요소를 각각 더하는 코드"
   ]
  },
  {
   "cell_type": "code",
   "execution_count": 4,
   "metadata": {},
   "outputs": [
    {
     "name": "stdout",
     "output_type": "stream",
     "text": [
      "리스트 상태로 그냥 + 하면\n",
      "[[1, 2, 3], [4, 5, 6], [7, 8, 9], [11, 22, 33], [44, 55, 66], [77, 88, 99]]\n",
      "\n",
      "\n",
      "루프를 돌면서 각 요소를 다 더해주면\n",
      "[[12, 24, 36], [48, 60, 72], [84, 96, 108]]\n",
      "\n",
      "\n"
     ]
    }
   ],
   "source": [
    "A = [[1,2,3],[4,5,6],[7,8,9]]\n",
    "B = [[11,22,33],[44,55,66],[77,88,99]]\n",
    "C = [[0,0,0],[0,0,0],[0,0,0]]\n",
    "\n",
    "# 그냥 더하면 리스트가 이어진다.\n",
    "print('리스트 상태로 그냥 + 하면')\n",
    "print(A+B)\n",
    "print('\\n')\n",
    "\n",
    "# 루프를 돌면서 하나하나 더한다.\n",
    "for i in range(len(A)) :\n",
    "    for j in range(len(A[i])):\n",
    "        C[i][j] = A[i][j]+B[i][j]\n",
    "\n",
    "print('루프를 돌면서 각 요소를 다 더해주면')        \n",
    "print(C)\n",
    "print('\\n')\n",
    "\n"
   ]
  },
  {
   "cell_type": "markdown",
   "metadata": {},
   "source": [
    "\n",
    "\n",
    "#### 2. 위와 동일한 덧셈을 수행하면서 대각선 요소만 곱하기 2를 하는 코드"
   ]
  },
  {
   "cell_type": "code",
   "execution_count": 5,
   "metadata": {},
   "outputs": [
    {
     "name": "stdout",
     "output_type": "stream",
     "text": [
      "루프를 돌면서 각 요소에 대해서 연산\n",
      "[[24, 24, 36], [48, 120, 72], [84, 96, 216]]\n",
      "\n",
      "\n"
     ]
    }
   ],
   "source": [
    "# 루프를 돌면서 하나하나 더한다.\n",
    "for i in range(len(A)) :\n",
    "    for j in range(len(A[i])):\n",
    "        if i == j :\n",
    "            C[i][j] = (A[i][j]+B[i][j]) * 2\n",
    "        else :\n",
    "            C[i][j] = A[i][j]+B[i][j]\n",
    "\n",
    "print('루프를 돌면서 각 요소에 대해서 연산') \n",
    "print(C)\n",
    "print('\\n')\n"
   ]
  },
  {
   "cell_type": "markdown",
   "metadata": {
    "slideshow": {
     "slide_type": "slide"
    }
   },
   "source": [
    "## 함수\n",
    "\n",
    "-  재사용 가능한 이름이 붙여진 프로그램의 조각\n",
    "\n",
    "-  <span class=\"code-body\">def</span> 키워드를 통해 정의\n",
    "\n",
    "```python\n",
    "def say_hello():\n",
    "    # block belonging to the function\n",
    "    print('hello world')\n",
    "# End of function\n",
    "\n",
    "say_hello() # call the function\n",
    "say_hello() # call the function again\n",
    "\n",
    "# 결과\n",
    "hello world\n",
    "hello world\n",
    "```\n",
    "\n",
    "- 위 실습코드를 함수로 만들어 두면 두 리스트의 요솔르 더할때마다 간단히 사용할 수 있다."
   ]
  },
  {
   "cell_type": "markdown",
   "metadata": {
    "slideshow": {
     "slide_type": "slide"
    }
   },
   "source": [
    "### 매개변수<sup>parameters</sup>\n",
    "\n",
    "- 함수로 넘겨지는 값들의 이름\n",
    "\n",
    "- 수학 함수에서 독립변수에 해당\n",
    "\n",
    "- 함수에 넘겨준 값들을 인자<sup>arguments</sup>\n",
    "\n",
    "```python\n",
    "def print_max(a, b):\n",
    "    if a > b:\n",
    "        print(a, 'is maximum')\n",
    "    elif a == b:\n",
    "        print(a, 'is equal to', b)\n",
    "    else:\n",
    "        print(b, 'is maximum')\n",
    "\n",
    "# directly pass literal values\n",
    "print_max(3, 3)\n",
    "\n",
    "x = 5; y = 7\n",
    "\n",
    "# pass variables as arguments\n",
    "print_max(x, y)\n",
    "```\n",
    "\n"
   ]
  },
  {
   "cell_type": "code",
   "execution_count": 2,
   "metadata": {},
   "outputs": [
    {
     "name": "stdout",
     "output_type": "stream",
     "text": [
      "[[24, 24, 36], [48, 120, 72], [84, 96, 216]]\n",
      "[[44, 43, 64], [85, 212, 127], [148, 169, 380]]\n"
     ]
    }
   ],
   "source": [
    "A = [[1,2,3],[4,5,6],[7,8,9]]\n",
    "B = [[11,22,33],[44,55,66],[77,88,99]]\n",
    "C = [[0,0,0],[0,0,0],[0,0,0]]\n",
    "\n",
    "def add_list(A, B, C) :\n",
    "    # 루프를 돌면서 하나하나 더한다.\n",
    "    for i in range(len(A)) :\n",
    "        for j in range(len(A[i])):\n",
    "            if i == j :\n",
    "                C[i][j] = (A[i][j]+B[i][j]) * 2\n",
    "            else :\n",
    "                C[i][j] = A[i][j]+B[i][j]\n",
    "    print(C)\n",
    "    \n",
    "add_list(A,B,C)   \n",
    "\n",
    "A = [[11,21,31],[41,51,61],[71,81,91]]\n",
    "\n",
    "# 달라진 A에 대해서 간단히 다시 계산할 수 있다.\n",
    "add_list(A,B,C)   "
   ]
  },
  {
   "cell_type": "markdown",
   "metadata": {
    "slideshow": {
     "slide_type": "slide"
    }
   },
   "source": [
    "#### 위치 인자\n",
    "\n",
    "- 값을 순서대로 상응하는 매개변수에 복사하는 인자\n",
    "\n",
    "- 인자의 의미와 순서를 기억하고 맞추지 않으면 이상한 결과가 나올 수 도 있음.\n",
    "\n",
    "```python\n",
    "def dc_marvel(superhero, actor, movie):\n",
    "    return {'superhero':superhero, 'actor':actor, 'movie':movie}\n",
    "\n",
    "print(dc_marvel('Batman', 'Ben Affleck', 'Justice League'))\n",
    "print(dc_marvel('Robert Downey Junior', 'Iron man', 'The Avengers'))\n",
    "\n",
    "#결과\n",
    "{'movie': 'Justice League', 'superhero': 'Batman', 'actor': 'Ben Affleck'}\n",
    "{'movie': 'The Avengers', 'superhero': 'Robert Downey Junior', 'actor': 'Iron man'}\n",
    "```\n",
    "\n",
    "#### 키워드 인자\n",
    "\n",
    "- 매개변수의 이름을 지정하는 인자\n",
    "\n",
    "- 순서 상과없이 이름만 맞추면 됨\n",
    "\n",
    "```python\n",
    "print(dc_marvel(actor='Ben Affleck',superhero='Batman', movie='Justice League'))\n",
    "\n",
    "# 결과\n",
    "{'movie': 'Justice League', 'superhero': 'Batman', 'actor': 'Ben Affleck'}\n",
    "```\n",
    "\n",
    "- 위치 인자와 키워드 인자로 함수를 호출하면 위치 인자가 먼저와야 한다.\n",
    "\n",
    "```python\n",
    "print(dc_marvel('Batman', movie='Justice League', actor='Ben Affleck'))\n",
    "# 결과\n",
    "{'movie': 'Justice League', 'superhero': 'Batman', 'actor': 'Ben Affleck'}\n",
    "\n",
    "\n",
    "print(dc_marvel( movie='Justice League','Batman', actor='Ben Affleck'))\n",
    "\n",
    "  File \"<ipython-input-22-081c31e792db>\", line 4\n",
    "    print(dc_marvel( movie='Justice League','Batman', actor='Ben Affleck'))\n",
    "                                           ^\n",
    "SyntaxError: positional argument follows keyword argument\n",
    "\n",
    "```\n",
    "\n"
   ]
  },
  {
   "cell_type": "markdown",
   "metadata": {
    "slideshow": {
     "slide_type": "slide"
    }
   },
   "source": [
    "#### 기본 인수값\n",
    "\n",
    "- 매개변수에 사용자가 값을 넘겨주지 않으면 자동으로 기본값을 사용하도록 하는 것\n",
    "\n",
    "```python\n",
    "def say(message='Hi!', times=1):\n",
    "    print(message * times)\n",
    "\n",
    "say()\n",
    "say('Hello')\n",
    "say('World', 5)\n",
    "# 결과\n",
    "Hi!\n",
    "Hello\n",
    "WorldWorldWorldWorldWorld\n",
    "\n",
    "#--------------------------------------------------------\n",
    "def say2(message, times=2):\n",
    "    print(message * times) \n",
    "\n",
    "say2('say2')\n",
    "# 결과\n",
    "say2say2\n",
    "\n",
    "#--------------------------------------------------------\n",
    "def say3(message='Hi!', times):\n",
    "     print(message * times)\n",
    "\n",
    "  File \"<ipython-input-45-706f1e5c3ed7>\", line 13\n",
    "    def say3(message='Hi!', times):\n",
    "            ^\n",
    "SyntaxError: non-default argument follows default argument\n",
    "```\n",
    "\n"
   ]
  },
  {
   "cell_type": "markdown",
   "metadata": {
    "slideshow": {
     "slide_type": "slide"
    }
   },
   "source": [
    "### 변수의 스코프<sup>scope</sup>\n",
    "\n",
    "#### local\n",
    "\n",
    "- 함수 안에서 변수를 선언하고 사용할 경우, 함수 밖에 있는 같은 이름의 변수들과 함수 안에 있는 변수들과는 서로 다른 변수가 되는데\n",
    "\n",
    "- 이런 함수 안에서 선언된 변수를 지역변수라 함\n",
    "\n",
    "- 변수가 영향을 미치는 범위를 변수의 스코프라 한다.\n",
    "\n",
    "```python\n",
    "x = 50\n",
    "\n",
    "def func(x):\n",
    "    print('x is', x)\n",
    "    x = 2\n",
    "    print('Changed local x to', x)\n",
    "\n",
    "func(x)\n",
    "print( 'x is still', x)\n",
    "\n",
    "# 결과\n",
    "x is 50\n",
    "Changed local x to 2\n",
    "x is still 50\n",
    "\n",
    "L  = [1,3,4,]\n",
    "\n",
    "def func2(x) :\n",
    "    print('L is ', x)\n",
    "    x[0] = 100\n",
    "    print('Changed local L to', x)\n",
    "    \n",
    "func2(L)\n",
    "print( 'L is ', L)\n",
    "\n",
    "# 결과\n",
    "L is  [1, 3, 4]\n",
    "Changed local L to [100, 3, 4]\n",
    "L is  [100, 3, 4]\n",
    "\n",
    "```\n",
    "\n",
    "- 함수라는 블록으로 한번 감싸진 블록 내부는 함수가 호출된 외부 블록과 격리되는 원리\n",
    "\n",
    "- 가변 객체는 함수안에서 변경 가능\n",
    "\n"
   ]
  },
  {
   "cell_type": "markdown",
   "metadata": {
    "slideshow": {
     "slide_type": "slide"
    }
   },
   "source": [
    "#### global\n",
    "\n",
    "- 상위 블록에서 선언된 변수의 값을 변경하고 싶을 때, 해당 변수를 지역 변수가 아닌 전역(global) 변수로 사용할 것임을 알려 주는 키워드\n",
    "\n",
    "- global 문을 사용하지 않으면, 함수 외부에서 선언된 변수의 값을 함수 내부에서 변경할 수 없음\n",
    "\n",
    "- 전역변수를 사용하는 프로그램 방식은 지양\n",
    "\n",
    "\n",
    "```python\n",
    "x = 50\n",
    "\n",
    "def func():\n",
    "    global x\n",
    "\n",
    "    print('x is', x)\n",
    "    x = 2\n",
    "    print('Changed local x to', x)\n",
    "\n",
    "func()\n",
    "print ('Value of x is', x)\n",
    "\n",
    "# 결과\n",
    "x is 50\n",
    "Changed local x to 2\n",
    "Value of x is 2\n",
    "```\n",
    "\n"
   ]
  },
  {
   "cell_type": "markdown",
   "metadata": {
    "slideshow": {
     "slide_type": "slide"
    }
   },
   "source": [
    "### return\n",
    "\n",
    "- 함수가 종료될 때 어떤 값을 반환하는 용도로 사용\n",
    "\n",
    "```python\n",
    "def maximum(x, y):\n",
    "    if x > y:\n",
    "        return x\n",
    "    elif x == y:\n",
    "        return 'The numbers are equal'\n",
    "    else:\n",
    "        return y\n",
    "\n",
    "print(maximum(2, 3))\n",
    "print(maximum(2, 2))\n",
    "\n",
    "# 결과\n",
    "3\n",
    "The numbers are equal\n",
    "\n",
    "```\n",
    "\n",
    "- 두 리스트의 요소를 더하는 함수가 결과를 리턴하게 하면......"
   ]
  },
  {
   "cell_type": "code",
   "execution_count": 10,
   "metadata": {},
   "outputs": [
    {
     "name": "stdout",
     "output_type": "stream",
     "text": [
      "[[12, 24, 36], [48, 60, 72], [84, 96, 108]]\n",
      "[[22, 43, 64], [85, 106, 127], [148, 169, 190]]\n"
     ]
    }
   ],
   "source": [
    "A = [[1,2,3],[4,5,6],[7,8,9]]\n",
    "B = [[11,22,33],[44,55,66],[77,88,99]]\n",
    "\n",
    "def add_list(A, B) :\n",
    "    C = [[0,0,0],[0,0,0],[0,0,0]]\n",
    "    # 루프를 돌면서 하나하나 더한다.\n",
    "    for i in range(len(A)) :\n",
    "        for j in range(len(A[i])):\n",
    "            C[i][j] = A[i][j]+B[i][j]\n",
    "    return C\n",
    "    \n",
    "print(add_list(A,B))\n",
    "\n",
    "A = [[11,21,31],[41,51,61],[71,81,91]]\n",
    "\n",
    "# 달라진 A에 대해서 간단히 다시 계산할 수 있다.\n",
    "print(add_list(A,B))"
   ]
  },
  {
   "cell_type": "markdown",
   "metadata": {},
   "source": [
    "#### 나머지 % 연산자를 쓰지 않고 나머지를 구해주는 계산기\n",
    "\n"
   ]
  },
  {
   "cell_type": "code",
   "execution_count": 9,
   "metadata": {
    "scrolled": true
   },
   "outputs": [
    {
     "name": "stdout",
     "output_type": "stream",
     "text": [
      "966 / 23 = 42...19\n",
      "(42, 19)\n",
      "42 19\n",
      "\n",
      "\n",
      "684 / 342 = 2...101\n",
      "(2, 101)\n",
      "2 101\n",
      "\n",
      "\n",
      "323 / 17 = 19...1\n",
      "(19, 1)\n",
      "19 1\n",
      "\n",
      "\n",
      "0 / 30 = 0...17\n"
     ]
    }
   ],
   "source": [
    "def 나누기(나눠지는수, 나누는수):\n",
    "    몫 = 0\n",
    "    \n",
    "    while 나눠지는수 >= 나누는수 :\n",
    "        나눠지는수 = 나눠지는수 - 나누는수\n",
    "        몫 = 몫 + 1\n",
    "    else :\n",
    "        print(\"{} / {} = {}...{}\".format(나누는수*몫, 나누는수, 몫, 나눠지는수))\n",
    "        \n",
    "나누기(985,23)\n",
    "print(divmod(985,23))\n",
    "print(int(985/23), 985%23)\n",
    "print('\\n')\n",
    "\n",
    "나누기(785,342)\n",
    "print(divmod(785,342))\n",
    "print(int(785/342), 785%342)\n",
    "print('\\n')\n",
    "\n",
    "나누기(324,17)\n",
    "print(divmod(324,17))\n",
    "print(int(324/17), 324%17)\n",
    "print('\\n')\n",
    "\n",
    "# BUG!!\n",
    "나누기(17, 30)"
   ]
  },
  {
   "cell_type": "markdown",
   "metadata": {
    "slideshow": {
     "slide_type": "slide"
    }
   },
   "source": [
    "## 모듈\n",
    "\n",
    "- python 코드를 하나의 파일에 묶어 놓은 덩어리\n",
    "\n",
    "- 함수 여러개를 하나의 파일에 작성해서 report.py 라는 파일로 저장\n",
    "\n",
    "- 다른 파일 또는 커맨드 쉘에서 <span class=\"code-body\">import report</span>으로 f.py안의 함수들을 불러 올 수 있음\n",
    "\n",
    "- report.py는 이제 모듈"
   ]
  },
  {
   "cell_type": "markdown",
   "metadata": {
    "slideshow": {
     "slide_type": "slide"
    }
   },
   "source": [
    "### 모듈 임포드\n",
    "\n",
    "```python\n",
    "# report.py를 다음처럼 작성해서 현재 폴더에 저장\n",
    "def get_description():\n",
    "    \"\"\"Return random weather, just like the pros\"\"\"\n",
    "    from random import choice\n",
    "    possibilities = ['rain', 'snow', 'fog', 'sun']\n",
    "    return choice(possibilities)\n",
    "```\n",
    "\n",
    "- 현재 notebook 셀에서\n",
    "\n",
    "```python\n",
    "import report\n",
    "\n",
    "print(report.get_description())\n",
    "\n",
    "```\n",
    "\n",
    "- 임포트 후에 <span class=\"code-body\">moduelname.function</span>으로 사용"
   ]
  },
  {
   "cell_type": "markdown",
   "metadata": {
    "slideshow": {
     "slide_type": "slide"
    }
   },
   "source": [
    "### 다른 이름으로 모듈임포트\n",
    "\n",
    "- 긴 모듈이름을 대신해서 별칭으로 모듈을 임포트 \n",
    "\n",
    "```python\n",
    "import numpy as np\n",
    "\n",
    "np.sqrt(2)\n",
    "```"
   ]
  },
  {
   "cell_type": "markdown",
   "metadata": {
    "slideshow": {
     "slide_type": "slide"
    }
   },
   "source": [
    "### 필요한 것만 임포트\n",
    "\n",
    "- <span class=\"code-body\">sqrt()</span>을 쓰고 싶을 때 \n",
    "\n",
    "```python\n",
    "# 그냥 쓰면 에러\n",
    "sqrt(2)\n",
    "\n",
    "---------------------------------------------------------------------------\n",
    "NameError                                 Traceback (most recent call last)\n",
    "<ipython-input-267-40e415486bd6> in <module>()\n",
    "----> 1 sqrt(2)\n",
    "\n",
    "NameError: name 'sqrt' is not defined\n",
    "\n",
    "# 다음처럼 math 모듈안에 있는 sqrt함수를 \n",
    "# math 모듈을 임포트하고 math.sqrt로 접근하는 것이 아니라\n",
    "# sqrt를 바로 임포트\n",
    "from math import sqrt\n",
    "\n",
    "sqrt(2)\n",
    "```"
   ]
  },
  {
   "cell_type": "markdown",
   "metadata": {},
   "source": [
    "##  클래스\n",
    "\n",
    "- 객체지향 프로그래밍 : 함수와 자료를 하나의 덩어리로 묶어 \"객체\"라는 자료로 다루는 프로그램 방식 \n",
    "\n",
    "- 다음처럼 객체를 생각할 수 있다.\n",
    "\n",
    "- 사람\n",
    "    - 속성(필드) : 이름, 키, 몸무게\n",
    "    - 기능(메소드) : 걷는다, 먹는다, 잔다\n",
    "    \n",
    "- 더하기 \n",
    "    - 속성(필드) : 숫자 2개, 1+2로 정의된 더하기에서 1과 2는 속성\n",
    "    - 기능(메소드) : 두 숫자를 더한다.\n",
    "    \n",
    "- 함수는 기능만을 정의하고 기능에 필요한 정보는 외부에서 넘겨 받는다.\n",
    "\n",
    "- 하지만 객체는 클래스라고 하는 형식으로 정의되어 자료와 기능을 동시에 가짐\n",
    "\n",
    "```python\n",
    "# 사람이 가지는 속성과 기능을 함께 가지는 어떤 변수를 정의\n",
    "class Person:\n",
    "    def __init__(self, n, h, w):\n",
    "        self.name = n\n",
    "        self.height = h\n",
    "        self.weight = w\n",
    "        \n",
    "    def speed(self):\n",
    "        return self.height / self.weight\n",
    "\n",
    "class Add:\n",
    "    def __init__(self, a, b):\n",
    "        self.a = a\n",
    "        self.b = b\n",
    "\n",
    "    def add(self):\n",
    "        return self.a+self.b\n",
    "```"
   ]
  },
  {
   "cell_type": "code",
   "execution_count": 7,
   "metadata": {},
   "outputs": [
    {
     "name": "stdout",
     "output_type": "stream",
     "text": [
      "1.7\n",
      "3.2\n"
     ]
    },
    {
     "data": {
      "text/plain": [
       "30"
      ]
     },
     "execution_count": 7,
     "metadata": {},
     "output_type": "execute_result"
    }
   ],
   "source": [
    "class Person:\n",
    "    def __init__(self, h, w):\n",
    "        self.height = h\n",
    "        self.weight = w\n",
    "\n",
    "    def speed(self):\n",
    "        return self.height / self.weight\n",
    "\n",
    "# Person형 자료가 하나 만들어지면서 __init__함수가 실행되어 객체를 초기화 한다.\n",
    "p1 = Person(170, 100)\n",
    "p2 = Person(160, 50)\n",
    "\n",
    "# 객체의 기능을 실행한다.\n",
    "print(p1.speed())\n",
    "print(p2.speed())\n",
    "\n",
    "\n",
    "class Add:\n",
    "    def __init__(self, a, b):\n",
    "        self.a = a\n",
    "        self.b = b\n",
    "\n",
    "    def add(self):\n",
    "        return self.a+self.b\n",
    "\n",
    "plus = Add(10,20)\n",
    "plus.add()    "
   ]
  },
  {
   "cell_type": "markdown",
   "metadata": {},
   "source": [
    "- 클래스를 사용하여 마치 기본 자료형처럼 동작하는 객체를 만들 수 있다.\n",
    "\n",
    "- 아래 코드는 클래스와 연산자 오버로딩이라는 기능을 사용하여 요소끼리 더하는 기능을 하는 리스트를 만든 것\n"
   ]
  },
  {
   "cell_type": "code",
   "execution_count": 32,
   "metadata": {},
   "outputs": [
    {
     "name": "stdout",
     "output_type": "stream",
     "text": [
      "9\n",
      "9\n",
      "[[12, 24, 36], [48, 60, 72], [84, 96, 108]]\n",
      "[[12, 24, 36], [48, 60, 72], [84, 96, 108]]\n"
     ]
    }
   ],
   "source": [
    "# 요소끼리 더하는 기능이 있는 리스트\n",
    "class Listadd :\n",
    "    def __init__(self, A):\n",
    "        self.A = A\n",
    "        \n",
    "    def __add__(self, B):\n",
    "        \"\"\"\n",
    "        넘겨 받은 객체 B와 나 자신을 더해서 되돌린다.\n",
    "        __add__ 함수에 내용을 적으면 a+b식으로 함수를 호출할 수 있다.\n",
    "        즉, a+b , a.__add__(b) 는 같은 표현이다.\n",
    "        \"\"\"\n",
    "        C = [[0,0,0],[0,0,0],[0,0,0]]\n",
    "        # 루프를 돌면서 하나하나 더한다.\n",
    "        for i in range(len(self.A)) :\n",
    "            for j in range(len(self.A[i])):\n",
    "                C[i][j] = self.A[i][j]+B[i][j]\n",
    "        return C\n",
    "    \n",
    "    def __getitem__(self, item):\n",
    "        \"\"\"\n",
    "        item에 지정한 번호로 인덱싱을 하게 한다.\n",
    "        A[1] 이면 item은 1, A[2,2]이면 item은 (2,2)가 넘어온다.\n",
    "        __add__와 마찬가지로 A[1], A.__getitem__(1)은 같은 표현이다.\n",
    "        \"\"\"\n",
    "        if type(item) is int :\n",
    "            return self.A[item]\n",
    "        else :\n",
    "            return self.A[item[0]][item[1]]\n",
    "        \n",
    "A = Listadd([[1,2,3],[4,5,6],[7,8,9]]) \n",
    "B = Listadd([[11,22,33],[44,55,66],[77,88,99]])\n",
    "\n",
    "# 아래 둘은 같은 표현이다.\n",
    "print(A[2][2])\n",
    "print(A.__getitem__(2)[2])\n",
    "\n",
    "# 아래 둘도 같은 표현이다.\n",
    "print(A+B)\n",
    "print(A.__add__(B))"
   ]
  },
  {
   "cell_type": "markdown",
   "metadata": {
    "slideshow": {
     "slide_type": "slide"
    }
   },
   "source": [
    "## 정리\n",
    "\n",
    "- python은 쉬운 언어인가?\n",
    "\n",
    "    - 처음에는 쉽다.\n",
    "    - pythonic 하기 하기는 점점 어려워짐<sup>[docs:zen]</sup>\n",
    "    - 필요한 만큼만 알고 적절히 사용\n",
    "\n"
   ]
  },
  {
   "cell_type": "markdown",
   "metadata": {
    "slideshow": {
     "slide_type": "slide"
    }
   },
   "source": [
    "## matplotlib \n",
    "\n",
    "- Numpy 배열을 기반으로 만들어진 다중 플랫폼 데이터 시각화 라이브러리\n",
    "\n",
    "- 예제 레퍼런스 : 파이썬 데이터 사이언스 핸드북<sup>[jakevdp]</sup>"
   ]
  },
  {
   "cell_type": "markdown",
   "metadata": {
    "slideshow": {
     "slide_type": "slide"
    }
   },
   "source": [
    "### 매트랩<sup>MATLAB</sup> 스타일과 객체지향 스타일\n",
    "\n",
    "- 그림 figure : 그래프의 축, 텍스트, 레이블 등 모든 요소를 포함하는 객체\n",
    "\n",
    "- 축 axes : 시각화를 형성하는 플롯 요소\n",
    "\n",
    "- 위 두 요소를 암시적으로 생성 :  매트랩 스타일\n",
    "\n",
    "- 명시적 변수로 생성 : 객체지향 스타일\n",
    "\n",
    "```python\n",
    "import matplotlib.pyplot as plt\n",
    "\n",
    "plt.plot(...) # matlab style, 내부적으로 figure, axes 만들어짐\n",
    "\n",
    "fig = plt.figure()\n",
    "ax  = plt.axes()    # figure, axis를 변수로 할당\n",
    "ax.plot(...)\n",
    "```"
   ]
  },
  {
   "cell_type": "markdown",
   "metadata": {
    "slideshow": {
     "slide_type": "slide"
    }
   },
   "source": [
    "### 기본 플로팅\n",
    "\n",
    "- x, y 값을 가지고 2차원 평면에 플롯\n",
    "\n",
    "- <span class=\"code-body\">plot(x, y, options...)</span> 형식"
   ]
  },
  {
   "cell_type": "code",
   "execution_count": 8,
   "metadata": {},
   "outputs": [
    {
     "name": "stdout",
     "output_type": "stream",
     "text": [
      "[ 0.      0.101   0.202   0.303   0.404   0.5051  0.6061  0.7071  0.8081  0.9091  1.0101  1.1111  1.2121  1.3131  1.4141  1.5152  1.6162  1.7172\n",
      "  1.8182  1.9192  2.0202  2.1212  2.2222  2.3232  2.4242  2.5253  2.6263  2.7273  2.8283  2.9293  3.0303  3.1313  3.2323  3.3333  3.4343  3.5354\n",
      "  3.6364  3.7374  3.8384  3.9394  4.0404  4.1414  4.2424  4.3434  4.4444  4.5455  4.6465  4.7475  4.8485  4.9495  5.0505  5.1515  5.2525  5.3535\n",
      "  5.4545  5.5556  5.6566  5.7576  5.8586  5.9596  6.0606  6.1616  6.2626  6.3636  6.4646  6.5657  6.6667  6.7677  6.8687  6.9697  7.0707  7.1717\n",
      "  7.2727  7.3737  7.4747  7.5758  7.6768  7.7778  7.8788  7.9798  8.0808  8.1818  8.2828  8.3838  8.4848  8.5859  8.6869  8.7879  8.8889  8.9899\n",
      "  9.0909  9.1919  9.2929  9.3939  9.4949  9.596   9.697   9.798   9.899  10.    ]\n"
     ]
    }
   ],
   "source": [
    "x = np.linspace(0,10,100)\n",
    "print(x)"
   ]
  },
  {
   "cell_type": "code",
   "execution_count": 9,
   "metadata": {
    "slideshow": {
     "slide_type": "fragment"
    }
   },
   "outputs": [
    {
     "data": {
      "image/png": "[encoded data removed]",
      "text/plain": [
       "<matplotlib.figure.Figure at 0x7f9a74508860>"
      ]
     },
     "metadata": {},
     "output_type": "display_data"
    }
   ],
   "source": [
    "%matplotlib inline\n",
    "import numpy as np\n",
    "import matplotlib.pyplot as plt\n",
    "\n",
    "plt.style.use('seaborn-whitegrid')\n",
    "plt.rcParams[\"figure.figsize\"] = (14,5)\n",
    "\n",
    "x = np.linspace(0, 10, 100)\n",
    "plt.plot(x, np.sin(x))\n",
    "plt.plot(x, np.cos(x));"
   ]
  },
  {
   "cell_type": "code",
   "execution_count": 10,
   "metadata": {
    "slideshow": {
     "slide_type": "fragment"
    }
   },
   "outputs": [
    {
     "data": {
      "image/png": "[encoded data removed]",
      "text/plain": [
       "<matplotlib.figure.Figure at 0x7f9a71ffcd30>"
      ]
     },
     "metadata": {},
     "output_type": "display_data"
    }
   ],
   "source": [
    "# 그래프의 색깔과 스타일\n",
    "plt.plot(x, np.sin(x), '--', color=\"blue\")\n",
    "plt.plot(x, np.cos(x), ':', color=\"red\")\n",
    "\n",
    "# x, y 축의 범위를 재설정하고 각 축의 스케일을 동일하게 설정\n",
    "plt.xlim([-1, 11])\n",
    "plt.ylim([-1.5, 1.5])\n",
    "plt.axis('equal')\n",
    "\n",
    "# x, y 축에 레이블, 타이틀\n",
    "plt.title('A sine and cosine curve')\n",
    "plt.xlabel('x')\n",
    "plt.ylabel('y');"
   ]
  },
  {
   "cell_type": "markdown",
   "metadata": {
    "slideshow": {
     "slide_type": "slide"
    }
   },
   "source": [
    "### 등고선 플로팅\n",
    "\n",
    "- $n$ 변수 실함수 그래프 플롯\n",
    "\n",
    "- <span class=\"code-body\">numpy.meshgrid</span>을 이용해서 $xy$평면에 적절히 그리드를 생성\n",
    "\n",
    "```python\n",
    "x = np.linspace(0, 1, 5)\n",
    "y = np.linspace(0, 1, 5)\n",
    "X, Y = np.meshgrid(x, y)\n",
    "\n",
    "print(X)\n",
    "[[ 0.    0.25  0.5   0.75  1.  ]\n",
    " [ 0.    0.25  0.5   0.75  1.  ]\n",
    " [ 0.    0.25  0.5   0.75  1.  ]\n",
    " [ 0.    0.25  0.5   0.75  1.  ]\n",
    " [ 0.    0.25  0.5   0.75  1.  ]]\n",
    " \n",
    "print(Y)\n",
    "[[ 0.    0.    0.    0.    0.  ]\n",
    " [ 0.25  0.25  0.25  0.25  0.25]\n",
    " [ 0.5   0.5   0.5   0.5   0.5 ]\n",
    " [ 0.75  0.75  0.75  0.75  0.75]\n",
    " [ 1.    1.    1.    1.    1.  ]]\n",
    " ```\n",
    " \n",
    " - 위 상태에서 <span class=\"code-body\">X[0,0], Y[0,0]</span> 는 <span class=\"code-body\">(0,0)</span>, <span class=\"code-body\">X[0,1], Y[0,0]</span>는 <span class=\"code-body\">(0.25, 0)</span>이 되는 식"
   ]
  },
  {
   "cell_type": "code",
   "execution_count": 11,
   "metadata": {
    "slideshow": {
     "slide_type": "fragment"
    }
   },
   "outputs": [
    {
     "data": {
      "image/png": "[encoded data removed]",
      "text/plain": [
       "<matplotlib.figure.Figure at 0x7f9a744b3630>"
      ]
     },
     "metadata": {},
     "output_type": "display_data"
    }
   ],
   "source": [
    "%matplotlib inline\n",
    "plt.rcParams[\"figure.figsize\"] = (7,7)\n",
    "\n",
    "import numpy as np\n",
    "import matplotlib.pyplot as plt\n",
    "plt.style.use('seaborn-whitegrid')\n",
    "\n",
    "# 2변수 실함수를 정의\n",
    "def f(x,y):\n",
    "    return np.sin(x) ** 10 + np.cos(10 + y * x) * np.cos(x)\n",
    "\n",
    "x = np.linspace(0, 5, 100)\n",
    "y = np.linspace(0, 5, 100)\n",
    "\n",
    "# [0,5]x[0,5] 영역을 생성\n",
    "X, Y = np.meshgrid(x, y)\n",
    "\n",
    "# 리턴되는 Z도 X, Y와 같은 shape을 가짐\n",
    "Z = f(X, Y)\n",
    "\n",
    "# 흑백 그림에서 음의 값은 점선으로 표시\n",
    "plt.contour(X, Y, Z, colors='black');"
   ]
  },
  {
   "cell_type": "code",
   "execution_count": 12,
   "metadata": {
    "slideshow": {
     "slide_type": "fragment"
    }
   },
   "outputs": [
    {
     "data": {
      "image/png": "[encoded data removed]",
      "text/plain": [
       "<matplotlib.figure.Figure at 0x7f9a744e1470>"
      ]
     },
     "metadata": {},
     "output_type": "display_data"
    }
   ],
   "source": [
    "plt.rcParams[\"figure.figsize\"] = (7,7)\n",
    "\n",
    "# 등고선을 위한 level을 20개로 컬러맵을 RedGray로\n",
    "plt.contour(X, Y, Z, 20, cmap='RdGy');"
   ]
  },
  {
   "cell_type": "markdown",
   "metadata": {},
   "source": [
    "# 파이썬 넘파이python numpy<sup>[quick numpy]</sup> \n",
    "\n",
    "## ndarray\n",
    "\n",
    "- numpy에서 제공하는 메인 객체인 배열\n",
    "\n",
    "-  다차원 배열<sup>multidimensional array</sup>로써 1차원 배열(벡터), 2차원 배열(행렬), 3차원 배열(큐브), 4차원 배열(큐브가 여러개 모인것) 등등 계속 차원을 늘릴수 있음\n",
    "\n",
    "- 속성\n",
    "\n",
    "    - <span class=\"code-body\">ndarray.ndim</span>  : 배열 축<sup>axis</sup>의 개수\n",
    "    - <span class=\"code-body\">ndarray.shape</span> : 배열의 각 축방향 차원\n",
    "    - <span class=\"code-body\">ndarray.dtype</span> : 배열 요소들의 자료형\n",
    "    "
   ]
  },
  {
   "cell_type": "markdown",
   "metadata": {},
   "source": [
    "### 생성\n",
    "- 생성은 행우선 방식으로 [ ]로 적어주면 됨\n",
    "\n",
    "$$\n",
    "\\mathbf{A} = \\begin{bmatrix} 1 & 2 \\\\ 3 & 4 \\end{bmatrix}\n",
    "$$\n",
    "\n",
    "```python\n",
    "import numpy as np\n",
    "\n",
    "A = np.array([[1,2],[3,4]])\n",
    "\n",
    "# 랜덤으로 생성\n",
    "B = np.random.rand(10)\n",
    "C = np.random.rand(25).reshape(5,-1)\n",
    "D = np.random.randint(1, 11, 9).reshape(3,3)\n",
    "```"
   ]
  },
  {
   "cell_type": "code",
   "execution_count": 13,
   "metadata": {},
   "outputs": [
    {
     "name": "stdout",
     "output_type": "stream",
     "text": [
      "[[1 2]\n",
      " [3 4]]\n",
      "\n",
      "\n",
      "[0.2808 0.7536 0.6537 0.7796 0.3055 0.2448 0.2685 0.7039 0.1027 0.7646]\n",
      "\n",
      "\n",
      "[[0.8414 0.7271 0.2514 0.0778 0.3691]\n",
      " [0.6821 0.6194 0.759  0.2532 0.8755]\n",
      " [0.2295 0.5218 0.9514 0.5744 0.668 ]\n",
      " [0.6056 0.7415 0.5532 0.125  0.0834]\n",
      " [0.7663 0.2454 0.2993 0.6772 0.5039]]\n",
      "\n",
      "\n",
      "[[3 5 1]\n",
      " [2 7 5]\n",
      " [6 4 7]]\n"
     ]
    }
   ],
   "source": [
    "A = np.array([[1,2],[3,4]])\n",
    "\n",
    "# 랜덤으로 생성\n",
    "B = np.random.rand(10)\n",
    "C = np.random.rand(25).reshape(5,-1)\n",
    "D = np.random.randint(1, 11, 9).reshape(3,3)\n",
    "\n",
    "print(A)\n",
    "print(\"\\n\")\n",
    "\n",
    "print(B)\n",
    "print(\"\\n\")\n",
    "\n",
    "print(C)\n",
    "print(\"\\n\")\n",
    "\n",
    "print(D)"
   ]
  },
  {
   "cell_type": "code",
   "execution_count": 5,
   "metadata": {},
   "outputs": [
    {
     "name": "stdout",
     "output_type": "stream",
     "text": [
      "(5, 5)\n",
      "------------------------------\n",
      "(4,)\n",
      "[1 2 3 4]\n",
      "------------------------------\n",
      "(4, 1)\n",
      "[[1]\n",
      " [2]\n",
      " [3]\n",
      " [4]]\n"
     ]
    }
   ],
   "source": [
    "import numpy as np\n",
    "C = np.random.rand(25).reshape(5,-1)\n",
    "print(C.shape)\n",
    "print('-'*30)\n",
    "\n",
    "a = np.array([1,2,3,4])\n",
    "print(a.shape)\n",
    "print(a)\n",
    "print('-'*30)\n",
    "\n",
    "a = a.reshape(-1,1)\n",
    "print(a.shape)\n",
    "print(a)"
   ]
  },
  {
   "cell_type": "markdown",
   "metadata": {},
   "source": [
    "### 벡터로써의 ndarray\n",
    "\n",
    "- 1차원 <span class=\"code-body\">ndarray</span>는 축이 1개 즉, \n",
    "\n",
    "```python\n",
    "a = np.array([1,2,3,4])\n",
    "```\n",
    "\n",
    "의 <span class=\"code-body\">shape</span>는 <span class=\"code-body\">(4,)</span>, **<span class=\"code-body\">(1,4)</span>가 아님을 주의**\n",
    "\n",
    "- 열벡터로 만들고 싶으면\n",
    "\n",
    "```python\n",
    "a.reshape(-1,1) #index에 -1을 지정하면 남은 요소를 자동으로 배열\n",
    "```\n",
    "\n",
    "- 행이나 열 하나를 가지는 행렬과 동일"
   ]
  },
  {
   "cell_type": "code",
   "execution_count": 14,
   "metadata": {},
   "outputs": [
    {
     "name": "stdout",
     "output_type": "stream",
     "text": [
      "(4,)\n",
      "[1 2 3 4]\n",
      "(4, 1)\n",
      "[[1]\n",
      " [2]\n",
      " [3]\n",
      " [4]]\n"
     ]
    }
   ],
   "source": [
    "a = np.array([1,2,3,4])\n",
    "print(a.shape)\n",
    "print(a)\n",
    "\n",
    "a = a.reshape(-1,1)\n",
    "print(a.shape)\n",
    "print(a)"
   ]
  },
  {
   "cell_type": "markdown",
   "metadata": {},
   "source": [
    "### axis\n",
    "\n",
    "- 배열의 요소가 늘어선 방향\n",
    "\n",
    "- 0부터 번호가 증가, 새롭개 생긴 axis가 0번\n",
    "\n",
    "<img src=\"imgs/linalg08.png\" width=\"800\"/>\n",
    "\n",
    "- newaxis\n",
    "\n",
    "```python\n",
    "A = np.arange(10)\n",
    "print(\"A, {}\".format(A.shape))\n",
    "print(A)\n",
    "print('\\n')\n",
    "\n",
    "print(\"A[np.newaxis, :], {}\".format(A[np.newaxis, :].shape))\n",
    "print(A[np.newaxis, :])\n",
    "print('\\n')\n",
    "\n",
    "print(\"A[ :, np.newaxis], {}\".format(A[ :, np.newaxis].shape))\n",
    "print(A[ :, np.newaxis])\n",
    "```"
   ]
  },
  {
   "cell_type": "code",
   "execution_count": 7,
   "metadata": {},
   "outputs": [
    {
     "name": "stdout",
     "output_type": "stream",
     "text": [
      "A, (10,)\n",
      "[0 1 2 3 4 5 6 7 8 9]\n",
      "\n",
      "\n",
      "A[np.newaxis, :], (1, 10)\n",
      "[[0 1 2 3 4 5 6 7 8 9]]\n",
      "\n",
      "\n",
      "A[ :, np.newaxis], (10, 1)\n",
      "[[0]\n",
      " [1]\n",
      " [2]\n",
      " [3]\n",
      " [4]\n",
      " [5]\n",
      " [6]\n",
      " [7]\n",
      " [8]\n",
      " [9]]\n"
     ]
    }
   ],
   "source": [
    "A = np.arange(10)\n",
    "print(\"A, {}\".format(A.shape))\n",
    "print(A)\n",
    "print('\\n')\n",
    "\n",
    "print(\"A[np.newaxis, :], {}\".format(A[np.newaxis, :].shape))\n",
    "print(A[np.newaxis, :])\n",
    "print('\\n')\n",
    "\n",
    "print(\"A[ :, np.newaxis], {}\".format(A[ :, np.newaxis].shape))\n",
    "print(A[ :, np.newaxis])"
   ]
  },
  {
   "cell_type": "markdown",
   "metadata": {},
   "source": [
    "### ndarray를 이용한 행렬 연산\n",
    "\n",
    "#### 어레이의 합, 차\n",
    "\n",
    "- 기본 +, -  연산자를 그냥 쓰면 됨\n",
    "\n",
    "- 그 자체로 행렬연산"
   ]
  },
  {
   "cell_type": "code",
   "execution_count": 16,
   "metadata": {},
   "outputs": [
    {
     "name": "stdout",
     "output_type": "stream",
     "text": [
      "A\n",
      "[[1 3 4]\n",
      " [5 3 4]\n",
      " [4 5 2]]\n",
      "\n",
      "\n",
      "B\n",
      "[[5 7 3]\n",
      " [2 1 0]\n",
      " [5 6 3]]\n",
      "\n",
      "\n",
      "A+B\n",
      "[[ 6 10  7]\n",
      " [ 7  4  4]\n",
      " [ 9 11  5]]\n",
      "\n",
      "\n",
      "A-B\n",
      "[[-4 -4  1]\n",
      " [ 3  2  4]\n",
      " [-1 -1 -1]]\n"
     ]
    }
   ],
   "source": [
    "A = np.array([[1,3,4], [5,3,4], [4,5,2]])\n",
    "B = np.array([[5,7,3], [2,1,0], [5,6,3]])\n",
    "\n",
    "print(\"A\")\n",
    "print(A)\n",
    "print('\\n')\n",
    "\n",
    "print(\"B\")\n",
    "print(B)\n",
    "print('\\n')\n",
    "\n",
    "print(\"A+B\")\n",
    "print(A+B)\n",
    "print('\\n')\n",
    "\n",
    "print(\"A-B\")\n",
    "print(A-B)"
   ]
  },
  {
   "cell_type": "markdown",
   "metadata": {},
   "source": [
    "#### 어레이의 상수배와 곱\n"
   ]
  },
  {
   "cell_type": "code",
   "execution_count": 17,
   "metadata": {},
   "outputs": [
    {
     "name": "stdout",
     "output_type": "stream",
     "text": [
      "3A\n",
      "[[ 3  9 12]\n",
      " [15  9 12]\n",
      " [12 15  6]]\n",
      "\n",
      "\n",
      "A*3\n",
      "[[ 3  9 12]\n",
      " [15  9 12]\n",
      " [12 15  6]]\n"
     ]
    }
   ],
   "source": [
    "print(\"3A\")\n",
    "print(3*A)\n",
    "print(\"\\n\")\n",
    "\n",
    "print(\"A*3\")\n",
    "print(A*3)"
   ]
  },
  {
   "cell_type": "markdown",
   "metadata": {},
   "source": [
    "### ndarray 인덱싱\n",
    "\n",
    "#### 축하나에 대한 인덱싱\n",
    "\n",
    "- 배열의 요소에 접근하기 위해서는 인덱스를 사용\n",
    "\n",
    "- 인덱스는 0부터 시작\n",
    "\n",
    "```python\n",
    "A = np.array([1,2,3,4,5,6,7,8,9,10]) \n",
    "A[0:3] #A[시작인덱스:끝인덱스]->[1,2,3]\n",
    "```\n",
    "\n",
    "- 끝 인덱스는 포함되지 않음을 주의\n",
    "\n",
    "- 다음과 같은 수학적 연속구간을 구현하기 위함\n",
    "\n",
    "$$\n",
    "[a, b), [b, c), [c, d)\n",
    "$$\n",
    "\n",
    "- 스탭 : <span class=\"code-body\">A[start:stop:step]</span>\n",
    "    - start(포함)에서 stop(미포함)까지 step씩 건너 뛰면서"
   ]
  },
  {
   "cell_type": "code",
   "execution_count": 18,
   "metadata": {},
   "outputs": [
    {
     "name": "stdout",
     "output_type": "stream",
     "text": [
      "A[0:3] : [1 2 3]\n",
      "\n",
      "\n",
      "A[0::2] : [ 1  4  7 10]\n",
      "\n",
      "\n",
      "A[::-1] : [10  9  8  7  6  5  4  3  2  1]\n"
     ]
    }
   ],
   "source": [
    "A = np.array([1,2,3,4,5,6,7,8,9,10]) \n",
    "\n",
    "print(\"A[0:3] : {}\".format(A[0:3]))\n",
    "print(\"\\n\")\n",
    "\n",
    "print(\"A[0::2] : {}\".format(A[0::3]))\n",
    "print(\"\\n\")\n",
    "\n",
    "print(\"A[::-1] : {}\".format(A[::-1]))"
   ]
  },
  {
   "cell_type": "markdown",
   "metadata": {},
   "source": [
    "#### 2축 이상에 대한 인덱싱\n",
    "\n",
    "$$\n",
    "\\mathbf{C} = \\begin{bmatrix}\n",
    "0 & 1 & 2 & \\color{OrangeRed}{3 }& \\color{OrangeRed}{4} \\\\\n",
    "5 & 6 & 7 & \\color{OrangeRed}{8} & \\color{OrangeRed}{9} \\\\\n",
    "10 & 11 & \\color{RoyalBlue}{12} & \\color{OrangeRed}{13} & \\color{OrangeRed}{14} \\\\\n",
    "\\vdots & \\vdots & \\vdots & \\vdots & \\vdots \\\\\n",
    "\\color{Green}{45} & 46 & \\color{Green}{47} & 48  & \\color{Green}{49}\n",
    "\\end{bmatrix}\n",
    "$$\n",
    "\n",
    "- 3행 3열 요소\n",
    "```python\n",
    "C[2,2] # 12\n",
    "```\n",
    "\n",
    "- 1행에서 3행까지~4열에서 5열까지 : 각 인덱스 자리에서 \"시작인덱스:끝인덱스\" 문법 적용\n",
    " ```python\n",
    "C[0:3, 3:5]\n",
    " ```\n"
   ]
  },
  {
   "cell_type": "code",
   "execution_count": 15,
   "metadata": {},
   "outputs": [
    {
     "name": "stdout",
     "output_type": "stream",
     "text": [
      "C\n",
      "[[ 0  1  2  3  4]\n",
      " [ 5  6  7  8  9]\n",
      " [10 11 12 13 14]\n",
      " [15 16 17 18 19]\n",
      " [20 21 22 23 24]\n",
      " [25 26 27 28 29]\n",
      " [30 31 32 33 34]\n",
      " [35 36 37 38 39]\n",
      " [40 41 42 43 44]\n",
      " [45 46 47 48 49]]\n",
      "\n",
      "\n",
      "C[2,2]\n",
      "12\n",
      "\n",
      "\n",
      "C[0:3, 4:5]\n",
      "[[ 3  4]\n",
      " [ 8  9]\n",
      " [13 14]]\n",
      "\n",
      "\n",
      "C의 모든행에 대해서 1열을 추출\n",
      "C[:,0].reshape(-1,1)\n",
      "[[ 0]\n",
      " [ 5]\n",
      " [10]\n",
      " [15]\n",
      " [20]\n",
      " [25]\n",
      " [30]\n",
      " [35]\n",
      " [40]\n",
      " [45]]\n",
      "\n",
      "\n",
      "C의 마지막 행에서 홀수 열만 추출\n",
      "print(C[-1,:][0::2])\n",
      "[45 47 49]\n",
      "\n",
      "\n",
      "C의 짝수만 뽑아서 4x6행렬로 만들기\n",
      "C.reshape(1,-1)[0][2:50:2].reshape(4,-1)\n",
      "[[ 2  4  6  8 10 12]\n",
      " [14 16 18 20 22 24]\n",
      " [26 28 30 32 34 36]\n",
      " [38 40 42 44 46 48]]\n"
     ]
    }
   ],
   "source": [
    "C = np.arange(50).reshape(10,5)\n",
    "print(\"C\")\n",
    "print(C)\n",
    "print(\"\\n\")\n",
    "\n",
    "print(\"C[2,2]\")\n",
    "print(C[2,2])\n",
    "print(\"\\n\")\n",
    "\n",
    "print(\"C[0:3, 4:5]\")\n",
    "print(C[0:3, 3:5])\n",
    "print(\"\\n\")\n",
    "\n",
    "\n",
    "print(\"C의 모든행에 대해서 1열을 추출\")\n",
    "print(\"C[:,0].reshape(-1,1)\")\n",
    "print(C[:,0].reshape(-1,1))\n",
    "print(\"\\n\")\n",
    "\n",
    "print(\"C의 마지막 행에서 홀수 열만 추출\")\n",
    "print(\"print(C[-1,:][0::2])\")\n",
    "print(C[-1,:][0::2])\n",
    "print(\"\\n\")\n",
    "\n",
    "print(\"C의 짝수만 뽑아서 4x6행렬로 만들기\")\n",
    "print(\"C.reshape(1,-1)[0][2:50:2].reshape(4,-1)\")\n",
    "print(C.reshape(1,-1)[0][2:50:2].reshape(4,-1))"
   ]
  },
  {
   "cell_type": "markdown",
   "metadata": {},
   "source": [
    "### ndarray 모양 바꾸기, 전치\n",
    "\n",
    "- <span class=\"code-body\">reshape(a)</span> : 어레이의 모양을 <span class=\"code-body\">a</span>에 지정된 모양으로 바꿈\n",
    "\n",
    "- <span class=\"code-body\">transpose(axis)</span> : 행렬의 전치와 같은 역할, 3개축 이상에서도 같은 논리로 동작\n",
    "\n",
    "<img src=\"imgs/3D-array.png\" width=\"350\">"
   ]
  },
  {
   "cell_type": "code",
   "execution_count": 16,
   "metadata": {},
   "outputs": [
    {
     "name": "stdout",
     "output_type": "stream",
     "text": [
      "A\n",
      "[ 1  2  3  4  5  6  7  8  9 10 11 12 13 14 15 16 17 18]\n",
      "\n",
      "\n",
      "A\n",
      "[[[ 1  2  3]\n",
      "  [ 4  5  6]\n",
      "  [ 7  8  9]]\n",
      "\n",
      " [[10 11 12]\n",
      "  [13 14 15]\n",
      "  [16 17 18]]]\n",
      "\n",
      "\n"
     ]
    }
   ],
   "source": [
    "A = np.arange(1, 19)\n",
    "print(\"A\")\n",
    "print(A)\n",
    "print(\"\\n\")\n",
    "\n",
    "A = A.reshape(2, 3, 3)\n",
    "print(\"A\")\n",
    "print(A)\n",
    "print(\"\\n\")"
   ]
  },
  {
   "cell_type": "code",
   "execution_count": 17,
   "metadata": {},
   "outputs": [
    {
     "name": "stdout",
     "output_type": "stream",
     "text": [
      "B=A[0,:]\n",
      "[[1 2 3]\n",
      " [4 5 6]\n",
      " [7 8 9]]\n",
      "B.T\n",
      "[[1 4 7]\n",
      " [2 5 8]\n",
      " [3 6 9]]\n",
      "\n",
      "\n"
     ]
    }
   ],
   "source": [
    "B = A[0,:]\n",
    "print(\"B=A[0,:]\")\n",
    "print(B)\n",
    "print(\"B.T\")\n",
    "print(B.T)\n",
    "print(\"\\n\")"
   ]
  },
  {
   "cell_type": "markdown",
   "metadata": {},
   "source": [
    "<img src=\"imgs/3D-array.png\" width=\"350\">"
   ]
  },
  {
   "cell_type": "code",
   "execution_count": 18,
   "metadata": {},
   "outputs": [
    {
     "name": "stdout",
     "output_type": "stream",
     "text": [
      "A.transpose(2, 0, 1)\n",
      "[[[ 1  4  7]\n",
      "  [10 13 16]]\n",
      "\n",
      " [[ 2  5  8]\n",
      "  [11 14 17]]\n",
      "\n",
      " [[ 3  6  9]\n",
      "  [12 15 18]]]\n",
      "\n",
      "\n"
     ]
    }
   ],
   "source": [
    "print(\"A.transpose(2, 0, 1)\")\n",
    "print(A.transpose(2, 0, 1))\n",
    "print(\"\\n\")"
   ]
  },
  {
   "cell_type": "markdown",
   "metadata": {},
   "source": [
    "<img src=\"imgs/3D-array.png\" width=\"350\">"
   ]
  },
  {
   "cell_type": "code",
   "execution_count": 19,
   "metadata": {},
   "outputs": [
    {
     "name": "stdout",
     "output_type": "stream",
     "text": [
      "A.transpose(1, 2,  0)\n",
      "[[[ 1 10]\n",
      "  [ 2 11]\n",
      "  [ 3 12]]\n",
      "\n",
      " [[ 4 13]\n",
      "  [ 5 14]\n",
      "  [ 6 15]]\n",
      "\n",
      " [[ 7 16]\n",
      "  [ 8 17]\n",
      "  [ 9 18]]]\n",
      "\n",
      "\n"
     ]
    }
   ],
   "source": [
    "print(\"A.transpose(1, 2,  0)\")\n",
    "print(A.transpose(1, 2,  0))\n",
    "print(\"\\n\")"
   ]
  },
  {
   "cell_type": "markdown",
   "metadata": {},
   "source": [
    "<img src=\"imgs/3D-array.png\" width=\"350\">"
   ]
  },
  {
   "cell_type": "code",
   "execution_count": 22,
   "metadata": {},
   "outputs": [
    {
     "name": "stdout",
     "output_type": "stream",
     "text": [
      "A.transpose(2, 1, 0)\n",
      "[[[ 1 10]\n",
      "  [ 4 13]\n",
      "  [ 7 16]]\n",
      "\n",
      " [[ 2 11]\n",
      "  [ 5 14]\n",
      "  [ 8 17]]\n",
      "\n",
      " [[ 3 12]\n",
      "  [ 6 15]\n",
      "  [ 9 18]]]\n",
      "\n",
      "\n"
     ]
    }
   ],
   "source": [
    "print(\"A.transpose(2, 1, 0)\")\n",
    "print(A.transpose(2, 1, 0))\n",
    "print(\"\\n\")"
   ]
  },
  {
   "cell_type": "markdown",
   "metadata": {},
   "source": [
    "<img src=\"imgs/3D-array.png\" width=\"350\">"
   ]
  },
  {
   "cell_type": "code",
   "execution_count": 23,
   "metadata": {},
   "outputs": [
    {
     "name": "stdout",
     "output_type": "stream",
     "text": [
      "A.transpose(2, 1, 0)[::-1]\n",
      "[[[ 3 12]\n",
      "  [ 6 15]\n",
      "  [ 9 18]]\n",
      "\n",
      " [[ 2 11]\n",
      "  [ 5 14]\n",
      "  [ 8 17]]\n",
      "\n",
      " [[ 1 10]\n",
      "  [ 4 13]\n",
      "  [ 7 16]]]\n",
      "\n",
      "\n"
     ]
    }
   ],
   "source": [
    "print(\"A.transpose(2, 1, 0)[::-1]\")\n",
    "print(A.transpose(2, 1, 0)[::-1])\n",
    "print(\"\\n\")"
   ]
  },
  {
   "cell_type": "markdown",
   "metadata": {},
   "source": [
    "### ndarray 분해, 결합\n",
    "\n",
    "$$\n",
    "\\mathbf{A} = \\begin{bmatrix} \\color{RoyalBlue}{1}&\\color{RoyalBlue}{3}&\\color{RoyalBlue}{4} \\\\ \n",
    "\\color{RoyalBlue}{5}&\\color{RoyalBlue}{3}&\\color{RoyalBlue}{4} \\\\ \\color{RoyalBlue}{4}&\\color{RoyalBlue}{5}&\\color{RoyalBlue}{2} \\end{bmatrix}, \\qquad\n",
    "\\mathbf{B} = \\begin{bmatrix} \\color{OrangeRed}{5}&\\color{OrangeRed}{7}&\\color{OrangeRed}{3} \\\\ \n",
    "\\color{OrangeRed}{2}&\\color{OrangeRed}{1}&\\color{OrangeRed}{0} \\\\ \n",
    "\\color{OrangeRed}{5}&\\color{OrangeRed}{6}&\\color{OrangeRed}{3} \\end{bmatrix}\n",
    "$$\n",
    "\n",
    "$$\n",
    "\\text{hstack}(\\mathbf{AB}) = \\begin{bmatrix} \\color{RoyalBlue}{1}&\\color{RoyalBlue}{3}&\\color{RoyalBlue}{4}&\\color{OrangeRed}{5}&\\color{OrangeRed}{7}&\\color{OrangeRed}{3} \\\\ \\color{RoyalBlue}{5}&\\color{RoyalBlue}{3}&\\color{RoyalBlue}{4}&\\color{OrangeRed}{2}&\\color{OrangeRed}{1}&\\color{OrangeRed}{0} \\\\ \\color{RoyalBlue}{4}&\\color{RoyalBlue}{5}&\\color{RoyalBlue}{2}&\\color{OrangeRed}{5}&\\color{OrangeRed}{6}&\\color{OrangeRed}{3} \\end{bmatrix}\n",
    "$$\n",
    "\n",
    "$$\n",
    "\\text{vstack}(\\mathbf{AB}) = \\begin{bmatrix}\n",
    "\\color{RoyalBlue}{1}&\\color{RoyalBlue}{3}&\\color{RoyalBlue}{4} \\\\ \n",
    "\\color{RoyalBlue}{5}&\\color{RoyalBlue}{3}&\\color{RoyalBlue}{4} \\\\ \\color{RoyalBlue}{4}&\\color{RoyalBlue}{5}&\\color{RoyalBlue}{2} \\\\\n",
    "\\color{OrangeRed}{5}&\\color{OrangeRed}{7}&\\color{OrangeRed}{3} \\\\ \n",
    "\\color{OrangeRed}{2}&\\color{OrangeRed}{1}&\\color{OrangeRed}{0} \\\\ \n",
    "\\color{OrangeRed}{5}&\\color{OrangeRed}{6}&\\color{OrangeRed}{3}\n",
    "\\end{bmatrix}\n",
    "$$"
   ]
  },
  {
   "cell_type": "code",
   "execution_count": 21,
   "metadata": {},
   "outputs": [
    {
     "name": "stdout",
     "output_type": "stream",
     "text": [
      "hstack((A,B))\n",
      "[[1 3 4 5 6 3]\n",
      " [5 3 4 2 1 0]\n",
      " [4 5 2 5 6 3]]\n",
      "\n",
      "\n",
      "vstack((A,B))\n",
      "[[1 3 4]\n",
      " [5 3 4]\n",
      " [4 5 2]\n",
      " [5 6 3]\n",
      " [2 1 0]\n",
      " [5 6 3]]\n"
     ]
    }
   ],
   "source": [
    "A = np.array([1,3,4,5,3,4,4,5,2]).reshape(3,3)\n",
    "B = np.array([5,6,3,2,1,0,5,6,3]).reshape(3,3) \n",
    "\n",
    "D = np.hstack((A,B))\n",
    "E = np.vstack((A,B))\n",
    "\n",
    "print(\"hstack((A,B))\")\n",
    "print(D)\n",
    "print(\"\\n\")\n",
    "\n",
    "print(\"vstack((A,B))\")\n",
    "print(E)"
   ]
  },
  {
   "cell_type": "markdown",
   "metadata": {},
   "source": [
    "### 브로드캐스팅\n",
    "\n",
    "- 브로트캐스팅은 Numpy에서 shape가 다른 배열 간에도 산술 연산이 가능하게 하는 메커니즘<sup>[aikorea numpy]</sup>\n",
    "\n",
    "<img src=\"imgs/numpy_broadcasting.png\" width=\"700\">\n",
    "<h5 align=\"center\">http://www.scipy-lectures.org/intro/numpy/operations.html</h5>"
   ]
  },
  {
   "cell_type": "markdown",
   "metadata": {},
   "source": [
    "- 숫자 브로드캐스팅\n",
    "\n",
    "<img src=\"imgs/b-cast1.png\" width=\"500\">"
   ]
  },
  {
   "cell_type": "code",
   "execution_count": 25,
   "metadata": {},
   "outputs": [
    {
     "name": "stdout",
     "output_type": "stream",
     "text": [
      "A\n",
      "[[0. 0. 0.]\n",
      " [0. 0. 0.]\n",
      " [0. 0. 0.]\n",
      " [0. 0. 0.]]\n",
      "\n",
      "\n",
      "A+100\n",
      "[[100. 100. 100.]\n",
      " [100. 100. 100.]\n",
      " [100. 100. 100.]\n",
      " [100. 100. 100.]]\n"
     ]
    }
   ],
   "source": [
    "A = np.zeros((4,3))\n",
    "\n",
    "print(\"A\")\n",
    "print(A)\n",
    "print(\"\\n\")\n",
    "\n",
    "print(\"A+100\")\n",
    "print(A+100)"
   ]
  },
  {
   "cell_type": "markdown",
   "metadata": {},
   "source": [
    "- 열 브로드캐스팅\n",
    "\n",
    "<img src=\"imgs/b-cast2.png\" width=\"500\">"
   ]
  },
  {
   "cell_type": "code",
   "execution_count": 26,
   "metadata": {},
   "outputs": [
    {
     "name": "stdout",
     "output_type": "stream",
     "text": [
      "A\n",
      "[[0. 0. 0.]\n",
      " [0. 0. 0.]\n",
      " [0. 0. 0.]\n",
      " [0. 0. 0.]]\n",
      "\n",
      "\n",
      "c\n",
      "[[100]\n",
      " [200]\n",
      " [300]\n",
      " [400]]\n",
      "\n",
      "\n",
      "A+c\n",
      "[[100. 100. 100.]\n",
      " [200. 200. 200.]\n",
      " [300. 300. 300.]\n",
      " [400. 400. 400.]]\n"
     ]
    }
   ],
   "source": [
    "c = np.array([100, 200, 300, 400]).reshape(4,1)\n",
    "\n",
    "print(\"A\")\n",
    "print(A)\n",
    "print(\"\\n\")\n",
    "\n",
    "print(\"c\")\n",
    "print(c)\n",
    "print(\"\\n\")\n",
    "\n",
    "print(\"A+c\")\n",
    "print(A+c)"
   ]
  },
  {
   "cell_type": "markdown",
   "metadata": {},
   "source": [
    "- 행 브로드캐스팅\n",
    "\n",
    "<img src=\"imgs/b-cast3.png\" width=\"550\">"
   ]
  },
  {
   "cell_type": "code",
   "execution_count": 28,
   "metadata": {},
   "outputs": [
    {
     "name": "stdout",
     "output_type": "stream",
     "text": [
      "A\n",
      "[[0. 0. 0.]\n",
      " [0. 0. 0.]\n",
      " [0. 0. 0.]\n",
      " [0. 0. 0.]]\n",
      "\n",
      "\n",
      "c\n",
      "[[100 200 300]]\n",
      "\n",
      "\n",
      "[[100. 200. 300.]\n",
      " [100. 200. 300.]\n",
      " [100. 200. 300.]\n",
      " [100. 200. 300.]]\n"
     ]
    }
   ],
   "source": [
    "c = np.array([100, 200, 300]).reshape(1,3)\n",
    "\n",
    "print(\"A\")\n",
    "print(A)\n",
    "print(\"\\n\")\n",
    "\n",
    "print(\"c\")\n",
    "print(c)\n",
    "print(\"\\n\")\n",
    "\n",
    "print(A+c)"
   ]
  },
  {
   "cell_type": "markdown",
   "metadata": {},
   "source": [
    "- 열과 행의 브로드캐스팅\n",
    "\n",
    "<img src=\"imgs/b-cast4.png\" width=\"500\">"
   ]
  },
  {
   "cell_type": "code",
   "execution_count": 25,
   "metadata": {},
   "outputs": [
    {
     "name": "stdout",
     "output_type": "stream",
     "text": [
      "a\n",
      "[[1]\n",
      " [2]\n",
      " [3]\n",
      " [4]]\n",
      "\n",
      "\n",
      "b\n",
      "[5 6 7]\n",
      "\n",
      "\n",
      "a*b\n",
      "[[ 5  6  7]\n",
      " [10 12 14]\n",
      " [15 18 21]\n",
      " [20 24 28]]\n",
      "\n",
      "\n",
      "a+b\n",
      "[[ 6  7  8]\n",
      " [ 7  8  9]\n",
      " [ 8  9 10]\n",
      " [ 9 10 11]]\n"
     ]
    }
   ],
   "source": [
    "a = np.array([1,2,3,4]).reshape(-1,1)  # a의 shape는 (4,1)\n",
    "b = np.array([5,6,7])      # b의 shape는 (3,)\n",
    "\n",
    "print(\"a\")\n",
    "print(a)\n",
    "print(\"\\n\")\n",
    "\n",
    "print(\"b\")\n",
    "print(b)\n",
    "print(\"\\n\")\n",
    "\n",
    "# 열벡터와 1차원 어레이(행벡터)의 곱\n",
    "print(\"a*b\")\n",
    "print(a*b)\n",
    "print(\"\\n\")\n",
    "\n",
    "print(\"a+b\")\n",
    "print(a+b)"
   ]
  },
  {
   "cell_type": "markdown",
   "metadata": {},
   "source": [
    "### 도움되는 함수들 \n",
    "\n",
    "- `np.tile()` : 주어진 어레이를 반복\n",
    "\n",
    "```python\n",
    "A = np.arange(1,10)\n",
    "B = np.tile(A,9).reshape(-1,9)\n",
    "# 결과\n",
    "# A : [1 2 3 4 5 6 7 8 9]\n",
    "# B :\n",
    "# [[1 2 3 4 5 6 7 8 9]\n",
    "#  [1 2 3 4 5 6 7 8 9]\n",
    "#  [1 2 3 4 5 6 7 8 9]\n",
    "#  [1 2 3 4 5 6 7 8 9]\n",
    "#  [1 2 3 4 5 6 7 8 9]\n",
    "#  [1 2 3 4 5 6 7 8 9]\n",
    "#  [1 2 3 4 5 6 7 8 9]\n",
    "#  [1 2 3 4 5 6 7 8 9]\n",
    "#  [1 2 3 4 5 6 7 8 9]]\n",
    "```"
   ]
  },
  {
   "cell_type": "markdown",
   "metadata": {},
   "source": [
    "- `np.flatten()` : n차원 어레이를 1차원 어레이로 만듬\n",
    "\n",
    "```python\n",
    "A = np.arange(9).reshape(3,3)\n",
    "print(A)\n",
    "#결과 : [[0 1 2]\n",
    "#        [3 4 5]\n",
    "#        [6 7 8]]\n",
    "\n",
    "print(A.flatten())\n",
    "#결과 : [0 1 2 3 4 5 6 7 8]\n",
    "\n",
    "B = np.arange(8).reshape(2,2,2)\n",
    "print(B)\n",
    "#결과 : [[[0 1]\n",
    "#         [2 3]]\n",
    "#\n",
    "#        [[4 5]\n",
    "#         [6 7]]]\n",
    "print(B.flatten())\n",
    "#결과 : [0 1 2 3 4 5 6 7]\n",
    "```"
   ]
  },
  {
   "cell_type": "markdown",
   "metadata": {},
   "source": [
    "- `np.where()` : 조건에 맞는 요소의 인덱스를 되돌림 \n",
    "\n",
    "```python\n",
    "A = np.arange(9).reshape(3,3)\n",
    "print(A)\n",
    "#결과 : [[0 1 2]\n",
    "#        [3 4 5]\n",
    "#        [6 7 8]]\n",
    " \n",
    "B = A.flatten()\n",
    "print(B)\n",
    "#결과 : [0 1 2 3 4 5 6 7 8]\n",
    "\n",
    "print(np.where(A < 2))\n",
    "#결과 : (array([0, 0]), array([0, 1]))\n",
    "\n",
    "print(np.where(B < 2))\n",
    "#결과 : (array([0, 1]),)\n",
    "\n",
    "print(A[np.where(A < 2)])\n",
    "#결과 : [0 1]\n",
    "\n",
    "print(B[np.where(B < 2)])\n",
    "#결과 : [0 1]\n",
    "```"
   ]
  },
  {
   "cell_type": "markdown",
   "metadata": {},
   "source": [
    "- `argmax`, `argmin` : 가장 큰(작은) 요소의 인덱스를 되돌림\n",
    "\n",
    "```python\n",
    "A = np.random.randint(0, 100, 9).reshape(3,3)\n",
    "print( np.unravel_index(np.argmax(A, axis=None), A.shape) )\n",
    "print(A)\n",
    "```"
   ]
  },
  {
   "cell_type": "code",
   "execution_count": 34,
   "metadata": {},
   "outputs": [
    {
     "name": "stdout",
     "output_type": "stream",
     "text": [
      "[[38 20 42]\n",
      " [ 7 46 48]\n",
      " [85 90 75]]\n",
      "7\n",
      "(2, 1)\n"
     ]
    }
   ],
   "source": [
    "A = np.random.randint(0, 100, 9).reshape(3,3)\n",
    "print(A)\n",
    "\n",
    "# axis 인자를 0, 1로 바꾸면서 결과 확인해보기\n",
    "print(np.argmax(A, axis=None))\n",
    "print( np.unravel_index(np.argmax(A, axis=None), A.shape) )"
   ]
  },
  {
   "cell_type": "markdown",
   "metadata": {},
   "source": [
    "- r\\_ : 어레이를 열 또는 행방향으로 적층시킴"
   ]
  },
  {
   "cell_type": "code",
   "execution_count": 35,
   "metadata": {},
   "outputs": [
    {
     "name": "stdout",
     "output_type": "stream",
     "text": [
      "np.r_[[1,2,3],[4,5,6]]\n",
      "[1 2 3 4 5 6]\n",
      "\n",
      "\n"
     ]
    }
   ],
   "source": [
    "\"\"\"\n",
    "[1,2,3]과 [4,5,6]을 그냥 가로 방향으로 연결\n",
    "결과 : [1 2 3 4 5 6]\n",
    "\"\"\"\n",
    "print(\"np.r_[[1,2,3],[4,5,6]]\")\n",
    "print(np.r_[[1,2,3],[4,5,6]])\n",
    "print(\"\\n\")"
   ]
  },
  {
   "cell_type": "code",
   "execution_count": 36,
   "metadata": {},
   "outputs": [
    {
     "name": "stdout",
     "output_type": "stream",
     "text": [
      "np.r_['1,2',[1,2,3],[4,5,6]]\n",
      "[[1 2 3 4 5 6]]\n",
      "\n",
      "\n"
     ]
    }
   ],
   "source": [
    "\"\"\"\n",
    "[1,2,3]과 [4,5,6]을 연결하는데 \n",
    "'1, 2' : 연결하는 방향은 1번축 방향→(가로), (모양은) 2차원 배열이 되게\n",
    "결과 : [[1 2 3 4 5 6]]\n",
    "\"\"\"\n",
    "print(\"np.r_['1,2',[1,2,3],[4,5,6]]\")\n",
    "print(np.r_['1,2',[1,2,3],[4,5,6]])\n",
    "print(\"\\n\")"
   ]
  },
  {
   "cell_type": "code",
   "execution_count": 37,
   "metadata": {},
   "outputs": [
    {
     "name": "stdout",
     "output_type": "stream",
     "text": [
      "np.r_['1,2,1',[1,2,3],[4,5,6]]\n",
      "[[1 2 3 4 5 6]]\n",
      "\n",
      "\n"
     ]
    }
   ],
   "source": [
    "\"\"\"\n",
    "[1,2,3]과 [4,5,6]을 연결하는데 \n",
    "'1, 2, 1' : 연결하는 방향은 1번축 방향→, 2차원 배열이 되게, 각 요소의 배열은 1번축 방향으로→\n",
    "결과 : [[1 2 3 4 5 6]]\n",
    "\"\"\"\n",
    "print(\"np.r_['1,2,1',[1,2,3],[4,5,6]]\")\n",
    "print(np.r_['1,2,1',[1,2,3],[4,5,6]])\n",
    "print(\"\\n\")"
   ]
  },
  {
   "cell_type": "code",
   "execution_count": 38,
   "metadata": {},
   "outputs": [
    {
     "name": "stdout",
     "output_type": "stream",
     "text": [
      "np.r_['1,2,0',[1,2,3],[4,5,6]]\n",
      "[[1 4]\n",
      " [2 5]\n",
      " [3 6]]\n",
      "np.c_[[1,2,3],[4,5,6]]\n",
      "[[1 4]\n",
      " [2 5]\n",
      " [3 6]]\n",
      "\n",
      "\n"
     ]
    }
   ],
   "source": [
    "\"\"\"\n",
    "[1,2,3]과 [4,5,6]을 연결하는데 \n",
    "'1, 2, 0' : 연결하는 방향은 1번축 방향→, 2차원 배열이 되게, 각 요소의 배열은 0번축 방향으로↓\n",
    "결과 : [[1 4]\n",
    "        [2 5]\n",
    "        [3 6]]\n",
    "np.c_[] 와 같음        \n",
    "\"\"\"\n",
    "print(\"np.r_['1,2,0',[1,2,3],[4,5,6]]\")\n",
    "print(np.r_['1,2,0',[1,2,3],[4,5,6]])\n",
    "print(\"np.c_[[1,2,3],[4,5,6]]\")\n",
    "print(np.c_[[1,2,3],[4,5,6]])\n",
    "print(\"\\n\")"
   ]
  },
  {
   "cell_type": "code",
   "execution_count": 39,
   "metadata": {},
   "outputs": [
    {
     "name": "stdout",
     "output_type": "stream",
     "text": [
      "np.r_['0,2,0',[1,2,3],[4,5,6]]\n",
      "[[1]\n",
      " [2]\n",
      " [3]\n",
      " [4]\n",
      " [5]\n",
      " [6]]\n",
      "\n",
      "\n"
     ]
    }
   ],
   "source": [
    "\"\"\"\n",
    "[1,2,3]과 [4,5,6]을 연결하는데 \n",
    "'0, 2, 0' : 연결하는 방향은 0번축 방향↓, 2차원 배열이 되게, 각 요소의 배열은 0번축 방향으로↓\n",
    "결과 : [[1]\n",
    "        [2]\n",
    "        [3]\n",
    "        [4]\n",
    "        [5]\n",
    "        [6]]\n",
    "\"\"\"\n",
    "print(\"np.r_['0,2,0',[1,2,3],[4,5,6]]\")\n",
    "print(np.r_['0,2,0',[1,2,3],[4,5,6]])\n",
    "print(\"\\n\")"
   ]
  },
  {
   "cell_type": "code",
   "execution_count": 40,
   "metadata": {},
   "outputs": [
    {
     "name": "stdout",
     "output_type": "stream",
     "text": [
      "np.r_['0,2,1',[1,2,3],[4,5,6]]\n",
      "[[1 2 3]\n",
      " [4 5 6]]\n"
     ]
    }
   ],
   "source": [
    "\"\"\"\n",
    "[1,2,3]과 [4,5,6]을 연결하는데 \n",
    "'0, 2, 1' : 연결하는 방향은 0번축 방향↓, 2차원 배열이 되게, 각 요소의 배열은 1번축 방향으로→\n",
    "결과 : [[1 2 3]\n",
    "        [4 5 6]]\n",
    "\"\"\"\n",
    "print(\"np.r_['0,2,1',[1,2,3],[4,5,6]]\")\n",
    "print(np.r_['0,2,1',[1,2,3],[4,5,6]])"
   ]
  },
  {
   "cell_type": "markdown",
   "metadata": {},
   "source": [
    "### 코드 구조까지 알고 만들 수 있는 코드 조각을 numpy로 구현 해보기\n",
    "\n",
    "#### 두 리스트에서 같은 위치의 요소를 각각 더하는 코드\n"
   ]
  },
  {
   "cell_type": "code",
   "execution_count": 28,
   "metadata": {},
   "outputs": [
    {
     "name": "stdout",
     "output_type": "stream",
     "text": [
      "[[ 12  24  36]\n",
      " [ 48  60  72]\n",
      " [ 84  96 108]]\n",
      "\n",
      "\n"
     ]
    }
   ],
   "source": [
    "A = [[1,2,3],[4,5,6],[7,8,9]]\n",
    "B = [[11,22,33],[44,55,66],[77,88,99]]\n",
    "\n",
    "# 넘파이를 쓰면...\n",
    "C2 = np.array(np.asarray(A)+np.asarray(B))\n",
    "print(C2)\n",
    "print('\\n')"
   ]
  },
  {
   "cell_type": "markdown",
   "metadata": {},
   "source": [
    "#### 위와 동일한 덧셈을 수행하면서 대각선 요소만 곱하기 2를 하는 코드"
   ]
  },
  {
   "cell_type": "code",
   "execution_count": 29,
   "metadata": {},
   "outputs": [
    {
     "name": "stdout",
     "output_type": "stream",
     "text": [
      "[[ 24.  24.  36.]\n",
      " [ 48. 120.  72.]\n",
      " [ 84.  96. 216.]]\n"
     ]
    }
   ],
   "source": [
    "# 넘파이를 이용하면\n",
    "C2 = np.array(np.asarray(A)+np.asarray(B)) * (np.ones_like(np.asarray(A))+np.eye(*np.asarray(A).shape))\n",
    "print(C2)"
   ]
  },
  {
   "cell_type": "markdown",
   "metadata": {
    "slideshow": {
     "slide_type": "slide"
    }
   },
   "source": [
    "## 참고문헌\n",
    "\n",
    "1. [swaroop] A Byte of Python, Swaroop C H, http://byteofpython-korean.sourceforge.net/byte_of_python.html\n",
    "\n",
    "2. [intro. python] 처음 시작하는 파이썬Introducing Python, 빌 루바노빅, 한빛미디어\n",
    "\n",
    "3. [wiki:python] https://ko.wikipedia.org/wiki/파이썬\n",
    "\n",
    "4. [docs:string] https://docs.python.org/3.4/library/string.html\n",
    "\n",
    "5. [docs:zen] http://docs.python-guide.org/en/latest/writing/style/#zen-of-python\n",
    "\n",
    "6. [jakevdp] 파이썬 데이터 사이언스 핸드북, 제이크 밴더플래스, 위키북스, https://jakevdp.github.io/PythonDataScienceHandbook/\n",
    "\n",
    "7. [quick numpy] Numpy Quickstart tutorial, https://docs.scipy.org/doc/numpy-1.13.0/user/quickstart.html\n",
    "\n",
    "8. [aikore numpy] Python Numpy Tutorial,  http://aikorea.org/cs231n/python-numpy-tutorial/#numpy-broadcasting"
   ]
  },
  {
   "cell_type": "code",
   "execution_count": 41,
   "metadata": {
    "slideshow": {
     "slide_type": "skip"
    }
   },
   "outputs": [
    {
     "data": {
      "text/html": [
       "<link href='https://fonts.googleapis.com/earlyaccess/notosanskr.css' rel='stylesheet' type='text/css'>\n",
       "<!--https://github.com/kattergil/NotoSerifKR-Web/stargazers-->\n",
       "<link href='https://cdn.rawgit.com/kattergil/NotoSerifKR-Web/5e08423b/stylesheet/NotoSerif-Web.css' rel='stylesheet' type='text/css'>\n",
       "<!--https://github.com/Joungkyun/font-d2coding-->\n",
       "<link href=\"http://cdn.jsdelivr.net/gh/joungkyun/font-d2coding/d2coding.css\" rel=\"stylesheet\" type=\"text/css\">\n",
       "<style>\n",
       "    h1     { font-family: 'Noto Sans KR' !important; color:#348ABD !important;   }\n",
       "    h2     { font-family: 'Noto Sans KR' !important; color:#467821 !important;   }\n",
       "    h3, h4 { font-family: 'Noto Sans KR' !important; color:#A60628 !important;   }\n",
       "    p:not(.navbar-text) { font-family: 'Noto Serif KR', 'Nanum Myeongjo'; font-size: 12pt; line-height: 200%;  text-indent: 10px; }\n",
       "    li:not(.dropdown):not(.p-TabBar-tab):not(.p-MenuBar-item):not(.jp-DirListing-item):not(.p-CommandPalette-header):not(.p-CommandPalette-item):not(.jp-RunningSessions-item):not(.p-Menu-item)   \n",
       "            { font-family: 'Noto Serif KR', 'Nanum Myeongjo'; font-size: 12pt; line-height: 200%; }\n",
       "    table  { font-family: 'Noto Sans KR' !important;  font-size: 11pt !important; }           \n",
       "    li > p  { text-indent: 0px; }\n",
       "    li > ul { margin-top: 0px !important; }       \n",
       "    sup { font-family: 'Noto Sans KR'; font-size: 9pt; } \n",
       "    code, pre  { font-family: D2Coding, 'D2 coding' !important; font-size: 12pt !important; line-height: 130% !important;}\n",
       "    .code-body { font-family: D2Coding, 'D2 coding' !important; font-size: 12pt !important;}\n",
       "    .ns        { font-family: 'Noto Sans KR'; font-size: 15pt;}\n",
       "    .summary   {\n",
       "                   font-family: 'Georgia'; font-size: 12pt; line-height: 200%; \n",
       "                   border-left:3px solid #FF0000; \n",
       "                   padding-left:20px; \n",
       "                   margin-top:10px;\n",
       "                   margin-left:15px;\n",
       "               }\n",
       "    .green { color:#467821 !important; }\n",
       "    .comment { font-family: 'Noto Sans KR'; font-size: 10pt; }\n",
       "</style>"
      ],
      "text/plain": [
       "<IPython.core.display.HTML object>"
      ]
     },
     "metadata": {},
     "output_type": "display_data"
    }
   ],
   "source": [
    "%%html\n",
    "<link href='https://fonts.googleapis.com/earlyaccess/notosanskr.css' rel='stylesheet' type='text/css'>\n",
    "<!--https://github.com/kattergil/NotoSerifKR-Web/stargazers-->\n",
    "<link href='https://cdn.rawgit.com/kattergil/NotoSerifKR-Web/5e08423b/stylesheet/NotoSerif-Web.css' rel='stylesheet' type='text/css'>\n",
    "<!--https://github.com/Joungkyun/font-d2coding-->\n",
    "<link href=\"http://cdn.jsdelivr.net/gh/joungkyun/font-d2coding/d2coding.css\" rel=\"stylesheet\" type=\"text/css\">\n",
    "<style>\n",
    "    h1     { font-family: 'Noto Sans KR' !important; color:#348ABD !important;   }\n",
    "    h2     { font-family: 'Noto Sans KR' !important; color:#467821 !important;   }\n",
    "    h3, h4 { font-family: 'Noto Sans KR' !important; color:#A60628 !important;   }\n",
    "    p:not(.navbar-text) { font-family: 'Noto Serif KR', 'Nanum Myeongjo'; font-size: 12pt; line-height: 200%;  text-indent: 10px; }\n",
    "    li:not(.dropdown):not(.p-TabBar-tab):not(.p-MenuBar-item):not(.jp-DirListing-item):not(.p-CommandPalette-header):not(.p-CommandPalette-item):not(.jp-RunningSessions-item):not(.p-Menu-item)   \n",
    "            { font-family: 'Noto Serif KR', 'Nanum Myeongjo'; font-size: 12pt; line-height: 200%; }\n",
    "    table  { font-family: 'Noto Sans KR' !important;  font-size: 11pt !important; }           \n",
    "    li > p  { text-indent: 0px; }\n",
    "    li > ul { margin-top: 0px !important; }       \n",
    "    sup { font-family: 'Noto Sans KR'; font-size: 9pt; } \n",
    "    code, pre  { font-family: D2Coding, 'D2 coding' !important; font-size: 12pt !important; line-height: 130% !important;}\n",
    "    .code-body { font-family: D2Coding, 'D2 coding' !important; font-size: 12pt !important;}\n",
    "    .ns        { font-family: 'Noto Sans KR'; font-size: 15pt;}\n",
    "    .summary   {\n",
    "                   font-family: 'Georgia'; font-size: 12pt; line-height: 200%; \n",
    "                   border-left:3px solid #FF0000; \n",
    "                   padding-left:20px; \n",
    "                   margin-top:10px;\n",
    "                   margin-left:15px;\n",
    "               }\n",
    "    .green { color:#467821 !important; }\n",
    "    .comment { font-family: 'Noto Sans KR'; font-size: 10pt; }\n",
    "</style>"
   ]
  }
 ],
 "metadata": {
  "celltoolbar": "Slideshow",
  "kernelspec": {
   "display_name": "Python 3",
   "language": "python",
   "name": "python3"
  },
  "language_info": {
   "codemirror_mode": {
    "name": "ipython",
    "version": 3
   },
   "file_extension": ".py",
   "mimetype": "text/x-python",
   "name": "python",
   "nbconvert_exporter": "python",
   "pygments_lexer": "ipython3",
   "version": "3.6.5"
  },
  "livereveal": {
   "scroll": true,
   "start_slideshow_at": "selected"
  }
 },
 "nbformat": 4,
 "nbformat_minor": 2
}
