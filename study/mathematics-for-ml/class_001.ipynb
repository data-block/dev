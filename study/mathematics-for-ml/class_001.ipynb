{
 "cells": [
  {
   "cell_type": "markdown",
   "metadata": {},
   "source": [
    "# Mathematics for Machine Learning - 01\n",
    "- http://13.124.113.150:8888/\n",
    "- pw : 1017!!math2\n",
    "\n",
    "\n",
    "## 1. What is Machine Learning?\n",
    "    - 넓은 의미\n",
    "        - \n",
    "    - task T, measure P, exprience E\n",
    "    - 좁은 의미\n",
    "        - \n",
    "\n",
    "    - 아이가 선을 그린다면 ...\n",
    "\n",
    "## 2. Machine Learning Model\n",
    "### 2-1. Supervised Learning\n",
    "#### 2-1-1. Regresstion\n",
    "    - label : 연속된 실수\n",
    "    - ex : 대지면적에 따른 집값, 시간에 따른 트랜지스터 집적 개수, 기온에 따른 빙과류 판매량\n",
    "#### 2-1-2. Classification\n",
    "    - label : (0, 1) 또는 (0, 1, ..., K)\n",
    "    - ex : 개-고양이 분류, 양성종양-악성종양 분류\n",
    "    \n",
    "## 3. Find Linear Line\n",
    "    - Task T : 선을 그린다.\n",
    "    - Measure P : 선과 점의 수직 거리의 총합\n",
    "    - Experience E : 선을 그리고 P를 측정하기를 반복\n",
    "    - Error 최소값 찾기\n",
    "    \n",
    "    - 데이터를 가장 잘 표현하는(설명력이 높은) parameter 찾기\n",
    "    \n",
    "## 4. Find Multiple Linear Line\n",
    "    - 선을 찾는 이유(식을 만드는 이유) : 예측하고 싶어서\n",
    "        - 추세대로라면 이런 경향을 보일 것이다.\n",
    "        - 입력을 넣으면 알맞은 output을 내주는 식이 있지 않을까?"
   ]
  },
  {
   "cell_type": "markdown",
   "metadata": {},
   "source": []
  }
 ],
 "metadata": {
  "kernelspec": {
   "display_name": "Python 3",
   "language": "python",
   "name": "python3"
  },
  "language_info": {
   "codemirror_mode": {
    "name": "ipython",
    "version": 3
   },
   "file_extension": ".py",
   "mimetype": "text/x-python",
   "name": "python",
   "nbconvert_exporter": "python",
   "pygments_lexer": "ipython3",
   "version": "3.6.5"
  }
 },
 "nbformat": 4,
 "nbformat_minor": 2
}
