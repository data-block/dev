{
 "cells": [
  {
   "cell_type": "markdown",
   "metadata": {},
   "source": [
    "## 일변수-실함수 : 지수함수\n",
    "- 정의 : y = a^x, a > 0(독립변수), a != 1\n",
    "- 그래프\n",
    "    - a > 1 : 양의 방향으로 갈수록 증가\n",
    "    - 0 < a < 1 : 양의 방향으로 갈수록 감소\n",
    "    \n",
    "- 몇 가지 지수법칙\n",
    "    - 독립변수를 받아서 밑을 지정해줌(29:00)\n",
    "    "
   ]
  }
 ],
 "metadata": {
  "kernelspec": {
   "display_name": "Python 3",
   "language": "python",
   "name": "python3"
  },
  "language_info": {
   "codemirror_mode": {
    "name": "ipython",
    "version": 3
   },
   "file_extension": ".py",
   "mimetype": "text/x-python",
   "name": "python",
   "nbconvert_exporter": "python",
   "pygments_lexer": "ipython3",
   "version": "3.6.5"
  }
 },
 "nbformat": 4,
 "nbformat_minor": 2
}
