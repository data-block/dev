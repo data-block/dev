{
 "cells": [
  {
   "cell_type": "markdown",
   "metadata": {
    "colab_type": "text",
    "id": "J-wfZxVNZUQ0"
   },
   "source": [
    "# 환영합니다 여러분~"
   ]
  },
  {
   "cell_type": "markdown",
   "metadata": {
    "colab_type": "text",
    "id": "GGNLRz1yZbtY"
   },
   "source": [
    "**안녕하세요 여러분**\n",
    "\n",
    "**데이터 랩 강의에 오신것을 환영합니다.**\n",
    "\n",
    "이번 강의의 학습목표와 수업대상은 다음과 같습니다.\n",
    "\n",
    "- 프로그래밍을 한번도 해보지 않은 일반인을 대상으로 한다\n",
    "- 기초반에서 진행한 기초 통계정도는 알고있다고 가정한다(z,t,F / pearson - r, linear regression)\n",
    "-  python 설치 및 기초문법을 익힌다\n",
    "-  데이터 분석 관련 라이브러리인 numpy와 pandas를 익힌다.\n",
    "\n",
    "처음 프로그래밍을 하는 분들도 환영합니다!\n",
    "\n",
    "자 이제부터 시작해볼까요~\n",
    "\n",
    "\n",
    "<figure>\n",
    "    <img align = \"center\" style=\"display:block;\" height=\"200\" width=\"200\" src = https://e.jjalbox.com/_data/jjalbox/2018/01/20180104_5a4dc8a85c017.jpg>\n",
    "    <figcaption style=\"text-align:center\">GAZUUUUAAAA!!!</figcaption>\n",
    "</figure>"
   ]
  },
  {
   "cell_type": "markdown",
   "metadata": {
    "colab_type": "text",
    "id": "btSeYmeCbRm2"
   },
   "source": [
    "# 1. 이제 진짜로 써보자.python"
   ]
  },
  {
   "cell_type": "markdown",
   "metadata": {
    "colab_type": "text",
    "id": "Fc8KYoFfcr3j"
   },
   "source": [
    "## 1.1 복잡한 설치를 한방에 : anaconda 패키지 소개 및 설치"
   ]
  },
  {
   "cell_type": "markdown",
   "metadata": {
    "colab_type": "text",
    "id": "uo7R43hNyHR-"
   },
   "source": [
    "### 1.1.1 Anaconda 및  tensorflow 한방에 설치하기"
   ]
  },
  {
   "cell_type": "markdown",
   "metadata": {
    "colab_type": "text",
    "id": "3gc9n_1uOlBg"
   },
   "source": [
    "윈도우 10 64bit 기준이지만,\n",
    "\n",
    "mac, linux등에서도 큰 흐름은 같으므로, 보시고 쉽게 따라하실수 있습니다.\n",
    "\n",
    "[여기](https://tensorflow.blog/%EC%9C%88%EB%8F%84%EC%9A%B0%EC%A6%88%EC%97%90-%EC%95%84%EB%82%98%EC%BD%98%EB%8B%A4-%ED%85%90%EC%84%9C%ED%94%8C%EB%A1%9C%EC%9A%B0-%EC%84%A4%EC%B9%98%ED%95%98%EA%B8%B0/)를 클릭하여, 나온 설명대로 따라 진행하세요~"
   ]
  },
  {
   "cell_type": "markdown",
   "metadata": {
    "colab_type": "text",
    "id": "a1mltfODPDUJ"
   },
   "source": [
    "### 1.1.2 만약 설치중 문제가 발생하는 경우."
   ]
  },
  {
   "cell_type": "markdown",
   "metadata": {
    "colab_type": "text",
    "id": "XJj0TehHJo9f"
   },
   "source": [
    "일단 가장먼저 확인할것은 다음과 같습니다\n",
    "\n",
    "- **윈도우의 경우, 64bit인지 확인한다(32bit os는 지원되지 않습니다)**\n",
    "\n",
    "- **윈도우의 사용자 계정(user)의 이름이 한글명인지 확인한다.(한글인경우 문제가 생기는 경우가 많습니다)**\n",
    "\n",
    "<br>\n",
    "\n",
    "윈도우 사용자 계정명이 한글이어서 사용자를 추가 해야하는 경우 [여기](https://answers.microsoft.com/ko-kr/windows/forum/windows_10-security-winpc/windows-10-%EC%97%90%EC%84%9C/ebb6ad55-e69c-45a2-a194-ab38d6fd69c3)를 확인하세요\n",
    "\n",
    "만약 상기 2경우가 아니면 대부분이 path 문제입니다.\n",
    "\n",
    "일단 기존에 설치하셨던 파이썬이 있으면 지운다음에 하시는게...정신건강에 이롭습니다.\n",
    "\n",
    "아나콘다를 설치하실때, 되도록이면 기본 설정을 그대로 유지 해주세요.\n",
    "\n",
    "path를 강제로 지정하는 방법은 [여기](http://dwfox.tistory.com/67)에 설명되어 있습니다.\n",
    "\n"
   ]
  },
  {
   "cell_type": "markdown",
   "metadata": {
    "colab_type": "text",
    "id": "l33CTRv1dePm"
   },
   "source": [
    "## 1.2 jupyter notebook / jupyter lab 에디터 기본 사용법"
   ]
  },
  {
   "cell_type": "markdown",
   "metadata": {
    "colab_type": "text",
    "id": "m2A-Q2cNdoNK"
   },
   "source": [
    "위에서 설치가 다 되신분들은 이제 파이썬으로 데이터 분석할 기본환경은 갖추신 겁니다.\n",
    "\n",
    "자, 이제 에디터인 jupyter lab을 실행해 봅시다.\n",
    "\n",
    "실행방법은 다음과 같습니다.(윈도우 10 기준)\n",
    "\n",
    "시작 > anaconda 3 > anaconda navigator > jupyter lab 클릭\n",
    "\n",
    "jupyter notebook도 실행방법은 같습니다.\n",
    "\n",
    "jupyter lab/ notebook의 특징은 다음과 같습니다.\n",
    "\n",
    "<br>\n",
    "\n",
    "- 셀 단위 실행(셀 추가 / 수정 / 삭제 및 위치변경이 자유롭게 가능). 실행은 셀선택 후 ctrl + enter\n",
    "\n",
    "- 마크다운, html지원\n",
    "\n",
    "- 인터랙티브 한 시각화(노트북상에서 그래프 또는 표 바로 노출)\n",
    "\n",
    "- <u>print문 제거 ???</u>\n",
    "\n",
    "<br>\n",
    "\n",
    "<figure>\n",
    "    <img align = \"center\" style=\"display:block;\" height=\"200\" width=\"350\" src = http://jjalbox.com/_data/jjalbox/2017/12/20171229_5a451120eb2a2.jpg>\n",
    "    <figcaption style=\"text-align:center\">나니? print가 없다고????</figcaption>\n",
    "</figure>\n",
    "\n",
    "<br>\n",
    "두말할 필요없이 아래를 실행시켜 보실까요"
   ]
  },
  {
   "cell_type": "code",
   "execution_count": 0,
   "metadata": {
    "colab": {
     "autoexec": {
      "startup": false,
      "wait_interval": 0
     }
    },
    "colab_type": "code",
    "id": "GJfh1H_Tf-TR"
   },
   "outputs": [],
   "source": [
    "print('Hello world')"
   ]
  },
  {
   "cell_type": "markdown",
   "metadata": {
    "colab_type": "text",
    "id": "OrnjaGHagED0"
   },
   "source": [
    "print라는 명령문은 말그대로 출력을 해달라는겁니다. 내가 원하는어떠한 것을요.\n",
    "\n",
    "문법은 위와같이 출력을 원하는 녀석을 괄호 안에 넣으면 됩니다. (python 3기준)\n",
    "\n",
    "이번에는 print를 빼봅시다"
   ]
  },
  {
   "cell_type": "code",
   "execution_count": 0,
   "metadata": {
    "colab": {
     "autoexec": {
      "startup": false,
      "wait_interval": 0
     }
    },
    "colab_type": "code",
    "id": "ULGa2F6QgPad"
   },
   "outputs": [],
   "source": [
    "'Hello world'"
   ]
  },
  {
   "cell_type": "markdown",
   "metadata": {
    "colab_type": "text",
    "id": "joArVv1ngbJ7"
   },
   "source": [
    "?????? 그래도 실행 잘됨....\n",
    "\n",
    "이것이 다른 에디터에 없는 주피터만이 가진 특징입니다. print문따위 과감히 생략가능!!\n",
    "\n",
    "이번엔 이걸 실행시켜 봅시다"
   ]
  },
  {
   "cell_type": "code",
   "execution_count": 0,
   "metadata": {
    "colab": {
     "autoexec": {
      "startup": false,
      "wait_interval": 0
     }
    },
    "colab_type": "code",
    "id": "w9Y6zipKg9t8"
   },
   "outputs": [],
   "source": [
    "# 'Hello world'"
   ]
  },
  {
   "cell_type": "markdown",
   "metadata": {
    "colab_type": "text",
    "id": "Nc4tcTiEhBBx"
   },
   "source": [
    "?? 아무것도 출력 하지 않습니다. 앞에 # 을 붙이면요.\n",
    "\n",
    "이것을 보고 '주석'이라고 합니다. 앞으로 코드 앞에 #을 붙이면 아무것도 실행안한다고 생각하시면 됩니다.\n",
    "\n",
    "단축키는 ctrl + / 키 입니다"
   ]
  },
  {
   "cell_type": "markdown",
   "metadata": {
    "colab_type": "text",
    "id": "6oGccGOAhpT5"
   },
   "source": [
    "## 1.3 colaboratory??"
   ]
  },
  {
   "cell_type": "markdown",
   "metadata": {
    "colab_type": "text",
    "id": "adBGALmqhxKA"
   },
   "source": [
    "지금 현재 보고계시는 이 에디터는 colaboratory라는 녀석입니다.\n",
    "\n",
    "Google <del>외쳐!! 갓구글!!</del> 에서 만든녀석으로.\n",
    "\n",
    "이녀석을 이용하면 jupyter notebook과 동일한 ui로 \n",
    "\n",
    "여러분들 랩탑또는 데스크탑(로컬)에 python이 깔려 있지 않아도.\n",
    "\n",
    "구글의 서버에 접속함으로써 코드 공유 및 실행을 자유자재로 할수있습니다(무려 GPU가속까지 가능!!! ㅎㄷㄷ)\n",
    "\n",
    "앞으로 코드 설명은 이걸로 진행하겠습니다.\n",
    "\n",
    "자세한 사용방법은 [여기](https://drive.google.com/open?id=1ykr_OJvjj8rcJcQSkSmm2PzOaAlk8FvG) 및 [여기](https://research.google.com/colaboratory/faq.html)를 참고하세요!\n",
    "\n",
    "참고로 colaboratory가 깔려있는 서버의  spec은 다음과 같습니다."
   ]
  },
  {
   "cell_type": "code",
   "execution_count": 0,
   "metadata": {
    "colab": {
     "autoexec": {
      "startup": false,
      "wait_interval": 0
     }
    },
    "colab_type": "code",
    "id": "95WkaOa9i1_q"
   },
   "outputs": [],
   "source": [
    "# CPU사양: 나름 듀얼코어. 2.3GHz\n",
    "!cat /proc/cpuinfo"
   ]
  },
  {
   "cell_type": "code",
   "execution_count": 0,
   "metadata": {
    "colab": {
     "autoexec": {
      "startup": false,
      "wait_interval": 0
     }
    },
    "colab_type": "code",
    "id": "oIIGtEsbi6lr"
   },
   "outputs": [],
   "source": [
    "# 메모리. 무려 13기가!!\n",
    "!cat /proc/meminfo"
   ]
  },
  {
   "cell_type": "code",
   "execution_count": 0,
   "metadata": {
    "colab": {
     "autoexec": {
      "startup": false,
      "wait_interval": 0
     }
    },
    "colab_type": "code",
    "id": "TfL2ABvokx0Q"
   },
   "outputs": [],
   "source": [
    "# OS확인. OS는 64비트 리눅스 우분투입니다\n",
    "# 이서버에는 쿨하게 한글 폰트 따위없습니다...시각화할때 한글이 깨지게 됨. 이 해결책은 차후 알려드리겠습니다\n",
    "\n",
    "import platform\n",
    "platform.platform()"
   ]
  },
  {
   "cell_type": "code",
   "execution_count": 0,
   "metadata": {
    "colab": {
     "autoexec": {
      "startup": false,
      "wait_interval": 0
     }
    },
    "colab_type": "code",
    "id": "SXiibf1rlFJo"
   },
   "outputs": [],
   "source": [
    "# python 버전 체크. 현재 이 런타임은 파이썬 3.6이네요. 런타임을 파이썬 2로 변경하면 2.7도 가능합니다.\n",
    "\n",
    "import sys\n",
    "sys.version_info"
   ]
  },
  {
   "cell_type": "markdown",
   "metadata": {
    "colab_type": "text",
    "id": "F_1mvHEOltOr"
   },
   "source": [
    "# 2. 자 이제 설치도 다했으니 컴퓨터에게 뭔가 시켜보자. 그러러면?"
   ]
  },
  {
   "cell_type": "markdown",
   "metadata": {
    "colab_type": "text",
    "id": "sLk_Z08Zly-j"
   },
   "source": [
    "자 이제 설치도 다했고 에디터에대한 설명도 다 드렸습니다.\n",
    "\n",
    "이제 하나씩 파이썬 기초를 다뤄봅시다.\n",
    "\n",
    "일단 확인하셔야 할것은 자료형입니다."
   ]
  },
  {
   "cell_type": "markdown",
   "metadata": {
    "colab_type": "text",
    "id": "GPkLREZLl8Af"
   },
   "source": [
    "## 2.1 자료형"
   ]
  },
  {
   "cell_type": "markdown",
   "metadata": {
    "colab_type": "text",
    "id": "YlR2b__kl-Bm"
   },
   "source": [
    "모든 프로그래밍언어는 자료형을 가지고 있습니다.\n",
    "\n",
    "자료형은 아주 크게는 두가지로 보시면 됩니다.\n",
    "\n",
    "- 문자형: string. 줄여서 str로 표기. 말그대로 문자입니다.\n",
    "\n",
    "- 숫자형: numeric. 다양한 숫자들을 다룹니다. 가장 자주 쓰이는것은\n",
    "  - 정수 : integer.줄여서 int라고 부릅니다\n",
    "  - 실수: float. 3.14와 같이 하여튼간 소수점 있으면 다 실수입니다.\n",
    "  \n",
    "이거 왜 필요하냐면요.\n",
    "\n",
    "주어진 것이 어떤 자료형이냐에 따라, 연산 및 출력이 가능한것과 불가능한것으로 나뉘기 때문입니다.\n",
    "\n",
    "<figure>\n",
    "    <img align = \"center\" style=\"display:block;\" height=\"200\" width=\"300\" src = http://jjalbox.com/_data/jjalbox/2015/03/92_55169b26e79f0_2853.jpg>\n",
    "    <figcaption style=\"text-align:center\">개무룩....시작부터 뭔말인지 하나도 모르겠다</figcaption>\n",
    "</figure>\n",
    "\n",
    "말이 필요없이 아래를 따라 쳐 봅시다!!!!"
   ]
  },
  {
   "cell_type": "markdown",
   "metadata": {
    "colab_type": "text",
    "id": "rdwhnmpQE90e"
   },
   "source": [
    "### 2.1.1 숫자다루기"
   ]
  },
  {
   "cell_type": "markdown",
   "metadata": {
    "colab_type": "text",
    "id": "2XWqeWCYoO7t"
   },
   "source": [
    " 파이썬에서 숫자 다루는 방법이요?? \n",
    " \n",
    " 그냥 계산기에 입력하듯이 입력하면 실행됩니다.\n",
    " \n",
    " 파이썬은 숫자키를 이용하여 입력하면 자동으로 숫자로 인식합니다. 엄청 똑똑함"
   ]
  },
  {
   "cell_type": "code",
   "execution_count": 0,
   "metadata": {
    "colab": {
     "autoexec": {
      "startup": false,
      "wait_interval": 0
     }
    },
    "colab_type": "code",
    "id": "2Jn8GaAoE90g"
   },
   "outputs": [],
   "source": [
    "a = 1\n",
    "print(a)"
   ]
  },
  {
   "cell_type": "markdown",
   "metadata": {
    "colab_type": "text",
    "id": "s2OwLvcnE90n"
   },
   "source": [
    "앞으로 a 는 1이라고 할래. a를 출력해봐 라고 한겁니다.<br>\n",
    "이때 a를 변수라고 부르고, a = 1을 'a라는 변수를 1로 선언했다'라고 표현합니다<br>\n",
    "a = 1이라고 정의했으므로, a를 print 하라고 하면 파이썬은 a의 값인 1을 출력해줍니다<br>\n",
    "a값은 어떤 숫자인가요? 정수죠?? type을 찍어보면 알수 있습니다"
   ]
  },
  {
   "cell_type": "code",
   "execution_count": 0,
   "metadata": {
    "colab": {
     "autoexec": {
      "startup": false,
      "wait_interval": 0
     }
    },
    "colab_type": "code",
    "id": "YeZPfzFbE90o"
   },
   "outputs": [],
   "source": [
    "print(type(a))"
   ]
  },
  {
   "cell_type": "markdown",
   "metadata": {
    "colab_type": "text",
    "id": "LjEYandAE90r"
   },
   "source": [
    "a를 실수로 바꾸면요??"
   ]
  },
  {
   "cell_type": "code",
   "execution_count": 0,
   "metadata": {
    "colab": {
     "autoexec": {
      "startup": false,
      "wait_interval": 0
     }
    },
    "colab_type": "code",
    "id": "wmh58-23E90s"
   },
   "outputs": [],
   "source": [
    "# 똑같은 변수명을 다시 넣으면, 위에 선언한걸 덮어씁니다.\n",
    "# 항상 기억합시다!!! line by line. 위에서 아래로~\n",
    "\n",
    "a = 3.14\n",
    "print(type(a))"
   ]
  },
  {
   "cell_type": "markdown",
   "metadata": {
    "colab_type": "text",
    "id": "YNI2tnPYE90u"
   },
   "source": [
    "실수를 넣으면 알아서 실수가 되는 MAGIC!<br>\n",
    "사칙연산이요? 생각대로 하시면 됩니다"
   ]
  },
  {
   "cell_type": "code",
   "execution_count": 0,
   "metadata": {
    "colab": {
     "autoexec": {
      "startup": false,
      "wait_interval": 0
     }
    },
    "colab_type": "code",
    "id": "oYGT1EcUE90v"
   },
   "outputs": [],
   "source": [
    "# 정수와 실수의 연산. 자동으로 정수를 실수로 바꿔줍니다 진짜 파이썬 너무 간단함!\n",
    "a = 2\n",
    "b = 99.99\n",
    "\n",
    "print(a+b)"
   ]
  },
  {
   "cell_type": "code",
   "execution_count": 0,
   "metadata": {
    "colab": {
     "autoexec": {
      "startup": false,
      "wait_interval": 0
     }
    },
    "colab_type": "code",
    "id": "k601gvMrE90y"
   },
   "outputs": [],
   "source": [
    "print(a-b)"
   ]
  },
  {
   "cell_type": "code",
   "execution_count": 0,
   "metadata": {
    "colab": {
     "autoexec": {
      "startup": false,
      "wait_interval": 0
     }
    },
    "colab_type": "code",
    "id": "ZXGAXBzwE900"
   },
   "outputs": [],
   "source": [
    "# *는 곱하기 연산입니다\n",
    "print(a*b)"
   ]
  },
  {
   "cell_type": "code",
   "execution_count": 0,
   "metadata": {
    "colab": {
     "autoexec": {
      "startup": false,
      "wait_interval": 0
     }
    },
    "colab_type": "code",
    "id": "eRo6pJ_UE904"
   },
   "outputs": [],
   "source": [
    "# 나누기 연산이죠?\n",
    "print(a/b)"
   ]
  },
  {
   "cell_type": "code",
   "execution_count": 0,
   "metadata": {
    "colab": {
     "autoexec": {
      "startup": false,
      "wait_interval": 0
     }
    },
    "colab_type": "code",
    "id": "4WjHogEq1KSl"
   },
   "outputs": [],
   "source": [
    "# %연산은 나눗셈을 수행한 후 몫이 아닌 나머지 값을 반환해주는 연산입니다.\n",
    "print (a%b)"
   ]
  },
  {
   "cell_type": "code",
   "execution_count": 0,
   "metadata": {
    "colab": {
     "autoexec": {
      "startup": false,
      "wait_interval": 0
     }
    },
    "colab_type": "code",
    "id": "fpNJQjElE908"
   },
   "outputs": [],
   "source": [
    "# 0으로 나누면 에러가 납니다! :division by zero\n",
    "print(a/0)"
   ]
  },
  {
   "cell_type": "markdown",
   "metadata": {
    "colab_type": "text",
    "id": "jLeHLXBCE90_"
   },
   "source": [
    "더많은 자료는 여기를 보세요!!!<br>\n",
    "[점프 투 파이썬: 02-1 숫자형](https://wikidocs.net/12)"
   ]
  },
  {
   "cell_type": "markdown",
   "metadata": {
    "colab_type": "text",
    "id": "-UztxEkDE91A"
   },
   "source": [
    "### 2.1.2 문자다루기"
   ]
  },
  {
   "cell_type": "markdown",
   "metadata": {
    "colab_type": "text",
    "id": "a4QL_T0bowog"
   },
   "source": [
    "\n",
    " - 문자는 더 쉽습니다. '   ' 또는 \"   \" 안에 뭔가를 입력하면 됩니다. \n",
    " - 자동으로 문자로 인식되며 string, 줄여서 str 로 자료형이 표기됩니다"
   ]
  },
  {
   "cell_type": "code",
   "execution_count": 0,
   "metadata": {
    "colab": {
     "autoexec": {
      "startup": false,
      "wait_interval": 0
     }
    },
    "colab_type": "code",
    "id": "9wzwUW0VE91A"
   },
   "outputs": [],
   "source": [
    "print('hello world')"
   ]
  },
  {
   "cell_type": "code",
   "execution_count": 0,
   "metadata": {
    "colab": {
     "autoexec": {
      "startup": false,
      "wait_interval": 0
     }
    },
    "colab_type": "code",
    "id": "zBHo1WIsE91D"
   },
   "outputs": [],
   "source": [
    "print(type('안녕하세요'))"
   ]
  },
  {
   "cell_type": "markdown",
   "metadata": {
    "colab_type": "text",
    "id": "Wwf-jie4E91K"
   },
   "source": [
    "초오끔 예외적인 상황이 있습니다.<br>\n",
    "어...근데 ' ' 안에 ' '이 중복해서 들어가면 어떡하지...?? 예를들면..."
   ]
  },
  {
   "cell_type": "code",
   "execution_count": 0,
   "metadata": {
    "colab": {
     "autoexec": {
      "startup": false,
      "wait_interval": 0
     }
    },
    "colab_type": "code",
    "id": "TynRmvHsE91L"
   },
   "outputs": [],
   "source": [
    "print(''김덕중'이 말합니다 안녕하세요')"
   ]
  },
  {
   "cell_type": "markdown",
   "metadata": {
    "colab_type": "text",
    "id": "Wzyd3if1E91O"
   },
   "source": [
    "<u>문자임을 나타내는 ' 가 중복해서 들어갔으므로, 어디까지가 문자인지 파이썬이 알수없다!!!!</u><br>\n",
    "이런 예외적인 상황을 처리하기 위해 있는것이 escape code입니다.<br>\n",
    "\\을 해당 기호 앞에 넣으시면 해결됩니다.<br>\n",
    "그럼 파이썬은 그걸 아 그냥 글자로 취급하라는 거구나. 로 인식합니다.<br>\n",
    "따라해볼까요"
   ]
  },
  {
   "cell_type": "code",
   "execution_count": 0,
   "metadata": {
    "colab": {
     "autoexec": {
      "startup": false,
      "wait_interval": 0
     }
    },
    "colab_type": "code",
    "id": "tDpo_mjhE91P"
   },
   "outputs": [],
   "source": [
    "print('\\'김덕중\\'이 말합니다 안녕하세요')"
   ]
  },
  {
   "cell_type": "markdown",
   "metadata": {
    "colab_type": "text",
    "id": "d8KVP6uAE91S"
   },
   "source": [
    "자주쓰는 escape code는 몇개 없습니다.<br>\n",
    "tab 키: \\t <br>\n",
    "줄바꿈: \\n(한글, 워드등 문서작성 프로그램의 기본 엔터라고 생각하면 됩니다) <br>\n",
    "요정도만 아시면 됩니다."
   ]
  },
  {
   "cell_type": "code",
   "execution_count": 0,
   "metadata": {
    "colab": {
     "autoexec": {
      "startup": false,
      "wait_interval": 0
     }
    },
    "colab_type": "code",
    "id": "HQ8HseHoE91S"
   },
   "outputs": [],
   "source": [
    "print('Life is too short, U need python')\n",
    "\n",
    "print('--------------------------------')\n",
    "\n",
    "print('\\\\t를 넣으면 탭으로 인식하고, \\\\n을 넣으면 줄바꿈합니다')\n",
    "\n",
    "print('--------------------------------')\n",
    "\n",
    "print('Life i\\ts too short,\\nU need python')"
   ]
  },
  {
   "cell_type": "markdown",
   "metadata": {
    "colab_type": "text",
    "id": "6spg57yBE91X"
   },
   "source": [
    "#### 문자열 연산 : 여기서부터가 좀 재밌습니다."
   ]
  },
  {
   "cell_type": "code",
   "execution_count": 0,
   "metadata": {
    "colab": {
     "autoexec": {
      "startup": false,
      "wait_interval": 0
     }
    },
    "colab_type": "code",
    "id": "j7kL9VCZE91X"
   },
   "outputs": [],
   "source": [
    "a = \"안녕\"\n",
    "b = \"하세요\"\n",
    "# print(a+b)를 하면 어떻게 나올거 같나요?"
   ]
  },
  {
   "cell_type": "code",
   "execution_count": 0,
   "metadata": {
    "colab": {
     "autoexec": {
      "startup": false,
      "wait_interval": 0
     }
    },
    "colab_type": "code",
    "id": "WXm1HJwsE91a"
   },
   "outputs": [],
   "source": [
    "print(a+b)"
   ]
  },
  {
   "cell_type": "markdown",
   "metadata": {
    "colab_type": "text",
    "id": "K7jHhjuqKZ_s"
   },
   "source": [
    "와...미친ㅋㅋㅋㅋ 문자를 말그대로 이어버립니다. 그러면 이건 어떨까?\n"
   ]
  },
  {
   "cell_type": "code",
   "execution_count": 0,
   "metadata": {
    "colab": {
     "autoexec": {
      "startup": false,
      "wait_interval": 0
     }
    },
    "colab_type": "code",
    "id": "amc6ZpknE91c"
   },
   "outputs": [],
   "source": [
    "print(a*3)"
   ]
  },
  {
   "cell_type": "markdown",
   "metadata": {
    "colab_type": "text",
    "id": "t8VKJOsKKetb"
   },
   "source": [
    "문자열 * 정수 연산을 시키면 정수 만큼 해당 문자열을 반복하여 print합니다\n",
    "\n",
    "나누기는 어떨까요?"
   ]
  },
  {
   "cell_type": "code",
   "execution_count": 0,
   "metadata": {
    "colab": {
     "autoexec": {
      "startup": false,
      "wait_interval": 0
     }
    },
    "colab_type": "code",
    "id": "c8ItYZJ4E91f"
   },
   "outputs": [],
   "source": [
    "print(a/3)"
   ]
  },
  {
   "cell_type": "markdown",
   "metadata": {
    "colab_type": "text",
    "id": "PzvBk_S4KnV4"
   },
   "source": [
    "str(문자형)과 int(정수형)은 서로 나눌수 없다 라고 에러를 뱉네요.\n",
    "\n",
    "그럼 빼기는 어떠냐??"
   ]
  },
  {
   "cell_type": "code",
   "execution_count": 0,
   "metadata": {
    "colab": {
     "autoexec": {
      "startup": false,
      "wait_interval": 0
     }
    },
    "colab_type": "code",
    "id": "GUXJVUjUE91h"
   },
   "outputs": [],
   "source": [
    "print(a-b)"
   ]
  },
  {
   "cell_type": "markdown",
   "metadata": {
    "colab_type": "text",
    "id": "WwsPsCQ8KsgL"
   },
   "source": [
    " ....세상에는 안되는것도 많습니다\n"
   ]
  },
  {
   "cell_type": "code",
   "execution_count": 0,
   "metadata": {
    "colab": {
     "autoexec": {
      "startup": false,
      "wait_interval": 0
     }
    },
    "colab_type": "code",
    "id": "7C8ovWJQE91j"
   },
   "outputs": [],
   "source": [
    "print(a*b)"
   ]
  },
  {
   "cell_type": "markdown",
   "metadata": {
    "colab_type": "text",
    "id": "Lukkpw6hE91l"
   },
   "source": [
    "대충 감들이 잡히시나요?<br>\n",
    "문자에 문자를 더하는건 됩니다. 특정 정수를 곱하는것도 되죠. 반복해서 적어주거나 이어 적어주면 됩니다<br>\n",
    "하지만 빼거나 나누거나 곱하거나 하는 것은? 본인이 만든다고 생각해 보세요. 애매하죠? 파이썬은 그런건 자동으로 에러처리 해버립니다.<br>\n",
    "<br>\n",
    "위 내용을 잘 따라오셨으면 다음이 어떻게 나올지 생각해 봅시다."
   ]
  },
  {
   "cell_type": "code",
   "execution_count": 0,
   "metadata": {
    "colab": {
     "autoexec": {
      "startup": false,
      "wait_interval": 0
     }
    },
    "colab_type": "code",
    "id": "dYyjZinfE91l"
   },
   "outputs": [],
   "source": [
    "a = '1'\n",
    "b = '2'\n",
    "print(a+b)"
   ]
  },
  {
   "cell_type": "markdown",
   "metadata": {
    "colab_type": "text",
    "id": "ZZ8fv1cPE91o"
   },
   "source": [
    "예상하신대로 나왔길 빕니다.<br>\n",
    "a,b 둘다 ' ' 안에 적었기 때문에 둘다 자료형이 str 이 됩니다<br>\n",
    "그안에 있는것들은 숫자로 입력했어도 문자로만 인식합니다.<br>\n",
    "즉 문자 + 문자로 이해한거죠. 숫자 + 숫자가 아닙니다.<br>\n",
    "따라서 첫번째 문자와 두번째문자를 이어버렸습니다"
   ]
  },
  {
   "cell_type": "markdown",
   "metadata": {
    "colab_type": "text",
    "id": "foPX1rgKE91o"
   },
   "source": [
    "#### 요것도 재밌습니다. 문자열 인덱싱, 슬라이싱\n",
    "\n",
    "엥, 그게뭐에요?<br>\n",
    "\n",
    "- 인덱싱: 문자열 중 글자 1개 검색<br>\n",
    "- 슬라이싱: 문자열 중 글자 1개 또는 여러개 잘라내기\n",
    "\n",
    "로 생각하시면 됩니다!!!<br>\n",
    "직접 보는게 빠르죠?!!!\n"
   ]
  },
  {
   "cell_type": "markdown",
   "metadata": {
    "colab_type": "text",
    "id": "iAyJT_PyE91p"
   },
   "source": [
    "** a = \"Life is too short u need python\" ** <br>\n",
    "<br>\n",
    "<br>\n",
    "a는 문자열입니다<br>\n",
    "이중에 첫번째 글자인 'L' 만 가져오려고 합니다<br>\n",
    "이럴때에는? 인덱싱입니다.<br>\n",
    "사용 방법은 간단합니다. <br>\n",
    "**문자열변수[문자의맨 처음부터 내가 원하는 위치까지 센 숫자]** 를 print하면 됩니다<br>"
   ]
  },
  {
   "cell_type": "code",
   "execution_count": 0,
   "metadata": {
    "colab": {
     "autoexec": {
      "startup": false,
      "wait_interval": 0
     }
    },
    "colab_type": "code",
    "id": "xCVrQmotE91p"
   },
   "outputs": [],
   "source": [
    "a = \"Life is too short u need python\"\n",
    "print (a[1])                                                                                                                                                                                                                                                                                                                                                                                                                                                                                                                                                                                                                                                                                                                                                                                                                                                                                                                                                                                                                                                                                                                                                                                                                                                                                                                                                                                                                                                                                                                                                                                                                                                                                                                                                                                                                                                                                                                                                                                                                                                                                                                                                                                                                                                                                                                                                                                                                                                                                                                                                                                                                                                                                                                                                                                                                                                                                                                                                                                                                                                                                                                                                                                                                                                                                                                                                                                                                                                                                                                                                                                                                                                                                                                                                                                                                                                                                                                                                                                                                                                                                                                                                                                                                                                                                                                                                                                                                                                                                                                                                                                                                                                                                                                                                                                                                                                                                                                                                                                                                                                                                                                                                                                                                                                                                                                                                                                                                                                                                                                                                                                                                                                                                                                                                                                                                                                                                                                                                                                                                                                                                                                                                                                                                                                                                                                                                                                                                                                                                                                                                                                                                                                                                                                                                                                                                                                                                                                                                                                                                                                                                            "
   ]
  },
  {
   "cell_type": "markdown",
   "metadata": {
    "colab_type": "text",
    "id": "yqor1u2WE91s"
   },
   "source": [
    "엥???이거 잘된건가요?<br>\n",
    "첫번째면 l인데 왜 i를 가져오지??<br>\n",
    "여기서 중요하게 잊으시면 안되는 하나가 있습니다<br>\n",
    "<u>파이썬은 숫자를 0부터 센다!!!!</u><br>\n",
    "아하...그러면 2번째를 불러온거였네요. 어떻게 바꾸면 되나요?"
   ]
  },
  {
   "cell_type": "code",
   "execution_count": 0,
   "metadata": {
    "colab": {
     "autoexec": {
      "startup": false,
      "wait_interval": 0
     }
    },
    "colab_type": "code",
    "id": "P7WcmKr5E91v"
   },
   "outputs": [],
   "source": [
    "print (a[0])"
   ]
  },
  {
   "cell_type": "markdown",
   "metadata": {
    "colab_type": "text",
    "id": "5yiIVwALE91y"
   },
   "source": [
    "GOOD!!<br>\n",
    "어...근데 난 알파벳 하나가 아니라 단어를 가져오고 싶은데?<br>\n",
    "위 a 중에 short을 가져오는 방법은요...인덱싱을 응용하면 됩니다.<br>\n",
    "문자열[처음위치 : 끝위치] 하시면 됩니다. 이걸보고 슬라이싱이라고 부름 말그대로 잘라낸다!"
   ]
  },
  {
   "cell_type": "code",
   "execution_count": 0,
   "metadata": {
    "colab": {
     "autoexec": {
      "startup": false,
      "wait_interval": 0
     }
    },
    "colab_type": "code",
    "id": "xn7aiRkyE91z"
   },
   "outputs": [],
   "source": [
    "a = \"life is too short u need python\"\n",
    "print(a[12:18])"
   ]
  },
  {
   "cell_type": "markdown",
   "metadata": {
    "colab_type": "text",
    "id": "LgDf56fYE912"
   },
   "source": [
    "잘된건가...?<br>\n",
    "바로위에 결과를 잘 보시면 short 뒤에 space bar 즉, 공란이 하나더 추가 되있음을 알수 있습니다<br>\n",
    "어??? 왜????<br>\n",
    "여기서 잊으시면 안되는 중요한 룰 두번째.<br>\n",
    "<u>파이썬은 슬라이싱을 할때 마지막 녀석은 포함하지 않는다</u><br>\n",
    "아 ㅇㅋ 그러면...공란 없애고 정확히 short 다섯알파벳만 가져오려면..."
   ]
  },
  {
   "cell_type": "code",
   "execution_count": 0,
   "metadata": {
    "colab": {
     "autoexec": {
      "startup": false,
      "wait_interval": 0
     }
    },
    "colab_type": "code",
    "id": "oj_5QWNGE912"
   },
   "outputs": [],
   "source": [
    "a = \"life is too short u need python\"\n",
    "print(a[12:17]) # 0부터 세면서 마지막은 세지않는다!!!! 아주아주 중요한 룰!!!"
   ]
  },
  {
   "cell_type": "markdown",
   "metadata": {
    "colab_type": "text",
    "id": "Uv6ww0WIE914"
   },
   "source": [
    "더많은 자료는 여기를 보세요!!!<br>\n",
    "[점프 투 파이썬: 02-2 문자열](https://wikidocs.net/13)"
   ]
  },
  {
   "cell_type": "markdown",
   "metadata": {
    "colab_type": "text",
    "id": "YJd6g26gE914"
   },
   "source": [
    "### 2.1.3. list자료형\n"
   ]
  },
  {
   "cell_type": "markdown",
   "metadata": {
    "colab_type": "text",
    "id": "b3euk0gWVZhN"
   },
   "source": [
    "\n",
    " - 리스트(list)라는 자료형은 아주 자주 쓰이는 자료형입니다 \n",
    " - 여기는 뭐든 담아서 말그대로 리스트를 만들어 버릴수 있습니다\n",
    " - 쓰는 방법은 [ ] 사이에 ,를 기준으로 뭔가를 넣어버리면 됩니다\n",
    " - 문자든 숫자든 다른 리스트든 다른자료형이든 하여튼간 뭐든 다 담을수 있습니다"
   ]
  },
  {
   "cell_type": "code",
   "execution_count": 0,
   "metadata": {
    "colab": {
     "autoexec": {
      "startup": false,
      "wait_interval": 0
     }
    },
    "colab_type": "code",
    "id": "uyggp-jIE915"
   },
   "outputs": [],
   "source": [
    "a = [1,2,3,4,5]\n",
    "print(a)\n",
    "print(type(a))"
   ]
  },
  {
   "cell_type": "code",
   "execution_count": 0,
   "metadata": {
    "colab": {
     "autoexec": {
      "startup": false,
      "wait_interval": 0
     }
    },
    "colab_type": "code",
    "id": "2U0Qzg7OE916"
   },
   "outputs": [],
   "source": [
    "# 문자만 들어가도 잘 만들어지네요\n",
    "b = ['안', '녕', '하', '세', '요']\n",
    "print(b)"
   ]
  },
  {
   "cell_type": "code",
   "execution_count": 0,
   "metadata": {
    "colab": {
     "autoexec": {
      "startup": false,
      "wait_interval": 0
     }
    },
    "colab_type": "code",
    "id": "tz-Cl70VE918"
   },
   "outputs": [],
   "source": [
    "print(a+b) # 응?? 이러면 어떻게 되지???"
   ]
  },
  {
   "cell_type": "code",
   "execution_count": 0,
   "metadata": {
    "colab": {
     "autoexec": {
      "startup": false,
      "wait_interval": 0
     }
    },
    "colab_type": "code",
    "id": "y-dsX1YiE91-"
   },
   "outputs": [],
   "source": [
    "print(a*3) # 이건 또 뭔???"
   ]
  },
  {
   "cell_type": "markdown",
   "metadata": {
    "colab_type": "text",
    "id": "tyvpX3cjE92A"
   },
   "source": [
    "예상했던 대로 나오셧길 바랍니다.<br>\n",
    "리스트에는 ,를 기준으로 어떠한 것들도 담을수 있으며, 문자열과 사용법이 비슷합니다. 더하고 정수 곱하는거 예상대로 잘 되죠?<br>\n",
    "어? 잠깐만?? 그럼 문자열에서 가능했던 인덱싱 / 슬라이싱은???"
   ]
  },
  {
   "cell_type": "code",
   "execution_count": 0,
   "metadata": {
    "colab": {
     "autoexec": {
      "startup": false,
      "wait_interval": 0
     }
    },
    "colab_type": "code",
    "id": "n0ei-AqFE92A"
   },
   "outputs": [],
   "source": [
    "a = [1,2,3,4,5]\n",
    "print(a[3])\n",
    "print(type(a[3]))"
   ]
  },
  {
   "cell_type": "code",
   "execution_count": 0,
   "metadata": {
    "colab": {
     "autoexec": {
      "startup": false,
      "wait_interval": 0
     }
    },
    "colab_type": "code",
    "id": "rUU2md_VE92D"
   },
   "outputs": [],
   "source": [
    "a = [1,2,3,4,5]\n",
    "print(a[3:5])\n",
    "\n",
    "# 지정된 위치부터 그냥 끝까지 다 잘라내려면 끝지점에 아무것도 안넣으시면 됩니다\n",
    "# 따라서 아래의 문법은 위와 동일한 결과를 뱉습니다\n",
    "print(a[3:])"
   ]
  },
  {
   "cell_type": "markdown",
   "metadata": {
    "colab_type": "text",
    "id": "LAfegStgE92F"
   },
   "source": [
    "보시다시피 인덱싱해서 하나만 가져오면 하나만 뽑아내고<br>\n",
    "슬라이싱 해서 일부를 가져오면 그 일부만 리스트로 만들어서 가져옵니다.<br>\n",
    "어?? 그럼 이것도 되나?<br>"
   ]
  },
  {
   "cell_type": "code",
   "execution_count": 0,
   "metadata": {
    "colab": {
     "autoexec": {
      "startup": false,
      "wait_interval": 0
     }
    },
    "colab_type": "code",
    "id": "4Mt_uuaNE92I"
   },
   "outputs": [],
   "source": [
    "c = [] # 빈리스트를 하나 만듭니다\n",
    "a = [1,2,3,4,5]\n",
    "b = ['안', '녕', '하', '세', '요']\n",
    "\n",
    "c = [a+b] # c를 덮어썼습니다. 항상 기억합시다!!! line by line! 위에서 아래로!!!\n",
    "print(c)"
   ]
  },
  {
   "cell_type": "markdown",
   "metadata": {
    "colab_type": "text",
    "id": "eYgdu0K_E92K"
   },
   "source": [
    "리스트 안에 리스트도 됩니다!<br>\n",
    "\n",
    "리스트안에 리스트를 만들면 차원이 하나 추가됩니다. <br>\n",
    "\n",
    "무슨얘긴지 하나도 모르겠음. 예제를 봅시다.\n"
   ]
  },
  {
   "cell_type": "code",
   "execution_count": 0,
   "metadata": {
    "colab": {
     "autoexec": {
      "startup": false,
      "wait_interval": 0
     }
    },
    "colab_type": "code",
    "id": "Pjf_L64EMxMA"
   },
   "outputs": [],
   "source": [
    "import pandas as pd       # pandas는 나중에 배울겁니다.\n",
    "a = [[1,2,3] ,[4,5,6]]\n",
    "df = pd.DataFrame(a)\n",
    "df"
   ]
  },
  {
   "cell_type": "markdown",
   "metadata": {
    "colab_type": "text",
    "id": "5IMte6PaMv52"
   },
   "source": [
    "위 셀에서,\n",
    "\n",
    "a = [[1,2,3] ,[4,5,6]] 로 되어있죠.\n",
    "\n",
    "리스트 안에 리스트가 들어있습니다.\n",
    "\n",
    "이러면 차원이 하나 추가 되어, a의 차원이 2차원이됩니다. 보시다시피 엑셀 형태가 되어버림.\n",
    "\n",
    "이외에도 리스트에는 다양한 기능들이 있지만 정말 잘쓰는 하나만 봅시다."
   ]
  },
  {
   "cell_type": "code",
   "execution_count": 0,
   "metadata": {
    "colab": {
     "autoexec": {
      "startup": false,
      "wait_interval": 0
     }
    },
    "colab_type": "code",
    "id": "rqHD6onCE92K"
   },
   "outputs": [],
   "source": [
    "a = [1,2,3,4,5]\n",
    "b = ['안', '녕', '하', '세', '요']\n",
    "a.append(b[3:5])\n",
    "print(a)\n",
    "print(a[5])"
   ]
  },
  {
   "cell_type": "markdown",
   "metadata": {
    "colab_type": "text",
    "id": "o4wOILCyE92M"
   },
   "source": [
    "\n",
    "append는 더하다, 추가하다 정도의 의미입니다.<br>\n",
    "a 리스트에 b의 3번째 부터 4번째 요소들을 가져와서 추가해라<br>\n",
    "라는 명령을 수행했고 결과는 위와 같습니다<br>\n",
    "<br>\n",
    "더많은 자료는 여기를 보세요!!!<br>\n",
    "[점프 투 파이썬: 02-3 리스트](https://wikidocs.net/14)<br>\n"
   ]
  },
  {
   "cell_type": "markdown",
   "metadata": {
    "colab_type": "text",
    "id": "KYtGBWTgE92N"
   },
   "source": [
    "### 2.1.4 딕셔너리 자료형"
   ]
  },
  {
   "cell_type": "markdown",
   "metadata": {
    "colab_type": "text",
    "id": "UCYBKZ9IOSwn"
   },
   "source": [
    "파이썬의 또다른 자료형인 딕셔너리(말그대로 사전형).\n",
    "\n",
    "다음과 같이 생겨 먹었습니다\n",
    "\n",
    "{Key1:Value1, Key2:Value2, Key3:Value3 ...}\n",
    "\n",
    "사전형은 말그대로 우리가 쓰는 언어 사전이나 주소록 처럼.\n",
    "\n",
    "어떤 값을 찾기 위한 key가 있고, 그 key에 해당하는 값을 가지고 있습니다.\n",
    "\n",
    "'ㄱ' 항목안에 '김덕중' 이 있는것 처럼요 ( 이때 ''ㄱ'이 key,  '김덕중'이 value)\n",
    "\n",
    "key를 호출하면 value를 retrun합니다.\n",
    "\n",
    "두말할 필요없이 예제를 봅시다\n"
   ]
  },
  {
   "cell_type": "code",
   "execution_count": 0,
   "metadata": {
    "colab": {
     "autoexec": {
      "startup": false,
      "wait_interval": 0
     }
    },
    "colab_type": "code",
    "id": "jOBYhETHPATZ"
   },
   "outputs": [],
   "source": [
    "a = {'name':'pey', 'phone':'0119993323', 'birth': '1118'}\n",
    "type(a)     # jupyter / collaboratory에서는 print문을 생략해도 동작한다"
   ]
  },
  {
   "cell_type": "markdown",
   "metadata": {
    "colab_type": "text",
    "id": "AAS31HzXPKsw"
   },
   "source": [
    "a의 type은? 당연히 dictionary죠.\n",
    "\n",
    "a는 사실 여러분이 친숙한 표 형태로 보면  다음과 같이 생겼습니다.<br>\n",
    "<br>\n",
    "<table>\n",
    "<thead>\n",
    "<tr>\n",
    "<th>key</th>\n",
    "<th>value</th>\n",
    "</tr>\n",
    "</thead>\n",
    "<tbody>\n",
    "<tr>\n",
    "<td>name</td>\n",
    "<td>pey</td>\n",
    "</tr>\n",
    "<tr>\n",
    "<td>phone</td>\n",
    "<td>01199993323</td>\n",
    "</tr>\n",
    "<tr>\n",
    "<td>birth</td>\n",
    "<td>1118</td>\n",
    "</tr>\n",
    "</tbody>\n",
    "</table>\n",
    "<br>\n",
    "자. 그러면 한번 pey를 불러와볼까요? 사전과 똑같습니다.\n",
    "\n",
    "pey의 key는 name이므로 a에서 name을 호출해야죠?\n",
    "\n",
    "호출방법은 위에서 배운 문자열 인덱싱 방법을 씁니다. 키중에 하나 고르는거니까요."
   ]
  },
  {
   "cell_type": "code",
   "execution_count": 0,
   "metadata": {
    "colab": {
     "autoexec": {
      "startup": false,
      "wait_interval": 0
     }
    },
    "colab_type": "code",
    "id": "wGXqR5YWQphL"
   },
   "outputs": [],
   "source": [
    "a['name']      # dictionary a 중에서 key가 name인 것의 value를 찾아라!"
   ]
  },
  {
   "cell_type": "markdown",
   "metadata": {
    "colab_type": "text",
    "id": "DGka7j7KRbW4"
   },
   "source": [
    "근데...이 딕셔너리 좋긴한데... 키가 너무많으면 모든 key를 알아보기가 어렵겠습니다.\n",
    "\n",
    "key만 어떤것들이 있는지 싹다 보고싶을때가 있습니다. \n",
    "\n",
    "그럴땐 이렇게 하시면 됩니다."
   ]
  },
  {
   "cell_type": "code",
   "execution_count": 0,
   "metadata": {
    "colab": {
     "autoexec": {
      "startup": false,
      "wait_interval": 0
     }
    },
    "colab_type": "code",
    "id": "6erRGDIVRltg"
   },
   "outputs": [],
   "source": [
    "a.keys()"
   ]
  },
  {
   "cell_type": "markdown",
   "metadata": {
    "colab_type": "text",
    "id": "mPDWTd07Roy1"
   },
   "source": [
    "오호. value들은 어떻게 할거같나요????"
   ]
  },
  {
   "cell_type": "code",
   "execution_count": 0,
   "metadata": {
    "colab": {
     "autoexec": {
      "startup": false,
      "wait_interval": 0
     }
    },
    "colab_type": "code",
    "id": "iS6D31PWRsOI"
   },
   "outputs": [],
   "source": [
    "a.values()"
   ]
  },
  {
   "cell_type": "markdown",
   "metadata": {
    "colab_type": "text",
    "id": "sicukbzfOBty"
   },
   "source": [
    "이 외에도 딕셔너리에는 다양한 것들이 있습니다.\n",
    "\n",
    "시간되면 이정도 까지는 봐두시길 바랍니다.<br>\n",
    "\n",
    "[점프 투 파이썬: 02-5 딕셔너리](https://wikidocs.net/16)<br>"
   ]
  },
  {
   "cell_type": "markdown",
   "metadata": {
    "colab_type": "text",
    "id": "oDY_gFxqWAkO"
   },
   "source": [
    "## 2.2 제어문"
   ]
  },
  {
   "cell_type": "markdown",
   "metadata": {
    "colab_type": "text",
    "id": "s81KjclCWFFZ"
   },
   "source": [
    "자료형의 기초에 대하여 가볍게 훑어봤습니다. 이번엔 제어문 이라는걸 봅시다.\n",
    "\n",
    "<figure>\n",
    "    <img align = \"center\" style=\"display:block;\" height=\"200\" width=\"250\" src = http://jjalbox.com/_data/jjalbox/2016/10/20161011_57fc9723775d3.gif>\n",
    "    <figcaption style=\"text-align:center\">죽겠다 이넘아..하나 겨우 알았더니 또 배우재</figcaption>\n",
    "</figure>\n",
    "\n",
    "......\n",
    "\n",
    "천천히해봅시다^^"
   ]
  },
  {
   "cell_type": "markdown",
   "metadata": {
    "colab_type": "text",
    "id": "IJUv2THSW2pU"
   },
   "source": [
    "### 2.2.1  for문\n"
   ]
  },
  {
   "cell_type": "markdown",
   "metadata": {
    "colab_type": "text",
    "id": "LEo8PXmsW93w"
   },
   "source": [
    "프로그래밍을 하는 가장 큰 이유: 반복작업 시키기 <del>내가하면 귀찮으니까...</del><br>\n",
    "<br>\n",
    "제어문의 꽃인 for문을 알아봅시다.<br>\n",
    "쓰는 방법은 다음과 같습니다<br>\n",
    "<br>\n",
    "for <b>그것에 속한 것들에</b> in <b>어떤것에서:</b><br>\n",
    "    (반복할 수식을 입력)<br>\n",
    "<br>\n",
    "'어떤것에서 그것에 속한 것들에' 가 한국어로는 맞는 문법입니다만.<br>\n",
    "아쉽게도 프로그래밍언어는 외국에서 만들어져서 외국문법을 따릅니다^^<br>\n",
    "백문이 불여일견. 직접 해봅시다<br>\n",
    "<br>\n",
    "**문제 1: 1~10까지 자연수를 하나씩 출력하시오**\n",
    "\n",
    "위문제를 해결하려면 이제까지 여러분이 배웠던거 기준으로는 이렇게 하면됩니다."
   ]
  },
  {
   "cell_type": "code",
   "execution_count": 0,
   "metadata": {
    "colab": {
     "autoexec": {
      "startup": false,
      "wait_interval": 0
     }
    },
    "colab_type": "code",
    "id": "4lsmrRRyn2F5"
   },
   "outputs": [],
   "source": [
    "print(1)\n",
    "print(2)\n",
    "print(3)"
   ]
  },
  {
   "cell_type": "markdown",
   "metadata": {
    "colab_type": "text",
    "id": "aNp2DGGkn2F9"
   },
   "source": [
    "..............이딴식으로 하면 되긴 되는데. 이거 완전 쌩노가다...<br>\n",
    "이럴거면 프로그래밍 하는 의미 자체가 없음!!!<br>\n",
    "우리가 배운걸 활용해 봅시다.<br>\n",
    "자연수만 계속 print 하는거니까 반복 노가다네??<br>\n",
    "반복 이라는 말을 듣는순간 for 를 떠올려야 합니다!!!바로 이녀석.<br>\n",
    "<br>\n",
    "for <b>그것에 속한 것들에</b> in <b>어떤것에서:</b><br>\n",
    "    (반복작업할 무엇인가를 지시)<br>\n",
    "<br>\n",
    "우리지금 목적에 따라 바꾸면....<br>\n",
    "<br>\n",
    "\n",
    "for <b>의 각 숫자에</b> in <b>1~10까지 자연수:</b><br>\n",
    "   해당 숫자를 1개씩 print해라<br>\n",
    "<br>\n",
    "\n",
    "\n",
    "우선 필요한건 컴퓨터에게 '어떤것에서'를 알려줘야겠네요<br>\n",
    "여기서 그 '어떤것'은 1~10의 자연수입니다.<br>\n",
    "그럼 이걸 우선 리스트 자료형으로 만들고..."
   ]
  },
  {
   "cell_type": "code",
   "execution_count": 0,
   "metadata": {
    "colab": {
     "autoexec": {
      "startup": false,
      "wait_interval": 0
     }
    },
    "colab_type": "code",
    "id": "1EQlf9Tgn2F-"
   },
   "outputs": [],
   "source": [
    "number = [1,2,3,4,5,6,7,8,9,10]  # 기억나죠? []안에 ,로 구분된 녀석들...리스트 자료형입니다"
   ]
  },
  {
   "cell_type": "markdown",
   "metadata": {
    "colab_type": "text",
    "id": "FsKTM9S3n2GB"
   },
   "source": [
    "요 number라는 이름의 리스트를 돌면서 쉼표단위로 들어가 있는 값들을 \n",
    "\n",
    "하나씩 꺼내서 print 하게 시키면 되죠?\n",
    "\n",
    "파이썬에서는 이렇게 씁니다."
   ]
  },
  {
   "cell_type": "code",
   "execution_count": 0,
   "metadata": {
    "colab": {
     "autoexec": {
      "startup": false,
      "wait_interval": 0
     }
    },
    "colab_type": "code",
    "id": "1K_8S6OFn2GB"
   },
   "outputs": [],
   "source": [
    "for i in number:   # number 리스트의 각 i들에 대해. 마지막에 :이 들어감에 주의합시다 반드시 써야합니다.\n",
    "    print(i)       # 그 i를 print해라. print 앞에 들여쓰기(identation)에 주의!!! 반드시 들여써야 합니다. tab키 또는 스페이스 4번이 원칙입니다"
   ]
  },
  {
   "cell_type": "markdown",
   "metadata": {
    "colab_type": "text",
    "id": "PddOJUb3n2GF"
   },
   "source": [
    "우오오오오오오!!!<br>\n",
    ".....근데.....또 귀찮은게..<br>\n",
    "위에서 먼저 number라는 리스트를 그때그때 만들어야 되네?<br>\n",
    "10개니까 노가다라도 하지 100개면 어쩔?? 1~100까지 숫자 다 쓰라고??사람이 할짓이 아님.<br>\n",
    "이럴때 쓰라고 만들어놓은 파이썬 내장 함수가 있습니다.<br>\n",
    "그이름 하여<br> 범위!!!! =  range!!!!<br>\n",
    "range(숫자)를 실행하면, 그 숫자만큼의 갯수를 0부터(<b>파이썬은 0부터 숫자를센다!!!</b>) 리턴해줍니다"
   ]
  },
  {
   "cell_type": "code",
   "execution_count": 0,
   "metadata": {
    "colab": {
     "autoexec": {
      "startup": false,
      "wait_interval": 0
     }
    },
    "colab_type": "code",
    "id": "OygTo0lJn2GG"
   },
   "outputs": [],
   "source": [
    "print(*range(100)) # 앞에 있는 *은 일단 넘어가세요"
   ]
  },
  {
   "cell_type": "markdown",
   "metadata": {
    "colab_type": "text",
    "id": "9oqKjwG6n2GI"
   },
   "source": [
    "오오오오....아 근데 맞다 파이썬의 숫자 세는법<br>\n",
    "1. 0부터 센다<br>\n",
    "2. 제일 마지막 껀 포함 안한다.<br>\n",
    "\n",
    "그래서 range(100)했는데 1부터 100이 아니고 0부터 99나와버렸음요,..<br>\n",
    "그럼 시작값 정해줘야되고...끝값 정해줘야되네....그렇죠?<br>\n",
    "쓰는방법은 이렇습니다."
   ]
  },
  {
   "cell_type": "code",
   "execution_count": 0,
   "metadata": {
    "colab": {
     "autoexec": {
      "startup": false,
      "wait_interval": 0
     }
    },
    "colab_type": "code",
    "id": "Zl7pkqqHn2GK"
   },
   "outputs": [],
   "source": [
    "print(*range(1,101))  #첫값, 끝값을 ,로 구분하여 넣어준다"
   ]
  },
  {
   "cell_type": "markdown",
   "metadata": {
    "colab_type": "text",
    "id": "I7Mbz3OLn2GN"
   },
   "source": [
    "오오오오오오 그럼 이제 이걸 돌면서 하나씩 print 시키면 되겠네!!!!"
   ]
  },
  {
   "cell_type": "code",
   "execution_count": 0,
   "metadata": {
    "colab": {
     "autoexec": {
      "startup": false,
      "wait_interval": 0
     }
    },
    "colab_type": "code",
    "id": "hONHs6-Zn2GN"
   },
   "outputs": [],
   "source": [
    "for i in range(1,101):     # 1부터 100까지 각 i들에 대해\n",
    "    print(i)               # i를 print하라"
   ]
  },
  {
   "cell_type": "markdown",
   "metadata": {
    "colab_type": "text",
    "id": "aQNcZEecn2GQ"
   },
   "source": [
    "슈퍼 울트라 매직 그뤠잇!!!!"
   ]
  },
  {
   "cell_type": "markdown",
   "metadata": {
    "colab_type": "text",
    "id": "cyq6ROLQn2GR"
   },
   "source": [
    "### 2.2.2 if 문\n",
    "\n",
    "조건을 주고 조건에 맞을때만 실행하고 싶을때가 있습니다.<br>\n",
    "\n",
    "<figure>\n",
    "    <img align = \"center\" style=\"display:block;\" height=\"200\" width=\"250\" src = http://jjalbox.com/_data/image/2015/11/201511_vxs1hccdi_0.jpg>\n",
    "    <figcaption style=\"text-align:center\">이런 악조건이라면??? ㅂㄷㅂㄷ....</figcaption>\n",
    "</figure>\n",
    "\n",
    "\n",
    "\n",
    "\n",
    "이럴때 쓰는게 if문.<br>\n",
    "문법은 이렇습니다<br>\n",
    "<br>\n",
    "if (조건):<br>\n",
    "수행할 무언가<br>\n",
    "<br>\n",
    "조건이 참일때만 수행 됩니다.<br>\n",
    "예를들어 봅시다<br>"
   ]
  },
  {
   "cell_type": "code",
   "execution_count": 0,
   "metadata": {
    "colab": {
     "autoexec": {
      "startup": false,
      "wait_interval": 0
     }
    },
    "colab_type": "code",
    "id": "cER4ijmtn2GS"
   },
   "outputs": [],
   "source": [
    "text = \"안녕하세요 김덕중입니다\"\n",
    "print(len(text))\n",
    "\n",
    "if len(text) < 5:\n",
    "    print(text)         # 조건을 적용하려면 for문처럼 앞에 들여쓰기(identation)가 있어야 합니다"
   ]
  },
  {
   "cell_type": "markdown",
   "metadata": {
    "colab_type": "text",
    "id": "e4BT4XWLn2GV"
   },
   "source": [
    "len은 길이를 세는 파이썬 내장 함수입니다.\n",
    "\n",
    "위 코드에서 len(text)를 하면, 띄어쓰기를 포함한 글자수를 모두 셉니다.\n",
    "\n",
    "총 12자이므로 len(text) = 12입니다\n",
    "\n",
    "다음 라인의 if문에서\n",
    "\n",
    "if에서 조건을 len(text) < 5 인지 판가름해서 참일때만 실행하라고 했으므로,\n",
    "\n",
    "거짓으로 판명되어 print(text)를 실행하지 않습니다.\n",
    "\n",
    "어, 그럼 다른 조건을 걸어볼까요"
   ]
  },
  {
   "cell_type": "code",
   "execution_count": 0,
   "metadata": {
    "colab": {
     "autoexec": {
      "startup": false,
      "wait_interval": 0
     }
    },
    "colab_type": "code",
    "id": "cxHksRRhn2GV"
   },
   "outputs": [],
   "source": [
    "text = \"안녕하세요 김덕중입니다\"\n",
    "\n",
    "if len(text) < 5:\n",
    "    print(text)\n",
    "elif len(text) <15:\n",
    "    print('글자길이가 15개 보다 적으므로 실행합니다')"
   ]
  },
  {
   "cell_type": "markdown",
   "metadata": {
    "colab_type": "text",
    "id": "DZHj1Wrsn2GZ"
   },
   "source": [
    "조건을 하나더 추가해서 (15자 이하이므로 참이죠?)<br>\n",
    "해당 조건일때를 print하게 했더니, 참인것만 실행합니다.<br>\n",
    "다음과 같은 if문 응용도 있습니다"
   ]
  },
  {
   "cell_type": "code",
   "execution_count": 0,
   "metadata": {
    "colab": {
     "autoexec": {
      "startup": false,
      "wait_interval": 0
     }
    },
    "colab_type": "code",
    "id": "37B0hUubn2GZ"
   },
   "outputs": [],
   "source": [
    "text = \"안녕하세요 김덕중입니다\"\n",
    "\n",
    "if len(text) < 5:\n",
    "    print(text)\n",
    "elif len(text) < 7:\n",
    "    print('글자길이가 7개 보다 적으므로 실행합니다')\n",
    "else:\n",
    "    print('글자길이가 7개보다 큽니다')"
   ]
  },
  {
   "cell_type": "markdown",
   "metadata": {
    "colab_type": "text",
    "id": "yo7zEqrVn2Gc"
   },
   "source": [
    "else는 조건에 해당하지 않는 나머지 모든경우 를 나타냅니다<br>\n",
    "if, elif를 이용해서 각 조건별로 경우의수(분기라고 부릅니다)를 모두 나눠서 각 조건에 맞게 실행을 하게 하고<br>\n",
    "조건을 다 적었으면 마지막에 else로 정해주면 되겠습니다. 물론 elif나 else는 생략해도 됩니다.<br>\n",
    "\n"
   ]
  },
  {
   "cell_type": "markdown",
   "metadata": {
    "colab_type": "text",
    "id": "yGsWEUYQc1LD"
   },
   "source": [
    "# 3. 라이브러리와 메써드"
   ]
  },
  {
   "cell_type": "markdown",
   "metadata": {
    "colab_type": "text",
    "id": "qKPSXARRdG5u"
   },
   "source": [
    "프로그래밍하다보면 자주 듣게 되는 말이지만 이거.\n",
    "\n",
    "라이브러리? 메써드??? 뭔말인지 하나도 모르겠음\n",
    "\n",
    "가볍게 다음 과제를 보자."
   ]
  },
  {
   "cell_type": "code",
   "execution_count": 2,
   "metadata": {
    "colab": {
     "autoexec": {
      "startup": false,
      "wait_interval": 0
     }
    },
    "colab_type": "code",
    "id": "Qtwt4wVtdS4c"
   },
   "outputs": [],
   "source": [
    "a = [1,4,6,32,12]"
   ]
  },
  {
   "cell_type": "markdown",
   "metadata": {
    "colab_type": "text",
    "id": "0S5Q5S1sdYEl"
   },
   "source": [
    "위와 같이 a는 리스트이고, 리스트 안에 여러 정수들이 담겨있다.\n",
    "\n",
    "a의 평균을 구하시오?\n",
    "\n",
    "여러분들이 이제까지 배운대로 하려면.\n",
    "\n",
    "일단 평균이라는건 각 값을 다 더한걸 갯수로 나눠야 되니까. 각값 다 더하기 부터 해야겠네요"
   ]
  },
  {
   "cell_type": "code",
   "execution_count": 3,
   "metadata": {
    "colab": {
     "autoexec": {
      "startup": false,
      "wait_interval": 0
     }
    },
    "colab_type": "code",
    "id": "1lwDNwAUdl9U"
   },
   "outputs": [
    {
     "data": {
      "text/plain": [
       "55"
      ]
     },
     "execution_count": 3,
     "metadata": {},
     "output_type": "execute_result"
    }
   ],
   "source": [
    "sum_value = 0                  # sum_value라는 빈값을 만들자. sum_value의 타입은??? int다\n",
    "for i in a:                    # 위 a의 리스트를 돌면서\n",
    "  sum_value = sum_value + i    # 돌때마다 그때의 i를 sum_value에 누적해서 더해준다\n",
    "  \n",
    "sum_value"
   ]
  },
  {
   "cell_type": "markdown",
   "metadata": {
    "colab_type": "text",
    "id": "MDPrkTTpeSLc"
   },
   "source": [
    "sum_value를 a의 엘레먼트(즉, a list의 각 값들) 갯수로 나눠야 한다. 그래야 평균이니까.\n",
    "\n",
    "아래와 같이 길이를 나타내는 len을 쓰면 역시 해결된다."
   ]
  },
  {
   "cell_type": "code",
   "execution_count": 4,
   "metadata": {
    "colab": {
     "autoexec": {
      "startup": false,
      "wait_interval": 0
     }
    },
    "colab_type": "code",
    "id": "OdZiEUQZei7U"
   },
   "outputs": [
    {
     "data": {
      "text/plain": [
       "11.0"
      ]
     },
     "execution_count": 4,
     "metadata": {},
     "output_type": "execute_result"
    }
   ],
   "source": [
    "sum_value / len(a)"
   ]
  },
  {
   "cell_type": "markdown",
   "metadata": {
    "colab_type": "text",
    "id": "S3giyn9CeoUX"
   },
   "source": [
    "평균은 11. 잘 구할수 있다. 근데 이거 매번 하려니 귀찮음.....\n",
    "\n",
    "우리가 배운 표준편차를 구하려면??? 각 엘레먼트에서 평균 빼고 제곱하고 다 더해서 또 갯수만큼 나누고....\n",
    "\n",
    "삽질이 아닐수 없다.\n",
    "\n",
    "이럴때 쓰라고 등장하는 녀석이 라이브러리.\n",
    "\n",
    "라이브러리는 우리가 특정 연산을 해야될때 해당것들을 다 함수로 만들어 놓고 그것을 한대 묶은 패키지라고 생각하면 된다.\n",
    "\n",
    "당연히 라이브러리마다 목적이 다 다르며, 장단점이 다 있다.\n",
    "\n",
    "앞으로 배우게될 numpy라는 라이브러리를 이용하면 이것을 쉽게 할수있다."
   ]
  },
  {
   "cell_type": "code",
   "execution_count": 5,
   "metadata": {
    "colab": {
     "autoexec": {
      "startup": false,
      "wait_interval": 0
     }
    },
    "colab_type": "code",
    "id": "JhH3y8C2fHmh"
   },
   "outputs": [
    {
     "data": {
      "text/plain": [
       "array([ 1,  4,  6, 32, 12])"
      ]
     },
     "execution_count": 5,
     "metadata": {},
     "output_type": "execute_result"
    }
   ],
   "source": [
    "import numpy as np       # numpy를 불러온다. 앞으로 np라고 적으면 이것은 곳 넘파이다.\n",
    "b = np.array(a)          # numpy의 기본 자료형인 array로 a 리스트를 넣어 불러온다\n",
    "b                        # b는 numpy array가 된다"
   ]
  },
  {
   "cell_type": "markdown",
   "metadata": {
    "colab_type": "text",
    "id": "i_HeYhEQfmxC"
   },
   "source": [
    "이제 평균을 구해보겠다.\n",
    "\n",
    "한줄로 끝난다."
   ]
  },
  {
   "cell_type": "code",
   "execution_count": 6,
   "metadata": {
    "colab": {
     "autoexec": {
      "startup": false,
      "wait_interval": 0
     }
    },
    "colab_type": "code",
    "id": "CSonEroFfpYn"
   },
   "outputs": [
    {
     "data": {
      "text/plain": [
       "11.0"
      ]
     },
     "execution_count": 6,
     "metadata": {},
     "output_type": "execute_result"
    }
   ],
   "source": [
    "b.mean()"
   ]
  },
  {
   "cell_type": "markdown",
   "metadata": {
    "colab_type": "text",
    "id": "4-SYbmsdfrf5"
   },
   "source": [
    "표준편차를 구하고 싶은가?"
   ]
  },
  {
   "cell_type": "code",
   "execution_count": 7,
   "metadata": {
    "colab": {
     "autoexec": {
      "startup": false,
      "wait_interval": 0
     }
    },
    "colab_type": "code",
    "id": "l5_cQzTVfvjC"
   },
   "outputs": [
    {
     "data": {
      "text/plain": [
       "11.099549540409287"
      ]
     },
     "execution_count": 7,
     "metadata": {},
     "output_type": "execute_result"
    }
   ],
   "source": [
    "b.std()"
   ]
  },
  {
   "cell_type": "markdown",
   "metadata": {
    "colab_type": "text",
    "id": "AneoblU8fyxx"
   },
   "source": [
    "오오오오오오오오....\n",
    "\n",
    "<figure>\n",
    "    <img align = \"center\" style=\"display:block;\" height=\"200\" width=\"300\" src = http://jjalbox.com/_data/jjalbox/2015/03/86_55169d12153a5_1144.png>\n",
    "    <figcaption style=\"text-align:center\">x나 좋군??? : 고전짤방 재탕...</figcaption>\n",
    "</figure>"
   ]
  },
  {
   "cell_type": "markdown",
   "metadata": {
    "colab_type": "text",
    "id": "Wzcj_GSEgF9w"
   },
   "source": [
    "위에서 numpy가 라이브러리이며,\n",
    "\n",
    "반복작업을 쉽게 하도록 .mean() / .std() 같은함수들이 있는데, 이 함수들을 메써드라고 부른다.\n",
    "\n",
    "넘파이의 자료형인 array로 만들수만 있다면, 위와같이 numpy에서 만들어 놓은 메써드들을 자유자재로 사용할수 있다\n",
    "\n",
    "당연히 모든 라이브러리에는 각각 라이브러리를 만든사람이 메써드도 만들고 이름을 붙여놓았다...\n",
    "\n",
    "문제는 이것을 다 알수는 없다는것. \n",
    "\n",
    "** 메써드이름을 다 외우는 사람은 없다!!! **\n",
    "\n",
    "필요할때만 찾아쓰면 된다."
   ]
  },
  {
   "cell_type": "markdown",
   "metadata": {
    "colab_type": "text",
    "id": "D1xZxCh6bS-R"
   },
   "source": [
    "# 4. 1주차 연습문제"
   ]
  },
  {
   "cell_type": "markdown",
   "metadata": {
    "colab_type": "text",
    "id": "czj9RsLbbhBd"
   },
   "source": [
    "자. 이제까지 1주차에 대한 기본 문법을 배웠습니다.\n",
    "\n",
    "이것을 응용하여 과제를 드리겠습니다.\n",
    "\n",
    "다음시간까지 해오셔야 되고. 랜덤하게 한분 뽑아서 발표 시키겠습니다 ㅋㅋㅋㅋㅋㅋ\n",
    "\n",
    "직접 해봐야 늘어요. 공짜로 얻어지는건 없음!! 아래것들을 꼭 해보세요!!!\n",
    "\n",
    "<figure>\n",
    "    <img align = \"center\" style=\"display:block;\" height=\"300\" width=\"200\" src = http://t1.daumcdn.net/thumb/R1024x0/?fname=http://i.imgur.com/TVQX3BE.jpg>\n",
    "    <figcaption style=\"text-align:center\">세상에 공짜는 없다...아 감사합니다 뭐냐고 진짜</figcaption>\n",
    "</figure>\n"
   ]
  },
  {
   "cell_type": "markdown",
   "metadata": {
    "colab_type": "text",
    "id": "Q_PbgebObVrj"
   },
   "source": [
    "## 연습문제 1\n"
   ]
  },
  {
   "cell_type": "markdown",
   "metadata": {
    "colab_type": "text",
    "id": "bWn8ktIQbe85"
   },
   "source": [
    "- 1~100까지 자연수 중에, 짝수만 모두 하나씩 출력하시오"
   ]
  },
  {
   "cell_type": "markdown",
   "metadata": {
    "colab_type": "text",
    "id": "Q4dJJS3ncZP3"
   },
   "source": [
    "## 연습문제 2"
   ]
  },
  {
   "cell_type": "markdown",
   "metadata": {
    "colab_type": "text",
    "id": "gX-E4qd1n2GR"
   },
   "source": [
    "- 구구단을 9단까지 모두 print 하시오\n",
    "\n",
    "print했을때 결과가 다음과 같은 형태로 나오면 성공!!!<br>\n",
    "\n",
    "2<br>\n",
    "4<br>\n",
    "6<br>\n",
    "...<br>\n",
    "18<br>\n",
    "3<br>\n",
    "6<br>\n",
    "9<br>\n",
    "....<br>\n"
   ]
  }
 ],
 "metadata": {
  "colab": {
   "collapsed_sections": [
    "btSeYmeCbRm2",
    "Fc8KYoFfcr3j",
    "uo7R43hNyHR-",
    "a1mltfODPDUJ",
    "l33CTRv1dePm",
    "6oGccGOAhpT5",
    "F_1mvHEOltOr",
    "GPkLREZLl8Af",
    "rdwhnmpQE90e",
    "-UztxEkDE91A",
    "6spg57yBE91X",
    "foPX1rgKE91o",
    "YJd6g26gE914",
    "KYtGBWTgE92N",
    "oDY_gFxqWAkO",
    "IJUv2THSW2pU",
    "cyq6ROLQn2GR",
    "yGsWEUYQc1LD",
    "D1xZxCh6bS-R",
    "Q_PbgebObVrj",
    "Q4dJJS3ncZP3"
   ],
   "default_view": {},
   "name": "강의자료_1주차.ipynb",
   "provenance": [],
   "version": "0.3.2",
   "views": {}
  },
  "kernelspec": {
   "display_name": "Python 3",
   "language": "python",
   "name": "python3"
  },
  "language_info": {
   "codemirror_mode": {
    "name": "ipython",
    "version": 3
   },
   "file_extension": ".py",
   "mimetype": "text/x-python",
   "name": "python",
   "nbconvert_exporter": "python",
   "pygments_lexer": "ipython3",
   "version": "3.6.5"
  }
 },
 "nbformat": 4,
 "nbformat_minor": 1
}
