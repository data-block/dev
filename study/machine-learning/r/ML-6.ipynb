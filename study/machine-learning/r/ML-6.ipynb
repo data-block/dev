{
 "cells": [
  {
   "cell_type": "markdown",
   "metadata": {},
   "source": [
    "# Review (복습)\n",
    "- Machine Learning : (True) Function Approxmation (함수 근사)\n",
    "    - Based on Data.\n",
    "    - f(x) = y\n",
    "    - 함수가 x와 y의 관계를 설명해줄 수 있는지\n",
    "    - 전체 함수에서 f를 근사하라고 하는 건 너무 광범위 하다.\n",
    "    - 특수한 함수들의 모임에 대해서 생각을 했다.\n",
    "        - 제한시켜주는 공간에서 함\n",
    "            - RF\n",
    "                - Tree\n",
    "            - 신경망 <br>\n",
    "    - 실제 f는 어딘가에 살고 있을 것이다.\n",
    "        - 그러면 어떤 집합을 선택해야\n",
    "            - 그걸 다루는 게 통계적 이론이다. Statistical Learning Theory\n",
    "            - Cross Validation\n",
    "            \n",
    "    - obj : f를 찾아라\n",
    "        - 1) 제한을 시킨다 = Model을 선택한다.\n",
    "            - ex) y = ax + b\n",
    "        - 2) 제한시킨 함수들의 공간에서 하나를 뽑아낸다.\n",
    "            - a_hat, b_hat을 추정한다.\n",
    "            - 여러 가지가 있을 수 있다.\n",
    "                - 그중에서 a, b를 효율적으로 추정하기 위해서 __'경사하강법'__을 사용한다.\n",
    "        - 3) 평가를 내란디.\n",
    "            - 제한을 시켰는데, 그 가정이 얼마나 타당했는가?\n",
    "            - 타당했다면, 그 함수가 좋아야 한다. (실제 f랑 비슷해야 한다.)\n",
    "            - 1단계의 가정이 얼마나 타당했는지 평가를 한다.\n",
    "            - Cross Validation(자주 사용), R-Squared\n",
    "            \n",
    "- Cross Validation의 목적\n",
    "    - 1) 가장 좋은 가정을 선택 (Which Model?)\n",
    "        - CV는 Train set을 사용한다.\n",
    "        \n",
    "- Test-Set의 목적\n",
    "    - 1) 실제로 현실에서 얼마나 좋을까? 검증\n",
    "        - CV로 검증을 한 다음에 최종적으로 딱! 한번 Test\n",
    "        \n",
    "- CV의 방법\n",
    "    - 1) Validation set approach\n",
    "    - 2) k-fold cross validation\n",
    "    - 3) LooCV\n",
    "    \n",
    "- Case 1\n",
    "    - Train set을 가지고, 3000번을 training했는데\n",
    "        - 모델 A(3000개의 모델 중 선택)\n",
    "            - training error = 0, validation error = 0.1\n",
    "            - Test error = 100\n",
    "            - 이런 상황을 해결하는 방법은 데이터를 진짜 많이 모으면 해결이 될 것이다.\n",
    "            - 아니라고 생각해서 실험을 10만 번을 더해서, 모델 Z를 뽑음 \n",
    "        - 모델 Z(10만 개의 모델 중 선택)\n",
    "            - tr = 0.01\n",
    "            - val = 0.3\n",
    "            - test error = 10\n",
    "            - 쓰면 안 된다. 비교하는데 test set을 썼기에, 오염됐다.\n",
    "            - (철학적으로 봤을 때) test error 높아질 것이다.\n",
    "            - (실제 세계에서는 그렇게 높아지지 않겠지만...)\n",
    "            - 근데 현업에서는 어느 정도 허용, 논문에서는 불허\n",
    "\n",
    " - Case 2\n",
    "     - case 1을 다시 생각해보기\n",
    "     - 실험을 3000번 했는데, test error가 높았다.\n",
    "     - test set과 training set을 섞었다.\n",
    "     \n",
    " - test err = generalization err\n",
    "     - statistics vs. machine learning"
   ]
  },
  {
   "cell_type": "markdown",
   "metadata": {},
   "source": [
    "# 1. Load Dataset\n",
    "- 비식별화\n",
    "    - input의 의미를 알 수는 없다.\n",
    "- task : target을 예측\n",
    "- columns(4993) > data row (4459)\n",
    "    - 컬럼이 데이터 보다 더 많은 특이한 경우\n",
    "        - <E"
   ]
  },
  {
   "cell_type": "code",
   "execution_count": 2,
   "metadata": {
    "scrolled": true
   },
   "outputs": [
    {
     "name": "stdout",
     "output_type": "stream",
     "text": [
      "'data.frame':\t4459 obs. of  4993 variables:\n",
      " $ ID        : Factor w/ 4459 levels \"000d6aaf2\",\"000fbd867\",..: 1 2 3 4 5 6 7 8 9 10 ...\n",
      " $ target    : num  38000000 600000 10000000 2000000 14400000 2800000 164000 600000 979000 460000 ...\n",
      " $ X48df886f9: num  0 0 0 0 0 0 0 0 0 0 ...\n",
      " $ X0deb4b6a8: int  0 0 0 0 0 0 0 0 0 0 ...\n",
      " $ X34b15f335: num  0 0 0 0 0 0 0 0 0 0 ...\n",
      " $ a8cb14b00 : int  0 0 0 0 0 0 0 0 0 0 ...\n",
      " $ X2f0771a37: int  0 0 0 0 0 0 0 0 0 0 ...\n",
      " $ X30347e683: int  0 0 0 0 0 0 0 0 0 0 ...\n",
      " $ d08d1fbe3 : int  0 0 0 0 0 0 0 0 0 0 ...\n",
      " $ X6ee66e115: int  0 0 0 0 0 0 0 0 0 0 ...\n",
      " $ X20aa07010: num  0 2200000 0 0 2000000 ...\n",
      " $ dc5a8f1d8 : num  0 0 0 0 0 0 0 0 0 0 ...\n",
      " $ X11d86fa6a: num  0 0 0 0 0 8000 0 0 0 0 ...\n",
      " $ X77c9823f2: int  0 0 0 0 0 0 0 0 0 0 ...\n",
      " $ X8d6c2a0b2: int  0 0 0 0 0 0 0 0 0 0 ...\n",
      " $ X4681de4fd: int  0 0 0 0 0 0 0 0 22000 0 ...\n",
      " $ adf119b9a : int  0 0 0 0 0 0 0 0 0 0 ...\n",
      " $ cff75dd09 : num  0 0 0 0 0 0 0 0 0 0 ...\n",
      " $ X96f83a237: int  0 0 0 0 0 0 0 0 0 0 ...\n",
      " $ b8a716ebf : num  0e+00 0e+00 0e+00 0e+00 0e+00 5e+06 0e+00 0e+00 0e+00 0e+00 ...\n",
      " $ X6c7a4567c: int  0 0 0 0 0 0 0 0 0 0 ...\n",
      " $ X4fcfd2b4d: int  0 0 0 0 0 0 0 0 0 0 ...\n",
      " $ f3b9c0b95 : num  0 0 0 0 0 0 0 0 0 0 ...\n",
      " $ X71cebf11c: int  0 0 0 0 0 0 0 0 0 0 ...\n",
      " $ d966ac62c : int  0 0 0 0 0 0 0 0 0 0 ...\n",
      " $ X68b647452: num  0 0 0 0 0 0 0 0 0 0 ...\n",
      " $ c88d108c9 : int  0 0 0 0 0 0 0 0 0 0 ...\n",
      " $ ff7b471cd : int  0 0 0 0 0 0 0 0 0 0 ...\n",
      " $ d5308d8bc : int  0 0 0 0 0 0 0 0 0 0 ...\n",
      " $ X0d866c3d7: num  0 0 0 0 0 12000 0 0 0 0 ...\n",
      " $ bc3f77679 : int  0 0 0 0 0 0 0 0 0 0 ...\n",
      " $ bd8f989f1 : num  0 0 0 0 0 4600 0 0 0 0 ...\n",
      " $ X0eff5bf95: int  0 0 0 0 0 12000 0 0 0 0 ...\n",
      " $ X22ed6dba3: num  0 0 0 0 0 ...\n",
      " $ X92b13ebba: num  0 0 0 0 0 0 0 0 0 0 ...\n",
      " $ c330f1a67 : int  0 0 0 0 0 0 0 0 0 0 ...\n",
      " $ X233c7c17c: num  0 0 0 0 0 0 0 0 0 0 ...\n",
      " $ X2cb4d123e: int  0 0 0 0 0 0 0 0 0 0 ...\n",
      " $ eeac16933 : int  0 0 0 0 0 0 0 0 0 0 ...\n",
      " $ X87ffda550: num  1300000 0 0 0 0 0 0 0 0 0 ...\n",
      " $ X822e49b95: num  0 0 0 0 0 0 0 0 0 0 ...\n",
      " $ X316b978cd: int  0 0 0 0 0 0 0 0 0 0 ...\n",
      " $ d04e16aed : num  0 0 0 0 0 0 0 0 0 0 ...\n",
      " $ X5d5c5ce6d: int  0 0 0 0 0 0 0 0 0 0 ...\n",
      " $ ec863cb52 : int  0 0 0 0 0 0 0 0 0 0 ...\n",
      " $ X11ad148bd: num  0 0 0 0 0 166000 0 0 0 0 ...\n",
      " $ ea18d720e : num  0 0 0 0 0 0 0 0 0 0 ...\n",
      " $ X408d86ce9: num  0 0 0 0 0 0 0 0 0 0 ...\n",
      " $ X69d8b4020: int  0 0 0 0 0 0 0 0 0 0 ...\n",
      " $ b0868a049 : int  0 0 0 0 0 0 0 0 0 0 ...\n",
      " $ X80b14398e: num  0 0 0 0 0 0 0 0 0 0 ...\n",
      " $ ecdef52b2 : num  0 0 0 0 0 0 0 0 0 0 ...\n",
      " $ c36bcacc5 : int  0 0 0 0 0 0 0 0 0 0 ...\n",
      " $ X151d318cd: int  0 0 0 0 0 0 0 0 0 0 ...\n",
      " $ ab0cddb90 : int  0 0 0 0 0 0 0 0 0 0 ...\n",
      " $ X2d6bd8275: num  0 0 0 0 0 ...\n",
      " $ dfdf4b580 : num  0.0 2.4e+07 0.0 0.0 0.0 8.0e+03 0.0 0.0 0.0 0.0 ...\n",
      " $ c87722678 : int  0 0 0 0 0 0 0 0 0 0 ...\n",
      " $ a8c320153 : int  0 0 0 0 0 0 0 0 0 0 ...\n",
      " $ X7df8788e8: int  0 0 0 0 0 0 0 0 0 0 ...\n",
      " $ a04684f1f : int  0 0 0 0 0 0 0 0 0 0 ...\n",
      " $ fa977f17b : num  0 0 0 0 0 0 0 0 0 0 ...\n",
      " $ feed9d437 : num  0 0 0 0 0 5600000 0 0 0 0 ...\n",
      " $ X645b47cde: int  0 0 0 0 0 0 0 0 0 0 ...\n",
      " $ X7298ca1ef: int  0 0 0 0 0 0 0 0 0 0 ...\n",
      " $ d80abf8bc : int  0 0 0 0 0 0 0 0 22000 0 ...\n",
      " $ X654dd8a3b: int  0 0 0 0 0 0 0 0 0 0 ...\n",
      " $ X7fc39583c: int  0 0 0 0 0 0 0 0 0 0 ...\n",
      " $ X8c94b6675: num  0 0 0 0 0 26000 0 0 0 0 ...\n",
      " $ e421c414e : int  0 0 0 0 0 0 0 0 0 0 ...\n",
      " $ X5b91580ee: int  0 0 0 0 0 0 0 0 0 0 ...\n",
      " $ X964335fdf: int  0 0 0 0 0 0 50000000 0 0 0 ...\n",
      " $ X5a86cabd0: int  0 0 0 0 0 0 0 0 0 0 ...\n",
      " $ X6cb207ac9: int  0 0 0 0 0 0 0 0 0 0 ...\n",
      " $ c1bc828da : int  0 0 0 0 0 0 29752000 0 0 0 ...\n",
      " $ e90ed19da : int  0 0 0 0 0 0 0 0 0 0 ...\n",
      " $ c4d38135f : int  0 0 0 0 0 0 0 0 0 0 ...\n",
      " $ X968b01ca3: int  0 0 0 0 0 0 0 0 0 0 ...\n",
      " $ X26b423c42: int  0 0 0 0 0 0 0 0 0 0 ...\n",
      " $ X0656586a4: num  0 0 0 0 0 0 0 0 0 0 ...\n",
      " $ b4ced4b7a : num  0 0 0 0 0 8000 0 0 0 0 ...\n",
      " $ X0b8e10df6: int  0 0 0 0 0 0 0 0 0 0 ...\n",
      " $ X603e85eb7: int  0 0 0 0 0 0 0 0 0 0 ...\n",
      " $ X605728195: int  0 0 0 0 0 0 0 0 0 0 ...\n",
      " $ X4e8196700: num  0 0 0 0 0 0 0 0 0 0 ...\n",
      " $ f115e74c0 : num  0 0 0 0 0 0 0 3200000 0 0 ...\n",
      " $ X9ca0eee11: num  0 0 0 0 0 0 0 0 0 0 ...\n",
      " $ X472cd130b: num  0 0 0 0 0 0 0 0 0 0 ...\n",
      " $ ee7e4581d : int  0 0 0 0 0 0 0 0 0 0 ...\n",
      " $ X3e0e55648: num  0 0 0 0 0 0 0 0 0 0 ...\n",
      " $ a939664aa : int  0 0 0 0 0 60400 0 0 0 0 ...\n",
      " $ b0f5ed414 : num  0 0 0 0 0 0 0 0 0 0 ...\n",
      " $ a72e0bf30 : int  0 0 0 0 0 0 0 0 0 0 ...\n",
      " $ e662f1672 : int  0 0 0 0 0 0 0 0 0 0 ...\n",
      " $ X54b1c1bc0: num  0 0 0 0 0 0 0 0 0 332000 ...\n",
      " $ ec1425047 : num  0 0 0 0 0 0 0 0 0 0 ...\n",
      " $ X78a879b5d: int  0 0 0 0 0 0 0 0 0 0 ...\n",
      " $ bd550871c : int  0 0 0 0 0 0 0 0 0 0 ...\n",
      " $ X828b327a6: num  0 0 0 0 0 5600000 0 0 0 0 ...\n",
      "  [list output truncated]\n"
     ]
    }
   ],
   "source": [
    "data <- read.csv(\"../../../../Downloads/Kaggle/Santander Value Prediction Challenge//train.csv\")\n",
    "\n",
    "str(data)"
   ]
  },
  {
   "cell_type": "markdown",
   "metadata": {},
   "source": [
    "# 2. Missing Data\n",
    "- 빼거나\n",
    "- 채우거나\n",
    "\n",
    "- [김재광](http://mathsci.kaist.ac.kr/newsletter/article-tags/%EA%B9%80%EC%9E%AC%EA%B4%91/)"
   ]
  },
  {
   "cell_type": "code",
   "execution_count": 3,
   "metadata": {},
   "outputs": [
    {
     "data": {
      "text/html": [
       "0"
      ],
      "text/latex": [
       "0"
      ],
      "text/markdown": [
       "0"
      ],
      "text/plain": [
       "[1] 0"
      ]
     },
     "metadata": {},
     "output_type": "display_data"
    }
   ],
   "source": [
    "sum(is.na(data))"
   ]
  },
  {
   "cell_type": "markdown",
   "metadata": {},
   "source": [
    "# 3. Separate Data"
   ]
  },
  {
   "cell_type": "code",
   "execution_count": 4,
   "metadata": {},
   "outputs": [],
   "source": [
    "set.seed(1)\n",
    "train <- sample(1:nrow(data), 0.7 * nrow(data))\n",
    "\n",
    "set.seed(1)\n",
    "valid <- sample(setdiff(1:nrow(data), train), 0.15 * nrow(data))\n",
    "\n",
    "test <- setdiff(1:nrow(data), c(train, valid))"
   ]
  },
  {
   "cell_type": "code",
   "execution_count": 8,
   "metadata": {
    "scrolled": true
   },
   "outputs": [
    {
     "data": {
      "text/html": [
       "3121"
      ],
      "text/latex": [
       "3121"
      ],
      "text/markdown": [
       "3121"
      ],
      "text/plain": [
       "[1] 3121"
      ]
     },
     "metadata": {},
     "output_type": "display_data"
    },
    {
     "data": {
      "text/html": [
       "668"
      ],
      "text/latex": [
       "668"
      ],
      "text/markdown": [
       "668"
      ],
      "text/plain": [
       "[1] 668"
      ]
     },
     "metadata": {},
     "output_type": "display_data"
    },
    {
     "data": {
      "text/html": [
       "670"
      ],
      "text/latex": [
       "670"
      ],
      "text/markdown": [
       "670"
      ],
      "text/plain": [
       "[1] 670"
      ]
     },
     "metadata": {},
     "output_type": "display_data"
    }
   ],
   "source": [
    "length(train)\n",
    "length(valid)\n",
    "length(test)"
   ]
  },
  {
   "cell_type": "markdown",
   "metadata": {},
   "source": [
    "## RMSLE 1\n",
    "- The evaluation metric for this competition is Root Mean Squared Logarithmic Error."
   ]
  },
  {
   "cell_type": "code",
   "execution_count": 12,
   "metadata": {},
   "outputs": [],
   "source": [
    "RMSLE <- function(pred, real){\n",
    "\n",
    "    err <- sqrt(mean((log(pred + 1) - log(real + 1))^2))\n",
    "    \n",
    "    return (err)\n",
    "}"
   ]
  },
  {
   "cell_type": "markdown",
   "metadata": {},
   "source": [
    "## RMSLE 2\n",
    "- The evaluation metric for this competition is Root Mean Squared Logarithmic Error."
   ]
  },
  {
   "cell_type": "code",
   "execution_count": 34,
   "metadata": {},
   "outputs": [],
   "source": [
    "RMSLE <- function(pred, real){\n",
    "\n",
    "    err <- sqrt(mean((log(pmax(0, pred) + 1) - log(real + 1))^2))\n",
    "    \n",
    "    return (err)\n",
    "}"
   ]
  },
  {
   "cell_type": "markdown",
   "metadata": {},
   "source": [
    "## Random Forest\n",
    "- ranger package\n",
    "    - predict할 때, 특이한 방법이 있다.\n",
    "        - 마지막에 $표시를 붙임"
   ]
  },
  {
   "cell_type": "code",
   "execution_count": 15,
   "metadata": {},
   "outputs": [],
   "source": [
    "library(ranger)"
   ]
  },
  {
   "cell_type": "code",
   "execution_count": 21,
   "metadata": {},
   "outputs": [
    {
     "name": "stdout",
     "output_type": "stream",
     "text": [
      "Growing trees.. Progress: 15%. Estimated remaining time: 2 minutes, 50 seconds.\n",
      "Growing trees.. Progress: 32%. Estimated remaining time: 2 minutes, 15 seconds.\n",
      "Growing trees.. Progress: 48%. Estimated remaining time: 1 minute, 41 seconds.\n",
      "Growing trees.. Progress: 64%. Estimated remaining time: 1 minute, 9 seconds.\n",
      "Growing trees.. Progress: 81%. Estimated remaining time: 37 seconds.\n",
      "Growing trees.. Progress: 97%. Estimated remaining time: 5 seconds.\n"
     ]
    }
   ],
   "source": [
    "Model <- ranger(target~. -ID, data= data[train, ], mtry = 300) # target을 제외한 컬럼을 사용하는데 그 중에서도 ID 컬럼은 예측하는데 필요 없다."
   ]
  },
  {
   "cell_type": "code",
   "execution_count": 22,
   "metadata": {},
   "outputs": [
    {
     "data": {
      "text/plain": [
       "Ranger result\n",
       "\n",
       "Call:\n",
       " ranger(target ~ . - ID, data = data[train, ], mtry = 300) \n",
       "\n",
       "Type:                             Regression \n",
       "Number of trees:                  500 \n",
       "Sample size:                      3121 \n",
       "Number of independent variables:  4991 \n",
       "Mtry:                             300 \n",
       "Target node size:                 5 \n",
       "Variable importance mode:         none \n",
       "OOB prediction error (MSE):       4.930132e+13 \n",
       "R squared (OOB):                  0.2623842 "
      ]
     },
     "metadata": {},
     "output_type": "display_data"
    }
   ],
   "source": [
    "Model"
   ]
  },
  {
   "cell_type": "code",
   "execution_count": 23,
   "metadata": {
    "scrolled": true
   },
   "outputs": [],
   "source": [
    "pred <- predict(Model, data[valid, ])$predictions"
   ]
  },
  {
   "cell_type": "code",
   "execution_count": 24,
   "metadata": {},
   "outputs": [
    {
     "data": {
      "text/html": [
       "1.73176939050846"
      ],
      "text/latex": [
       "1.73176939050846"
      ],
      "text/markdown": [
       "1.73176939050846"
      ],
      "text/plain": [
       "[1] 1.731769"
      ]
     },
     "metadata": {},
     "output_type": "display_data"
    }
   ],
   "source": [
    "RMSLE(pred, data$target[valid])"
   ]
  },
  {
   "cell_type": "code",
   "execution_count": 26,
   "metadata": {},
   "outputs": [
    {
     "name": "stdout",
     "output_type": "stream",
     "text": [
      "Growing trees.. Progress: 9%. Estimated remaining time: 5 minutes, 13 seconds.\n",
      "Growing trees.. Progress: 19%. Estimated remaining time: 4 minutes, 27 seconds.\n",
      "Growing trees.. Progress: 29%. Estimated remaining time: 3 minutes, 50 seconds.\n",
      "Growing trees.. Progress: 39%. Estimated remaining time: 3 minutes, 13 seconds.\n",
      "Growing trees.. Progress: 49%. Estimated remaining time: 2 minutes, 42 seconds.\n",
      "Growing trees.. Progress: 60%. Estimated remaining time: 2 minutes, 7 seconds.\n",
      "Growing trees.. Progress: 70%. Estimated remaining time: 1 minute, 34 seconds.\n",
      "Growing trees.. Progress: 80%. Estimated remaining time: 1 minute, 1 seconds.\n",
      "Growing trees.. Progress: 91%. Estimated remaining time: 29 seconds.\n"
     ]
    },
    {
     "ename": "ERROR",
     "evalue": "Error in cat(\"mtry가\", param[i], \"일 때,\", \"error는\", err): 객체 'param'를 찾을 수 없습니다\n",
     "output_type": "error",
     "traceback": [
      "Error in cat(\"mtry가\", param[i], \"일 때,\", \"error는\", err): 객체 'param'를 찾을 수 없습니다\nTraceback:\n",
      "1. cat(\"mtry가\", param[i], \"일 때,\", \"error는\", err)"
     ]
    }
   ],
   "source": [
    "params <- c(500, 2000, 4000)\n",
    "\n",
    "for (i in 1:5){\n",
    "\n",
    "    Model <- ranger(target~. -ID,\n",
    "                    data= data[train, ],\n",
    "                    mtry = params[i])\n",
    "    \n",
    "    pred <- predict(Model, data[valid, ])$predictions\n",
    "    err <- RMSLE(pred, data$target[valid])\n",
    "    \n",
    "    cat(\"mtry가\", params[i], \"일 때,\", \"error는\", err)\n",
    "    \n",
    "}"
   ]
  },
  {
   "cell_type": "markdown",
   "metadata": {},
   "source": [
    "- mtry = 70, err = 1.742246\n",
    "- mtry = 300, err = 1.731769\n",
    "- mtry = , err = \n",
    "- mtry = , err = \n",
    "- mtry = , err = "
   ]
  },
  {
   "cell_type": "markdown",
   "metadata": {},
   "source": [
    "## R-squared\n",
    "- 에러가 높은지 낮은지를 객관적으로 알 수 있는 방법"
   ]
  },
  {
   "cell_type": "code",
   "execution_count": 27,
   "metadata": {},
   "outputs": [
    {
     "data": {
      "text/html": [
       "5917674.6757834"
      ],
      "text/latex": [
       "5917674.6757834"
      ],
      "text/markdown": [
       "5917674.6757834"
      ],
      "text/plain": [
       "[1] 5917675"
      ]
     },
     "metadata": {},
     "output_type": "display_data"
    }
   ],
   "source": [
    "mean(data$target[train])"
   ]
  },
  {
   "cell_type": "markdown",
   "metadata": {},
   "source": [
    "## \"가장\" 간단한 모델\n",
    "- y = a\n",
    "    - y가 x에 전혀 영향을 받지 않는 상수(Constant)다.\n",
    "    - mean이 나온다."
   ]
  },
  {
   "cell_type": "code",
   "execution_count": 28,
   "metadata": {},
   "outputs": [
    {
     "data": {
      "text/html": [
       "2.10529289332277"
      ],
      "text/latex": [
       "2.10529289332277"
      ],
      "text/markdown": [
       "2.10529289332277"
      ],
      "text/plain": [
       "[1] 2.105293"
      ]
     },
     "metadata": {},
     "output_type": "display_data"
    }
   ],
   "source": [
    "RMSLE(mean(data$target[train]), data$target[valid])"
   ]
  },
  {
   "cell_type": "markdown",
   "metadata": {},
   "source": [
    "- 어떤 모델이라도 위의 수치보다 작아야 한다.\n",
    "    - 평균 던져서 만들 모델이 2.1 이니까 <Br>\n",
    "    <Br>\n",
    "- 객관적으로 알려면?\n",
    "    - Leaderboard를 보면 Score를 알 수 있다.\n",
    "        "
   ]
  },
  {
   "cell_type": "markdown",
   "metadata": {},
   "source": [
    "## Boosting"
   ]
  },
  {
   "cell_type": "code",
   "execution_count": null,
   "metadata": {},
   "outputs": [],
   "source": []
  },
  {
   "cell_type": "markdown",
   "metadata": {},
   "source": [
    "## Regularization\n",
    "- 1) 모델의 Capacity를 낮춰준다.\n",
    "- 2) 우리가 사용한 모델의 Variance를 낮춰준다.\n",
    "- 3) Tranin set에 민감한 정도를 낮춰준다.\n",
    "- obj : overfitting을 막기 위한 테크닉\n",
    "- 테크닉이 엄청나게 많다.\n",
    "- L1, L2 Regularization\n",
    "    - 가장 고전적인 방식이자, 지금도 많이 쓰는 방식<br>\n",
    "    <br>\n",
    "- 모델의 capacity가 높다는 건 나쁜 소리는 아니다.\n",
    "    - capacity가 높은 모형을 그대로 쓸 건데,\n",
    "    - overfitting이 안 됐으면 좋겠다.<br>\n",
    "    <br>\n",
    "- cost 함수를 바꿔버리면 된다.\n",
    "    - 1) cost = (Model이 Training set을 얼마나 설명 못하는가) ... \"설\"\n",
    "    - 2) cost = (Model이 얼마나 복잡한가?) ... \"복\"\n",
    "    - 3) Penelizaed Method\n",
    "        - 1만 사용하면 overfitting이 될 가능성이 높고, 2만 사용하면 상수가 된다.\n",
    "        - 1, 2에 가중치를 준 다음에 더한다\n",
    "        - 모델이 복잡하면 패널티를 주겠다.<br>\n",
    "        <br>\n",
    "    - hyperparmeter\n",
    "        - 가장 적당한 알파와 베타를 선택하는 모형\n",
    "        - __lambda__\n",
    "            - 모델의 복잡도(capacity)를 얼마나 제한시켜줄 거냐<br>\n",
    "            <br>\n",
    "        - 설명력을 측정하는 방법\n",
    "            - (y - y_hat)^2<br>\n",
    "            <br>\n",
    "        - 복잡도를 측정하는 방법\n",
    "            - 0하고 가까운 값이면 좋다. 복잡도가 내려감!\n",
    "            - 1) 절대값 ... L1 Regulralization ... Lasso\n",
    "                - x값 앞에 있는 절대값들을 다 더한다.<br>\n",
    "                <br>\n",
    "            - 2) 제곱값 ... L2 Regulralization ... Ridge\n",
    "                - 제곱한다.\n",
    "                \n",
    "                "
   ]
  },
  {
   "cell_type": "code",
   "execution_count": 41,
   "metadata": {},
   "outputs": [],
   "source": [
    "# install.packages(\"glmnetUtils\")"
   ]
  },
  {
   "cell_type": "code",
   "execution_count": 30,
   "metadata": {},
   "outputs": [],
   "source": [
    "library(glmnetUtils)"
   ]
  },
  {
   "cell_type": "code",
   "execution_count": 31,
   "metadata": {},
   "outputs": [
    {
     "name": "stderr",
     "output_type": "stream",
     "text": [
      "Warning message in log(pred + 1):\n",
      "“NaN이 생성되었습니다”"
     ]
    },
    {
     "data": {
      "text/html": [
       "NaN"
      ],
      "text/latex": [
       "NaN"
      ],
      "text/markdown": [
       "NaN"
      ],
      "text/plain": [
       "[1] NaN"
      ]
     },
     "metadata": {},
     "output_type": "display_data"
    }
   ],
   "source": [
    "Model <- glmnet(formula = target~. -ID,\n",
    "                data = data[train, ],\n",
    "                lambda = 0.01) # lambda를 작게 잡으면.. ()\n",
    "\n",
    "pred <- predict(Model, data[valid, ])\n",
    "\n",
    "RMSLE(pred, data$target[valid])"
   ]
  },
  {
   "cell_type": "code",
   "execution_count": 33,
   "metadata": {},
   "outputs": [
    {
     "data": {
      "image/png": "[encoded data removed]",
      "text/plain": [
       "Plot with title “Histogram of pred”"
      ]
     },
     "metadata": {},
     "output_type": "display_data"
    }
   ],
   "source": [
    "hist(pred)"
   ]
  },
  {
   "cell_type": "markdown",
   "metadata": {},
   "source": [
    "- Nan값이 나와서 (1시간 30분)\n",
    "    - RMSLE를 다시 변경"
   ]
  },
  {
   "cell_type": "code",
   "execution_count": 35,
   "metadata": {},
   "outputs": [
    {
     "data": {
      "text/html": [
       "9.16833660601188"
      ],
      "text/latex": [
       "9.16833660601188"
      ],
      "text/markdown": [
       "9.16833660601188"
      ],
      "text/plain": [
       "[1] 9.168337"
      ]
     },
     "metadata": {},
     "output_type": "display_data"
    }
   ],
   "source": [
    "Model <- glmnet(formula = target~. -ID,\n",
    "                data = data[train, ],\n",
    "                lambda = 10) # lambda를 작게 잡으면.. ()\n",
    "\n",
    "pred <- predict(Model, data[valid, ])\n",
    "\n",
    "RMSLE(pred, data$target[valid])"
   ]
  },
  {
   "cell_type": "markdown",
   "metadata": {},
   "source": [
    "- 평균쓰는 것(2.1) 보다 겁나 높게 나옴(9.16) ... (1시간 35분)"
   ]
  },
  {
   "cell_type": "code",
   "execution_count": 40,
   "metadata": {},
   "outputs": [
    {
     "data": {
      "text/html": [
       "2.02002431919686"
      ],
      "text/latex": [
       "2.02002431919686"
      ],
      "text/markdown": [
       "2.02002431919686"
      ],
      "text/plain": [
       "[1] 2.020024"
      ]
     },
     "metadata": {},
     "output_type": "display_data"
    }
   ],
   "source": [
    "Model <- glmnet(formula = target~. -ID,\n",
    "                data = data[train, ],\n",
    "                lambda = 500000) # lambda를 작게 잡으면.. ()\n",
    "\n",
    "pred <- predict(Model, data[valid, ])\n",
    "\n",
    "RMSLE(pred, data$target[valid])"
   ]
  },
  {
   "cell_type": "markdown",
   "metadata": {},
   "source": [
    "- Regularization의 위력"
   ]
  },
  {
   "cell_type": "code",
   "execution_count": 42,
   "metadata": {},
   "outputs": [
    {
     "data": {
      "image/png": "[encoded data removed]",
      "text/plain": [
       "Plot with title “Histogram of pred”"
      ]
     },
     "metadata": {},
     "output_type": "display_data"
    }
   ],
   "source": [
    "hist(pred)"
   ]
  },
  {
   "cell_type": "code",
   "execution_count": 45,
   "metadata": {},
   "outputs": [
    {
     "name": "stdout",
     "output_type": "stream",
     "text": [
      "1e+05 일 때 오차는 2.970443 \n",
      "2e+05 일 때 오차는 2.094045 \n",
      "3e+05 일 때 오차는 1.99271 \n",
      "4e+05 일 때 오차는 2.010025 \n",
      "5e+05 일 때 오차는 2.020024 \n",
      "6e+05 일 때 오차는 2.028521 \n",
      "7e+05 일 때 오차는 2.034854 \n",
      "8e+05 일 때 오차는 2.039733 \n",
      "9e+05 일 때 오차는 2.044474 \n",
      "1e+06 일 때 오차는 2.049267 \n"
     ]
    },
    {
     "ename": "ERROR",
     "evalue": "Error in if (any(lambda < 0)) stop(\"lambdas should be non-negative\"): TRUE/FALSE가 필요한 곳에 값이 없습니다\n",
     "output_type": "error",
     "traceback": [
      "Error in if (any(lambda < 0)) stop(\"lambdas should be non-negative\"): TRUE/FALSE가 필요한 곳에 값이 없습니다\nTraceback:\n",
      "1. glmnet(formula = target ~ . - ID, data = data[train, ], lambda = k[i])",
      "2. glmnet.formula(formula = target ~ . - ID, data = data[train, \n .     ], lambda = k[i])",
      "3. glmnet::glmnet(x = xy$x, y = xy$y, weights = xy$weights, offset = xy$offset, \n .     alpha = alpha, ...)"
     ]
    }
   ],
   "source": [
    "k <- (1:10) * 100000\n",
    "\n",
    "for (i in 1:100){\n",
    "Model <- glmnet(formula = target~. -ID,\n",
    "                data = data[train, ],\n",
    "                lambda = k[i]) # lambda를 작게 잡으면.. ()\n",
    "\n",
    "pred <- predict(Model, data[valid, ])\n",
    "\n",
    "cat(k[i], \"일 때 오차는\" , RMSLE(pred, data$target[valid]), \"\\n\")\n",
    "}"
   ]
  },
  {
   "cell_type": "code",
   "execution_count": 46,
   "metadata": {},
   "outputs": [
    {
     "data": {
      "text/html": [
       "2.34455412379023"
      ],
      "text/latex": [
       "2.34455412379023"
      ],
      "text/markdown": [
       "2.34455412379023"
      ],
      "text/plain": [
       "[1] 2.344554"
      ]
     },
     "metadata": {},
     "output_type": "display_data"
    }
   ],
   "source": [
    "Model <- glmnet(formula = target~. -ID,\n",
    "                data = data[train, ],\n",
    "                lambda = 300000,\n",
    "                alpha = 0.5) # lambda를 작게 잡으면.. ()\n",
    "\n",
    "pred <- predict(Model, data[valid, ])\n",
    "\n",
    "RMSLE(pred, data$target[valid])"
   ]
  },
  {
   "cell_type": "markdown",
   "metadata": {},
   "source": [
    "## Boost\n",
    "- [lightgbm](https://github.com/Microsoft/LightGBM)\n",
    "- [catboost](https://tech.yandex.com/catboost/doc/dg/concepts/r-installation-docpage/)\n",
    "\n",
    "## Xgboost"
   ]
  },
  {
   "cell_type": "code",
   "execution_count": 47,
   "metadata": {},
   "outputs": [
    {
     "name": "stdout",
     "output_type": "stream",
     "text": [
      "\n",
      "The downloaded binary packages are in\n",
      "\t/var/folders/9h/vzls18sn1pvgfwfymvybqkvw0000gn/T//RtmpmaWlSL/downloaded_packages\n"
     ]
    }
   ],
   "source": [
    "# install.packages(\"xgboost\")\n",
    "library(xgboost)"
   ]
  },
  {
   "cell_type": "code",
   "execution_count": 50,
   "metadata": {
    "scrolled": true
   },
   "outputs": [
    {
     "name": "stdout",
     "output_type": "stream",
     "text": [
      "[1]\ttrain-rmse:8624712.000000 \n",
      "[2]\ttrain-rmse:7690064.000000 \n",
      "[3]\ttrain-rmse:7109901.500000 \n",
      "[4]\ttrain-rmse:6700318.500000 \n",
      "[5]\ttrain-rmse:6402680.000000 \n",
      "[6]\ttrain-rmse:6107527.000000 \n",
      "[7]\ttrain-rmse:5905836.500000 \n",
      "[8]\ttrain-rmse:5787397.000000 \n",
      "[9]\ttrain-rmse:5677222.500000 \n",
      "[10]\ttrain-rmse:5547659.000000 \n",
      "[11]\ttrain-rmse:5480565.000000 \n",
      "[12]\ttrain-rmse:5401364.000000 \n",
      "[13]\ttrain-rmse:5244913.000000 \n",
      "[14]\ttrain-rmse:5192802.500000 \n",
      "[15]\ttrain-rmse:5077719.000000 \n",
      "[16]\ttrain-rmse:5041585.000000 \n",
      "[17]\ttrain-rmse:4991040.500000 \n",
      "[18]\ttrain-rmse:4957437.500000 \n",
      "[19]\ttrain-rmse:4894579.000000 \n",
      "[20]\ttrain-rmse:4858901.500000 \n",
      "[21]\ttrain-rmse:4823754.500000 \n",
      "[22]\ttrain-rmse:4783913.000000 \n",
      "[23]\ttrain-rmse:4707580.500000 \n",
      "[24]\ttrain-rmse:4657677.500000 \n",
      "[25]\ttrain-rmse:4624028.500000 \n",
      "[26]\ttrain-rmse:4570738.500000 \n",
      "[27]\ttrain-rmse:4546841.500000 \n",
      "[28]\ttrain-rmse:4490278.000000 \n",
      "[29]\ttrain-rmse:4469889.500000 \n",
      "[30]\ttrain-rmse:4408401.000000 \n",
      "[31]\ttrain-rmse:4349372.500000 \n",
      "[32]\ttrain-rmse:4327300.000000 \n",
      "[33]\ttrain-rmse:4308123.500000 \n",
      "[34]\ttrain-rmse:4263260.500000 \n",
      "[35]\ttrain-rmse:4230889.000000 \n",
      "[36]\ttrain-rmse:4215629.000000 \n",
      "[37]\ttrain-rmse:4180292.500000 \n",
      "[38]\ttrain-rmse:4130918.000000 \n",
      "[39]\ttrain-rmse:4108815.250000 \n",
      "[40]\ttrain-rmse:4086599.250000 \n",
      "[41]\ttrain-rmse:4050100.750000 \n",
      "[42]\ttrain-rmse:4038150.750000 \n",
      "[43]\ttrain-rmse:4021114.000000 \n",
      "[44]\ttrain-rmse:4005216.000000 \n",
      "[45]\ttrain-rmse:3979080.000000 \n",
      "[46]\ttrain-rmse:3959647.250000 \n",
      "[47]\ttrain-rmse:3941838.500000 \n",
      "[48]\ttrain-rmse:3907179.750000 \n",
      "[49]\ttrain-rmse:3884452.250000 \n",
      "[50]\ttrain-rmse:3858878.250000 \n",
      "[51]\ttrain-rmse:3828504.000000 \n",
      "[52]\ttrain-rmse:3788019.000000 \n",
      "[53]\ttrain-rmse:3775191.250000 \n",
      "[54]\ttrain-rmse:3757584.000000 \n",
      "[55]\ttrain-rmse:3748196.750000 \n",
      "[56]\ttrain-rmse:3726930.250000 \n",
      "[57]\ttrain-rmse:3713201.000000 \n",
      "[58]\ttrain-rmse:3665771.750000 \n",
      "[59]\ttrain-rmse:3643559.750000 \n",
      "[60]\ttrain-rmse:3627270.750000 \n",
      "[61]\ttrain-rmse:3613858.750000 \n",
      "[62]\ttrain-rmse:3591708.750000 \n",
      "[63]\ttrain-rmse:3553038.250000 \n",
      "[64]\ttrain-rmse:3540287.500000 \n",
      "[65]\ttrain-rmse:3525068.250000 \n",
      "[66]\ttrain-rmse:3491421.750000 \n",
      "[67]\ttrain-rmse:3477963.250000 \n",
      "[68]\ttrain-rmse:3464958.500000 \n",
      "[69]\ttrain-rmse:3457339.500000 \n",
      "[70]\ttrain-rmse:3436816.250000 \n",
      "[71]\ttrain-rmse:3417144.250000 \n",
      "[72]\ttrain-rmse:3405466.250000 \n",
      "[73]\ttrain-rmse:3391478.250000 \n",
      "[74]\ttrain-rmse:3375103.500000 \n",
      "[75]\ttrain-rmse:3366373.250000 \n",
      "[76]\ttrain-rmse:3351279.750000 \n",
      "[77]\ttrain-rmse:3303757.500000 \n",
      "[78]\ttrain-rmse:3288200.250000 \n",
      "[79]\ttrain-rmse:3274061.500000 \n",
      "[80]\ttrain-rmse:3266075.000000 \n",
      "[81]\ttrain-rmse:3257540.750000 \n",
      "[82]\ttrain-rmse:3250101.500000 \n",
      "[83]\ttrain-rmse:3241907.250000 \n",
      "[84]\ttrain-rmse:3235676.250000 \n",
      "[85]\ttrain-rmse:3213854.000000 \n",
      "[86]\ttrain-rmse:3198088.750000 \n",
      "[87]\ttrain-rmse:3187159.500000 \n",
      "[88]\ttrain-rmse:3178117.750000 \n",
      "[89]\ttrain-rmse:3164459.500000 \n",
      "[90]\ttrain-rmse:3149830.750000 \n",
      "[91]\ttrain-rmse:3124938.750000 \n",
      "[92]\ttrain-rmse:3117535.500000 \n",
      "[93]\ttrain-rmse:3108694.500000 \n",
      "[94]\ttrain-rmse:3101708.750000 \n",
      "[95]\ttrain-rmse:3088339.750000 \n",
      "[96]\ttrain-rmse:3076945.250000 \n",
      "[97]\ttrain-rmse:3059795.000000 \n",
      "[98]\ttrain-rmse:3046278.250000 \n",
      "[99]\ttrain-rmse:3040983.250000 \n",
      "[100]\ttrain-rmse:3029444.000000 \n"
     ]
    },
    {
     "data": {
      "text/html": [
       "2.37392207431035"
      ],
      "text/latex": [
       "2.37392207431035"
      ],
      "text/markdown": [
       "2.37392207431035"
      ],
      "text/plain": [
       "[1] 2.373922"
      ]
     },
     "metadata": {},
     "output_type": "display_data"
    }
   ],
   "source": [
    "X <- model.matrix(target~. -ID, data = data)\n",
    "Y <- data$target\n",
    "\n",
    "Model <- xgboost(data = X[train, ],\n",
    "                 label = Y[train],\n",
    "                 params = list(eta = 0.3,\n",
    "                               gamma = 0.1),\n",
    "                 nrounds = 100\n",
    "                )\n",
    "\n",
    "pred <- predict(Model, X[valid, ])\n",
    "\n",
    "RMSLE(pred, Y[valid])"
   ]
  },
  {
   "cell_type": "code",
   "execution_count": 51,
   "metadata": {},
   "outputs": [
    {
     "data": {
      "text/html": [
       "-2751209.25"
      ],
      "text/latex": [
       "-2751209.25"
      ],
      "text/markdown": [
       "-2751209.25"
      ],
      "text/plain": [
       "[1] -2751209"
      ]
     },
     "metadata": {},
     "output_type": "display_data"
    }
   ],
   "source": [
    "min(pred)"
   ]
  },
  {
   "cell_type": "code",
   "execution_count": 52,
   "metadata": {},
   "outputs": [
    {
     "data": {
      "image/png": "[encoded data removed]",
      "text/plain": [
       "Plot with title “Histogram of pred”"
      ]
     },
     "metadata": {},
     "output_type": "display_data"
    }
   ],
   "source": [
    "hist(pred)"
   ]
  },
  {
   "cell_type": "markdown",
   "metadata": {},
   "source": [
    "### xgb.train "
   ]
  },
  {
   "cell_type": "code",
   "execution_count": 58,
   "metadata": {},
   "outputs": [],
   "source": [
    "?xgb.train"
   ]
  },
  {
   "cell_type": "code",
   "execution_count": 57,
   "metadata": {
    "scrolled": true
   },
   "outputs": [
    {
     "name": "stdout",
     "output_type": "stream",
     "text": [
      "[1]\ttrain-rmse:8624712.000000\teval-rmse:9174663.000000 \n",
      "[2]\ttrain-rmse:7690064.000000\teval-rmse:8442111.000000 \n",
      "[3]\ttrain-rmse:7109901.500000\teval-rmse:8068906.500000 \n",
      "[4]\ttrain-rmse:6700318.500000\teval-rmse:7810700.000000 \n",
      "[5]\ttrain-rmse:6402680.000000\teval-rmse:7708963.500000 \n",
      "[6]\ttrain-rmse:6107527.000000\teval-rmse:7544390.000000 \n",
      "[7]\ttrain-rmse:5905836.500000\teval-rmse:7443326.500000 \n",
      "[8]\ttrain-rmse:5787397.000000\teval-rmse:7476746.000000 \n",
      "[9]\ttrain-rmse:5677222.500000\teval-rmse:7434908.000000 \n",
      "[10]\ttrain-rmse:5547659.000000\teval-rmse:7418972.500000 \n",
      "[11]\ttrain-rmse:5480565.000000\teval-rmse:7442603.500000 \n",
      "[12]\ttrain-rmse:5401364.000000\teval-rmse:7465303.500000 \n",
      "[13]\ttrain-rmse:5244913.000000\teval-rmse:7445296.500000 \n",
      "[14]\ttrain-rmse:5192802.500000\teval-rmse:7451585.000000 \n",
      "[15]\ttrain-rmse:5077719.000000\teval-rmse:7430035.500000 \n",
      "[16]\ttrain-rmse:5041585.000000\teval-rmse:7447437.000000 \n",
      "[17]\ttrain-rmse:4991040.500000\teval-rmse:7455458.500000 \n",
      "[18]\ttrain-rmse:4957437.500000\teval-rmse:7452919.000000 \n",
      "[19]\ttrain-rmse:4894579.000000\teval-rmse:7457300.500000 \n",
      "[20]\ttrain-rmse:4858901.500000\teval-rmse:7461108.500000 \n",
      "[21]\ttrain-rmse:4823754.500000\teval-rmse:7469169.500000 \n",
      "[22]\ttrain-rmse:4783913.000000\teval-rmse:7517140.500000 \n",
      "[23]\ttrain-rmse:4707580.500000\teval-rmse:7490014.500000 \n",
      "[24]\ttrain-rmse:4657677.500000\teval-rmse:7485726.500000 \n",
      "[25]\ttrain-rmse:4624028.500000\teval-rmse:7502758.500000 \n",
      "[26]\ttrain-rmse:4570738.500000\teval-rmse:7519522.500000 \n",
      "[27]\ttrain-rmse:4546841.500000\teval-rmse:7530231.000000 \n",
      "[28]\ttrain-rmse:4490278.000000\teval-rmse:7518501.500000 \n",
      "[29]\ttrain-rmse:4469889.500000\teval-rmse:7518787.500000 \n",
      "[30]\ttrain-rmse:4408401.000000\teval-rmse:7506907.500000 \n",
      "[31]\ttrain-rmse:4349372.500000\teval-rmse:7503835.500000 \n",
      "[32]\ttrain-rmse:4327300.000000\teval-rmse:7534807.500000 \n",
      "[33]\ttrain-rmse:4308123.500000\teval-rmse:7532939.000000 \n",
      "[34]\ttrain-rmse:4263260.500000\teval-rmse:7548781.000000 \n",
      "[35]\ttrain-rmse:4230889.000000\teval-rmse:7573060.000000 \n",
      "[36]\ttrain-rmse:4215629.000000\teval-rmse:7583412.500000 \n",
      "[37]\ttrain-rmse:4180292.500000\teval-rmse:7591048.500000 \n",
      "[38]\ttrain-rmse:4130918.000000\teval-rmse:7597126.000000 \n",
      "[39]\ttrain-rmse:4108815.250000\teval-rmse:7576075.500000 \n",
      "[40]\ttrain-rmse:4086599.250000\teval-rmse:7588840.500000 \n",
      "[41]\ttrain-rmse:4050100.750000\teval-rmse:7601379.500000 \n",
      "[42]\ttrain-rmse:4038150.750000\teval-rmse:7615908.500000 \n",
      "[43]\ttrain-rmse:4021114.000000\teval-rmse:7605983.000000 \n",
      "[44]\ttrain-rmse:4005216.000000\teval-rmse:7631031.000000 \n",
      "[45]\ttrain-rmse:3979080.000000\teval-rmse:7654083.500000 \n",
      "[46]\ttrain-rmse:3959647.250000\teval-rmse:7655664.500000 \n",
      "[47]\ttrain-rmse:3941838.500000\teval-rmse:7649763.000000 \n",
      "[48]\ttrain-rmse:3907179.750000\teval-rmse:7673928.500000 \n",
      "[49]\ttrain-rmse:3884452.250000\teval-rmse:7679642.000000 \n",
      "[50]\ttrain-rmse:3858878.250000\teval-rmse:7694578.500000 \n",
      "[51]\ttrain-rmse:3828504.000000\teval-rmse:7683729.500000 \n",
      "[52]\ttrain-rmse:3788019.000000\teval-rmse:7701163.500000 \n",
      "[53]\ttrain-rmse:3775191.250000\teval-rmse:7704215.000000 \n",
      "[54]\ttrain-rmse:3757584.000000\teval-rmse:7710176.000000 \n",
      "[55]\ttrain-rmse:3748196.750000\teval-rmse:7728864.500000 \n",
      "[56]\ttrain-rmse:3726930.250000\teval-rmse:7728058.500000 \n",
      "[57]\ttrain-rmse:3713201.000000\teval-rmse:7738011.500000 \n",
      "[58]\ttrain-rmse:3665771.750000\teval-rmse:7739652.000000 \n",
      "[59]\ttrain-rmse:3643559.750000\teval-rmse:7756835.000000 \n",
      "[60]\ttrain-rmse:3627270.750000\teval-rmse:7760872.500000 \n",
      "[61]\ttrain-rmse:3613858.750000\teval-rmse:7770080.500000 \n",
      "[62]\ttrain-rmse:3591708.750000\teval-rmse:7771585.000000 \n",
      "[63]\ttrain-rmse:3553038.250000\teval-rmse:7772579.000000 \n",
      "[64]\ttrain-rmse:3540287.500000\teval-rmse:7773513.000000 \n",
      "[65]\ttrain-rmse:3525068.250000\teval-rmse:7768411.000000 \n",
      "[66]\ttrain-rmse:3491421.750000\teval-rmse:7786563.500000 \n",
      "[67]\ttrain-rmse:3477963.250000\teval-rmse:7787552.500000 \n",
      "[68]\ttrain-rmse:3464958.500000\teval-rmse:7802361.500000 \n",
      "[69]\ttrain-rmse:3457339.500000\teval-rmse:7819054.500000 \n",
      "[70]\ttrain-rmse:3436816.250000\teval-rmse:7818411.500000 \n",
      "[71]\ttrain-rmse:3417144.250000\teval-rmse:7830269.500000 \n",
      "[72]\ttrain-rmse:3405466.250000\teval-rmse:7826667.000000 \n",
      "[73]\ttrain-rmse:3391478.250000\teval-rmse:7820023.500000 \n",
      "[74]\ttrain-rmse:3375103.500000\teval-rmse:7811573.000000 \n",
      "[75]\ttrain-rmse:3366373.250000\teval-rmse:7804288.500000 \n",
      "[76]\ttrain-rmse:3351279.750000\teval-rmse:7807037.000000 \n",
      "[77]\ttrain-rmse:3303757.500000\teval-rmse:7780880.500000 \n",
      "[78]\ttrain-rmse:3288200.250000\teval-rmse:7775817.000000 \n",
      "[79]\ttrain-rmse:3274061.500000\teval-rmse:7780920.000000 \n",
      "[80]\ttrain-rmse:3266075.000000\teval-rmse:7785501.000000 \n",
      "[81]\ttrain-rmse:3257540.750000\teval-rmse:7778324.500000 \n",
      "[82]\ttrain-rmse:3250101.500000\teval-rmse:7778241.000000 \n",
      "[83]\ttrain-rmse:3241907.250000\teval-rmse:7788633.000000 \n",
      "[84]\ttrain-rmse:3235676.250000\teval-rmse:7794946.500000 \n",
      "[85]\ttrain-rmse:3213854.000000\teval-rmse:7803050.000000 \n",
      "[86]\ttrain-rmse:3198088.750000\teval-rmse:7806620.500000 \n",
      "[87]\ttrain-rmse:3187159.500000\teval-rmse:7831348.500000 \n",
      "[88]\ttrain-rmse:3178117.750000\teval-rmse:7835253.500000 \n",
      "[89]\ttrain-rmse:3164459.500000\teval-rmse:7842515.500000 \n",
      "[90]\ttrain-rmse:3149830.750000\teval-rmse:7841493.500000 \n",
      "[91]\ttrain-rmse:3124938.750000\teval-rmse:7851663.500000 \n",
      "[92]\ttrain-rmse:3117535.500000\teval-rmse:7853314.500000 \n",
      "[93]\ttrain-rmse:3108694.500000\teval-rmse:7854649.500000 \n",
      "[94]\ttrain-rmse:3101708.750000\teval-rmse:7856095.500000 \n",
      "[95]\ttrain-rmse:3088339.750000\teval-rmse:7866286.500000 \n",
      "[96]\ttrain-rmse:3076945.250000\teval-rmse:7853681.000000 \n",
      "[97]\ttrain-rmse:3059795.000000\teval-rmse:7859878.000000 \n",
      "[98]\ttrain-rmse:3046278.250000\teval-rmse:7861061.500000 \n",
      "[99]\ttrain-rmse:3040983.250000\teval-rmse:7859682.000000 \n",
      "[100]\ttrain-rmse:3029444.000000\teval-rmse:7857455.000000 \n"
     ]
    }
   ],
   "source": [
    "dtrain <- xgb.DMatrix(X[train, ], label = Y[train])\n",
    "dvalid <- xgb.DMatrix(X[valid, ], label = Y[valid])\n",
    "\n",
    "Model <- xgb.train(data = dtrain,\n",
    "                   params = list(eta = 0.3),\n",
    "                   watchlist = list(train = dtrain,\n",
    "                                    eval = dvalid),\n",
    "                   nrounds = 100)"
   ]
  },
  {
   "cell_type": "markdown",
   "metadata": {},
   "source": [
    "#### 뭘 뽑아낼 수 있는지 파악하기"
   ]
  },
  {
   "cell_type": "code",
   "execution_count": 59,
   "metadata": {},
   "outputs": [
    {
     "data": {
      "text/html": [
       "<dl>\n",
       "\t<dt>$names</dt>\n",
       "\t\t<dd><ol class=list-inline>\n",
       "\t<li>'handle'</li>\n",
       "\t<li>'raw'</li>\n",
       "\t<li>'niter'</li>\n",
       "\t<li>'evaluation_log'</li>\n",
       "\t<li>'call'</li>\n",
       "\t<li>'params'</li>\n",
       "\t<li>'callbacks'</li>\n",
       "\t<li>'feature_names'</li>\n",
       "\t<li>'nfeatures'</li>\n",
       "</ol>\n",
       "</dd>\n",
       "\t<dt>$class</dt>\n",
       "\t\t<dd>'xgb.Booster'</dd>\n",
       "</dl>\n"
      ],
      "text/latex": [
       "\\begin{description}\n",
       "\\item[\\$names] \\begin{enumerate*}\n",
       "\\item 'handle'\n",
       "\\item 'raw'\n",
       "\\item 'niter'\n",
       "\\item 'evaluation\\_log'\n",
       "\\item 'call'\n",
       "\\item 'params'\n",
       "\\item 'callbacks'\n",
       "\\item 'feature\\_names'\n",
       "\\item 'nfeatures'\n",
       "\\end{enumerate*}\n",
       "\n",
       "\\item[\\$class] 'xgb.Booster'\n",
       "\\end{description}\n"
      ],
      "text/markdown": [
       "$names\n",
       ":   1. 'handle'\n",
       "2. 'raw'\n",
       "3. 'niter'\n",
       "4. 'evaluation_log'\n",
       "5. 'call'\n",
       "6. 'params'\n",
       "7. 'callbacks'\n",
       "8. 'feature_names'\n",
       "9. 'nfeatures'\n",
       "\n",
       "\n",
       "\n",
       "$class\n",
       ":   'xgb.Booster'\n",
       "\n",
       "\n"
      ],
      "text/plain": [
       "$names\n",
       "[1] \"handle\"         \"raw\"            \"niter\"          \"evaluation_log\"\n",
       "[5] \"call\"           \"params\"         \"callbacks\"      \"feature_names\" \n",
       "[9] \"nfeatures\"     \n",
       "\n",
       "$class\n",
       "[1] \"xgb.Booster\"\n"
      ]
     },
     "metadata": {},
     "output_type": "display_data"
    }
   ],
   "source": [
    "attributes(Model)"
   ]
  },
  {
   "cell_type": "code",
   "execution_count": 61,
   "metadata": {},
   "outputs": [
    {
     "data": {
      "text/plain": [
       "$names\n",
       "[1] \"iter\"       \"train_rmse\" \"eval_rmse\" \n",
       "\n",
       "$row.names\n",
       "  [1]   1   2   3   4   5   6   7   8   9  10  11  12  13  14  15  16  17  18\n",
       " [19]  19  20  21  22  23  24  25  26  27  28  29  30  31  32  33  34  35  36\n",
       " [37]  37  38  39  40  41  42  43  44  45  46  47  48  49  50  51  52  53  54\n",
       " [55]  55  56  57  58  59  60  61  62  63  64  65  66  67  68  69  70  71  72\n",
       " [73]  73  74  75  76  77  78  79  80  81  82  83  84  85  86  87  88  89  90\n",
       " [91]  91  92  93  94  95  96  97  98  99 100\n",
       "\n",
       "$class\n",
       "[1] \"data.table\" \"data.frame\"\n",
       "\n",
       "$.internal.selfref\n",
       "<pointer: 0x7f94bd83d0e0>\n"
      ]
     },
     "metadata": {},
     "output_type": "display_data"
    }
   ],
   "source": [
    "attributes(Model$evaluation_log)"
   ]
  },
  {
   "cell_type": "code",
   "execution_count": 60,
   "metadata": {
    "scrolled": true
   },
   "outputs": [
    {
     "data": {
      "image/png": "[encoded data removed]",
      "text/plain": [
       "plot without title"
      ]
     },
     "metadata": {},
     "output_type": "display_data"
    }
   ],
   "source": [
    "plot(Model$evaluation_log)"
   ]
  },
  {
   "cell_type": "code",
   "execution_count": 62,
   "metadata": {},
   "outputs": [
    {
     "data": {
      "image/png": "[encoded data removed]",
      "text/plain": [
       "plot without title"
      ]
     },
     "metadata": {},
     "output_type": "display_data"
    }
   ],
   "source": [
    "plot(Model$evaluation_log$train_rmse, type = 'l')"
   ]
  },
  {
   "cell_type": "code",
   "execution_count": 64,
   "metadata": {},
   "outputs": [
    {
     "data": {
      "image/png": "[encoded data removed]",
      "text/plain": [
       "plot without title"
      ]
     },
     "metadata": {},
     "output_type": "display_data"
    }
   ],
   "source": [
    "plot(Model$evaluation_log$eval_rmse, type = 'l', lwd = 5)"
   ]
  },
  {
   "cell_type": "markdown",
   "metadata": {},
   "source": [
    "2시간 25분"
   ]
  },
  {
   "cell_type": "code",
   "execution_count": 65,
   "metadata": {},
   "outputs": [
    {
     "name": "stdout",
     "output_type": "stream",
     "text": [
      "[1]\ttrain-rmse:8624712.000000\teval-rmse:9174663.000000 \n",
      "Multiple eval metrics are present. Will use eval_rmse for early stopping.\n",
      "Will train until eval_rmse hasn't improved in 20 rounds.\n",
      "\n",
      "[2]\ttrain-rmse:7690064.000000\teval-rmse:8442111.000000 \n",
      "[3]\ttrain-rmse:7109901.500000\teval-rmse:8068906.500000 \n",
      "[4]\ttrain-rmse:6700318.500000\teval-rmse:7810700.000000 \n",
      "[5]\ttrain-rmse:6402680.000000\teval-rmse:7708963.500000 \n",
      "[6]\ttrain-rmse:6107527.000000\teval-rmse:7544390.000000 \n",
      "[7]\ttrain-rmse:5905836.500000\teval-rmse:7443326.500000 \n",
      "[8]\ttrain-rmse:5787397.000000\teval-rmse:7476746.000000 \n",
      "[9]\ttrain-rmse:5677222.500000\teval-rmse:7434908.000000 \n",
      "[10]\ttrain-rmse:5547659.000000\teval-rmse:7418972.500000 \n",
      "[11]\ttrain-rmse:5480565.000000\teval-rmse:7442603.500000 \n",
      "[12]\ttrain-rmse:5401364.000000\teval-rmse:7465303.500000 \n",
      "[13]\ttrain-rmse:5244913.000000\teval-rmse:7445296.500000 \n",
      "[14]\ttrain-rmse:5192802.500000\teval-rmse:7451585.000000 \n",
      "[15]\ttrain-rmse:5077719.000000\teval-rmse:7430035.500000 \n",
      "[16]\ttrain-rmse:5041585.000000\teval-rmse:7447437.000000 \n",
      "[17]\ttrain-rmse:4991040.500000\teval-rmse:7455458.500000 \n",
      "[18]\ttrain-rmse:4957437.500000\teval-rmse:7452919.000000 \n",
      "[19]\ttrain-rmse:4894579.000000\teval-rmse:7457300.500000 \n",
      "[20]\ttrain-rmse:4858901.500000\teval-rmse:7461108.500000 \n",
      "[21]\ttrain-rmse:4823754.500000\teval-rmse:7469169.500000 \n",
      "[22]\ttrain-rmse:4783913.000000\teval-rmse:7517140.500000 \n",
      "[23]\ttrain-rmse:4707580.500000\teval-rmse:7490014.500000 \n",
      "[24]\ttrain-rmse:4657677.500000\teval-rmse:7485726.500000 \n",
      "[25]\ttrain-rmse:4624028.500000\teval-rmse:7502758.500000 \n",
      "[26]\ttrain-rmse:4570738.500000\teval-rmse:7519522.500000 \n",
      "[27]\ttrain-rmse:4546841.500000\teval-rmse:7530231.000000 \n",
      "[28]\ttrain-rmse:4490278.000000\teval-rmse:7518501.500000 \n",
      "[29]\ttrain-rmse:4469889.500000\teval-rmse:7518787.500000 \n",
      "[30]\ttrain-rmse:4408401.000000\teval-rmse:7506907.500000 \n",
      "Stopping. Best iteration:\n",
      "[10]\ttrain-rmse:5547659.000000\teval-rmse:7418972.500000\n",
      "\n"
     ]
    }
   ],
   "source": [
    "Model <- xgb.train(data = dtrain,\n",
    "                   params = list(eta = 0.3),\n",
    "                   watchlist = list(train = dtrain,\n",
    "                                    eval = dvalid),\n",
    "                   nrounds = 99999999,\n",
    "                   early_stopping_rounds = 20)"
   ]
  },
  {
   "cell_type": "code",
   "execution_count": 66,
   "metadata": {},
   "outputs": [
    {
     "data": {
      "text/html": [
       "1.91072022038889"
      ],
      "text/latex": [
       "1.91072022038889"
      ],
      "text/markdown": [
       "1.91072022038889"
      ],
      "text/plain": [
       "[1] 1.91072"
      ]
     },
     "metadata": {},
     "output_type": "display_data"
    }
   ],
   "source": [
    "pred <- predict(Model, X[valid, ])\n",
    "RMSLE(pred, Y[valid])"
   ]
  },
  {
   "cell_type": "code",
   "execution_count": null,
   "metadata": {},
   "outputs": [],
   "source": []
  },
  {
   "cell_type": "code",
   "execution_count": 67,
   "metadata": {
    "scrolled": true
   },
   "outputs": [
    {
     "name": "stdout",
     "output_type": "stream",
     "text": [
      "[1]\ttrain-rmse:10042576.000000\teval-rmse:10446306.000000 \n",
      "Multiple eval metrics are present. Will use eval_rmse for early stopping.\n",
      "Will train until eval_rmse hasn't improved in 20 rounds.\n",
      "\n",
      "[2]\ttrain-rmse:9994329.000000\teval-rmse:10402705.000000 \n",
      "[3]\ttrain-rmse:9948573.000000\teval-rmse:10361941.000000 \n",
      "[4]\ttrain-rmse:9901993.000000\teval-rmse:10319112.000000 \n",
      "[5]\ttrain-rmse:9857224.000000\teval-rmse:10277786.000000 \n",
      "[6]\ttrain-rmse:9810219.000000\teval-rmse:10233428.000000 \n",
      "[7]\ttrain-rmse:9763003.000000\teval-rmse:10192245.000000 \n",
      "[8]\ttrain-rmse:9718208.000000\teval-rmse:10149528.000000 \n",
      "[9]\ttrain-rmse:9673951.000000\teval-rmse:10109870.000000 \n",
      "[10]\ttrain-rmse:9631056.000000\teval-rmse:10071295.000000 \n",
      "[11]\ttrain-rmse:9587865.000000\teval-rmse:10027158.000000 \n",
      "[12]\ttrain-rmse:9546499.000000\teval-rmse:9988645.000000 \n",
      "[13]\ttrain-rmse:9506955.000000\teval-rmse:9951806.000000 \n",
      "[14]\ttrain-rmse:9465593.000000\teval-rmse:9914502.000000 \n",
      "[15]\ttrain-rmse:9425506.000000\teval-rmse:9876963.000000 \n",
      "[16]\ttrain-rmse:9384040.000000\teval-rmse:9840057.000000 \n",
      "[17]\ttrain-rmse:9345529.000000\teval-rmse:9806139.000000 \n",
      "[18]\ttrain-rmse:9306838.000000\teval-rmse:9770461.000000 \n",
      "[19]\ttrain-rmse:9269775.000000\teval-rmse:9732958.000000 \n",
      "[20]\ttrain-rmse:9233057.000000\teval-rmse:9696159.000000 \n",
      "[21]\ttrain-rmse:9195739.000000\teval-rmse:9657907.000000 \n",
      "[22]\ttrain-rmse:9161222.000000\teval-rmse:9625274.000000 \n",
      "[23]\ttrain-rmse:9124614.000000\teval-rmse:9588594.000000 \n",
      "[24]\ttrain-rmse:9089112.000000\teval-rmse:9554174.000000 \n",
      "[25]\ttrain-rmse:9054392.000000\teval-rmse:9523806.000000 \n",
      "[26]\ttrain-rmse:9018477.000000\teval-rmse:9491776.000000 \n",
      "[27]\ttrain-rmse:8983040.000000\teval-rmse:9460207.000000 \n",
      "[28]\ttrain-rmse:8946403.000000\teval-rmse:9427191.000000 \n",
      "[29]\ttrain-rmse:8912304.000000\teval-rmse:9394138.000000 \n",
      "[30]\ttrain-rmse:8878779.000000\teval-rmse:9362939.000000 \n",
      "[31]\ttrain-rmse:8846968.000000\teval-rmse:9335016.000000 \n",
      "[32]\ttrain-rmse:8815216.000000\teval-rmse:9304895.000000 \n",
      "[33]\ttrain-rmse:8783713.000000\teval-rmse:9275350.000000 \n",
      "[34]\ttrain-rmse:8752019.000000\teval-rmse:9249554.000000 \n",
      "[35]\ttrain-rmse:8717875.000000\teval-rmse:9219430.000000 \n",
      "[36]\ttrain-rmse:8688562.000000\teval-rmse:9192161.000000 \n",
      "[37]\ttrain-rmse:8659245.000000\teval-rmse:9164520.000000 \n",
      "[38]\ttrain-rmse:8626942.000000\teval-rmse:9140777.000000 \n",
      "[39]\ttrain-rmse:8595768.000000\teval-rmse:9114756.000000 \n",
      "[40]\ttrain-rmse:8566614.000000\teval-rmse:9086703.000000 \n",
      "[41]\ttrain-rmse:8540467.000000\teval-rmse:9060900.000000 \n",
      "[42]\ttrain-rmse:8513358.000000\teval-rmse:9035155.000000 \n",
      "[43]\ttrain-rmse:8486073.000000\teval-rmse:9010787.000000 \n",
      "[44]\ttrain-rmse:8459730.000000\teval-rmse:8988588.000000 \n",
      "[45]\ttrain-rmse:8432957.000000\teval-rmse:8964301.000000 \n",
      "[46]\ttrain-rmse:8405424.000000\teval-rmse:8940285.000000 \n",
      "[47]\ttrain-rmse:8379430.500000\teval-rmse:8916822.000000 \n",
      "[48]\ttrain-rmse:8354066.500000\teval-rmse:8893536.000000 \n",
      "[49]\ttrain-rmse:8328377.000000\teval-rmse:8871282.000000 \n",
      "[50]\ttrain-rmse:8302749.000000\teval-rmse:8846560.000000 \n",
      "[51]\ttrain-rmse:8275543.000000\teval-rmse:8821198.000000 \n",
      "[52]\ttrain-rmse:8250143.500000\teval-rmse:8798517.000000 \n",
      "[53]\ttrain-rmse:8226391.500000\teval-rmse:8779969.000000 \n",
      "[54]\ttrain-rmse:8200586.000000\teval-rmse:8753324.000000 \n",
      "[55]\ttrain-rmse:8175659.500000\teval-rmse:8731663.000000 \n",
      "[56]\ttrain-rmse:8150554.500000\teval-rmse:8710547.000000 \n",
      "[57]\ttrain-rmse:8127644.500000\teval-rmse:8691878.000000 \n",
      "[58]\ttrain-rmse:8102327.000000\teval-rmse:8669745.000000 \n",
      "[59]\ttrain-rmse:8081024.000000\teval-rmse:8651212.000000 \n",
      "[60]\ttrain-rmse:8059725.500000\teval-rmse:8633994.000000 \n",
      "[61]\ttrain-rmse:8037400.000000\teval-rmse:8612359.000000 \n",
      "[62]\ttrain-rmse:8014274.500000\teval-rmse:8589929.000000 \n",
      "[63]\ttrain-rmse:7991970.000000\teval-rmse:8568752.000000 \n",
      "[64]\ttrain-rmse:7970346.000000\teval-rmse:8552202.000000 \n",
      "[65]\ttrain-rmse:7946977.500000\teval-rmse:8532013.000000 \n",
      "[66]\ttrain-rmse:7925309.500000\teval-rmse:8515037.000000 \n",
      "[67]\ttrain-rmse:7906111.000000\teval-rmse:8497676.000000 \n",
      "[68]\ttrain-rmse:7886702.500000\teval-rmse:8479197.000000 \n",
      "[69]\ttrain-rmse:7866477.500000\teval-rmse:8461488.000000 \n",
      "[70]\ttrain-rmse:7844867.000000\teval-rmse:8442591.000000 \n",
      "[71]\ttrain-rmse:7825314.000000\teval-rmse:8425546.000000 \n",
      "[72]\ttrain-rmse:7806456.500000\teval-rmse:8410437.000000 \n",
      "[73]\ttrain-rmse:7787575.500000\teval-rmse:8396142.000000 \n",
      "[74]\ttrain-rmse:7769396.500000\teval-rmse:8381432.500000 \n",
      "[75]\ttrain-rmse:7750556.000000\teval-rmse:8362384.000000 \n",
      "[76]\ttrain-rmse:7732203.000000\teval-rmse:8345280.500000 \n",
      "[77]\ttrain-rmse:7713155.000000\teval-rmse:8327559.000000 \n",
      "[78]\ttrain-rmse:7696185.500000\teval-rmse:8314724.000000 \n",
      "[79]\ttrain-rmse:7678749.500000\teval-rmse:8298877.500000 \n",
      "[80]\ttrain-rmse:7661828.500000\teval-rmse:8284844.000000 \n",
      "[81]\ttrain-rmse:7644567.500000\teval-rmse:8269892.000000 \n",
      "[82]\ttrain-rmse:7627889.500000\teval-rmse:8257875.000000 \n",
      "[83]\ttrain-rmse:7609712.500000\teval-rmse:8242994.000000 \n",
      "[84]\ttrain-rmse:7592834.000000\teval-rmse:8228789.500000 \n",
      "[85]\ttrain-rmse:7576207.000000\teval-rmse:8215103.000000 \n",
      "[86]\ttrain-rmse:7559701.000000\teval-rmse:8200230.000000 \n",
      "[87]\ttrain-rmse:7545115.500000\teval-rmse:8186142.500000 \n",
      "[88]\ttrain-rmse:7528517.500000\teval-rmse:8174589.000000 \n",
      "[89]\ttrain-rmse:7512801.000000\teval-rmse:8162451.500000 \n",
      "[90]\ttrain-rmse:7497191.500000\teval-rmse:8150839.500000 \n",
      "[91]\ttrain-rmse:7481593.000000\teval-rmse:8136439.500000 \n",
      "[92]\ttrain-rmse:7466177.500000\teval-rmse:8125030.500000 \n",
      "[93]\ttrain-rmse:7453047.000000\teval-rmse:8114278.000000 \n",
      "[94]\ttrain-rmse:7437388.000000\teval-rmse:8098739.500000 \n",
      "[95]\ttrain-rmse:7423951.000000\teval-rmse:8086545.000000 \n",
      "[96]\ttrain-rmse:7409399.000000\teval-rmse:8075760.500000 \n",
      "[97]\ttrain-rmse:7393933.500000\teval-rmse:8064969.000000 \n",
      "[98]\ttrain-rmse:7381196.500000\teval-rmse:8055434.500000 \n",
      "[99]\ttrain-rmse:7367416.500000\teval-rmse:8043576.500000 \n",
      "[100]\ttrain-rmse:7355062.500000\teval-rmse:8034004.000000 \n",
      "[101]\ttrain-rmse:7342639.000000\teval-rmse:8024461.500000 \n",
      "[102]\ttrain-rmse:7330380.000000\teval-rmse:8012215.500000 \n",
      "[103]\ttrain-rmse:7315925.500000\teval-rmse:7998436.500000 \n",
      "[104]\ttrain-rmse:7302076.000000\teval-rmse:7985754.000000 \n",
      "[105]\ttrain-rmse:7288878.500000\teval-rmse:7977214.000000 \n",
      "[106]\ttrain-rmse:7278168.500000\teval-rmse:7971241.500000 \n",
      "[107]\ttrain-rmse:7266858.000000\teval-rmse:7960132.500000 \n",
      "[108]\ttrain-rmse:7253150.500000\teval-rmse:7951842.500000 \n",
      "[109]\ttrain-rmse:7240560.500000\teval-rmse:7942679.500000 \n",
      "[110]\ttrain-rmse:7227833.000000\teval-rmse:7934168.000000 \n",
      "[111]\ttrain-rmse:7216516.500000\teval-rmse:7924398.500000 \n",
      "[112]\ttrain-rmse:7204567.500000\teval-rmse:7912763.000000 \n",
      "[113]\ttrain-rmse:7192948.500000\teval-rmse:7904744.000000 \n",
      "[114]\ttrain-rmse:7182038.000000\teval-rmse:7895693.000000 \n",
      "[115]\ttrain-rmse:7170849.500000\teval-rmse:7887470.500000 \n",
      "[116]\ttrain-rmse:7159030.000000\teval-rmse:7881669.500000 \n",
      "[117]\ttrain-rmse:7147674.500000\teval-rmse:7871614.500000 \n",
      "[118]\ttrain-rmse:7136034.500000\teval-rmse:7864445.500000 \n",
      "[119]\ttrain-rmse:7125160.500000\teval-rmse:7857009.500000 \n",
      "[120]\ttrain-rmse:7113728.000000\teval-rmse:7846881.000000 \n",
      "[121]\ttrain-rmse:7101154.000000\teval-rmse:7837924.000000 \n",
      "[122]\ttrain-rmse:7091128.500000\teval-rmse:7827969.500000 \n",
      "[123]\ttrain-rmse:7079926.000000\teval-rmse:7818822.500000 \n",
      "[124]\ttrain-rmse:7069759.000000\teval-rmse:7811162.000000 \n",
      "[125]\ttrain-rmse:7060055.500000\teval-rmse:7801470.000000 \n",
      "[126]\ttrain-rmse:7048413.000000\teval-rmse:7795873.000000 \n",
      "[127]\ttrain-rmse:7038077.500000\teval-rmse:7789251.500000 \n",
      "[128]\ttrain-rmse:7028098.500000\teval-rmse:7781801.500000 \n",
      "[129]\ttrain-rmse:7017335.000000\teval-rmse:7772892.000000 \n",
      "[130]\ttrain-rmse:7007830.500000\teval-rmse:7768237.000000 \n",
      "[131]\ttrain-rmse:6998403.500000\teval-rmse:7763420.500000 \n",
      "[132]\ttrain-rmse:6990130.500000\teval-rmse:7757045.500000 \n",
      "[133]\ttrain-rmse:6981140.500000\teval-rmse:7751131.000000 \n",
      "[134]\ttrain-rmse:6971592.500000\teval-rmse:7744288.500000 \n",
      "[135]\ttrain-rmse:6962575.000000\teval-rmse:7739313.500000 \n",
      "[136]\ttrain-rmse:6954008.000000\teval-rmse:7735435.000000 \n",
      "[137]\ttrain-rmse:6944539.000000\teval-rmse:7728563.500000 \n",
      "[138]\ttrain-rmse:6935628.500000\teval-rmse:7723001.000000 \n",
      "[139]\ttrain-rmse:6926343.500000\teval-rmse:7716714.500000 \n",
      "[140]\ttrain-rmse:6916696.000000\teval-rmse:7705696.000000 \n",
      "[141]\ttrain-rmse:6907555.000000\teval-rmse:7701055.000000 \n",
      "[142]\ttrain-rmse:6898313.500000\teval-rmse:7692976.500000 \n",
      "[143]\ttrain-rmse:6889036.000000\teval-rmse:7686931.500000 \n",
      "[144]\ttrain-rmse:6881002.000000\teval-rmse:7681150.500000 \n",
      "[145]\ttrain-rmse:6870570.500000\teval-rmse:7677998.500000 \n",
      "[146]\ttrain-rmse:6862063.000000\teval-rmse:7673531.000000 \n",
      "[147]\ttrain-rmse:6853598.500000\teval-rmse:7667523.500000 \n",
      "[148]\ttrain-rmse:6842499.000000\teval-rmse:7661505.000000 \n",
      "[149]\ttrain-rmse:6834773.000000\teval-rmse:7655939.500000 \n",
      "[150]\ttrain-rmse:6826030.500000\teval-rmse:7651229.000000 \n",
      "[151]\ttrain-rmse:6817850.000000\teval-rmse:7643607.500000 \n",
      "[152]\ttrain-rmse:6810143.000000\teval-rmse:7640085.500000 \n",
      "[153]\ttrain-rmse:6802635.500000\teval-rmse:7637490.000000 \n",
      "[154]\ttrain-rmse:6795592.000000\teval-rmse:7633563.500000 \n",
      "[155]\ttrain-rmse:6789075.000000\teval-rmse:7628332.000000 \n",
      "[156]\ttrain-rmse:6781093.000000\teval-rmse:7623262.500000 \n",
      "[157]\ttrain-rmse:6773073.000000\teval-rmse:7619072.500000 \n",
      "[158]\ttrain-rmse:6766937.500000\teval-rmse:7615982.000000 \n",
      "[159]\ttrain-rmse:6758939.000000\teval-rmse:7613551.500000 \n",
      "[160]\ttrain-rmse:6752827.000000\teval-rmse:7610202.000000 \n",
      "[161]\ttrain-rmse:6742597.000000\teval-rmse:7605427.500000 \n",
      "[162]\ttrain-rmse:6735284.000000\teval-rmse:7600128.500000 \n",
      "[163]\ttrain-rmse:6728715.000000\teval-rmse:7595534.000000 \n",
      "[164]\ttrain-rmse:6721449.500000\teval-rmse:7590530.500000 \n",
      "[165]\ttrain-rmse:6714985.000000\teval-rmse:7586671.500000 \n",
      "[166]\ttrain-rmse:6706885.500000\teval-rmse:7582373.500000 \n",
      "[167]\ttrain-rmse:6701108.500000\teval-rmse:7578316.500000 \n",
      "[168]\ttrain-rmse:6692711.000000\teval-rmse:7576579.500000 \n",
      "[169]\ttrain-rmse:6685834.000000\teval-rmse:7573733.500000 \n",
      "[170]\ttrain-rmse:6680797.500000\teval-rmse:7569243.500000 \n",
      "[171]\ttrain-rmse:6674931.500000\teval-rmse:7565452.500000 \n",
      "[172]\ttrain-rmse:6667476.500000\teval-rmse:7562186.000000 \n",
      "[173]\ttrain-rmse:6661859.000000\teval-rmse:7557596.500000 \n",
      "[174]\ttrain-rmse:6655602.000000\teval-rmse:7553362.500000 \n",
      "[175]\ttrain-rmse:6649993.500000\teval-rmse:7550570.000000 \n",
      "[176]\ttrain-rmse:6641885.000000\teval-rmse:7547342.000000 \n",
      "[177]\ttrain-rmse:6634262.500000\teval-rmse:7543512.500000 \n",
      "[178]\ttrain-rmse:6625579.000000\teval-rmse:7538078.000000 \n",
      "[179]\ttrain-rmse:6618758.500000\teval-rmse:7535711.500000 \n",
      "[180]\ttrain-rmse:6609640.500000\teval-rmse:7532092.500000 \n",
      "[181]\ttrain-rmse:6604331.500000\teval-rmse:7529761.500000 \n",
      "[182]\ttrain-rmse:6598613.500000\teval-rmse:7525344.500000 \n",
      "[183]\ttrain-rmse:6593013.500000\teval-rmse:7522955.000000 \n",
      "[184]\ttrain-rmse:6586709.500000\teval-rmse:7520814.500000 \n",
      "[185]\ttrain-rmse:6581196.000000\teval-rmse:7516307.500000 \n",
      "[186]\ttrain-rmse:6575913.000000\teval-rmse:7512313.000000 \n",
      "[187]\ttrain-rmse:6570185.000000\teval-rmse:7509397.500000 \n",
      "[188]\ttrain-rmse:6564062.500000\teval-rmse:7504958.000000 \n",
      "[189]\ttrain-rmse:6556891.500000\teval-rmse:7502044.500000 \n",
      "[190]\ttrain-rmse:6551517.500000\teval-rmse:7498036.000000 \n",
      "[191]\ttrain-rmse:6546346.500000\teval-rmse:7495969.000000 \n",
      "[192]\ttrain-rmse:6542186.500000\teval-rmse:7494708.000000 \n",
      "[193]\ttrain-rmse:6536048.000000\teval-rmse:7491746.500000 \n",
      "[194]\ttrain-rmse:6530807.000000\teval-rmse:7490334.500000 \n",
      "[195]\ttrain-rmse:6526533.000000\teval-rmse:7488763.000000 \n",
      "[196]\ttrain-rmse:6521342.500000\teval-rmse:7485539.000000 \n",
      "[197]\ttrain-rmse:6516754.000000\teval-rmse:7483131.000000 \n",
      "[198]\ttrain-rmse:6509439.500000\teval-rmse:7479578.500000 \n",
      "[199]\ttrain-rmse:6505369.500000\teval-rmse:7477129.000000 \n",
      "[200]\ttrain-rmse:6499674.000000\teval-rmse:7475557.000000 \n",
      "[201]\ttrain-rmse:6494858.500000\teval-rmse:7472669.500000 \n",
      "[202]\ttrain-rmse:6485886.500000\teval-rmse:7468420.500000 \n",
      "[203]\ttrain-rmse:6481173.000000\teval-rmse:7466134.500000 \n",
      "[204]\ttrain-rmse:6475722.000000\teval-rmse:7464262.000000 \n",
      "[205]\ttrain-rmse:6471646.500000\teval-rmse:7463177.500000 \n",
      "[206]\ttrain-rmse:6466398.000000\teval-rmse:7461830.000000 \n",
      "[207]\ttrain-rmse:6461356.500000\teval-rmse:7460598.000000 \n",
      "[208]\ttrain-rmse:6455778.000000\teval-rmse:7459054.000000 \n",
      "[209]\ttrain-rmse:6448460.000000\teval-rmse:7454296.500000 \n",
      "[210]\ttrain-rmse:6444642.500000\teval-rmse:7451990.000000 \n",
      "[211]\ttrain-rmse:6439368.500000\teval-rmse:7449200.000000 \n",
      "[212]\ttrain-rmse:6434813.000000\teval-rmse:7447168.000000 \n",
      "[213]\ttrain-rmse:6429996.500000\teval-rmse:7446348.000000 \n",
      "[214]\ttrain-rmse:6425286.500000\teval-rmse:7444310.500000 \n",
      "[215]\ttrain-rmse:6420233.000000\teval-rmse:7441838.000000 \n",
      "[216]\ttrain-rmse:6415412.500000\teval-rmse:7440203.500000 \n",
      "[217]\ttrain-rmse:6411714.500000\teval-rmse:7438210.500000 \n",
      "[218]\ttrain-rmse:6406036.500000\teval-rmse:7436313.500000 \n",
      "[219]\ttrain-rmse:6401822.000000\teval-rmse:7432186.500000 \n",
      "[220]\ttrain-rmse:6397476.000000\teval-rmse:7430963.000000 \n",
      "[221]\ttrain-rmse:6391048.500000\teval-rmse:7426165.500000 \n",
      "[222]\ttrain-rmse:6386440.000000\teval-rmse:7424135.500000 \n",
      "[223]\ttrain-rmse:6381550.000000\teval-rmse:7421105.000000 \n",
      "[224]\ttrain-rmse:6376640.500000\teval-rmse:7420369.000000 \n",
      "[225]\ttrain-rmse:6371388.000000\teval-rmse:7417552.500000 \n",
      "[226]\ttrain-rmse:6367265.500000\teval-rmse:7415819.500000 \n",
      "[227]\ttrain-rmse:6362825.000000\teval-rmse:7412704.000000 \n",
      "[228]\ttrain-rmse:6356280.500000\teval-rmse:7411703.000000 \n",
      "[229]\ttrain-rmse:6352507.000000\teval-rmse:7411772.500000 \n",
      "[230]\ttrain-rmse:6346264.500000\teval-rmse:7409240.500000 \n",
      "[231]\ttrain-rmse:6341226.000000\teval-rmse:7407698.500000 \n",
      "[232]\ttrain-rmse:6335727.500000\teval-rmse:7404789.000000 \n",
      "[233]\ttrain-rmse:6330722.500000\teval-rmse:7402351.000000 \n",
      "[234]\ttrain-rmse:6327013.000000\teval-rmse:7401762.000000 \n",
      "[235]\ttrain-rmse:6323487.000000\teval-rmse:7401008.000000 \n",
      "[236]\ttrain-rmse:6317351.000000\teval-rmse:7398889.500000 \n",
      "[237]\ttrain-rmse:6311091.500000\teval-rmse:7395845.000000 \n",
      "[238]\ttrain-rmse:6307229.000000\teval-rmse:7394758.500000 \n",
      "[239]\ttrain-rmse:6301385.000000\teval-rmse:7391644.500000 \n",
      "[240]\ttrain-rmse:6296731.000000\teval-rmse:7389048.000000 \n",
      "[241]\ttrain-rmse:6290924.500000\teval-rmse:7387148.500000 \n",
      "[242]\ttrain-rmse:6285920.000000\teval-rmse:7385093.500000 \n",
      "[243]\ttrain-rmse:6280699.000000\teval-rmse:7384725.000000 \n",
      "[244]\ttrain-rmse:6276548.000000\teval-rmse:7384205.500000 \n",
      "[245]\ttrain-rmse:6272076.500000\teval-rmse:7381194.500000 \n",
      "[246]\ttrain-rmse:6266325.000000\teval-rmse:7376729.500000 \n",
      "[247]\ttrain-rmse:6261676.000000\teval-rmse:7376629.000000 \n",
      "[248]\ttrain-rmse:6256768.000000\teval-rmse:7375632.000000 \n",
      "[249]\ttrain-rmse:6250529.000000\teval-rmse:7373317.500000 \n",
      "[250]\ttrain-rmse:6244559.000000\teval-rmse:7370538.500000 \n",
      "[251]\ttrain-rmse:6240987.000000\teval-rmse:7369665.000000 \n",
      "[252]\ttrain-rmse:6235952.500000\teval-rmse:7367903.500000 \n",
      "[253]\ttrain-rmse:6230761.000000\teval-rmse:7367223.500000 \n",
      "[254]\ttrain-rmse:6226805.000000\teval-rmse:7366237.000000 \n",
      "[255]\ttrain-rmse:6224038.000000\teval-rmse:7366120.000000 \n",
      "[256]\ttrain-rmse:6220346.500000\teval-rmse:7365856.500000 \n",
      "[257]\ttrain-rmse:6216332.000000\teval-rmse:7365273.000000 \n",
      "[258]\ttrain-rmse:6213274.000000\teval-rmse:7366365.000000 \n",
      "[259]\ttrain-rmse:6207262.500000\teval-rmse:7362831.000000 \n",
      "[260]\ttrain-rmse:6203393.000000\teval-rmse:7361022.000000 \n",
      "[261]\ttrain-rmse:6199166.000000\teval-rmse:7360633.500000 \n",
      "[262]\ttrain-rmse:6194829.000000\teval-rmse:7360209.500000 \n",
      "[263]\ttrain-rmse:6189835.500000\teval-rmse:7358531.500000 \n",
      "[264]\ttrain-rmse:6186242.000000\teval-rmse:7358073.000000 \n",
      "[265]\ttrain-rmse:6181674.500000\teval-rmse:7358080.000000 \n",
      "[266]\ttrain-rmse:6177584.000000\teval-rmse:7357070.000000 \n",
      "[267]\ttrain-rmse:6173276.500000\teval-rmse:7355840.000000 \n",
      "[268]\ttrain-rmse:6169064.000000\teval-rmse:7355626.500000 \n",
      "[269]\ttrain-rmse:6165756.000000\teval-rmse:7353196.000000 \n",
      "[270]\ttrain-rmse:6161247.000000\teval-rmse:7352478.500000 \n",
      "[271]\ttrain-rmse:6156708.500000\teval-rmse:7352126.000000 \n",
      "[272]\ttrain-rmse:6153918.000000\teval-rmse:7350737.500000 \n",
      "[273]\ttrain-rmse:6150011.500000\teval-rmse:7348648.000000 \n",
      "[274]\ttrain-rmse:6145497.000000\teval-rmse:7345888.500000 \n",
      "[275]\ttrain-rmse:6142233.000000\teval-rmse:7345326.000000 \n",
      "[276]\ttrain-rmse:6138025.000000\teval-rmse:7342545.500000 \n",
      "[277]\ttrain-rmse:6135526.500000\teval-rmse:7341589.500000 \n",
      "[278]\ttrain-rmse:6132973.000000\teval-rmse:7341702.500000 \n",
      "[279]\ttrain-rmse:6129910.500000\teval-rmse:7340848.000000 \n",
      "[280]\ttrain-rmse:6126993.500000\teval-rmse:7340536.000000 \n",
      "[281]\ttrain-rmse:6123186.000000\teval-rmse:7338669.000000 \n",
      "[282]\ttrain-rmse:6118793.000000\teval-rmse:7336004.500000 \n",
      "[283]\ttrain-rmse:6115246.000000\teval-rmse:7336086.000000 \n",
      "[284]\ttrain-rmse:6112316.500000\teval-rmse:7336533.000000 \n",
      "[285]\ttrain-rmse:6108687.500000\teval-rmse:7337161.000000 \n",
      "[286]\ttrain-rmse:6106213.000000\teval-rmse:7336459.000000 \n",
      "[287]\ttrain-rmse:6103951.000000\teval-rmse:7335645.500000 \n",
      "[288]\ttrain-rmse:6100862.000000\teval-rmse:7333864.500000 \n",
      "[289]\ttrain-rmse:6096014.500000\teval-rmse:7332589.000000 \n",
      "[290]\ttrain-rmse:6093129.500000\teval-rmse:7331319.500000 \n",
      "[291]\ttrain-rmse:6090068.000000\teval-rmse:7330637.500000 \n",
      "[292]\ttrain-rmse:6086185.000000\teval-rmse:7328810.500000 \n",
      "[293]\ttrain-rmse:6083347.000000\teval-rmse:7328342.000000 \n",
      "[294]\ttrain-rmse:6079631.000000\teval-rmse:7326862.000000 \n",
      "[295]\ttrain-rmse:6076883.500000\teval-rmse:7327512.500000 \n",
      "[296]\ttrain-rmse:6074342.500000\teval-rmse:7326556.000000 \n",
      "[297]\ttrain-rmse:6069888.000000\teval-rmse:7326332.000000 \n",
      "[298]\ttrain-rmse:6065731.500000\teval-rmse:7326577.500000 \n",
      "[299]\ttrain-rmse:6061979.500000\teval-rmse:7324359.500000 \n",
      "[300]\ttrain-rmse:6057142.500000\teval-rmse:7322401.000000 \n",
      "[301]\ttrain-rmse:6053936.000000\teval-rmse:7320911.000000 \n",
      "[302]\ttrain-rmse:6048513.500000\teval-rmse:7318661.000000 \n",
      "[303]\ttrain-rmse:6044048.000000\teval-rmse:7317097.500000 \n",
      "[304]\ttrain-rmse:6040458.000000\teval-rmse:7316762.000000 \n",
      "[305]\ttrain-rmse:6038612.500000\teval-rmse:7316383.000000 \n",
      "[306]\ttrain-rmse:6034223.000000\teval-rmse:7315332.500000 \n",
      "[307]\ttrain-rmse:6031519.500000\teval-rmse:7314565.500000 \n",
      "[308]\ttrain-rmse:6029078.500000\teval-rmse:7313337.000000 \n",
      "[309]\ttrain-rmse:6027110.500000\teval-rmse:7312668.500000 \n",
      "[310]\ttrain-rmse:6023715.000000\teval-rmse:7311416.000000 \n",
      "[311]\ttrain-rmse:6020707.500000\teval-rmse:7310672.000000 \n",
      "[312]\ttrain-rmse:6018378.500000\teval-rmse:7311496.000000 \n",
      "[313]\ttrain-rmse:6013768.000000\teval-rmse:7310921.000000 \n",
      "[314]\ttrain-rmse:6011169.000000\teval-rmse:7310585.000000 \n",
      "[315]\ttrain-rmse:6006848.000000\teval-rmse:7309727.500000 \n",
      "[316]\ttrain-rmse:6001754.000000\teval-rmse:7308717.000000 \n",
      "[317]\ttrain-rmse:5998557.500000\teval-rmse:7307804.000000 \n",
      "[318]\ttrain-rmse:5994966.000000\teval-rmse:7306274.000000 \n",
      "[319]\ttrain-rmse:5992997.500000\teval-rmse:7305865.000000 \n",
      "[320]\ttrain-rmse:5987595.000000\teval-rmse:7305436.000000 \n",
      "[321]\ttrain-rmse:5983421.000000\teval-rmse:7304867.000000 \n",
      "[322]\ttrain-rmse:5980553.000000\teval-rmse:7305097.500000 \n",
      "[323]\ttrain-rmse:5978987.000000\teval-rmse:7305480.500000 \n",
      "[324]\ttrain-rmse:5975526.500000\teval-rmse:7304462.500000 \n",
      "[325]\ttrain-rmse:5973205.500000\teval-rmse:7303406.000000 \n",
      "[326]\ttrain-rmse:5970733.000000\teval-rmse:7302962.500000 \n",
      "[327]\ttrain-rmse:5966692.000000\teval-rmse:7301787.000000 \n",
      "[328]\ttrain-rmse:5961816.500000\teval-rmse:7301723.500000 \n",
      "[329]\ttrain-rmse:5959820.000000\teval-rmse:7302152.500000 \n",
      "[330]\ttrain-rmse:5957869.500000\teval-rmse:7302006.500000 \n",
      "[331]\ttrain-rmse:5954108.000000\teval-rmse:7301137.500000 \n",
      "[332]\ttrain-rmse:5951465.000000\teval-rmse:7303073.500000 \n",
      "[333]\ttrain-rmse:5949056.500000\teval-rmse:7303686.000000 \n",
      "[334]\ttrain-rmse:5944046.000000\teval-rmse:7301587.000000 \n",
      "[335]\ttrain-rmse:5941988.000000\teval-rmse:7302150.000000 \n",
      "[336]\ttrain-rmse:5937920.000000\teval-rmse:7300959.000000 \n",
      "[337]\ttrain-rmse:5936008.000000\teval-rmse:7301313.500000 \n",
      "[338]\ttrain-rmse:5931843.000000\teval-rmse:7301394.000000 \n",
      "[339]\ttrain-rmse:5929567.000000\teval-rmse:7302390.500000 \n",
      "[340]\ttrain-rmse:5927173.000000\teval-rmse:7301491.500000 \n",
      "[341]\ttrain-rmse:5922253.000000\teval-rmse:7299373.000000 \n",
      "[342]\ttrain-rmse:5920547.500000\teval-rmse:7298905.500000 \n",
      "[343]\ttrain-rmse:5918001.000000\teval-rmse:7298218.500000 \n",
      "[344]\ttrain-rmse:5913476.500000\teval-rmse:7297209.500000 \n",
      "[345]\ttrain-rmse:5910403.500000\teval-rmse:7295991.500000 \n",
      "[346]\ttrain-rmse:5907985.500000\teval-rmse:7295940.000000 \n",
      "[347]\ttrain-rmse:5905875.500000\teval-rmse:7295872.500000 \n",
      "[348]\ttrain-rmse:5904208.000000\teval-rmse:7296039.500000 \n",
      "[349]\ttrain-rmse:5901370.500000\teval-rmse:7296313.000000 \n",
      "[350]\ttrain-rmse:5898808.500000\teval-rmse:7295758.000000 \n",
      "[351]\ttrain-rmse:5896251.500000\teval-rmse:7295106.000000 \n",
      "[352]\ttrain-rmse:5892528.000000\teval-rmse:7294015.500000 \n",
      "[353]\ttrain-rmse:5889836.500000\teval-rmse:7294248.000000 \n",
      "[354]\ttrain-rmse:5887837.500000\teval-rmse:7292812.500000 \n",
      "[355]\ttrain-rmse:5883917.000000\teval-rmse:7293059.000000 \n",
      "[356]\ttrain-rmse:5880478.500000\teval-rmse:7291109.000000 \n",
      "[357]\ttrain-rmse:5876451.500000\teval-rmse:7290728.000000 \n",
      "[358]\ttrain-rmse:5871418.500000\teval-rmse:7290715.000000 \n",
      "[359]\ttrain-rmse:5868952.000000\teval-rmse:7289922.000000 \n",
      "[360]\ttrain-rmse:5865655.500000\teval-rmse:7290105.000000 \n",
      "[361]\ttrain-rmse:5862989.500000\teval-rmse:7290737.000000 \n",
      "[362]\ttrain-rmse:5860563.500000\teval-rmse:7290370.500000 \n",
      "[363]\ttrain-rmse:5856986.000000\teval-rmse:7288783.500000 \n",
      "[364]\ttrain-rmse:5851826.500000\teval-rmse:7286846.500000 \n",
      "[365]\ttrain-rmse:5847158.500000\teval-rmse:7285197.500000 \n",
      "[366]\ttrain-rmse:5844200.500000\teval-rmse:7285477.000000 \n",
      "[367]\ttrain-rmse:5841057.000000\teval-rmse:7283813.500000 \n",
      "[368]\ttrain-rmse:5839410.000000\teval-rmse:7283332.000000 \n",
      "[369]\ttrain-rmse:5837891.000000\teval-rmse:7283871.000000 \n",
      "[370]\ttrain-rmse:5835126.500000\teval-rmse:7283496.000000 \n",
      "[371]\ttrain-rmse:5832192.000000\teval-rmse:7283776.500000 \n",
      "[372]\ttrain-rmse:5829926.500000\teval-rmse:7283239.500000 \n",
      "[373]\ttrain-rmse:5824764.500000\teval-rmse:7283435.000000 \n",
      "[374]\ttrain-rmse:5821367.000000\teval-rmse:7282942.000000 \n",
      "[375]\ttrain-rmse:5818865.000000\teval-rmse:7282823.500000 \n",
      "[376]\ttrain-rmse:5814056.000000\teval-rmse:7280224.000000 \n",
      "[377]\ttrain-rmse:5810234.000000\teval-rmse:7280247.500000 \n",
      "[378]\ttrain-rmse:5807178.500000\teval-rmse:7280013.500000 \n",
      "[379]\ttrain-rmse:5803265.500000\teval-rmse:7278955.500000 \n",
      "[380]\ttrain-rmse:5800814.000000\teval-rmse:7279093.500000 \n",
      "[381]\ttrain-rmse:5799437.000000\teval-rmse:7279190.500000 \n",
      "[382]\ttrain-rmse:5798179.000000\teval-rmse:7279139.500000 \n",
      "[383]\ttrain-rmse:5796658.000000\teval-rmse:7279944.500000 \n",
      "[384]\ttrain-rmse:5794144.000000\teval-rmse:7280073.000000 \n",
      "[385]\ttrain-rmse:5791862.000000\teval-rmse:7281129.000000 \n",
      "[386]\ttrain-rmse:5788671.000000\teval-rmse:7281954.000000 \n",
      "[387]\ttrain-rmse:5786743.000000\teval-rmse:7281711.000000 \n",
      "[388]\ttrain-rmse:5782840.500000\teval-rmse:7281574.000000 \n",
      "[389]\ttrain-rmse:5781055.500000\teval-rmse:7281579.000000 \n",
      "[390]\ttrain-rmse:5778350.000000\teval-rmse:7281160.000000 \n",
      "[391]\ttrain-rmse:5773699.000000\teval-rmse:7282350.500000 \n",
      "[392]\ttrain-rmse:5771455.000000\teval-rmse:7282796.000000 \n",
      "[393]\ttrain-rmse:5769003.000000\teval-rmse:7281720.000000 \n",
      "[394]\ttrain-rmse:5765195.000000\teval-rmse:7281206.500000 \n",
      "[395]\ttrain-rmse:5761671.500000\teval-rmse:7281432.000000 \n",
      "[396]\ttrain-rmse:5757904.500000\teval-rmse:7280244.000000 \n",
      "[397]\ttrain-rmse:5755682.000000\teval-rmse:7280929.000000 \n",
      "[398]\ttrain-rmse:5754393.500000\teval-rmse:7280409.500000 \n",
      "[399]\ttrain-rmse:5751661.500000\teval-rmse:7280107.500000 \n",
      "Stopping. Best iteration:\n",
      "[379]\ttrain-rmse:5803265.500000\teval-rmse:7278955.500000\n",
      "\n"
     ]
    }
   ],
   "source": [
    "hyper <- list(eta = 0.01,\n",
    "              gamma = 0.1,\n",
    "              subsample = 0.6,\n",
    "              colsample_bytree = 0.5)\n",
    "\n",
    "Model <- xgb.train(data = dtrain,\n",
    "                   params = hyper,\n",
    "                   watchlist = list(train = dtrain,\n",
    "                                    eval = dvalid),\n",
    "                   nrounds = 99999999,\n",
    "                   early_stopping_rounds = 20)"
   ]
  },
  {
   "cell_type": "code",
   "execution_count": 68,
   "metadata": {},
   "outputs": [
    {
     "data": {
      "text/html": [
       "1.93664022532154"
      ],
      "text/latex": [
       "1.93664022532154"
      ],
      "text/markdown": [
       "1.93664022532154"
      ],
      "text/plain": [
       "[1] 1.93664"
      ]
     },
     "metadata": {},
     "output_type": "display_data"
    }
   ],
   "source": [
    "pred <- predict(Model, X[valid, ])\n",
    "RMSLE(pred, Y[valid])"
   ]
  },
  {
   "cell_type": "code",
   "execution_count": null,
   "metadata": {},
   "outputs": [],
   "source": []
  },
  {
   "cell_type": "code",
   "execution_count": 71,
   "metadata": {},
   "outputs": [
    {
     "name": "stdout",
     "output_type": "stream",
     "text": [
      "[1]\ttrain-rmse:10046853.000000\teval-rmse:10449550.000000 \n",
      "Multiple eval metrics are present. Will use eval_rmse for early stopping.\n",
      "Will train until eval_rmse hasn't improved in 30 rounds.\n",
      "\n",
      "[2]\ttrain-rmse:10002297.000000\teval-rmse:10406155.000000 \n",
      "[3]\ttrain-rmse:9959086.000000\teval-rmse:10364551.000000 \n",
      "[4]\ttrain-rmse:9915284.000000\teval-rmse:10322498.000000 \n",
      "[5]\ttrain-rmse:9873206.000000\teval-rmse:10282081.000000 \n",
      "[6]\ttrain-rmse:9831511.000000\teval-rmse:10241774.000000 \n",
      "[7]\ttrain-rmse:9790379.000000\teval-rmse:10202412.000000 \n",
      "[8]\ttrain-rmse:9749414.000000\teval-rmse:10163976.000000 \n",
      "[9]\ttrain-rmse:9709456.000000\teval-rmse:10125875.000000 \n",
      "[10]\ttrain-rmse:9669423.000000\teval-rmse:10087719.000000 \n",
      "[11]\ttrain-rmse:9630395.000000\teval-rmse:10051379.000000 \n",
      "[12]\ttrain-rmse:9591282.000000\teval-rmse:10014202.000000 \n",
      "[13]\ttrain-rmse:9554382.000000\teval-rmse:9977959.000000 \n",
      "[14]\ttrain-rmse:9517008.000000\teval-rmse:9941749.000000 \n",
      "[15]\ttrain-rmse:9480286.000000\teval-rmse:9906099.000000 \n",
      "[16]\ttrain-rmse:9443818.000000\teval-rmse:9872551.000000 \n",
      "[17]\ttrain-rmse:9408101.000000\teval-rmse:9835644.000000 \n",
      "[18]\ttrain-rmse:9373313.000000\teval-rmse:9802756.000000 \n",
      "[19]\ttrain-rmse:9338668.000000\teval-rmse:9769314.000000 \n",
      "[20]\ttrain-rmse:9304717.000000\teval-rmse:9734561.000000 \n",
      "[21]\ttrain-rmse:9270871.000000\teval-rmse:9702763.000000 \n",
      "[22]\ttrain-rmse:9237822.000000\teval-rmse:9672036.000000 \n",
      "[23]\ttrain-rmse:9205177.000000\teval-rmse:9640988.000000 \n",
      "[24]\ttrain-rmse:9172724.000000\teval-rmse:9610055.000000 \n",
      "[25]\ttrain-rmse:9140126.000000\teval-rmse:9577244.000000 \n",
      "[26]\ttrain-rmse:9109070.000000\teval-rmse:9548391.000000 \n",
      "[27]\ttrain-rmse:9078790.000000\teval-rmse:9519596.000000 \n",
      "[28]\ttrain-rmse:9048335.000000\teval-rmse:9490790.000000 \n",
      "[29]\ttrain-rmse:9018853.000000\teval-rmse:9461172.000000 \n",
      "[30]\ttrain-rmse:8989111.000000\teval-rmse:9430536.000000 \n",
      "[31]\ttrain-rmse:8959703.000000\teval-rmse:9401013.000000 \n",
      "[32]\ttrain-rmse:8931115.000000\teval-rmse:9374583.000000 \n",
      "[33]\ttrain-rmse:8903299.000000\teval-rmse:9346015.000000 \n",
      "[34]\ttrain-rmse:8875774.000000\teval-rmse:9320183.000000 \n",
      "[35]\ttrain-rmse:8848661.000000\teval-rmse:9292919.000000 \n",
      "[36]\ttrain-rmse:8821487.000000\teval-rmse:9266070.000000 \n",
      "[37]\ttrain-rmse:8795966.000000\teval-rmse:9240037.000000 \n",
      "[38]\ttrain-rmse:8769679.000000\teval-rmse:9214844.000000 \n",
      "[39]\ttrain-rmse:8743627.000000\teval-rmse:9191210.000000 \n",
      "[40]\ttrain-rmse:8717999.000000\teval-rmse:9167162.000000 \n",
      "[41]\ttrain-rmse:8693251.000000\teval-rmse:9141940.000000 \n",
      "[42]\ttrain-rmse:8669042.000000\teval-rmse:9117594.000000 \n",
      "[43]\ttrain-rmse:8644159.000000\teval-rmse:9092716.000000 \n",
      "[44]\ttrain-rmse:8619672.000000\teval-rmse:9067399.000000 \n",
      "[45]\ttrain-rmse:8596225.000000\teval-rmse:9044482.000000 \n",
      "[46]\ttrain-rmse:8573404.000000\teval-rmse:9023903.000000 \n",
      "[47]\ttrain-rmse:8550521.000000\teval-rmse:9003217.000000 \n",
      "[48]\ttrain-rmse:8527316.000000\teval-rmse:8980306.000000 \n",
      "[49]\ttrain-rmse:8505294.000000\teval-rmse:8960897.000000 \n",
      "[50]\ttrain-rmse:8483331.000000\teval-rmse:8939412.000000 \n",
      "[51]\ttrain-rmse:8461069.000000\teval-rmse:8919872.000000 \n",
      "[52]\ttrain-rmse:8440208.000000\teval-rmse:8901135.000000 \n",
      "[53]\ttrain-rmse:8419052.000000\teval-rmse:8880589.000000 \n",
      "[54]\ttrain-rmse:8398039.000000\teval-rmse:8859262.000000 \n",
      "[55]\ttrain-rmse:8378271.500000\teval-rmse:8841206.000000 \n",
      "[56]\ttrain-rmse:8357465.000000\teval-rmse:8820130.000000 \n",
      "[57]\ttrain-rmse:8337107.000000\teval-rmse:8802557.000000 \n",
      "[58]\ttrain-rmse:8316890.000000\teval-rmse:8783929.000000 \n",
      "[59]\ttrain-rmse:8297778.500000\teval-rmse:8765195.000000 \n",
      "[60]\ttrain-rmse:8278804.500000\teval-rmse:8747490.000000 \n",
      "[61]\ttrain-rmse:8260241.500000\teval-rmse:8731166.000000 \n",
      "[62]\ttrain-rmse:8241248.500000\teval-rmse:8711877.000000 \n",
      "[63]\ttrain-rmse:8223165.000000\teval-rmse:8693725.000000 \n",
      "[64]\ttrain-rmse:8204965.500000\teval-rmse:8677545.000000 \n",
      "[65]\ttrain-rmse:8187742.500000\teval-rmse:8660248.000000 \n",
      "[66]\ttrain-rmse:8170434.500000\teval-rmse:8645378.000000 \n",
      "[67]\ttrain-rmse:8154024.500000\teval-rmse:8631294.000000 \n",
      "[68]\ttrain-rmse:8137887.000000\teval-rmse:8616392.000000 \n",
      "[69]\ttrain-rmse:8121082.500000\teval-rmse:8600959.000000 \n",
      "[70]\ttrain-rmse:8104884.000000\teval-rmse:8585156.000000 \n",
      "[71]\ttrain-rmse:8088469.500000\teval-rmse:8569273.000000 \n",
      "[72]\ttrain-rmse:8072398.500000\teval-rmse:8555509.000000 \n",
      "[73]\ttrain-rmse:8056620.000000\teval-rmse:8541301.000000 \n",
      "[74]\ttrain-rmse:8040531.500000\teval-rmse:8526611.000000 \n",
      "[75]\ttrain-rmse:8025638.500000\teval-rmse:8513078.000000 \n",
      "[76]\ttrain-rmse:8010679.000000\teval-rmse:8498312.000000 \n",
      "[77]\ttrain-rmse:7995948.500000\teval-rmse:8485318.000000 \n",
      "[78]\ttrain-rmse:7980885.000000\teval-rmse:8472549.000000 \n",
      "[79]\ttrain-rmse:7966482.000000\teval-rmse:8457712.000000 \n",
      "[80]\ttrain-rmse:7952402.000000\teval-rmse:8444072.000000 \n",
      "[81]\ttrain-rmse:7938259.500000\teval-rmse:8431641.000000 \n",
      "[82]\ttrain-rmse:7923894.500000\teval-rmse:8417211.000000 \n",
      "[83]\ttrain-rmse:7910363.000000\teval-rmse:8403699.000000 \n",
      "[84]\ttrain-rmse:7896835.000000\teval-rmse:8392854.000000 \n",
      "[85]\ttrain-rmse:7883488.000000\teval-rmse:8381491.500000 \n",
      "[86]\ttrain-rmse:7869914.500000\teval-rmse:8368265.500000 \n",
      "[87]\ttrain-rmse:7857332.000000\teval-rmse:8356776.500000 \n",
      "[88]\ttrain-rmse:7844225.500000\teval-rmse:8344440.500000 \n",
      "[89]\ttrain-rmse:7830910.500000\teval-rmse:8333315.500000 \n",
      "[90]\ttrain-rmse:7818913.000000\teval-rmse:8322427.000000 \n",
      "[91]\ttrain-rmse:7805775.000000\teval-rmse:8311737.500000 \n",
      "[92]\ttrain-rmse:7793345.000000\teval-rmse:8302216.500000 \n",
      "[93]\ttrain-rmse:7781140.500000\teval-rmse:8292259.500000 \n",
      "[94]\ttrain-rmse:7769161.000000\teval-rmse:8283214.000000 \n",
      "[95]\ttrain-rmse:7757802.000000\teval-rmse:8271662.000000 \n",
      "[96]\ttrain-rmse:7746302.500000\teval-rmse:8261002.000000 \n",
      "[97]\ttrain-rmse:7735606.000000\teval-rmse:8251228.500000 \n",
      "[98]\ttrain-rmse:7724388.500000\teval-rmse:8241914.500000 \n",
      "[99]\ttrain-rmse:7713227.000000\teval-rmse:8232746.000000 \n",
      "[100]\ttrain-rmse:7702814.500000\teval-rmse:8223796.000000 \n",
      "[101]\ttrain-rmse:7692172.000000\teval-rmse:8214388.000000 \n",
      "[102]\ttrain-rmse:7682055.500000\teval-rmse:8204845.500000 \n",
      "[103]\ttrain-rmse:7671701.500000\teval-rmse:8195935.000000 \n",
      "[104]\ttrain-rmse:7661664.000000\teval-rmse:8187539.500000 \n",
      "[105]\ttrain-rmse:7651447.000000\teval-rmse:8179638.500000 \n",
      "[106]\ttrain-rmse:7641367.500000\teval-rmse:8171167.500000 \n",
      "[107]\ttrain-rmse:7631864.500000\teval-rmse:8163494.500000 \n",
      "[108]\ttrain-rmse:7622638.000000\teval-rmse:8155764.000000 \n",
      "[109]\ttrain-rmse:7613079.000000\teval-rmse:8146852.000000 \n",
      "[110]\ttrain-rmse:7603678.000000\teval-rmse:8139064.500000 \n",
      "[111]\ttrain-rmse:7593797.000000\teval-rmse:8129629.000000 \n",
      "[112]\ttrain-rmse:7584666.500000\teval-rmse:8120114.000000 \n",
      "[113]\ttrain-rmse:7575193.000000\teval-rmse:8112217.000000 \n",
      "[114]\ttrain-rmse:7565877.500000\teval-rmse:8102729.000000 \n",
      "[115]\ttrain-rmse:7557172.500000\teval-rmse:8094183.500000 \n",
      "[116]\ttrain-rmse:7548291.000000\teval-rmse:8086610.500000 \n",
      "[117]\ttrain-rmse:7539981.500000\teval-rmse:8079586.500000 \n",
      "[118]\ttrain-rmse:7531210.500000\teval-rmse:8071020.500000 \n",
      "[119]\ttrain-rmse:7522676.500000\teval-rmse:8064748.000000 \n",
      "[120]\ttrain-rmse:7514645.500000\teval-rmse:8058000.000000 \n",
      "[121]\ttrain-rmse:7506118.500000\teval-rmse:8051585.000000 \n",
      "[122]\ttrain-rmse:7497237.500000\teval-rmse:8045368.000000 \n",
      "[123]\ttrain-rmse:7489646.000000\teval-rmse:8038547.000000 \n",
      "[124]\ttrain-rmse:7481724.500000\teval-rmse:8032305.000000 \n",
      "[125]\ttrain-rmse:7474256.500000\teval-rmse:8025765.500000 \n",
      "[126]\ttrain-rmse:7466173.500000\teval-rmse:8017774.500000 \n",
      "[127]\ttrain-rmse:7458196.500000\teval-rmse:8011302.000000 \n",
      "[128]\ttrain-rmse:7450811.000000\teval-rmse:8005921.000000 \n",
      "[129]\ttrain-rmse:7443346.500000\teval-rmse:7998970.500000 \n",
      "[130]\ttrain-rmse:7436314.000000\teval-rmse:7992386.500000 \n",
      "[131]\ttrain-rmse:7429645.000000\teval-rmse:7988614.000000 \n",
      "[132]\ttrain-rmse:7422020.000000\teval-rmse:7981970.500000 \n",
      "[133]\ttrain-rmse:7415132.000000\teval-rmse:7975680.000000 \n",
      "[134]\ttrain-rmse:7407354.000000\teval-rmse:7969625.500000 \n",
      "[135]\ttrain-rmse:7400035.000000\teval-rmse:7963368.500000 \n",
      "[136]\ttrain-rmse:7392996.500000\teval-rmse:7957066.500000 \n",
      "[137]\ttrain-rmse:7386716.000000\teval-rmse:7952025.500000 \n",
      "[138]\ttrain-rmse:7380493.000000\teval-rmse:7947608.500000 \n",
      "[139]\ttrain-rmse:7373710.500000\teval-rmse:7941770.000000 \n",
      "[140]\ttrain-rmse:7366904.000000\teval-rmse:7935525.000000 \n",
      "[141]\ttrain-rmse:7360258.500000\teval-rmse:7930671.500000 \n",
      "[142]\ttrain-rmse:7354069.500000\teval-rmse:7924489.000000 \n",
      "[143]\ttrain-rmse:7347689.000000\teval-rmse:7920663.000000 \n",
      "[144]\ttrain-rmse:7341142.000000\teval-rmse:7915443.500000 \n",
      "[145]\ttrain-rmse:7334985.000000\teval-rmse:7911666.500000 \n",
      "[146]\ttrain-rmse:7329181.500000\teval-rmse:7908289.500000 \n",
      "[147]\ttrain-rmse:7322841.500000\teval-rmse:7904280.500000 \n",
      "[148]\ttrain-rmse:7316697.000000\teval-rmse:7898488.000000 \n",
      "[149]\ttrain-rmse:7310957.500000\teval-rmse:7894664.000000 \n",
      "[150]\ttrain-rmse:7305338.500000\teval-rmse:7890326.000000 \n",
      "[151]\ttrain-rmse:7299614.500000\teval-rmse:7884834.000000 \n",
      "[152]\ttrain-rmse:7293790.000000\teval-rmse:7880354.500000 \n",
      "[153]\ttrain-rmse:7287737.500000\teval-rmse:7876405.000000 \n",
      "[154]\ttrain-rmse:7281875.500000\teval-rmse:7871970.000000 \n",
      "[155]\ttrain-rmse:7276327.000000\teval-rmse:7867246.000000 \n",
      "[156]\ttrain-rmse:7270647.000000\teval-rmse:7863091.500000 \n",
      "[157]\ttrain-rmse:7265912.000000\teval-rmse:7859319.500000 \n",
      "[158]\ttrain-rmse:7260328.500000\teval-rmse:7855725.000000 \n",
      "[159]\ttrain-rmse:7255215.500000\teval-rmse:7851471.500000 \n",
      "[160]\ttrain-rmse:7249923.000000\teval-rmse:7848346.000000 \n",
      "[161]\ttrain-rmse:7245096.500000\teval-rmse:7844172.500000 \n",
      "[162]\ttrain-rmse:7240157.000000\teval-rmse:7841254.500000 \n",
      "[163]\ttrain-rmse:7234881.000000\teval-rmse:7836476.500000 \n",
      "[164]\ttrain-rmse:7229552.500000\teval-rmse:7831436.500000 \n",
      "[165]\ttrain-rmse:7224521.500000\teval-rmse:7827189.500000 \n",
      "[166]\ttrain-rmse:7219135.500000\teval-rmse:7823038.500000 \n",
      "[167]\ttrain-rmse:7214317.000000\teval-rmse:7819659.000000 \n",
      "[168]\ttrain-rmse:7209549.000000\teval-rmse:7818136.500000 \n",
      "[169]\ttrain-rmse:7205079.000000\teval-rmse:7815828.500000 \n",
      "[170]\ttrain-rmse:7200471.000000\teval-rmse:7812266.500000 \n",
      "[171]\ttrain-rmse:7195874.000000\teval-rmse:7808179.500000 \n",
      "[172]\ttrain-rmse:7191128.000000\teval-rmse:7806083.500000 \n",
      "[173]\ttrain-rmse:7186661.500000\teval-rmse:7803184.500000 \n",
      "[174]\ttrain-rmse:7182092.000000\teval-rmse:7800737.500000 \n",
      "[175]\ttrain-rmse:7178067.500000\teval-rmse:7796464.500000 \n",
      "[176]\ttrain-rmse:7173728.500000\teval-rmse:7793261.000000 \n",
      "[177]\ttrain-rmse:7169539.500000\teval-rmse:7788856.500000 \n",
      "[178]\ttrain-rmse:7165676.500000\teval-rmse:7786423.000000 \n",
      "[179]\ttrain-rmse:7161171.000000\teval-rmse:7783261.000000 \n",
      "[180]\ttrain-rmse:7156883.000000\teval-rmse:7780669.500000 \n",
      "[181]\ttrain-rmse:7152866.500000\teval-rmse:7778250.500000 \n",
      "[182]\ttrain-rmse:7148391.500000\teval-rmse:7775723.000000 \n",
      "[183]\ttrain-rmse:7144204.500000\teval-rmse:7772359.500000 \n",
      "[184]\ttrain-rmse:7140401.000000\teval-rmse:7769468.000000 \n",
      "[185]\ttrain-rmse:7136238.000000\teval-rmse:7766404.500000 \n",
      "[186]\ttrain-rmse:7132118.500000\teval-rmse:7763068.500000 \n",
      "[187]\ttrain-rmse:7128448.500000\teval-rmse:7760500.500000 \n",
      "[188]\ttrain-rmse:7124330.500000\teval-rmse:7756983.500000 \n",
      "[189]\ttrain-rmse:7120581.500000\teval-rmse:7754280.500000 \n",
      "[190]\ttrain-rmse:7116312.500000\teval-rmse:7751577.000000 \n",
      "[191]\ttrain-rmse:7112830.000000\teval-rmse:7748619.500000 \n",
      "[192]\ttrain-rmse:7108935.000000\teval-rmse:7747048.000000 \n",
      "[193]\ttrain-rmse:7104779.500000\teval-rmse:7743775.500000 \n",
      "[194]\ttrain-rmse:7101162.500000\teval-rmse:7740929.000000 \n",
      "[195]\ttrain-rmse:7097187.500000\teval-rmse:7737477.000000 \n",
      "[196]\ttrain-rmse:7093635.000000\teval-rmse:7734955.500000 \n",
      "[197]\ttrain-rmse:7090183.500000\teval-rmse:7733003.000000 \n",
      "[198]\ttrain-rmse:7086513.000000\teval-rmse:7731810.000000 \n",
      "[199]\ttrain-rmse:7083058.500000\teval-rmse:7730438.000000 \n",
      "[200]\ttrain-rmse:7078926.000000\teval-rmse:7728379.000000 \n",
      "[201]\ttrain-rmse:7075432.500000\teval-rmse:7725861.000000 \n",
      "[202]\ttrain-rmse:7071580.500000\teval-rmse:7723304.500000 \n",
      "[203]\ttrain-rmse:7068284.500000\teval-rmse:7721259.000000 \n",
      "[204]\ttrain-rmse:7064927.000000\teval-rmse:7717943.000000 \n",
      "[205]\ttrain-rmse:7061731.000000\teval-rmse:7716029.000000 \n",
      "[206]\ttrain-rmse:7058353.500000\teval-rmse:7713891.000000 \n",
      "[207]\ttrain-rmse:7054953.000000\teval-rmse:7712111.500000 \n",
      "[208]\ttrain-rmse:7051153.500000\teval-rmse:7711010.000000 \n",
      "[209]\ttrain-rmse:7047916.000000\teval-rmse:7709397.500000 \n",
      "[210]\ttrain-rmse:7044718.500000\teval-rmse:7706794.500000 \n",
      "[211]\ttrain-rmse:7041616.000000\teval-rmse:7705522.500000 \n",
      "[212]\ttrain-rmse:7038267.500000\teval-rmse:7703566.500000 \n",
      "[213]\ttrain-rmse:7035306.500000\teval-rmse:7701572.500000 \n",
      "[214]\ttrain-rmse:7032138.500000\teval-rmse:7699810.000000 \n",
      "[215]\ttrain-rmse:7028944.500000\teval-rmse:7698092.000000 \n",
      "[216]\ttrain-rmse:7025823.000000\teval-rmse:7695743.000000 \n",
      "[217]\ttrain-rmse:7023007.500000\teval-rmse:7693670.500000 \n",
      "[218]\ttrain-rmse:7019844.000000\teval-rmse:7691015.000000 \n",
      "[219]\ttrain-rmse:7016424.000000\teval-rmse:7689550.500000 \n",
      "[220]\ttrain-rmse:7013417.000000\teval-rmse:7687661.000000 \n",
      "[221]\ttrain-rmse:7010634.500000\teval-rmse:7685107.000000 \n",
      "[222]\ttrain-rmse:7007875.500000\teval-rmse:7683048.500000 \n",
      "[223]\ttrain-rmse:7005228.500000\teval-rmse:7681299.500000 \n",
      "[224]\ttrain-rmse:7002211.000000\teval-rmse:7679907.500000 \n",
      "[225]\ttrain-rmse:6999505.500000\teval-rmse:7677871.000000 \n",
      "[226]\ttrain-rmse:6996733.500000\teval-rmse:7676219.500000 \n",
      "[227]\ttrain-rmse:6994073.500000\teval-rmse:7674491.500000 \n",
      "[228]\ttrain-rmse:6991287.500000\teval-rmse:7672325.500000 \n",
      "[229]\ttrain-rmse:6988957.000000\teval-rmse:7671082.500000 \n",
      "[230]\ttrain-rmse:6985949.000000\teval-rmse:7668568.500000 \n",
      "[231]\ttrain-rmse:6983089.500000\teval-rmse:7667418.500000 \n",
      "[232]\ttrain-rmse:6980390.000000\teval-rmse:7666458.000000 \n",
      "[233]\ttrain-rmse:6977742.500000\teval-rmse:7664494.500000 \n",
      "[234]\ttrain-rmse:6974837.500000\teval-rmse:7663631.000000 \n",
      "[235]\ttrain-rmse:6972275.000000\teval-rmse:7662128.000000 \n",
      "[236]\ttrain-rmse:6969442.000000\teval-rmse:7660993.000000 \n",
      "[237]\ttrain-rmse:6966890.000000\teval-rmse:7659837.000000 \n",
      "[238]\ttrain-rmse:6964531.500000\teval-rmse:7658203.000000 \n",
      "[239]\ttrain-rmse:6961780.000000\teval-rmse:7657215.500000 \n",
      "[240]\ttrain-rmse:6959128.500000\teval-rmse:7655208.000000 \n",
      "[241]\ttrain-rmse:6956739.000000\teval-rmse:7654769.000000 \n",
      "[242]\ttrain-rmse:6953898.000000\teval-rmse:7651797.000000 \n",
      "[243]\ttrain-rmse:6951271.500000\teval-rmse:7649658.500000 \n",
      "[244]\ttrain-rmse:6948222.500000\teval-rmse:7647536.000000 \n",
      "[245]\ttrain-rmse:6945444.000000\teval-rmse:7645828.000000 \n",
      "[246]\ttrain-rmse:6942944.000000\teval-rmse:7644354.000000 \n",
      "[247]\ttrain-rmse:6940548.000000\teval-rmse:7644078.000000 \n",
      "[248]\ttrain-rmse:6937813.500000\teval-rmse:7642989.000000 \n",
      "[249]\ttrain-rmse:6935119.000000\teval-rmse:7642501.000000 \n",
      "[250]\ttrain-rmse:6932790.000000\teval-rmse:7641096.500000 \n",
      "[251]\ttrain-rmse:6930651.500000\teval-rmse:7639551.500000 \n",
      "[252]\ttrain-rmse:6928500.500000\teval-rmse:7638156.500000 \n",
      "[253]\ttrain-rmse:6926105.500000\teval-rmse:7637587.500000 \n",
      "[254]\ttrain-rmse:6923402.500000\teval-rmse:7635636.500000 \n",
      "[255]\ttrain-rmse:6920995.500000\teval-rmse:7634670.500000 \n",
      "[256]\ttrain-rmse:6918460.000000\teval-rmse:7633114.500000 \n",
      "[257]\ttrain-rmse:6916022.500000\teval-rmse:7631169.000000 \n",
      "[258]\ttrain-rmse:6913650.000000\teval-rmse:7629882.500000 \n",
      "[259]\ttrain-rmse:6911520.500000\teval-rmse:7629411.000000 \n",
      "[260]\ttrain-rmse:6909112.000000\teval-rmse:7628265.000000 \n",
      "[261]\ttrain-rmse:6906868.500000\teval-rmse:7626999.500000 \n",
      "[262]\ttrain-rmse:6904733.000000\teval-rmse:7626211.500000 \n",
      "[263]\ttrain-rmse:6902096.000000\teval-rmse:7624063.000000 \n",
      "[264]\ttrain-rmse:6899702.500000\teval-rmse:7622480.500000 \n",
      "[265]\ttrain-rmse:6897294.500000\teval-rmse:7621062.000000 \n",
      "[266]\ttrain-rmse:6894940.500000\teval-rmse:7619813.500000 \n",
      "[267]\ttrain-rmse:6892667.000000\teval-rmse:7618350.000000 \n",
      "[268]\ttrain-rmse:6890162.500000\teval-rmse:7617654.500000 \n",
      "[269]\ttrain-rmse:6887790.000000\teval-rmse:7615989.500000 \n",
      "[270]\ttrain-rmse:6885774.000000\teval-rmse:7614370.500000 \n",
      "[271]\ttrain-rmse:6883586.000000\teval-rmse:7612757.500000 \n",
      "[272]\ttrain-rmse:6881556.500000\teval-rmse:7611922.500000 \n",
      "[273]\ttrain-rmse:6879459.000000\teval-rmse:7610498.000000 \n",
      "[274]\ttrain-rmse:6877553.500000\teval-rmse:7609262.500000 \n",
      "[275]\ttrain-rmse:6875274.000000\teval-rmse:7607619.500000 \n",
      "[276]\ttrain-rmse:6873042.000000\teval-rmse:7606439.000000 \n",
      "[277]\ttrain-rmse:6871017.500000\teval-rmse:7606945.000000 \n",
      "[278]\ttrain-rmse:6869073.500000\teval-rmse:7605773.000000 \n",
      "[279]\ttrain-rmse:6866993.500000\teval-rmse:7605751.000000 \n",
      "[280]\ttrain-rmse:6865186.000000\teval-rmse:7605037.000000 \n",
      "[281]\ttrain-rmse:6863198.000000\teval-rmse:7603961.000000 \n",
      "[282]\ttrain-rmse:6861161.500000\teval-rmse:7603800.500000 \n",
      "[283]\ttrain-rmse:6859212.000000\teval-rmse:7602514.000000 \n",
      "[284]\ttrain-rmse:6857228.500000\teval-rmse:7601238.500000 \n",
      "[285]\ttrain-rmse:6855329.500000\teval-rmse:7600584.500000 \n",
      "[286]\ttrain-rmse:6853157.500000\teval-rmse:7599222.500000 \n",
      "[287]\ttrain-rmse:6850993.000000\teval-rmse:7597804.500000 \n",
      "[288]\ttrain-rmse:6848989.000000\teval-rmse:7596707.500000 \n",
      "[289]\ttrain-rmse:6847121.500000\teval-rmse:7596681.000000 \n",
      "[290]\ttrain-rmse:6845022.500000\teval-rmse:7596384.500000 \n",
      "[291]\ttrain-rmse:6843104.000000\teval-rmse:7595361.000000 \n",
      "[292]\ttrain-rmse:6841221.500000\teval-rmse:7594365.000000 \n",
      "[293]\ttrain-rmse:6839268.000000\teval-rmse:7593419.500000 \n",
      "[294]\ttrain-rmse:6837448.500000\teval-rmse:7592461.500000 \n",
      "[295]\ttrain-rmse:6835607.500000\teval-rmse:7592003.500000 \n",
      "[296]\ttrain-rmse:6833452.500000\teval-rmse:7591366.000000 \n",
      "[297]\ttrain-rmse:6831691.500000\teval-rmse:7590344.000000 \n",
      "[298]\ttrain-rmse:6830084.500000\teval-rmse:7589467.500000 \n",
      "[299]\ttrain-rmse:6828361.000000\teval-rmse:7589144.500000 \n",
      "[300]\ttrain-rmse:6826354.000000\teval-rmse:7588527.500000 \n",
      "[301]\ttrain-rmse:6824440.500000\teval-rmse:7587828.000000 \n",
      "[302]\ttrain-rmse:6822628.000000\teval-rmse:7586951.500000 \n",
      "[303]\ttrain-rmse:6820926.500000\teval-rmse:7586246.000000 \n",
      "[304]\ttrain-rmse:6819168.000000\teval-rmse:7585107.500000 \n",
      "[305]\ttrain-rmse:6816687.500000\teval-rmse:7584914.000000 \n",
      "[306]\ttrain-rmse:6814905.500000\teval-rmse:7584293.500000 \n",
      "[307]\ttrain-rmse:6813096.500000\teval-rmse:7583599.000000 \n",
      "[308]\ttrain-rmse:6811352.500000\teval-rmse:7583009.500000 \n",
      "[309]\ttrain-rmse:6809765.500000\teval-rmse:7583211.000000 \n",
      "[310]\ttrain-rmse:6807990.000000\teval-rmse:7581487.000000 \n",
      "[311]\ttrain-rmse:6806266.500000\teval-rmse:7580612.000000 \n",
      "[312]\ttrain-rmse:6804525.500000\teval-rmse:7579964.000000 \n",
      "[313]\ttrain-rmse:6802795.500000\teval-rmse:7579820.000000 \n",
      "[314]\ttrain-rmse:6801126.000000\teval-rmse:7578743.500000 \n",
      "[315]\ttrain-rmse:6799495.500000\teval-rmse:7578581.500000 \n",
      "[316]\ttrain-rmse:6797491.000000\teval-rmse:7578512.000000 \n",
      "[317]\ttrain-rmse:6795882.000000\teval-rmse:7576742.500000 \n",
      "[318]\ttrain-rmse:6794147.500000\teval-rmse:7576441.500000 \n",
      "[319]\ttrain-rmse:6792523.500000\teval-rmse:7576507.000000 \n",
      "[320]\ttrain-rmse:6790980.500000\teval-rmse:7576267.500000 \n",
      "[321]\ttrain-rmse:6789244.000000\teval-rmse:7575555.500000 \n",
      "[322]\ttrain-rmse:6787458.500000\teval-rmse:7574682.500000 \n",
      "[323]\ttrain-rmse:6785871.000000\teval-rmse:7575214.500000 \n",
      "[324]\ttrain-rmse:6784138.000000\teval-rmse:7574927.000000 \n",
      "[325]\ttrain-rmse:6782344.500000\teval-rmse:7574337.000000 \n",
      "[326]\ttrain-rmse:6780838.500000\teval-rmse:7573532.500000 \n",
      "[327]\ttrain-rmse:6779042.000000\teval-rmse:7573841.000000 \n",
      "[328]\ttrain-rmse:6776959.500000\teval-rmse:7572368.500000 \n",
      "[329]\ttrain-rmse:6775525.500000\teval-rmse:7571588.000000 \n",
      "[330]\ttrain-rmse:6773894.500000\teval-rmse:7570492.000000 \n",
      "[331]\ttrain-rmse:6772007.000000\teval-rmse:7568980.000000 \n",
      "[332]\ttrain-rmse:6770413.500000\teval-rmse:7569226.500000 \n",
      "[333]\ttrain-rmse:6768665.500000\teval-rmse:7568692.500000 \n",
      "[334]\ttrain-rmse:6766967.000000\teval-rmse:7568212.000000 \n",
      "[335]\ttrain-rmse:6765514.500000\teval-rmse:7567796.000000 \n",
      "[336]\ttrain-rmse:6763836.000000\teval-rmse:7567750.500000 \n",
      "[337]\ttrain-rmse:6762231.000000\teval-rmse:7567450.500000 \n",
      "[338]\ttrain-rmse:6760764.500000\teval-rmse:7566942.000000 \n",
      "[339]\ttrain-rmse:6759114.000000\teval-rmse:7566558.500000 \n",
      "[340]\ttrain-rmse:6757298.000000\teval-rmse:7566249.500000 \n",
      "[341]\ttrain-rmse:6755684.500000\teval-rmse:7566369.500000 \n",
      "[342]\ttrain-rmse:6754135.000000\teval-rmse:7565353.500000 \n",
      "[343]\ttrain-rmse:6752570.000000\teval-rmse:7565778.000000 \n",
      "[344]\ttrain-rmse:6750606.500000\teval-rmse:7565738.500000 \n",
      "[345]\ttrain-rmse:6748612.000000\teval-rmse:7565222.000000 \n",
      "[346]\ttrain-rmse:6746919.500000\teval-rmse:7564304.500000 \n",
      "[347]\ttrain-rmse:6745334.000000\teval-rmse:7564471.500000 \n",
      "[348]\ttrain-rmse:6743847.000000\teval-rmse:7563908.000000 \n",
      "[349]\ttrain-rmse:6742354.500000\teval-rmse:7563215.000000 \n",
      "[350]\ttrain-rmse:6740645.500000\teval-rmse:7562485.500000 \n",
      "[351]\ttrain-rmse:6739168.500000\teval-rmse:7562276.000000 \n",
      "[352]\ttrain-rmse:6737705.000000\teval-rmse:7562059.500000 \n",
      "[353]\ttrain-rmse:6736343.000000\teval-rmse:7561117.500000 \n",
      "[354]\ttrain-rmse:6734686.500000\teval-rmse:7560870.500000 \n",
      "[355]\ttrain-rmse:6732934.000000\teval-rmse:7560910.500000 \n",
      "[356]\ttrain-rmse:6731413.500000\teval-rmse:7560138.500000 \n",
      "[357]\ttrain-rmse:6730039.500000\teval-rmse:7560469.000000 \n",
      "[358]\ttrain-rmse:6728333.500000\teval-rmse:7559468.500000 \n",
      "[359]\ttrain-rmse:6726560.000000\teval-rmse:7559031.500000 \n",
      "[360]\ttrain-rmse:6725054.000000\teval-rmse:7558623.500000 \n",
      "[361]\ttrain-rmse:6723695.000000\teval-rmse:7557970.000000 \n",
      "[362]\ttrain-rmse:6722286.500000\teval-rmse:7557222.500000 \n",
      "[363]\ttrain-rmse:6720989.500000\teval-rmse:7557098.000000 \n",
      "[364]\ttrain-rmse:6719203.000000\teval-rmse:7556966.500000 \n",
      "[365]\ttrain-rmse:6717640.000000\teval-rmse:7557189.500000 \n",
      "[366]\ttrain-rmse:6716192.500000\teval-rmse:7556957.000000 \n",
      "[367]\ttrain-rmse:6714572.000000\teval-rmse:7556593.500000 \n",
      "[368]\ttrain-rmse:6713043.500000\teval-rmse:7555741.000000 \n",
      "[369]\ttrain-rmse:6711689.000000\teval-rmse:7554262.500000 \n",
      "[370]\ttrain-rmse:6710196.500000\teval-rmse:7553978.000000 \n",
      "[371]\ttrain-rmse:6708538.500000\teval-rmse:7552904.000000 \n",
      "[372]\ttrain-rmse:6707237.000000\teval-rmse:7552724.000000 \n",
      "[373]\ttrain-rmse:6705779.500000\teval-rmse:7552521.000000 \n",
      "[374]\ttrain-rmse:6704524.000000\teval-rmse:7552588.500000 \n",
      "[375]\ttrain-rmse:6703114.500000\teval-rmse:7552700.500000 \n",
      "[376]\ttrain-rmse:6701489.000000\teval-rmse:7552221.000000 \n",
      "[377]\ttrain-rmse:6700251.500000\teval-rmse:7551811.000000 \n",
      "[378]\ttrain-rmse:6698660.000000\teval-rmse:7551826.500000 \n",
      "[379]\ttrain-rmse:6697038.500000\teval-rmse:7551803.500000 \n",
      "[380]\ttrain-rmse:6695596.500000\teval-rmse:7551352.500000 \n",
      "[381]\ttrain-rmse:6693853.500000\teval-rmse:7550816.000000 \n",
      "[382]\ttrain-rmse:6692383.500000\teval-rmse:7550040.500000 \n",
      "[383]\ttrain-rmse:6690864.500000\teval-rmse:7549504.500000 \n",
      "[384]\ttrain-rmse:6689287.000000\teval-rmse:7549521.500000 \n",
      "[385]\ttrain-rmse:6687953.500000\teval-rmse:7549089.000000 \n",
      "[386]\ttrain-rmse:6686465.000000\teval-rmse:7548574.500000 \n",
      "[387]\ttrain-rmse:6685168.000000\teval-rmse:7548627.500000 \n",
      "[388]\ttrain-rmse:6683756.500000\teval-rmse:7548176.000000 \n",
      "[389]\ttrain-rmse:6682458.000000\teval-rmse:7547487.500000 \n",
      "[390]\ttrain-rmse:6681022.500000\teval-rmse:7547908.500000 \n",
      "[391]\ttrain-rmse:6679739.500000\teval-rmse:7547748.500000 \n",
      "[392]\ttrain-rmse:6678518.500000\teval-rmse:7546842.000000 \n",
      "[393]\ttrain-rmse:6677018.500000\teval-rmse:7546571.000000 \n",
      "[394]\ttrain-rmse:6675512.000000\teval-rmse:7546644.000000 \n",
      "[395]\ttrain-rmse:6674170.000000\teval-rmse:7547000.000000 \n",
      "[396]\ttrain-rmse:6672844.500000\teval-rmse:7546971.500000 \n",
      "[397]\ttrain-rmse:6671121.500000\teval-rmse:7546538.500000 \n",
      "[398]\ttrain-rmse:6669706.000000\teval-rmse:7545624.500000 \n",
      "[399]\ttrain-rmse:6668279.000000\teval-rmse:7544894.500000 \n",
      "[400]\ttrain-rmse:6666922.500000\teval-rmse:7544240.000000 \n",
      "[401]\ttrain-rmse:6665394.500000\teval-rmse:7544157.500000 \n",
      "[402]\ttrain-rmse:6663820.500000\teval-rmse:7543663.000000 \n",
      "[403]\ttrain-rmse:6662315.000000\teval-rmse:7544044.000000 \n",
      "[404]\ttrain-rmse:6661011.000000\teval-rmse:7543810.000000 \n",
      "[405]\ttrain-rmse:6659420.500000\teval-rmse:7543593.000000 \n",
      "[406]\ttrain-rmse:6658057.500000\teval-rmse:7542978.000000 \n",
      "[407]\ttrain-rmse:6656454.500000\teval-rmse:7542256.500000 \n",
      "[408]\ttrain-rmse:6655188.500000\teval-rmse:7542082.000000 \n",
      "[409]\ttrain-rmse:6654031.500000\teval-rmse:7541529.500000 \n",
      "[410]\ttrain-rmse:6652769.500000\teval-rmse:7540979.000000 \n",
      "[411]\ttrain-rmse:6651292.500000\teval-rmse:7541153.500000 \n",
      "[412]\ttrain-rmse:6649863.500000\teval-rmse:7542097.000000 \n",
      "[413]\ttrain-rmse:6648845.000000\teval-rmse:7542355.000000 \n",
      "[414]\ttrain-rmse:6647620.500000\teval-rmse:7542680.500000 \n",
      "[415]\ttrain-rmse:6646227.500000\teval-rmse:7542942.000000 \n",
      "[416]\ttrain-rmse:6644813.000000\teval-rmse:7542341.000000 \n",
      "[417]\ttrain-rmse:6643297.000000\teval-rmse:7541905.000000 \n",
      "[418]\ttrain-rmse:6642014.000000\teval-rmse:7542790.500000 \n",
      "[419]\ttrain-rmse:6640728.500000\teval-rmse:7542859.000000 \n",
      "[420]\ttrain-rmse:6639475.000000\teval-rmse:7542486.000000 \n",
      "[421]\ttrain-rmse:6638080.000000\teval-rmse:7542267.000000 \n",
      "[422]\ttrain-rmse:6636601.000000\teval-rmse:7541504.500000 \n",
      "[423]\ttrain-rmse:6635189.000000\teval-rmse:7540976.500000 \n",
      "[424]\ttrain-rmse:6633900.500000\teval-rmse:7539725.000000 \n",
      "[425]\ttrain-rmse:6632580.500000\teval-rmse:7538813.500000 \n",
      "[426]\ttrain-rmse:6631354.500000\teval-rmse:7538890.500000 \n",
      "[427]\ttrain-rmse:6629584.500000\teval-rmse:7539349.000000 \n",
      "[428]\ttrain-rmse:6628287.000000\teval-rmse:7539894.500000 \n",
      "[429]\ttrain-rmse:6627153.500000\teval-rmse:7539135.000000 \n",
      "[430]\ttrain-rmse:6625926.500000\teval-rmse:7538469.500000 \n",
      "[431]\ttrain-rmse:6624443.500000\teval-rmse:7538695.000000 \n",
      "[432]\ttrain-rmse:6623039.000000\teval-rmse:7538167.000000 \n",
      "[433]\ttrain-rmse:6621651.000000\teval-rmse:7537348.500000 \n",
      "[434]\ttrain-rmse:6620380.500000\teval-rmse:7537457.000000 \n",
      "[435]\ttrain-rmse:6619082.000000\teval-rmse:7537673.500000 \n",
      "[436]\ttrain-rmse:6617958.500000\teval-rmse:7537052.500000 \n",
      "[437]\ttrain-rmse:6616689.000000\teval-rmse:7536696.000000 \n",
      "[438]\ttrain-rmse:6615375.000000\teval-rmse:7536712.000000 \n",
      "[439]\ttrain-rmse:6614081.500000\teval-rmse:7536775.000000 \n",
      "[440]\ttrain-rmse:6612899.000000\teval-rmse:7536453.500000 \n",
      "[441]\ttrain-rmse:6611578.000000\teval-rmse:7536101.500000 \n",
      "[442]\ttrain-rmse:6610221.000000\teval-rmse:7536505.500000 \n",
      "[443]\ttrain-rmse:6608893.000000\teval-rmse:7536817.500000 \n",
      "[444]\ttrain-rmse:6607731.500000\teval-rmse:7536921.000000 \n",
      "[445]\ttrain-rmse:6606446.500000\teval-rmse:7536877.500000 \n",
      "[446]\ttrain-rmse:6605314.500000\teval-rmse:7536820.500000 \n",
      "[447]\ttrain-rmse:6604060.000000\teval-rmse:7536019.500000 \n",
      "[448]\ttrain-rmse:6602912.500000\teval-rmse:7535631.000000 \n",
      "[449]\ttrain-rmse:6601461.500000\teval-rmse:7535340.000000 \n",
      "[450]\ttrain-rmse:6600029.500000\teval-rmse:7534932.000000 \n",
      "[451]\ttrain-rmse:6598653.500000\teval-rmse:7534945.500000 \n",
      "[452]\ttrain-rmse:6597348.500000\teval-rmse:7534465.500000 \n",
      "[453]\ttrain-rmse:6596208.500000\teval-rmse:7534144.000000 \n",
      "[454]\ttrain-rmse:6595008.000000\teval-rmse:7533373.500000 \n",
      "[455]\ttrain-rmse:6593555.000000\teval-rmse:7533399.000000 \n",
      "[456]\ttrain-rmse:6592337.000000\teval-rmse:7533331.000000 \n",
      "[457]\ttrain-rmse:6591009.500000\teval-rmse:7533761.000000 \n",
      "[458]\ttrain-rmse:6589785.000000\teval-rmse:7533130.500000 \n",
      "[459]\ttrain-rmse:6588436.000000\teval-rmse:7533926.000000 \n",
      "[460]\ttrain-rmse:6587286.500000\teval-rmse:7533410.500000 \n",
      "[461]\ttrain-rmse:6586118.500000\teval-rmse:7532583.500000 \n",
      "[462]\ttrain-rmse:6584771.500000\teval-rmse:7532679.500000 \n",
      "[463]\ttrain-rmse:6583735.000000\teval-rmse:7532409.500000 \n",
      "[464]\ttrain-rmse:6582328.500000\teval-rmse:7532279.000000 \n",
      "[465]\ttrain-rmse:6581066.000000\teval-rmse:7532427.000000 \n",
      "[466]\ttrain-rmse:6579835.000000\teval-rmse:7532150.500000 \n",
      "[467]\ttrain-rmse:6578669.000000\teval-rmse:7531538.500000 \n",
      "[468]\ttrain-rmse:6577408.500000\teval-rmse:7531478.000000 \n",
      "[469]\ttrain-rmse:6576278.000000\teval-rmse:7531588.000000 \n",
      "[470]\ttrain-rmse:6575106.000000\teval-rmse:7530469.500000 \n",
      "[471]\ttrain-rmse:6573800.000000\teval-rmse:7530160.500000 \n",
      "[472]\ttrain-rmse:6572613.500000\teval-rmse:7530201.500000 \n",
      "[473]\ttrain-rmse:6571362.000000\teval-rmse:7529548.000000 \n",
      "[474]\ttrain-rmse:6570244.000000\teval-rmse:7528977.000000 \n",
      "[475]\ttrain-rmse:6569065.500000\teval-rmse:7529001.000000 \n",
      "[476]\ttrain-rmse:6567843.500000\teval-rmse:7529308.000000 \n",
      "[477]\ttrain-rmse:6566613.500000\teval-rmse:7528708.500000 \n",
      "[478]\ttrain-rmse:6565440.500000\teval-rmse:7528572.500000 \n",
      "[479]\ttrain-rmse:6564086.500000\teval-rmse:7529011.500000 \n",
      "[480]\ttrain-rmse:6562804.500000\teval-rmse:7528920.000000 \n",
      "[481]\ttrain-rmse:6561646.500000\teval-rmse:7528241.000000 \n",
      "[482]\ttrain-rmse:6560435.000000\teval-rmse:7528010.000000 \n",
      "[483]\ttrain-rmse:6558993.500000\teval-rmse:7528170.500000 \n",
      "[484]\ttrain-rmse:6557768.000000\teval-rmse:7527716.500000 \n",
      "[485]\ttrain-rmse:6556749.500000\teval-rmse:7527446.500000 \n",
      "[486]\ttrain-rmse:6555688.000000\teval-rmse:7526423.500000 \n",
      "[487]\ttrain-rmse:6554520.500000\teval-rmse:7526103.000000 \n",
      "[488]\ttrain-rmse:6553171.000000\teval-rmse:7526759.000000 \n",
      "[489]\ttrain-rmse:6551750.000000\teval-rmse:7527121.000000 \n",
      "[490]\ttrain-rmse:6550564.000000\teval-rmse:7527267.500000 \n",
      "[491]\ttrain-rmse:6549429.500000\teval-rmse:7527547.000000 \n",
      "[492]\ttrain-rmse:6548393.000000\teval-rmse:7527679.500000 \n",
      "[493]\ttrain-rmse:6547176.500000\teval-rmse:7527473.000000 \n",
      "[494]\ttrain-rmse:6546185.500000\teval-rmse:7527718.500000 \n",
      "[495]\ttrain-rmse:6545035.500000\teval-rmse:7528007.500000 \n",
      "[496]\ttrain-rmse:6543788.000000\teval-rmse:7528138.000000 \n",
      "[497]\ttrain-rmse:6542777.500000\teval-rmse:7527520.500000 \n",
      "[498]\ttrain-rmse:6541654.000000\teval-rmse:7526617.000000 \n",
      "[499]\ttrain-rmse:6540311.000000\teval-rmse:7527434.500000 \n",
      "[500]\ttrain-rmse:6538987.000000\teval-rmse:7528202.500000 \n",
      "[501]\ttrain-rmse:6537815.000000\teval-rmse:7528253.000000 \n",
      "[502]\ttrain-rmse:6536669.500000\teval-rmse:7527874.500000 \n",
      "[503]\ttrain-rmse:6535725.500000\teval-rmse:7527661.500000 \n",
      "[504]\ttrain-rmse:6534465.500000\teval-rmse:7526753.500000 \n",
      "[505]\ttrain-rmse:6533411.500000\teval-rmse:7526111.000000 \n",
      "[506]\ttrain-rmse:6532366.500000\teval-rmse:7525856.500000 \n",
      "[507]\ttrain-rmse:6531196.000000\teval-rmse:7526095.500000 \n",
      "[508]\ttrain-rmse:6529869.000000\teval-rmse:7526931.000000 \n",
      "[509]\ttrain-rmse:6528846.500000\teval-rmse:7527575.500000 \n",
      "[510]\ttrain-rmse:6527594.500000\teval-rmse:7527736.000000 \n",
      "[511]\ttrain-rmse:6526517.500000\teval-rmse:7527194.500000 \n",
      "[512]\ttrain-rmse:6525233.500000\teval-rmse:7527368.000000 \n",
      "[513]\ttrain-rmse:6524023.500000\teval-rmse:7526897.500000 \n",
      "[514]\ttrain-rmse:6522981.000000\teval-rmse:7526278.000000 \n",
      "[515]\ttrain-rmse:6521686.000000\teval-rmse:7525429.500000 \n",
      "[516]\ttrain-rmse:6520388.500000\teval-rmse:7526217.500000 \n",
      "[517]\ttrain-rmse:6519300.000000\teval-rmse:7527386.000000 \n",
      "[518]\ttrain-rmse:6518153.000000\teval-rmse:7527398.000000 \n",
      "[519]\ttrain-rmse:6516659.500000\teval-rmse:7527806.500000 \n",
      "[520]\ttrain-rmse:6515407.000000\teval-rmse:7527744.000000 \n",
      "[521]\ttrain-rmse:6514097.500000\teval-rmse:7528020.500000 \n",
      "[522]\ttrain-rmse:6512999.500000\teval-rmse:7527744.000000 \n",
      "[523]\ttrain-rmse:6511946.500000\teval-rmse:7527608.000000 \n",
      "[524]\ttrain-rmse:6510828.500000\teval-rmse:7527968.500000 \n",
      "[525]\ttrain-rmse:6509697.500000\teval-rmse:7528064.500000 \n",
      "[526]\ttrain-rmse:6508529.000000\teval-rmse:7528112.000000 \n",
      "[527]\ttrain-rmse:6507334.500000\teval-rmse:7528286.500000 \n",
      "[528]\ttrain-rmse:6506149.500000\teval-rmse:7528159.000000 \n",
      "[529]\ttrain-rmse:6504870.500000\teval-rmse:7527857.500000 \n",
      "[530]\ttrain-rmse:6503629.500000\teval-rmse:7527458.500000 \n",
      "[531]\ttrain-rmse:6502456.000000\teval-rmse:7527109.000000 \n",
      "[532]\ttrain-rmse:6501454.500000\teval-rmse:7526748.500000 \n",
      "[533]\ttrain-rmse:6500448.000000\teval-rmse:7526549.000000 \n",
      "[534]\ttrain-rmse:6499431.000000\teval-rmse:7526419.500000 \n",
      "[535]\ttrain-rmse:6498271.500000\teval-rmse:7526287.000000 \n",
      "[536]\ttrain-rmse:6496835.000000\teval-rmse:7526372.000000 \n",
      "[537]\ttrain-rmse:6495583.000000\teval-rmse:7526855.500000 \n",
      "[538]\ttrain-rmse:6494589.500000\teval-rmse:7526858.500000 \n",
      "[539]\ttrain-rmse:6493371.000000\teval-rmse:7527582.000000 \n",
      "[540]\ttrain-rmse:6492378.500000\teval-rmse:7527880.500000 \n",
      "[541]\ttrain-rmse:6491462.000000\teval-rmse:7528046.000000 \n",
      "[542]\ttrain-rmse:6490327.500000\teval-rmse:7528469.500000 \n",
      "[543]\ttrain-rmse:6489224.500000\teval-rmse:7528188.000000 \n",
      "[544]\ttrain-rmse:6488167.000000\teval-rmse:7529100.500000 \n",
      "[545]\ttrain-rmse:6487066.000000\teval-rmse:7529139.500000 \n",
      "Stopping. Best iteration:\n",
      "[515]\ttrain-rmse:6521686.000000\teval-rmse:7525429.500000\n",
      "\n"
     ]
    }
   ],
   "source": [
    "hyper <- list(objective = \"reg:linear\",\n",
    "          booster = \"gbtree\",\n",
    "          eval_metric = \"rmse\",\n",
    "          nthread = 4,\n",
    "          eta = 0.01,\n",
    "          max_depth = 20,\n",
    "          min_child_weight = 62,\n",
    "          gamma = 5,\n",
    "          subsample = 0.9,\n",
    "          colsample_bytree = 0.3,\n",
    "          colsample_bylevel = 0.305,\n",
    "          alpha = 0,\n",
    "          lambda = 0.8832217\n",
    "          )\n",
    "\n",
    "\n",
    "Model <- xgb.train(data = dtrain,\n",
    "                   params = hyper,\n",
    "                   watchlist = list(train = dtrain,\n",
    "                                    eval = dvalid),\n",
    "                   nrounds = 99999999,\n",
    "                   early_stopping_rounds = 30)"
   ]
  },
  {
   "cell_type": "code",
   "execution_count": 72,
   "metadata": {},
   "outputs": [
    {
     "data": {
      "text/html": [
       "2.46557086127111"
      ],
      "text/latex": [
       "2.46557086127111"
      ],
      "text/markdown": [
       "2.46557086127111"
      ],
      "text/plain": [
       "[1] 2.465571"
      ]
     },
     "metadata": {},
     "output_type": "display_data"
    }
   ],
   "source": [
    "pred <- predict(Model, X[valid, ])\n",
    "RMSLE(pred, Y[valid])"
   ]
  },
  {
   "cell_type": "code",
   "execution_count": null,
   "metadata": {},
   "outputs": [],
   "source": []
  },
  {
   "cell_type": "code",
   "execution_count": null,
   "metadata": {},
   "outputs": [],
   "source": []
  },
  {
   "cell_type": "code",
   "execution_count": null,
   "metadata": {},
   "outputs": [],
   "source": [
    "hyper <- list(objective = \"reg:linear\",\n",
    "          booster = \"gbtree\",\n",
    "          eval_metric = \"rmse\",\n",
    "          nthread = 4,\n",
    "          eta = 0.01,\n",
    "          max_depth = 20,\n",
    "          min_child_weight = 62,\n",
    "          gamma = 5,\n",
    "          subsample = 0.9,\n",
    "          colsample_bytree = 0.3,\n",
    "          colsample_bylevel = 0.305,\n",
    "          alpha = 0,\n",
    "          lambda = 0.8832217\n",
    "          )\n",
    "\n",
    "\n",
    "Model <- xgb.train(data = dtrain,\n",
    "                   params = hyper,\n",
    "                   watchlist = list(train = dtrain,\n",
    "                                    eval = dvalid),\n",
    "                   nrounds = 99999999,\n",
    "                   early_stopping_rounds = 400)"
   ]
  },
  {
   "cell_type": "code",
   "execution_count": null,
   "metadata": {},
   "outputs": [],
   "source": [
    "pred <- predict(Model, X[valid, ])\n",
    "RMSLE(pred, Y[valid])"
   ]
  },
  {
   "cell_type": "code",
   "execution_count": null,
   "metadata": {},
   "outputs": [],
   "source": []
  },
  {
   "cell_type": "code",
   "execution_count": null,
   "metadata": {},
   "outputs": [],
   "source": []
  },
  {
   "cell_type": "code",
   "execution_count": 73,
   "metadata": {},
   "outputs": [
    {
     "ename": "ERROR",
     "evalue": "Error in parse(text = x, srcfile = src): <text>:27:18: 예기치 않은 ','입니다\n26: \n27: data.frame(hyper),\n                     ^\n",
     "output_type": "error",
     "traceback": [
      "Error in parse(text = x, srcfile = src): <text>:27:18: 예기치 않은 ','입니다\n26: \n27: data.frame(hyper),\n                     ^\nTraceback:\n"
     ]
    }
   ],
   "source": [
    "for(i in 1:100){\n",
    "    \n",
    "hyper <- list(objective = \"reg:linear\",\n",
    "          booster = \"gbtree\",\n",
    "          eval_metric = \"rmse\",\n",
    "          nthread = 4,\n",
    "          eta = sample(seq(0.01, 0.1, length = 100), 1),\n",
    "          max_depth = sample(1:30, 1),\n",
    "          min_child_weight = 62,\n",
    "          gamma = 5,\n",
    "          subsample = 0.9,\n",
    "          colsample_bytree = 0.3,\n",
    "          colsample_bylevel = 0.305,\n",
    "          alpha = 0,\n",
    "          lambda = 0.8832217\n",
    "          )\n",
    "\n",
    "\n",
    "Model <- xgb.train(data = dtrain,\n",
    "                   params = hyper,\n",
    "                   watchlist = list(train = dtrain,\n",
    "                                    eval = dvalid),\n",
    "                   nrounds = 99999999,\n",
    "                   early_stopping_rounds = 30)\n",
    "pred <- predict(Model, X[valid, ])\n",
    "RMSLE(pred, Y[valid])\n",
    "\n",
    "data.frame(hyper), Model$evaluation_log\n",
    "    \n",
    "}"
   ]
  },
  {
   "cell_type": "code",
   "execution_count": null,
   "metadata": {},
   "outputs": [],
   "source": []
  }
 ],
 "metadata": {
  "kernelspec": {
   "display_name": "R",
   "language": "R",
   "name": "ir"
  },
  "language_info": {
   "codemirror_mode": "r",
   "file_extension": ".r",
   "mimetype": "text/x-r-source",
   "name": "R",
   "pygments_lexer": "r",
   "version": "3.5.0"
  }
 },
 "nbformat": 4,
 "nbformat_minor": 2
}
