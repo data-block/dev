{
 "cells": [
  {
   "cell_type": "markdown",
   "metadata": {},
   "source": [
    "# TKX 피트니스를 더 개선시켜주세요.\n",
    "\n",
    "안녕하세요! TKX 피트니스 데이터분석팀입니다.\n",
    "\n",
    "저번 시간에 보여주신 훌륭한 데이터 분석력, 매우 감명받았습니다. 데이터를 깔끔히 정리하고 분석해주신 덕분에 저희의 업무량이 줄어든 것은 물론, 더 정량적인 분석이 가능해진 것 같습니다.\n",
    "\n",
    "그런 의미에서 새로운 업무를 맡길까 합니다. 저번 시간에 다뤘던 회원정보 데이터와 더불어, 이번 시간에는 1) 회원들의 개인 PT 정보와 2) 회원들의 체중 기록을 추가로 제공하겠습니다. 이 데이터를 데이터분석 패키지 판다스(Pandas)를 활용해 다음의 내용을 분석해주세요.\n",
    "\n",
    "[데이터는 다음의 URL [https://goo.gl/8XGH4T](https://goo.gl/8XGH4T) 에서 다운받을 수 있습니다. 데이터를 다운받아 읽어온 뒤, 하기에 적어놓은 내용대로 데이터를 분석 및 정리를 해주세요.]\n",
    "\n",
    "\n"
   ]
  },
  {
   "cell_type": "code",
   "execution_count": 1,
   "metadata": {
    "collapsed": true
   },
   "outputs": [],
   "source": [
    "import pandas as pd"
   ]
  },
  {
   "cell_type": "markdown",
   "metadata": {},
   "source": [
    "## Load Dataset"
   ]
  },
  {
   "cell_type": "code",
   "execution_count": 2,
   "metadata": {},
   "outputs": [
    {
     "name": "stdout",
     "output_type": "stream",
     "text": [
      "(106839, 13)\n"
     ]
    },
    {
     "data": {
      "text/html": [
       "<div>\n",
       "<style>\n",
       "    .dataframe thead tr:only-child th {\n",
       "        text-align: right;\n",
       "    }\n",
       "\n",
       "    .dataframe thead th {\n",
       "        text-align: left;\n",
       "    }\n",
       "\n",
       "    .dataframe tbody tr th {\n",
       "        vertical-align: top;\n",
       "    }\n",
       "</style>\n",
       "<table border=\"1\" class=\"dataframe\">\n",
       "  <thead>\n",
       "    <tr style=\"text-align: right;\">\n",
       "      <th></th>\n",
       "      <th>이름</th>\n",
       "      <th>성별</th>\n",
       "      <th>전화번호</th>\n",
       "      <th>나이</th>\n",
       "      <th>현재 체중</th>\n",
       "      <th>목표 체중</th>\n",
       "      <th>키</th>\n",
       "      <th>회원 가입일</th>\n",
       "      <th>회원 정보 갱신일</th>\n",
       "      <th>흡연 여부</th>\n",
       "      <th>음주 여부</th>\n",
       "      <th>가입 개월 수</th>\n",
       "      <th>개인상담 요청</th>\n",
       "    </tr>\n",
       "  </thead>\n",
       "  <tbody>\n",
       "    <tr>\n",
       "      <th>0</th>\n",
       "      <td>안원준</td>\n",
       "      <td>남성</td>\n",
       "      <td>010-2292-6251</td>\n",
       "      <td>31세</td>\n",
       "      <td>78</td>\n",
       "      <td>68</td>\n",
       "      <td>176</td>\n",
       "      <td>2016년 07월 05일</td>\n",
       "      <td>2016년 07월 05일</td>\n",
       "      <td>아니오</td>\n",
       "      <td>주 1회</td>\n",
       "      <td>0개월</td>\n",
       "      <td>아니요</td>\n",
       "    </tr>\n",
       "    <tr>\n",
       "      <th>1</th>\n",
       "      <td>유세아</td>\n",
       "      <td>여성</td>\n",
       "      <td>01045795881</td>\n",
       "      <td>39</td>\n",
       "      <td>56kg</td>\n",
       "      <td>51kg</td>\n",
       "      <td>172</td>\n",
       "      <td>2016년 10월 02일</td>\n",
       "      <td>2016년 11월 29일</td>\n",
       "      <td>예</td>\n",
       "      <td>월 1회</td>\n",
       "      <td>0개월</td>\n",
       "      <td>아니요</td>\n",
       "    </tr>\n",
       "    <tr>\n",
       "      <th>2</th>\n",
       "      <td>송솔은</td>\n",
       "      <td>여성</td>\n",
       "      <td>010-7719-8346</td>\n",
       "      <td>NaN</td>\n",
       "      <td>29</td>\n",
       "      <td>21</td>\n",
       "      <td>167</td>\n",
       "      <td>2017년 09월 06일</td>\n",
       "      <td>2017년 09월 06일</td>\n",
       "      <td>예</td>\n",
       "      <td>주 1회</td>\n",
       "      <td>0개월</td>\n",
       "      <td>아니요</td>\n",
       "    </tr>\n",
       "    <tr>\n",
       "      <th>3</th>\n",
       "      <td>백서원</td>\n",
       "      <td>여성</td>\n",
       "      <td>01011947169</td>\n",
       "      <td>36</td>\n",
       "      <td>67</td>\n",
       "      <td>65</td>\n",
       "      <td>0</td>\n",
       "      <td>2017년 06월 02일</td>\n",
       "      <td>2017년 07월 28일</td>\n",
       "      <td>예</td>\n",
       "      <td>안 마심</td>\n",
       "      <td>0개월</td>\n",
       "      <td>아니요</td>\n",
       "    </tr>\n",
       "    <tr>\n",
       "      <th>4</th>\n",
       "      <td>박서은</td>\n",
       "      <td>여성</td>\n",
       "      <td>010-2575-6398</td>\n",
       "      <td>42</td>\n",
       "      <td>60</td>\n",
       "      <td>57</td>\n",
       "      <td>167</td>\n",
       "      <td>2017년 05월 07일</td>\n",
       "      <td>2017년 05월 07일</td>\n",
       "      <td>아니오</td>\n",
       "      <td>안 마심</td>\n",
       "      <td>0개월</td>\n",
       "      <td>예</td>\n",
       "    </tr>\n",
       "  </tbody>\n",
       "</table>\n",
       "</div>"
      ],
      "text/plain": [
       "    이름  성별           전화번호   나이 현재 체중 목표 체중    키         회원 가입일      회원 정보 갱신일  \\\n",
       "0  안원준  남성  010-2292-6251  31세    78    68  176  2016년 07월 05일  2016년 07월 05일   \n",
       "1  유세아  여성    01045795881   39  56kg  51kg  172  2016년 10월 02일  2016년 11월 29일   \n",
       "2  송솔은  여성  010-7719-8346  NaN    29    21  167  2017년 09월 06일  2017년 09월 06일   \n",
       "3  백서원  여성    01011947169   36    67    65    0  2017년 06월 02일  2017년 07월 28일   \n",
       "4  박서은  여성  010-2575-6398   42    60    57  167  2017년 05월 07일  2017년 05월 07일   \n",
       "\n",
       "  흡연 여부 음주 여부 가입 개월 수 개인상담 요청  \n",
       "0   아니오  주 1회     0개월     아니요  \n",
       "1     예  월 1회     0개월     아니요  \n",
       "2     예  주 1회     0개월     아니요  \n",
       "3     예  안 마심     0개월     아니요  \n",
       "4   아니오  안 마심     0개월       예  "
      ]
     },
     "execution_count": 2,
     "metadata": {},
     "output_type": "execute_result"
    }
   ],
   "source": [
    "data2016_2017 = pd.read_csv(\"tkx-user-data.csv\")\n",
    "\n",
    "print(data2016_2017.shape)\n",
    "data2016_2017.head()"
   ]
  },
  {
   "cell_type": "markdown",
   "metadata": {},
   "source": [
    "## 실습"
   ]
  },
  {
   "cell_type": "markdown",
   "metadata": {},
   "source": [
    "** 1. 2018년도 회원 데이터와, PT 데이터를 읽어오세요. **"
   ]
  },
  {
   "cell_type": "code",
   "execution_count": 3,
   "metadata": {},
   "outputs": [],
   "source": [
    "# Write your code here!"
   ]
  },
  {
   "cell_type": "markdown",
   "metadata": {},
   "source": [
    "** 2. 이전 회원 데이터(2016 ~ 2017년)와 2018년도 회원 데이터를 하나로 합쳐주세요. **"
   ]
  },
  {
   "cell_type": "code",
   "execution_count": 4,
   "metadata": {},
   "outputs": [],
   "source": [
    "# Write your code here!"
   ]
  },
  {
   "cell_type": "markdown",
   "metadata": {},
   "source": [
    "** 3. PT 데이터와 회원 데이터를 하나로 합쳐주세요. **"
   ]
  },
  {
   "cell_type": "code",
   "execution_count": 5,
   "metadata": {
    "collapsed": true
   },
   "outputs": [],
   "source": [
    "# Write your code here!"
   ]
  },
  {
   "cell_type": "markdown",
   "metadata": {},
   "source": [
    "** 4. 3번 데이터에서 전체가 아닌 필요한 컬럼만 골라서 보고습니다. 다음의 컬럼만 골라서 출력해주세요. **\n",
    "\n",
    "  * 이름\n",
    "  * 성별\n",
    "  * 전화번호\n",
    "  * 현재 체중\n",
    "  * 목표 체중\n",
    "  * 담당 선생님"
   ]
  },
  {
   "cell_type": "code",
   "execution_count": 6,
   "metadata": {
    "collapsed": true
   },
   "outputs": [],
   "source": [
    "# Write your code here!"
   ]
  },
  {
   "cell_type": "markdown",
   "metadata": {},
   "source": [
    "** 5. PT 담당 선생님만 추려서, 가장 PT를 많이 한 선생님 순으로 정렬해서 보여주세요. **"
   ]
  },
  {
   "cell_type": "code",
   "execution_count": 7,
   "metadata": {
    "collapsed": true
   },
   "outputs": [],
   "source": [
    "# Write your code here!"
   ]
  },
  {
   "cell_type": "markdown",
   "metadata": {},
   "source": [
    "## 과제(초급)"
   ]
  },
  {
   "cell_type": "markdown",
   "metadata": {},
   "source": [
    "** 6. 회원분들의 체중 기록을 9개의 CSV에서 각각 읽어와주세요.**"
   ]
  },
  {
   "cell_type": "code",
   "execution_count": 8,
   "metadata": {
    "collapsed": true
   },
   "outputs": [],
   "source": [
    "# Write your code here!"
   ]
  },
  {
   "cell_type": "markdown",
   "metadata": {},
   "source": [
    "** 7. 회원 분들의 체중 기록을 DB에서 10개의 테이블에서 SQL로 각각 읽어와주세요. **"
   ]
  },
  {
   "cell_type": "code",
   "execution_count": 9,
   "metadata": {
    "collapsed": true
   },
   "outputs": [],
   "source": [
    "# Write your code here!"
   ]
  },
  {
   "cell_type": "markdown",
   "metadata": {},
   "source": [
    "** 8. 여러 데이터로 나뉘어져 있는 체중 기록을 하나로 합쳐주세요. **"
   ]
  },
  {
   "cell_type": "code",
   "execution_count": 10,
   "metadata": {
    "collapsed": true
   },
   "outputs": [],
   "source": [
    "# Write your code here!"
   ]
  },
  {
   "cell_type": "markdown",
   "metadata": {},
   "source": [
    "** 9. 체중 기록과 회원 데이터를 하나로 합쳐주세요. **"
   ]
  },
  {
   "cell_type": "code",
   "execution_count": 11,
   "metadata": {
    "collapsed": true
   },
   "outputs": [],
   "source": [
    "# Write your code here!"
   ]
  },
  {
   "cell_type": "markdown",
   "metadata": {},
   "source": [
    "** 10. 9번 데이터에서 현재 체중과 측정 체중이 가장 차이가 크게 나는 순으로 정렬해주세요. **"
   ]
  },
  {
   "cell_type": "code",
   "execution_count": 12,
   "metadata": {
    "collapsed": true
   },
   "outputs": [],
   "source": [
    "# Write your code here!"
   ]
  },
  {
   "cell_type": "markdown",
   "metadata": {},
   "source": [
    "## 과제(중급)"
   ]
  },
  {
   "cell_type": "markdown",
   "metadata": {},
   "source": [
    "** 11. 회원 - 체중 기록 데이터를 활용해 목표 체중을 달성한 사람만을 추려주세요. ** \n",
    "\n",
    "여기서 체중이 다시 올랐을 경우는 고려하지 않습니다. 즉, 그 사람의 체중이 가장 낮았을 때만 고려하면 됩니다."
   ]
  },
  {
   "cell_type": "code",
   "execution_count": 13,
   "metadata": {
    "collapsed": true
   },
   "outputs": [],
   "source": [
    "# Write your code here!"
   ]
  },
  {
   "cell_type": "markdown",
   "metadata": {},
   "source": [
    "** 12. 11번의 데이터를 활용해, 남성/여성별 목표 체중을 달성한 사람의 전체 인원수를 찾아주세요. ** "
   ]
  },
  {
   "cell_type": "code",
   "execution_count": 14,
   "metadata": {
    "collapsed": true
   },
   "outputs": [],
   "source": [
    "# Write your code here!"
   ]
  },
  {
   "cell_type": "markdown",
   "metadata": {},
   "source": [
    "** 13. 12번과 비슷하게, 흡연이 체중 감량에 미치는 영향을 알고 싶습니다. 흡연/비흡연자의 목표 체중을 달성한 사람들의 총 인원을 찾아주세요. **"
   ]
  },
  {
   "cell_type": "code",
   "execution_count": 15,
   "metadata": {
    "collapsed": true
   },
   "outputs": [],
   "source": [
    "# Write your code here!"
   ]
  },
  {
   "cell_type": "markdown",
   "metadata": {},
   "source": [
    "** 14. 매 월(1월 ~ 12월) 가장 PT를 많이 한 담당 선생님 Top 10을 찾아주세요. ** "
   ]
  },
  {
   "cell_type": "code",
   "execution_count": 16,
   "metadata": {
    "collapsed": true
   },
   "outputs": [],
   "source": [
    "# Write your code here!"
   ]
  },
  {
   "cell_type": "markdown",
   "metadata": {},
   "source": [
    "** 15. 2016 ~ 2018년도 기록을 모두 합쳐서 가장 많은 PT를 받은 수강생 + 선생님 조합의 Top 10을 찾아주세요. ** "
   ]
  },
  {
   "cell_type": "code",
   "execution_count": 17,
   "metadata": {
    "collapsed": true
   },
   "outputs": [],
   "source": [
    "# Write your code here!"
   ]
  },
  {
   "cell_type": "markdown",
   "metadata": {},
   "source": [
    "## 과제(고급)"
   ]
  },
  {
   "cell_type": "markdown",
   "metadata": {},
   "source": [
    "** 16. 사용자별 현재 체중과 더불어 체중과 1) 가장 최근에 측정한 체중, 2) 가장 낮았을 때의 체중을 찾아주세요. ** "
   ]
  },
  {
   "cell_type": "code",
   "execution_count": 18,
   "metadata": {
    "collapsed": true
   },
   "outputs": [],
   "source": [
    "# Write your code here!"
   ]
  },
  {
   "cell_type": "markdown",
   "metadata": {},
   "source": [
    "** 17. 체중 기록에서 단순히 그 날 측정한 체중 뿐만 아니라, 바로 이전에 측정한 체중과의 차이를 찾아주세요. ** "
   ]
  },
  {
   "cell_type": "code",
   "execution_count": 19,
   "metadata": {
    "collapsed": true
   },
   "outputs": [],
   "source": [
    "# Write your code here!"
   ]
  },
  {
   "cell_type": "markdown",
   "metadata": {},
   "source": [
    "** 18. 체중 감량을 많이 한 사람들을 대상으로 환급 프로그램을 적용하고 싶습니다. **\n",
    "\n",
    "현재 체중과 목표 체중과의 차이가 5kg 이상인 사람 중에서, 실제 목표를 달성한 사람만을 뽑아서 리스트업 해주세요."
   ]
  },
  {
   "cell_type": "code",
   "execution_count": 20,
   "metadata": {
    "collapsed": true
   },
   "outputs": [],
   "source": [
    "# Write your code here!"
   ]
  },
  {
   "cell_type": "markdown",
   "metadata": {},
   "source": [
    "** 19. 18번 데이터를 바탕으로, 사람들이 목표 체중을 달성하는데 평균적으로 며칠이 걸리는지를 계산해주세요. **"
   ]
  },
  {
   "cell_type": "code",
   "execution_count": 21,
   "metadata": {
    "collapsed": true
   },
   "outputs": [],
   "source": [
    "# Write your code here!"
   ]
  },
  {
   "cell_type": "markdown",
   "metadata": {},
   "source": [
    "** 20. 사람들이 헬스장에 가입한 이후, 매 주 평균적으로 얼만큼 감량하는지를 1주부터 10주까지 평균을 내서 보여주세요. **"
   ]
  },
  {
   "cell_type": "code",
   "execution_count": 22,
   "metadata": {
    "collapsed": true
   },
   "outputs": [],
   "source": [
    "# Write your code here!"
   ]
  }
 ],
 "metadata": {
  "kernelspec": {
   "display_name": "Python 3",
   "language": "python",
   "name": "python3"
  },
  "language_info": {
   "codemirror_mode": {
    "name": "ipython",
    "version": 3
   },
   "file_extension": ".py",
   "mimetype": "text/x-python",
   "name": "python",
   "nbconvert_exporter": "python",
   "pygments_lexer": "ipython3",
   "version": "3.6.3"
  }
 },
 "nbformat": 4,
 "nbformat_minor": 2
}
