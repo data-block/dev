{
 "cells": [
  {
   "cell_type": "markdown",
   "metadata": {},
   "source": [
    "# Text Analysis\n",
    "- [2번째 시간 solution](https://goo.gl/7f2Ybo)\n",
    "- [text-analysis](https://goo.gl/4aXT6J)\n",
    "- [3번째 실습](https://goo.gl/dcsmwH)"
   ]
  },
  {
   "cell_type": "code",
   "execution_count": 2,
   "metadata": {},
   "outputs": [],
   "source": [
    "import pandas as pd"
   ]
  },
  {
   "cell_type": "markdown",
   "metadata": {},
   "source": [
    "## Load Dataset"
   ]
  },
  {
   "cell_type": "code",
   "execution_count": 3,
   "metadata": {},
   "outputs": [
    {
     "data": {
      "text/html": [
       "<div>\n",
       "<style scoped>\n",
       "    .dataframe tbody tr th:only-of-type {\n",
       "        vertical-align: middle;\n",
       "    }\n",
       "\n",
       "    .dataframe tbody tr th {\n",
       "        vertical-align: top;\n",
       "    }\n",
       "\n",
       "    .dataframe thead th {\n",
       "        text-align: right;\n",
       "    }\n",
       "</style>\n",
       "<table border=\"1\" class=\"dataframe\">\n",
       "  <thead>\n",
       "    <tr style=\"text-align: right;\">\n",
       "      <th></th>\n",
       "      <th>사용자</th>\n",
       "      <th>리뷰</th>\n",
       "      <th>평점</th>\n",
       "    </tr>\n",
       "  </thead>\n",
       "  <tbody>\n",
       "    <tr>\n",
       "      <th>0</th>\n",
       "      <td>김경이</td>\n",
       "      <td>위치나 시설, 직원태도등 최근 방문한 호텔중 Best였음.</td>\n",
       "      <td>8점</td>\n",
       "    </tr>\n",
       "    <tr>\n",
       "      <th>1</th>\n",
       "      <td>박진형</td>\n",
       "      <td>위치도 좋고 침대가 편안해서 숙면을 취한점이 좋았습니다. 직원들도 모두 친절해서 매...</td>\n",
       "      <td>9점</td>\n",
       "    </tr>\n",
       "    <tr>\n",
       "      <th>2</th>\n",
       "      <td>강석민</td>\n",
       "      <td>한국인 직원이 있어서 채크인/아웃 할때 많이 편했고, 음식점 추천과 예약 등 세심하...</td>\n",
       "      <td>10점</td>\n",
       "    </tr>\n",
       "    <tr>\n",
       "      <th>3</th>\n",
       "      <td>최진강</td>\n",
       "      <td>호텔이 너무 좋아서 밖으로 못나감..ㅠㅠ 정말 최고입니다.</td>\n",
       "      <td>8점</td>\n",
       "    </tr>\n",
       "  </tbody>\n",
       "</table>\n",
       "</div>"
      ],
      "text/plain": [
       "   사용자                                                 리뷰   평점\n",
       "0  김경이                   위치나 시설, 직원태도등 최근 방문한 호텔중 Best였음.   8점\n",
       "1  박진형  위치도 좋고 침대가 편안해서 숙면을 취한점이 좋았습니다. 직원들도 모두 친절해서 매...   9점\n",
       "2  강석민  한국인 직원이 있어서 채크인/아웃 할때 많이 편했고, 음식점 추천과 예약 등 세심하...  10점\n",
       "3  최진강                   호텔이 너무 좋아서 밖으로 못나감..ㅠㅠ 정말 최고입니다.   8점"
      ]
     },
     "execution_count": 3,
     "metadata": {},
     "output_type": "execute_result"
    }
   ],
   "source": [
    "pd.read_csv('./data/review.csv')"
   ]
  },
  {
   "cell_type": "code",
   "execution_count": 15,
   "metadata": {},
   "outputs": [
    {
     "data": {
      "text/html": [
       "<div>\n",
       "<style scoped>\n",
       "    .dataframe tbody tr th:only-of-type {\n",
       "        vertical-align: middle;\n",
       "    }\n",
       "\n",
       "    .dataframe tbody tr th {\n",
       "        vertical-align: top;\n",
       "    }\n",
       "\n",
       "    .dataframe thead th {\n",
       "        text-align: right;\n",
       "    }\n",
       "</style>\n",
       "<table border=\"1\" class=\"dataframe\">\n",
       "  <thead>\n",
       "    <tr style=\"text-align: right;\">\n",
       "      <th></th>\n",
       "      <th>�߻��⵵</th>\n",
       "      <th>����</th>\n",
       "      <th>�հ�</th>\n",
       "      <th>�Ϲݱ���</th>\n",
       "      <th>���浵</th>\n",
       "      <th>Ư�������õ�</th>\n",
       "      <th>�õ�</th>\n",
       "      <th>����.1</th>\n",
       "      <th>���ӱ���</th>\n",
       "      <th>��Ÿ</th>\n",
       "    </tr>\n",
       "  </thead>\n",
       "  <tbody>\n",
       "    <tr>\n",
       "      <th>0</th>\n",
       "      <td>2013</td>\n",
       "      <td>�߻��Ǽ�</td>\n",
       "      <td>215,354</td>\n",
       "      <td>17,450</td>\n",
       "      <td>18,655</td>\n",
       "      <td>87,139</td>\n",
       "      <td>65,877</td>\n",
       "      <td>6,865</td>\n",
       "      <td>3,231</td>\n",
       "      <td>16,137</td>\n",
       "    </tr>\n",
       "    <tr>\n",
       "      <th>1</th>\n",
       "      <td>2013</td>\n",
       "      <td>������(%)</td>\n",
       "      <td>100</td>\n",
       "      <td>8.1</td>\n",
       "      <td>8.7</td>\n",
       "      <td>40.5</td>\n",
       "      <td>30.6</td>\n",
       "      <td>3.2</td>\n",
       "      <td>1.5</td>\n",
       "      <td>7.5</td>\n",
       "    </tr>\n",
       "    <tr>\n",
       "      <th>2</th>\n",
       "      <td>2013</td>\n",
       "      <td>������</td>\n",
       "      <td>-8,302</td>\n",
       "      <td>-2,185</td>\n",
       "      <td>-1,189</td>\n",
       "      <td>-7,954</td>\n",
       "      <td>-2,194</td>\n",
       "      <td>-244</td>\n",
       "      <td>-319</td>\n",
       "      <td>5,783</td>\n",
       "    </tr>\n",
       "    <tr>\n",
       "      <th>3</th>\n",
       "      <td>2013</td>\n",
       "      <td>������</td>\n",
       "      <td>-3.7</td>\n",
       "      <td>-11.1</td>\n",
       "      <td>-6</td>\n",
       "      <td>-8.4</td>\n",
       "      <td>-3.2</td>\n",
       "      <td>-3.4</td>\n",
       "      <td>-9</td>\n",
       "      <td>55.9</td>\n",
       "    </tr>\n",
       "    <tr>\n",
       "      <th>4</th>\n",
       "      <td>2012</td>\n",
       "      <td>�߻��Ǽ�</td>\n",
       "      <td>223,656</td>\n",
       "      <td>19,635</td>\n",
       "      <td>19,844</td>\n",
       "      <td>95,093</td>\n",
       "      <td>68,071</td>\n",
       "      <td>7,109</td>\n",
       "      <td>3,550</td>\n",
       "      <td>10,354</td>\n",
       "    </tr>\n",
       "    <tr>\n",
       "      <th>5</th>\n",
       "      <td>2012</td>\n",
       "      <td>������(%)</td>\n",
       "      <td>100</td>\n",
       "      <td>8.8</td>\n",
       "      <td>8.9</td>\n",
       "      <td>42.5</td>\n",
       "      <td>30.4</td>\n",
       "      <td>3.2</td>\n",
       "      <td>1.6</td>\n",
       "      <td>4.6</td>\n",
       "    </tr>\n",
       "    <tr>\n",
       "      <th>6</th>\n",
       "      <td>2012</td>\n",
       "      <td>������</td>\n",
       "      <td>-</td>\n",
       "      <td>-</td>\n",
       "      <td>-</td>\n",
       "      <td>-</td>\n",
       "      <td>-</td>\n",
       "      <td>-</td>\n",
       "      <td>-</td>\n",
       "      <td>-</td>\n",
       "    </tr>\n",
       "    <tr>\n",
       "      <th>7</th>\n",
       "      <td>2012</td>\n",
       "      <td>������</td>\n",
       "      <td>-</td>\n",
       "      <td>-</td>\n",
       "      <td>-</td>\n",
       "      <td>-</td>\n",
       "      <td>-</td>\n",
       "      <td>-</td>\n",
       "      <td>-</td>\n",
       "      <td>-</td>\n",
       "    </tr>\n",
       "  </tbody>\n",
       "</table>\n",
       "</div>"
      ],
      "text/plain": [
       "   �߻��⵵       ����      �հ�  �Ϲݱ���    ���浵 Ư�������õ�     �õ� ����.1  \\\n",
       "0   2013     �߻��Ǽ�  215,354  17,450  18,655     87,139  65,877  6,865   \n",
       "1   2013  ������(%)      100     8.1     8.7       40.5    30.6    3.2   \n",
       "2   2013     ������   -8,302  -2,185  -1,189     -7,954  -2,194   -244   \n",
       "3   2013     ������     -3.7   -11.1      -6       -8.4    -3.2   -3.4   \n",
       "4   2012     �߻��Ǽ�  223,656  19,635  19,844     95,093  68,071  7,109   \n",
       "5   2012  ������(%)      100     8.8     8.9       42.5    30.4    3.2   \n",
       "6   2012     ������        -       -       -          -       -      -   \n",
       "7   2012     ������        -       -       -          -       -      -   \n",
       "\n",
       "  ���ӱ���     ��Ÿ  \n",
       "0   3,231  16,137  \n",
       "1     1.5     7.5  \n",
       "2    -319   5,783  \n",
       "3      -9    55.9  \n",
       "4   3,550  10,354  \n",
       "5     1.6     4.6  \n",
       "6       -       -  \n",
       "7       -       -  "
      ]
     },
     "execution_count": 15,
     "metadata": {},
     "output_type": "execute_result"
    }
   ],
   "source": [
    "pd.read_csv('./data/car-crash.csv', engine='python') # 한글 폴더일 때, 속도가 느려져서 기본적으로 쓰지 않음. 한글 폴더일 경우 사용"
   ]
  },
  {
   "cell_type": "code",
   "execution_count": 16,
   "metadata": {},
   "outputs": [
    {
     "data": {
      "text/html": [
       "<div>\n",
       "<style scoped>\n",
       "    .dataframe tbody tr th:only-of-type {\n",
       "        vertical-align: middle;\n",
       "    }\n",
       "\n",
       "    .dataframe tbody tr th {\n",
       "        vertical-align: top;\n",
       "    }\n",
       "\n",
       "    .dataframe thead th {\n",
       "        text-align: right;\n",
       "    }\n",
       "</style>\n",
       "<table border=\"1\" class=\"dataframe\">\n",
       "  <thead>\n",
       "    <tr style=\"text-align: right;\">\n",
       "      <th></th>\n",
       "      <th>발생년도</th>\n",
       "      <th>구분</th>\n",
       "      <th>합계</th>\n",
       "      <th>일반국도</th>\n",
       "      <th>지방도</th>\n",
       "      <th>특별광역시도</th>\n",
       "      <th>시도</th>\n",
       "      <th>군도</th>\n",
       "      <th>고속국도</th>\n",
       "      <th>기타</th>\n",
       "    </tr>\n",
       "  </thead>\n",
       "  <tbody>\n",
       "    <tr>\n",
       "      <th>0</th>\n",
       "      <td>2013</td>\n",
       "      <td>발생건수</td>\n",
       "      <td>215,354</td>\n",
       "      <td>17,450</td>\n",
       "      <td>18,655</td>\n",
       "      <td>87,139</td>\n",
       "      <td>65,877</td>\n",
       "      <td>6,865</td>\n",
       "      <td>3,231</td>\n",
       "      <td>16,137</td>\n",
       "    </tr>\n",
       "    <tr>\n",
       "      <th>1</th>\n",
       "      <td>2013</td>\n",
       "      <td>구성비(%)</td>\n",
       "      <td>100</td>\n",
       "      <td>8.1</td>\n",
       "      <td>8.7</td>\n",
       "      <td>40.5</td>\n",
       "      <td>30.6</td>\n",
       "      <td>3.2</td>\n",
       "      <td>1.5</td>\n",
       "      <td>7.5</td>\n",
       "    </tr>\n",
       "    <tr>\n",
       "      <th>2</th>\n",
       "      <td>2013</td>\n",
       "      <td>증감수</td>\n",
       "      <td>-8,302</td>\n",
       "      <td>-2,185</td>\n",
       "      <td>-1,189</td>\n",
       "      <td>-7,954</td>\n",
       "      <td>-2,194</td>\n",
       "      <td>-244</td>\n",
       "      <td>-319</td>\n",
       "      <td>5,783</td>\n",
       "    </tr>\n",
       "    <tr>\n",
       "      <th>3</th>\n",
       "      <td>2013</td>\n",
       "      <td>증감률</td>\n",
       "      <td>-3.7</td>\n",
       "      <td>-11.1</td>\n",
       "      <td>-6</td>\n",
       "      <td>-8.4</td>\n",
       "      <td>-3.2</td>\n",
       "      <td>-3.4</td>\n",
       "      <td>-9</td>\n",
       "      <td>55.9</td>\n",
       "    </tr>\n",
       "    <tr>\n",
       "      <th>4</th>\n",
       "      <td>2012</td>\n",
       "      <td>발생건수</td>\n",
       "      <td>223,656</td>\n",
       "      <td>19,635</td>\n",
       "      <td>19,844</td>\n",
       "      <td>95,093</td>\n",
       "      <td>68,071</td>\n",
       "      <td>7,109</td>\n",
       "      <td>3,550</td>\n",
       "      <td>10,354</td>\n",
       "    </tr>\n",
       "    <tr>\n",
       "      <th>5</th>\n",
       "      <td>2012</td>\n",
       "      <td>구성비(%)</td>\n",
       "      <td>100</td>\n",
       "      <td>8.8</td>\n",
       "      <td>8.9</td>\n",
       "      <td>42.5</td>\n",
       "      <td>30.4</td>\n",
       "      <td>3.2</td>\n",
       "      <td>1.6</td>\n",
       "      <td>4.6</td>\n",
       "    </tr>\n",
       "    <tr>\n",
       "      <th>6</th>\n",
       "      <td>2012</td>\n",
       "      <td>증감수</td>\n",
       "      <td>-</td>\n",
       "      <td>-</td>\n",
       "      <td>-</td>\n",
       "      <td>-</td>\n",
       "      <td>-</td>\n",
       "      <td>-</td>\n",
       "      <td>-</td>\n",
       "      <td>-</td>\n",
       "    </tr>\n",
       "    <tr>\n",
       "      <th>7</th>\n",
       "      <td>2012</td>\n",
       "      <td>증감률</td>\n",
       "      <td>-</td>\n",
       "      <td>-</td>\n",
       "      <td>-</td>\n",
       "      <td>-</td>\n",
       "      <td>-</td>\n",
       "      <td>-</td>\n",
       "      <td>-</td>\n",
       "      <td>-</td>\n",
       "    </tr>\n",
       "  </tbody>\n",
       "</table>\n",
       "</div>"
      ],
      "text/plain": [
       "   발생년도      구분       합계    일반국도     지방도  특별광역시도      시도     군도   고속국도      기타\n",
       "0  2013    발생건수  215,354  17,450  18,655  87,139  65,877  6,865  3,231  16,137\n",
       "1  2013  구성비(%)      100     8.1     8.7    40.5    30.6    3.2    1.5     7.5\n",
       "2  2013     증감수   -8,302  -2,185  -1,189  -7,954  -2,194   -244   -319   5,783\n",
       "3  2013     증감률     -3.7   -11.1      -6    -8.4    -3.2   -3.4     -9    55.9\n",
       "4  2012    발생건수  223,656  19,635  19,844  95,093  68,071  7,109  3,550  10,354\n",
       "5  2012  구성비(%)      100     8.8     8.9    42.5    30.4    3.2    1.6     4.6\n",
       "6  2012     증감수        -       -       -       -       -      -      -       -\n",
       "7  2012     증감률        -       -       -       -       -      -      -       -"
      ]
     },
     "execution_count": 16,
     "metadata": {},
     "output_type": "execute_result"
    }
   ],
   "source": [
    "# utf-8, euc-kr, cp949\n",
    "pd.read_csv('./data/car-crash.csv', encoding='euc-kr')"
   ]
  },
  {
   "cell_type": "markdown",
   "metadata": {},
   "source": [
    "### 텍스트 데이터 다루기"
   ]
  },
  {
   "cell_type": "code",
   "execution_count": 17,
   "metadata": {},
   "outputs": [
    {
     "data": {
      "text/html": [
       "<div>\n",
       "<style scoped>\n",
       "    .dataframe tbody tr th:only-of-type {\n",
       "        vertical-align: middle;\n",
       "    }\n",
       "\n",
       "    .dataframe tbody tr th {\n",
       "        vertical-align: top;\n",
       "    }\n",
       "\n",
       "    .dataframe thead th {\n",
       "        text-align: right;\n",
       "    }\n",
       "</style>\n",
       "<table border=\"1\" class=\"dataframe\">\n",
       "  <thead>\n",
       "    <tr style=\"text-align: right;\">\n",
       "      <th></th>\n",
       "      <th>사용자</th>\n",
       "      <th>리뷰</th>\n",
       "      <th>평점</th>\n",
       "    </tr>\n",
       "  </thead>\n",
       "  <tbody>\n",
       "    <tr>\n",
       "      <th>0</th>\n",
       "      <td>김경이</td>\n",
       "      <td>위치나 시설, 직원태도등 최근 방문한 호텔중 Best였음.</td>\n",
       "      <td>8점</td>\n",
       "    </tr>\n",
       "    <tr>\n",
       "      <th>1</th>\n",
       "      <td>박진형</td>\n",
       "      <td>위치도 좋고 침대가 편안해서 숙면을 취한점이 좋았습니다. 직원들도 모두 친절해서 매...</td>\n",
       "      <td>9점</td>\n",
       "    </tr>\n",
       "    <tr>\n",
       "      <th>2</th>\n",
       "      <td>강석민</td>\n",
       "      <td>한국인 직원이 있어서 채크인/아웃 할때 많이 편했고, 음식점 추천과 예약 등 세심하...</td>\n",
       "      <td>10점</td>\n",
       "    </tr>\n",
       "    <tr>\n",
       "      <th>3</th>\n",
       "      <td>최진강</td>\n",
       "      <td>호텔이 너무 좋아서 밖으로 못나감..ㅠㅠ 정말 최고입니다.</td>\n",
       "      <td>8점</td>\n",
       "    </tr>\n",
       "  </tbody>\n",
       "</table>\n",
       "</div>"
      ],
      "text/plain": [
       "   사용자                                                 리뷰   평점\n",
       "0  김경이                   위치나 시설, 직원태도등 최근 방문한 호텔중 Best였음.   8점\n",
       "1  박진형  위치도 좋고 침대가 편안해서 숙면을 취한점이 좋았습니다. 직원들도 모두 친절해서 매...   9점\n",
       "2  강석민  한국인 직원이 있어서 채크인/아웃 할때 많이 편했고, 음식점 추천과 예약 등 세심하...  10점\n",
       "3  최진강                   호텔이 너무 좋아서 밖으로 못나감..ㅠㅠ 정말 최고입니다.   8점"
      ]
     },
     "execution_count": 17,
     "metadata": {},
     "output_type": "execute_result"
    }
   ],
   "source": [
    "review = pd.read_csv('./data/review.csv')\n",
    "review"
   ]
  },
  {
   "cell_type": "code",
   "execution_count": 22,
   "metadata": {},
   "outputs": [
    {
     "data": {
      "text/plain": [
       "0                     위치나 시설, 직원태도등 최근 방문한 호텔중 Best였음.\n",
       "1    위치도 좋고 침대가 편안해서 숙면을 취한점이 좋았습니다. 직원들도 모두 친절해서 매...\n",
       "2    한국인 직원이 있어서 채크인/아웃 할때 많이 편했고, 음식점 추천과 예약 등 세심하...\n",
       "3                     호텔이 너무 좋아서 밖으로 못나감..ㅠㅠ 정말 최고입니다.\n",
       "Name: 리뷰, dtype: object"
      ]
     },
     "execution_count": 22,
     "metadata": {},
     "output_type": "execute_result"
    }
   ],
   "source": [
    "review[\"리뷰\"]"
   ]
  },
  {
   "cell_type": "code",
   "execution_count": 21,
   "metadata": {},
   "outputs": [
    {
     "data": {
      "text/plain": [
       "0     32\n",
       "1     60\n",
       "2    134\n",
       "3     32\n",
       "Name: 리뷰, dtype: int64"
      ]
     },
     "execution_count": 21,
     "metadata": {},
     "output_type": "execute_result"
    }
   ],
   "source": [
    "review[\"리뷰\"].str.len()"
   ]
  },
  {
   "cell_type": "code",
   "execution_count": 23,
   "metadata": {},
   "outputs": [
    {
     "data": {
      "text/plain": [
       "0                     위치나 시설, 직원태도등 최근 방문한 호텔중 BEST였음.\n",
       "1    위치도 좋고 침대가 편안해서 숙면을 취한점이 좋았습니다. 직원들도 모두 친절해서 매...\n",
       "2    한국인 직원이 있어서 채크인/아웃 할때 많이 편했고, 음식점 추천과 예약 등 세심하...\n",
       "3                     호텔이 너무 좋아서 밖으로 못나감..ㅠㅠ 정말 최고입니다.\n",
       "Name: 리뷰, dtype: object"
      ]
     },
     "execution_count": 23,
     "metadata": {},
     "output_type": "execute_result"
    }
   ],
   "source": [
    "review[\"리뷰\"].str.upper()"
   ]
  },
  {
   "cell_type": "code",
   "execution_count": 24,
   "metadata": {},
   "outputs": [
    {
     "data": {
      "text/plain": [
       "0                     위치나 시설, 직원태도등 최근 방문한 호텔중 best였음.\n",
       "1    위치도 좋고 침대가 편안해서 숙면을 취한점이 좋았습니다. 직원들도 모두 친절해서 매...\n",
       "2    한국인 직원이 있어서 채크인/아웃 할때 많이 편했고, 음식점 추천과 예약 등 세심하...\n",
       "3                     호텔이 너무 좋아서 밖으로 못나감..ㅠㅠ 정말 최고입니다.\n",
       "Name: 리뷰, dtype: object"
      ]
     },
     "execution_count": 24,
     "metadata": {},
     "output_type": "execute_result"
    }
   ],
   "source": [
    "review[\"리뷰\"].str.lower()"
   ]
  },
  {
   "cell_type": "code",
   "execution_count": 26,
   "metadata": {},
   "outputs": [
    {
     "data": {
      "text/html": [
       "<div>\n",
       "<style scoped>\n",
       "    .dataframe tbody tr th:only-of-type {\n",
       "        vertical-align: middle;\n",
       "    }\n",
       "\n",
       "    .dataframe tbody tr th {\n",
       "        vertical-align: top;\n",
       "    }\n",
       "\n",
       "    .dataframe thead th {\n",
       "        text-align: right;\n",
       "    }\n",
       "</style>\n",
       "<table border=\"1\" class=\"dataframe\">\n",
       "  <thead>\n",
       "    <tr style=\"text-align: right;\">\n",
       "      <th></th>\n",
       "      <th>사용자</th>\n",
       "      <th>리뷰</th>\n",
       "      <th>평점</th>\n",
       "    </tr>\n",
       "  </thead>\n",
       "  <tbody>\n",
       "    <tr>\n",
       "      <th>0</th>\n",
       "      <td>김경이</td>\n",
       "      <td>위치나 시설, 직원태도등 최근 방문한 호텔중 Best였음.</td>\n",
       "      <td>8점</td>\n",
       "    </tr>\n",
       "  </tbody>\n",
       "</table>\n",
       "</div>"
      ],
      "text/plain": [
       "   사용자                                리뷰  평점\n",
       "0  김경이  위치나 시설, 직원태도등 최근 방문한 호텔중 Best였음.  8점"
      ]
     },
     "execution_count": 26,
     "metadata": {},
     "output_type": "execute_result"
    }
   ],
   "source": [
    "review[review[\"사용자\"] == \"김경이\"]"
   ]
  },
  {
   "cell_type": "markdown",
   "metadata": {},
   "source": [
    "#### 찾으려는 유저가 여러 명일 경우"
   ]
  },
  {
   "cell_type": "code",
   "execution_count": 29,
   "metadata": {},
   "outputs": [
    {
     "data": {
      "text/html": [
       "<div>\n",
       "<style scoped>\n",
       "    .dataframe tbody tr th:only-of-type {\n",
       "        vertical-align: middle;\n",
       "    }\n",
       "\n",
       "    .dataframe tbody tr th {\n",
       "        vertical-align: top;\n",
       "    }\n",
       "\n",
       "    .dataframe thead th {\n",
       "        text-align: right;\n",
       "    }\n",
       "</style>\n",
       "<table border=\"1\" class=\"dataframe\">\n",
       "  <thead>\n",
       "    <tr style=\"text-align: right;\">\n",
       "      <th></th>\n",
       "      <th>사용자</th>\n",
       "      <th>리뷰</th>\n",
       "      <th>평점</th>\n",
       "    </tr>\n",
       "  </thead>\n",
       "  <tbody>\n",
       "    <tr>\n",
       "      <th>0</th>\n",
       "      <td>김경이</td>\n",
       "      <td>위치나 시설, 직원태도등 최근 방문한 호텔중 Best였음.</td>\n",
       "      <td>8점</td>\n",
       "    </tr>\n",
       "    <tr>\n",
       "      <th>1</th>\n",
       "      <td>박진형</td>\n",
       "      <td>위치도 좋고 침대가 편안해서 숙면을 취한점이 좋았습니다. 직원들도 모두 친절해서 매...</td>\n",
       "      <td>9점</td>\n",
       "    </tr>\n",
       "  </tbody>\n",
       "</table>\n",
       "</div>"
      ],
      "text/plain": [
       "   사용자                                                 리뷰  평점\n",
       "0  김경이                   위치나 시설, 직원태도등 최근 방문한 호텔중 Best였음.  8점\n",
       "1  박진형  위치도 좋고 침대가 편안해서 숙면을 취한점이 좋았습니다. 직원들도 모두 친절해서 매...  9점"
      ]
     },
     "execution_count": 29,
     "metadata": {},
     "output_type": "execute_result"
    }
   ],
   "source": [
    "user_list = [\"김경이\", \"박진형\"]\n",
    "review[review[\"사용자\"].isin(user_list)]"
   ]
  },
  {
   "cell_type": "markdown",
   "metadata": {},
   "source": [
    "#### 긴 리뷰 중에 특정 문장이나 단어를 포함하는지 찾는 경우"
   ]
  },
  {
   "cell_type": "code",
   "execution_count": 31,
   "metadata": {},
   "outputs": [
    {
     "data": {
      "text/html": [
       "<div>\n",
       "<style scoped>\n",
       "    .dataframe tbody tr th:only-of-type {\n",
       "        vertical-align: middle;\n",
       "    }\n",
       "\n",
       "    .dataframe tbody tr th {\n",
       "        vertical-align: top;\n",
       "    }\n",
       "\n",
       "    .dataframe thead th {\n",
       "        text-align: right;\n",
       "    }\n",
       "</style>\n",
       "<table border=\"1\" class=\"dataframe\">\n",
       "  <thead>\n",
       "    <tr style=\"text-align: right;\">\n",
       "      <th></th>\n",
       "      <th>사용자</th>\n",
       "      <th>리뷰</th>\n",
       "      <th>평점</th>\n",
       "    </tr>\n",
       "  </thead>\n",
       "  <tbody>\n",
       "    <tr>\n",
       "      <th>0</th>\n",
       "      <td>김경이</td>\n",
       "      <td>위치나 시설, 직원태도등 최근 방문한 호텔중 Best였음.</td>\n",
       "      <td>8점</td>\n",
       "    </tr>\n",
       "    <tr>\n",
       "      <th>1</th>\n",
       "      <td>박진형</td>\n",
       "      <td>위치도 좋고 침대가 편안해서 숙면을 취한점이 좋았습니다. 직원들도 모두 친절해서 매...</td>\n",
       "      <td>9점</td>\n",
       "    </tr>\n",
       "  </tbody>\n",
       "</table>\n",
       "</div>"
      ],
      "text/plain": [
       "   사용자                                                 리뷰  평점\n",
       "0  김경이                   위치나 시설, 직원태도등 최근 방문한 호텔중 Best였음.  8점\n",
       "1  박진형  위치도 좋고 침대가 편안해서 숙면을 취한점이 좋았습니다. 직원들도 모두 친절해서 매...  9점"
      ]
     },
     "execution_count": 31,
     "metadata": {},
     "output_type": "execute_result"
    }
   ],
   "source": [
    "review[review['리뷰'].str.contains(\"위치\")]"
   ]
  },
  {
   "cell_type": "code",
   "execution_count": 33,
   "metadata": {},
   "outputs": [
    {
     "data": {
      "text/plain": [
       "0                     위치나 시설, 직원태도등 최근 방문한 호텔중 Best였음.\n",
       "1    위치도 좋고 침대가 편안해서 숙면을 취한점이 좋았습니다. 직원들도 모두 친절해서 매...\n",
       "2    한국인 직원이 있어서 채크인/아웃 할때 많이 편했고, 음식점 추천과 예약 등 세심하...\n",
       "3                     호텔이 너무 좋아서 밖으로 못나감..ㅠㅠ 정말 최고입니다.\n",
       "Name: 리뷰, dtype: object"
      ]
     },
     "execution_count": 33,
     "metadata": {},
     "output_type": "execute_result"
    }
   ],
   "source": [
    "review[\"리뷰\"]"
   ]
  },
  {
   "cell_type": "code",
   "execution_count": 34,
   "metadata": {},
   "outputs": [
    {
     "data": {
      "text/plain": [
       "0                     위치나 시설, 직원태도등 최근 방문한 호텔중 Best였음.\n",
       "1    위치도 좋고 침대가 편안해서 숙면을 취한점이 좋았습니다. 직원들도 모두 친절해서 매...\n",
       "2    한국인 직원이 있어서 체크인/아웃 할때 많이 편했고, 음식점 추천과 예약 등 세심하...\n",
       "3                     호텔이 너무 좋아서 밖으로 못나감..ㅠㅠ 정말 최고입니다.\n",
       "Name: 리뷰, dtype: object"
      ]
     },
     "execution_count": 34,
     "metadata": {},
     "output_type": "execute_result"
    }
   ],
   "source": [
    "review[\"리뷰\"].str.replace(\"채크인\", \"체크인\")"
   ]
  },
  {
   "cell_type": "code",
   "execution_count": 36,
   "metadata": {},
   "outputs": [
    {
     "data": {
      "text/html": [
       "<div>\n",
       "<style scoped>\n",
       "    .dataframe tbody tr th:only-of-type {\n",
       "        vertical-align: middle;\n",
       "    }\n",
       "\n",
       "    .dataframe tbody tr th {\n",
       "        vertical-align: top;\n",
       "    }\n",
       "\n",
       "    .dataframe thead th {\n",
       "        text-align: right;\n",
       "    }\n",
       "</style>\n",
       "<table border=\"1\" class=\"dataframe\">\n",
       "  <thead>\n",
       "    <tr style=\"text-align: right;\">\n",
       "      <th></th>\n",
       "      <th>사용자</th>\n",
       "      <th>리뷰</th>\n",
       "      <th>평점</th>\n",
       "    </tr>\n",
       "  </thead>\n",
       "  <tbody>\n",
       "    <tr>\n",
       "      <th>0</th>\n",
       "      <td>김경이</td>\n",
       "      <td>위치나 시설, 직원태도등 최근 방문한 호텔중 Best였음.</td>\n",
       "      <td>8점</td>\n",
       "    </tr>\n",
       "    <tr>\n",
       "      <th>1</th>\n",
       "      <td>박진형</td>\n",
       "      <td>위치도 좋고 침대가 편안해서 숙면을 취한점이 좋았습니다. 직원들도 모두 친절해서 매...</td>\n",
       "      <td>9점</td>\n",
       "    </tr>\n",
       "    <tr>\n",
       "      <th>2</th>\n",
       "      <td>강석민</td>\n",
       "      <td>한국인 직원이 있어서 채크인/아웃 할때 많이 편했고, 음식점 추천과 예약 등 세심하...</td>\n",
       "      <td>10점</td>\n",
       "    </tr>\n",
       "  </tbody>\n",
       "</table>\n",
       "</div>"
      ],
      "text/plain": [
       "   사용자                                                 리뷰   평점\n",
       "0  김경이                   위치나 시설, 직원태도등 최근 방문한 호텔중 Best였음.   8점\n",
       "1  박진형  위치도 좋고 침대가 편안해서 숙면을 취한점이 좋았습니다. 직원들도 모두 친절해서 매...   9점\n",
       "2  강석민  한국인 직원이 있어서 채크인/아웃 할때 많이 편했고, 음식점 추천과 예약 등 세심하...  10점"
      ]
     },
     "execution_count": 36,
     "metadata": {},
     "output_type": "execute_result"
    }
   ],
   "source": [
    "review[review[\"리뷰\"].str.contains(\"위치|시설\")]"
   ]
  },
  {
   "cell_type": "code",
   "execution_count": 37,
   "metadata": {},
   "outputs": [
    {
     "data": {
      "text/html": [
       "<div>\n",
       "<style scoped>\n",
       "    .dataframe tbody tr th:only-of-type {\n",
       "        vertical-align: middle;\n",
       "    }\n",
       "\n",
       "    .dataframe tbody tr th {\n",
       "        vertical-align: top;\n",
       "    }\n",
       "\n",
       "    .dataframe thead th {\n",
       "        text-align: right;\n",
       "    }\n",
       "</style>\n",
       "<table border=\"1\" class=\"dataframe\">\n",
       "  <thead>\n",
       "    <tr style=\"text-align: right;\">\n",
       "      <th></th>\n",
       "      <th>사용자</th>\n",
       "      <th>리뷰</th>\n",
       "      <th>평점</th>\n",
       "    </tr>\n",
       "  </thead>\n",
       "  <tbody>\n",
       "    <tr>\n",
       "      <th>0</th>\n",
       "      <td>김경이</td>\n",
       "      <td>위치나 시설, 직원태도등 최근 방문한 호텔중 Best였음.</td>\n",
       "      <td>8점</td>\n",
       "    </tr>\n",
       "    <tr>\n",
       "      <th>1</th>\n",
       "      <td>박진형</td>\n",
       "      <td>위치도 좋고 침대가 편안해서 숙면을 취한점이 좋았습니다. 직원들도 모두 친절해서 매...</td>\n",
       "      <td>9점</td>\n",
       "    </tr>\n",
       "    <tr>\n",
       "      <th>2</th>\n",
       "      <td>강석민</td>\n",
       "      <td>한국인 직원이 있어서 채크인/아웃 할때 많이 편했고, 음식점 추천과 예약 등 세심하...</td>\n",
       "      <td>10점</td>\n",
       "    </tr>\n",
       "  </tbody>\n",
       "</table>\n",
       "</div>"
      ],
      "text/plain": [
       "   사용자                                                 리뷰   평점\n",
       "0  김경이                   위치나 시설, 직원태도등 최근 방문한 호텔중 Best였음.   8점\n",
       "1  박진형  위치도 좋고 침대가 편안해서 숙면을 취한점이 좋았습니다. 직원들도 모두 친절해서 매...   9점\n",
       "2  강석민  한국인 직원이 있어서 채크인/아웃 할때 많이 편했고, 음식점 추천과 예약 등 세심하...  10점"
      ]
     },
     "execution_count": 37,
     "metadata": {},
     "output_type": "execute_result"
    }
   ],
   "source": [
    "review[review[\"리뷰\"].str.contains(\"(?=.*위치)|(?=.*시설)\")]"
   ]
  },
  {
   "cell_type": "code",
   "execution_count": 40,
   "metadata": {},
   "outputs": [
    {
     "data": {
      "text/plain": [
       "0             [위치나, 시설,, 직원태도등, 최근, 방문한, 호텔중, Best였음.]\n",
       "1    [위치도, 좋고, 침대가, 편안해서, 숙면을, 취한점이, 좋았습니다., 직원들도, ...\n",
       "2    [한국인, 직원이, 있어서, 채크인/아웃, 할때, 많이, 편했고,, 음식점, 추천과...\n",
       "3             [호텔이, 너무, 좋아서, 밖으로, 못나감..ㅠㅠ, 정말, 최고입니다.]\n",
       "Name: 리뷰, dtype: object"
      ]
     },
     "execution_count": 40,
     "metadata": {},
     "output_type": "execute_result"
    }
   ],
   "source": [
    "review[\"리뷰\"].str.split()"
   ]
  },
  {
   "cell_type": "code",
   "execution_count": 42,
   "metadata": {},
   "outputs": [
    {
     "data": {
      "text/plain": [
       "0                  [위치나 시설,  직원태도등 최근 방문한 호텔중 Best였음.]\n",
       "1    [위치도 좋고 침대가 편안해서 숙면을 취한점이 좋았습니다. 직원들도 모두 친절해서 ...\n",
       "2    [한국인 직원이 있어서 채크인/아웃 할때 많이 편했고,  음식점 추천과 예약 등 세...\n",
       "3                   [호텔이 너무 좋아서 밖으로 못나감..ㅠㅠ 정말 최고입니다.]\n",
       "Name: 리뷰, dtype: object"
      ]
     },
     "execution_count": 42,
     "metadata": {},
     "output_type": "execute_result"
    }
   ],
   "source": [
    "review[\"리뷰\"].str.split(',')"
   ]
  },
  {
   "cell_type": "code",
   "execution_count": 43,
   "metadata": {},
   "outputs": [
    {
     "data": {
      "text/html": [
       "<div>\n",
       "<style scoped>\n",
       "    .dataframe tbody tr th:only-of-type {\n",
       "        vertical-align: middle;\n",
       "    }\n",
       "\n",
       "    .dataframe tbody tr th {\n",
       "        vertical-align: top;\n",
       "    }\n",
       "\n",
       "    .dataframe thead th {\n",
       "        text-align: right;\n",
       "    }\n",
       "</style>\n",
       "<table border=\"1\" class=\"dataframe\">\n",
       "  <thead>\n",
       "    <tr style=\"text-align: right;\">\n",
       "      <th></th>\n",
       "      <th>사용자</th>\n",
       "      <th>리뷰</th>\n",
       "      <th>평점</th>\n",
       "    </tr>\n",
       "  </thead>\n",
       "  <tbody>\n",
       "    <tr>\n",
       "      <th>0</th>\n",
       "      <td>김경이</td>\n",
       "      <td>위치나 시설, 직원태도등 최근 방문한 호텔중 Best였음.</td>\n",
       "      <td>8점</td>\n",
       "    </tr>\n",
       "    <tr>\n",
       "      <th>1</th>\n",
       "      <td>박진형</td>\n",
       "      <td>위치도 좋고 침대가 편안해서 숙면을 취한점이 좋았습니다. 직원들도 모두 친절해서 매...</td>\n",
       "      <td>9점</td>\n",
       "    </tr>\n",
       "    <tr>\n",
       "      <th>2</th>\n",
       "      <td>강석민</td>\n",
       "      <td>한국인 직원이 있어서 채크인/아웃 할때 많이 편했고, 음식점 추천과 예약 등 세심하...</td>\n",
       "      <td>10점</td>\n",
       "    </tr>\n",
       "    <tr>\n",
       "      <th>3</th>\n",
       "      <td>최진강</td>\n",
       "      <td>호텔이 너무 좋아서 밖으로 못나감..ㅠㅠ 정말 최고입니다.</td>\n",
       "      <td>8점</td>\n",
       "    </tr>\n",
       "  </tbody>\n",
       "</table>\n",
       "</div>"
      ],
      "text/plain": [
       "   사용자                                                 리뷰   평점\n",
       "0  김경이                   위치나 시설, 직원태도등 최근 방문한 호텔중 Best였음.   8점\n",
       "1  박진형  위치도 좋고 침대가 편안해서 숙면을 취한점이 좋았습니다. 직원들도 모두 친절해서 매...   9점\n",
       "2  강석민  한국인 직원이 있어서 채크인/아웃 할때 많이 편했고, 음식점 추천과 예약 등 세심하...  10점\n",
       "3  최진강                   호텔이 너무 좋아서 밖으로 못나감..ㅠㅠ 정말 최고입니다.   8점"
      ]
     },
     "execution_count": 43,
     "metadata": {},
     "output_type": "execute_result"
    }
   ],
   "source": [
    "raw_review = review.copy()\n",
    "raw_review"
   ]
  },
  {
   "cell_type": "markdown",
   "metadata": {},
   "source": [
    "#### 팁\n",
    "- 컬럼명에 혹시라도 있을 지 모를 띄어쓰기 제거"
   ]
  },
  {
   "cell_type": "code",
   "execution_count": 45,
   "metadata": {},
   "outputs": [
    {
     "data": {
      "text/plain": [
       "Index(['사용자', '리뷰', '평점'], dtype='object')"
      ]
     },
     "execution_count": 45,
     "metadata": {},
     "output_type": "execute_result"
    }
   ],
   "source": [
    "raw_review = raw_review.columns.str.strip()\n",
    "raw_review"
   ]
  },
  {
   "cell_type": "markdown",
   "metadata": {},
   "source": [
    "#### 특정 문장에서 특정 단어가 몇 번 발생하는지 알고 싶거나\n",
    "#### 특정 문장에서 특정 단어가 나올 확률을 자동적으로 계산하고 싶다면"
   ]
  },
  {
   "cell_type": "code",
   "execution_count": 49,
   "metadata": {},
   "outputs": [
    {
     "data": {
      "text/html": [
       "<div>\n",
       "<style scoped>\n",
       "    .dataframe tbody tr th:only-of-type {\n",
       "        vertical-align: middle;\n",
       "    }\n",
       "\n",
       "    .dataframe tbody tr th {\n",
       "        vertical-align: top;\n",
       "    }\n",
       "\n",
       "    .dataframe thead th {\n",
       "        text-align: right;\n",
       "    }\n",
       "</style>\n",
       "<table border=\"1\" class=\"dataframe\">\n",
       "  <thead>\n",
       "    <tr style=\"text-align: right;\">\n",
       "      <th></th>\n",
       "      <th>Best였음.</th>\n",
       "      <th>깨끗하고</th>\n",
       "      <th>너무</th>\n",
       "      <th>등</th>\n",
       "      <th>따로</th>\n",
       "      <th>룸서비스,조식</th>\n",
       "      <th>만족한</th>\n",
       "      <th>많이</th>\n",
       "      <th>매우</th>\n",
       "      <th>모두</th>\n",
       "      <th>...</th>\n",
       "      <th>친절해서</th>\n",
       "      <th>침대가</th>\n",
       "      <th>편안해서</th>\n",
       "      <th>편했고,</th>\n",
       "      <th>포함되어있지</th>\n",
       "      <th>한국인</th>\n",
       "      <th>할때</th>\n",
       "      <th>현대적입니다.</th>\n",
       "      <th>호텔이</th>\n",
       "      <th>호텔중</th>\n",
       "    </tr>\n",
       "  </thead>\n",
       "  <tbody>\n",
       "    <tr>\n",
       "      <th>0</th>\n",
       "      <td>1</td>\n",
       "      <td>0</td>\n",
       "      <td>0</td>\n",
       "      <td>0</td>\n",
       "      <td>0</td>\n",
       "      <td>0</td>\n",
       "      <td>0</td>\n",
       "      <td>0</td>\n",
       "      <td>0</td>\n",
       "      <td>0</td>\n",
       "      <td>...</td>\n",
       "      <td>0</td>\n",
       "      <td>0</td>\n",
       "      <td>0</td>\n",
       "      <td>0</td>\n",
       "      <td>0</td>\n",
       "      <td>0</td>\n",
       "      <td>0</td>\n",
       "      <td>0</td>\n",
       "      <td>0</td>\n",
       "      <td>1</td>\n",
       "    </tr>\n",
       "    <tr>\n",
       "      <th>1</th>\n",
       "      <td>0</td>\n",
       "      <td>0</td>\n",
       "      <td>0</td>\n",
       "      <td>0</td>\n",
       "      <td>0</td>\n",
       "      <td>0</td>\n",
       "      <td>1</td>\n",
       "      <td>0</td>\n",
       "      <td>1</td>\n",
       "      <td>1</td>\n",
       "      <td>...</td>\n",
       "      <td>1</td>\n",
       "      <td>1</td>\n",
       "      <td>1</td>\n",
       "      <td>0</td>\n",
       "      <td>0</td>\n",
       "      <td>0</td>\n",
       "      <td>0</td>\n",
       "      <td>0</td>\n",
       "      <td>0</td>\n",
       "      <td>0</td>\n",
       "    </tr>\n",
       "    <tr>\n",
       "      <th>2</th>\n",
       "      <td>0</td>\n",
       "      <td>1</td>\n",
       "      <td>0</td>\n",
       "      <td>1</td>\n",
       "      <td>1</td>\n",
       "      <td>1</td>\n",
       "      <td>0</td>\n",
       "      <td>1</td>\n",
       "      <td>0</td>\n",
       "      <td>0</td>\n",
       "      <td>...</td>\n",
       "      <td>0</td>\n",
       "      <td>0</td>\n",
       "      <td>0</td>\n",
       "      <td>1</td>\n",
       "      <td>1</td>\n",
       "      <td>1</td>\n",
       "      <td>1</td>\n",
       "      <td>1</td>\n",
       "      <td>0</td>\n",
       "      <td>0</td>\n",
       "    </tr>\n",
       "    <tr>\n",
       "      <th>3</th>\n",
       "      <td>0</td>\n",
       "      <td>0</td>\n",
       "      <td>1</td>\n",
       "      <td>0</td>\n",
       "      <td>0</td>\n",
       "      <td>0</td>\n",
       "      <td>0</td>\n",
       "      <td>0</td>\n",
       "      <td>0</td>\n",
       "      <td>0</td>\n",
       "      <td>...</td>\n",
       "      <td>0</td>\n",
       "      <td>0</td>\n",
       "      <td>0</td>\n",
       "      <td>0</td>\n",
       "      <td>0</td>\n",
       "      <td>0</td>\n",
       "      <td>0</td>\n",
       "      <td>0</td>\n",
       "      <td>1</td>\n",
       "      <td>0</td>\n",
       "    </tr>\n",
       "  </tbody>\n",
       "</table>\n",
       "<p>4 rows × 54 columns</p>\n",
       "</div>"
      ],
      "text/plain": [
       "   Best였음.  깨끗하고  너무  등  따로  룸서비스,조식  만족한  많이  매우  모두 ...   친절해서  침대가  편안해서  \\\n",
       "0        1     0   0  0   0        0    0   0   0   0 ...      0    0     0   \n",
       "1        0     0   0  0   0        0    1   0   1   1 ...      1    1     1   \n",
       "2        0     1   0  1   1        1    0   1   0   0 ...      0    0     0   \n",
       "3        0     0   1  0   0        0    0   0   0   0 ...      0    0     0   \n",
       "\n",
       "   편했고,  포함되어있지  한국인  할때  현대적입니다.  호텔이  호텔중  \n",
       "0     0       0    0   0        0    0    1  \n",
       "1     0       0    0   0        0    0    0  \n",
       "2     1       1    1   1        1    0    0  \n",
       "3     0       0    0   0        0    1    0  \n",
       "\n",
       "[4 rows x 54 columns]"
      ]
     },
     "execution_count": 49,
     "metadata": {},
     "output_type": "execute_result"
    }
   ],
   "source": [
    "review_tokens = review[\"리뷰\"].str.get_dummies(sep=\" \")\n",
    "review_tokens"
   ]
  },
  {
   "cell_type": "markdown",
   "metadata": {},
   "source": [
    "### 파일 저장하기"
   ]
  },
  {
   "cell_type": "code",
   "execution_count": 51,
   "metadata": {},
   "outputs": [
    {
     "name": "stdout",
     "output_type": "stream",
     "text": [
      "(40000, 3)\n",
      "CPU times: user 1.31 s, sys: 75.6 ms, total: 1.39 s\n",
      "Wall time: 1.49 s\n"
     ]
    }
   ],
   "source": [
    "%%time\n",
    "\n",
    "review_large = pd.concat([review.copy() for _ in range(10000)])\n",
    "print(review_large.shape)\n",
    "review_large.head()"
   ]
  },
  {
   "cell_type": "markdown",
   "metadata": {},
   "source": [
    "#### 1) CSV\n",
    "- 작은 데이터 저장에 용이\n",
    "- 데이터가 어마어마하게 큰 경우는 추천 X\n",
    "    - 그런 경우 1) pickle"
   ]
  },
  {
   "cell_type": "code",
   "execution_count": 52,
   "metadata": {},
   "outputs": [
    {
     "name": "stdout",
     "output_type": "stream",
     "text": [
      "CPU times: user 110 ms, sys: 9.24 ms, total: 120 ms\n",
      "Wall time: 121 ms\n"
     ]
    }
   ],
   "source": [
    "%time review_large.to_csv(\"review-large.csv\", index=False)"
   ]
  },
  {
   "cell_type": "code",
   "execution_count": 54,
   "metadata": {
    "scrolled": true
   },
   "outputs": [
    {
     "name": "stdout",
     "output_type": "stream",
     "text": [
      "CPU times: user 52 ms, sys: 12.3 ms, total: 64.2 ms\n",
      "Wall time: 65.6 ms\n"
     ]
    },
    {
     "data": {
      "text/html": [
       "<div>\n",
       "<style scoped>\n",
       "    .dataframe tbody tr th:only-of-type {\n",
       "        vertical-align: middle;\n",
       "    }\n",
       "\n",
       "    .dataframe tbody tr th {\n",
       "        vertical-align: top;\n",
       "    }\n",
       "\n",
       "    .dataframe thead th {\n",
       "        text-align: right;\n",
       "    }\n",
       "</style>\n",
       "<table border=\"1\" class=\"dataframe\">\n",
       "  <thead>\n",
       "    <tr style=\"text-align: right;\">\n",
       "      <th></th>\n",
       "      <th>사용자</th>\n",
       "      <th>리뷰</th>\n",
       "      <th>평점</th>\n",
       "    </tr>\n",
       "  </thead>\n",
       "  <tbody>\n",
       "    <tr>\n",
       "      <th>0</th>\n",
       "      <td>김경이</td>\n",
       "      <td>위치나 시설, 직원태도등 최근 방문한 호텔중 Best였음.</td>\n",
       "      <td>8점</td>\n",
       "    </tr>\n",
       "  </tbody>\n",
       "</table>\n",
       "</div>"
      ],
      "text/plain": [
       "   사용자                                리뷰  평점\n",
       "0  김경이  위치나 시설, 직원태도등 최근 방문한 호텔중 Best였음.  8점"
      ]
     },
     "execution_count": 54,
     "metadata": {},
     "output_type": "execute_result"
    }
   ],
   "source": [
    "%time review_large = pd.read_csv(\"review-large.csv\")\n",
    "review_large.head(1)"
   ]
  },
  {
   "cell_type": "markdown",
   "metadata": {},
   "source": [
    "### 2) pickle\n",
    "- 장점\n",
    "    - python에서 구현한 어떤 데이터도 저장할 수 있음\n",
    "    - csv보다 8~10배 속도가 빠름\n",
    "    - 용량이 커지면 csv보다 pickle을 활용"
   ]
  },
  {
   "cell_type": "code",
   "execution_count": 55,
   "metadata": {},
   "outputs": [],
   "source": [
    "import pickle"
   ]
  },
  {
   "cell_type": "code",
   "execution_count": 56,
   "metadata": {},
   "outputs": [
    {
     "name": "stdout",
     "output_type": "stream",
     "text": [
      "CPU times: user 5.15 ms, sys: 3.3 ms, total: 8.45 ms\n",
      "Wall time: 10.3 ms\n"
     ]
    }
   ],
   "source": [
    "%time pickle.dump(review_large, open(\"review_large.p\", \"wb\"))"
   ]
  },
  {
   "cell_type": "code",
   "execution_count": 57,
   "metadata": {},
   "outputs": [
    {
     "name": "stdout",
     "output_type": "stream",
     "text": [
      "CPU times: user 5.68 ms, sys: 3.74 ms, total: 9.42 ms\n",
      "Wall time: 13.7 ms\n"
     ]
    },
    {
     "data": {
      "text/html": [
       "<div>\n",
       "<style scoped>\n",
       "    .dataframe tbody tr th:only-of-type {\n",
       "        vertical-align: middle;\n",
       "    }\n",
       "\n",
       "    .dataframe tbody tr th {\n",
       "        vertical-align: top;\n",
       "    }\n",
       "\n",
       "    .dataframe thead th {\n",
       "        text-align: right;\n",
       "    }\n",
       "</style>\n",
       "<table border=\"1\" class=\"dataframe\">\n",
       "  <thead>\n",
       "    <tr style=\"text-align: right;\">\n",
       "      <th></th>\n",
       "      <th>사용자</th>\n",
       "      <th>리뷰</th>\n",
       "      <th>평점</th>\n",
       "    </tr>\n",
       "  </thead>\n",
       "  <tbody>\n",
       "    <tr>\n",
       "      <th>0</th>\n",
       "      <td>김경이</td>\n",
       "      <td>위치나 시설, 직원태도등 최근 방문한 호텔중 Best였음.</td>\n",
       "      <td>8점</td>\n",
       "    </tr>\n",
       "  </tbody>\n",
       "</table>\n",
       "</div>"
      ],
      "text/plain": [
       "   사용자                                리뷰  평점\n",
       "0  김경이  위치나 시설, 직원태도등 최근 방문한 호텔중 Best였음.  8점"
      ]
     },
     "execution_count": 57,
     "metadata": {},
     "output_type": "execute_result"
    }
   ],
   "source": [
    "%time review_large = pickle.load(open(\"review_large.p\", \"rb\"))\n",
    "review_large.head(1)"
   ]
  },
  {
   "cell_type": "markdown",
   "metadata": {},
   "source": [
    "#### check file size"
   ]
  },
  {
   "cell_type": "code",
   "execution_count": 58,
   "metadata": {},
   "outputs": [
    {
     "name": "stdout",
     "output_type": "stream",
     "text": [
      "7070024\r\n"
     ]
    }
   ],
   "source": [
    "!stat -f \"%z\" 'review-large.csv'"
   ]
  },
  {
   "cell_type": "code",
   "execution_count": 60,
   "metadata": {},
   "outputs": [
    {
     "name": "stdout",
     "output_type": "stream",
     "text": [
      "241761\r\n"
     ]
    }
   ],
   "source": [
    "!stat -f \"%z\" 'review_large.p'"
   ]
  },
  {
   "cell_type": "markdown",
   "metadata": {},
   "source": [
    "### 3) joblib\n",
    "- 장점\n",
    "    - pickle에 비해 속도가 느리지만, 50배 정도 용량이 작다.\n",
    "    - pickle로 저장하기에도 용량이 너무 크다면 joblib을 쓰는 게 낫다."
   ]
  },
  {
   "cell_type": "code",
   "execution_count": 61,
   "metadata": {},
   "outputs": [
    {
     "name": "stdout",
     "output_type": "stream",
     "text": [
      "Collecting joblib\n",
      "\u001b[?25l  Downloading https://files.pythonhosted.org/packages/4f/51/870b2ec270fc29c5d89f85353da420606a9cb39fba4747127e7c7d7eb25d/joblib-0.11-py2.py3-none-any.whl (176kB)\n",
      "\u001b[K    100% |████████████████████████████████| 184kB 1.6MB/s ta 0:00:01\n",
      "\u001b[?25hInstalling collected packages: joblib\n",
      "Successfully installed joblib-0.11\n"
     ]
    }
   ],
   "source": [
    "!pip3 install joblib"
   ]
  },
  {
   "cell_type": "code",
   "execution_count": 64,
   "metadata": {},
   "outputs": [
    {
     "name": "stdout",
     "output_type": "stream",
     "text": [
      "CPU times: user 11 ms, sys: 1.74 ms, total: 12.8 ms\n",
      "Wall time: 11.6 ms\n"
     ]
    },
    {
     "data": {
      "text/plain": [
       "['review_large.pkl']"
      ]
     },
     "execution_count": 64,
     "metadata": {},
     "output_type": "execute_result"
    }
   ],
   "source": [
    "import joblib\n",
    "# from sklearn.exceptions import joblib\n",
    "\n",
    "%time joblib.dump(review_large, 'review_large.pkl', compress=True)"
   ]
  },
  {
   "cell_type": "code",
   "execution_count": 65,
   "metadata": {},
   "outputs": [
    {
     "name": "stdout",
     "output_type": "stream",
     "text": [
      "CPU times: user 10.3 ms, sys: 5.04 ms, total: 15.3 ms\n",
      "Wall time: 13.8 ms\n"
     ]
    },
    {
     "data": {
      "text/html": [
       "<div>\n",
       "<style scoped>\n",
       "    .dataframe tbody tr th:only-of-type {\n",
       "        vertical-align: middle;\n",
       "    }\n",
       "\n",
       "    .dataframe tbody tr th {\n",
       "        vertical-align: top;\n",
       "    }\n",
       "\n",
       "    .dataframe thead th {\n",
       "        text-align: right;\n",
       "    }\n",
       "</style>\n",
       "<table border=\"1\" class=\"dataframe\">\n",
       "  <thead>\n",
       "    <tr style=\"text-align: right;\">\n",
       "      <th></th>\n",
       "      <th>사용자</th>\n",
       "      <th>리뷰</th>\n",
       "      <th>평점</th>\n",
       "    </tr>\n",
       "  </thead>\n",
       "  <tbody>\n",
       "    <tr>\n",
       "      <th>0</th>\n",
       "      <td>김경이</td>\n",
       "      <td>위치나 시설, 직원태도등 최근 방문한 호텔중 Best였음.</td>\n",
       "      <td>8점</td>\n",
       "    </tr>\n",
       "  </tbody>\n",
       "</table>\n",
       "</div>"
      ],
      "text/plain": [
       "   사용자                                리뷰  평점\n",
       "0  김경이  위치나 시설, 직원태도등 최근 방문한 호텔중 Best였음.  8점"
      ]
     },
     "execution_count": 65,
     "metadata": {},
     "output_type": "execute_result"
    }
   ],
   "source": [
    "%time review_large = joblib.load('review_large.pkl')\n",
    "review_large.head(1)"
   ]
  },
  {
   "cell_type": "code",
   "execution_count": 66,
   "metadata": {},
   "outputs": [
    {
     "name": "stdout",
     "output_type": "stream",
     "text": [
      "5557\r\n"
     ]
    }
   ],
   "source": [
    "!stat -f \"%z\" 'review_large.pkl'"
   ]
  },
  {
   "cell_type": "code",
   "execution_count": null,
   "metadata": {},
   "outputs": [],
   "source": []
  }
 ],
 "metadata": {
  "kernelspec": {
   "display_name": "Python 3",
   "language": "python",
   "name": "python3"
  },
  "language_info": {
   "codemirror_mode": {
    "name": "ipython",
    "version": 3
   },
   "file_extension": ".py",
   "mimetype": "text/x-python",
   "name": "python",
   "nbconvert_exporter": "python",
   "pygments_lexer": "ipython3",
   "version": "3.6.5"
  }
 },
 "nbformat": 4,
 "nbformat_minor": 2
}
