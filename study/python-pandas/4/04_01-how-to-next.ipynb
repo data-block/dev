{
 "cells": [
  {
   "cell_type": "markdown",
   "metadata": {},
   "source": [
    "## Prerequisites"
   ]
  },
  {
   "cell_type": "code",
   "execution_count": 2,
   "metadata": {},
   "outputs": [],
   "source": [
    "import pandas as pd"
   ]
  },
  {
   "cell_type": "code",
   "execution_count": 6,
   "metadata": {},
   "outputs": [
    {
     "data": {
      "text/html": [
       "<div>\n",
       "<style scoped>\n",
       "    .dataframe tbody tr th:only-of-type {\n",
       "        vertical-align: middle;\n",
       "    }\n",
       "\n",
       "    .dataframe tbody tr th {\n",
       "        vertical-align: top;\n",
       "    }\n",
       "\n",
       "    .dataframe thead th {\n",
       "        text-align: right;\n",
       "    }\n",
       "</style>\n",
       "<table border=\"1\" class=\"dataframe\">\n",
       "  <thead>\n",
       "    <tr style=\"text-align: right;\">\n",
       "      <th></th>\n",
       "      <th>분류</th>\n",
       "      <th>회사명</th>\n",
       "      <th>직군</th>\n",
       "      <th>연봉</th>\n",
       "      <th>연차</th>\n",
       "    </tr>\n",
       "    <tr>\n",
       "      <th>이름</th>\n",
       "      <th></th>\n",
       "      <th></th>\n",
       "      <th></th>\n",
       "      <th></th>\n",
       "      <th></th>\n",
       "    </tr>\n",
       "  </thead>\n",
       "  <tbody>\n",
       "    <tr>\n",
       "      <th>김성훈</th>\n",
       "      <td>IT회사</td>\n",
       "      <td>네이버</td>\n",
       "      <td>디자이너</td>\n",
       "      <td>5000</td>\n",
       "      <td>3</td>\n",
       "    </tr>\n",
       "    <tr>\n",
       "      <th>양세민</th>\n",
       "      <td>IT회사</td>\n",
       "      <td>네이버</td>\n",
       "      <td>개발자</td>\n",
       "      <td>6000</td>\n",
       "      <td>5</td>\n",
       "    </tr>\n",
       "    <tr>\n",
       "      <th>최양미</th>\n",
       "      <td>IT회사</td>\n",
       "      <td>카카오</td>\n",
       "      <td>개발자</td>\n",
       "      <td>6000</td>\n",
       "      <td>5</td>\n",
       "    </tr>\n",
       "    <tr>\n",
       "      <th>남성필</th>\n",
       "      <td>IT회사</td>\n",
       "      <td>SK플래닛</td>\n",
       "      <td>디자이너</td>\n",
       "      <td>5500</td>\n",
       "      <td>4</td>\n",
       "    </tr>\n",
       "    <tr>\n",
       "      <th>강민우</th>\n",
       "      <td>금융회사</td>\n",
       "      <td>KB금융</td>\n",
       "      <td>개발자</td>\n",
       "      <td>4500</td>\n",
       "      <td>2</td>\n",
       "    </tr>\n",
       "  </tbody>\n",
       "</table>\n",
       "</div>"
      ],
      "text/plain": [
       "       분류    회사명    직군    연봉  연차\n",
       "이름                              \n",
       "김성훈  IT회사    네이버  디자이너  5000   3\n",
       "양세민  IT회사    네이버   개발자  6000   5\n",
       "최양미  IT회사    카카오   개발자  6000   5\n",
       "남성필  IT회사  SK플래닛  디자이너  5500   4\n",
       "강민우  금융회사   KB금융   개발자  4500   2"
      ]
     },
     "execution_count": 6,
     "metadata": {},
     "output_type": "execute_result"
    }
   ],
   "source": [
    "data = [\n",
    "    {'분류': 'IT회사', '회사명': '네이버', '직군': '디자이너', '이름': '김성훈', '연봉': 5000, '연차': 3},\n",
    "    {'분류': 'IT회사', '회사명': '네이버', '직군': '개발자', '이름': '양세민', '연봉': 6000, '연차': 5},\n",
    "    {'분류': 'IT회사', '회사명': '카카오', '직군': '개발자', '이름': '최양미', '연봉': 6000, '연차': 5},\n",
    "    {'분류': 'IT회사', '회사명': 'SK플래닛', '직군': '디자이너', '이름': '남성필', '연봉': 5500, '연차': 4},\n",
    "    {'분류': '금융회사', '회사명': 'KB금융', '직군': '개발자', '이름': '강민우', '연봉': 4500, '연차': 2},\n",
    "]\n",
    "\n",
    "data = pd.DataFrame(data)\n",
    "data = data[[\"분류\", \"회사명\", \"직군\", \"이름\", \"연봉\", \"연차\"]]\n",
    "data = data.set_index(\"이름\")\n",
    "\n",
    "data"
   ]
  },
  {
   "cell_type": "markdown",
   "metadata": {},
   "source": [
    "### Group By\n",
    "\n",
    "[groupby](https://pandas.pydata.org/pandas-docs/stable/generated/pandas.DataFrame.groupby.html)는 데이터프레임의 특정 컬럼(내지는 컬럼들)을 그룹화합니다. groupby의 특징은, groupby 자신만으로는 아무런 결과가 나오지 않습니다. groupby를 한 이후의 행동(ex: sum, mean, diff, etc)에 따라 결과가 다르게 나옵니다.\n",
    "\n",
    "그러므로 groupby를 이해하는 가장 좋은 방법은, groupby만이 아닌 groupby와 연관되는 다른 기능들을 통채로 외워서 사용하는 것입니다. (groupby-sum, groupby-mean, etc)"
   ]
  },
  {
   "cell_type": "code",
   "execution_count": 7,
   "metadata": {},
   "outputs": [
    {
     "data": {
      "text/plain": [
       "<pandas.core.groupby.DataFrameGroupBy object at 0x11010b048>"
      ]
     },
     "execution_count": 7,
     "metadata": {},
     "output_type": "execute_result"
    }
   ],
   "source": [
    "# '분류' 컬럼으로 그룹화\n",
    "group_category = data.groupby('분류')\n",
    "group_category"
   ]
  },
  {
   "cell_type": "code",
   "execution_count": 8,
   "metadata": {},
   "outputs": [
    {
     "data": {
      "text/plain": [
       "'분류'"
      ]
     },
     "execution_count": 8,
     "metadata": {},
     "output_type": "execute_result"
    }
   ],
   "source": [
    "group_category.keys"
   ]
  },
  {
   "cell_type": "code",
   "execution_count": 16,
   "metadata": {},
   "outputs": [],
   "source": [
    "# data['분류']\n",
    "# data.groupby('분류').nunique()\n",
    "# data['분류'].value_counts()"
   ]
  },
  {
   "cell_type": "code",
   "execution_count": 17,
   "metadata": {},
   "outputs": [
    {
     "data": {
      "text/plain": [
       "{'IT회사': Index(['김성훈', '양세민', '최양미', '남성필'], dtype='object', name='이름'),\n",
       " '금융회사': Index(['강민우'], dtype='object', name='이름')}"
      ]
     },
     "execution_count": 17,
     "metadata": {},
     "output_type": "execute_result"
    }
   ],
   "source": [
    "# '분류' 컬럼의 값을 기준으로 그룹화\n",
    "# 현재 분류 컬럼에는 1) IT회사, 2) 금융회사 이렇게 두 개의 값이 있음\n",
    "group_category.groups"
   ]
  },
  {
   "cell_type": "code",
   "execution_count": 18,
   "metadata": {},
   "outputs": [
    {
     "data": {
      "text/html": [
       "<div>\n",
       "<style scoped>\n",
       "    .dataframe tbody tr th:only-of-type {\n",
       "        vertical-align: middle;\n",
       "    }\n",
       "\n",
       "    .dataframe tbody tr th {\n",
       "        vertical-align: top;\n",
       "    }\n",
       "\n",
       "    .dataframe thead tr th {\n",
       "        text-align: left;\n",
       "    }\n",
       "\n",
       "    .dataframe thead tr:last-of-type th {\n",
       "        text-align: right;\n",
       "    }\n",
       "</style>\n",
       "<table border=\"1\" class=\"dataframe\">\n",
       "  <thead>\n",
       "    <tr>\n",
       "      <th></th>\n",
       "      <th colspan=\"8\" halign=\"left\">연봉</th>\n",
       "      <th colspan=\"8\" halign=\"left\">연차</th>\n",
       "    </tr>\n",
       "    <tr>\n",
       "      <th></th>\n",
       "      <th>count</th>\n",
       "      <th>mean</th>\n",
       "      <th>std</th>\n",
       "      <th>min</th>\n",
       "      <th>25%</th>\n",
       "      <th>50%</th>\n",
       "      <th>75%</th>\n",
       "      <th>max</th>\n",
       "      <th>count</th>\n",
       "      <th>mean</th>\n",
       "      <th>std</th>\n",
       "      <th>min</th>\n",
       "      <th>25%</th>\n",
       "      <th>50%</th>\n",
       "      <th>75%</th>\n",
       "      <th>max</th>\n",
       "    </tr>\n",
       "    <tr>\n",
       "      <th>분류</th>\n",
       "      <th></th>\n",
       "      <th></th>\n",
       "      <th></th>\n",
       "      <th></th>\n",
       "      <th></th>\n",
       "      <th></th>\n",
       "      <th></th>\n",
       "      <th></th>\n",
       "      <th></th>\n",
       "      <th></th>\n",
       "      <th></th>\n",
       "      <th></th>\n",
       "      <th></th>\n",
       "      <th></th>\n",
       "      <th></th>\n",
       "      <th></th>\n",
       "    </tr>\n",
       "  </thead>\n",
       "  <tbody>\n",
       "    <tr>\n",
       "      <th>IT회사</th>\n",
       "      <td>4.0</td>\n",
       "      <td>5625.0</td>\n",
       "      <td>478.713554</td>\n",
       "      <td>5000.0</td>\n",
       "      <td>5375.0</td>\n",
       "      <td>5750.0</td>\n",
       "      <td>6000.0</td>\n",
       "      <td>6000.0</td>\n",
       "      <td>4.0</td>\n",
       "      <td>4.25</td>\n",
       "      <td>0.957427</td>\n",
       "      <td>3.0</td>\n",
       "      <td>3.75</td>\n",
       "      <td>4.5</td>\n",
       "      <td>5.0</td>\n",
       "      <td>5.0</td>\n",
       "    </tr>\n",
       "    <tr>\n",
       "      <th>금융회사</th>\n",
       "      <td>1.0</td>\n",
       "      <td>4500.0</td>\n",
       "      <td>NaN</td>\n",
       "      <td>4500.0</td>\n",
       "      <td>4500.0</td>\n",
       "      <td>4500.0</td>\n",
       "      <td>4500.0</td>\n",
       "      <td>4500.0</td>\n",
       "      <td>1.0</td>\n",
       "      <td>2.00</td>\n",
       "      <td>NaN</td>\n",
       "      <td>2.0</td>\n",
       "      <td>2.00</td>\n",
       "      <td>2.0</td>\n",
       "      <td>2.0</td>\n",
       "      <td>2.0</td>\n",
       "    </tr>\n",
       "  </tbody>\n",
       "</table>\n",
       "</div>"
      ],
      "text/plain": [
       "        연봉                                                                연차  \\\n",
       "     count    mean         std     min     25%     50%     75%     max count   \n",
       "분류                                                                             \n",
       "IT회사   4.0  5625.0  478.713554  5000.0  5375.0  5750.0  6000.0  6000.0   4.0   \n",
       "금융회사   1.0  4500.0         NaN  4500.0  4500.0  4500.0  4500.0  4500.0   1.0   \n",
       "\n",
       "                                                \n",
       "      mean       std  min   25%  50%  75%  max  \n",
       "분류                                              \n",
       "IT회사  4.25  0.957427  3.0  3.75  4.5  5.0  5.0  \n",
       "금융회사  2.00       NaN  2.0  2.00  2.0  2.0  2.0  "
      ]
     },
     "execution_count": 18,
     "metadata": {},
     "output_type": "execute_result"
    }
   ],
   "source": [
    "# 간단한 통계정보\n",
    "group_category.describe()"
   ]
  },
  {
   "cell_type": "code",
   "execution_count": 19,
   "metadata": {},
   "outputs": [
    {
     "data": {
      "text/html": [
       "<div>\n",
       "<style scoped>\n",
       "    .dataframe tbody tr th:only-of-type {\n",
       "        vertical-align: middle;\n",
       "    }\n",
       "\n",
       "    .dataframe tbody tr th {\n",
       "        vertical-align: top;\n",
       "    }\n",
       "\n",
       "    .dataframe thead th {\n",
       "        text-align: right;\n",
       "    }\n",
       "</style>\n",
       "<table border=\"1\" class=\"dataframe\">\n",
       "  <thead>\n",
       "    <tr style=\"text-align: right;\">\n",
       "      <th></th>\n",
       "      <th>count</th>\n",
       "      <th>mean</th>\n",
       "      <th>std</th>\n",
       "      <th>min</th>\n",
       "      <th>25%</th>\n",
       "      <th>50%</th>\n",
       "      <th>75%</th>\n",
       "      <th>max</th>\n",
       "    </tr>\n",
       "    <tr>\n",
       "      <th>분류</th>\n",
       "      <th></th>\n",
       "      <th></th>\n",
       "      <th></th>\n",
       "      <th></th>\n",
       "      <th></th>\n",
       "      <th></th>\n",
       "      <th></th>\n",
       "      <th></th>\n",
       "    </tr>\n",
       "  </thead>\n",
       "  <tbody>\n",
       "    <tr>\n",
       "      <th>IT회사</th>\n",
       "      <td>4.0</td>\n",
       "      <td>5625.0</td>\n",
       "      <td>478.713554</td>\n",
       "      <td>5000.0</td>\n",
       "      <td>5375.0</td>\n",
       "      <td>5750.0</td>\n",
       "      <td>6000.0</td>\n",
       "      <td>6000.0</td>\n",
       "    </tr>\n",
       "    <tr>\n",
       "      <th>금융회사</th>\n",
       "      <td>1.0</td>\n",
       "      <td>4500.0</td>\n",
       "      <td>NaN</td>\n",
       "      <td>4500.0</td>\n",
       "      <td>4500.0</td>\n",
       "      <td>4500.0</td>\n",
       "      <td>4500.0</td>\n",
       "      <td>4500.0</td>\n",
       "    </tr>\n",
       "  </tbody>\n",
       "</table>\n",
       "</div>"
      ],
      "text/plain": [
       "      count    mean         std     min     25%     50%     75%     max\n",
       "분류                                                                     \n",
       "IT회사    4.0  5625.0  478.713554  5000.0  5375.0  5750.0  6000.0  6000.0\n",
       "금융회사    1.0  4500.0         NaN  4500.0  4500.0  4500.0  4500.0  4500.0"
      ]
     },
     "execution_count": 19,
     "metadata": {},
     "output_type": "execute_result"
    }
   ],
   "source": [
    "# 특정 컬럼의 통계정보\n",
    "group_category[\"연봉\"].describe()"
   ]
  },
  {
   "cell_type": "code",
   "execution_count": 20,
   "metadata": {},
   "outputs": [
    {
     "data": {
      "text/html": [
       "<div>\n",
       "<style scoped>\n",
       "    .dataframe tbody tr th:only-of-type {\n",
       "        vertical-align: middle;\n",
       "    }\n",
       "\n",
       "    .dataframe tbody tr th {\n",
       "        vertical-align: top;\n",
       "    }\n",
       "\n",
       "    .dataframe thead th {\n",
       "        text-align: right;\n",
       "    }\n",
       "</style>\n",
       "<table border=\"1\" class=\"dataframe\">\n",
       "  <thead>\n",
       "    <tr style=\"text-align: right;\">\n",
       "      <th></th>\n",
       "      <th>count</th>\n",
       "      <th>mean</th>\n",
       "      <th>std</th>\n",
       "      <th>min</th>\n",
       "      <th>25%</th>\n",
       "      <th>50%</th>\n",
       "      <th>75%</th>\n",
       "      <th>max</th>\n",
       "    </tr>\n",
       "    <tr>\n",
       "      <th>분류</th>\n",
       "      <th></th>\n",
       "      <th></th>\n",
       "      <th></th>\n",
       "      <th></th>\n",
       "      <th></th>\n",
       "      <th></th>\n",
       "      <th></th>\n",
       "      <th></th>\n",
       "    </tr>\n",
       "  </thead>\n",
       "  <tbody>\n",
       "    <tr>\n",
       "      <th>IT회사</th>\n",
       "      <td>4.0</td>\n",
       "      <td>4.25</td>\n",
       "      <td>0.957427</td>\n",
       "      <td>3.0</td>\n",
       "      <td>3.75</td>\n",
       "      <td>4.5</td>\n",
       "      <td>5.0</td>\n",
       "      <td>5.0</td>\n",
       "    </tr>\n",
       "    <tr>\n",
       "      <th>금융회사</th>\n",
       "      <td>1.0</td>\n",
       "      <td>2.00</td>\n",
       "      <td>NaN</td>\n",
       "      <td>2.0</td>\n",
       "      <td>2.00</td>\n",
       "      <td>2.0</td>\n",
       "      <td>2.0</td>\n",
       "      <td>2.0</td>\n",
       "    </tr>\n",
       "  </tbody>\n",
       "</table>\n",
       "</div>"
      ],
      "text/plain": [
       "      count  mean       std  min   25%  50%  75%  max\n",
       "분류                                                   \n",
       "IT회사    4.0  4.25  0.957427  3.0  3.75  4.5  5.0  5.0\n",
       "금융회사    1.0  2.00       NaN  2.0  2.00  2.0  2.0  2.0"
      ]
     },
     "execution_count": 20,
     "metadata": {},
     "output_type": "execute_result"
    }
   ],
   "source": [
    "group_category[\"연차\"].describe()"
   ]
  },
  {
   "cell_type": "code",
   "execution_count": 21,
   "metadata": {},
   "outputs": [
    {
     "data": {
      "text/html": [
       "<div>\n",
       "<style scoped>\n",
       "    .dataframe tbody tr th:only-of-type {\n",
       "        vertical-align: middle;\n",
       "    }\n",
       "\n",
       "    .dataframe tbody tr th {\n",
       "        vertical-align: top;\n",
       "    }\n",
       "\n",
       "    .dataframe thead th {\n",
       "        text-align: right;\n",
       "    }\n",
       "</style>\n",
       "<table border=\"1\" class=\"dataframe\">\n",
       "  <thead>\n",
       "    <tr style=\"text-align: right;\">\n",
       "      <th></th>\n",
       "      <th>연봉</th>\n",
       "      <th>연차</th>\n",
       "    </tr>\n",
       "    <tr>\n",
       "      <th>분류</th>\n",
       "      <th></th>\n",
       "      <th></th>\n",
       "    </tr>\n",
       "  </thead>\n",
       "  <tbody>\n",
       "    <tr>\n",
       "      <th>IT회사</th>\n",
       "      <td>5625.0</td>\n",
       "      <td>4.25</td>\n",
       "    </tr>\n",
       "    <tr>\n",
       "      <th>금융회사</th>\n",
       "      <td>4500.0</td>\n",
       "      <td>2.00</td>\n",
       "    </tr>\n",
       "  </tbody>\n",
       "</table>\n",
       "</div>"
      ],
      "text/plain": [
       "          연봉    연차\n",
       "분류                \n",
       "IT회사  5625.0  4.25\n",
       "금융회사  4500.0  2.00"
      ]
     },
     "execution_count": 21,
     "metadata": {},
     "output_type": "execute_result"
    }
   ],
   "source": [
    "# 전체 통계 정보가 아닌 일부(ex: mean, sum)만 보는 것도 가능\n",
    "group_category.mean()"
   ]
  },
  {
   "cell_type": "code",
   "execution_count": 22,
   "metadata": {},
   "outputs": [
    {
     "data": {
      "text/html": [
       "<div>\n",
       "<style scoped>\n",
       "    .dataframe tbody tr th:only-of-type {\n",
       "        vertical-align: middle;\n",
       "    }\n",
       "\n",
       "    .dataframe tbody tr th {\n",
       "        vertical-align: top;\n",
       "    }\n",
       "\n",
       "    .dataframe thead th {\n",
       "        text-align: right;\n",
       "    }\n",
       "</style>\n",
       "<table border=\"1\" class=\"dataframe\">\n",
       "  <thead>\n",
       "    <tr style=\"text-align: right;\">\n",
       "      <th></th>\n",
       "      <th>연봉</th>\n",
       "      <th>연차</th>\n",
       "    </tr>\n",
       "    <tr>\n",
       "      <th>분류</th>\n",
       "      <th></th>\n",
       "      <th></th>\n",
       "    </tr>\n",
       "  </thead>\n",
       "  <tbody>\n",
       "    <tr>\n",
       "      <th>IT회사</th>\n",
       "      <td>22500</td>\n",
       "      <td>17</td>\n",
       "    </tr>\n",
       "    <tr>\n",
       "      <th>금융회사</th>\n",
       "      <td>4500</td>\n",
       "      <td>2</td>\n",
       "    </tr>\n",
       "  </tbody>\n",
       "</table>\n",
       "</div>"
      ],
      "text/plain": [
       "         연봉  연차\n",
       "분류             \n",
       "IT회사  22500  17\n",
       "금융회사   4500   2"
      ]
     },
     "execution_count": 22,
     "metadata": {},
     "output_type": "execute_result"
    }
   ],
   "source": [
    "group_category.sum()"
   ]
  },
  {
   "cell_type": "code",
   "execution_count": 23,
   "metadata": {},
   "outputs": [
    {
     "data": {
      "text/plain": [
       "<pandas.core.groupby.DataFrameGroupBy object at 0x1102a1c18>"
      ]
     },
     "execution_count": 23,
     "metadata": {},
     "output_type": "execute_result"
    }
   ],
   "source": [
    "# 그룹화는 한 컬럼이 아닌 여러 컬럼도 가능.\n",
    "# 나머지 기능들은 이전과 거의 동일\n",
    "\n",
    "group_company = data.groupby(['분류', '회사명'])\n",
    "group_company"
   ]
  },
  {
   "cell_type": "code",
   "execution_count": 24,
   "metadata": {},
   "outputs": [
    {
     "data": {
      "text/plain": [
       "['분류', '회사명']"
      ]
     },
     "execution_count": 24,
     "metadata": {},
     "output_type": "execute_result"
    }
   ],
   "source": [
    "group_company.keys"
   ]
  },
  {
   "cell_type": "code",
   "execution_count": 25,
   "metadata": {},
   "outputs": [
    {
     "data": {
      "text/plain": [
       "{('IT회사', 'SK플래닛'): Index(['남성필'], dtype='object', name='이름'),\n",
       " ('IT회사', '네이버'): Index(['김성훈', '양세민'], dtype='object', name='이름'),\n",
       " ('IT회사', '카카오'): Index(['최양미'], dtype='object', name='이름'),\n",
       " ('금융회사', 'KB금융'): Index(['강민우'], dtype='object', name='이름')}"
      ]
     },
     "execution_count": 25,
     "metadata": {},
     "output_type": "execute_result"
    }
   ],
   "source": [
    "group_company.groups"
   ]
  },
  {
   "cell_type": "code",
   "execution_count": 26,
   "metadata": {},
   "outputs": [
    {
     "data": {
      "text/html": [
       "<div>\n",
       "<style scoped>\n",
       "    .dataframe tbody tr th:only-of-type {\n",
       "        vertical-align: middle;\n",
       "    }\n",
       "\n",
       "    .dataframe tbody tr th {\n",
       "        vertical-align: top;\n",
       "    }\n",
       "\n",
       "    .dataframe thead tr th {\n",
       "        text-align: left;\n",
       "    }\n",
       "\n",
       "    .dataframe thead tr:last-of-type th {\n",
       "        text-align: right;\n",
       "    }\n",
       "</style>\n",
       "<table border=\"1\" class=\"dataframe\">\n",
       "  <thead>\n",
       "    <tr>\n",
       "      <th></th>\n",
       "      <th></th>\n",
       "      <th colspan=\"8\" halign=\"left\">연봉</th>\n",
       "      <th colspan=\"8\" halign=\"left\">연차</th>\n",
       "    </tr>\n",
       "    <tr>\n",
       "      <th></th>\n",
       "      <th></th>\n",
       "      <th>count</th>\n",
       "      <th>mean</th>\n",
       "      <th>std</th>\n",
       "      <th>min</th>\n",
       "      <th>25%</th>\n",
       "      <th>50%</th>\n",
       "      <th>75%</th>\n",
       "      <th>max</th>\n",
       "      <th>count</th>\n",
       "      <th>mean</th>\n",
       "      <th>std</th>\n",
       "      <th>min</th>\n",
       "      <th>25%</th>\n",
       "      <th>50%</th>\n",
       "      <th>75%</th>\n",
       "      <th>max</th>\n",
       "    </tr>\n",
       "    <tr>\n",
       "      <th>분류</th>\n",
       "      <th>회사명</th>\n",
       "      <th></th>\n",
       "      <th></th>\n",
       "      <th></th>\n",
       "      <th></th>\n",
       "      <th></th>\n",
       "      <th></th>\n",
       "      <th></th>\n",
       "      <th></th>\n",
       "      <th></th>\n",
       "      <th></th>\n",
       "      <th></th>\n",
       "      <th></th>\n",
       "      <th></th>\n",
       "      <th></th>\n",
       "      <th></th>\n",
       "      <th></th>\n",
       "    </tr>\n",
       "  </thead>\n",
       "  <tbody>\n",
       "    <tr>\n",
       "      <th rowspan=\"3\" valign=\"top\">IT회사</th>\n",
       "      <th>SK플래닛</th>\n",
       "      <td>1.0</td>\n",
       "      <td>5500.0</td>\n",
       "      <td>NaN</td>\n",
       "      <td>5500.0</td>\n",
       "      <td>5500.0</td>\n",
       "      <td>5500.0</td>\n",
       "      <td>5500.0</td>\n",
       "      <td>5500.0</td>\n",
       "      <td>1.0</td>\n",
       "      <td>4.0</td>\n",
       "      <td>NaN</td>\n",
       "      <td>4.0</td>\n",
       "      <td>4.0</td>\n",
       "      <td>4.0</td>\n",
       "      <td>4.0</td>\n",
       "      <td>4.0</td>\n",
       "    </tr>\n",
       "    <tr>\n",
       "      <th>네이버</th>\n",
       "      <td>2.0</td>\n",
       "      <td>5500.0</td>\n",
       "      <td>707.106781</td>\n",
       "      <td>5000.0</td>\n",
       "      <td>5250.0</td>\n",
       "      <td>5500.0</td>\n",
       "      <td>5750.0</td>\n",
       "      <td>6000.0</td>\n",
       "      <td>2.0</td>\n",
       "      <td>4.0</td>\n",
       "      <td>1.414214</td>\n",
       "      <td>3.0</td>\n",
       "      <td>3.5</td>\n",
       "      <td>4.0</td>\n",
       "      <td>4.5</td>\n",
       "      <td>5.0</td>\n",
       "    </tr>\n",
       "    <tr>\n",
       "      <th>카카오</th>\n",
       "      <td>1.0</td>\n",
       "      <td>6000.0</td>\n",
       "      <td>NaN</td>\n",
       "      <td>6000.0</td>\n",
       "      <td>6000.0</td>\n",
       "      <td>6000.0</td>\n",
       "      <td>6000.0</td>\n",
       "      <td>6000.0</td>\n",
       "      <td>1.0</td>\n",
       "      <td>5.0</td>\n",
       "      <td>NaN</td>\n",
       "      <td>5.0</td>\n",
       "      <td>5.0</td>\n",
       "      <td>5.0</td>\n",
       "      <td>5.0</td>\n",
       "      <td>5.0</td>\n",
       "    </tr>\n",
       "    <tr>\n",
       "      <th>금융회사</th>\n",
       "      <th>KB금융</th>\n",
       "      <td>1.0</td>\n",
       "      <td>4500.0</td>\n",
       "      <td>NaN</td>\n",
       "      <td>4500.0</td>\n",
       "      <td>4500.0</td>\n",
       "      <td>4500.0</td>\n",
       "      <td>4500.0</td>\n",
       "      <td>4500.0</td>\n",
       "      <td>1.0</td>\n",
       "      <td>2.0</td>\n",
       "      <td>NaN</td>\n",
       "      <td>2.0</td>\n",
       "      <td>2.0</td>\n",
       "      <td>2.0</td>\n",
       "      <td>2.0</td>\n",
       "      <td>2.0</td>\n",
       "    </tr>\n",
       "  </tbody>\n",
       "</table>\n",
       "</div>"
      ],
      "text/plain": [
       "              연봉                                                              \\\n",
       "           count    mean         std     min     25%     50%     75%     max   \n",
       "분류   회사명                                                                       \n",
       "IT회사 SK플래닛   1.0  5500.0         NaN  5500.0  5500.0  5500.0  5500.0  5500.0   \n",
       "     네이버     2.0  5500.0  707.106781  5000.0  5250.0  5500.0  5750.0  6000.0   \n",
       "     카카오     1.0  6000.0         NaN  6000.0  6000.0  6000.0  6000.0  6000.0   \n",
       "금융회사 KB금융    1.0  4500.0         NaN  4500.0  4500.0  4500.0  4500.0  4500.0   \n",
       "\n",
       "              연차                                          \n",
       "           count mean       std  min  25%  50%  75%  max  \n",
       "분류   회사명                                                  \n",
       "IT회사 SK플래닛   1.0  4.0       NaN  4.0  4.0  4.0  4.0  4.0  \n",
       "     네이버     2.0  4.0  1.414214  3.0  3.5  4.0  4.5  5.0  \n",
       "     카카오     1.0  5.0       NaN  5.0  5.0  5.0  5.0  5.0  \n",
       "금융회사 KB금융    1.0  2.0       NaN  2.0  2.0  2.0  2.0  2.0  "
      ]
     },
     "execution_count": 26,
     "metadata": {},
     "output_type": "execute_result"
    }
   ],
   "source": [
    "group_company.describe()"
   ]
  },
  {
   "cell_type": "code",
   "execution_count": 27,
   "metadata": {},
   "outputs": [
    {
     "data": {
      "text/html": [
       "<div>\n",
       "<style scoped>\n",
       "    .dataframe tbody tr th:only-of-type {\n",
       "        vertical-align: middle;\n",
       "    }\n",
       "\n",
       "    .dataframe tbody tr th {\n",
       "        vertical-align: top;\n",
       "    }\n",
       "\n",
       "    .dataframe thead th {\n",
       "        text-align: right;\n",
       "    }\n",
       "</style>\n",
       "<table border=\"1\" class=\"dataframe\">\n",
       "  <thead>\n",
       "    <tr style=\"text-align: right;\">\n",
       "      <th></th>\n",
       "      <th></th>\n",
       "      <th>count</th>\n",
       "      <th>mean</th>\n",
       "      <th>std</th>\n",
       "      <th>min</th>\n",
       "      <th>25%</th>\n",
       "      <th>50%</th>\n",
       "      <th>75%</th>\n",
       "      <th>max</th>\n",
       "    </tr>\n",
       "    <tr>\n",
       "      <th>분류</th>\n",
       "      <th>회사명</th>\n",
       "      <th></th>\n",
       "      <th></th>\n",
       "      <th></th>\n",
       "      <th></th>\n",
       "      <th></th>\n",
       "      <th></th>\n",
       "      <th></th>\n",
       "      <th></th>\n",
       "    </tr>\n",
       "  </thead>\n",
       "  <tbody>\n",
       "    <tr>\n",
       "      <th rowspan=\"3\" valign=\"top\">IT회사</th>\n",
       "      <th>SK플래닛</th>\n",
       "      <td>1.0</td>\n",
       "      <td>5500.0</td>\n",
       "      <td>NaN</td>\n",
       "      <td>5500.0</td>\n",
       "      <td>5500.0</td>\n",
       "      <td>5500.0</td>\n",
       "      <td>5500.0</td>\n",
       "      <td>5500.0</td>\n",
       "    </tr>\n",
       "    <tr>\n",
       "      <th>네이버</th>\n",
       "      <td>2.0</td>\n",
       "      <td>5500.0</td>\n",
       "      <td>707.106781</td>\n",
       "      <td>5000.0</td>\n",
       "      <td>5250.0</td>\n",
       "      <td>5500.0</td>\n",
       "      <td>5750.0</td>\n",
       "      <td>6000.0</td>\n",
       "    </tr>\n",
       "    <tr>\n",
       "      <th>카카오</th>\n",
       "      <td>1.0</td>\n",
       "      <td>6000.0</td>\n",
       "      <td>NaN</td>\n",
       "      <td>6000.0</td>\n",
       "      <td>6000.0</td>\n",
       "      <td>6000.0</td>\n",
       "      <td>6000.0</td>\n",
       "      <td>6000.0</td>\n",
       "    </tr>\n",
       "    <tr>\n",
       "      <th>금융회사</th>\n",
       "      <th>KB금융</th>\n",
       "      <td>1.0</td>\n",
       "      <td>4500.0</td>\n",
       "      <td>NaN</td>\n",
       "      <td>4500.0</td>\n",
       "      <td>4500.0</td>\n",
       "      <td>4500.0</td>\n",
       "      <td>4500.0</td>\n",
       "      <td>4500.0</td>\n",
       "    </tr>\n",
       "  </tbody>\n",
       "</table>\n",
       "</div>"
      ],
      "text/plain": [
       "            count    mean         std     min     25%     50%     75%     max\n",
       "분류   회사명                                                                     \n",
       "IT회사 SK플래닛    1.0  5500.0         NaN  5500.0  5500.0  5500.0  5500.0  5500.0\n",
       "     네이버      2.0  5500.0  707.106781  5000.0  5250.0  5500.0  5750.0  6000.0\n",
       "     카카오      1.0  6000.0         NaN  6000.0  6000.0  6000.0  6000.0  6000.0\n",
       "금융회사 KB금융     1.0  4500.0         NaN  4500.0  4500.0  4500.0  4500.0  4500.0"
      ]
     },
     "execution_count": 27,
     "metadata": {},
     "output_type": "execute_result"
    }
   ],
   "source": [
    "group_company[\"연봉\"].describe()"
   ]
  },
  {
   "cell_type": "code",
   "execution_count": 28,
   "metadata": {},
   "outputs": [
    {
     "data": {
      "text/html": [
       "<div>\n",
       "<style scoped>\n",
       "    .dataframe tbody tr th:only-of-type {\n",
       "        vertical-align: middle;\n",
       "    }\n",
       "\n",
       "    .dataframe tbody tr th {\n",
       "        vertical-align: top;\n",
       "    }\n",
       "\n",
       "    .dataframe thead th {\n",
       "        text-align: right;\n",
       "    }\n",
       "</style>\n",
       "<table border=\"1\" class=\"dataframe\">\n",
       "  <thead>\n",
       "    <tr style=\"text-align: right;\">\n",
       "      <th></th>\n",
       "      <th></th>\n",
       "      <th>연봉</th>\n",
       "      <th>연차</th>\n",
       "    </tr>\n",
       "    <tr>\n",
       "      <th>분류</th>\n",
       "      <th>회사명</th>\n",
       "      <th></th>\n",
       "      <th></th>\n",
       "    </tr>\n",
       "  </thead>\n",
       "  <tbody>\n",
       "    <tr>\n",
       "      <th rowspan=\"3\" valign=\"top\">IT회사</th>\n",
       "      <th>SK플래닛</th>\n",
       "      <td>5500</td>\n",
       "      <td>4</td>\n",
       "    </tr>\n",
       "    <tr>\n",
       "      <th>네이버</th>\n",
       "      <td>5500</td>\n",
       "      <td>4</td>\n",
       "    </tr>\n",
       "    <tr>\n",
       "      <th>카카오</th>\n",
       "      <td>6000</td>\n",
       "      <td>5</td>\n",
       "    </tr>\n",
       "    <tr>\n",
       "      <th>금융회사</th>\n",
       "      <th>KB금융</th>\n",
       "      <td>4500</td>\n",
       "      <td>2</td>\n",
       "    </tr>\n",
       "  </tbody>\n",
       "</table>\n",
       "</div>"
      ],
      "text/plain": [
       "              연봉  연차\n",
       "분류   회사명            \n",
       "IT회사 SK플래닛  5500   4\n",
       "     네이버    5500   4\n",
       "     카카오    6000   5\n",
       "금융회사 KB금융   4500   2"
      ]
     },
     "execution_count": 28,
     "metadata": {},
     "output_type": "execute_result"
    }
   ],
   "source": [
    "group_company.mean()"
   ]
  },
  {
   "cell_type": "code",
   "execution_count": 29,
   "metadata": {},
   "outputs": [
    {
     "data": {
      "text/html": [
       "<div>\n",
       "<style scoped>\n",
       "    .dataframe tbody tr th:only-of-type {\n",
       "        vertical-align: middle;\n",
       "    }\n",
       "\n",
       "    .dataframe tbody tr th {\n",
       "        vertical-align: top;\n",
       "    }\n",
       "\n",
       "    .dataframe thead th {\n",
       "        text-align: right;\n",
       "    }\n",
       "</style>\n",
       "<table border=\"1\" class=\"dataframe\">\n",
       "  <thead>\n",
       "    <tr style=\"text-align: right;\">\n",
       "      <th></th>\n",
       "      <th></th>\n",
       "      <th>연봉</th>\n",
       "      <th>연차</th>\n",
       "    </tr>\n",
       "    <tr>\n",
       "      <th>분류</th>\n",
       "      <th>회사명</th>\n",
       "      <th></th>\n",
       "      <th></th>\n",
       "    </tr>\n",
       "  </thead>\n",
       "  <tbody>\n",
       "    <tr>\n",
       "      <th rowspan=\"3\" valign=\"top\">IT회사</th>\n",
       "      <th>SK플래닛</th>\n",
       "      <td>5500</td>\n",
       "      <td>4</td>\n",
       "    </tr>\n",
       "    <tr>\n",
       "      <th>네이버</th>\n",
       "      <td>11000</td>\n",
       "      <td>8</td>\n",
       "    </tr>\n",
       "    <tr>\n",
       "      <th>카카오</th>\n",
       "      <td>6000</td>\n",
       "      <td>5</td>\n",
       "    </tr>\n",
       "    <tr>\n",
       "      <th>금융회사</th>\n",
       "      <th>KB금융</th>\n",
       "      <td>4500</td>\n",
       "      <td>2</td>\n",
       "    </tr>\n",
       "  </tbody>\n",
       "</table>\n",
       "</div>"
      ],
      "text/plain": [
       "               연봉  연차\n",
       "분류   회사명             \n",
       "IT회사 SK플래닛   5500   4\n",
       "     네이버    11000   8\n",
       "     카카오     6000   5\n",
       "금융회사 KB금융    4500   2"
      ]
     },
     "execution_count": 29,
     "metadata": {},
     "output_type": "execute_result"
    }
   ],
   "source": [
    "group_company.sum()"
   ]
  },
  {
   "cell_type": "markdown",
   "metadata": {},
   "source": [
    "### Crosstabs\n",
    "\n",
    "[crosstab](https://pandas.pydata.org/pandas-docs/stable/generated/pandas.crosstab.html)은 판다스를 활용한 통계분석에서 굉장히 요긴하게 쓰이는 기능 중 하나입니다. X축과 Y축에 Series(내지는 여러 개의 Series)을 지정하면 두 축의 값에 동시에 해당하는 데이터의 갯수를 셉니다."
   ]
  },
  {
   "cell_type": "code",
   "execution_count": 30,
   "metadata": {},
   "outputs": [
    {
     "data": {
      "text/html": [
       "<div>\n",
       "<style scoped>\n",
       "    .dataframe tbody tr th:only-of-type {\n",
       "        vertical-align: middle;\n",
       "    }\n",
       "\n",
       "    .dataframe tbody tr th {\n",
       "        vertical-align: top;\n",
       "    }\n",
       "\n",
       "    .dataframe thead th {\n",
       "        text-align: right;\n",
       "    }\n",
       "</style>\n",
       "<table border=\"1\" class=\"dataframe\">\n",
       "  <thead>\n",
       "    <tr style=\"text-align: right;\">\n",
       "      <th>직군</th>\n",
       "      <th>개발자</th>\n",
       "      <th>디자이너</th>\n",
       "    </tr>\n",
       "    <tr>\n",
       "      <th>분류</th>\n",
       "      <th></th>\n",
       "      <th></th>\n",
       "    </tr>\n",
       "  </thead>\n",
       "  <tbody>\n",
       "    <tr>\n",
       "      <th>IT회사</th>\n",
       "      <td>2</td>\n",
       "      <td>2</td>\n",
       "    </tr>\n",
       "    <tr>\n",
       "      <th>금융회사</th>\n",
       "      <td>1</td>\n",
       "      <td>0</td>\n",
       "    </tr>\n",
       "  </tbody>\n",
       "</table>\n",
       "</div>"
      ],
      "text/plain": [
       "직군    개발자  디자이너\n",
       "분류             \n",
       "IT회사    2     2\n",
       "금융회사    1     0"
      ]
     },
     "execution_count": 30,
     "metadata": {},
     "output_type": "execute_result"
    }
   ],
   "source": [
    "# 분류와 직군으로 crosstab\n",
    "# 이 경우 1) IT회사 / 금융회사, 3) 개발자 / 디자이너에 해당하는 사람의 총 인원수가 나옴\n",
    "\n",
    "pd.crosstab(data['분류'], data['직군'])"
   ]
  },
  {
   "cell_type": "code",
   "execution_count": 17,
   "metadata": {},
   "outputs": [
    {
     "data": {
      "text/html": [
       "<div>\n",
       "<style>\n",
       "    .dataframe thead tr:only-child th {\n",
       "        text-align: right;\n",
       "    }\n",
       "\n",
       "    .dataframe thead th {\n",
       "        text-align: left;\n",
       "    }\n",
       "\n",
       "    .dataframe tbody tr th {\n",
       "        vertical-align: top;\n",
       "    }\n",
       "</style>\n",
       "<table border=\"1\" class=\"dataframe\">\n",
       "  <thead>\n",
       "    <tr style=\"text-align: right;\">\n",
       "      <th>직군</th>\n",
       "      <th>개발자</th>\n",
       "      <th>디자이너</th>\n",
       "      <th>All</th>\n",
       "    </tr>\n",
       "    <tr>\n",
       "      <th>분류</th>\n",
       "      <th></th>\n",
       "      <th></th>\n",
       "      <th></th>\n",
       "    </tr>\n",
       "  </thead>\n",
       "  <tbody>\n",
       "    <tr>\n",
       "      <th>IT회사</th>\n",
       "      <td>2</td>\n",
       "      <td>2</td>\n",
       "      <td>4</td>\n",
       "    </tr>\n",
       "    <tr>\n",
       "      <th>금융회사</th>\n",
       "      <td>1</td>\n",
       "      <td>0</td>\n",
       "      <td>1</td>\n",
       "    </tr>\n",
       "    <tr>\n",
       "      <th>All</th>\n",
       "      <td>3</td>\n",
       "      <td>2</td>\n",
       "      <td>5</td>\n",
       "    </tr>\n",
       "  </tbody>\n",
       "</table>\n",
       "</div>"
      ],
      "text/plain": [
       "직군    개발자  디자이너  All\n",
       "분류                  \n",
       "IT회사    2     2    4\n",
       "금융회사    1     0    1\n",
       "All     3     2    5"
      ]
     },
     "execution_count": 17,
     "metadata": {},
     "output_type": "execute_result"
    }
   ],
   "source": [
    "# margin 옵션으로 X축과 Y축의 누적합을 줄 수 있습니다.\n",
    "pd.crosstab(data['분류'], data['직군'], margins=True)"
   ]
  },
  {
   "cell_type": "code",
   "execution_count": 18,
   "metadata": {},
   "outputs": [
    {
     "data": {
      "text/html": [
       "<div>\n",
       "<style>\n",
       "    .dataframe thead tr:only-child th {\n",
       "        text-align: right;\n",
       "    }\n",
       "\n",
       "    .dataframe thead th {\n",
       "        text-align: left;\n",
       "    }\n",
       "\n",
       "    .dataframe tbody tr th {\n",
       "        vertical-align: top;\n",
       "    }\n",
       "</style>\n",
       "<table border=\"1\" class=\"dataframe\">\n",
       "  <thead>\n",
       "    <tr style=\"text-align: right;\">\n",
       "      <th></th>\n",
       "      <th>직군</th>\n",
       "      <th>개발자</th>\n",
       "      <th>디자이너</th>\n",
       "    </tr>\n",
       "    <tr>\n",
       "      <th>분류</th>\n",
       "      <th>회사명</th>\n",
       "      <th></th>\n",
       "      <th></th>\n",
       "    </tr>\n",
       "  </thead>\n",
       "  <tbody>\n",
       "    <tr>\n",
       "      <th rowspan=\"3\" valign=\"top\">IT회사</th>\n",
       "      <th>SK플래닛</th>\n",
       "      <td>0</td>\n",
       "      <td>1</td>\n",
       "    </tr>\n",
       "    <tr>\n",
       "      <th>네이버</th>\n",
       "      <td>1</td>\n",
       "      <td>1</td>\n",
       "    </tr>\n",
       "    <tr>\n",
       "      <th>카카오</th>\n",
       "      <td>1</td>\n",
       "      <td>0</td>\n",
       "    </tr>\n",
       "    <tr>\n",
       "      <th>금융회사</th>\n",
       "      <th>KB금융</th>\n",
       "      <td>1</td>\n",
       "      <td>0</td>\n",
       "    </tr>\n",
       "  </tbody>\n",
       "</table>\n",
       "</div>"
      ],
      "text/plain": [
       "직군          개발자  디자이너\n",
       "분류   회사명             \n",
       "IT회사 SK플래닛    0     1\n",
       "     네이버      1     1\n",
       "     카카오      1     0\n",
       "금융회사 KB금융     1     0"
      ]
     },
     "execution_count": 18,
     "metadata": {},
     "output_type": "execute_result"
    }
   ],
   "source": [
    "# X축과 Y축에 여러 개의 Series를 집어넣을 수도 있습니다.\n",
    "pd.crosstab([data['분류'], data['회사명']], data['직군'])"
   ]
  },
  {
   "cell_type": "code",
   "execution_count": 19,
   "metadata": {},
   "outputs": [
    {
     "data": {
      "text/plain": [
       "분류\n",
       "IT회사    0.5\n",
       "금융회사    0.5\n",
       "dtype: float64"
      ]
     },
     "execution_count": 19,
     "metadata": {},
     "output_type": "execute_result"
    }
   ],
   "source": [
    "# apply를 활용하여 누적합이 아닌 평균(mean)을 계산하는 것도 가능합니다.\n",
    "tab = pd.crosstab([data['분류']], data['직군'])\n",
    "tab = tab.apply(lambda r: r.mean() / r.sum(), axis=1)\n",
    "tab"
   ]
  },
  {
   "cell_type": "markdown",
   "metadata": {},
   "source": [
    "### pivot_table\n",
    "\n",
    "[pivot_table](https://pandas.pydata.org/pandas-docs/stable/generated/pandas.pivot_table.html)은 우리가 엑셀에서 자주 사용하는 pivot table과 거의 유사합니다. 데이터를 넣고 가로(values)와 세로(index)에 컬럼을 지정하면, index와 values에 모두 일치하는 값들의 누적 합(sum)이나 평균(mean) 등을 계산해줍니다."
   ]
  },
  {
   "cell_type": "code",
   "execution_count": 20,
   "metadata": {},
   "outputs": [
    {
     "data": {
      "text/html": [
       "<div>\n",
       "<style>\n",
       "    .dataframe thead tr:only-child th {\n",
       "        text-align: right;\n",
       "    }\n",
       "\n",
       "    .dataframe thead th {\n",
       "        text-align: left;\n",
       "    }\n",
       "\n",
       "    .dataframe tbody tr th {\n",
       "        vertical-align: top;\n",
       "    }\n",
       "</style>\n",
       "<table border=\"1\" class=\"dataframe\">\n",
       "  <thead>\n",
       "    <tr style=\"text-align: right;\">\n",
       "      <th></th>\n",
       "      <th>연봉</th>\n",
       "      <th>연차</th>\n",
       "    </tr>\n",
       "    <tr>\n",
       "      <th>분류</th>\n",
       "      <th></th>\n",
       "      <th></th>\n",
       "    </tr>\n",
       "  </thead>\n",
       "  <tbody>\n",
       "    <tr>\n",
       "      <th>IT회사</th>\n",
       "      <td>5625.0</td>\n",
       "      <td>4.25</td>\n",
       "    </tr>\n",
       "    <tr>\n",
       "      <th>금융회사</th>\n",
       "      <td>4500.0</td>\n",
       "      <td>2.00</td>\n",
       "    </tr>\n",
       "  </tbody>\n",
       "</table>\n",
       "</div>"
      ],
      "text/plain": [
       "          연봉    연차\n",
       "분류                \n",
       "IT회사  5625.0  4.25\n",
       "금융회사  4500.0  2.00"
      ]
     },
     "execution_count": 20,
     "metadata": {},
     "output_type": "execute_result"
    }
   ],
   "source": [
    "# 분류 컬럼을 기준으로 연봉과 연차의 평균(mean)을 구합니다.\n",
    "pd.pivot_table(data, index=\"분류\")"
   ]
  },
  {
   "cell_type": "code",
   "execution_count": 21,
   "metadata": {},
   "outputs": [
    {
     "data": {
      "text/html": [
       "<div>\n",
       "<style>\n",
       "    .dataframe thead tr:only-child th {\n",
       "        text-align: right;\n",
       "    }\n",
       "\n",
       "    .dataframe thead th {\n",
       "        text-align: left;\n",
       "    }\n",
       "\n",
       "    .dataframe tbody tr th {\n",
       "        vertical-align: top;\n",
       "    }\n",
       "</style>\n",
       "<table border=\"1\" class=\"dataframe\">\n",
       "  <thead>\n",
       "    <tr style=\"text-align: right;\">\n",
       "      <th></th>\n",
       "      <th></th>\n",
       "      <th>연봉</th>\n",
       "      <th>연차</th>\n",
       "    </tr>\n",
       "    <tr>\n",
       "      <th>분류</th>\n",
       "      <th>회사명</th>\n",
       "      <th></th>\n",
       "      <th></th>\n",
       "    </tr>\n",
       "  </thead>\n",
       "  <tbody>\n",
       "    <tr>\n",
       "      <th rowspan=\"3\" valign=\"top\">IT회사</th>\n",
       "      <th>SK플래닛</th>\n",
       "      <td>5500</td>\n",
       "      <td>4</td>\n",
       "    </tr>\n",
       "    <tr>\n",
       "      <th>네이버</th>\n",
       "      <td>5500</td>\n",
       "      <td>4</td>\n",
       "    </tr>\n",
       "    <tr>\n",
       "      <th>카카오</th>\n",
       "      <td>6000</td>\n",
       "      <td>5</td>\n",
       "    </tr>\n",
       "    <tr>\n",
       "      <th>금융회사</th>\n",
       "      <th>KB금융</th>\n",
       "      <td>4500</td>\n",
       "      <td>2</td>\n",
       "    </tr>\n",
       "  </tbody>\n",
       "</table>\n",
       "</div>"
      ],
      "text/plain": [
       "              연봉  연차\n",
       "분류   회사명            \n",
       "IT회사 SK플래닛  5500   4\n",
       "     네이버    5500   4\n",
       "     카카오    6000   5\n",
       "금융회사 KB금융   4500   2"
      ]
     },
     "execution_count": 21,
     "metadata": {},
     "output_type": "execute_result"
    }
   ],
   "source": [
    "# 여러 개의 컬럼을 index로 넣을 수도 있습니다.\n",
    "pd.pivot_table(data, index=[\"분류\", \"회사명\"])"
   ]
  },
  {
   "cell_type": "code",
   "execution_count": 22,
   "metadata": {},
   "outputs": [
    {
     "data": {
      "text/html": [
       "<div>\n",
       "<style>\n",
       "    .dataframe thead tr:only-child th {\n",
       "        text-align: right;\n",
       "    }\n",
       "\n",
       "    .dataframe thead th {\n",
       "        text-align: left;\n",
       "    }\n",
       "\n",
       "    .dataframe tbody tr th {\n",
       "        vertical-align: top;\n",
       "    }\n",
       "</style>\n",
       "<table border=\"1\" class=\"dataframe\">\n",
       "  <thead>\n",
       "    <tr style=\"text-align: right;\">\n",
       "      <th></th>\n",
       "      <th></th>\n",
       "      <th>연봉</th>\n",
       "    </tr>\n",
       "    <tr>\n",
       "      <th>분류</th>\n",
       "      <th>회사명</th>\n",
       "      <th></th>\n",
       "    </tr>\n",
       "  </thead>\n",
       "  <tbody>\n",
       "    <tr>\n",
       "      <th rowspan=\"3\" valign=\"top\">IT회사</th>\n",
       "      <th>SK플래닛</th>\n",
       "      <td>5500</td>\n",
       "    </tr>\n",
       "    <tr>\n",
       "      <th>네이버</th>\n",
       "      <td>5500</td>\n",
       "    </tr>\n",
       "    <tr>\n",
       "      <th>카카오</th>\n",
       "      <td>6000</td>\n",
       "    </tr>\n",
       "    <tr>\n",
       "      <th>금융회사</th>\n",
       "      <th>KB금융</th>\n",
       "      <td>4500</td>\n",
       "    </tr>\n",
       "  </tbody>\n",
       "</table>\n",
       "</div>"
      ],
      "text/plain": [
       "              연봉\n",
       "분류   회사명        \n",
       "IT회사 SK플래닛  5500\n",
       "     네이버    5500\n",
       "     카카오    6000\n",
       "금융회사 KB금융   4500"
      ]
     },
     "execution_count": 22,
     "metadata": {},
     "output_type": "execute_result"
    }
   ],
   "source": [
    "# values도 전부 볼 필요 없이 특정 컬럼만 지정 가능합니다.\n",
    "pd.pivot_table(data, index=[\"분류\", \"회사명\"], values=\"연봉\")"
   ]
  },
  {
   "cell_type": "code",
   "execution_count": 23,
   "metadata": {},
   "outputs": [
    {
     "data": {
      "text/html": [
       "<div>\n",
       "<style>\n",
       "    .dataframe thead tr:only-child th {\n",
       "        text-align: right;\n",
       "    }\n",
       "\n",
       "    .dataframe thead th {\n",
       "        text-align: left;\n",
       "    }\n",
       "\n",
       "    .dataframe tbody tr th {\n",
       "        vertical-align: top;\n",
       "    }\n",
       "</style>\n",
       "<table border=\"1\" class=\"dataframe\">\n",
       "  <thead>\n",
       "    <tr>\n",
       "      <th></th>\n",
       "      <th></th>\n",
       "      <th>mean</th>\n",
       "      <th>sum</th>\n",
       "    </tr>\n",
       "    <tr>\n",
       "      <th></th>\n",
       "      <th></th>\n",
       "      <th>연봉</th>\n",
       "      <th>연봉</th>\n",
       "    </tr>\n",
       "    <tr>\n",
       "      <th>분류</th>\n",
       "      <th>회사명</th>\n",
       "      <th></th>\n",
       "      <th></th>\n",
       "    </tr>\n",
       "  </thead>\n",
       "  <tbody>\n",
       "    <tr>\n",
       "      <th rowspan=\"3\" valign=\"top\">IT회사</th>\n",
       "      <th>SK플래닛</th>\n",
       "      <td>5500</td>\n",
       "      <td>5500</td>\n",
       "    </tr>\n",
       "    <tr>\n",
       "      <th>네이버</th>\n",
       "      <td>5500</td>\n",
       "      <td>11000</td>\n",
       "    </tr>\n",
       "    <tr>\n",
       "      <th>카카오</th>\n",
       "      <td>6000</td>\n",
       "      <td>6000</td>\n",
       "    </tr>\n",
       "    <tr>\n",
       "      <th>금융회사</th>\n",
       "      <th>KB금융</th>\n",
       "      <td>4500</td>\n",
       "      <td>4500</td>\n",
       "    </tr>\n",
       "  </tbody>\n",
       "</table>\n",
       "</div>"
      ],
      "text/plain": [
       "            mean    sum\n",
       "              연봉     연봉\n",
       "분류   회사명               \n",
       "IT회사 SK플래닛  5500   5500\n",
       "     네이버    5500  11000\n",
       "     카카오    6000   6000\n",
       "금융회사 KB금융   4500   4500"
      ]
     },
     "execution_count": 23,
     "metadata": {},
     "output_type": "execute_result"
    }
   ],
   "source": [
    "# mean도 가능하지만 sum도 할 수 있습니다.\n",
    "pd.pivot_table(data, index=[\"분류\", \"회사명\"], values=\"연봉\", aggfunc=[np.mean, np.sum])"
   ]
  },
  {
   "cell_type": "code",
   "execution_count": 24,
   "metadata": {},
   "outputs": [
    {
     "data": {
      "text/html": [
       "<div>\n",
       "<style>\n",
       "    .dataframe thead tr:only-child th {\n",
       "        text-align: right;\n",
       "    }\n",
       "\n",
       "    .dataframe thead th {\n",
       "        text-align: left;\n",
       "    }\n",
       "\n",
       "    .dataframe tbody tr th {\n",
       "        vertical-align: top;\n",
       "    }\n",
       "</style>\n",
       "<table border=\"1\" class=\"dataframe\">\n",
       "  <thead>\n",
       "    <tr>\n",
       "      <th></th>\n",
       "      <th></th>\n",
       "      <th>mean</th>\n",
       "      <th>sum</th>\n",
       "    </tr>\n",
       "    <tr>\n",
       "      <th></th>\n",
       "      <th></th>\n",
       "      <th>연봉</th>\n",
       "      <th>연봉</th>\n",
       "    </tr>\n",
       "    <tr>\n",
       "      <th>분류</th>\n",
       "      <th>회사명</th>\n",
       "      <th></th>\n",
       "      <th></th>\n",
       "    </tr>\n",
       "  </thead>\n",
       "  <tbody>\n",
       "    <tr>\n",
       "      <th rowspan=\"3\" valign=\"top\">IT회사</th>\n",
       "      <th>SK플래닛</th>\n",
       "      <td>5500.0</td>\n",
       "      <td>5500.0</td>\n",
       "    </tr>\n",
       "    <tr>\n",
       "      <th>네이버</th>\n",
       "      <td>5500.0</td>\n",
       "      <td>11000.0</td>\n",
       "    </tr>\n",
       "    <tr>\n",
       "      <th>카카오</th>\n",
       "      <td>6000.0</td>\n",
       "      <td>6000.0</td>\n",
       "    </tr>\n",
       "    <tr>\n",
       "      <th>금융회사</th>\n",
       "      <th>KB금융</th>\n",
       "      <td>4500.0</td>\n",
       "      <td>4500.0</td>\n",
       "    </tr>\n",
       "    <tr>\n",
       "      <th>All</th>\n",
       "      <th></th>\n",
       "      <td>5400.0</td>\n",
       "      <td>27000.0</td>\n",
       "    </tr>\n",
       "  </tbody>\n",
       "</table>\n",
       "</div>"
      ],
      "text/plain": [
       "              mean      sum\n",
       "                연봉       연봉\n",
       "분류   회사명                   \n",
       "IT회사 SK플래닛  5500.0   5500.0\n",
       "     네이버    5500.0  11000.0\n",
       "     카카오    6000.0   6000.0\n",
       "금융회사 KB금융   4500.0   4500.0\n",
       "All         5400.0  27000.0"
      ]
     },
     "execution_count": 24,
     "metadata": {},
     "output_type": "execute_result"
    }
   ],
   "source": [
    "# crosstab과 유사하게 all 옵션도 넣을 수 있습니다.\n",
    "pd.pivot_table(data, index=[\"분류\", \"회사명\"], values=\"연봉\", aggfunc=[np.mean, np.sum], margins=True)"
   ]
  },
  {
   "cell_type": "markdown",
   "metadata": {},
   "source": [
    "### Categoricals\n",
    "\n",
    "판다스의 category는 object(문자열)과 큰 차이가 없습니다. 하지만 강력한 장점이 하나 있는데, object를 category로 바꾸면 pandas로 수학 연산을 할 때 속도가 매우 빨라집니다."
   ]
  },
  {
   "cell_type": "code",
   "execution_count": 25,
   "metadata": {},
   "outputs": [
    {
     "name": "stdout",
     "output_type": "stream",
     "text": [
      "분류     object\n",
      "회사명    object\n",
      "직군     object\n",
      "연봉      int64\n",
      "연차      int64\n",
      "dtype: object\n",
      "(50000, 5)\n"
     ]
    },
    {
     "data": {
      "text/html": [
       "<div>\n",
       "<style>\n",
       "    .dataframe thead tr:only-child th {\n",
       "        text-align: right;\n",
       "    }\n",
       "\n",
       "    .dataframe thead th {\n",
       "        text-align: left;\n",
       "    }\n",
       "\n",
       "    .dataframe tbody tr th {\n",
       "        vertical-align: top;\n",
       "    }\n",
       "</style>\n",
       "<table border=\"1\" class=\"dataframe\">\n",
       "  <thead>\n",
       "    <tr style=\"text-align: right;\">\n",
       "      <th></th>\n",
       "      <th>분류</th>\n",
       "      <th>회사명</th>\n",
       "      <th>직군</th>\n",
       "      <th>연봉</th>\n",
       "      <th>연차</th>\n",
       "    </tr>\n",
       "    <tr>\n",
       "      <th>이름</th>\n",
       "      <th></th>\n",
       "      <th></th>\n",
       "      <th></th>\n",
       "      <th></th>\n",
       "      <th></th>\n",
       "    </tr>\n",
       "  </thead>\n",
       "  <tbody>\n",
       "    <tr>\n",
       "      <th>김성훈</th>\n",
       "      <td>IT회사</td>\n",
       "      <td>네이버</td>\n",
       "      <td>디자이너</td>\n",
       "      <td>5000</td>\n",
       "      <td>3</td>\n",
       "    </tr>\n",
       "    <tr>\n",
       "      <th>양세민</th>\n",
       "      <td>IT회사</td>\n",
       "      <td>네이버</td>\n",
       "      <td>개발자</td>\n",
       "      <td>6000</td>\n",
       "      <td>5</td>\n",
       "    </tr>\n",
       "    <tr>\n",
       "      <th>최양미</th>\n",
       "      <td>IT회사</td>\n",
       "      <td>카카오</td>\n",
       "      <td>개발자</td>\n",
       "      <td>6000</td>\n",
       "      <td>5</td>\n",
       "    </tr>\n",
       "    <tr>\n",
       "      <th>남성필</th>\n",
       "      <td>IT회사</td>\n",
       "      <td>SK플래닛</td>\n",
       "      <td>디자이너</td>\n",
       "      <td>5500</td>\n",
       "      <td>4</td>\n",
       "    </tr>\n",
       "    <tr>\n",
       "      <th>강민우</th>\n",
       "      <td>금융회사</td>\n",
       "      <td>KB금융</td>\n",
       "      <td>개발자</td>\n",
       "      <td>4500</td>\n",
       "      <td>2</td>\n",
       "    </tr>\n",
       "  </tbody>\n",
       "</table>\n",
       "</div>"
      ],
      "text/plain": [
       "       분류    회사명    직군    연봉  연차\n",
       "이름                              \n",
       "김성훈  IT회사    네이버  디자이너  5000   3\n",
       "양세민  IT회사    네이버   개발자  6000   5\n",
       "최양미  IT회사    카카오   개발자  6000   5\n",
       "남성필  IT회사  SK플래닛  디자이너  5500   4\n",
       "강민우  금융회사   KB금융   개발자  4500   2"
      ]
     },
     "execution_count": 25,
     "metadata": {},
     "output_type": "execute_result"
    }
   ],
   "source": [
    "# 데이터를 강제로 늘립니다.\n",
    "data = pd.concat([data.copy() for _ in range(10000)])\n",
    "\n",
    "print(data.dtypes)\n",
    "print(data.shape)\n",
    "data.head()"
   ]
  },
  {
   "cell_type": "code",
   "execution_count": 26,
   "metadata": {},
   "outputs": [
    {
     "name": "stdout",
     "output_type": "stream",
     "text": [
      "3.51 ms ± 456 µs per loop (mean ± std. dev. of 7 runs, 100 loops each)\n"
     ]
    }
   ],
   "source": [
    "# 해당 데이터로 수학 연산을 하면 다소 느립니다.\n",
    "%timeit data.groupby('분류')['연봉'].mean()"
   ]
  },
  {
   "cell_type": "code",
   "execution_count": 27,
   "metadata": {},
   "outputs": [
    {
     "name": "stdout",
     "output_type": "stream",
     "text": [
      "분류     category\n",
      "회사명      object\n",
      "직군       object\n",
      "연봉        int64\n",
      "연차        int64\n",
      "dtype: object\n"
     ]
    },
    {
     "data": {
      "text/html": [
       "<div>\n",
       "<style>\n",
       "    .dataframe thead tr:only-child th {\n",
       "        text-align: right;\n",
       "    }\n",
       "\n",
       "    .dataframe thead th {\n",
       "        text-align: left;\n",
       "    }\n",
       "\n",
       "    .dataframe tbody tr th {\n",
       "        vertical-align: top;\n",
       "    }\n",
       "</style>\n",
       "<table border=\"1\" class=\"dataframe\">\n",
       "  <thead>\n",
       "    <tr style=\"text-align: right;\">\n",
       "      <th></th>\n",
       "      <th>분류</th>\n",
       "      <th>회사명</th>\n",
       "      <th>직군</th>\n",
       "      <th>연봉</th>\n",
       "      <th>연차</th>\n",
       "    </tr>\n",
       "    <tr>\n",
       "      <th>이름</th>\n",
       "      <th></th>\n",
       "      <th></th>\n",
       "      <th></th>\n",
       "      <th></th>\n",
       "      <th></th>\n",
       "    </tr>\n",
       "  </thead>\n",
       "  <tbody>\n",
       "    <tr>\n",
       "      <th>김성훈</th>\n",
       "      <td>IT회사</td>\n",
       "      <td>네이버</td>\n",
       "      <td>디자이너</td>\n",
       "      <td>5000</td>\n",
       "      <td>3</td>\n",
       "    </tr>\n",
       "    <tr>\n",
       "      <th>양세민</th>\n",
       "      <td>IT회사</td>\n",
       "      <td>네이버</td>\n",
       "      <td>개발자</td>\n",
       "      <td>6000</td>\n",
       "      <td>5</td>\n",
       "    </tr>\n",
       "    <tr>\n",
       "      <th>최양미</th>\n",
       "      <td>IT회사</td>\n",
       "      <td>카카오</td>\n",
       "      <td>개발자</td>\n",
       "      <td>6000</td>\n",
       "      <td>5</td>\n",
       "    </tr>\n",
       "    <tr>\n",
       "      <th>남성필</th>\n",
       "      <td>IT회사</td>\n",
       "      <td>SK플래닛</td>\n",
       "      <td>디자이너</td>\n",
       "      <td>5500</td>\n",
       "      <td>4</td>\n",
       "    </tr>\n",
       "    <tr>\n",
       "      <th>강민우</th>\n",
       "      <td>금융회사</td>\n",
       "      <td>KB금융</td>\n",
       "      <td>개발자</td>\n",
       "      <td>4500</td>\n",
       "      <td>2</td>\n",
       "    </tr>\n",
       "  </tbody>\n",
       "</table>\n",
       "</div>"
      ],
      "text/plain": [
       "       분류    회사명    직군    연봉  연차\n",
       "이름                              \n",
       "김성훈  IT회사    네이버  디자이너  5000   3\n",
       "양세민  IT회사    네이버   개발자  6000   5\n",
       "최양미  IT회사    카카오   개발자  6000   5\n",
       "남성필  IT회사  SK플래닛  디자이너  5500   4\n",
       "강민우  금융회사   KB금융   개발자  4500   2"
      ]
     },
     "execution_count": 27,
     "metadata": {},
     "output_type": "execute_result"
    }
   ],
   "source": [
    "# 이 데이터는 category로 바꿀 수 있습니다.\n",
    "data['분류'] = data['분류'].astype('category')\n",
    "\n",
    "print(data.dtypes)\n",
    "data.head()"
   ]
  },
  {
   "cell_type": "code",
   "execution_count": 28,
   "metadata": {},
   "outputs": [
    {
     "data": {
      "text/plain": [
       "Index(['IT회사', '금융회사'], dtype='object')"
      ]
     },
     "execution_count": 28,
     "metadata": {},
     "output_type": "execute_result"
    }
   ],
   "source": [
    "data['분류'].cat.categories"
   ]
  },
  {
   "cell_type": "code",
   "execution_count": 29,
   "metadata": {},
   "outputs": [
    {
     "data": {
      "text/plain": [
       "이름\n",
       "김성훈    0\n",
       "양세민    0\n",
       "최양미    0\n",
       "남성필    0\n",
       "강민우    1\n",
       "dtype: int8"
      ]
     },
     "execution_count": 29,
     "metadata": {},
     "output_type": "execute_result"
    }
   ],
   "source": [
    "data['분류'].cat.codes.head()"
   ]
  },
  {
   "cell_type": "code",
   "execution_count": 30,
   "metadata": {},
   "outputs": [
    {
     "name": "stdout",
     "output_type": "stream",
     "text": [
      "1.29 ms ± 191 µs per loop (mean ± std. dev. of 7 runs, 1000 loops each)\n"
     ]
    }
   ],
   "source": [
    "# 이 경우 속도가 매우 빨라집니다.\n",
    "%timeit data.groupby('분류')['연봉'].mean()"
   ]
  },
  {
   "cell_type": "markdown",
   "metadata": {},
   "source": [
    "### tqdm\n",
    "\n",
    "[tqdm](https://github.com/noamraph/tqdm)은 사실 아주 중요한 기능은 아닙니다. 하지만 판다스로 대용량 데이터를 처리할 때 알아두면 좋은 패키지 중 하나입니다. apply에 시간이 오래 걸릴 때 tqdm을 활용하면 진행 상황을 확인할 수 있습니다."
   ]
  },
  {
   "cell_type": "code",
   "execution_count": 40,
   "metadata": {
    "collapsed": true
   },
   "outputs": [],
   "source": [
    "# tqdm는 판다스의 공식 기능이 아니기 때문에, pip로 설치해줘야 합니다.\n",
    "# 아나콘다로 파이썬을 설치하신 분들은 pip가 아닌 아나콘다 네비게이터(Anaconda Navigator) -> 좌측의 Environment 탭에서 tqdm을 설치해주세요.\n",
    "!pip install tqdm"
   ]
  },
  {
   "cell_type": "code",
   "execution_count": 1,
   "metadata": {},
   "outputs": [
    {
     "name": "stdout",
     "output_type": "stream",
     "text": [
      "Requirement already satisfied: faker in /Users/shaynekang/anaconda3/lib/python3.6/site-packages\n",
      "Requirement already satisfied: six in /Users/shaynekang/anaconda3/lib/python3.6/site-packages (from faker)\n",
      "Requirement already satisfied: text-unidecode in /Users/shaynekang/anaconda3/lib/python3.6/site-packages (from faker)\n",
      "Requirement already satisfied: python-dateutil>=2.4 in /Users/shaynekang/anaconda3/lib/python3.6/site-packages (from faker)\n",
      "\u001b[33mYou are using pip version 9.0.1, however version 10.0.0 is available.\n",
      "You should consider upgrading via the 'pip install --upgrade pip' command.\u001b[0m\n"
     ]
    }
   ],
   "source": [
    "# 마찬가지로 faker도 설치합니다\n",
    "!pip install faker"
   ]
  },
  {
   "cell_type": "code",
   "execution_count": 41,
   "metadata": {},
   "outputs": [
    {
     "data": {
      "text/plain": [
       "{'message': 'Until process break participant partner meeting fear. City however Democrat people identify herself. All theory thing wrong.',\n",
       " 'name': 'Maria Roth'}"
      ]
     },
     "execution_count": 41,
     "metadata": {},
     "output_type": "execute_result"
    }
   ],
   "source": [
    "from faker import Faker\n",
    "\n",
    "# 가짜 정보를 generate합니다.\n",
    "def generate_fake_information():\n",
    "    faker = Faker()\n",
    "\n",
    "    return {\n",
    "        'name': faker.name(),\n",
    "        'message': faker.text()\n",
    "    }\n",
    "\n",
    "generate_fake_information()"
   ]
  },
  {
   "cell_type": "code",
   "execution_count": 42,
   "metadata": {},
   "outputs": [
    {
     "name": "stderr",
     "output_type": "stream",
     "text": [
      "100%|██████████| 1000/1000 [00:28<00:00, 35.58it/s]\n"
     ]
    },
    {
     "name": "stdout",
     "output_type": "stream",
     "text": [
      "(1000000, 2)\n"
     ]
    },
    {
     "data": {
      "text/html": [
       "<div>\n",
       "<style>\n",
       "    .dataframe thead tr:only-child th {\n",
       "        text-align: right;\n",
       "    }\n",
       "\n",
       "    .dataframe thead th {\n",
       "        text-align: left;\n",
       "    }\n",
       "\n",
       "    .dataframe tbody tr th {\n",
       "        vertical-align: top;\n",
       "    }\n",
       "</style>\n",
       "<table border=\"1\" class=\"dataframe\">\n",
       "  <thead>\n",
       "    <tr style=\"text-align: right;\">\n",
       "      <th></th>\n",
       "      <th>message</th>\n",
       "      <th>name</th>\n",
       "    </tr>\n",
       "  </thead>\n",
       "  <tbody>\n",
       "    <tr>\n",
       "      <th>0</th>\n",
       "      <td>Size many husband including involve card. News...</td>\n",
       "      <td>Curtis Mills</td>\n",
       "    </tr>\n",
       "    <tr>\n",
       "      <th>1</th>\n",
       "      <td>Part friend put lot current they you. Manageme...</td>\n",
       "      <td>Ryan Bailey</td>\n",
       "    </tr>\n",
       "    <tr>\n",
       "      <th>2</th>\n",
       "      <td>Career stuff upon should drop hit. Old they ga...</td>\n",
       "      <td>Ellen Morse</td>\n",
       "    </tr>\n",
       "    <tr>\n",
       "      <th>3</th>\n",
       "      <td>Into still share personal owner product minute...</td>\n",
       "      <td>Nicole Serrano</td>\n",
       "    </tr>\n",
       "    <tr>\n",
       "      <th>4</th>\n",
       "      <td>Simple movement important low treatment. Plant...</td>\n",
       "      <td>Tracy Gutierrez</td>\n",
       "    </tr>\n",
       "  </tbody>\n",
       "</table>\n",
       "</div>"
      ],
      "text/plain": [
       "                                             message             name\n",
       "0  Size many husband including involve card. News...     Curtis Mills\n",
       "1  Part friend put lot current they you. Manageme...      Ryan Bailey\n",
       "2  Career stuff upon should drop hit. Old they ga...      Ellen Morse\n",
       "3  Into still share personal owner product minute...   Nicole Serrano\n",
       "4  Simple movement important low treatment. Plant...  Tracy Gutierrez"
      ]
     },
     "execution_count": 42,
     "metadata": {},
     "output_type": "execute_result"
    }
   ],
   "source": [
    "import pandas as pd\n",
    "from tqdm import tqdm\n",
    "\n",
    "# 가짜 정보 100개를 만듭니다. 이 경우 매우 느리기 때문에 tqdm을 사용하면 진행 상황을 파악할 수 있습니다.\n",
    "data = [generate_fake_information() for _ in tqdm(range(1000))]\n",
    "data = pd.DataFrame(data)\n",
    "\n",
    "data = pd.concat([data.copy() for _ in range(1000)])\n",
    "\n",
    "print(data.shape)\n",
    "data.head()"
   ]
  },
  {
   "cell_type": "code",
   "execution_count": 43,
   "metadata": {},
   "outputs": [
    {
     "data": {
      "text/plain": [
       "0    138\n",
       "1    143\n",
       "2    169\n",
       "3    130\n",
       "4    165\n",
       "Name: message, dtype: int64"
      ]
     },
     "execution_count": 43,
     "metadata": {},
     "output_type": "execute_result"
    }
   ],
   "source": [
    "data[\"message\"].apply(lambda message: len(message)).head()"
   ]
  },
  {
   "cell_type": "code",
   "execution_count": 44,
   "metadata": {},
   "outputs": [
    {
     "name": "stderr",
     "output_type": "stream",
     "text": [
      "measuring...: 100%|██████████| 1000000/1000000 [00:01<00:00, 564453.53it/s]\n"
     ]
    },
    {
     "data": {
      "text/plain": [
       "0    138\n",
       "1    143\n",
       "2    169\n",
       "3    130\n",
       "4    165\n",
       "Name: message, dtype: int64"
      ]
     },
     "execution_count": 44,
     "metadata": {},
     "output_type": "execute_result"
    }
   ],
   "source": [
    "# pandas apply에 적용할 때는 그냥 apply가 아닌 progress_apply를 사용해야 합니다.\n",
    "tqdm.pandas(desc=\"measuring...\")\n",
    "data[\"message\"].progress_apply(lambda message: len(message)).head()"
   ]
  },
  {
   "cell_type": "markdown",
   "metadata": {},
   "source": [
    "## 병렬 처리\n",
    "\n",
    "판다스는 기본적으로 병렬처리가 지원되지 않습니다. 그러므로 대용량 데이터를 병렬처리 하고 싶다면 별도의 기능을 사용해야 하는데, 이 때 가장 쉽게 사용할 수 있는 기능이 파이썬의 multiprocessing 기능입니다."
   ]
  },
  {
   "cell_type": "code",
   "execution_count": 45,
   "metadata": {
    "collapsed": true
   },
   "outputs": [],
   "source": [
    "from multiprocessing import Pool\n",
    "\n",
    "# 데이터를 몇 조각을 낼지 지정합니다. 12라는 것은 12조각을 내서 병렬처리하겠다는 의미입니다.\n",
    "num_partitions = 12\n",
    "\n",
    "# 병렬처리에 사용할 core를 몇 개 사용할지 지정합니다.\n",
    "num_cores = 4\n",
    "\n",
    "\n",
    "# 병렬처리 코드입니다. 이 코드를 언제나 복사해서 사용하시면 됩니다.\n",
    "def parallelize_dataframe(original_dataframe, function):\n",
    "    # 데이터를 num_partitions 에서 지정한 갯수만큼 쪼갭니다.\n",
    "    splitted_dataframe = np.array_split(original_dataframe, num_partitions)\n",
    "\n",
    "    # 병럴처리를 위한 pool을 세팅합니다. pool의 갯수는 num_cores로 지정합니다.\n",
    "    pool = Pool(num_cores)\n",
    "\n",
    "    # map으로 인자로 받은 기능(function)을 병렬로 실행한 뒤 하나로 합칩니다.\n",
    "    dataframe = pd.concat(pool.map(function, splitted_dataframe))\n",
    "\n",
    "    # 작업이 끝날 때 까지 대기합니다.\n",
    "    pool.close()\n",
    "    pool.join()\n",
    "\n",
    "    return dataframe\n"
   ]
  },
  {
   "cell_type": "code",
   "execution_count": 46,
   "metadata": {
    "collapsed": true
   },
   "outputs": [],
   "source": [
    "# 임의로 시간이 오래 걸리는 함수를 하나 작성하겠습니다.\n",
    "def slow(message):\n",
    "    _ = [message.lower() for _ in range(100)]\n",
    "\n",
    "    return message.lower()"
   ]
  },
  {
   "cell_type": "code",
   "execution_count": 47,
   "metadata": {},
   "outputs": [
    {
     "name": "stdout",
     "output_type": "stream",
     "text": [
      "CPU times: user 24 s, sys: 339 ms, total: 24.3 s\n",
      "Wall time: 24.7 s\n"
     ]
    },
    {
     "data": {
      "text/html": [
       "<div>\n",
       "<style>\n",
       "    .dataframe thead tr:only-child th {\n",
       "        text-align: right;\n",
       "    }\n",
       "\n",
       "    .dataframe thead th {\n",
       "        text-align: left;\n",
       "    }\n",
       "\n",
       "    .dataframe tbody tr th {\n",
       "        vertical-align: top;\n",
       "    }\n",
       "</style>\n",
       "<table border=\"1\" class=\"dataframe\">\n",
       "  <thead>\n",
       "    <tr style=\"text-align: right;\">\n",
       "      <th></th>\n",
       "      <th>message</th>\n",
       "      <th>name</th>\n",
       "      <th>new_message</th>\n",
       "    </tr>\n",
       "  </thead>\n",
       "  <tbody>\n",
       "    <tr>\n",
       "      <th>0</th>\n",
       "      <td>Size many husband including involve card. News...</td>\n",
       "      <td>Curtis Mills</td>\n",
       "      <td>size many husband including involve card. news...</td>\n",
       "    </tr>\n",
       "    <tr>\n",
       "      <th>1</th>\n",
       "      <td>Part friend put lot current they you. Manageme...</td>\n",
       "      <td>Ryan Bailey</td>\n",
       "      <td>part friend put lot current they you. manageme...</td>\n",
       "    </tr>\n",
       "    <tr>\n",
       "      <th>2</th>\n",
       "      <td>Career stuff upon should drop hit. Old they ga...</td>\n",
       "      <td>Ellen Morse</td>\n",
       "      <td>career stuff upon should drop hit. old they ga...</td>\n",
       "    </tr>\n",
       "    <tr>\n",
       "      <th>3</th>\n",
       "      <td>Into still share personal owner product minute...</td>\n",
       "      <td>Nicole Serrano</td>\n",
       "      <td>into still share personal owner product minute...</td>\n",
       "    </tr>\n",
       "    <tr>\n",
       "      <th>4</th>\n",
       "      <td>Simple movement important low treatment. Plant...</td>\n",
       "      <td>Tracy Gutierrez</td>\n",
       "      <td>simple movement important low treatment. plant...</td>\n",
       "    </tr>\n",
       "  </tbody>\n",
       "</table>\n",
       "</div>"
      ],
      "text/plain": [
       "                                             message             name  \\\n",
       "0  Size many husband including involve card. News...     Curtis Mills   \n",
       "1  Part friend put lot current they you. Manageme...      Ryan Bailey   \n",
       "2  Career stuff upon should drop hit. Old they ga...      Ellen Morse   \n",
       "3  Into still share personal owner product minute...   Nicole Serrano   \n",
       "4  Simple movement important low treatment. Plant...  Tracy Gutierrez   \n",
       "\n",
       "                                         new_message  \n",
       "0  size many husband including involve card. news...  \n",
       "1  part friend put lot current they you. manageme...  \n",
       "2  career stuff upon should drop hit. old they ga...  \n",
       "3  into still share personal owner product minute...  \n",
       "4  simple movement important low treatment. plant...  "
      ]
     },
     "execution_count": 47,
     "metadata": {},
     "output_type": "execute_result"
    }
   ],
   "source": [
    "# 일반 apply로 할 떄는 속도가 느린 편에 속합니다.\n",
    "%time data[\"new_message\"] = data[\"message\"].apply(slow)\n",
    "\n",
    "data.head()"
   ]
  },
  {
   "cell_type": "code",
   "execution_count": 38,
   "metadata": {},
   "outputs": [
    {
     "name": "stdout",
     "output_type": "stream",
     "text": [
      "CPU times: user 2.04 s, sys: 2 s, total: 4.04 s\n",
      "Wall time: 20.7 s\n"
     ]
    },
    {
     "data": {
      "text/html": [
       "<div>\n",
       "<style>\n",
       "    .dataframe thead tr:only-child th {\n",
       "        text-align: right;\n",
       "    }\n",
       "\n",
       "    .dataframe thead th {\n",
       "        text-align: left;\n",
       "    }\n",
       "\n",
       "    .dataframe tbody tr th {\n",
       "        vertical-align: top;\n",
       "    }\n",
       "</style>\n",
       "<table border=\"1\" class=\"dataframe\">\n",
       "  <thead>\n",
       "    <tr style=\"text-align: right;\">\n",
       "      <th></th>\n",
       "      <th>message</th>\n",
       "      <th>name</th>\n",
       "      <th>reversed_message</th>\n",
       "    </tr>\n",
       "  </thead>\n",
       "  <tbody>\n",
       "    <tr>\n",
       "      <th>0</th>\n",
       "      <td>Second vote administration international world...</td>\n",
       "      <td>Angela Walters</td>\n",
       "      <td>second vote administration international world...</td>\n",
       "    </tr>\n",
       "    <tr>\n",
       "      <th>1</th>\n",
       "      <td>Subject join nothing course. Black late painti...</td>\n",
       "      <td>Matthew Wilkinson</td>\n",
       "      <td>subject join nothing course. black late painti...</td>\n",
       "    </tr>\n",
       "    <tr>\n",
       "      <th>2</th>\n",
       "      <td>Hit hundred under know life crime beat. Usuall...</td>\n",
       "      <td>Edwin Huynh</td>\n",
       "      <td>hit hundred under know life crime beat. usuall...</td>\n",
       "    </tr>\n",
       "    <tr>\n",
       "      <th>3</th>\n",
       "      <td>Which court alone factor away high. Quite agai...</td>\n",
       "      <td>Kevin Grant</td>\n",
       "      <td>which court alone factor away high. quite agai...</td>\n",
       "    </tr>\n",
       "    <tr>\n",
       "      <th>4</th>\n",
       "      <td>South size perhaps try easy doctor. Too busine...</td>\n",
       "      <td>Carly Young</td>\n",
       "      <td>south size perhaps try easy doctor. too busine...</td>\n",
       "    </tr>\n",
       "  </tbody>\n",
       "</table>\n",
       "</div>"
      ],
      "text/plain": [
       "                                             message               name  \\\n",
       "0  Second vote administration international world...     Angela Walters   \n",
       "1  Subject join nothing course. Black late painti...  Matthew Wilkinson   \n",
       "2  Hit hundred under know life crime beat. Usuall...        Edwin Huynh   \n",
       "3  Which court alone factor away high. Quite agai...        Kevin Grant   \n",
       "4  South size perhaps try easy doctor. Too busine...        Carly Young   \n",
       "\n",
       "                                    reversed_message  \n",
       "0  second vote administration international world...  \n",
       "1  subject join nothing course. black late painti...  \n",
       "2  hit hundred under know life crime beat. usuall...  \n",
       "3  which court alone factor away high. quite agai...  \n",
       "4  south size perhaps try easy doctor. too busine...  "
      ]
     },
     "execution_count": 38,
     "metadata": {},
     "output_type": "execute_result"
    }
   ],
   "source": [
    "def parallel_slow(data):\n",
    "    data[\"new_message\"] = data[\"message\"].apply(slow)\n",
    "\n",
    "    return data\n",
    "\n",
    "# parallelize_dataframe를 사용할 때 속도가 조금 더 빠릅니다.\n",
    "%time parallelize_dataframe(data, parallel_slow)\n",
    "\n",
    "data.head()"
   ]
  }
 ],
 "metadata": {
  "kernelspec": {
   "display_name": "Python 3",
   "language": "python",
   "name": "python3"
  },
  "language_info": {
   "codemirror_mode": {
    "name": "ipython",
    "version": 3
   },
   "file_extension": ".py",
   "mimetype": "text/x-python",
   "name": "python",
   "nbconvert_exporter": "python",
   "pygments_lexer": "ipython3",
   "version": "3.6.5"
  }
 },
 "nbformat": 4,
 "nbformat_minor": 2
}
