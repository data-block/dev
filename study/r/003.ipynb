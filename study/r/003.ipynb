{
 "cells": [
  {
   "cell_type": "markdown",
   "metadata": {},
   "source": [
    "### jitter\n",
    "- 흔들기\n",
    "\n",
    "### Barchart\n",
    "- 이산변수, 1변수\n",
    "    - 2변수\n",
    "        - x변수 외에도 이산 변수를 추가할 수 있음\n",
    "        - 시각화\n",
    "            - color\n",
    "                - color = class\n",
    "            - fill\n",
    "                - fill = class\n",
    "                - 1변수 외에 변수를 추가해도 정보를 많이 주지 않음\n",
    "            - dodge\n",
    "                - position = \"dodge\"\n",
    "                    - 3~4개의 변수가 적당함\n",
    "            - fill\n",
    "                - position = \"fill\"\n",
    "                - %(비율)로 채워짐 ... 전체 중 비중을 따지는 것\n",
    "                - 막대그래프로 그리고 따질 수는 있는데... 파이 차트로 하는 게 좋음\n",
    "                \n",
    "### Histogram\n",
    "- 연속형 변수\n",
    "\n",
    "### Boxplot\n",
    "- x: 이산 변수, y: 연속 변수\n",
    "- x 변수 각각의 값에 대해서 연속 변수인 y의 분포를 볼 수 있음 (박스의 높이)\n",
    "- x변수의 값은 이산 변수면서, factor라면 변수의 값이 character라서 display가 복잡할 가능성이 높음\n",
    "\n",
    "### Pie-chart\n",
    "\n",
    "- theta = \"y\"\n",
    "    - 각은 y값을 가져야 한다."
   ]
  },
  {
   "cell_type": "code",
   "execution_count": null,
   "metadata": {},
   "outputs": [],
   "source": []
  },
  {
   "cell_type": "markdown",
   "metadata": {},
   "source": [
    "# Textmining\n",
    "## I have a dream."
   ]
  },
  {
   "cell_type": "markdown",
   "metadata": {},
   "source": [
    "# 0. Setup"
   ]
  },
  {
   "cell_type": "code",
   "execution_count": 4,
   "metadata": {},
   "outputs": [],
   "source": [
    "library(tm) # for text mining\n",
    "library(SnowballC) # for text stemming\n",
    "library(wordcloud) # word-cloud generator \n",
    "library(RColorBrewer) # color palettes\n",
    "library(ggplot2)\n",
    "library(dplyr)\n",
    "# activate(c(\"tm\", \"SnowballC\"))"
   ]
  },
  {
   "cell_type": "markdown",
   "metadata": {},
   "source": [
    "# 1. Infile and prepare text (docs)"
   ]
  },
  {
   "cell_type": "code",
   "execution_count": 6,
   "metadata": {},
   "outputs": [
    {
     "data": {
      "text/html": [
       "<ol class=list-inline>\n",
       "\t<li>'SimpleCorpus'</li>\n",
       "\t<li>'Corpus'</li>\n",
       "</ol>\n"
      ],
      "text/latex": [
       "\\begin{enumerate*}\n",
       "\\item 'SimpleCorpus'\n",
       "\\item 'Corpus'\n",
       "\\end{enumerate*}\n"
      ],
      "text/markdown": [
       "1. 'SimpleCorpus'\n",
       "2. 'Corpus'\n",
       "\n",
       "\n"
      ],
      "text/plain": [
       "[1] \"SimpleCorpus\" \"Corpus\"      "
      ]
     },
     "metadata": {},
     "output_type": "display_data"
    }
   ],
   "source": [
    "filePath <- paste0(\"http://www.sthda.com/sthda/RDoc/example-files/\",\n",
    "                   \"martin-luther-king-i-have-a-dream-speech.txt\")\n",
    "text <- readLines(filePath)\n",
    "docs <- Corpus(VectorSource(text))\n",
    "# inspect(docs)\n",
    "class(docs)"
   ]
  },
  {
   "cell_type": "code",
   "execution_count": 3,
   "metadata": {
    "scrolled": true
   },
   "outputs": [
    {
     "name": "stdout",
     "output_type": "stream",
     "text": [
      "<<SimpleCorpus>>\n",
      "Metadata:  corpus specific: 1, document level (indexed): 0\n",
      "Content:  documents: 46\n",
      "\n",
      " [1]                                                                                                                                                                                                                                                                                                                                                                                                               \n",
      " [2] And so even though we face the difficulties of today and tomorrow, I still have a dream. It is a dream deeply rooted in the American dream.                                                                                                                                                                                                                                                                   \n",
      " [3]                                                                                                                                                                                                                                                                                                                                                                                                               \n",
      " [4] I have a dream that one day this nation will rise up and live out the true meaning of its creed:                                                                                                                                                                                                                                                                                                              \n",
      " [5]                                                                                                                                                                                                                                                                                                                                                                                                               \n",
      " [6] We hold these truths to be self-evident, that all men are created equal.                                                                                                                                                                                                                                                                                                                                      \n",
      " [7]                                                                                                                                                                                                                                                                                                                                                                                                               \n",
      " [8] I have a dream that one day on the red hills of Georgia, the sons of former slaves and the sons of former slave owners will be able to sit down together at the table of brotherhood.                                                                                                                                                                                                                         \n",
      " [9]                                                                                                                                                                                                                                                                                                                                                                                                               \n",
      "[10] I have a dream that one day even the state of Mississippi, a state sweltering with the heat of injustice, sweltering with the heat of oppression, will be transformed into an oasis of freedom and justice.                                                                                                                                                                                                   \n",
      "[11]                                                                                                                                                                                                                                                                                                                                                                                                               \n",
      "[12] I have a dream that my four little children will one day live in a nation where they will not be judged by the color of their skin but by the content of their character.                                                                                                                                                                                                                                     \n",
      "[13]                                                                                                                                                                                                                                                                                                                                                                                                               \n",
      "[14] I have a dream today!                                                                                                                                                                                                                                                                                                                                                                                         \n",
      "[15]                                                                                                                                                                                                                                                                                                                                                                                                               \n",
      "[16] I have a dream that one day, down in Alabama, with its vicious racists, with its governor having his lips dripping with the words of interposition and nullification, one day right there in Alabama little black boys and black girls will be able to join hands with little white boys and white girls as sisters and brothers.                                                                             \n",
      "[17]                                                                                                                                                                                                                                                                                                                                                                                                               \n",
      "[18] I have a dream today!                                                                                                                                                                                                                                                                                                                                                                                         \n",
      "[19]                                                                                                                                                                                                                                                                                                                                                                                                               \n",
      "[20] I have a dream that one day every valley shall be exalted, and every hill and mountain shall be made low, the rough places will be made plain, and the crooked places will be made straight; and the glory of the Lord shall be revealed and all flesh shall see it together.                                                                                                                                 \n",
      "[21]                                                                                                                                                                                                                                                                                                                                                                                                               \n",
      "[22] This is our hope, and this is the faith that I go back to the South with.                                                                                                                                                                                                                                                                                                                                     \n",
      "[23]                                                                                                                                                                                                                                                                                                                                                                                                               \n",
      "[24] With this faith, we will be able to hew out of the mountain of despair a stone of hope. With this faith, we will be able to transform the jangling discords of our nation into a beautiful symphony of brotherhood. With this faith, we will be able to work together, to pray together, to struggle together, to go to jail together, to stand up for freedom together, knowing that we will be free one day.\n",
      "[25]                                                                                                                                                                                                                                                                                                                                                                                                               \n",
      "[26] And this will be the day, this will be the day when all of God s children will be able to sing with new meaning:                                                                                                                                                                                                                                                                                              \n",
      "[27]                                                                                                                                                                                                                                                                                                                                                                                                               \n",
      "[28] My country  tis of thee, sweet land of liberty, of thee I sing.                                                                                                                                                                                                                                                                                                                                               \n",
      "[29] Land where my fathers died, land of the Pilgrim s pride,                                                                                                                                                                                                                                                                                                                                                      \n",
      "[30] From every mountainside, let freedom ring!                                                                                                                                                                                                                                                                                                                                                                    \n",
      "[31] And if America is to be a great nation, this must become true.                                                                                                                                                                                                                                                                                                                                                \n",
      "[32] And so let freedom ring from the prodigious hilltops of New Hampshire.                                                                                                                                                                                                                                                                                                                                        \n",
      "[33] Let freedom ring from the mighty mountains of New York.                                                                                                                                                                                                                                                                                                                                                       \n",
      "[34] Let freedom ring from the heightening Alleghenies of Pennsylvania.                                                                                                                                                                                                                                                                                                                                            \n",
      "[35] Let freedom ring from the snow-capped Rockies of Colorado.                                                                                                                                                                                                                                                                                                                                                    \n",
      "[36] Let freedom ring from the curvaceous slopes of California.                                                                                                                                                                                                                                                                                                                                                    \n",
      "[37]                                                                                                                                                                                                                                                                                                                                                                                                               \n",
      "[38] But not only that:                                                                                                                                                                                                                                                                                                                                                                                            \n",
      "[39] Let freedom ring from Stone Mountain of Georgia.                                                                                                                                                                                                                                                                                                                                                              \n",
      "[40] Let freedom ring from Lookout Mountain of Tennessee.                                                                                                                                                                                                                                                                                                                                                          \n",
      "[41] Let freedom ring from every hill and molehill of Mississippi.                                                                                                                                                                                                                                                                                                                                                 \n",
      "[42] From every mountainside, let freedom ring.                                                                                                                                                                                                                                                                                                                                                                    \n",
      "[43] And when this happens, when we allow freedom ring, when we let it ring from every village and every hamlet, from every state and every city, we will be able to speed up that day when all of God s children, black men and white men, Jews and Gentiles, Protestants and Catholics, will be able to join hands and sing in the words of the old Negro spiritual:                                             \n",
      "[44] Free at last! Free at last!                                                                                                                                                                                                                                                                                                                                                                                   \n",
      "[45]                                                                                                                                                                                                                                                                                                                                                                                                               \n",
      "[46] Thank God Almighty, we are free at last!                                                                                                                                                                                                                                                                                                                                                                      \n"
     ]
    }
   ],
   "source": [
    "inspect(docs)"
   ]
  },
  {
   "cell_type": "markdown",
   "metadata": {},
   "source": [
    "# 2. Cleanup the text (docs)"
   ]
  },
  {
   "cell_type": "code",
   "execution_count": 7,
   "metadata": {},
   "outputs": [],
   "source": [
    "# `dplyr` way\n",
    "toSpace <- content_transformer(\n",
    "  function (x , pattern) gsub(pattern, \" \", x))\n",
    "docs <- docs %>% \n",
    "  tm_map(toSpace, \"/\") %>%\n",
    "  tm_map(toSpace, \"@\") %>%\n",
    "  tm_map(toSpace, \"\\\\|\")"
   ]
  },
  {
   "cell_type": "code",
   "execution_count": 8,
   "metadata": {},
   "outputs": [],
   "source": [
    "docs <- docs %>% \n",
    "  tm_map(content_transformer(tolower)) %>%         # Convert it to lower case\n",
    "  tm_map(removeNumbers) %>%                        # Remove numbers\n",
    "  tm_map(removeWords, stopwords(\"english\")) %>%    # Remove english common stopwords\n",
    "  tm_map(removeWords, c(\"blabla1\", \"blabla2\")) %>% # Remove your own stop word\n",
    "  tm_map(removePunctuation) %>%                    # Remove punctuations    \n",
    "  tm_map(stripWhitespace)                          # Eliminate extra white spaces"
   ]
  },
  {
   "cell_type": "code",
   "execution_count": 10,
   "metadata": {},
   "outputs": [
    {
     "name": "stdout",
     "output_type": "stream",
     "text": [
      "<<SimpleCorpus>>\n",
      "Metadata:  corpus specific: 1, document level (indexed): 0\n",
      "Content:  documents: 46\n",
      "\n",
      " [1]                                                                                                                                                                                                                                                                   \n",
      " [2]  even though face difficulties today tomorrow still dream dream deeply rooted american dream                                                                                                                                                                      \n",
      " [3]                                                                                                                                                                                                                                                                   \n",
      " [4]  dream one day nation will rise live true meaning creed                                                                                                                                                                                                           \n",
      " [5]                                                                                                                                                                                                                                                                   \n",
      " [6]  hold truths selfevident men created equal                                                                                                                                                                                                                        \n",
      " [7]                                                                                                                                                                                                                                                                   \n",
      " [8]  dream one day red hills georgia sons former slaves sons former slave owners will able sit together table brotherhood                                                                                                                                             \n",
      " [9]                                                                                                                                                                                                                                                                   \n",
      "[10]  dream one day even state mississippi state sweltering heat injustice sweltering heat oppression will transformed oasis freedom justice                                                                                                                           \n",
      "[11]                                                                                                                                                                                                                                                                   \n",
      "[12]  dream four little children will one day live nation will judged color skin content character                                                                                                                                                                     \n",
      "[13]                                                                                                                                                                                                                                                                   \n",
      "[14]  dream today                                                                                                                                                                                                                                                      \n",
      "[15]                                                                                                                                                                                                                                                                   \n",
      "[16]  dream one day alabama vicious racists governor lips dripping words interposition nullification one day right alabama little black boys black girls will able join hands little white boys white girls sisters brothers                                           \n",
      "[17]                                                                                                                                                                                                                                                                   \n",
      "[18]  dream today                                                                                                                                                                                                                                                      \n",
      "[19]                                                                                                                                                                                                                                                                   \n",
      "[20]  dream one day every valley shall exalted every hill mountain shall made low rough places will made plain crooked places will made straight glory lord shall revealed flesh shall see together                                                                    \n",
      "[21]                                                                                                                                                                                                                                                                   \n",
      "[22]  hope faith go back south                                                                                                                                                                                                                                         \n",
      "[23]                                                                                                                                                                                                                                                                   \n",
      "[24]  faith will able hew mountain despair stone hope faith will able transform jangling discords nation beautiful symphony brotherhood faith will able work together pray together struggle together go jail together stand freedom together knowing will free one day\n",
      "[25]                                                                                                                                                                                                                                                                   \n",
      "[26]  will day will day god s children will able sing new meaning                                                                                                                                                                                                      \n",
      "[27]                                                                                                                                                                                                                                                                   \n",
      "[28]  country tis thee sweet land liberty thee sing                                                                                                                                                                                                                    \n",
      "[29] land fathers died land pilgrim s pride                                                                                                                                                                                                                            \n",
      "[30]  every mountainside let freedom ring                                                                                                                                                                                                                              \n",
      "[31]  america great nation must become true                                                                                                                                                                                                                            \n",
      "[32]  let freedom ring prodigious hilltops new hampshire                                                                                                                                                                                                               \n",
      "[33] let freedom ring mighty mountains new york                                                                                                                                                                                                                        \n",
      "[34] let freedom ring heightening alleghenies pennsylvania                                                                                                                                                                                                             \n",
      "[35] let freedom ring snowcapped rockies colorado                                                                                                                                                                                                                      \n",
      "[36] let freedom ring curvaceous slopes california                                                                                                                                                                                                                     \n",
      "[37]                                                                                                                                                                                                                                                                   \n",
      "[38]                                                                                                                                                                                                                                                                   \n",
      "[39] let freedom ring stone mountain georgia                                                                                                                                                                                                                           \n",
      "[40] let freedom ring lookout mountain tennessee                                                                                                                                                                                                                       \n",
      "[41] let freedom ring every hill molehill mississippi                                                                                                                                                                                                                  \n",
      "[42]  every mountainside let freedom ring                                                                                                                                                                                                                              \n",
      "[43]  happens allow freedom ring let ring every village every hamlet every state every city will able speed day god s children black men white men jews gentiles protestants catholics will able join hands sing words old negro spiritual                             \n",
      "[44] free last free last                                                                                                                                                                                                                                               \n",
      "[45]                                                                                                                                                                                                                                                                   \n",
      "[46] thank god almighty free last                                                                                                                                                                                                                                      \n"
     ]
    }
   ],
   "source": [
    "inspect(docs)"
   ]
  },
  {
   "cell_type": "code",
   "execution_count": null,
   "metadata": {},
   "outputs": [],
   "source": []
  },
  {
   "cell_type": "code",
   "execution_count": 11,
   "metadata": {},
   "outputs": [
    {
     "data": {
      "text/html": [
       "<table>\n",
       "<thead><tr><th></th><th scope=col>1</th><th scope=col>2</th><th scope=col>3</th><th scope=col>4</th><th scope=col>5</th><th scope=col>6</th><th scope=col>7</th><th scope=col>8</th><th scope=col>9</th><th scope=col>10</th><th scope=col>⋯</th><th scope=col>37</th><th scope=col>38</th><th scope=col>39</th><th scope=col>40</th><th scope=col>41</th><th scope=col>42</th><th scope=col>43</th><th scope=col>44</th><th scope=col>45</th><th scope=col>46</th></tr></thead>\n",
       "<tbody>\n",
       "\t<tr><th scope=row>american</th><td>0</td><td>1</td><td>0</td><td>0</td><td>0</td><td>0</td><td>0</td><td>0</td><td>0</td><td>0</td><td>⋯</td><td>0</td><td>0</td><td>0</td><td>0</td><td>0</td><td>0</td><td>0</td><td>0</td><td>0</td><td>0</td></tr>\n",
       "\t<tr><th scope=row>deeply</th><td>0</td><td>1</td><td>0</td><td>0</td><td>0</td><td>0</td><td>0</td><td>0</td><td>0</td><td>0</td><td>⋯</td><td>0</td><td>0</td><td>0</td><td>0</td><td>0</td><td>0</td><td>0</td><td>0</td><td>0</td><td>0</td></tr>\n",
       "</tbody>\n",
       "</table>\n"
      ],
      "text/latex": [
       "\\begin{tabular}{r|llllllllllllllllllllllllllllllllllllllllllllll}\n",
       "  & 1 & 2 & 3 & 4 & 5 & 6 & 7 & 8 & 9 & 10 & ⋯ & 37 & 38 & 39 & 40 & 41 & 42 & 43 & 44 & 45 & 46\\\\\n",
       "\\hline\n",
       "\tamerican & 0 & 1 & 0 & 0 & 0 & 0 & 0 & 0 & 0 & 0 & ⋯ & 0 & 0 & 0 & 0 & 0 & 0 & 0 & 0 & 0 & 0\\\\\n",
       "\tdeeply & 0 & 1 & 0 & 0 & 0 & 0 & 0 & 0 & 0 & 0 & ⋯ & 0 & 0 & 0 & 0 & 0 & 0 & 0 & 0 & 0 & 0\\\\\n",
       "\\end{tabular}\n"
      ],
      "text/markdown": [
       "\n",
       "| <!--/--> | 1 | 2 | 3 | 4 | 5 | 6 | 7 | 8 | 9 | 10 | ⋯ | 37 | 38 | 39 | 40 | 41 | 42 | 43 | 44 | 45 | 46 | \n",
       "|---|---|\n",
       "| american | 0 | 1 | 0 | 0 | 0 | 0 | 0 | 0 | 0 | 0 | ⋯ | 0 | 0 | 0 | 0 | 0 | 0 | 0 | 0 | 0 | 0 | \n",
       "| deeply | 0 | 1 | 0 | 0 | 0 | 0 | 0 | 0 | 0 | 0 | ⋯ | 0 | 0 | 0 | 0 | 0 | 0 | 0 | 0 | 0 | 0 | \n",
       "\n",
       "\n"
      ],
      "text/plain": [
       "         1 2 3 4 5 6 7 8 9 10 ⋯ 37 38 39 40 41 42 43 44 45 46\n",
       "american 0 1 0 0 0 0 0 0 0 0  ⋯ 0  0  0  0  0  0  0  0  0  0 \n",
       "deeply   0 1 0 0 0 0 0 0 0 0  ⋯ 0  0  0  0  0  0  0  0  0  0 "
      ]
     },
     "metadata": {},
     "output_type": "display_data"
    },
    {
     "data": {
      "text/html": [
       "<table>\n",
       "<thead><tr><th scope=col>word</th><th scope=col>freq</th></tr></thead>\n",
       "<tbody>\n",
       "\t<tr><td>will   </td><td>17     </td></tr>\n",
       "\t<tr><td>freedom</td><td>13     </td></tr>\n",
       "</tbody>\n",
       "</table>\n"
      ],
      "text/latex": [
       "\\begin{tabular}{r|ll}\n",
       " word & freq\\\\\n",
       "\\hline\n",
       "\t will    & 17     \\\\\n",
       "\t freedom & 13     \\\\\n",
       "\\end{tabular}\n"
      ],
      "text/markdown": [
       "\n",
       "word | freq | \n",
       "|---|---|\n",
       "| will    | 17      | \n",
       "| freedom | 13      | \n",
       "\n",
       "\n"
      ],
      "text/plain": [
       "  word    freq\n",
       "1 will    17  \n",
       "2 freedom 13  "
      ]
     },
     "metadata": {},
     "output_type": "display_data"
    }
   ],
   "source": [
    "termMat   <- TermDocumentMatrix(docs)\n",
    "termTable <- as.matrix(termMat)\n",
    "head(termTable, 2)\n",
    "freqTable <- data.frame(word = rownames(termTable),\n",
    "                        freq = rowSums(termTable))\n",
    "freqTable$word <- rownames(freqTable)\n",
    "freqTable <- freqTable %>% arrange(desc(freq))\n",
    "head(freqTable, 2)"
   ]
  },
  {
   "cell_type": "code",
   "execution_count": null,
   "metadata": {},
   "outputs": [],
   "source": []
  }
 ],
 "metadata": {
  "kernelspec": {
   "display_name": "R",
   "language": "R",
   "name": "ir"
  },
  "language_info": {
   "codemirror_mode": "r",
   "file_extension": ".r",
   "mimetype": "text/x-r-source",
   "name": "R",
   "pygments_lexer": "r",
   "version": "3.5.0"
  }
 },
 "nbformat": 4,
 "nbformat_minor": 2
}
