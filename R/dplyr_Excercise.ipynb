{
 "cells": [
  {
   "cell_type": "markdown",
   "metadata": {},
   "source": [
    "# [dplyr Excercise](https://www.r-exercises.com/2017/10/19/dplyr-basic-functions-exercises-solutions/)"
   ]
  },
  {
   "cell_type": "markdown",
   "metadata": {},
   "source": [
    "### Exercise 1\n",
    "- Select the first three columns of the iris dataset using their column names. HINT: Use select()."
   ]
  },
  {
   "cell_type": "code",
   "execution_count": 11,
   "metadata": {},
   "outputs": [
    {
     "data": {
      "text/html": [
       "<table>\n",
       "<thead><tr><th scope=col>Sepal.Length</th><th scope=col>Sepal.Width</th><th scope=col>Petal.Length</th></tr></thead>\n",
       "<tbody>\n",
       "\t<tr><td>5.1</td><td>3.5</td><td>1.4</td></tr>\n",
       "\t<tr><td>4.9</td><td>3.0</td><td>1.4</td></tr>\n",
       "\t<tr><td>4.7</td><td>3.2</td><td>1.3</td></tr>\n",
       "\t<tr><td>4.6</td><td>3.1</td><td>1.5</td></tr>\n",
       "\t<tr><td>5.0</td><td>3.6</td><td>1.4</td></tr>\n",
       "\t<tr><td>5.4</td><td>3.9</td><td>1.7</td></tr>\n",
       "</tbody>\n",
       "</table>\n"
      ],
      "text/latex": [
       "\\begin{tabular}{r|lll}\n",
       " Sepal.Length & Sepal.Width & Petal.Length\\\\\n",
       "\\hline\n",
       "\t 5.1 & 3.5 & 1.4\\\\\n",
       "\t 4.9 & 3.0 & 1.4\\\\\n",
       "\t 4.7 & 3.2 & 1.3\\\\\n",
       "\t 4.6 & 3.1 & 1.5\\\\\n",
       "\t 5.0 & 3.6 & 1.4\\\\\n",
       "\t 5.4 & 3.9 & 1.7\\\\\n",
       "\\end{tabular}\n"
      ],
      "text/markdown": [
       "\n",
       "Sepal.Length | Sepal.Width | Petal.Length | \n",
       "|---|---|---|---|---|---|\n",
       "| 5.1 | 3.5 | 1.4 | \n",
       "| 4.9 | 3.0 | 1.4 | \n",
       "| 4.7 | 3.2 | 1.3 | \n",
       "| 4.6 | 3.1 | 1.5 | \n",
       "| 5.0 | 3.6 | 1.4 | \n",
       "| 5.4 | 3.9 | 1.7 | \n",
       "\n",
       "\n"
      ],
      "text/plain": [
       "  Sepal.Length Sepal.Width Petal.Length\n",
       "1 5.1          3.5         1.4         \n",
       "2 4.9          3.0         1.4         \n",
       "3 4.7          3.2         1.3         \n",
       "4 4.6          3.1         1.5         \n",
       "5 5.0          3.6         1.4         \n",
       "6 5.4          3.9         1.7         "
      ]
     },
     "metadata": {},
     "output_type": "display_data"
    }
   ],
   "source": [
    "iris %>% select(names(iris[1:3])) %>% head"
   ]
  },
  {
   "cell_type": "markdown",
   "metadata": {},
   "source": [
    "### Exercise 2\n",
    "- Select all the columns of the iris dataset except “Petal Width”. HINT: Use “-“."
   ]
  },
  {
   "cell_type": "code",
   "execution_count": 15,
   "metadata": {},
   "outputs": [
    {
     "data": {
      "text/html": [
       "<ol class=list-inline>\n",
       "\t<li>'Sepal.Length'</li>\n",
       "\t<li>'Sepal.Width'</li>\n",
       "\t<li>'Petal.Length'</li>\n",
       "\t<li>'Petal.Width'</li>\n",
       "\t<li>'Species'</li>\n",
       "</ol>\n"
      ],
      "text/latex": [
       "\\begin{enumerate*}\n",
       "\\item 'Sepal.Length'\n",
       "\\item 'Sepal.Width'\n",
       "\\item 'Petal.Length'\n",
       "\\item 'Petal.Width'\n",
       "\\item 'Species'\n",
       "\\end{enumerate*}\n"
      ],
      "text/markdown": [
       "1. 'Sepal.Length'\n",
       "2. 'Sepal.Width'\n",
       "3. 'Petal.Length'\n",
       "4. 'Petal.Width'\n",
       "5. 'Species'\n",
       "\n",
       "\n"
      ],
      "text/plain": [
       "[1] \"Sepal.Length\" \"Sepal.Width\"  \"Petal.Length\" \"Petal.Width\"  \"Species\"     "
      ]
     },
     "metadata": {},
     "output_type": "display_data"
    },
    {
     "data": {
      "text/html": [
       "<table>\n",
       "<thead><tr><th scope=col>Sepal.Length</th><th scope=col>Sepal.Width</th><th scope=col>Species</th></tr></thead>\n",
       "<tbody>\n",
       "\t<tr><td>5.1   </td><td>3.5   </td><td>setosa</td></tr>\n",
       "\t<tr><td>4.9   </td><td>3.0   </td><td>setosa</td></tr>\n",
       "\t<tr><td>4.7   </td><td>3.2   </td><td>setosa</td></tr>\n",
       "\t<tr><td>4.6   </td><td>3.1   </td><td>setosa</td></tr>\n",
       "\t<tr><td>5.0   </td><td>3.6   </td><td>setosa</td></tr>\n",
       "\t<tr><td>5.4   </td><td>3.9   </td><td>setosa</td></tr>\n",
       "</tbody>\n",
       "</table>\n"
      ],
      "text/latex": [
       "\\begin{tabular}{r|lll}\n",
       " Sepal.Length & Sepal.Width & Species\\\\\n",
       "\\hline\n",
       "\t 5.1    & 3.5    & setosa\\\\\n",
       "\t 4.9    & 3.0    & setosa\\\\\n",
       "\t 4.7    & 3.2    & setosa\\\\\n",
       "\t 4.6    & 3.1    & setosa\\\\\n",
       "\t 5.0    & 3.6    & setosa\\\\\n",
       "\t 5.4    & 3.9    & setosa\\\\\n",
       "\\end{tabular}\n"
      ],
      "text/markdown": [
       "\n",
       "Sepal.Length | Sepal.Width | Species | \n",
       "|---|---|---|---|---|---|\n",
       "| 5.1    | 3.5    | setosa | \n",
       "| 4.9    | 3.0    | setosa | \n",
       "| 4.7    | 3.2    | setosa | \n",
       "| 4.6    | 3.1    | setosa | \n",
       "| 5.0    | 3.6    | setosa | \n",
       "| 5.4    | 3.9    | setosa | \n",
       "\n",
       "\n"
      ],
      "text/plain": [
       "  Sepal.Length Sepal.Width Species\n",
       "1 5.1          3.5         setosa \n",
       "2 4.9          3.0         setosa \n",
       "3 4.7          3.2         setosa \n",
       "4 4.6          3.1         setosa \n",
       "5 5.0          3.6         setosa \n",
       "6 5.4          3.9         setosa "
      ]
     },
     "metadata": {},
     "output_type": "display_data"
    }
   ],
   "source": [
    "names(iris)\n",
    "iris %>% select(-Petal.Length, -Petal.Width) %>% head"
   ]
  },
  {
   "cell_type": "markdown",
   "metadata": {},
   "source": [
    "### Exercise 3\n",
    "- Select all columns of the iris dataset that start with the character string “P”."
   ]
  },
  {
   "cell_type": "code",
   "execution_count": 18,
   "metadata": {},
   "outputs": [
    {
     "data": {
      "text/html": [
       "<table>\n",
       "<thead><tr><th scope=col>Petal.Length</th><th scope=col>Petal.Width</th></tr></thead>\n",
       "<tbody>\n",
       "\t<tr><td>1.4</td><td>0.2</td></tr>\n",
       "\t<tr><td>1.4</td><td>0.2</td></tr>\n",
       "\t<tr><td>1.3</td><td>0.2</td></tr>\n",
       "\t<tr><td>1.5</td><td>0.2</td></tr>\n",
       "\t<tr><td>1.4</td><td>0.2</td></tr>\n",
       "\t<tr><td>1.7</td><td>0.4</td></tr>\n",
       "</tbody>\n",
       "</table>\n"
      ],
      "text/latex": [
       "\\begin{tabular}{r|ll}\n",
       " Petal.Length & Petal.Width\\\\\n",
       "\\hline\n",
       "\t 1.4 & 0.2\\\\\n",
       "\t 1.4 & 0.2\\\\\n",
       "\t 1.3 & 0.2\\\\\n",
       "\t 1.5 & 0.2\\\\\n",
       "\t 1.4 & 0.2\\\\\n",
       "\t 1.7 & 0.4\\\\\n",
       "\\end{tabular}\n"
      ],
      "text/markdown": [
       "\n",
       "Petal.Length | Petal.Width | \n",
       "|---|---|---|---|---|---|\n",
       "| 1.4 | 0.2 | \n",
       "| 1.4 | 0.2 | \n",
       "| 1.3 | 0.2 | \n",
       "| 1.5 | 0.2 | \n",
       "| 1.4 | 0.2 | \n",
       "| 1.7 | 0.4 | \n",
       "\n",
       "\n"
      ],
      "text/plain": [
       "  Petal.Length Petal.Width\n",
       "1 1.4          0.2        \n",
       "2 1.4          0.2        \n",
       "3 1.3          0.2        \n",
       "4 1.5          0.2        \n",
       "5 1.4          0.2        \n",
       "6 1.7          0.4        "
      ]
     },
     "metadata": {},
     "output_type": "display_data"
    }
   ],
   "source": [
    "iris %>% select(starts_with(\"P\")) %>% head"
   ]
  },
  {
   "cell_type": "markdown",
   "metadata": {},
   "source": [
    "### Exercise 4\n",
    "- Filter the rows of the iris dataset for Sepal.Length >= 4.6 and Petal.Width >= 0.5."
   ]
  },
  {
   "cell_type": "code",
   "execution_count": 24,
   "metadata": {},
   "outputs": [
    {
     "data": {
      "text/html": [
       "<table>\n",
       "<thead><tr><th scope=col>Sepal.Length</th><th scope=col>Sepal.Width</th><th scope=col>Petal.Length</th><th scope=col>Petal.Width</th><th scope=col>Species</th></tr></thead>\n",
       "<tbody>\n",
       "\t<tr><td>5.1       </td><td>3.3       </td><td>1.7       </td><td>0.5       </td><td>setosa    </td></tr>\n",
       "\t<tr><td>5.0       </td><td>3.5       </td><td>1.6       </td><td>0.6       </td><td>setosa    </td></tr>\n",
       "\t<tr><td>7.0       </td><td>3.2       </td><td>4.7       </td><td>1.4       </td><td>versicolor</td></tr>\n",
       "\t<tr><td>6.4       </td><td>3.2       </td><td>4.5       </td><td>1.5       </td><td>versicolor</td></tr>\n",
       "\t<tr><td>6.9       </td><td>3.1       </td><td>4.9       </td><td>1.5       </td><td>versicolor</td></tr>\n",
       "\t<tr><td>5.5       </td><td>2.3       </td><td>4.0       </td><td>1.3       </td><td>versicolor</td></tr>\n",
       "</tbody>\n",
       "</table>\n"
      ],
      "text/latex": [
       "\\begin{tabular}{r|lllll}\n",
       " Sepal.Length & Sepal.Width & Petal.Length & Petal.Width & Species\\\\\n",
       "\\hline\n",
       "\t 5.1        & 3.3        & 1.7        & 0.5        & setosa    \\\\\n",
       "\t 5.0        & 3.5        & 1.6        & 0.6        & setosa    \\\\\n",
       "\t 7.0        & 3.2        & 4.7        & 1.4        & versicolor\\\\\n",
       "\t 6.4        & 3.2        & 4.5        & 1.5        & versicolor\\\\\n",
       "\t 6.9        & 3.1        & 4.9        & 1.5        & versicolor\\\\\n",
       "\t 5.5        & 2.3        & 4.0        & 1.3        & versicolor\\\\\n",
       "\\end{tabular}\n"
      ],
      "text/markdown": [
       "\n",
       "Sepal.Length | Sepal.Width | Petal.Length | Petal.Width | Species | \n",
       "|---|---|---|---|---|---|\n",
       "| 5.1        | 3.3        | 1.7        | 0.5        | setosa     | \n",
       "| 5.0        | 3.5        | 1.6        | 0.6        | setosa     | \n",
       "| 7.0        | 3.2        | 4.7        | 1.4        | versicolor | \n",
       "| 6.4        | 3.2        | 4.5        | 1.5        | versicolor | \n",
       "| 6.9        | 3.1        | 4.9        | 1.5        | versicolor | \n",
       "| 5.5        | 2.3        | 4.0        | 1.3        | versicolor | \n",
       "\n",
       "\n"
      ],
      "text/plain": [
       "  Sepal.Length Sepal.Width Petal.Length Petal.Width Species   \n",
       "1 5.1          3.3         1.7          0.5         setosa    \n",
       "2 5.0          3.5         1.6          0.6         setosa    \n",
       "3 7.0          3.2         4.7          1.4         versicolor\n",
       "4 6.4          3.2         4.5          1.5         versicolor\n",
       "5 6.9          3.1         4.9          1.5         versicolor\n",
       "6 5.5          2.3         4.0          1.3         versicolor"
      ]
     },
     "metadata": {},
     "output_type": "display_data"
    }
   ],
   "source": [
    "iris %>% filter(Sepal.Length >= 4.6 & Petal.Width >= 0.5) %>% head"
   ]
  },
  {
   "cell_type": "markdown",
   "metadata": {},
   "source": [
    "### Exercise 5\n",
    "- Pipe the iris data frame to the function that will select two columns (Sepal.Width and Sepal.Length). HINT: Use pipe operator."
   ]
  },
  {
   "cell_type": "code",
   "execution_count": 25,
   "metadata": {},
   "outputs": [
    {
     "data": {
      "text/html": [
       "<table>\n",
       "<thead><tr><th scope=col>Sepal.Width</th><th scope=col>Sepal.Length</th></tr></thead>\n",
       "<tbody>\n",
       "\t<tr><td>3.5</td><td>5.1</td></tr>\n",
       "\t<tr><td>3.0</td><td>4.9</td></tr>\n",
       "\t<tr><td>3.2</td><td>4.7</td></tr>\n",
       "\t<tr><td>3.1</td><td>4.6</td></tr>\n",
       "\t<tr><td>3.6</td><td>5.0</td></tr>\n",
       "\t<tr><td>3.9</td><td>5.4</td></tr>\n",
       "</tbody>\n",
       "</table>\n"
      ],
      "text/latex": [
       "\\begin{tabular}{r|ll}\n",
       " Sepal.Width & Sepal.Length\\\\\n",
       "\\hline\n",
       "\t 3.5 & 5.1\\\\\n",
       "\t 3.0 & 4.9\\\\\n",
       "\t 3.2 & 4.7\\\\\n",
       "\t 3.1 & 4.6\\\\\n",
       "\t 3.6 & 5.0\\\\\n",
       "\t 3.9 & 5.4\\\\\n",
       "\\end{tabular}\n"
      ],
      "text/markdown": [
       "\n",
       "Sepal.Width | Sepal.Length | \n",
       "|---|---|---|---|---|---|\n",
       "| 3.5 | 5.1 | \n",
       "| 3.0 | 4.9 | \n",
       "| 3.2 | 4.7 | \n",
       "| 3.1 | 4.6 | \n",
       "| 3.6 | 5.0 | \n",
       "| 3.9 | 5.4 | \n",
       "\n",
       "\n"
      ],
      "text/plain": [
       "  Sepal.Width Sepal.Length\n",
       "1 3.5         5.1         \n",
       "2 3.0         4.9         \n",
       "3 3.2         4.7         \n",
       "4 3.1         4.6         \n",
       "5 3.6         5.0         \n",
       "6 3.9         5.4         "
      ]
     },
     "metadata": {},
     "output_type": "display_data"
    }
   ],
   "source": [
    "iris %>% select(Sepal.Width, Sepal.Length) %>% head"
   ]
  },
  {
   "cell_type": "markdown",
   "metadata": {},
   "source": [
    "### Exercise 6\n",
    "- Arrange rows by a particular column, such as the Sepal.Width. HINT: Use arrange()."
   ]
  },
  {
   "cell_type": "code",
   "execution_count": 26,
   "metadata": {},
   "outputs": [
    {
     "data": {
      "text/html": [
       "<table>\n",
       "<thead><tr><th scope=col>Sepal.Length</th><th scope=col>Sepal.Width</th><th scope=col>Petal.Length</th><th scope=col>Petal.Width</th><th scope=col>Species</th></tr></thead>\n",
       "<tbody>\n",
       "\t<tr><td>5.0       </td><td>2.0       </td><td>3.5       </td><td>1.0       </td><td>versicolor</td></tr>\n",
       "\t<tr><td>6.0       </td><td>2.2       </td><td>4.0       </td><td>1.0       </td><td>versicolor</td></tr>\n",
       "\t<tr><td>6.2       </td><td>2.2       </td><td>4.5       </td><td>1.5       </td><td>versicolor</td></tr>\n",
       "\t<tr><td>6.0       </td><td>2.2       </td><td>5.0       </td><td>1.5       </td><td>virginica </td></tr>\n",
       "\t<tr><td>4.5       </td><td>2.3       </td><td>1.3       </td><td>0.3       </td><td>setosa    </td></tr>\n",
       "\t<tr><td>5.5       </td><td>2.3       </td><td>4.0       </td><td>1.3       </td><td>versicolor</td></tr>\n",
       "</tbody>\n",
       "</table>\n"
      ],
      "text/latex": [
       "\\begin{tabular}{r|lllll}\n",
       " Sepal.Length & Sepal.Width & Petal.Length & Petal.Width & Species\\\\\n",
       "\\hline\n",
       "\t 5.0        & 2.0        & 3.5        & 1.0        & versicolor\\\\\n",
       "\t 6.0        & 2.2        & 4.0        & 1.0        & versicolor\\\\\n",
       "\t 6.2        & 2.2        & 4.5        & 1.5        & versicolor\\\\\n",
       "\t 6.0        & 2.2        & 5.0        & 1.5        & virginica \\\\\n",
       "\t 4.5        & 2.3        & 1.3        & 0.3        & setosa    \\\\\n",
       "\t 5.5        & 2.3        & 4.0        & 1.3        & versicolor\\\\\n",
       "\\end{tabular}\n"
      ],
      "text/markdown": [
       "\n",
       "Sepal.Length | Sepal.Width | Petal.Length | Petal.Width | Species | \n",
       "|---|---|---|---|---|---|\n",
       "| 5.0        | 2.0        | 3.5        | 1.0        | versicolor | \n",
       "| 6.0        | 2.2        | 4.0        | 1.0        | versicolor | \n",
       "| 6.2        | 2.2        | 4.5        | 1.5        | versicolor | \n",
       "| 6.0        | 2.2        | 5.0        | 1.5        | virginica  | \n",
       "| 4.5        | 2.3        | 1.3        | 0.3        | setosa     | \n",
       "| 5.5        | 2.3        | 4.0        | 1.3        | versicolor | \n",
       "\n",
       "\n"
      ],
      "text/plain": [
       "  Sepal.Length Sepal.Width Petal.Length Petal.Width Species   \n",
       "1 5.0          2.0         3.5          1.0         versicolor\n",
       "2 6.0          2.2         4.0          1.0         versicolor\n",
       "3 6.2          2.2         4.5          1.5         versicolor\n",
       "4 6.0          2.2         5.0          1.5         virginica \n",
       "5 4.5          2.3         1.3          0.3         setosa    \n",
       "6 5.5          2.3         4.0          1.3         versicolor"
      ]
     },
     "metadata": {},
     "output_type": "display_data"
    }
   ],
   "source": [
    "iris %>% arrange(Sepal.Width) %>% head"
   ]
  },
  {
   "cell_type": "markdown",
   "metadata": {},
   "source": [
    "### Exercise 7\n",
    "- Select three columns from iris, arrange the rows by Sepal.Length, then arrange the rows by Sepal.Width."
   ]
  },
  {
   "cell_type": "code",
   "execution_count": 29,
   "metadata": {},
   "outputs": [
    {
     "data": {
      "text/html": [
       "<table>\n",
       "<thead><tr><th scope=col>Sepal.Length</th><th scope=col>Sepal.Width</th><th scope=col>Petal.Length</th></tr></thead>\n",
       "<tbody>\n",
       "\t<tr><td>4.3</td><td>3.0</td><td>1.1</td></tr>\n",
       "\t<tr><td>4.4</td><td>2.9</td><td>1.4</td></tr>\n",
       "\t<tr><td>4.4</td><td>3.0</td><td>1.3</td></tr>\n",
       "\t<tr><td>4.4</td><td>3.2</td><td>1.3</td></tr>\n",
       "\t<tr><td>4.5</td><td>2.3</td><td>1.3</td></tr>\n",
       "\t<tr><td>4.6</td><td>3.1</td><td>1.5</td></tr>\n",
       "</tbody>\n",
       "</table>\n"
      ],
      "text/latex": [
       "\\begin{tabular}{r|lll}\n",
       " Sepal.Length & Sepal.Width & Petal.Length\\\\\n",
       "\\hline\n",
       "\t 4.3 & 3.0 & 1.1\\\\\n",
       "\t 4.4 & 2.9 & 1.4\\\\\n",
       "\t 4.4 & 3.0 & 1.3\\\\\n",
       "\t 4.4 & 3.2 & 1.3\\\\\n",
       "\t 4.5 & 2.3 & 1.3\\\\\n",
       "\t 4.6 & 3.1 & 1.5\\\\\n",
       "\\end{tabular}\n"
      ],
      "text/markdown": [
       "\n",
       "Sepal.Length | Sepal.Width | Petal.Length | \n",
       "|---|---|---|---|---|---|\n",
       "| 4.3 | 3.0 | 1.1 | \n",
       "| 4.4 | 2.9 | 1.4 | \n",
       "| 4.4 | 3.0 | 1.3 | \n",
       "| 4.4 | 3.2 | 1.3 | \n",
       "| 4.5 | 2.3 | 1.3 | \n",
       "| 4.6 | 3.1 | 1.5 | \n",
       "\n",
       "\n"
      ],
      "text/plain": [
       "  Sepal.Length Sepal.Width Petal.Length\n",
       "1 4.3          3.0         1.1         \n",
       "2 4.4          2.9         1.4         \n",
       "3 4.4          3.0         1.3         \n",
       "4 4.4          3.2         1.3         \n",
       "5 4.5          2.3         1.3         \n",
       "6 4.6          3.1         1.5         "
      ]
     },
     "metadata": {},
     "output_type": "display_data"
    }
   ],
   "source": [
    "iris %>%\n",
    "    select(names(iris)[1:3]) %>%\n",
    "    arrange(Sepal.Length, Sepal.Width) %>%\n",
    "    head"
   ]
  },
  {
   "cell_type": "markdown",
   "metadata": {},
   "source": [
    "### Exercise 8\n",
    "- Create a new column called proportion, which is the ratio of Sepal.Length to Sepal.Width. HINT: Use mutate()."
   ]
  },
  {
   "cell_type": "code",
   "execution_count": 37,
   "metadata": {
    "scrolled": true
   },
   "outputs": [
    {
     "data": {
      "text/html": [
       "<table>\n",
       "<thead><tr><th scope=col>Sepal.Length</th><th scope=col>Sepal.Width</th><th scope=col>Petal.Length</th><th scope=col>Petal.Width</th><th scope=col>Species</th><th scope=col>proportion</th><th scope=col>avg_slength</th></tr></thead>\n",
       "<tbody>\n",
       "\t<tr><td>5.1     </td><td>3.5     </td><td>1.4     </td><td>0.2     </td><td>setosa  </td><td>1.457143</td><td>5.843333</td></tr>\n",
       "\t<tr><td>4.9     </td><td>3.0     </td><td>1.4     </td><td>0.2     </td><td>setosa  </td><td>1.633333</td><td>5.843333</td></tr>\n",
       "\t<tr><td>4.7     </td><td>3.2     </td><td>1.3     </td><td>0.2     </td><td>setosa  </td><td>1.468750</td><td>5.843333</td></tr>\n",
       "\t<tr><td>4.6     </td><td>3.1     </td><td>1.5     </td><td>0.2     </td><td>setosa  </td><td>1.483871</td><td>5.843333</td></tr>\n",
       "\t<tr><td>5.0     </td><td>3.6     </td><td>1.4     </td><td>0.2     </td><td>setosa  </td><td>1.388889</td><td>5.843333</td></tr>\n",
       "\t<tr><td>5.4     </td><td>3.9     </td><td>1.7     </td><td>0.4     </td><td>setosa  </td><td>1.384615</td><td>5.843333</td></tr>\n",
       "</tbody>\n",
       "</table>\n"
      ],
      "text/latex": [
       "\\begin{tabular}{r|lllllll}\n",
       " Sepal.Length & Sepal.Width & Petal.Length & Petal.Width & Species & proportion & avg\\_slength\\\\\n",
       "\\hline\n",
       "\t 5.1      & 3.5      & 1.4      & 0.2      & setosa   & 1.457143 & 5.843333\\\\\n",
       "\t 4.9      & 3.0      & 1.4      & 0.2      & setosa   & 1.633333 & 5.843333\\\\\n",
       "\t 4.7      & 3.2      & 1.3      & 0.2      & setosa   & 1.468750 & 5.843333\\\\\n",
       "\t 4.6      & 3.1      & 1.5      & 0.2      & setosa   & 1.483871 & 5.843333\\\\\n",
       "\t 5.0      & 3.6      & 1.4      & 0.2      & setosa   & 1.388889 & 5.843333\\\\\n",
       "\t 5.4      & 3.9      & 1.7      & 0.4      & setosa   & 1.384615 & 5.843333\\\\\n",
       "\\end{tabular}\n"
      ],
      "text/markdown": [
       "\n",
       "Sepal.Length | Sepal.Width | Petal.Length | Petal.Width | Species | proportion | avg_slength | \n",
       "|---|---|---|---|---|---|\n",
       "| 5.1      | 3.5      | 1.4      | 0.2      | setosa   | 1.457143 | 5.843333 | \n",
       "| 4.9      | 3.0      | 1.4      | 0.2      | setosa   | 1.633333 | 5.843333 | \n",
       "| 4.7      | 3.2      | 1.3      | 0.2      | setosa   | 1.468750 | 5.843333 | \n",
       "| 4.6      | 3.1      | 1.5      | 0.2      | setosa   | 1.483871 | 5.843333 | \n",
       "| 5.0      | 3.6      | 1.4      | 0.2      | setosa   | 1.388889 | 5.843333 | \n",
       "| 5.4      | 3.9      | 1.7      | 0.4      | setosa   | 1.384615 | 5.843333 | \n",
       "\n",
       "\n"
      ],
      "text/plain": [
       "  Sepal.Length Sepal.Width Petal.Length Petal.Width Species proportion\n",
       "1 5.1          3.5         1.4          0.2         setosa  1.457143  \n",
       "2 4.9          3.0         1.4          0.2         setosa  1.633333  \n",
       "3 4.7          3.2         1.3          0.2         setosa  1.468750  \n",
       "4 4.6          3.1         1.5          0.2         setosa  1.483871  \n",
       "5 5.0          3.6         1.4          0.2         setosa  1.388889  \n",
       "6 5.4          3.9         1.7          0.4         setosa  1.384615  \n",
       "  avg_slength\n",
       "1 5.843333   \n",
       "2 5.843333   \n",
       "3 5.843333   \n",
       "4 5.843333   \n",
       "5 5.843333   \n",
       "6 5.843333   "
      ]
     },
     "metadata": {},
     "output_type": "display_data"
    }
   ],
   "source": [
    "iris %>%\n",
    "    mutate(proportion = Sepal.Length / Sepal.Width) %>%\n",
    "    mutate(avg_slength = mean(Sepal.Length)) %>%\n",
    "    head"
   ]
  },
  {
   "cell_type": "markdown",
   "metadata": {},
   "source": [
    "### Exercise 9\n",
    "- Compute the average number of Sepal.Length, apply the mean() function to the column Sepal.Length, and call the summary value “avg_slength”. HINT: Use summarize()."
   ]
  },
  {
   "cell_type": "code",
   "execution_count": 33,
   "metadata": {},
   "outputs": [
    {
     "data": {
      "text/html": [
       "<table>\n",
       "<thead><tr><th scope=col>avg_slength</th></tr></thead>\n",
       "<tbody>\n",
       "\t<tr><td>5.843333</td></tr>\n",
       "</tbody>\n",
       "</table>\n"
      ],
      "text/latex": [
       "\\begin{tabular}{r|l}\n",
       " avg\\_slength\\\\\n",
       "\\hline\n",
       "\t 5.843333\\\\\n",
       "\\end{tabular}\n"
      ],
      "text/markdown": [
       "\n",
       "avg_slength | \n",
       "|---|\n",
       "| 5.843333 | \n",
       "\n",
       "\n"
      ],
      "text/plain": [
       "  avg_slength\n",
       "1 5.843333   "
      ]
     },
     "metadata": {},
     "output_type": "display_data"
    }
   ],
   "source": [
    "iris %>%\n",
    "    summarise(avg_slength = mean(Sepal.Length)) %>%\n",
    "    head"
   ]
  },
  {
   "cell_type": "markdown",
   "metadata": {},
   "source": [
    "### Exercise 10\n",
    "- Split the iris data frame by the Sepal.Length, then ask for the same summary statistics as above. HINT: Use group_by()"
   ]
  },
  {
   "cell_type": "code",
   "execution_count": 39,
   "metadata": {},
   "outputs": [
    {
     "data": {
      "text/html": [
       "<table>\n",
       "<thead><tr><th scope=col>Sepal.Length</th><th scope=col>avg_slength</th><th scope=col>min_slength</th><th scope=col>max_slength</th><th scope=col>total</th></tr></thead>\n",
       "<tbody>\n",
       "\t<tr><td>4.3</td><td>4.3</td><td>4.3</td><td>4.3</td><td>1  </td></tr>\n",
       "\t<tr><td>4.4</td><td>4.4</td><td>4.4</td><td>4.4</td><td>3  </td></tr>\n",
       "\t<tr><td>4.5</td><td>4.5</td><td>4.5</td><td>4.5</td><td>1  </td></tr>\n",
       "\t<tr><td>4.6</td><td>4.6</td><td>4.6</td><td>4.6</td><td>4  </td></tr>\n",
       "\t<tr><td>4.7</td><td>4.7</td><td>4.7</td><td>4.7</td><td>2  </td></tr>\n",
       "\t<tr><td>4.8</td><td>4.8</td><td>4.8</td><td>4.8</td><td>5  </td></tr>\n",
       "</tbody>\n",
       "</table>\n"
      ],
      "text/latex": [
       "\\begin{tabular}{r|lllll}\n",
       " Sepal.Length & avg\\_slength & min\\_slength & max\\_slength & total\\\\\n",
       "\\hline\n",
       "\t 4.3 & 4.3 & 4.3 & 4.3 & 1  \\\\\n",
       "\t 4.4 & 4.4 & 4.4 & 4.4 & 3  \\\\\n",
       "\t 4.5 & 4.5 & 4.5 & 4.5 & 1  \\\\\n",
       "\t 4.6 & 4.6 & 4.6 & 4.6 & 4  \\\\\n",
       "\t 4.7 & 4.7 & 4.7 & 4.7 & 2  \\\\\n",
       "\t 4.8 & 4.8 & 4.8 & 4.8 & 5  \\\\\n",
       "\\end{tabular}\n"
      ],
      "text/markdown": [
       "\n",
       "Sepal.Length | avg_slength | min_slength | max_slength | total | \n",
       "|---|---|---|---|---|---|\n",
       "| 4.3 | 4.3 | 4.3 | 4.3 | 1   | \n",
       "| 4.4 | 4.4 | 4.4 | 4.4 | 3   | \n",
       "| 4.5 | 4.5 | 4.5 | 4.5 | 1   | \n",
       "| 4.6 | 4.6 | 4.6 | 4.6 | 4   | \n",
       "| 4.7 | 4.7 | 4.7 | 4.7 | 2   | \n",
       "| 4.8 | 4.8 | 4.8 | 4.8 | 5   | \n",
       "\n",
       "\n"
      ],
      "text/plain": [
       "  Sepal.Length avg_slength min_slength max_slength total\n",
       "1 4.3          4.3         4.3         4.3         1    \n",
       "2 4.4          4.4         4.4         4.4         3    \n",
       "3 4.5          4.5         4.5         4.5         1    \n",
       "4 4.6          4.6         4.6         4.6         4    \n",
       "5 4.7          4.7         4.7         4.7         2    \n",
       "6 4.8          4.8         4.8         4.8         5    "
      ]
     },
     "metadata": {},
     "output_type": "display_data"
    }
   ],
   "source": [
    "iris %>%\n",
    "    group_by(Sepal.Length) %>%\n",
    "    summarise(avg_slength = mean(Sepal.Length),\n",
    "              min_slength = min(Sepal.Length),\n",
    "              max_slength = max(Sepal.Length),\n",
    "              total = n()) %>%\n",
    "head"
   ]
  },
  {
   "cell_type": "code",
   "execution_count": null,
   "metadata": {},
   "outputs": [],
   "source": []
  }
 ],
 "metadata": {
  "kernelspec": {
   "display_name": "R",
   "language": "R",
   "name": "ir"
  },
  "language_info": {
   "codemirror_mode": "r",
   "file_extension": ".r",
   "mimetype": "text/x-r-source",
   "name": "R",
   "pygments_lexer": "r",
   "version": "3.5.0"
  }
 },
 "nbformat": 4,
 "nbformat_minor": 2
}
